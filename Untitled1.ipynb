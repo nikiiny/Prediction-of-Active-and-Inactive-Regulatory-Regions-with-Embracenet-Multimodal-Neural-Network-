{
 "cells": [
  {
   "cell_type": "code",
   "execution_count": 1,
   "id": "3641f1cd",
   "metadata": {},
   "outputs": [],
   "source": [
    "import numpy as np\n",
    "from sklearn.metrics import precision_score\n",
    "y=np.array([1,0,1,1,0])\n",
    "y_=np.array([0,0,1,1,1])"
   ]
  },
  {
   "cell_type": "code",
   "execution_count": 2,
   "id": "8dde9d4c",
   "metadata": {},
   "outputs": [
    {
     "data": {
      "text/plain": [
       "0.6"
      ]
     },
     "execution_count": 2,
     "metadata": {},
     "output_type": "execute_result"
    }
   ],
   "source": [
    "precision_score(y,y_, average='micro')"
   ]
  },
  {
   "cell_type": "code",
   "execution_count": 3,
   "id": "ce9518fe",
   "metadata": {},
   "outputs": [
    {
     "data": {
      "text/plain": [
       "0.5833333333333333"
      ]
     },
     "execution_count": 3,
     "metadata": {},
     "output_type": "execute_result"
    }
   ],
   "source": [
    "precision_score(y,y_, average='macro')"
   ]
  },
  {
   "cell_type": "code",
   "execution_count": 4,
   "id": "02528d6d",
   "metadata": {},
   "outputs": [],
   "source": [
    "# precision = TP/TP+FP"
   ]
  },
  {
   "cell_type": "code",
   "execution_count": 5,
   "id": "227355e0",
   "metadata": {},
   "outputs": [],
   "source": [
    "tp1=2\n",
    "tp2=1\n",
    "tp=tp1+tp2\n",
    "\n",
    "fp1=1\n",
    "fp2=1\n",
    "fp=fp1+fp2"
   ]
  },
  {
   "cell_type": "code",
   "execution_count": 6,
   "id": "81075ebe",
   "metadata": {},
   "outputs": [
    {
     "data": {
      "text/plain": [
       "0.6"
      ]
     },
     "execution_count": 6,
     "metadata": {},
     "output_type": "execute_result"
    }
   ],
   "source": [
    "tp/(tp+fp)"
   ]
  },
  {
   "cell_type": "code",
   "execution_count": 8,
   "id": "cb42f116",
   "metadata": {},
   "outputs": [
    {
     "data": {
      "text/plain": [
       "0.5833333333333333"
      ]
     },
     "execution_count": 8,
     "metadata": {},
     "output_type": "execute_result"
    }
   ],
   "source": [
    "((tp1/(tp1+fp1)) + (tp2/(tp2+fp2)))/2"
   ]
  },
  {
   "cell_type": "code",
   "execution_count": null,
   "id": "9420151a",
   "metadata": {},
   "outputs": [],
   "source": []
  }
 ],
 "metadata": {
  "kernelspec": {
   "display_name": "Python 3",
   "language": "python",
   "name": "python3"
  },
  "language_info": {
   "codemirror_mode": {
    "name": "ipython",
    "version": 3
   },
   "file_extension": ".py",
   "mimetype": "text/x-python",
   "name": "python",
   "nbconvert_exporter": "python",
   "pygments_lexer": "ipython3",
   "version": "3.8.8"
  }
 },
 "nbformat": 4,
 "nbformat_minor": 5
}
