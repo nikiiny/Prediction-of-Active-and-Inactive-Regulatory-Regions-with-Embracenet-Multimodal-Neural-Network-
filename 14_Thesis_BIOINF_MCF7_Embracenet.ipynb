{
 "cells": [
  {
   "cell_type": "markdown",
   "metadata": {
    "id": "zqpqu8UJFySp"
   },
   "source": [
    "## BIOINFORMATICS THESIS: MULTIMODAL NEURAL NETWORK"
   ]
  },
  {
   "cell_type": "markdown",
   "metadata": {},
   "source": [
    "# CELL LINE: MCF7\n",
    "# EMBRACENET"
   ]
  },
  {
   "cell_type": "markdown",
   "metadata": {},
   "source": [
    "da fare \n",
    "- sistema selezione augmentation in embracenet\n",
    "- crea grafici AUPRC reti"
   ]
  },
  {
   "cell_type": "code",
   "execution_count": 3,
   "metadata": {},
   "outputs": [],
   "source": [
    "import pandas as pd \n",
    "import numpy as np\n",
    "import os\n",
    "import torch\n",
    "import torch.nn.functional as F\n",
    "from torch.utils.data import Dataset, DataLoader\n",
    "import torch.nn as nn\n",
    "import torch.optim as optim\n",
    "from collections import defaultdict, OrderedDict\n",
    "import pickle\n",
    "\n",
    "import sqlite3\n",
    "from sqlalchemy import create_engine\n",
    "\n",
    "device = 'cuda' if torch.cuda.is_available() else 'cpu'"
   ]
  },
  {
   "cell_type": "code",
   "execution_count": 4,
   "metadata": {},
   "outputs": [],
   "source": [
    "# create a database to store optuna studies with sqlite backend\n",
    "#engine = create_engine('sqlite:///BIOINF_optuna_tuning.db')"
   ]
  },
  {
   "cell_type": "code",
   "execution_count": 5,
   "metadata": {},
   "outputs": [],
   "source": [
    "from BIOINF_tesi.data_pipe import CELL_LINES, TASKS"
   ]
  },
  {
   "cell_type": "code",
   "execution_count": 6,
   "metadata": {},
   "outputs": [
    {
     "data": {
      "text/plain": [
       "'MCF7'"
      ]
     },
     "execution_count": 6,
     "metadata": {},
     "output_type": "execute_result"
    }
   ],
   "source": [
    "cell_line = CELL_LINES[6]\n",
    "cell_line"
   ]
  },
  {
   "cell_type": "markdown",
   "metadata": {},
   "source": [
    "---"
   ]
  },
  {
   "cell_type": "code",
   "execution_count": 7,
   "metadata": {},
   "outputs": [],
   "source": [
    "from BIOINF_tesi.data_pipe import Build_DataLoader_Pipeline\n",
    "from BIOINF_tesi.models import EmbraceNetMultimodal, ConcatNetMultimodal\n",
    "from BIOINF_tesi.models.utils import Kfold_CV_Multimodal"
   ]
  },
  {
   "cell_type": "raw",
   "metadata": {},
   "source": [
    "def dd():\n",
    "    return defaultdict(dict)\n",
    "    \n",
    "results_dict = defaultdict(dd)"
   ]
  },
  {
   "cell_type": "code",
   "execution_count": 6,
   "metadata": {},
   "outputs": [],
   "source": [
    "with open ('results_dict.pickle', 'rb') as fin:\n",
    "    results_dict = pickle.load(fin)\n",
    "    results_dict = defaultdict(lambda: defaultdict(dict), results_dict)"
   ]
  },
  {
   "cell_type": "markdown",
   "metadata": {},
   "source": [
    "## 1) ACTIVE ENHANCERS vs INACTIVE ENHANCERS"
   ]
  },
  {
   "cell_type": "code",
   "execution_count": 7,
   "metadata": {},
   "outputs": [],
   "source": [
    "task = TASKS[0]"
   ]
  },
  {
   "cell_type": "code",
   "execution_count": 8,
   "metadata": {},
   "outputs": [
    {
     "name": "stdout",
     "output_type": "stream",
     "text": [
      "Data Preprocessing Done!\n"
     ]
    }
   ],
   "source": [
    "pipe_data_load = Build_DataLoader_Pipeline(path_name=f'{task}.pickle')"
   ]
  },
  {
   "cell_type": "markdown",
   "metadata": {},
   "source": [
    "---\n",
    "### EMBRACENET"
   ]
  },
  {
   "cell_type": "code",
   "execution_count": 9,
   "metadata": {},
   "outputs": [],
   "source": [
    "model=EmbraceNetMultimodal"
   ]
  },
  {
   "cell_type": "code",
   "execution_count": 10,
   "metadata": {
    "scrolled": true
   },
   "outputs": [
    {
     "name": "stdout",
     "output_type": "stream",
     "text": [
      ">>> ITERATION N. 1\n",
      "\n",
      "===============> HYPERPARAMETERS TUNING\n"
     ]
    },
    {
     "name": "stderr",
     "output_type": "stream",
     "text": [
      "/Users/Niki/Prediction-of-Active-and-Inactive-Regulatory-Regions-with-Embracenet-Multimodal-Neural-Network-/BIOINF_tesi/models/utils/training_models_multimodal.py:425: ExperimentalWarning: PatientPruner is experimental (supported from v2.8.0). The interface can change in the future.\n",
      "  pruner=optuna.pruners.PatientPruner(optuna.pruners.MedianPruner(), patience=2),\n",
      "\u001b[32m[I 2021-10-27 09:36:52,479]\u001b[0m Using an existing study with name 'MCF7_active_E_vs_inactive_E_EmbraceNetMultimodal_1' instead of creating a new one.\u001b[0m\n",
      "/opt/anaconda3/lib/python3.8/site-packages/optuna/structs.py:18: FutureWarning: `structs` is deprecated. Classes have moved to the following modules. `structs.StudyDirection`->`study.StudyDirection`, `structs.StudySummary`->`study.StudySummary`, `structs.FrozenTrial`->`trial.FrozenTrial`, `structs.TrialState`->`trial.TrialState`, `structs.TrialPruned`->`exceptions.TrialPruned`.\n",
      "  warnings.warn(_message, FutureWarning)\n"
     ]
    },
    {
     "name": "stdout",
     "output_type": "stream",
     "text": [
      "Study statistics: \n",
      "  Number of finished trials:  4\n",
      "  Number of pruned trials:  0\n",
      "  Number of complete trials:  3\n",
      "Best trial:\n",
      "  Value:  0.09434853665749106\n",
      "  Params: \n",
      "    CNN_dropout_l0: 0.3\n",
      "    CNN_dropout_l1: 0.4\n",
      "    CNN_kernel_size_l0: 5\n",
      "    CNN_kernel_size_l1: 11\n",
      "    CNN_n_layers: 2\n",
      "    CNN_out_channels_l0: 16\n",
      "    CNN_out_channels_l1: 64\n",
      "    EMBRACENET_embracement_size: 512\n",
      "    FFNN_dropout_l0: 0.2\n",
      "    FFNN_dropout_l1: 0.0\n",
      "    FFNN_dropout_l2: 0.0\n",
      "    FFNN_n_layers: 3\n",
      "    FFNN_n_units_l0: 32\n",
      "    FFNN_n_units_l1: 16\n",
      "    FFNN_n_units_l2: 4\n",
      "    lr: 0.004089050671066916\n",
      "    n_post_layers: 0\n",
      "    optimizer: Adam\n",
      "    selection_probabilities_FFNN: 0.6791065326284936\n",
      "    weight_decay: 0.0007860223244326917\n",
      "\n",
      "===============> MODEL TESTING\n",
      "AUPRC test score: 0.09574890544423514\n",
      "\n",
      "\n",
      ">>> ITERATION N. 2\n",
      "\n",
      "===============> HYPERPARAMETERS TUNING\n"
     ]
    },
    {
     "name": "stderr",
     "output_type": "stream",
     "text": [
      "/Users/Niki/Prediction-of-Active-and-Inactive-Regulatory-Regions-with-Embracenet-Multimodal-Neural-Network-/BIOINF_tesi/models/utils/training_models_multimodal.py:425: ExperimentalWarning: PatientPruner is experimental (supported from v2.8.0). The interface can change in the future.\n",
      "  pruner=optuna.pruners.PatientPruner(optuna.pruners.MedianPruner(), patience=2),\n",
      "\u001b[32m[I 2021-10-27 09:36:53,353]\u001b[0m Using an existing study with name 'MCF7_active_E_vs_inactive_E_EmbraceNetMultimodal_1_2' instead of creating a new one.\u001b[0m\n"
     ]
    },
    {
     "name": "stdout",
     "output_type": "stream",
     "text": [
      "Study statistics: \n",
      "  Number of finished trials:  3\n",
      "  Number of pruned trials:  0\n",
      "  Number of complete trials:  3\n",
      "Best trial:\n",
      "  Value:  0.0774031690140845\n",
      "  Params: \n",
      "    CNN_dropout_l0: 0.3\n",
      "    CNN_dropout_l1: 0\n",
      "    CNN_kernel_size_l0: 11\n",
      "    CNN_kernel_size_l1: 11\n",
      "    CNN_n_layers: 2\n",
      "    CNN_out_channels_l0: 16\n",
      "    CNN_out_channels_l1: 32\n",
      "    EMBRACENET_dropout_l0: 0.3\n",
      "    EMBRACENET_dropout_l1: 0.5\n",
      "    EMBRACENET_embracement_size: 512\n",
      "    EMBRACENET_n_units_l0: 64\n",
      "    EMBRACENET_n_units_l1: 64\n",
      "    FFNN_dropout_l0: 0.2\n",
      "    FFNN_dropout_l1: 0.4\n",
      "    FFNN_dropout_l2: 0.4\n",
      "    FFNN_n_layers: 3\n",
      "    FFNN_n_units_l0: 32\n",
      "    FFNN_n_units_l1: 64\n",
      "    FFNN_n_units_l2: 64\n",
      "    lr: 0.0071233507627084195\n",
      "    n_post_layers: 2\n",
      "    optimizer: RMSprop\n",
      "    selection_probabilities_FFNN: 0.3613765532900327\n",
      "    weight_decay: 0.0003919066414456093\n",
      "\n",
      "===============> MODEL TESTING\n",
      "AUPRC test score: 0.07839374379344591\n",
      "\n",
      "\n",
      ">>> ITERATION N. 3\n",
      "\n",
      "===============> HYPERPARAMETERS TUNING\n"
     ]
    },
    {
     "name": "stderr",
     "output_type": "stream",
     "text": [
      "/Users/Niki/Prediction-of-Active-and-Inactive-Regulatory-Regions-with-Embracenet-Multimodal-Neural-Network-/BIOINF_tesi/models/utils/training_models_multimodal.py:425: ExperimentalWarning: PatientPruner is experimental (supported from v2.8.0). The interface can change in the future.\n",
      "  pruner=optuna.pruners.PatientPruner(optuna.pruners.MedianPruner(), patience=2),\n",
      "\u001b[32m[I 2021-10-27 09:36:54,008]\u001b[0m Using an existing study with name 'MCF7_active_E_vs_inactive_E_EmbraceNetMultimodal_1_2_3' instead of creating a new one.\u001b[0m\n"
     ]
    },
    {
     "name": "stdout",
     "output_type": "stream",
     "text": [
      "Study statistics: \n",
      "  Number of finished trials:  3\n",
      "  Number of pruned trials:  0\n",
      "  Number of complete trials:  3\n",
      "Best trial:\n",
      "  Value:  0.08105633802816901\n",
      "  Params: \n",
      "    CNN_dropout_l0: 0.3\n",
      "    CNN_kernel_size_l0: 11\n",
      "    CNN_n_layers: 1\n",
      "    CNN_out_channels_l0: 32\n",
      "    EMBRACENET_dropout_l0: 0.2\n",
      "    EMBRACENET_embracement_size: 1024\n",
      "    EMBRACENET_n_units_l0: 32\n",
      "    FFNN_dropout_l0: 0.3\n",
      "    FFNN_dropout_l1: 0.4\n",
      "    FFNN_dropout_l2: 0.4\n",
      "    FFNN_n_layers: 3\n",
      "    FFNN_n_units_l0: 64\n",
      "    FFNN_n_units_l1: 64\n",
      "    FFNN_n_units_l2: 32\n",
      "    lr: 0.002608532920863357\n",
      "    n_post_layers: 1\n",
      "    optimizer: RMSprop\n",
      "    selection_probabilities_FFNN: 0.839844761725886\n",
      "    weight_decay: 0.03448057488348906\n",
      "\n",
      "===============> MODEL TESTING\n",
      "AUPRC test score: 0.07734111221449853\n",
      "\n",
      "\n",
      "\n",
      "3-FOLD CROSS-VALIDATION AUPRC TEST SCORE: 0.08383\n"
     ]
    }
   ],
   "source": [
    "# IMBALANCED\n",
    "kf_CV = Kfold_CV_Multimodal()\n",
    "\n",
    "kf_CV(build_dataloader_pipeline = pipe_data_load,\n",
    "                num_epochs = 100,\n",
    "                n_folds=3,\n",
    "                cell_line=cell_line,\n",
    "                augmentation=False,\n",
    "                model = model,\n",
    "                device = device,\n",
    "                task=task,\n",
    "                sampler = 'TPE',\n",
    "                study_name = f'{cell_line}_{task}_{model.__name__}',\n",
    "                test_model_path = f'{cell_line}_{task}_{model.__name__}_TEST')"
   ]
  },
  {
   "cell_type": "code",
   "execution_count": 11,
   "metadata": {},
   "outputs": [],
   "source": [
    "results_dict[cell_line][task][model.__name__] = kf_CV.scores_dict"
   ]
  },
  {
   "cell_type": "code",
   "execution_count": 12,
   "metadata": {},
   "outputs": [],
   "source": [
    "with open ('results_dict.pickle', 'wb') as fout:\n",
    "    pickle.dump(OrderedDict(results_dict), fout)"
   ]
  },
  {
   "cell_type": "markdown",
   "metadata": {},
   "source": [
    "### CONCATNET"
   ]
  },
  {
   "cell_type": "code",
   "execution_count": 9,
   "metadata": {},
   "outputs": [],
   "source": [
    "model=ConcatNetMultimodal"
   ]
  },
  {
   "cell_type": "code",
   "execution_count": 10,
   "metadata": {
    "scrolled": true
   },
   "outputs": [
    {
     "name": "stdout",
     "output_type": "stream",
     "text": [
      ">>> ITERATION N. 1\n",
      "\n",
      "===============> HYPERPARAMETERS TUNING\n"
     ]
    },
    {
     "name": "stderr",
     "output_type": "stream",
     "text": [
      "/Users/Niki/Prediction-of-Active-and-Inactive-Regulatory-Regions-with-Embracenet-Multimodal-Neural-Network-/BIOINF_tesi/models/utils/training_models_multimodal.py:425: ExperimentalWarning: PatientPruner is experimental (supported from v2.8.0). The interface can change in the future.\n",
      "  pruner=optuna.pruners.PatientPruner(optuna.pruners.MedianPruner(), patience=2),\n",
      "\u001b[32m[I 2021-10-30 10:26:02,766]\u001b[0m Using an existing study with name 'MCF7_active_E_vs_inactive_E_ConcatNetMultimodal_1' instead of creating a new one.\u001b[0m\n",
      "/opt/anaconda3/lib/python3.8/site-packages/optuna/structs.py:18: FutureWarning: `structs` is deprecated. Classes have moved to the following modules. `structs.StudyDirection`->`study.StudyDirection`, `structs.StudySummary`->`study.StudySummary`, `structs.FrozenTrial`->`trial.FrozenTrial`, `structs.TrialState`->`trial.TrialState`, `structs.TrialPruned`->`exceptions.TrialPruned`.\n",
      "  warnings.warn(_message, FutureWarning)\n"
     ]
    },
    {
     "name": "stdout",
     "output_type": "stream",
     "text": [
      "Study statistics: \n",
      "  Number of finished trials:  3\n",
      "  Number of pruned trials:  0\n",
      "  Number of complete trials:  3\n",
      "Best trial:\n",
      "  Value:  0.09766894277864656\n",
      "  Params: \n",
      "    CNN_dropout_l0: 0\n",
      "    CNN_dropout_l1: 0.4\n",
      "    CNN_dropout_l2: 0.5\n",
      "    CNN_kernel_size_l0: 15\n",
      "    CNN_kernel_size_l1: 11\n",
      "    CNN_kernel_size_l2: 15\n",
      "    CNN_n_layers: 3\n",
      "    CNN_out_channels_l0: 16\n",
      "    CNN_out_channels_l1: 32\n",
      "    CNN_out_channels_l2: 64\n",
      "    CONCATNET_dropout_l0: 0.3\n",
      "    CONCATNET_dropout_l1: 0.2\n",
      "    CONCATNET_dropout_l2: 0.3\n",
      "    CONCATNET_n_post_layers: 3\n",
      "    CONCATNET_n_units_l0: 512\n",
      "    CONCATNET_n_units_l1: 32\n",
      "    CONCATNET_n_units_l2: 256\n",
      "    FFNN_dropout_l0: 0.4\n",
      "    FFNN_dropout_l1: 0.2\n",
      "    FFNN_n_layers: 2\n",
      "    FFNN_n_units_l0: 256\n",
      "    FFNN_n_units_l1: 16\n",
      "    lr: 0.0010658791561587997\n",
      "    optimizer: RMSprop\n",
      "    weight_decay: 0.022689126143489738\n",
      "\n",
      "===============> MODEL TESTING\n",
      "AUPRC test score: 0.07716732869910625\n",
      "\n",
      "\n",
      ">>> ITERATION N. 2\n",
      "\n",
      "===============> HYPERPARAMETERS TUNING\n"
     ]
    },
    {
     "name": "stderr",
     "output_type": "stream",
     "text": [
      "/Users/Niki/Prediction-of-Active-and-Inactive-Regulatory-Regions-with-Embracenet-Multimodal-Neural-Network-/BIOINF_tesi/models/utils/training_models_multimodal.py:425: ExperimentalWarning: PatientPruner is experimental (supported from v2.8.0). The interface can change in the future.\n",
      "  pruner=optuna.pruners.PatientPruner(optuna.pruners.MedianPruner(), patience=2),\n",
      "\u001b[32m[I 2021-10-30 10:26:03,819]\u001b[0m Using an existing study with name 'MCF7_active_E_vs_inactive_E_ConcatNetMultimodal_2' instead of creating a new one.\u001b[0m\n"
     ]
    },
    {
     "name": "stdout",
     "output_type": "stream",
     "text": [
      "Study statistics: \n",
      "  Number of finished trials:  3\n",
      "  Number of pruned trials:  0\n",
      "  Number of complete trials:  3\n",
      "Best trial:\n",
      "  Value:  0.09717625999089938\n",
      "  Params: \n",
      "    CNN_dropout_l0: 0.3\n",
      "    CNN_dropout_l1: 0\n",
      "    CNN_dropout_l2: 0\n",
      "    CNN_dropout_l3: 0.5\n",
      "    CNN_kernel_size_l0: 11\n",
      "    CNN_kernel_size_l1: 15\n",
      "    CNN_kernel_size_l2: 5\n",
      "    CNN_kernel_size_l3: 11\n",
      "    CNN_n_layers: 4\n",
      "    CNN_out_channels_l0: 64\n",
      "    CNN_out_channels_l1: 96\n",
      "    CNN_out_channels_l2: 256\n",
      "    CNN_out_channels_l3: 128\n",
      "    CONCATNET_dropout_l0: 0.3\n",
      "    CONCATNET_dropout_l1: 0.3\n",
      "    CONCATNET_dropout_l2: 0.0\n",
      "    CONCATNET_n_post_layers: 3\n",
      "    CONCATNET_n_units_l0: 512\n",
      "    CONCATNET_n_units_l1: 128\n",
      "    CONCATNET_n_units_l2: 64\n",
      "    FFNN_dropout_l0: 0.4\n",
      "    FFNN_n_layers: 1\n",
      "    FFNN_n_units_l0: 32\n",
      "    lr: 0.00029569087037984224\n",
      "    optimizer: Nadam\n",
      "    weight_decay: 0.015010433430131143\n",
      "\n",
      "===============> MODEL TESTING\n",
      "AUPRC test score: 0.09534446686459504\n",
      "\n",
      "\n",
      ">>> ITERATION N. 3\n",
      "\n",
      "===============> HYPERPARAMETERS TUNING\n"
     ]
    },
    {
     "name": "stderr",
     "output_type": "stream",
     "text": [
      "/Users/Niki/Prediction-of-Active-and-Inactive-Regulatory-Regions-with-Embracenet-Multimodal-Neural-Network-/BIOINF_tesi/models/utils/training_models_multimodal.py:425: ExperimentalWarning: PatientPruner is experimental (supported from v2.8.0). The interface can change in the future.\n",
      "  pruner=optuna.pruners.PatientPruner(optuna.pruners.MedianPruner(), patience=2),\n",
      "\u001b[32m[I 2021-10-30 10:26:04,727]\u001b[0m Using an existing study with name 'MCF7_active_E_vs_inactive_E_ConcatNetMultimodal_3' instead of creating a new one.\u001b[0m\n"
     ]
    },
    {
     "name": "stdout",
     "output_type": "stream",
     "text": [
      "Study statistics: \n",
      "  Number of finished trials:  3\n",
      "  Number of pruned trials:  0\n",
      "  Number of complete trials:  3\n",
      "Best trial:\n",
      "  Value:  0.09350232676324842\n",
      "  Params: \n",
      "    CNN_dropout_l0: 0.3\n",
      "    CNN_dropout_l1: 0.5\n",
      "    CNN_kernel_size_l0: 5\n",
      "    CNN_kernel_size_l1: 15\n",
      "    CNN_n_layers: 2\n",
      "    CNN_out_channels_l0: 16\n",
      "    CNN_out_channels_l1: 96\n",
      "    CONCATNET_dropout_l0: 0.0\n",
      "    CONCATNET_n_post_layers: 1\n",
      "    CONCATNET_n_units_l0: 512\n",
      "    FFNN_dropout_l0: 0.3\n",
      "    FFNN_dropout_l1: 0.2\n",
      "    FFNN_n_layers: 2\n",
      "    FFNN_n_units_l0: 32\n",
      "    FFNN_n_units_l1: 128\n",
      "    lr: 0.03945502219845073\n",
      "    optimizer: Adam\n",
      "    weight_decay: 0.0007793961219007961\n",
      "\n",
      "===============> MODEL TESTING\n",
      "AUPRC test score: 0.07718470705064548\n",
      "\n",
      "\n",
      "\n",
      "3-FOLD CROSS-VALIDATION AUPRC TEST SCORE: 0.08323\n"
     ]
    }
   ],
   "source": [
    "# IMBALANCED\n",
    "kf_CV = Kfold_CV_Multimodal()\n",
    "\n",
    "kf_CV(build_dataloader_pipeline = pipe_data_load,\n",
    "                num_epochs = 100,\n",
    "                n_folds=3,\n",
    "                cell_line=cell_line,\n",
    "                augmentation=False,\n",
    "                model = model,\n",
    "                device = device,\n",
    "                task=task,\n",
    "                sampler = 'TPE',\n",
    "                study_name = f'{cell_line}_{task}_{model.__name__}',\n",
    "                test_model_path = f'{cell_line}_{task}_{model.__name__}_TEST')"
   ]
  },
  {
   "cell_type": "code",
   "execution_count": 11,
   "metadata": {},
   "outputs": [],
   "source": [
    "results_dict[cell_line][task][model.__name__] = kf_CV.scores_dict"
   ]
  },
  {
   "cell_type": "code",
   "execution_count": 12,
   "metadata": {},
   "outputs": [],
   "source": [
    "with open ('results_dict.pickle', 'wb') as fout:\n",
    "    pickle.dump(OrderedDict(results_dict), fout)"
   ]
  },
  {
   "cell_type": "markdown",
   "metadata": {},
   "source": [
    "---\n",
    "## AUGMENTATION"
   ]
  },
  {
   "cell_type": "markdown",
   "metadata": {},
   "source": [
    "### EMBRACENET"
   ]
  },
  {
   "cell_type": "code",
   "execution_count": null,
   "metadata": {},
   "outputs": [],
   "source": [
    "model=EmbraceNetMultimodal"
   ]
  },
  {
   "cell_type": "code",
   "execution_count": null,
   "metadata": {},
   "outputs": [],
   "source": [
    "kf_CV = Kfold_CV_Multimodal()\n",
    "\n",
    "kf_CV(build_dataloader_pipeline = pipe_data_load,\n",
    "                num_epochs = 100,\n",
    "                n_folds=3,\n",
    "                cell_line=cell_line,\n",
    "                augmentation=True,\n",
    "                model = model,\n",
    "                device = device,\n",
    "                task=task,\n",
    "                sampler = 'TPE',\n",
    "                study_name = f'{cell_line}_{task}_{model.__name__}',\n",
    "                test_model_path = f'{cell_line}_{task}_{model.__name__}_TEST')"
   ]
  },
  {
   "cell_type": "code",
   "execution_count": null,
   "metadata": {},
   "outputs": [],
   "source": [
    "results_dict[cell_line][task][f'{model.__name__}_augm'] = kf_CV.scores_dict"
   ]
  },
  {
   "cell_type": "code",
   "execution_count": null,
   "metadata": {},
   "outputs": [],
   "source": [
    "with open ('results_dict.pickle', 'wb') as fout:\n",
    "    pickle.dump(OrderedDict(results_dict), fout)"
   ]
  },
  {
   "cell_type": "markdown",
   "metadata": {},
   "source": [
    "---\n",
    "---"
   ]
  },
  {
   "cell_type": "markdown",
   "metadata": {},
   "source": [
    "## 2) ACTIVE PROMOTERS vs INACTIVE PROMOTERS"
   ]
  },
  {
   "cell_type": "code",
   "execution_count": 13,
   "metadata": {},
   "outputs": [
    {
     "data": {
      "text/plain": [
       "'active_P_vs_inactive_P'"
      ]
     },
     "execution_count": 13,
     "metadata": {},
     "output_type": "execute_result"
    }
   ],
   "source": [
    "task = TASKS[1]\n",
    "task"
   ]
  },
  {
   "cell_type": "code",
   "execution_count": 14,
   "metadata": {},
   "outputs": [
    {
     "name": "stdout",
     "output_type": "stream",
     "text": [
      "Data Preprocessing Done!\n"
     ]
    }
   ],
   "source": [
    "pipe_data_load = Build_DataLoader_Pipeline(path_name=f'{task}.pickle')"
   ]
  },
  {
   "cell_type": "markdown",
   "metadata": {},
   "source": [
    "---\n",
    "### EMBRACENET"
   ]
  },
  {
   "cell_type": "code",
   "execution_count": 15,
   "metadata": {},
   "outputs": [],
   "source": [
    "model=EmbraceNetMultimodal"
   ]
  },
  {
   "cell_type": "code",
   "execution_count": 16,
   "metadata": {
    "scrolled": true
   },
   "outputs": [
    {
     "name": "stderr",
     "output_type": "stream",
     "text": [
      "/Users/Niki/Prediction-of-Active-and-Inactive-Regulatory-Regions-with-Embracenet-Multimodal-Neural-Network-/BIOINF_tesi/models/utils/training_models_multimodal.py:425: ExperimentalWarning: PatientPruner is experimental (supported from v2.8.0). The interface can change in the future.\n",
      "  pruner=optuna.pruners.PatientPruner(optuna.pruners.MedianPruner(), patience=2),\n",
      "\u001b[32m[I 2021-10-27 09:36:55,268]\u001b[0m Using an existing study with name 'MCF7_active_P_vs_inactive_P_EmbraceNetMultimodal_1' instead of creating a new one.\u001b[0m\n"
     ]
    },
    {
     "name": "stdout",
     "output_type": "stream",
     "text": [
      ">>> ITERATION N. 1\n",
      "\n",
      "===============> HYPERPARAMETERS TUNING\n",
      "Study statistics: \n",
      "  Number of finished trials:  3\n",
      "  Number of pruned trials:  0\n",
      "  Number of complete trials:  3\n",
      "Best trial:\n",
      "  Value:  0.20198178600231786\n",
      "  Params: \n",
      "    CNN_dropout_l0: 0.2\n",
      "    CNN_dropout_l1: 0.5\n",
      "    CNN_dropout_l2: 0.4\n",
      "    CNN_kernel_size_l0: 11\n",
      "    CNN_kernel_size_l1: 5\n",
      "    CNN_kernel_size_l2: 5\n",
      "    CNN_n_layers: 3\n",
      "    CNN_out_channels_l0: 64\n",
      "    CNN_out_channels_l1: 64\n",
      "    CNN_out_channels_l2: 128\n",
      "    EMBRACENET_dropout_l0: 0.5\n",
      "    EMBRACENET_embracement_size: 768\n",
      "    EMBRACENET_n_units_l0: 512\n",
      "    FFNN_dropout_l0: 0.2\n",
      "    FFNN_dropout_l1: 0.3\n",
      "    FFNN_n_layers: 2\n",
      "    FFNN_n_units_l0: 256\n",
      "    FFNN_n_units_l1: 16\n",
      "    lr: 0.0002545191884939714\n",
      "    n_post_layers: 1\n",
      "    optimizer: RMSprop\n",
      "    selection_probabilities_FFNN: 0.5232844540828443\n",
      "    weight_decay: 0.0221257050615519\n",
      "\n",
      "===============> MODEL TESTING\n",
      "AUPRC test score: 0.2355084534804423\n",
      "\n",
      "\n",
      ">>> ITERATION N. 2\n",
      "\n",
      "===============> HYPERPARAMETERS TUNING\n"
     ]
    },
    {
     "name": "stderr",
     "output_type": "stream",
     "text": [
      "/Users/Niki/Prediction-of-Active-and-Inactive-Regulatory-Regions-with-Embracenet-Multimodal-Neural-Network-/BIOINF_tesi/models/utils/training_models_multimodal.py:425: ExperimentalWarning: PatientPruner is experimental (supported from v2.8.0). The interface can change in the future.\n",
      "  pruner=optuna.pruners.PatientPruner(optuna.pruners.MedianPruner(), patience=2),\n",
      "\u001b[32m[I 2021-10-27 09:36:55,537]\u001b[0m Using an existing study with name 'MCF7_active_P_vs_inactive_P_EmbraceNetMultimodal_1_2' instead of creating a new one.\u001b[0m\n"
     ]
    },
    {
     "name": "stdout",
     "output_type": "stream",
     "text": [
      "Study statistics: \n",
      "  Number of finished trials:  3\n",
      "  Number of pruned trials:  0\n",
      "  Number of complete trials:  3\n",
      "Best trial:\n",
      "  Value:  0.298344765944237\n",
      "  Params: \n",
      "    CNN_dropout_l0: 0.4\n",
      "    CNN_kernel_size_l0: 11\n",
      "    CNN_n_layers: 1\n",
      "    CNN_out_channels_l0: 16\n",
      "    EMBRACENET_embracement_size: 512\n",
      "    FFNN_dropout_l0: 0.4\n",
      "    FFNN_dropout_l1: 0.3\n",
      "    FFNN_dropout_l2: 0.5\n",
      "    FFNN_dropout_l3: 0.0\n",
      "    FFNN_n_layers: 4\n",
      "    FFNN_n_units_l0: 64\n",
      "    FFNN_n_units_l1: 16\n",
      "    FFNN_n_units_l2: 4\n",
      "    FFNN_n_units_l3: 32\n",
      "    lr: 0.00015393284088697948\n",
      "    n_post_layers: 0\n",
      "    optimizer: Adam\n",
      "    selection_probabilities_FFNN: 0.7571263251184237\n",
      "    weight_decay: 0.00011428805411468623\n",
      "\n",
      "===============> MODEL TESTING\n"
     ]
    },
    {
     "name": "stderr",
     "output_type": "stream",
     "text": [
      "/Users/Niki/Prediction-of-Active-and-Inactive-Regulatory-Regions-with-Embracenet-Multimodal-Neural-Network-/BIOINF_tesi/models/utils/training_models_multimodal.py:425: ExperimentalWarning: PatientPruner is experimental (supported from v2.8.0). The interface can change in the future.\n",
      "  pruner=optuna.pruners.PatientPruner(optuna.pruners.MedianPruner(), patience=2),\n",
      "\u001b[32m[I 2021-10-27 09:36:55,761]\u001b[0m Using an existing study with name 'MCF7_active_P_vs_inactive_P_EmbraceNetMultimodal_1_2_3' instead of creating a new one.\u001b[0m\n"
     ]
    },
    {
     "name": "stdout",
     "output_type": "stream",
     "text": [
      "AUPRC test score: 0.31268498652040305\n",
      "\n",
      "\n",
      ">>> ITERATION N. 3\n",
      "\n",
      "===============> HYPERPARAMETERS TUNING\n",
      "Study statistics: \n",
      "  Number of finished trials:  3\n",
      "  Number of pruned trials:  0\n",
      "  Number of complete trials:  3\n",
      "Best trial:\n",
      "  Value:  0.2219361517354221\n",
      "  Params: \n",
      "    CNN_dropout_l0: 0.2\n",
      "    CNN_kernel_size_l0: 15\n",
      "    CNN_n_layers: 1\n",
      "    CNN_out_channels_l0: 64\n",
      "    EMBRACENET_dropout_l0: 0.5\n",
      "    EMBRACENET_dropout_l1: 0.3\n",
      "    EMBRACENET_embracement_size: 512\n",
      "    EMBRACENET_n_units_l0: 256\n",
      "    EMBRACENET_n_units_l1: 32\n",
      "    FFNN_dropout_l0: 0.2\n",
      "    FFNN_dropout_l1: 0.0\n",
      "    FFNN_dropout_l2: 0.4\n",
      "    FFNN_n_layers: 3\n",
      "    FFNN_n_units_l0: 128\n",
      "    FFNN_n_units_l1: 64\n",
      "    FFNN_n_units_l2: 32\n",
      "    lr: 2.359964436448749e-05\n",
      "    n_post_layers: 2\n",
      "    optimizer: RMSprop\n",
      "    selection_probabilities_FFNN: 0.6660324585640311\n",
      "    weight_decay: 0.001994172395671524\n",
      "\n",
      "===============> MODEL TESTING\n",
      "AUPRC test score: 0.22447310215312713\n",
      "\n",
      "\n",
      "\n",
      "3-FOLD CROSS-VALIDATION AUPRC TEST SCORE: 0.25756\n"
     ]
    }
   ],
   "source": [
    "kf_CV = Kfold_CV_Multimodal()\n",
    "\n",
    "kf_CV(build_dataloader_pipeline = pipe_data_load,\n",
    "                num_epochs = 100,\n",
    "                n_folds=3,\n",
    "                cell_line=cell_line,\n",
    "                augmentation=False,\n",
    "                model = model,\n",
    "                device = device,\n",
    "                task=task,\n",
    "                sampler = 'TPE',\n",
    "                study_name = f'{cell_line}_{task}_{model.__name__}',\n",
    "                test_model_path = f'{cell_line}_{task}_{model.__name__}_TEST')"
   ]
  },
  {
   "cell_type": "code",
   "execution_count": 17,
   "metadata": {},
   "outputs": [],
   "source": [
    "results_dict[cell_line][task][model.__name__] = kf_CV.scores_dict"
   ]
  },
  {
   "cell_type": "code",
   "execution_count": 18,
   "metadata": {},
   "outputs": [],
   "source": [
    "with open ('results_dict.pickle', 'wb') as fout:\n",
    "    pickle.dump(OrderedDict(results_dict), fout)"
   ]
  },
  {
   "cell_type": "markdown",
   "metadata": {},
   "source": [
    "### CONCATNET"
   ]
  },
  {
   "cell_type": "code",
   "execution_count": 15,
   "metadata": {},
   "outputs": [],
   "source": [
    "model=ConcatNetMultimodal"
   ]
  },
  {
   "cell_type": "code",
   "execution_count": 16,
   "metadata": {
    "scrolled": true
   },
   "outputs": [
    {
     "name": "stdout",
     "output_type": "stream",
     "text": [
      ">>> ITERATION N. 1\n",
      "\n",
      "===============> HYPERPARAMETERS TUNING\n"
     ]
    },
    {
     "name": "stderr",
     "output_type": "stream",
     "text": [
      "/Users/Niki/Prediction-of-Active-and-Inactive-Regulatory-Regions-with-Embracenet-Multimodal-Neural-Network-/BIOINF_tesi/models/utils/training_models_multimodal.py:425: ExperimentalWarning: PatientPruner is experimental (supported from v2.8.0). The interface can change in the future.\n",
      "  pruner=optuna.pruners.PatientPruner(optuna.pruners.MedianPruner(), patience=2),\n",
      "\u001b[32m[I 2021-10-30 10:26:11,413]\u001b[0m Using an existing study with name 'MCF7_active_P_vs_inactive_P_ConcatNetMultimodal_1' instead of creating a new one.\u001b[0m\n"
     ]
    },
    {
     "name": "stdout",
     "output_type": "stream",
     "text": [
      "Study statistics: \n",
      "  Number of finished trials:  3\n",
      "  Number of pruned trials:  0\n",
      "  Number of complete trials:  3\n",
      "Best trial:\n",
      "  Value:  0.28465026022909273\n",
      "  Params: \n",
      "    CNN_dropout_l0: 0\n",
      "    CNN_dropout_l1: 0.4\n",
      "    CNN_dropout_l2: 0.5\n",
      "    CNN_dropout_l3: 0.5\n",
      "    CNN_kernel_size_l0: 5\n",
      "    CNN_kernel_size_l1: 11\n",
      "    CNN_kernel_size_l2: 11\n",
      "    CNN_kernel_size_l3: 5\n",
      "    CNN_n_layers: 4\n",
      "    CNN_out_channels_l0: 32\n",
      "    CNN_out_channels_l1: 64\n",
      "    CNN_out_channels_l2: 128\n",
      "    CNN_out_channels_l3: 512\n",
      "    CONCATNET_dropout_l0: 0.5\n",
      "    CONCATNET_dropout_l1: 0.0\n",
      "    CONCATNET_dropout_l2: 0.2\n",
      "    CONCATNET_n_post_layers: 3\n",
      "    CONCATNET_n_units_l0: 1024\n",
      "    CONCATNET_n_units_l1: 256\n",
      "    CONCATNET_n_units_l2: 16\n",
      "    FFNN_dropout_l0: 0.4\n",
      "    FFNN_dropout_l1: 0.3\n",
      "    FFNN_n_layers: 2\n",
      "    FFNN_n_units_l0: 128\n",
      "    FFNN_n_units_l1: 64\n",
      "    lr: 4.032822769153714e-05\n",
      "    optimizer: Adam\n",
      "    weight_decay: 0.000574624089263848\n",
      "\n",
      "===============> MODEL TESTING\n",
      "AUPRC test score: 0.2123646315769665\n",
      "\n",
      "\n",
      ">>> ITERATION N. 2\n",
      "\n",
      "===============> HYPERPARAMETERS TUNING\n"
     ]
    },
    {
     "name": "stderr",
     "output_type": "stream",
     "text": [
      "/Users/Niki/Prediction-of-Active-and-Inactive-Regulatory-Regions-with-Embracenet-Multimodal-Neural-Network-/BIOINF_tesi/models/utils/training_models_multimodal.py:425: ExperimentalWarning: PatientPruner is experimental (supported from v2.8.0). The interface can change in the future.\n",
      "  pruner=optuna.pruners.PatientPruner(optuna.pruners.MedianPruner(), patience=2),\n",
      "\u001b[32m[I 2021-10-30 10:26:12,017]\u001b[0m Using an existing study with name 'MCF7_active_P_vs_inactive_P_ConcatNetMultimodal_2' instead of creating a new one.\u001b[0m\n"
     ]
    },
    {
     "name": "stdout",
     "output_type": "stream",
     "text": [
      "Study statistics: \n",
      "  Number of finished trials:  3\n",
      "  Number of pruned trials:  0\n",
      "  Number of complete trials:  3\n",
      "Best trial:\n",
      "  Value:  0.23623703168936633\n",
      "  Params: \n",
      "    CNN_dropout_l0: 0.3\n",
      "    CNN_kernel_size_l0: 11\n",
      "    CNN_n_layers: 1\n",
      "    CNN_out_channels_l0: 32\n",
      "    CONCATNET_dropout_l0: 0.5\n",
      "    CONCATNET_n_post_layers: 1\n",
      "    CONCATNET_n_units_l0: 768\n",
      "    FFNN_dropout_l0: 0.3\n",
      "    FFNN_dropout_l1: 0.0\n",
      "    FFNN_n_layers: 2\n",
      "    FFNN_n_units_l0: 256\n",
      "    FFNN_n_units_l1: 32\n",
      "    lr: 3.3636433007889454e-05\n",
      "    optimizer: Adam\n",
      "    weight_decay: 0.04045855423689131\n",
      "\n",
      "===============> MODEL TESTING\n",
      "AUPRC test score: 0.2283304521265439\n",
      "\n",
      "\n"
     ]
    },
    {
     "name": "stderr",
     "output_type": "stream",
     "text": [
      "/Users/Niki/Prediction-of-Active-and-Inactive-Regulatory-Regions-with-Embracenet-Multimodal-Neural-Network-/BIOINF_tesi/models/utils/training_models_multimodal.py:425: ExperimentalWarning: PatientPruner is experimental (supported from v2.8.0). The interface can change in the future.\n",
      "  pruner=optuna.pruners.PatientPruner(optuna.pruners.MedianPruner(), patience=2),\n",
      "\u001b[32m[I 2021-10-30 10:26:12,511]\u001b[0m Using an existing study with name 'MCF7_active_P_vs_inactive_P_ConcatNetMultimodal_3' instead of creating a new one.\u001b[0m\n"
     ]
    },
    {
     "name": "stdout",
     "output_type": "stream",
     "text": [
      ">>> ITERATION N. 3\n",
      "\n",
      "===============> HYPERPARAMETERS TUNING\n",
      "Study statistics: \n",
      "  Number of finished trials:  3\n",
      "  Number of pruned trials:  0\n",
      "  Number of complete trials:  3\n",
      "Best trial:\n",
      "  Value:  0.28206112430814745\n",
      "  Params: \n",
      "    CNN_dropout_l0: 0.3\n",
      "    CNN_kernel_size_l0: 11\n",
      "    CNN_n_layers: 1\n",
      "    CNN_out_channels_l0: 32\n",
      "    CONCATNET_dropout_l0: 0.3\n",
      "    CONCATNET_dropout_l1: 0.2\n",
      "    CONCATNET_n_post_layers: 2\n",
      "    CONCATNET_n_units_l0: 1024\n",
      "    CONCATNET_n_units_l1: 32\n",
      "    FFNN_dropout_l0: 0.4\n",
      "    FFNN_dropout_l1: 0.0\n",
      "    FFNN_n_layers: 2\n",
      "    FFNN_n_units_l0: 128\n",
      "    FFNN_n_units_l1: 16\n",
      "    lr: 1.9889326606508693e-05\n",
      "    optimizer: RMSprop\n",
      "    weight_decay: 0.0012659782857404156\n",
      "\n",
      "===============> MODEL TESTING\n",
      "AUPRC test score: 0.31051192528627625\n",
      "\n",
      "\n",
      "\n",
      "3-FOLD CROSS-VALIDATION AUPRC TEST SCORE: 0.2504\n"
     ]
    }
   ],
   "source": [
    "kf_CV = Kfold_CV_Multimodal()\n",
    "\n",
    "kf_CV(build_dataloader_pipeline = pipe_data_load,\n",
    "                num_epochs = 100,\n",
    "                n_folds=3,\n",
    "                cell_line=cell_line,\n",
    "                augmentation=False,\n",
    "                model = model,\n",
    "                device = device,\n",
    "                task=task,\n",
    "                sampler = 'TPE',\n",
    "                study_name = f'{cell_line}_{task}_{model.__name__}',\n",
    "                test_model_path = f'{cell_line}_{task}_{model.__name__}_TEST')"
   ]
  },
  {
   "cell_type": "code",
   "execution_count": 17,
   "metadata": {},
   "outputs": [],
   "source": [
    "results_dict[cell_line][task][model.__name__] = kf_CV.scores_dict"
   ]
  },
  {
   "cell_type": "code",
   "execution_count": 18,
   "metadata": {},
   "outputs": [],
   "source": [
    "with open ('results_dict.pickle', 'wb') as fout:\n",
    "    pickle.dump(OrderedDict(results_dict), fout)"
   ]
  },
  {
   "cell_type": "markdown",
   "metadata": {},
   "source": [
    "---\n",
    "## AUGMENTATION"
   ]
  },
  {
   "cell_type": "markdown",
   "metadata": {},
   "source": [
    "### EMBRACENET"
   ]
  },
  {
   "cell_type": "code",
   "execution_count": null,
   "metadata": {},
   "outputs": [],
   "source": [
    "model=EmbraceNetMultimodal"
   ]
  },
  {
   "cell_type": "code",
   "execution_count": null,
   "metadata": {},
   "outputs": [],
   "source": [
    "kf_CV = Kfold_CV_Multimodal()\n",
    "\n",
    "kf_CV(build_dataloader_pipeline = pipe_data_load,\n",
    "                num_epochs = 100,\n",
    "                n_folds=3,\n",
    "                cell_line=cell_line,\n",
    "                augmentation=True,\n",
    "                model = model,\n",
    "                device = device,\n",
    "                task=task,\n",
    "                sampler = 'TPE',\n",
    "                study_name = f'{cell_line}_{task}_{model.__name__}',\n",
    "                test_model_path = f'{cell_line}_{task}_{model.__name__}_TEST')"
   ]
  },
  {
   "cell_type": "code",
   "execution_count": null,
   "metadata": {},
   "outputs": [],
   "source": [
    "results_dict[cell_line][task][f'{model.__name__}_augm'] = kf_CV.scores_dict"
   ]
  },
  {
   "cell_type": "code",
   "execution_count": null,
   "metadata": {},
   "outputs": [],
   "source": [
    "with open ('results_dict.pickle', 'wb') as fout:\n",
    "    pickle.dump(OrderedDict(results_dict), fout)"
   ]
  },
  {
   "cell_type": "markdown",
   "metadata": {},
   "source": [
    "---\n",
    "---"
   ]
  },
  {
   "cell_type": "markdown",
   "metadata": {},
   "source": [
    "## 3) ACTIVE ENHANCERS vs ACTIVE PROMOTERS"
   ]
  },
  {
   "cell_type": "code",
   "execution_count": 19,
   "metadata": {},
   "outputs": [
    {
     "data": {
      "text/plain": [
       "'active_E_vs_active_P'"
      ]
     },
     "execution_count": 19,
     "metadata": {},
     "output_type": "execute_result"
    }
   ],
   "source": [
    "task = TASKS[2]\n",
    "task"
   ]
  },
  {
   "cell_type": "code",
   "execution_count": 20,
   "metadata": {},
   "outputs": [
    {
     "name": "stdout",
     "output_type": "stream",
     "text": [
      "Data Preprocessing Done!\n"
     ]
    }
   ],
   "source": [
    "pipe_data_load = Build_DataLoader_Pipeline(path_name=f'{task}.pickle')"
   ]
  },
  {
   "cell_type": "markdown",
   "metadata": {},
   "source": [
    "---\n",
    "### EMBRACENET"
   ]
  },
  {
   "cell_type": "code",
   "execution_count": 24,
   "metadata": {},
   "outputs": [],
   "source": [
    "model=EmbraceNetMultimodal"
   ]
  },
  {
   "cell_type": "code",
   "execution_count": 25,
   "metadata": {
    "scrolled": true
   },
   "outputs": [
    {
     "name": "stderr",
     "output_type": "stream",
     "text": [
      "/Users/Niki/Prediction-of-Active-and-Inactive-Regulatory-Regions-with-Embracenet-Multimodal-Neural-Network-/BIOINF_tesi/models/utils/training_models_multimodal.py:425: ExperimentalWarning: PatientPruner is experimental (supported from v2.8.0). The interface can change in the future.\n",
      "  pruner=optuna.pruners.PatientPruner(optuna.pruners.MedianPruner(), patience=2),\n",
      "\u001b[32m[I 2021-10-27 09:38:30,815]\u001b[0m Using an existing study with name 'MCF7_active_E_vs_active_P_EmbraceNetMultimodal_1' instead of creating a new one.\u001b[0m\n"
     ]
    },
    {
     "name": "stdout",
     "output_type": "stream",
     "text": [
      ">>> ITERATION N. 1\n",
      "\n",
      "===============> HYPERPARAMETERS TUNING\n",
      "Study statistics: \n",
      "  Number of finished trials:  3\n",
      "  Number of pruned trials:  0\n",
      "  Number of complete trials:  3\n",
      "Best trial:\n",
      "  Value:  0.7617846022145345\n",
      "  Params: \n",
      "    CNN_dropout_l0: 0.2\n",
      "    CNN_kernel_size_l0: 15\n",
      "    CNN_n_layers: 1\n",
      "    CNN_out_channels_l0: 16\n",
      "    EMBRACENET_embracement_size: 512\n",
      "    FFNN_dropout_l0: 0.4\n",
      "    FFNN_n_layers: 1\n",
      "    FFNN_n_units_l0: 256\n",
      "    lr: 0.00024483794765182905\n",
      "    n_post_layers: 0\n",
      "    optimizer: Nadam\n",
      "    selection_probabilities_FFNN: 0.8533659657495547\n",
      "    weight_decay: 0.0038321818251702724\n",
      "\n",
      "===============> MODEL TESTING\n",
      "AUPRC test score: 0.7707710047944067\n",
      "\n",
      "\n",
      ">>> ITERATION N. 2\n"
     ]
    },
    {
     "name": "stderr",
     "output_type": "stream",
     "text": [
      "/Users/Niki/Prediction-of-Active-and-Inactive-Regulatory-Regions-with-Embracenet-Multimodal-Neural-Network-/BIOINF_tesi/models/utils/training_models_multimodal.py:425: ExperimentalWarning: PatientPruner is experimental (supported from v2.8.0). The interface can change in the future.\n",
      "  pruner=optuna.pruners.PatientPruner(optuna.pruners.MedianPruner(), patience=2),\n",
      "\u001b[32m[I 2021-10-27 09:38:30,978]\u001b[0m Using an existing study with name 'MCF7_active_E_vs_active_P_EmbraceNetMultimodal_1_2' instead of creating a new one.\u001b[0m\n",
      "/Users/Niki/Prediction-of-Active-and-Inactive-Regulatory-Regions-with-Embracenet-Multimodal-Neural-Network-/BIOINF_tesi/models/utils/training_models_multimodal.py:425: ExperimentalWarning: PatientPruner is experimental (supported from v2.8.0). The interface can change in the future.\n",
      "  pruner=optuna.pruners.PatientPruner(optuna.pruners.MedianPruner(), patience=2),\n",
      "\u001b[32m[I 2021-10-27 09:38:31,129]\u001b[0m Using an existing study with name 'MCF7_active_E_vs_active_P_EmbraceNetMultimodal_1_2_3' instead of creating a new one.\u001b[0m\n"
     ]
    },
    {
     "name": "stdout",
     "output_type": "stream",
     "text": [
      "\n",
      "===============> HYPERPARAMETERS TUNING\n",
      "Study statistics: \n",
      "  Number of finished trials:  3\n",
      "  Number of pruned trials:  0\n",
      "  Number of complete trials:  3\n",
      "Best trial:\n",
      "  Value:  0.7194068428581427\n",
      "  Params: \n",
      "    CNN_dropout_l0: 0.2\n",
      "    CNN_kernel_size_l0: 11\n",
      "    CNN_n_layers: 1\n",
      "    CNN_out_channels_l0: 16\n",
      "    EMBRACENET_embracement_size: 512\n",
      "    FFNN_dropout_l0: 0.4\n",
      "    FFNN_dropout_l1: 0.0\n",
      "    FFNN_dropout_l2: 0.4\n",
      "    FFNN_dropout_l3: 0.4\n",
      "    FFNN_n_layers: 4\n",
      "    FFNN_n_units_l0: 64\n",
      "    FFNN_n_units_l1: 16\n",
      "    FFNN_n_units_l2: 32\n",
      "    FFNN_n_units_l3: 32\n",
      "    lr: 0.0007082185759790005\n",
      "    n_post_layers: 0\n",
      "    optimizer: RMSprop\n",
      "    selection_probabilities_FFNN: 0.3769860526556602\n",
      "    weight_decay: 0.0018952406020140747\n",
      "\n",
      "===============> MODEL TESTING\n",
      "AUPRC test score: 0.5868420678932634\n",
      "\n",
      "\n",
      ">>> ITERATION N. 3\n",
      "\n",
      "===============> HYPERPARAMETERS TUNING\n",
      "Study statistics: \n",
      "  Number of finished trials:  3\n",
      "  Number of pruned trials:  0\n",
      "  Number of complete trials:  3\n",
      "Best trial:\n",
      "  Value:  0.35017089692911063\n",
      "  Params: \n",
      "    CNN_dropout_l0: 0.4\n",
      "    CNN_dropout_l1: 0.4\n",
      "    CNN_dropout_l2: 0\n",
      "    CNN_dropout_l3: 0\n",
      "    CNN_kernel_size_l0: 11\n",
      "    CNN_kernel_size_l1: 15\n",
      "    CNN_kernel_size_l2: 5\n",
      "    CNN_kernel_size_l3: 5\n",
      "    CNN_n_layers: 4\n",
      "    CNN_out_channels_l0: 32\n",
      "    CNN_out_channels_l1: 96\n",
      "    CNN_out_channels_l2: 96\n",
      "    CNN_out_channels_l3: 512\n",
      "    EMBRACENET_dropout_l0: 0.0\n",
      "    EMBRACENET_dropout_l1: 0.0\n",
      "    EMBRACENET_embracement_size: 768\n",
      "    EMBRACENET_n_units_l0: 256\n",
      "    EMBRACENET_n_units_l1: 32\n",
      "    FFNN_dropout_l0: 0.2\n",
      "    FFNN_dropout_l1: 0.0\n",
      "    FFNN_n_layers: 2\n",
      "    FFNN_n_units_l0: 128\n",
      "    FFNN_n_units_l1: 128\n",
      "    lr: 5.853998668584566e-05\n",
      "    n_post_layers: 2\n",
      "    optimizer: Nadam\n",
      "    selection_probabilities_FFNN: 0.15367485035073636\n",
      "    weight_decay: 0.023959489349505005\n",
      "\n",
      "===============> MODEL TESTING\n",
      "AUPRC test score: 0.27500913242009134\n",
      "\n",
      "\n",
      "\n",
      "3-FOLD CROSS-VALIDATION AUPRC TEST SCORE: 0.54421\n"
     ]
    }
   ],
   "source": [
    "kf_CV = Kfold_CV_Multimodal()\n",
    "\n",
    "kf_CV(build_dataloader_pipeline = pipe_data_load,\n",
    "                num_epochs = 100,\n",
    "                n_folds=3,\n",
    "                cell_line=cell_line,\n",
    "                augmentation=False,\n",
    "                model = model,\n",
    "                device = device,\n",
    "                task=task,\n",
    "                sampler = 'TPE',\n",
    "                study_name = f'{cell_line}_{task}_{model.__name__}',\n",
    "                test_model_path = f'{cell_line}_{task}_{model.__name__}_TEST')"
   ]
  },
  {
   "cell_type": "code",
   "execution_count": 26,
   "metadata": {},
   "outputs": [],
   "source": [
    "results_dict[cell_line][task][model.__name__] = kf_CV.scores_dict"
   ]
  },
  {
   "cell_type": "code",
   "execution_count": 27,
   "metadata": {},
   "outputs": [],
   "source": [
    "with open ('results_dict.pickle', 'wb') as fout:\n",
    "    pickle.dump(OrderedDict(results_dict), fout)"
   ]
  },
  {
   "cell_type": "markdown",
   "metadata": {},
   "source": [
    "### CONCATNET"
   ]
  },
  {
   "cell_type": "code",
   "execution_count": 27,
   "metadata": {},
   "outputs": [],
   "source": [
    "model=ConcatNetMultimodal"
   ]
  },
  {
   "cell_type": "code",
   "execution_count": 28,
   "metadata": {
    "scrolled": true
   },
   "outputs": [
    {
     "name": "stderr",
     "output_type": "stream",
     "text": [
      "/Users/Niki/Prediction-of-Active-and-Inactive-Regulatory-Regions-with-Embracenet-Multimodal-Neural-Network-/BIOINF_tesi/models/utils/training_models_multimodal.py:425: ExperimentalWarning: PatientPruner is experimental (supported from v2.8.0). The interface can change in the future.\n",
      "  pruner=optuna.pruners.PatientPruner(optuna.pruners.MedianPruner(), patience=2),\n",
      "\u001b[32m[I 2021-10-30 11:19:03,441]\u001b[0m Using an existing study with name 'MCF7_active_E_vs_active_P_ConcatNetMultimodal_1' instead of creating a new one.\u001b[0m\n"
     ]
    },
    {
     "name": "stdout",
     "output_type": "stream",
     "text": [
      ">>> ITERATION N. 1\n",
      "\n",
      "===============> HYPERPARAMETERS TUNING\n",
      "Study statistics: \n",
      "  Number of finished trials:  4\n",
      "  Number of pruned trials:  0\n",
      "  Number of complete trials:  3\n",
      "Best trial:\n",
      "  Value:  0.7591111218303002\n",
      "  Params: \n",
      "    CNN_dropout_l0: 0.4\n",
      "    CNN_kernel_size_l0: 5\n",
      "    CNN_n_layers: 1\n",
      "    CNN_out_channels_l0: 16\n",
      "    CONCATNET_dropout_l0: 0.0\n",
      "    CONCATNET_n_post_layers: 1\n",
      "    CONCATNET_n_units_l0: 512\n",
      "    FFNN_dropout_l0: 0.3\n",
      "    FFNN_dropout_l1: 0.3\n",
      "    FFNN_dropout_l2: 0.5\n",
      "    FFNN_n_layers: 3\n",
      "    FFNN_n_units_l0: 128\n",
      "    FFNN_n_units_l1: 32\n",
      "    FFNN_n_units_l2: 32\n",
      "    lr: 0.006378333681743021\n",
      "    optimizer: RMSprop\n",
      "    weight_decay: 0.00046197274916382207\n"
     ]
    },
    {
     "name": "stderr",
     "output_type": "stream",
     "text": [
      "/Users/Niki/Prediction-of-Active-and-Inactive-Regulatory-Regions-with-Embracenet-Multimodal-Neural-Network-/BIOINF_tesi/models/utils/training_models_multimodal.py:425: ExperimentalWarning: PatientPruner is experimental (supported from v2.8.0). The interface can change in the future.\n",
      "  pruner=optuna.pruners.PatientPruner(optuna.pruners.MedianPruner(), patience=2),\n",
      "\u001b[32m[I 2021-10-30 11:19:03,635]\u001b[0m Using an existing study with name 'MCF7_active_E_vs_active_P_ConcatNetMultimodal_2' instead of creating a new one.\u001b[0m\n"
     ]
    },
    {
     "name": "stdout",
     "output_type": "stream",
     "text": [
      "\n",
      "===============> MODEL TESTING\n",
      "AUPRC test score: 0.7917984132300042\n",
      "\n",
      "\n",
      ">>> ITERATION N. 2\n",
      "\n",
      "===============> HYPERPARAMETERS TUNING\n",
      "Study statistics: \n",
      "  Number of finished trials:  3\n",
      "  Number of pruned trials:  0\n",
      "  Number of complete trials:  3\n",
      "Best trial:\n"
     ]
    },
    {
     "name": "stderr",
     "output_type": "stream",
     "text": [
      "/Users/Niki/Prediction-of-Active-and-Inactive-Regulatory-Regions-with-Embracenet-Multimodal-Neural-Network-/BIOINF_tesi/models/utils/training_models_multimodal.py:425: ExperimentalWarning: PatientPruner is experimental (supported from v2.8.0). The interface can change in the future.\n",
      "  pruner=optuna.pruners.PatientPruner(optuna.pruners.MedianPruner(), patience=2),\n",
      "\u001b[32m[I 2021-10-30 11:19:03,903]\u001b[0m Using an existing study with name 'MCF7_active_E_vs_active_P_ConcatNetMultimodal_3' instead of creating a new one.\u001b[0m\n"
     ]
    },
    {
     "name": "stdout",
     "output_type": "stream",
     "text": [
      "  Value:  0.792295604577728\n",
      "  Params: \n",
      "    CNN_dropout_l0: 0.3\n",
      "    CNN_kernel_size_l0: 5\n",
      "    CNN_n_layers: 1\n",
      "    CNN_out_channels_l0: 64\n",
      "    CONCATNET_dropout_l0: 0.2\n",
      "    CONCATNET_n_post_layers: 1\n",
      "    CONCATNET_n_units_l0: 512\n",
      "    FFNN_dropout_l0: 0.0\n",
      "    FFNN_dropout_l1: 0.3\n",
      "    FFNN_n_layers: 2\n",
      "    FFNN_n_units_l0: 32\n",
      "    FFNN_n_units_l1: 32\n",
      "    lr: 0.016326805111299976\n",
      "    optimizer: RMSprop\n",
      "    weight_decay: 0.0005620352575837893\n",
      "\n",
      "===============> MODEL TESTING\n",
      "AUPRC test score: 0.7405926068216846\n",
      "\n",
      "\n",
      ">>> ITERATION N. 3\n",
      "\n",
      "===============> HYPERPARAMETERS TUNING\n",
      "Study statistics: \n",
      "  Number of finished trials:  4\n",
      "  Number of pruned trials:  0\n",
      "  Number of complete trials:  3\n",
      "Best trial:\n",
      "  Value:  0.7474319936207949\n",
      "  Params: \n",
      "    CNN_dropout_l0: 0.2\n",
      "    CNN_dropout_l1: 0\n",
      "    CNN_dropout_l2: 0\n",
      "    CNN_dropout_l3: 0.4\n",
      "    CNN_kernel_size_l0: 11\n",
      "    CNN_kernel_size_l1: 11\n",
      "    CNN_kernel_size_l2: 5\n",
      "    CNN_kernel_size_l3: 11\n",
      "    CNN_n_layers: 4\n",
      "    CNN_out_channels_l0: 16\n",
      "    CNN_out_channels_l1: 64\n",
      "    CNN_out_channels_l2: 128\n",
      "    CNN_out_channels_l3: 256\n",
      "    CONCATNET_dropout_l0: 0.5\n",
      "    CONCATNET_n_post_layers: 1\n",
      "    CONCATNET_n_units_l0: 512\n",
      "    FFNN_dropout_l0: 0.4\n",
      "    FFNN_dropout_l1: 0.2\n",
      "    FFNN_n_layers: 2\n",
      "    FFNN_n_units_l0: 32\n",
      "    FFNN_n_units_l1: 64\n",
      "    lr: 0.004055629140617616\n",
      "    optimizer: Nadam\n",
      "    weight_decay: 0.00037058298257322634\n",
      "\n",
      "===============> MODEL TESTING\n",
      "AUPRC test score: 0.7633545374756856\n",
      "\n",
      "\n",
      "\n",
      "3-FOLD CROSS-VALIDATION AUPRC TEST SCORE: 0.76525\n"
     ]
    }
   ],
   "source": [
    "kf_CV = Kfold_CV_Multimodal()\n",
    "\n",
    "kf_CV(build_dataloader_pipeline = pipe_data_load,\n",
    "                num_epochs = 100,\n",
    "                n_folds=3,\n",
    "                cell_line=cell_line,\n",
    "                augmentation=False,\n",
    "                model = model,\n",
    "                device = device,\n",
    "                task=task,\n",
    "                sampler = 'TPE',\n",
    "                study_name = f'{cell_line}_{task}_{model.__name__}',\n",
    "                test_model_path = f'{cell_line}_{task}_{model.__name__}_TEST')"
   ]
  },
  {
   "cell_type": "code",
   "execution_count": 29,
   "metadata": {},
   "outputs": [],
   "source": [
    "results_dict[cell_line][task][model.__name__] = kf_CV.scores_dict"
   ]
  },
  {
   "cell_type": "code",
   "execution_count": 30,
   "metadata": {},
   "outputs": [],
   "source": [
    "with open ('results_dict.pickle', 'wb') as fout:\n",
    "    pickle.dump(OrderedDict(results_dict), fout)"
   ]
  },
  {
   "cell_type": "markdown",
   "metadata": {},
   "source": [
    "---\n",
    "## AUGMENTATION"
   ]
  },
  {
   "cell_type": "markdown",
   "metadata": {},
   "source": [
    "### EMBRACENET"
   ]
  },
  {
   "cell_type": "code",
   "execution_count": null,
   "metadata": {},
   "outputs": [],
   "source": [
    "model=EmbraceNetMultimodal"
   ]
  },
  {
   "cell_type": "code",
   "execution_count": null,
   "metadata": {},
   "outputs": [],
   "source": [
    "kf_CV = Kfold_CV_Multimodal()\n",
    "\n",
    "kf_CV(build_dataloader_pipeline = pipe_data_load,\n",
    "                num_epochs = 100,\n",
    "                n_folds=3,\n",
    "                cell_line=cell_line,\n",
    "                augmentation=True,\n",
    "                model = model,\n",
    "                device = device,\n",
    "                task=task,\n",
    "                sampler = 'TPE',\n",
    "                study_name = f'{cell_line}_{task}_{model.__name__}',\n",
    "                test_model_path = f'{cell_line}_{task}_{model.__name__}_TEST')"
   ]
  },
  {
   "cell_type": "code",
   "execution_count": null,
   "metadata": {},
   "outputs": [],
   "source": [
    "results_dict[cell_line][task][f'{model.__name__}_augm'] = kf_CV.scores_dict"
   ]
  },
  {
   "cell_type": "code",
   "execution_count": null,
   "metadata": {},
   "outputs": [],
   "source": [
    "with open ('results_dict.pickle', 'wb') as fout:\n",
    "    pickle.dump(OrderedDict(results_dict), fout)"
   ]
  },
  {
   "cell_type": "markdown",
   "metadata": {},
   "source": [
    "---\n",
    "---"
   ]
  },
  {
   "cell_type": "markdown",
   "metadata": {},
   "source": [
    "## 4) INACTIVE ENHANCERS vs INACTIVE PROMOTERS"
   ]
  },
  {
   "cell_type": "code",
   "execution_count": 10,
   "metadata": {},
   "outputs": [
    {
     "data": {
      "text/plain": [
       "'inactive_E_vs_inactive_P'"
      ]
     },
     "execution_count": 10,
     "metadata": {},
     "output_type": "execute_result"
    }
   ],
   "source": [
    "task = TASKS[3]\n",
    "task"
   ]
  },
  {
   "cell_type": "code",
   "execution_count": null,
   "metadata": {},
   "outputs": [],
   "source": [
    "pipe_data_load = Build_DataLoader_Pipeline(path_name=f'{task}.pickle')"
   ]
  },
  {
   "cell_type": "markdown",
   "metadata": {},
   "source": [
    "---\n",
    "### EMBRACENET"
   ]
  },
  {
   "cell_type": "code",
   "execution_count": 12,
   "metadata": {},
   "outputs": [],
   "source": [
    "model=EmbraceNetMultimodal"
   ]
  },
  {
   "cell_type": "code",
   "execution_count": 13,
   "metadata": {
    "scrolled": true
   },
   "outputs": [
    {
     "name": "stdout",
     "output_type": "stream",
     "text": [
      ">>> ITERATION N. 1\n",
      "\n",
      "===============> HYPERPARAMETERS TUNING\n"
     ]
    },
    {
     "name": "stderr",
     "output_type": "stream",
     "text": [
      "/home/jupyter/Prediction-of-Active-and-Inactive-Regulatory-Regions-with-Embracenet-Multimodal-Neural-Network-/BIOINF_tesi/models/utils/training_models_multimodal.py:425: ExperimentalWarning: PatientPruner is experimental (supported from v2.8.0). The interface can change in the future.\n",
      "  pruner=optuna.pruners.PatientPruner(optuna.pruners.MedianPruner(), patience=2),\n",
      "\u001b[32m[I 2021-10-28 07:12:28,017]\u001b[0m Using an existing study with name 'MCF7_inactive_E_vs_inactive_P_EmbraceNetMultimodal_1' instead of creating a new one.\u001b[0m\n",
      "/opt/conda/lib/python3.7/site-packages/optuna/structs.py:18: FutureWarning: `structs` is deprecated. Classes have moved to the following modules. `structs.StudyDirection`->`study.StudyDirection`, `structs.StudySummary`->`study.StudySummary`, `structs.FrozenTrial`->`trial.FrozenTrial`, `structs.TrialState`->`trial.TrialState`, `structs.TrialPruned`->`exceptions.TrialPruned`.\n",
      "  warnings.warn(_message, FutureWarning)\n"
     ]
    },
    {
     "name": "stdout",
     "output_type": "stream",
     "text": [
      "Study statistics: \n",
      "  Number of finished trials:  4\n",
      "  Number of pruned trials:  0\n",
      "  Number of complete trials:  3\n",
      "Best trial:\n",
      "  Value:  0.593849983275652\n",
      "  Params: \n",
      "    CNN_dropout_l0: 0\n",
      "    CNN_dropout_l1: 0.5\n",
      "    CNN_kernel_size_l0: 11\n",
      "    CNN_kernel_size_l1: 15\n",
      "    CNN_n_layers: 2\n",
      "    CNN_out_channels_l0: 16\n",
      "    CNN_out_channels_l1: 32\n",
      "    EMBRACENET_dropout_l0: 0.5\n",
      "    EMBRACENET_embracement_size: 768\n",
      "    EMBRACENET_n_units_l0: 32\n",
      "    FFNN_dropout_l0: 0.4\n",
      "    FFNN_n_layers: 1\n",
      "    FFNN_n_units_l0: 128\n",
      "    lr: 0.0010046516223626626\n",
      "    n_post_layers: 1\n",
      "    optimizer: RMSprop\n",
      "    selection_probabilities_FFNN: 0.581252600756841\n",
      "    weight_decay: 0.001431002985643104\n",
      "\n",
      "===============> MODEL TESTING\n",
      "AUPRC test score: 0.5965409742265179\n",
      "\n",
      "\n",
      ">>> ITERATION N. 2\n"
     ]
    },
    {
     "name": "stderr",
     "output_type": "stream",
     "text": [
      "/home/jupyter/Prediction-of-Active-and-Inactive-Regulatory-Regions-with-Embracenet-Multimodal-Neural-Network-/BIOINF_tesi/models/utils/training_models_multimodal.py:425: ExperimentalWarning: PatientPruner is experimental (supported from v2.8.0). The interface can change in the future.\n",
      "  pruner=optuna.pruners.PatientPruner(optuna.pruners.MedianPruner(), patience=2),\n",
      "\u001b[32m[I 2021-10-28 07:12:30,475]\u001b[0m Using an existing study with name 'MCF7_inactive_E_vs_inactive_P_EmbraceNetMultimodal_1_2' instead of creating a new one.\u001b[0m\n"
     ]
    },
    {
     "name": "stdout",
     "output_type": "stream",
     "text": [
      "\n",
      "===============> HYPERPARAMETERS TUNING\n",
      "Study statistics: \n",
      "  Number of finished trials:  3\n",
      "  Number of pruned trials:  0\n",
      "  Number of complete trials:  3\n",
      "Best trial:\n",
      "  Value:  0.5857385424464644\n",
      "  Params: \n",
      "    CNN_dropout_l0: 0.3\n",
      "    CNN_dropout_l1: 0\n",
      "    CNN_kernel_size_l0: 15\n",
      "    CNN_kernel_size_l1: 5\n",
      "    CNN_n_layers: 2\n",
      "    CNN_out_channels_l0: 32\n",
      "    CNN_out_channels_l1: 64\n",
      "    EMBRACENET_embracement_size: 512\n",
      "    FFNN_dropout_l0: 0.3\n",
      "    FFNN_dropout_l1: 0.2\n",
      "    FFNN_n_layers: 2\n",
      "    FFNN_n_units_l0: 64\n",
      "    FFNN_n_units_l1: 16\n",
      "    lr: 0.0002411762761348046\n",
      "    n_post_layers: 0\n",
      "    optimizer: Adam\n",
      "    selection_probabilities_FFNN: 0.7319220799763908\n",
      "    weight_decay: 0.0007896143607070527\n",
      "\n",
      "===============> MODEL TESTING\n",
      "AUPRC test score: 0.5890609503483354\n",
      "\n",
      "\n",
      ">>> ITERATION N. 3\n"
     ]
    },
    {
     "name": "stderr",
     "output_type": "stream",
     "text": [
      "/home/jupyter/Prediction-of-Active-and-Inactive-Regulatory-Regions-with-Embracenet-Multimodal-Neural-Network-/BIOINF_tesi/models/utils/training_models_multimodal.py:425: ExperimentalWarning: PatientPruner is experimental (supported from v2.8.0). The interface can change in the future.\n",
      "  pruner=optuna.pruners.PatientPruner(optuna.pruners.MedianPruner(), patience=2),\n",
      "\u001b[32m[I 2021-10-28 07:12:31,043]\u001b[0m Using an existing study with name 'MCF7_inactive_E_vs_inactive_P_EmbraceNetMultimodal_1_2_3' instead of creating a new one.\u001b[0m\n"
     ]
    },
    {
     "name": "stdout",
     "output_type": "stream",
     "text": [
      "\n",
      "===============> HYPERPARAMETERS TUNING\n",
      "Study statistics: \n",
      "  Number of finished trials:  3\n",
      "  Number of pruned trials:  0\n",
      "  Number of complete trials:  3\n",
      "Best trial:\n",
      "  Value:  0.5928431438596236\n",
      "  Params: \n",
      "    CNN_dropout_l0: 0\n",
      "    CNN_dropout_l1: 0.4\n",
      "    CNN_kernel_size_l0: 11\n",
      "    CNN_kernel_size_l1: 15\n",
      "    CNN_n_layers: 2\n",
      "    CNN_out_channels_l0: 16\n",
      "    CNN_out_channels_l1: 64\n",
      "    EMBRACENET_dropout_l0: 0.5\n",
      "    EMBRACENET_embracement_size: 1024\n",
      "    EMBRACENET_n_units_l0: 64\n",
      "    FFNN_dropout_l0: 0.0\n",
      "    FFNN_dropout_l1: 0.0\n",
      "    FFNN_dropout_l2: 0.4\n",
      "    FFNN_n_layers: 3\n",
      "    FFNN_n_units_l0: 128\n",
      "    FFNN_n_units_l1: 128\n",
      "    FFNN_n_units_l2: 4\n",
      "    lr: 0.0009485322347167406\n",
      "    n_post_layers: 1\n",
      "    optimizer: RMSprop\n",
      "    selection_probabilities_FFNN: 0.09437981722294886\n",
      "    weight_decay: 0.0008322573544982671\n",
      "\n",
      "===============> MODEL TESTING\n",
      "AUPRC test score: 0.591405992729042\n",
      "\n",
      "\n",
      "\n",
      "3-FOLD CROSS-VALIDATION AUPRC TEST SCORE: 0.59234\n"
     ]
    }
   ],
   "source": [
    "kf_CV = Kfold_CV_Multimodal()\n",
    "\n",
    "kf_CV(build_dataloader_pipeline = pipe_data_load,\n",
    "                num_epochs = 100,\n",
    "                n_folds=3,\n",
    "                cell_line=cell_line,\n",
    "                augmentation=False,\n",
    "                model = model,\n",
    "                device = device,\n",
    "                task=task,\n",
    "                sampler = 'TPE',\n",
    "                study_name = f'{cell_line}_{task}_{model.__name__}',\n",
    "                test_model_path = f'{cell_line}_{task}_{model.__name__}_TEST')"
   ]
  },
  {
   "cell_type": "code",
   "execution_count": 14,
   "metadata": {},
   "outputs": [],
   "source": [
    "results_dict[cell_line][task][model.__name__] = kf_CV.scores_dict"
   ]
  },
  {
   "cell_type": "code",
   "execution_count": 15,
   "metadata": {},
   "outputs": [],
   "source": [
    "with open ('results_dict.pickle', 'wb') as fout:\n",
    "    pickle.dump(OrderedDict(results_dict), fout)"
   ]
  },
  {
   "cell_type": "markdown",
   "metadata": {},
   "source": [
    "### CONCATNET"
   ]
  },
  {
   "cell_type": "code",
   "execution_count": 9,
   "metadata": {},
   "outputs": [],
   "source": [
    "model=ConcatNetMultimodal"
   ]
  },
  {
   "cell_type": "code",
   "execution_count": 10,
   "metadata": {
    "scrolled": true,
    "tags": []
   },
   "outputs": [
    {
     "name": "stdout",
     "output_type": "stream",
     "text": [
      ">>> ITERATION N. 1\n",
      "\n",
      "===============> HYPERPARAMETERS TUNING\n"
     ]
    },
    {
     "name": "stderr",
     "output_type": "stream",
     "text": [
      "/home/jupyter/Prediction-of-Active-and-Inactive-Regulatory-Regions-with-Embracenet-Multimodal-Neural-Network-/BIOINF_tesi/models/utils/training_models_multimodal.py:425: ExperimentalWarning: PatientPruner is experimental (supported from v2.8.0). The interface can change in the future.\n",
      "  pruner=optuna.pruners.PatientPruner(optuna.pruners.MedianPruner(), patience=2),\n",
      "\u001b[32m[I 2021-10-29 07:48:28,150]\u001b[0m Using an existing study with name 'MCF7_inactive_E_vs_inactive_P_ConcatNetMultimodal_1' instead of creating a new one.\u001b[0m\n",
      "/opt/conda/lib/python3.7/site-packages/optuna/structs.py:18: FutureWarning: `structs` is deprecated. Classes have moved to the following modules. `structs.StudyDirection`->`study.StudyDirection`, `structs.StudySummary`->`study.StudySummary`, `structs.FrozenTrial`->`trial.FrozenTrial`, `structs.TrialState`->`trial.TrialState`, `structs.TrialPruned`->`exceptions.TrialPruned`.\n",
      "  warnings.warn(_message, FutureWarning)\n"
     ]
    },
    {
     "name": "stdout",
     "output_type": "stream",
     "text": [
      "Study statistics: \n",
      "  Number of finished trials:  3\n",
      "  Number of pruned trials:  0\n",
      "  Number of complete trials:  3\n",
      "Best trial:\n",
      "  Value:  0.5968774353708228\n",
      "  Params: \n",
      "    CNN_dropout_l0: 0.4\n",
      "    CNN_dropout_l1: 0.5\n",
      "    CNN_kernel_size_l0: 15\n",
      "    CNN_kernel_size_l1: 15\n",
      "    CNN_n_layers: 2\n",
      "    CNN_out_channels_l0: 32\n",
      "    CNN_out_channels_l1: 96\n",
      "    CONCATNET_dropout_l0: 0.2\n",
      "    CONCATNET_dropout_l1: 0.2\n",
      "    CONCATNET_n_post_layers: 2\n",
      "    CONCATNET_n_units_l0: 768\n",
      "    CONCATNET_n_units_l1: 64\n",
      "    FFNN_dropout_l0: 0.3\n",
      "    FFNN_dropout_l1: 0.2\n",
      "    FFNN_n_layers: 2\n",
      "    FFNN_n_units_l0: 256\n",
      "    FFNN_n_units_l1: 16\n",
      "    lr: 0.00252144872495035\n",
      "    optimizer: Nadam\n",
      "    weight_decay: 0.0003774569211364301\n",
      "\n",
      "===============> MODEL TESTING\n",
      "AUPRC test score: 0.6056535584214242\n",
      "\n",
      "\n",
      ">>> ITERATION N. 2\n",
      "\n",
      "===============> HYPERPARAMETERS TUNING\n"
     ]
    },
    {
     "name": "stderr",
     "output_type": "stream",
     "text": [
      "/home/jupyter/Prediction-of-Active-and-Inactive-Regulatory-Regions-with-Embracenet-Multimodal-Neural-Network-/BIOINF_tesi/models/utils/training_models_multimodal.py:425: ExperimentalWarning: PatientPruner is experimental (supported from v2.8.0). The interface can change in the future.\n",
      "  pruner=optuna.pruners.PatientPruner(optuna.pruners.MedianPruner(), patience=2),\n",
      "\u001b[32m[I 2021-10-29 07:48:31,198]\u001b[0m Using an existing study with name 'MCF7_inactive_E_vs_inactive_P_ConcatNetMultimodal_1_2' instead of creating a new one.\u001b[0m\n"
     ]
    },
    {
     "name": "stdout",
     "output_type": "stream",
     "text": [
      "Study statistics: \n",
      "  Number of finished trials:  4\n",
      "  Number of pruned trials:  0\n",
      "  Number of complete trials:  3\n",
      "Best trial:\n",
      "  Value:  0.5830957973435451\n",
      "  Params: \n",
      "    CNN_dropout_l0: 0\n",
      "    CNN_kernel_size_l0: 5\n",
      "    CNN_n_layers: 1\n",
      "    CNN_out_channels_l0: 64\n",
      "    CONCATNET_dropout_l0: 0.3\n",
      "    CONCATNET_n_post_layers: 1\n",
      "    CONCATNET_n_units_l0: 1024\n",
      "    FFNN_dropout_l0: 0.3\n",
      "    FFNN_n_layers: 1\n",
      "    FFNN_n_units_l0: 256\n",
      "    lr: 5.708129432092518e-05\n",
      "    optimizer: Nadam\n",
      "    weight_decay: 0.038277237963210184\n",
      "\n",
      "===============> MODEL TESTING\n",
      "AUPRC test score: 0.576465476262354\n",
      "\n",
      "\n",
      ">>> ITERATION N. 3\n",
      "\n",
      "===============> HYPERPARAMETERS TUNING\n"
     ]
    },
    {
     "name": "stderr",
     "output_type": "stream",
     "text": [
      "/home/jupyter/Prediction-of-Active-and-Inactive-Regulatory-Regions-with-Embracenet-Multimodal-Neural-Network-/BIOINF_tesi/models/utils/training_models_multimodal.py:425: ExperimentalWarning: PatientPruner is experimental (supported from v2.8.0). The interface can change in the future.\n",
      "  pruner=optuna.pruners.PatientPruner(optuna.pruners.MedianPruner(), patience=2),\n",
      "\u001b[32m[I 2021-10-29 07:48:31,842]\u001b[0m Using an existing study with name 'MCF7_inactive_E_vs_inactive_P_ConcatNetMultimodal_1_2_3' instead of creating a new one.\u001b[0m\n"
     ]
    },
    {
     "name": "stdout",
     "output_type": "stream",
     "text": [
      "Study statistics: \n",
      "  Number of finished trials:  3\n",
      "  Number of pruned trials:  0\n",
      "  Number of complete trials:  3\n",
      "Best trial:\n",
      "  Value:  0.5820488481946838\n",
      "  Params: \n",
      "    CNN_dropout_l0: 0\n",
      "    CNN_dropout_l1: 0.4\n",
      "    CNN_kernel_size_l0: 5\n",
      "    CNN_kernel_size_l1: 15\n",
      "    CNN_n_layers: 2\n",
      "    CNN_out_channels_l0: 64\n",
      "    CNN_out_channels_l1: 96\n",
      "    CONCATNET_dropout_l0: 0.3\n",
      "    CONCATNET_n_post_layers: 1\n",
      "    CONCATNET_n_units_l0: 1024\n",
      "    FFNN_dropout_l0: 0.4\n",
      "    FFNN_dropout_l1: 0.2\n",
      "    FFNN_n_layers: 2\n",
      "    FFNN_n_units_l0: 256\n",
      "    FFNN_n_units_l1: 16\n",
      "    lr: 2.752522942442195e-05\n",
      "    optimizer: RMSprop\n",
      "    weight_decay: 0.0004418759245754558\n",
      "\n",
      "===============> MODEL TESTING\n",
      "AUPRC test score: 0.5951383951198086\n",
      "\n",
      "\n",
      "\n",
      "3-FOLD CROSS-VALIDATION AUPRC TEST SCORE: 0.59242\n"
     ]
    }
   ],
   "source": [
    "kf_CV = Kfold_CV_Multimodal()\n",
    "\n",
    "kf_CV(build_dataloader_pipeline = pipe_data_load,\n",
    "                num_epochs = 100,\n",
    "                n_folds=3,\n",
    "                cell_line=cell_line,\n",
    "                augmentation=False,\n",
    "                model = model,\n",
    "                device = device,\n",
    "                task=task,\n",
    "                sampler = 'TPE',\n",
    "                study_name = f'{cell_line}_{task}_{model.__name__}',\n",
    "                test_model_path = f'{cell_line}_{task}_{model.__name__}_TEST')"
   ]
  },
  {
   "cell_type": "code",
   "execution_count": 11,
   "metadata": {},
   "outputs": [],
   "source": [
    "results_dict[cell_line][task][model.__name__] = kf_CV.scores_dict"
   ]
  },
  {
   "cell_type": "code",
   "execution_count": 12,
   "metadata": {},
   "outputs": [],
   "source": [
    "with open ('results_dict.pickle', 'wb') as fout:\n",
    "    pickle.dump(OrderedDict(results_dict), fout)"
   ]
  },
  {
   "cell_type": "markdown",
   "metadata": {},
   "source": [
    "---\n",
    "## AUGMENTATION"
   ]
  },
  {
   "cell_type": "markdown",
   "metadata": {},
   "source": [
    "### EMBRACENET"
   ]
  },
  {
   "cell_type": "code",
   "execution_count": null,
   "metadata": {},
   "outputs": [],
   "source": [
    "model=EmbraceNetMultimodal"
   ]
  },
  {
   "cell_type": "code",
   "execution_count": null,
   "metadata": {},
   "outputs": [],
   "source": [
    "kf_CV = Kfold_CV_Multimodal()\n",
    "\n",
    "kf_CV(build_dataloader_pipeline = pipe_data_load,\n",
    "                num_epochs = 100,\n",
    "                n_folds=3,\n",
    "                cell_line=cell_line,\n",
    "                augmentation=True,\n",
    "                model = model,\n",
    "                device = device,\n",
    "                task=task,\n",
    "                sampler = 'TPE',\n",
    "                study_name = f'{cell_line}_{task}_{model.__name__}',\n",
    "                test_model_path = f'{cell_line}_{task}_{model.__name__}_TEST')"
   ]
  },
  {
   "cell_type": "code",
   "execution_count": null,
   "metadata": {},
   "outputs": [],
   "source": [
    "results_dict[cell_line][task][f'{model.__name__}_augm'] = kf_CV.scores_dict"
   ]
  },
  {
   "cell_type": "code",
   "execution_count": null,
   "metadata": {},
   "outputs": [],
   "source": [
    "with open ('results_dict.pickle', 'wb') as fout:\n",
    "    pickle.dump(OrderedDict(results_dict), fout)"
   ]
  },
  {
   "cell_type": "markdown",
   "metadata": {},
   "source": [
    "---\n",
    "---"
   ]
  },
  {
   "cell_type": "markdown",
   "metadata": {},
   "source": [
    "## 5) ACTIVE ENHANCERS + ACTIVE PROMOTERS vs INACTIVE REST"
   ]
  },
  {
   "cell_type": "code",
   "execution_count": 8,
   "metadata": {},
   "outputs": [
    {
     "data": {
      "text/plain": [
       "'active_EP_vs_inactive_rest'"
      ]
     },
     "execution_count": 8,
     "metadata": {},
     "output_type": "execute_result"
    }
   ],
   "source": [
    "task = TASKS[4]\n",
    "task"
   ]
  },
  {
   "cell_type": "code",
   "execution_count": 9,
   "metadata": {},
   "outputs": [
    {
     "name": "stdout",
     "output_type": "stream",
     "text": [
      "Data Preprocessing Done!\n"
     ]
    }
   ],
   "source": [
    "pipe_data_load = Build_DataLoader_Pipeline(path_name=f'{task}.pickle')"
   ]
  },
  {
   "cell_type": "markdown",
   "metadata": {},
   "source": [
    "---\n",
    "### EMBRACENET"
   ]
  },
  {
   "cell_type": "code",
   "execution_count": 18,
   "metadata": {},
   "outputs": [],
   "source": [
    "model=EmbraceNetMultimodal"
   ]
  },
  {
   "cell_type": "code",
   "execution_count": 19,
   "metadata": {
    "scrolled": true
   },
   "outputs": [
    {
     "name": "stdout",
     "output_type": "stream",
     "text": [
      ">>> ITERATION N. 1\n"
     ]
    },
    {
     "name": "stderr",
     "output_type": "stream",
     "text": [
      "/home/jupyter/Prediction-of-Active-and-Inactive-Regulatory-Regions-with-Embracenet-Multimodal-Neural-Network-/BIOINF_tesi/models/utils/training_models_multimodal.py:425: ExperimentalWarning: PatientPruner is experimental (supported from v2.8.0). The interface can change in the future.\n",
      "  pruner=optuna.pruners.PatientPruner(optuna.pruners.MedianPruner(), patience=2),\n",
      "\u001b[32m[I 2021-10-28 07:12:48,426]\u001b[0m Using an existing study with name 'MCF7_active_EP_vs_inactive_rest_EmbraceNetMultimodal_1' instead of creating a new one.\u001b[0m\n"
     ]
    },
    {
     "name": "stdout",
     "output_type": "stream",
     "text": [
      "\n",
      "===============> HYPERPARAMETERS TUNING\n",
      "Study statistics: \n",
      "  Number of finished trials:  3\n",
      "  Number of pruned trials:  0\n",
      "  Number of complete trials:  3\n",
      "Best trial:\n",
      "  Value:  0.21852677690489514\n",
      "  Params: \n",
      "    CNN_dropout_l0: 0.4\n",
      "    CNN_dropout_l1: 0.4\n",
      "    CNN_kernel_size_l0: 11\n",
      "    CNN_kernel_size_l1: 5\n",
      "    CNN_n_layers: 2\n",
      "    CNN_out_channels_l0: 64\n",
      "    CNN_out_channels_l1: 96\n",
      "    EMBRACENET_embracement_size: 512\n",
      "    FFNN_dropout_l0: 0.4\n",
      "    FFNN_n_layers: 1\n",
      "    FFNN_n_units_l0: 64\n",
      "    lr: 0.021523392071548714\n",
      "    n_post_layers: 0\n",
      "    optimizer: RMSprop\n",
      "    selection_probabilities_FFNN: 0.3463463138000149\n",
      "    weight_decay: 0.0009732008610886024\n",
      "\n",
      "===============> MODEL TESTING\n",
      "AUPRC test score: 0.22764600095300214\n",
      "\n",
      "\n",
      ">>> ITERATION N. 2\n"
     ]
    },
    {
     "name": "stderr",
     "output_type": "stream",
     "text": [
      "/home/jupyter/Prediction-of-Active-and-Inactive-Regulatory-Regions-with-Embracenet-Multimodal-Neural-Network-/BIOINF_tesi/models/utils/training_models_multimodal.py:425: ExperimentalWarning: PatientPruner is experimental (supported from v2.8.0). The interface can change in the future.\n",
      "  pruner=optuna.pruners.PatientPruner(optuna.pruners.MedianPruner(), patience=2),\n",
      "\u001b[32m[I 2021-10-28 07:12:49,211]\u001b[0m Using an existing study with name 'MCF7_active_EP_vs_inactive_rest_EmbraceNetMultimodal_1_2' instead of creating a new one.\u001b[0m\n"
     ]
    },
    {
     "name": "stdout",
     "output_type": "stream",
     "text": [
      "\n",
      "===============> HYPERPARAMETERS TUNING\n",
      "Study statistics: \n",
      "  Number of finished trials:  3\n",
      "  Number of pruned trials:  0\n",
      "  Number of complete trials:  3\n",
      "Best trial:\n",
      "  Value:  0.19975499375207645\n",
      "  Params: \n",
      "    CNN_dropout_l0: 0\n",
      "    CNN_kernel_size_l0: 5\n",
      "    CNN_n_layers: 1\n",
      "    CNN_out_channels_l0: 64\n",
      "    EMBRACENET_dropout_l0: 0.0\n",
      "    EMBRACENET_dropout_l1: 0.2\n",
      "    EMBRACENET_embracement_size: 512\n",
      "    EMBRACENET_n_units_l0: 512\n",
      "    EMBRACENET_n_units_l1: 64\n",
      "    FFNN_dropout_l0: 0.2\n",
      "    FFNN_dropout_l1: 0.4\n",
      "    FFNN_dropout_l2: 0.4\n",
      "    FFNN_dropout_l3: 0.5\n",
      "    FFNN_n_layers: 4\n",
      "    FFNN_n_units_l0: 256\n",
      "    FFNN_n_units_l1: 16\n",
      "    FFNN_n_units_l2: 4\n",
      "    FFNN_n_units_l3: 4\n",
      "    lr: 0.002119655127343616\n",
      "    n_post_layers: 2\n",
      "    optimizer: RMSprop\n",
      "    selection_probabilities_FFNN: 0.016901813104996166\n",
      "    weight_decay: 0.00015564287198760818\n",
      "\n",
      "===============> MODEL TESTING\n",
      "AUPRC test score: 0.18956335420157985\n",
      "\n",
      "\n",
      ">>> ITERATION N. 3\n"
     ]
    },
    {
     "name": "stderr",
     "output_type": "stream",
     "text": [
      "/home/jupyter/Prediction-of-Active-and-Inactive-Regulatory-Regions-with-Embracenet-Multimodal-Neural-Network-/BIOINF_tesi/models/utils/training_models_multimodal.py:425: ExperimentalWarning: PatientPruner is experimental (supported from v2.8.0). The interface can change in the future.\n",
      "  pruner=optuna.pruners.PatientPruner(optuna.pruners.MedianPruner(), patience=2),\n",
      "\u001b[32m[I 2021-10-28 07:12:49,851]\u001b[0m Using an existing study with name 'MCF7_active_EP_vs_inactive_rest_EmbraceNetMultimodal_1_2_3' instead of creating a new one.\u001b[0m\n"
     ]
    },
    {
     "name": "stdout",
     "output_type": "stream",
     "text": [
      "\n",
      "===============> HYPERPARAMETERS TUNING\n",
      "Study statistics: \n",
      "  Number of finished trials:  3\n",
      "  Number of pruned trials:  0\n",
      "  Number of complete trials:  3\n",
      "Best trial:\n",
      "  Value:  0.10810439560439561\n",
      "  Params: \n",
      "    CNN_dropout_l0: 0.4\n",
      "    CNN_dropout_l1: 0.5\n",
      "    CNN_dropout_l2: 0.5\n",
      "    CNN_kernel_size_l0: 5\n",
      "    CNN_kernel_size_l1: 15\n",
      "    CNN_kernel_size_l2: 15\n",
      "    CNN_n_layers: 3\n",
      "    CNN_out_channels_l0: 64\n",
      "    CNN_out_channels_l1: 32\n",
      "    CNN_out_channels_l2: 64\n",
      "    EMBRACENET_dropout_l0: 0.3\n",
      "    EMBRACENET_embracement_size: 512\n",
      "    EMBRACENET_n_units_l0: 512\n",
      "    FFNN_dropout_l0: 0.3\n",
      "    FFNN_dropout_l1: 0.2\n",
      "    FFNN_dropout_l2: 0.4\n",
      "    FFNN_dropout_l3: 0.0\n",
      "    FFNN_n_layers: 4\n",
      "    FFNN_n_units_l0: 32\n",
      "    FFNN_n_units_l1: 128\n",
      "    FFNN_n_units_l2: 16\n",
      "    FFNN_n_units_l3: 4\n",
      "    lr: 0.08761313487601254\n",
      "    n_post_layers: 1\n",
      "    optimizer: RMSprop\n",
      "    selection_probabilities_FFNN: 0.5635265919343754\n",
      "    weight_decay: 0.001206906899006951\n",
      "\n",
      "===============> MODEL TESTING\n",
      "AUPRC test score: 0.11038226210591612\n",
      "\n",
      "\n",
      "\n",
      "3-FOLD CROSS-VALIDATION AUPRC TEST SCORE: 0.17586\n"
     ]
    }
   ],
   "source": [
    "kf_CV = Kfold_CV_Multimodal()\n",
    "\n",
    "kf_CV(build_dataloader_pipeline = pipe_data_load,\n",
    "                num_epochs = 100,\n",
    "                n_folds=3,\n",
    "                cell_line=cell_line,\n",
    "                augmentation=False,\n",
    "                model = model,\n",
    "                device = device,\n",
    "                task=task,\n",
    "                sampler = 'TPE',\n",
    "                study_name = f'{cell_line}_{task}_{model.__name__}',\n",
    "                test_model_path = f'{cell_line}_{task}_{model.__name__}_TEST')"
   ]
  },
  {
   "cell_type": "code",
   "execution_count": 20,
   "metadata": {},
   "outputs": [],
   "source": [
    "results_dict[cell_line][task][model.__name__] = kf_CV.scores_dict"
   ]
  },
  {
   "cell_type": "code",
   "execution_count": 21,
   "metadata": {},
   "outputs": [],
   "source": [
    "with open ('results_dict.pickle', 'wb') as fout:\n",
    "    pickle.dump(OrderedDict(results_dict), fout)"
   ]
  },
  {
   "cell_type": "markdown",
   "metadata": {},
   "source": [
    "### CONCATNET"
   ]
  },
  {
   "cell_type": "code",
   "execution_count": 15,
   "metadata": {},
   "outputs": [],
   "source": [
    "model=ConcatNetMultimodal"
   ]
  },
  {
   "cell_type": "code",
   "execution_count": 17,
   "metadata": {
    "scrolled": true
   },
   "outputs": [
    {
     "name": "stdout",
     "output_type": "stream",
     "text": [
      ">>> ITERATION N. 1\n"
     ]
    },
    {
     "name": "stderr",
     "output_type": "stream",
     "text": [
      "/home/jupyter/Prediction-of-Active-and-Inactive-Regulatory-Regions-with-Embracenet-Multimodal-Neural-Network-/BIOINF_tesi/models/utils/training_models_multimodal.py:425: ExperimentalWarning: PatientPruner is experimental (supported from v2.8.0). The interface can change in the future.\n",
      "  pruner=optuna.pruners.PatientPruner(optuna.pruners.MedianPruner(), patience=2),\n",
      "\u001b[32m[I 2021-10-29 07:48:50,066]\u001b[0m Using an existing study with name 'MCF7_active_EP_vs_inactive_rest_ConcatNetMultimodal_1' instead of creating a new one.\u001b[0m\n"
     ]
    },
    {
     "name": "stdout",
     "output_type": "stream",
     "text": [
      "\n",
      "===============> HYPERPARAMETERS TUNING\n",
      "Study statistics: \n",
      "  Number of finished trials:  3\n",
      "  Number of pruned trials:  0\n",
      "  Number of complete trials:  3\n",
      "Best trial:\n",
      "  Value:  0.22435897490117626\n",
      "  Params: \n",
      "    CNN_dropout_l0: 0\n",
      "    CNN_kernel_size_l0: 15\n",
      "    CNN_n_layers: 1\n",
      "    CNN_out_channels_l0: 32\n",
      "    CONCATNET_dropout_l0: 0.2\n",
      "    CONCATNET_dropout_l1: 0.5\n",
      "    CONCATNET_n_post_layers: 2\n",
      "    CONCATNET_n_units_l0: 512\n",
      "    CONCATNET_n_units_l1: 128\n",
      "    FFNN_dropout_l0: 0.4\n",
      "    FFNN_n_layers: 1\n",
      "    FFNN_n_units_l0: 256\n",
      "    lr: 0.011222460872481776\n",
      "    optimizer: RMSprop\n",
      "    weight_decay: 0.0022969213505073045\n",
      "\n",
      "===============> MODEL TESTING\n",
      "AUPRC test score: 0.2540649522878253\n",
      "\n",
      "\n",
      ">>> ITERATION N. 2\n"
     ]
    },
    {
     "name": "stderr",
     "output_type": "stream",
     "text": [
      "/home/jupyter/Prediction-of-Active-and-Inactive-Regulatory-Regions-with-Embracenet-Multimodal-Neural-Network-/BIOINF_tesi/models/utils/training_models_multimodal.py:425: ExperimentalWarning: PatientPruner is experimental (supported from v2.8.0). The interface can change in the future.\n",
      "  pruner=optuna.pruners.PatientPruner(optuna.pruners.MedianPruner(), patience=2),\n",
      "\u001b[32m[I 2021-10-29 07:48:50,879]\u001b[0m Using an existing study with name 'MCF7_active_EP_vs_inactive_rest_ConcatNetMultimodal_1_2' instead of creating a new one.\u001b[0m\n"
     ]
    },
    {
     "name": "stdout",
     "output_type": "stream",
     "text": [
      "\n",
      "===============> HYPERPARAMETERS TUNING\n",
      "Study statistics: \n",
      "  Number of finished trials:  3\n",
      "  Number of pruned trials:  0\n",
      "  Number of complete trials:  3\n",
      "Best trial:\n",
      "  Value:  0.1871518467836284\n",
      "  Params: \n",
      "    CNN_dropout_l0: 0.3\n",
      "    CNN_dropout_l1: 0.5\n",
      "    CNN_kernel_size_l0: 5\n",
      "    CNN_kernel_size_l1: 11\n",
      "    CNN_n_layers: 2\n",
      "    CNN_out_channels_l0: 32\n",
      "    CNN_out_channels_l1: 32\n",
      "    CONCATNET_dropout_l0: 0.5\n",
      "    CONCATNET_dropout_l1: 0.5\n",
      "    CONCATNET_n_post_layers: 2\n",
      "    CONCATNET_n_units_l0: 1024\n",
      "    CONCATNET_n_units_l1: 512\n",
      "    FFNN_dropout_l0: 0.3\n",
      "    FFNN_dropout_l1: 0.3\n",
      "    FFNN_dropout_l2: 0.5\n",
      "    FFNN_dropout_l3: 0.4\n",
      "    FFNN_n_layers: 4\n",
      "    FFNN_n_units_l0: 256\n",
      "    FFNN_n_units_l1: 32\n",
      "    FFNN_n_units_l2: 16\n",
      "    FFNN_n_units_l3: 32\n",
      "    lr: 0.0042449885860722115\n",
      "    optimizer: RMSprop\n",
      "    weight_decay: 0.014305452861259171\n",
      "\n",
      "===============> MODEL TESTING\n",
      "AUPRC test score: 0.18984673740709587\n",
      "\n",
      "\n",
      ">>> ITERATION N. 3\n"
     ]
    },
    {
     "name": "stderr",
     "output_type": "stream",
     "text": [
      "/home/jupyter/Prediction-of-Active-and-Inactive-Regulatory-Regions-with-Embracenet-Multimodal-Neural-Network-/BIOINF_tesi/models/utils/training_models_multimodal.py:425: ExperimentalWarning: PatientPruner is experimental (supported from v2.8.0). The interface can change in the future.\n",
      "  pruner=optuna.pruners.PatientPruner(optuna.pruners.MedianPruner(), patience=2),\n",
      "\u001b[32m[I 2021-10-29 07:48:51,550]\u001b[0m Using an existing study with name 'MCF7_active_EP_vs_inactive_rest_ConcatNetMultimodal_1_2_3' instead of creating a new one.\u001b[0m\n"
     ]
    },
    {
     "name": "stdout",
     "output_type": "stream",
     "text": [
      "\n",
      "===============> HYPERPARAMETERS TUNING\n",
      "Study statistics: \n",
      "  Number of finished trials:  3\n",
      "  Number of pruned trials:  0\n",
      "  Number of complete trials:  3\n",
      "Best trial:\n",
      "  Value:  0.2499698763473365\n",
      "  Params: \n",
      "    CNN_dropout_l0: 0\n",
      "    CNN_kernel_size_l0: 5\n",
      "    CNN_n_layers: 1\n",
      "    CNN_out_channels_l0: 32\n",
      "    CONCATNET_dropout_l0: 0.0\n",
      "    CONCATNET_n_post_layers: 1\n",
      "    CONCATNET_n_units_l0: 768\n",
      "    FFNN_dropout_l0: 0.2\n",
      "    FFNN_dropout_l1: 0.2\n",
      "    FFNN_dropout_l2: 0.4\n",
      "    FFNN_n_layers: 3\n",
      "    FFNN_n_units_l0: 256\n",
      "    FFNN_n_units_l1: 32\n",
      "    FFNN_n_units_l2: 16\n",
      "    lr: 0.0038447114197602502\n",
      "    optimizer: Nadam\n",
      "    weight_decay: 0.00020469806412105835\n",
      "\n",
      "===============> MODEL TESTING\n",
      "AUPRC test score: 0.28019544877846536\n",
      "\n",
      "\n",
      "\n",
      "3-FOLD CROSS-VALIDATION AUPRC TEST SCORE: 0.24137\n"
     ]
    }
   ],
   "source": [
    "kf_CV = Kfold_CV_Multimodal()\n",
    "\n",
    "kf_CV(build_dataloader_pipeline = pipe_data_load,\n",
    "                num_epochs = 100,\n",
    "                n_folds=3,\n",
    "                cell_line=cell_line,\n",
    "                augmentation=False,\n",
    "                model = model,\n",
    "                device = device,\n",
    "                task=task,\n",
    "                sampler = 'TPE',\n",
    "                study_name = f'{cell_line}_{task}_{model.__name__}',\n",
    "                test_model_path = f'{cell_line}_{task}_{model.__name__}_TEST')"
   ]
  },
  {
   "cell_type": "code",
   "execution_count": 18,
   "metadata": {},
   "outputs": [],
   "source": [
    "results_dict[cell_line][task][model.__name__] = kf_CV.scores_dict"
   ]
  },
  {
   "cell_type": "code",
   "execution_count": 19,
   "metadata": {},
   "outputs": [],
   "source": [
    "with open ('results_dict.pickle', 'wb') as fout:\n",
    "    pickle.dump(OrderedDict(results_dict), fout)"
   ]
  },
  {
   "cell_type": "markdown",
   "metadata": {},
   "source": [
    "---\n",
    "## AUGMENTATION"
   ]
  },
  {
   "cell_type": "markdown",
   "metadata": {},
   "source": [
    "### EMBRACENET"
   ]
  },
  {
   "cell_type": "code",
   "execution_count": null,
   "metadata": {},
   "outputs": [],
   "source": [
    "model=EmbraceNetMultimodal"
   ]
  },
  {
   "cell_type": "code",
   "execution_count": null,
   "metadata": {},
   "outputs": [],
   "source": [
    "kf_CV = Kfold_CV_Multimodal()\n",
    "\n",
    "kf_CV(build_dataloader_pipeline = pipe_data_load,\n",
    "                num_epochs = 100,\n",
    "                n_folds=3,\n",
    "                cell_line=cell_line,\n",
    "                augmentation=True,\n",
    "                model = model,\n",
    "                device = device,\n",
    "                task=task,\n",
    "                sampler = 'TPE',\n",
    "                study_name = f'{cell_line}_{task}_{model.__name__}',\n",
    "                test_model_path = f'{cell_line}_{task}_{model.__name__}_TEST')"
   ]
  },
  {
   "cell_type": "code",
   "execution_count": null,
   "metadata": {},
   "outputs": [],
   "source": [
    "results_dict[cell_line][task][f'{model.__name__}_augm'] = kf_CV.scores_dict"
   ]
  },
  {
   "cell_type": "code",
   "execution_count": null,
   "metadata": {},
   "outputs": [],
   "source": [
    "with open ('results_dict.pickle', 'wb') as fout:\n",
    "    pickle.dump(OrderedDict(results_dict), fout)"
   ]
  },
  {
   "cell_type": "markdown",
   "metadata": {},
   "source": [
    "---\n",
    "---"
   ]
  },
  {
   "cell_type": "code",
   "execution_count": null,
   "metadata": {},
   "outputs": [],
   "source": []
  }
 ],
 "metadata": {
  "environment": {
   "name": "pytorch-gpu.1-9.m80",
   "type": "gcloud",
   "uri": "gcr.io/deeplearning-platform-release/pytorch-gpu.1-9:m80"
  },
  "kernelspec": {
   "display_name": "Python 3",
   "language": "python",
   "name": "python3"
  },
  "language_info": {
   "codemirror_mode": {
    "name": "ipython",
    "version": 3
   },
   "file_extension": ".py",
   "mimetype": "text/x-python",
   "name": "python",
   "nbconvert_exporter": "python",
   "pygments_lexer": "ipython3",
   "version": "3.8.8"
  }
 },
 "nbformat": 4,
 "nbformat_minor": 4
}
