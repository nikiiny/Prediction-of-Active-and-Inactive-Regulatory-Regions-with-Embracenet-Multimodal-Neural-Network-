{
 "cells": [
  {
   "cell_type": "markdown",
   "metadata": {
    "id": "zqpqu8UJFySp"
   },
   "source": [
    "## BIOINFORMATICS THESIS: MULTIMODAL NEURAL NETWORK"
   ]
  },
  {
   "cell_type": "markdown",
   "metadata": {},
   "source": [
    "# CELL LINE: H1\n",
    "# EMBRACENET"
   ]
  },
  {
   "cell_type": "markdown",
   "metadata": {},
   "source": [
    "da fare \n",
    "- sistema selezione augmentation in embracenet\n",
    "- crea grafici AUPRC reti"
   ]
  },
  {
   "cell_type": "code",
   "execution_count": 1,
   "metadata": {},
   "outputs": [],
   "source": [
    "import pandas as pd \n",
    "import numpy as np\n",
    "import os\n",
    "\n",
    "import torch\n",
    "import torch.nn.functional as F\n",
    "from torch.utils.data import Dataset, DataLoader\n",
    "import torch.nn as nn\n",
    "import torch.optim as optim\n",
    "from collections import defaultdict, OrderedDict\n",
    "import pickle\n",
    "\n",
    "import sqlite3\n",
    "from sqlalchemy import create_engine\n",
    "\n",
    "device = 'cuda' if torch.cuda.is_available() else 'cpu'"
   ]
  },
  {
   "cell_type": "code",
   "execution_count": 2,
   "metadata": {},
   "outputs": [],
   "source": [
    "# create a database to store optuna studies with sqlite backend\n",
    "#engine = create_engine('sqlite:///BIOINF_optuna_tuning.db')"
   ]
  },
  {
   "cell_type": "code",
   "execution_count": 3,
   "metadata": {},
   "outputs": [],
   "source": [
    "from BIOINF_tesi.data_pipe import CELL_LINES, TASKS"
   ]
  },
  {
   "cell_type": "code",
   "execution_count": 4,
   "metadata": {},
   "outputs": [
    {
     "data": {
      "text/plain": [
       "'H1'"
      ]
     },
     "execution_count": 4,
     "metadata": {},
     "output_type": "execute_result"
    }
   ],
   "source": [
    "cell_line = CELL_LINES[2]\n",
    "cell_line"
   ]
  },
  {
   "cell_type": "markdown",
   "metadata": {},
   "source": [
    "---"
   ]
  },
  {
   "cell_type": "code",
   "execution_count": 5,
   "metadata": {},
   "outputs": [],
   "source": [
    "from BIOINF_tesi.data_pipe import Build_DataLoader_Pipeline\n",
    "from BIOINF_tesi.models import EmbraceNetMultimodal, ConcatNetMultimodal\n",
    "from BIOINF_tesi.models.utils import Kfold_CV_Multimodal"
   ]
  },
  {
   "cell_type": "raw",
   "metadata": {},
   "source": [
    "def dd():\n",
    "    return defaultdict(dict)\n",
    "    \n",
    "results_dict = defaultdict(dd)"
   ]
  },
  {
   "cell_type": "code",
   "execution_count": 6,
   "metadata": {},
   "outputs": [],
   "source": [
    "with open ('results_dict.pickle', 'rb') as fin:\n",
    "    results_dict = pickle.load(fin)\n",
    "    results_dict = defaultdict(lambda: defaultdict(dict), results_dict)"
   ]
  },
  {
   "cell_type": "markdown",
   "metadata": {},
   "source": [
    "## 1) ACTIVE ENHANCERS vs INACTIVE ENHANCERS"
   ]
  },
  {
   "cell_type": "code",
   "execution_count": null,
   "metadata": {},
   "outputs": [],
   "source": [
    "task = TASKS[0]"
   ]
  },
  {
   "cell_type": "code",
   "execution_count": null,
   "metadata": {},
   "outputs": [],
   "source": [
    "pipe_data_load = Build_DataLoader_Pipeline(path_name=f'{task}.pickle')"
   ]
  },
  {
   "cell_type": "markdown",
   "metadata": {},
   "source": [
    "---\n",
    "### EMBRACENET"
   ]
  },
  {
   "cell_type": "code",
   "execution_count": 9,
   "metadata": {},
   "outputs": [],
   "source": [
    "model=EmbraceNetMultimodal"
   ]
  },
  {
   "cell_type": "code",
   "execution_count": 10,
   "metadata": {
    "scrolled": true
   },
   "outputs": [
    {
     "name": "stdout",
     "output_type": "stream",
     "text": [
      ">>> ITERATION N. 1\n",
      "\n",
      "===============> HYPERPARAMETERS TUNING\n"
     ]
    },
    {
     "name": "stderr",
     "output_type": "stream",
     "text": [
      "/Users/Niki/Prediction-of-Active-and-Inactive-Regulatory-Regions-with-Embracenet-Multimodal-Neural-Network-/BIOINF_tesi/models/utils/training_models_multimodal.py:425: ExperimentalWarning: PatientPruner is experimental (supported from v2.8.0). The interface can change in the future.\n",
      "  pruner=optuna.pruners.PatientPruner(optuna.pruners.MedianPruner(), patience=2),\n",
      "\u001b[32m[I 2021-10-23 11:18:17,431]\u001b[0m Using an existing study with name 'H1_active_E_vs_inactive_E_EmbraceNetMultimodal_1' instead of creating a new one.\u001b[0m\n",
      "/opt/anaconda3/lib/python3.8/site-packages/optuna/structs.py:18: FutureWarning: `structs` is deprecated. Classes have moved to the following modules. `structs.StudyDirection`->`study.StudyDirection`, `structs.StudySummary`->`study.StudySummary`, `structs.FrozenTrial`->`trial.FrozenTrial`, `structs.TrialState`->`trial.TrialState`, `structs.TrialPruned`->`exceptions.TrialPruned`.\n",
      "  warnings.warn(_message, FutureWarning)\n"
     ]
    },
    {
     "data": {
      "application/vnd.jupyter.widget-view+json": {
       "model_id": "fa0fa757c2384028be35fb44c014cb35",
       "version_major": 2,
       "version_minor": 0
      },
      "text/plain": [
       "Epochs:   0%|          | 0/100 [00:00<?, ?it/s]"
      ]
     },
     "metadata": {},
     "output_type": "display_data"
    },
    {
     "name": "stderr",
     "output_type": "stream",
     "text": [
      "/opt/anaconda3/lib/python3.8/site-packages/torch/nn/functional.py:652: UserWarning: Named tensors and all their associated APIs are an experimental feature and subject to change. Please do not use them for anything important until they are released as stable. (Triggered internally at  ../c10/core/TensorImpl.h:1156.)\n",
      "  return torch.max_pool1d(input, kernel_size, stride, padding, dilation, ceil_mode)\n",
      "/opt/anaconda3/lib/python3.8/site-packages/timm/optim/nadam.py:69: UserWarning: This overload of add is deprecated:\n",
      "\tadd(Number alpha, Tensor other)\n",
      "Consider using one of the following signatures instead:\n",
      "\tadd(Tensor other, *, Number alpha) (Triggered internally at  ../torch/csrc/utils/python_arg_parser.cpp:1025.)\n",
      "  grad = grad.add(group['weight_decay'], p.data)\n",
      "/opt/anaconda3/lib/python3.8/site-packages/sklearn/metrics/_ranking.py:817: RuntimeWarning: invalid value encountered in true_divide\n",
      "  recall = tps / tps[-1]\n"
     ]
    },
    {
     "name": "stdout",
     "output_type": "stream",
     "text": [
      "EarlyStopping counter: 1 out of 5\n",
      "EarlyStopping counter: 1 out of 5\n",
      "EarlyStopping counter: 1 out of 5\n",
      "EarlyStopping counter: 1 out of 5\n",
      "EarlyStopping counter: 1 out of 5\n",
      "EarlyStopping counter: 2 out of 5\n",
      "EarlyStopping counter: 3 out of 5\n",
      "EarlyStopping counter: 4 out of 5\n",
      "EarlyStopping counter: 1 out of 5\n",
      "EarlyStopping counter: 2 out of 5\n",
      "EarlyStopping counter: 3 out of 5\n",
      "EarlyStopping counter: 4 out of 5\n"
     ]
    },
    {
     "name": "stderr",
     "output_type": "stream",
     "text": [
      "/opt/anaconda3/lib/python3.8/site-packages/sklearn/metrics/_ranking.py:817: RuntimeWarning: invalid value encountered in true_divide\n",
      "  recall = tps / tps[-1]\n"
     ]
    },
    {
     "name": "stdout",
     "output_type": "stream",
     "text": [
      "EarlyStopping counter: 5 out of 5\n",
      "Early stopping the training\n"
     ]
    },
    {
     "name": "stderr",
     "output_type": "stream",
     "text": [
      "\u001b[32m[I 2021-10-23 12:03:28,641]\u001b[0m Trial 1 finished with value: 0.10584814503981839 and parameters: {'FFNN_n_layers': 1, 'FFNN_n_units_l0': 32, 'FFNN_dropout_l0': 0.0, 'CNN_n_layers': 1, 'CNN_out_channels_l0': 64, 'CNN_kernel_size_l0': 11, 'CNN_dropout_l0': 0.2, 'EMBRACENET_embracement_size': 512, 'n_post_layers': 0, 'selection_probabilities_FFNN': 0.30341574474062705, 'optimizer': 'Nadam', 'lr': 4.366399279990093e-05, 'weight_decay': 0.005075790764731148}. Best is trial 1 with value: 0.10584814503981839.\u001b[0m\n"
     ]
    },
    {
     "data": {
      "application/vnd.jupyter.widget-view+json": {
       "model_id": "1b8d4ce10f464ff899c435e671115e90",
       "version_major": 2,
       "version_minor": 0
      },
      "text/plain": [
       "Epochs:   0%|          | 0/100 [00:00<?, ?it/s]"
      ]
     },
     "metadata": {},
     "output_type": "display_data"
    },
    {
     "name": "stdout",
     "output_type": "stream",
     "text": [
      "EarlyStopping counter: 1 out of 5\n",
      "EarlyStopping counter: 1 out of 5\n",
      "EarlyStopping counter: 2 out of 5\n",
      "EarlyStopping counter: 3 out of 5\n",
      "EarlyStopping counter: 4 out of 5\n",
      "EarlyStopping counter: 1 out of 5\n",
      "EarlyStopping counter: 2 out of 5\n",
      "EarlyStopping counter: 3 out of 5\n",
      "EarlyStopping counter: 4 out of 5\n",
      "EarlyStopping counter: 1 out of 5\n",
      "EarlyStopping counter: 2 out of 5\n",
      "EarlyStopping counter: 3 out of 5\n",
      "EarlyStopping counter: 4 out of 5\n"
     ]
    },
    {
     "name": "stderr",
     "output_type": "stream",
     "text": [
      "\u001b[32m[I 2021-10-23 12:35:16,936]\u001b[0m Trial 2 finished with value: 0.04685739436619717 and parameters: {'FFNN_n_layers': 3, 'FFNN_n_units_l0': 32, 'FFNN_dropout_l0': 0.0, 'FFNN_n_units_l1': 32, 'FFNN_dropout_l1': 0.4, 'FFNN_n_units_l2': 64, 'FFNN_dropout_l2': 0.4, 'CNN_n_layers': 1, 'CNN_out_channels_l0': 32, 'CNN_kernel_size_l0': 11, 'CNN_dropout_l0': 0.2, 'EMBRACENET_embracement_size': 768, 'n_post_layers': 1, 'EMBRACENET_n_units_l0': 32, 'EMBRACENET_dropout_l0': 0.0, 'selection_probabilities_FFNN': 0.29589219206859096, 'optimizer': 'Nadam', 'lr': 0.02762315167797052, 'weight_decay': 0.0009776647959325268}. Best is trial 1 with value: 0.10584814503981839.\u001b[0m\n"
     ]
    },
    {
     "name": "stdout",
     "output_type": "stream",
     "text": [
      "EarlyStopping counter: 5 out of 5\n",
      "Early stopping the training\n"
     ]
    },
    {
     "data": {
      "application/vnd.jupyter.widget-view+json": {
       "model_id": "93f1633da218472d8d92822d13bc7ca0",
       "version_major": 2,
       "version_minor": 0
      },
      "text/plain": [
       "Epochs:   0%|          | 0/100 [00:00<?, ?it/s]"
      ]
     },
     "metadata": {},
     "output_type": "display_data"
    },
    {
     "name": "stderr",
     "output_type": "stream",
     "text": [
      "/opt/anaconda3/lib/python3.8/site-packages/sklearn/metrics/_ranking.py:817: RuntimeWarning: invalid value encountered in true_divide\n",
      "  recall = tps / tps[-1]\n"
     ]
    },
    {
     "name": "stdout",
     "output_type": "stream",
     "text": [
      "EarlyStopping counter: 1 out of 5\n",
      "EarlyStopping counter: 2 out of 5\n",
      "EarlyStopping counter: 1 out of 5\n",
      "EarlyStopping counter: 2 out of 5\n",
      "EarlyStopping counter: 1 out of 5\n"
     ]
    },
    {
     "name": "stderr",
     "output_type": "stream",
     "text": [
      "/opt/anaconda3/lib/python3.8/site-packages/sklearn/metrics/_ranking.py:817: RuntimeWarning: invalid value encountered in true_divide\n",
      "  recall = tps / tps[-1]\n"
     ]
    },
    {
     "name": "stdout",
     "output_type": "stream",
     "text": [
      "EarlyStopping counter: 2 out of 5\n",
      "EarlyStopping counter: 3 out of 5\n",
      "EarlyStopping counter: 4 out of 5\n"
     ]
    },
    {
     "name": "stderr",
     "output_type": "stream",
     "text": [
      "\u001b[32m[I 2021-10-23 12:56:28,602]\u001b[0m Trial 3 finished with value: 0.04670774647887323 and parameters: {'FFNN_n_layers': 3, 'FFNN_n_units_l0': 64, 'FFNN_dropout_l0': 0.2, 'FFNN_n_units_l1': 32, 'FFNN_dropout_l1': 0.3, 'FFNN_n_units_l2': 16, 'FFNN_dropout_l2': 0.5, 'CNN_n_layers': 2, 'CNN_out_channels_l0': 32, 'CNN_kernel_size_l0': 5, 'CNN_dropout_l0': 0.4, 'CNN_out_channels_l1': 64, 'CNN_kernel_size_l1': 5, 'CNN_dropout_l1': 0.4, 'EMBRACENET_embracement_size': 512, 'n_post_layers': 1, 'EMBRACENET_n_units_l0': 256, 'EMBRACENET_dropout_l0': 0.2, 'selection_probabilities_FFNN': 0.3803243287211985, 'optimizer': 'Nadam', 'lr': 0.03901479552398145, 'weight_decay': 0.0012158161408008946}. Best is trial 1 with value: 0.10584814503981839.\u001b[0m\n"
     ]
    },
    {
     "name": "stdout",
     "output_type": "stream",
     "text": [
      "EarlyStopping counter: 5 out of 5\n",
      "Early stopping the training\n",
      "Study statistics: \n",
      "  Number of finished trials:  4\n",
      "  Number of pruned trials:  0\n",
      "  Number of complete trials:  3\n",
      "Best trial:\n",
      "  Value:  0.10584814503981839\n",
      "  Params: \n",
      "    CNN_dropout_l0: 0.2\n",
      "    CNN_kernel_size_l0: 11\n",
      "    CNN_n_layers: 1\n",
      "    CNN_out_channels_l0: 64\n",
      "    EMBRACENET_embracement_size: 512\n",
      "    FFNN_dropout_l0: 0.0\n",
      "    FFNN_n_layers: 1\n",
      "    FFNN_n_units_l0: 32\n",
      "    lr: 4.366399279990093e-05\n",
      "    n_post_layers: 0\n",
      "    optimizer: Nadam\n",
      "    selection_probabilities_FFNN: 0.30341574474062705\n",
      "    weight_decay: 0.005075790764731148\n",
      "\n",
      "===============> MODEL TESTING\n"
     ]
    },
    {
     "data": {
      "application/vnd.jupyter.widget-view+json": {
       "model_id": "dcf155d3d2d14bb7a3368a1fd3cae768",
       "version_major": 2,
       "version_minor": 0
      },
      "text/plain": [
       "Epochs:   0%|          | 0/100 [00:00<?, ?it/s]"
      ]
     },
     "metadata": {},
     "output_type": "display_data"
    },
    {
     "name": "stdout",
     "output_type": "stream",
     "text": [
      "EarlyStopping counter: 1 out of 5\n",
      "EarlyStopping counter: 2 out of 5\n",
      "EarlyStopping counter: 3 out of 5\n",
      "EarlyStopping counter: 4 out of 5\n",
      "EarlyStopping counter: 5 out of 5\n",
      "Early stopping the training\n",
      "AUPRC test score: 0.08181235767402777\n",
      "\n",
      "\n",
      ">>> ITERATION N. 2\n",
      "\n",
      "===============> HYPERPARAMETERS TUNING\n"
     ]
    },
    {
     "name": "stderr",
     "output_type": "stream",
     "text": [
      "/Users/Niki/Prediction-of-Active-and-Inactive-Regulatory-Regions-with-Embracenet-Multimodal-Neural-Network-/BIOINF_tesi/models/utils/training_models_multimodal.py:425: ExperimentalWarning: PatientPruner is experimental (supported from v2.8.0). The interface can change in the future.\n",
      "  pruner=optuna.pruners.PatientPruner(optuna.pruners.MedianPruner(), patience=2),\n",
      "\u001b[32m[I 2021-10-23 13:20:23,875]\u001b[0m A new study created in RDB with name: H1_active_E_vs_inactive_E_EmbraceNetMultimodal_1_2\u001b[0m\n"
     ]
    },
    {
     "data": {
      "application/vnd.jupyter.widget-view+json": {
       "model_id": "b946948019dc4d3ba9fa68ad04145503",
       "version_major": 2,
       "version_minor": 0
      },
      "text/plain": [
       "Epochs:   0%|          | 0/100 [00:00<?, ?it/s]"
      ]
     },
     "metadata": {},
     "output_type": "display_data"
    },
    {
     "name": "stdout",
     "output_type": "stream",
     "text": [
      "EarlyStopping counter: 1 out of 5\n",
      "EarlyStopping counter: 1 out of 5\n",
      "EarlyStopping counter: 2 out of 5\n",
      "EarlyStopping counter: 3 out of 5\n",
      "EarlyStopping counter: 4 out of 5\n"
     ]
    },
    {
     "name": "stderr",
     "output_type": "stream",
     "text": [
      "\u001b[32m[I 2021-10-23 13:59:28,088]\u001b[0m Trial 0 finished with value: 0.09931226996424711 and parameters: {'FFNN_n_layers': 1, 'FFNN_n_units_l0': 256, 'FFNN_dropout_l0': 0.2, 'CNN_n_layers': 4, 'CNN_out_channels_l0': 16, 'CNN_kernel_size_l0': 5, 'CNN_dropout_l0': 0, 'CNN_out_channels_l1': 96, 'CNN_kernel_size_l1': 5, 'CNN_dropout_l1': 0, 'CNN_out_channels_l2': 128, 'CNN_kernel_size_l2': 11, 'CNN_dropout_l2': 0.5, 'CNN_out_channels_l3': 256, 'CNN_kernel_size_l3': 11, 'CNN_dropout_l3': 0.5, 'EMBRACENET_embracement_size': 768, 'n_post_layers': 0, 'selection_probabilities_FFNN': 0.21521890983817527, 'optimizer': 'RMSprop', 'lr': 0.0002029719451244337, 'weight_decay': 0.003454362055483411}. Best is trial 0 with value: 0.09931226996424711.\u001b[0m\n"
     ]
    },
    {
     "name": "stdout",
     "output_type": "stream",
     "text": [
      "EarlyStopping counter: 5 out of 5\n",
      "Early stopping the training\n"
     ]
    },
    {
     "data": {
      "application/vnd.jupyter.widget-view+json": {
       "model_id": "049a1e374ba84bbea5a72a0a57857ebb",
       "version_major": 2,
       "version_minor": 0
      },
      "text/plain": [
       "Epochs:   0%|          | 0/100 [00:00<?, ?it/s]"
      ]
     },
     "metadata": {},
     "output_type": "display_data"
    },
    {
     "name": "stdout",
     "output_type": "stream",
     "text": [
      "EarlyStopping counter: 1 out of 5\n",
      "EarlyStopping counter: 2 out of 5\n"
     ]
    },
    {
     "name": "stderr",
     "output_type": "stream",
     "text": [
      "/opt/anaconda3/lib/python3.8/site-packages/sklearn/metrics/_ranking.py:817: RuntimeWarning: invalid value encountered in true_divide\n",
      "  recall = tps / tps[-1]\n"
     ]
    },
    {
     "name": "stdout",
     "output_type": "stream",
     "text": [
      "EarlyStopping counter: 1 out of 5\n"
     ]
    },
    {
     "name": "stderr",
     "output_type": "stream",
     "text": [
      "/opt/anaconda3/lib/python3.8/site-packages/sklearn/metrics/_ranking.py:817: RuntimeWarning: invalid value encountered in true_divide\n",
      "  recall = tps / tps[-1]\n"
     ]
    },
    {
     "name": "stdout",
     "output_type": "stream",
     "text": [
      "EarlyStopping counter: 2 out of 5\n"
     ]
    },
    {
     "name": "stderr",
     "output_type": "stream",
     "text": [
      "/opt/anaconda3/lib/python3.8/site-packages/sklearn/metrics/_ranking.py:817: RuntimeWarning: invalid value encountered in true_divide\n",
      "  recall = tps / tps[-1]\n"
     ]
    },
    {
     "name": "stdout",
     "output_type": "stream",
     "text": [
      "EarlyStopping counter: 3 out of 5\n",
      "EarlyStopping counter: 4 out of 5\n"
     ]
    },
    {
     "name": "stderr",
     "output_type": "stream",
     "text": [
      "\u001b[32m[I 2021-10-23 14:30:08,711]\u001b[0m Trial 1 finished with value: 0.06982900184162441 and parameters: {'FFNN_n_layers': 2, 'FFNN_n_units_l0': 64, 'FFNN_dropout_l0': 0.2, 'FFNN_n_units_l1': 32, 'FFNN_dropout_l1': 0.3, 'CNN_n_layers': 2, 'CNN_out_channels_l0': 64, 'CNN_kernel_size_l0': 11, 'CNN_dropout_l0': 0.4, 'CNN_out_channels_l1': 96, 'CNN_kernel_size_l1': 5, 'CNN_dropout_l1': 0.5, 'EMBRACENET_embracement_size': 1024, 'n_post_layers': 0, 'selection_probabilities_FFNN': 0.3753433135363081, 'optimizer': 'Nadam', 'lr': 0.0006062933818704843, 'weight_decay': 0.018449546029732346}. Best is trial 0 with value: 0.09931226996424711.\u001b[0m\n"
     ]
    },
    {
     "name": "stdout",
     "output_type": "stream",
     "text": [
      "EarlyStopping counter: 5 out of 5\n",
      "Early stopping the training\n"
     ]
    },
    {
     "data": {
      "application/vnd.jupyter.widget-view+json": {
       "model_id": "53d56b2dd476444ebc0dba9f05ad92c8",
       "version_major": 2,
       "version_minor": 0
      },
      "text/plain": [
       "Epochs:   0%|          | 0/100 [00:00<?, ?it/s]"
      ]
     },
     "metadata": {},
     "output_type": "display_data"
    },
    {
     "name": "stdout",
     "output_type": "stream",
     "text": [
      "EarlyStopping counter: 1 out of 5\n",
      "EarlyStopping counter: 2 out of 5\n",
      "EarlyStopping counter: 3 out of 5\n",
      "EarlyStopping counter: 1 out of 5\n",
      "EarlyStopping counter: 2 out of 5\n",
      "EarlyStopping counter: 3 out of 5\n",
      "EarlyStopping counter: 4 out of 5\n"
     ]
    },
    {
     "name": "stderr",
     "output_type": "stream",
     "text": [
      "\u001b[32m[I 2021-10-23 14:56:42,412]\u001b[0m Trial 2 finished with value: 0.0730818435353047 and parameters: {'FFNN_n_layers': 2, 'FFNN_n_units_l0': 128, 'FFNN_dropout_l0': 0.0, 'FFNN_n_units_l1': 128, 'FFNN_dropout_l1': 0.3, 'CNN_n_layers': 2, 'CNN_out_channels_l0': 64, 'CNN_kernel_size_l0': 15, 'CNN_dropout_l0': 0.3, 'CNN_out_channels_l1': 64, 'CNN_kernel_size_l1': 11, 'CNN_dropout_l1': 0.5, 'EMBRACENET_embracement_size': 768, 'n_post_layers': 2, 'EMBRACENET_n_units_l0': 128, 'EMBRACENET_dropout_l0': 0.3, 'EMBRACENET_n_units_l1': 256, 'EMBRACENET_dropout_l1': 0.3, 'selection_probabilities_FFNN': 0.5904954121938203, 'optimizer': 'Adam', 'lr': 0.00011723585845785309, 'weight_decay': 0.0016090332612813734}. Best is trial 0 with value: 0.09931226996424711.\u001b[0m\n"
     ]
    },
    {
     "name": "stdout",
     "output_type": "stream",
     "text": [
      "EarlyStopping counter: 5 out of 5\n",
      "Early stopping the training\n",
      "Study statistics: \n",
      "  Number of finished trials:  3\n",
      "  Number of pruned trials:  0\n",
      "  Number of complete trials:  3\n",
      "Best trial:\n",
      "  Value:  0.09931226996424711\n",
      "  Params: \n",
      "    CNN_dropout_l0: 0\n",
      "    CNN_dropout_l1: 0\n",
      "    CNN_dropout_l2: 0.5\n",
      "    CNN_dropout_l3: 0.5\n",
      "    CNN_kernel_size_l0: 5\n",
      "    CNN_kernel_size_l1: 5\n",
      "    CNN_kernel_size_l2: 11\n",
      "    CNN_kernel_size_l3: 11\n",
      "    CNN_n_layers: 4\n",
      "    CNN_out_channels_l0: 16\n",
      "    CNN_out_channels_l1: 96\n",
      "    CNN_out_channels_l2: 128\n",
      "    CNN_out_channels_l3: 256\n",
      "    EMBRACENET_embracement_size: 768\n",
      "    FFNN_dropout_l0: 0.2\n",
      "    FFNN_n_layers: 1\n",
      "    FFNN_n_units_l0: 256\n",
      "    lr: 0.0002029719451244337\n",
      "    n_post_layers: 0\n",
      "    optimizer: RMSprop\n",
      "    selection_probabilities_FFNN: 0.21521890983817527\n",
      "    weight_decay: 0.003454362055483411\n",
      "\n",
      "===============> MODEL TESTING\n"
     ]
    },
    {
     "data": {
      "application/vnd.jupyter.widget-view+json": {
       "model_id": "ffafa18bb9f34ed898b7f36ec604723d",
       "version_major": 2,
       "version_minor": 0
      },
      "text/plain": [
       "Epochs:   0%|          | 0/100 [00:00<?, ?it/s]"
      ]
     },
     "metadata": {},
     "output_type": "display_data"
    },
    {
     "name": "stdout",
     "output_type": "stream",
     "text": [
      "EarlyStopping counter: 1 out of 5\n",
      "EarlyStopping counter: 2 out of 5\n",
      "EarlyStopping counter: 3 out of 5\n",
      "EarlyStopping counter: 4 out of 5\n",
      "EarlyStopping counter: 5 out of 5\n",
      "Early stopping the training\n",
      "AUPRC test score: 0.08624962874303777\n",
      "\n",
      "\n",
      ">>> ITERATION N. 3\n",
      "\n",
      "===============> HYPERPARAMETERS TUNING\n"
     ]
    },
    {
     "name": "stderr",
     "output_type": "stream",
     "text": [
      "/Users/Niki/Prediction-of-Active-and-Inactive-Regulatory-Regions-with-Embracenet-Multimodal-Neural-Network-/BIOINF_tesi/models/utils/training_models_multimodal.py:425: ExperimentalWarning: PatientPruner is experimental (supported from v2.8.0). The interface can change in the future.\n",
      "  pruner=optuna.pruners.PatientPruner(optuna.pruners.MedianPruner(), patience=2),\n",
      "\u001b[32m[I 2021-10-23 15:46:44,424]\u001b[0m A new study created in RDB with name: H1_active_E_vs_inactive_E_EmbraceNetMultimodal_1_2_3\u001b[0m\n"
     ]
    },
    {
     "data": {
      "application/vnd.jupyter.widget-view+json": {
       "model_id": "6c17f66e64ed43c6ad587c77ded37c43",
       "version_major": 2,
       "version_minor": 0
      },
      "text/plain": [
       "Epochs:   0%|          | 0/100 [00:00<?, ?it/s]"
      ]
     },
     "metadata": {},
     "output_type": "display_data"
    },
    {
     "name": "stdout",
     "output_type": "stream",
     "text": [
      "EarlyStopping counter: 1 out of 5\n"
     ]
    },
    {
     "name": "stderr",
     "output_type": "stream",
     "text": [
      "/opt/anaconda3/lib/python3.8/site-packages/sklearn/metrics/_ranking.py:817: RuntimeWarning: invalid value encountered in true_divide\n",
      "  recall = tps / tps[-1]\n"
     ]
    },
    {
     "name": "stdout",
     "output_type": "stream",
     "text": [
      "EarlyStopping counter: 1 out of 5\n",
      "EarlyStopping counter: 2 out of 5\n",
      "EarlyStopping counter: 3 out of 5\n",
      "EarlyStopping counter: 4 out of 5\n"
     ]
    },
    {
     "name": "stderr",
     "output_type": "stream",
     "text": [
      "\u001b[32m[I 2021-10-23 16:07:05,434]\u001b[0m Trial 0 finished with value: 0.1302299532117524 and parameters: {'FFNN_n_layers': 2, 'FFNN_n_units_l0': 128, 'FFNN_dropout_l0': 0.4, 'FFNN_n_units_l1': 16, 'FFNN_dropout_l1': 0.4, 'CNN_n_layers': 3, 'CNN_out_channels_l0': 32, 'CNN_kernel_size_l0': 15, 'CNN_dropout_l0': 0.4, 'CNN_out_channels_l1': 96, 'CNN_kernel_size_l1': 5, 'CNN_dropout_l1': 0.5, 'CNN_out_channels_l2': 64, 'CNN_kernel_size_l2': 11, 'CNN_dropout_l2': 0.4, 'EMBRACENET_embracement_size': 768, 'n_post_layers': 0, 'selection_probabilities_FFNN': 0.6959902847786185, 'optimizer': 'RMSprop', 'lr': 0.0004943337970140457, 'weight_decay': 0.0011828561736692122}. Best is trial 0 with value: 0.1302299532117524.\u001b[0m\n"
     ]
    },
    {
     "name": "stdout",
     "output_type": "stream",
     "text": [
      "EarlyStopping counter: 5 out of 5\n",
      "Early stopping the training\n"
     ]
    },
    {
     "data": {
      "application/vnd.jupyter.widget-view+json": {
       "model_id": "b292016445c8411b8db715b7e0cf61b7",
       "version_major": 2,
       "version_minor": 0
      },
      "text/plain": [
       "Epochs:   0%|          | 0/100 [00:00<?, ?it/s]"
      ]
     },
     "metadata": {},
     "output_type": "display_data"
    },
    {
     "name": "stdout",
     "output_type": "stream",
     "text": [
      "EarlyStopping counter: 1 out of 5\n",
      "EarlyStopping counter: 1 out of 5\n",
      "EarlyStopping counter: 1 out of 5\n",
      "EarlyStopping counter: 2 out of 5\n",
      "EarlyStopping counter: 1 out of 5\n",
      "EarlyStopping counter: 1 out of 5\n",
      "EarlyStopping counter: 2 out of 5\n",
      "EarlyStopping counter: 3 out of 5\n",
      "EarlyStopping counter: 4 out of 5\n",
      "EarlyStopping counter: 1 out of 5\n",
      "EarlyStopping counter: 2 out of 5\n",
      "EarlyStopping counter: 1 out of 5\n",
      "EarlyStopping counter: 2 out of 5\n",
      "EarlyStopping counter: 3 out of 5\n",
      "EarlyStopping counter: 4 out of 5\n"
     ]
    },
    {
     "name": "stderr",
     "output_type": "stream",
     "text": [
      "\u001b[32m[I 2021-10-23 16:37:30,515]\u001b[0m Trial 1 finished with value: 0.07974563605697932 and parameters: {'FFNN_n_layers': 4, 'FFNN_n_units_l0': 128, 'FFNN_dropout_l0': 0.4, 'FFNN_n_units_l1': 64, 'FFNN_dropout_l1': 0.0, 'FFNN_n_units_l2': 4, 'FFNN_dropout_l2': 0.5, 'FFNN_n_units_l3': 16, 'FFNN_dropout_l3': 0.5, 'CNN_n_layers': 1, 'CNN_out_channels_l0': 16, 'CNN_kernel_size_l0': 15, 'CNN_dropout_l0': 0.4, 'EMBRACENET_embracement_size': 768, 'n_post_layers': 1, 'EMBRACENET_n_units_l0': 256, 'EMBRACENET_dropout_l0': 0.5, 'selection_probabilities_FFNN': 0.8422237864707396, 'optimizer': 'RMSprop', 'lr': 0.0024471051076502067, 'weight_decay': 0.004950967286577153}. Best is trial 0 with value: 0.1302299532117524.\u001b[0m\n"
     ]
    },
    {
     "name": "stdout",
     "output_type": "stream",
     "text": [
      "EarlyStopping counter: 5 out of 5\n",
      "Early stopping the training\n"
     ]
    },
    {
     "data": {
      "application/vnd.jupyter.widget-view+json": {
       "model_id": "dacd25a775054d7e8cb2481f5062d1b2",
       "version_major": 2,
       "version_minor": 0
      },
      "text/plain": [
       "Epochs:   0%|          | 0/100 [00:00<?, ?it/s]"
      ]
     },
     "metadata": {},
     "output_type": "display_data"
    },
    {
     "name": "stderr",
     "output_type": "stream",
     "text": [
      "/opt/anaconda3/lib/python3.8/site-packages/sklearn/metrics/_ranking.py:817: RuntimeWarning: invalid value encountered in true_divide\n",
      "  recall = tps / tps[-1]\n"
     ]
    },
    {
     "name": "stdout",
     "output_type": "stream",
     "text": [
      "EarlyStopping counter: 1 out of 5\n"
     ]
    },
    {
     "name": "stderr",
     "output_type": "stream",
     "text": [
      "/opt/anaconda3/lib/python3.8/site-packages/sklearn/metrics/_ranking.py:817: RuntimeWarning: invalid value encountered in true_divide\n",
      "  recall = tps / tps[-1]\n"
     ]
    },
    {
     "name": "stdout",
     "output_type": "stream",
     "text": [
      "EarlyStopping counter: 1 out of 5\n",
      "EarlyStopping counter: 2 out of 5\n",
      "EarlyStopping counter: 3 out of 5\n",
      "EarlyStopping counter: 4 out of 5\n"
     ]
    },
    {
     "name": "stderr",
     "output_type": "stream",
     "text": [
      "\u001b[32m[I 2021-10-23 16:54:37,092]\u001b[0m Trial 2 finished with value: 0.09052114979211393 and parameters: {'FFNN_n_layers': 2, 'FFNN_n_units_l0': 128, 'FFNN_dropout_l0': 0.2, 'FFNN_n_units_l1': 16, 'FFNN_dropout_l1': 0.3, 'CNN_n_layers': 1, 'CNN_out_channels_l0': 32, 'CNN_kernel_size_l0': 11, 'CNN_dropout_l0': 0.4, 'EMBRACENET_embracement_size': 512, 'n_post_layers': 1, 'EMBRACENET_n_units_l0': 64, 'EMBRACENET_dropout_l0': 0.2, 'selection_probabilities_FFNN': 0.18447848810731815, 'optimizer': 'Nadam', 'lr': 5.285202662283523e-05, 'weight_decay': 0.006999161735295871}. Best is trial 0 with value: 0.1302299532117524.\u001b[0m\n"
     ]
    },
    {
     "name": "stdout",
     "output_type": "stream",
     "text": [
      "EarlyStopping counter: 5 out of 5\n",
      "Early stopping the training\n",
      "Study statistics: \n",
      "  Number of finished trials:  3\n",
      "  Number of pruned trials:  0\n",
      "  Number of complete trials:  3\n",
      "Best trial:\n",
      "  Value:  0.1302299532117524\n",
      "  Params: \n",
      "    CNN_dropout_l0: 0.4\n",
      "    CNN_dropout_l1: 0.5\n",
      "    CNN_dropout_l2: 0.4\n",
      "    CNN_kernel_size_l0: 15\n",
      "    CNN_kernel_size_l1: 5\n",
      "    CNN_kernel_size_l2: 11\n",
      "    CNN_n_layers: 3\n",
      "    CNN_out_channels_l0: 32\n",
      "    CNN_out_channels_l1: 96\n",
      "    CNN_out_channels_l2: 64\n",
      "    EMBRACENET_embracement_size: 768\n",
      "    FFNN_dropout_l0: 0.4\n",
      "    FFNN_dropout_l1: 0.4\n",
      "    FFNN_n_layers: 2\n",
      "    FFNN_n_units_l0: 128\n",
      "    FFNN_n_units_l1: 16\n",
      "    lr: 0.0004943337970140457\n",
      "    n_post_layers: 0\n",
      "    optimizer: RMSprop\n",
      "    selection_probabilities_FFNN: 0.6959902847786185\n",
      "    weight_decay: 0.0011828561736692122\n",
      "\n",
      "===============> MODEL TESTING\n"
     ]
    },
    {
     "data": {
      "application/vnd.jupyter.widget-view+json": {
       "model_id": "7c356036e84d4992aa23d6f6ba1f3ffd",
       "version_major": 2,
       "version_minor": 0
      },
      "text/plain": [
       "Epochs:   0%|          | 0/100 [00:00<?, ?it/s]"
      ]
     },
     "metadata": {},
     "output_type": "display_data"
    },
    {
     "name": "stdout",
     "output_type": "stream",
     "text": [
      "EarlyStopping counter: 1 out of 5\n",
      "EarlyStopping counter: 2 out of 5\n",
      "EarlyStopping counter: 3 out of 5\n",
      "EarlyStopping counter: 4 out of 5\n",
      "EarlyStopping counter: 1 out of 5\n",
      "EarlyStopping counter: 2 out of 5\n",
      "EarlyStopping counter: 1 out of 5\n",
      "EarlyStopping counter: 1 out of 5\n",
      "EarlyStopping counter: 2 out of 5\n",
      "EarlyStopping counter: 3 out of 5\n",
      "EarlyStopping counter: 4 out of 5\n",
      "EarlyStopping counter: 5 out of 5\n",
      "Early stopping the training\n",
      "AUPRC test score: 0.09541923649148885\n",
      "\n",
      "\n",
      "\n",
      "3-FOLD CROSS-VALIDATION AUPRC TEST SCORE: 0.08783\n"
     ]
    }
   ],
   "source": [
    "# IMBALANCED\n",
    "kf_CV = Kfold_CV_Multimodal()\n",
    "\n",
    "kf_CV(build_dataloader_pipeline = pipe_data_load,\n",
    "                num_epochs = 100,\n",
    "                n_folds=3,\n",
    "                cell_line=cell_line,\n",
    "                augmentation=False,\n",
    "                model = model,\n",
    "                device = device,\n",
    "                task=task,\n",
    "                sampler = 'TPE',\n",
    "                study_name = f'{cell_line}_{task}_{model.__name__}',\n",
    "                test_model_path = f'{cell_line}_{task}_{model.__name__}_TEST')"
   ]
  },
  {
   "cell_type": "code",
   "execution_count": 11,
   "metadata": {},
   "outputs": [],
   "source": [
    "results_dict[cell_line][task][model.__name__] = kf_CV.scores_dict"
   ]
  },
  {
   "cell_type": "code",
   "execution_count": 12,
   "metadata": {},
   "outputs": [],
   "source": [
    "with open ('results_dict.pickle', 'wb') as fout:\n",
    "    pickle.dump(OrderedDict(results_dict), fout)"
   ]
  },
  {
   "cell_type": "markdown",
   "metadata": {},
   "source": [
    "### CONCATNET"
   ]
  },
  {
   "cell_type": "code",
   "execution_count": null,
   "metadata": {},
   "outputs": [],
   "source": [
    "model=ConcatNetMultimodal"
   ]
  },
  {
   "cell_type": "code",
   "execution_count": null,
   "metadata": {
    "scrolled": true
   },
   "outputs": [],
   "source": [
    "# IMBALANCED\n",
    "kf_CV = Kfold_CV_Multimodal()\n",
    "\n",
    "kf_CV(build_dataloader_pipeline = pipe_data_load,\n",
    "                num_epochs = 100,\n",
    "                n_folds=3,\n",
    "                cell_line=cell_line,\n",
    "                augmentation=False,\n",
    "                model = model,\n",
    "                device = device,\n",
    "                task=task,\n",
    "                sampler = 'TPE',\n",
    "                study_name = f'{cell_line}_{task}_{model.__name__}',\n",
    "                test_model_path = f'{cell_line}_{task}_{model.__name__}_TEST')"
   ]
  },
  {
   "cell_type": "code",
   "execution_count": null,
   "metadata": {},
   "outputs": [],
   "source": [
    "results_dict[cell_line][task][model.__name__] = kf_CV.scores_dict"
   ]
  },
  {
   "cell_type": "code",
   "execution_count": null,
   "metadata": {},
   "outputs": [],
   "source": [
    "with open ('results_dict.pickle', 'wb') as fout:\n",
    "    pickle.dump(OrderedDict(results_dict), fout)"
   ]
  },
  {
   "cell_type": "markdown",
   "metadata": {},
   "source": [
    "---"
   ]
  },
  {
   "cell_type": "markdown",
   "metadata": {},
   "source": [
    "## 2) ACTIVE PROMOTERS vs INACTIVE PROMOTERS"
   ]
  },
  {
   "cell_type": "code",
   "execution_count": null,
   "metadata": {},
   "outputs": [],
   "source": [
    "task = TASKS[1]\n",
    "task"
   ]
  },
  {
   "cell_type": "code",
   "execution_count": null,
   "metadata": {},
   "outputs": [],
   "source": [
    "pipe_data_load = Build_DataLoader_Pipeline(path_name=f'{task}.pickle')"
   ]
  },
  {
   "cell_type": "markdown",
   "metadata": {},
   "source": [
    "---\n",
    "### EMBRACENET"
   ]
  },
  {
   "cell_type": "code",
   "execution_count": 21,
   "metadata": {},
   "outputs": [],
   "source": [
    "model=EmbraceNetMultimodal"
   ]
  },
  {
   "cell_type": "code",
   "execution_count": 22,
   "metadata": {
    "scrolled": true
   },
   "outputs": [
    {
     "name": "stderr",
     "output_type": "stream",
     "text": [
      "/Users/Niki/Prediction-of-Active-and-Inactive-Regulatory-Regions-with-Embracenet-Multimodal-Neural-Network-/BIOINF_tesi/models/utils/training_models_multimodal.py:425: ExperimentalWarning: PatientPruner is experimental (supported from v2.8.0). The interface can change in the future.\n",
      "  pruner=optuna.pruners.PatientPruner(optuna.pruners.MedianPruner(), patience=2),\n",
      "\u001b[32m[I 2021-10-23 19:06:38,146]\u001b[0m Using an existing study with name 'H1_active_P_vs_inactive_P_EmbraceNetMultimodal_1' instead of creating a new one.\u001b[0m\n"
     ]
    },
    {
     "name": "stdout",
     "output_type": "stream",
     "text": [
      ">>> ITERATION N. 1\n",
      "\n",
      "===============> HYPERPARAMETERS TUNING\n"
     ]
    },
    {
     "data": {
      "application/vnd.jupyter.widget-view+json": {
       "model_id": "c77a7f710f9c47bab45aaf3050959527",
       "version_major": 2,
       "version_minor": 0
      },
      "text/plain": [
       "Epochs:   0%|          | 0/100 [00:00<?, ?it/s]"
      ]
     },
     "metadata": {},
     "output_type": "display_data"
    },
    {
     "name": "stdout",
     "output_type": "stream",
     "text": [
      "EarlyStopping counter: 1 out of 5\n",
      "EarlyStopping counter: 1 out of 5\n",
      "EarlyStopping counter: 2 out of 5\n",
      "EarlyStopping counter: 3 out of 5\n",
      "EarlyStopping counter: 1 out of 5\n",
      "EarlyStopping counter: 2 out of 5\n",
      "EarlyStopping counter: 3 out of 5\n",
      "EarlyStopping counter: 4 out of 5\n"
     ]
    },
    {
     "name": "stderr",
     "output_type": "stream",
     "text": [
      "\u001b[32m[I 2021-10-23 20:03:41,288]\u001b[0m Trial 1 finished with value: 0.15934622708709495 and parameters: {'FFNN_n_layers': 4, 'FFNN_n_units_l0': 64, 'FFNN_dropout_l0': 0.0, 'FFNN_n_units_l1': 64, 'FFNN_dropout_l1': 0.3, 'FFNN_n_units_l2': 4, 'FFNN_dropout_l2': 0.0, 'FFNN_n_units_l3': 32, 'FFNN_dropout_l3': 0.5, 'CNN_n_layers': 2, 'CNN_out_channels_l0': 64, 'CNN_kernel_size_l0': 5, 'CNN_dropout_l0': 0, 'CNN_out_channels_l1': 96, 'CNN_kernel_size_l1': 11, 'CNN_dropout_l1': 0.4, 'EMBRACENET_embracement_size': 512, 'n_post_layers': 1, 'EMBRACENET_n_units_l0': 128, 'EMBRACENET_dropout_l0': 0.0, 'selection_probabilities_FFNN': 0.059067289516818944, 'optimizer': 'Nadam', 'lr': 0.0003778768631478525, 'weight_decay': 0.02465916371968456}. Best is trial 1 with value: 0.15934622708709495.\u001b[0m\n"
     ]
    },
    {
     "name": "stdout",
     "output_type": "stream",
     "text": [
      "EarlyStopping counter: 5 out of 5\n",
      "Early stopping the training\n"
     ]
    },
    {
     "data": {
      "application/vnd.jupyter.widget-view+json": {
       "model_id": "0bb3fc856de1437c932266912a704233",
       "version_major": 2,
       "version_minor": 0
      },
      "text/plain": [
       "Epochs:   0%|          | 0/100 [00:00<?, ?it/s]"
      ]
     },
     "metadata": {},
     "output_type": "display_data"
    },
    {
     "name": "stdout",
     "output_type": "stream",
     "text": [
      "EarlyStopping counter: 1 out of 5\n",
      "EarlyStopping counter: 2 out of 5\n",
      "EarlyStopping counter: 3 out of 5\n",
      "EarlyStopping counter: 4 out of 5\n"
     ]
    },
    {
     "name": "stderr",
     "output_type": "stream",
     "text": [
      "\u001b[32m[I 2021-10-23 21:01:38,694]\u001b[0m Trial 2 finished with value: 0.21012608087660697 and parameters: {'FFNN_n_layers': 2, 'FFNN_n_units_l0': 64, 'FFNN_dropout_l0': 0.2, 'FFNN_n_units_l1': 64, 'FFNN_dropout_l1': 0.2, 'CNN_n_layers': 4, 'CNN_out_channels_l0': 16, 'CNN_kernel_size_l0': 15, 'CNN_dropout_l0': 0.4, 'CNN_out_channels_l1': 64, 'CNN_kernel_size_l1': 11, 'CNN_dropout_l1': 0.5, 'CNN_out_channels_l2': 128, 'CNN_kernel_size_l2': 11, 'CNN_dropout_l2': 0.4, 'CNN_out_channels_l3': 512, 'CNN_kernel_size_l3': 11, 'CNN_dropout_l3': 0.4, 'EMBRACENET_embracement_size': 768, 'n_post_layers': 1, 'EMBRACENET_n_units_l0': 128, 'EMBRACENET_dropout_l0': 0.2, 'selection_probabilities_FFNN': 0.24092762044490545, 'optimizer': 'Nadam', 'lr': 0.0029017344500568486, 'weight_decay': 0.0032362741085094206}. Best is trial 2 with value: 0.21012608087660697.\u001b[0m\n"
     ]
    },
    {
     "name": "stdout",
     "output_type": "stream",
     "text": [
      "EarlyStopping counter: 5 out of 5\n",
      "Early stopping the training\n"
     ]
    },
    {
     "data": {
      "application/vnd.jupyter.widget-view+json": {
       "model_id": "cb8b800a04624ac4a4beb8c1ea2eb624",
       "version_major": 2,
       "version_minor": 0
      },
      "text/plain": [
       "Epochs:   0%|          | 0/100 [00:00<?, ?it/s]"
      ]
     },
     "metadata": {},
     "output_type": "display_data"
    },
    {
     "name": "stdout",
     "output_type": "stream",
     "text": [
      "EarlyStopping counter: 1 out of 5\n",
      "EarlyStopping counter: 1 out of 5\n",
      "EarlyStopping counter: 2 out of 5\n",
      "EarlyStopping counter: 1 out of 5\n",
      "EarlyStopping counter: 2 out of 5\n",
      "EarlyStopping counter: 1 out of 5\n",
      "EarlyStopping counter: 1 out of 5\n",
      "EarlyStopping counter: 2 out of 5\n",
      "EarlyStopping counter: 3 out of 5\n",
      "EarlyStopping counter: 4 out of 5\n",
      "EarlyStopping counter: 1 out of 5\n",
      "EarlyStopping counter: 2 out of 5\n",
      "EarlyStopping counter: 3 out of 5\n",
      "EarlyStopping counter: 4 out of 5\n"
     ]
    },
    {
     "name": "stderr",
     "output_type": "stream",
     "text": [
      "\u001b[32m[I 2021-10-23 22:31:48,602]\u001b[0m Trial 3 finished with value: 0.3025317995726415 and parameters: {'FFNN_n_layers': 1, 'FFNN_n_units_l0': 128, 'FFNN_dropout_l0': 0.2, 'CNN_n_layers': 2, 'CNN_out_channels_l0': 32, 'CNN_kernel_size_l0': 5, 'CNN_dropout_l0': 0, 'CNN_out_channels_l1': 64, 'CNN_kernel_size_l1': 5, 'CNN_dropout_l1': 0.4, 'EMBRACENET_embracement_size': 1024, 'n_post_layers': 2, 'EMBRACENET_n_units_l0': 128, 'EMBRACENET_dropout_l0': 0.5, 'EMBRACENET_n_units_l1': 64, 'EMBRACENET_dropout_l1': 0.3, 'selection_probabilities_FFNN': 0.4615369060542335, 'optimizer': 'Nadam', 'lr': 0.0003533773603162303, 'weight_decay': 0.0006454235737532866}. Best is trial 3 with value: 0.3025317995726415.\u001b[0m\n"
     ]
    },
    {
     "name": "stdout",
     "output_type": "stream",
     "text": [
      "EarlyStopping counter: 5 out of 5\n",
      "Early stopping the training\n",
      "Study statistics: \n",
      "  Number of finished trials:  4\n",
      "  Number of pruned trials:  0\n",
      "  Number of complete trials:  3\n",
      "Best trial:\n",
      "  Value:  0.3025317995726415\n",
      "  Params: \n",
      "    CNN_dropout_l0: 0\n",
      "    CNN_dropout_l1: 0.4\n",
      "    CNN_kernel_size_l0: 5\n",
      "    CNN_kernel_size_l1: 5\n",
      "    CNN_n_layers: 2\n",
      "    CNN_out_channels_l0: 32\n",
      "    CNN_out_channels_l1: 64\n",
      "    EMBRACENET_dropout_l0: 0.5\n",
      "    EMBRACENET_dropout_l1: 0.3\n",
      "    EMBRACENET_embracement_size: 1024\n",
      "    EMBRACENET_n_units_l0: 128\n",
      "    EMBRACENET_n_units_l1: 64\n",
      "    FFNN_dropout_l0: 0.2\n",
      "    FFNN_n_layers: 1\n",
      "    FFNN_n_units_l0: 128\n",
      "    lr: 0.0003533773603162303\n",
      "    n_post_layers: 2\n",
      "    optimizer: Nadam\n",
      "    selection_probabilities_FFNN: 0.4615369060542335\n",
      "    weight_decay: 0.0006454235737532866\n",
      "\n",
      "===============> MODEL TESTING\n"
     ]
    },
    {
     "data": {
      "application/vnd.jupyter.widget-view+json": {
       "model_id": "0c262a0b32324987891582d877be7c7e",
       "version_major": 2,
       "version_minor": 0
      },
      "text/plain": [
       "Epochs:   0%|          | 0/100 [00:00<?, ?it/s]"
      ]
     },
     "metadata": {},
     "output_type": "display_data"
    },
    {
     "name": "stdout",
     "output_type": "stream",
     "text": [
      "EarlyStopping counter: 1 out of 5\n",
      "EarlyStopping counter: 1 out of 5\n",
      "EarlyStopping counter: 2 out of 5\n",
      "EarlyStopping counter: 3 out of 5\n",
      "EarlyStopping counter: 4 out of 5\n",
      "EarlyStopping counter: 5 out of 5\n",
      "Early stopping the training\n",
      "AUPRC test score: 0.29145218167426606\n",
      "\n",
      "\n",
      ">>> ITERATION N. 2\n",
      "\n",
      "===============> HYPERPARAMETERS TUNING\n"
     ]
    },
    {
     "name": "stderr",
     "output_type": "stream",
     "text": [
      "/Users/Niki/Prediction-of-Active-and-Inactive-Regulatory-Regions-with-Embracenet-Multimodal-Neural-Network-/BIOINF_tesi/models/utils/training_models_multimodal.py:425: ExperimentalWarning: PatientPruner is experimental (supported from v2.8.0). The interface can change in the future.\n",
      "  pruner=optuna.pruners.PatientPruner(optuna.pruners.MedianPruner(), patience=2),\n",
      "\u001b[32m[I 2021-10-23 23:21:57,984]\u001b[0m A new study created in RDB with name: H1_active_P_vs_inactive_P_EmbraceNetMultimodal_1_2\u001b[0m\n"
     ]
    },
    {
     "data": {
      "application/vnd.jupyter.widget-view+json": {
       "model_id": "d52667acf1e740928df02f354e52c818",
       "version_major": 2,
       "version_minor": 0
      },
      "text/plain": [
       "Epochs:   0%|          | 0/100 [00:00<?, ?it/s]"
      ]
     },
     "metadata": {},
     "output_type": "display_data"
    },
    {
     "name": "stdout",
     "output_type": "stream",
     "text": [
      "EarlyStopping counter: 1 out of 5\n",
      "EarlyStopping counter: 1 out of 5\n",
      "EarlyStopping counter: 2 out of 5\n",
      "EarlyStopping counter: 3 out of 5\n",
      "EarlyStopping counter: 4 out of 5\n"
     ]
    },
    {
     "name": "stderr",
     "output_type": "stream",
     "text": [
      "\u001b[32m[I 2021-10-24 00:03:34,694]\u001b[0m Trial 0 finished with value: 0.22155283458579506 and parameters: {'FFNN_n_layers': 1, 'FFNN_n_units_l0': 64, 'FFNN_dropout_l0': 0.3, 'CNN_n_layers': 2, 'CNN_out_channels_l0': 64, 'CNN_kernel_size_l0': 5, 'CNN_dropout_l0': 0, 'CNN_out_channels_l1': 96, 'CNN_kernel_size_l1': 5, 'CNN_dropout_l1': 0.5, 'EMBRACENET_embracement_size': 1024, 'n_post_layers': 1, 'EMBRACENET_n_units_l0': 512, 'EMBRACENET_dropout_l0': 0.0, 'selection_probabilities_FFNN': 0.0692343113713565, 'optimizer': 'Adam', 'lr': 0.004278902843100404, 'weight_decay': 0.0460410704798748}. Best is trial 0 with value: 0.22155283458579506.\u001b[0m\n"
     ]
    },
    {
     "name": "stdout",
     "output_type": "stream",
     "text": [
      "EarlyStopping counter: 5 out of 5\n",
      "Early stopping the training\n"
     ]
    },
    {
     "data": {
      "application/vnd.jupyter.widget-view+json": {
       "model_id": "bba82ac2f6274fbb8811510b56898bf6",
       "version_major": 2,
       "version_minor": 0
      },
      "text/plain": [
       "Epochs:   0%|          | 0/100 [00:00<?, ?it/s]"
      ]
     },
     "metadata": {},
     "output_type": "display_data"
    },
    {
     "name": "stdout",
     "output_type": "stream",
     "text": [
      "EarlyStopping counter: 1 out of 5\n",
      "EarlyStopping counter: 1 out of 5\n",
      "EarlyStopping counter: 2 out of 5\n",
      "EarlyStopping counter: 3 out of 5\n",
      "EarlyStopping counter: 4 out of 5\n"
     ]
    },
    {
     "name": "stderr",
     "output_type": "stream",
     "text": [
      "\u001b[32m[I 2021-10-24 00:41:11,202]\u001b[0m Trial 1 finished with value: 0.24633081609443322 and parameters: {'FFNN_n_layers': 3, 'FFNN_n_units_l0': 256, 'FFNN_dropout_l0': 0.3, 'FFNN_n_units_l1': 128, 'FFNN_dropout_l1': 0.4, 'FFNN_n_units_l2': 32, 'FFNN_dropout_l2': 0.0, 'CNN_n_layers': 2, 'CNN_out_channels_l0': 64, 'CNN_kernel_size_l0': 5, 'CNN_dropout_l0': 0, 'CNN_out_channels_l1': 96, 'CNN_kernel_size_l1': 5, 'CNN_dropout_l1': 0.5, 'EMBRACENET_embracement_size': 512, 'n_post_layers': 0, 'selection_probabilities_FFNN': 0.13227642806968054, 'optimizer': 'RMSprop', 'lr': 0.0002882001684154424, 'weight_decay': 0.005541134916744008}. Best is trial 1 with value: 0.24633081609443322.\u001b[0m\n"
     ]
    },
    {
     "name": "stdout",
     "output_type": "stream",
     "text": [
      "EarlyStopping counter: 5 out of 5\n",
      "Early stopping the training\n"
     ]
    },
    {
     "data": {
      "application/vnd.jupyter.widget-view+json": {
       "model_id": "e6aecba3d84f489fa2bb86aa972a5bac",
       "version_major": 2,
       "version_minor": 0
      },
      "text/plain": [
       "Epochs:   0%|          | 0/100 [00:00<?, ?it/s]"
      ]
     },
     "metadata": {},
     "output_type": "display_data"
    },
    {
     "name": "stdout",
     "output_type": "stream",
     "text": [
      "EarlyStopping counter: 1 out of 5\n",
      "EarlyStopping counter: 1 out of 5\n",
      "EarlyStopping counter: 2 out of 5\n",
      "EarlyStopping counter: 3 out of 5\n",
      "EarlyStopping counter: 4 out of 5\n"
     ]
    },
    {
     "name": "stderr",
     "output_type": "stream",
     "text": [
      "\u001b[32m[I 2021-10-24 01:10:15,792]\u001b[0m Trial 2 finished with value: 0.2615932584948042 and parameters: {'FFNN_n_layers': 2, 'FFNN_n_units_l0': 256, 'FFNN_dropout_l0': 0.0, 'FFNN_n_units_l1': 32, 'FFNN_dropout_l1': 0.0, 'CNN_n_layers': 1, 'CNN_out_channels_l0': 64, 'CNN_kernel_size_l0': 11, 'CNN_dropout_l0': 0.2, 'EMBRACENET_embracement_size': 768, 'n_post_layers': 0, 'selection_probabilities_FFNN': 0.35360892078627604, 'optimizer': 'RMSprop', 'lr': 0.026842343853951817, 'weight_decay': 0.0014650000353522048}. Best is trial 2 with value: 0.2615932584948042.\u001b[0m\n"
     ]
    },
    {
     "name": "stdout",
     "output_type": "stream",
     "text": [
      "EarlyStopping counter: 5 out of 5\n",
      "Early stopping the training\n",
      "Study statistics: \n",
      "  Number of finished trials:  3\n",
      "  Number of pruned trials:  0\n",
      "  Number of complete trials:  3\n",
      "Best trial:\n",
      "  Value:  0.2615932584948042\n",
      "  Params: \n",
      "    CNN_dropout_l0: 0.2\n",
      "    CNN_kernel_size_l0: 11\n",
      "    CNN_n_layers: 1\n",
      "    CNN_out_channels_l0: 64\n",
      "    EMBRACENET_embracement_size: 768\n",
      "    FFNN_dropout_l0: 0.0\n",
      "    FFNN_dropout_l1: 0.0\n",
      "    FFNN_n_layers: 2\n",
      "    FFNN_n_units_l0: 256\n",
      "    FFNN_n_units_l1: 32\n",
      "    lr: 0.026842343853951817\n",
      "    n_post_layers: 0\n",
      "    optimizer: RMSprop\n",
      "    selection_probabilities_FFNN: 0.35360892078627604\n",
      "    weight_decay: 0.0014650000353522048\n",
      "\n",
      "===============> MODEL TESTING\n"
     ]
    },
    {
     "data": {
      "application/vnd.jupyter.widget-view+json": {
       "model_id": "c2f7a5b89ff7406c9caf85640404356f",
       "version_major": 2,
       "version_minor": 0
      },
      "text/plain": [
       "Epochs:   0%|          | 0/100 [00:00<?, ?it/s]"
      ]
     },
     "metadata": {},
     "output_type": "display_data"
    },
    {
     "name": "stdout",
     "output_type": "stream",
     "text": [
      "EarlyStopping counter: 1 out of 5\n",
      "EarlyStopping counter: 2 out of 5\n",
      "EarlyStopping counter: 3 out of 5\n",
      "EarlyStopping counter: 4 out of 5\n",
      "EarlyStopping counter: 1 out of 5\n",
      "EarlyStopping counter: 1 out of 5\n",
      "EarlyStopping counter: 2 out of 5\n",
      "EarlyStopping counter: 1 out of 5\n",
      "EarlyStopping counter: 2 out of 5\n",
      "EarlyStopping counter: 3 out of 5\n",
      "EarlyStopping counter: 4 out of 5\n",
      "EarlyStopping counter: 5 out of 5\n",
      "Early stopping the training\n",
      "AUPRC test score: 0.278506375420035\n",
      "\n",
      "\n",
      ">>> ITERATION N. 3\n",
      "\n",
      "===============> HYPERPARAMETERS TUNING\n"
     ]
    },
    {
     "name": "stderr",
     "output_type": "stream",
     "text": [
      "/Users/Niki/Prediction-of-Active-and-Inactive-Regulatory-Regions-with-Embracenet-Multimodal-Neural-Network-/BIOINF_tesi/models/utils/training_models_multimodal.py:425: ExperimentalWarning: PatientPruner is experimental (supported from v2.8.0). The interface can change in the future.\n",
      "  pruner=optuna.pruners.PatientPruner(optuna.pruners.MedianPruner(), patience=2),\n",
      "\u001b[32m[I 2021-10-24 02:34:08,903]\u001b[0m A new study created in RDB with name: H1_active_P_vs_inactive_P_EmbraceNetMultimodal_1_2_3\u001b[0m\n"
     ]
    },
    {
     "data": {
      "application/vnd.jupyter.widget-view+json": {
       "model_id": "7142f06e6b3140d28f87d107e961b01a",
       "version_major": 2,
       "version_minor": 0
      },
      "text/plain": [
       "Epochs:   0%|          | 0/100 [00:00<?, ?it/s]"
      ]
     },
     "metadata": {},
     "output_type": "display_data"
    },
    {
     "name": "stdout",
     "output_type": "stream",
     "text": [
      "EarlyStopping counter: 1 out of 5\n",
      "EarlyStopping counter: 2 out of 5\n",
      "EarlyStopping counter: 3 out of 5\n",
      "EarlyStopping counter: 1 out of 5\n",
      "EarlyStopping counter: 2 out of 5\n",
      "EarlyStopping counter: 1 out of 5\n",
      "EarlyStopping counter: 2 out of 5\n",
      "EarlyStopping counter: 3 out of 5\n",
      "EarlyStopping counter: 1 out of 5\n",
      "EarlyStopping counter: 2 out of 5\n",
      "EarlyStopping counter: 3 out of 5\n",
      "EarlyStopping counter: 4 out of 5\n"
     ]
    },
    {
     "name": "stderr",
     "output_type": "stream",
     "text": [
      "\u001b[32m[I 2021-10-24 03:09:55,533]\u001b[0m Trial 0 finished with value: 0.30162518603237853 and parameters: {'FFNN_n_layers': 1, 'FFNN_n_units_l0': 128, 'FFNN_dropout_l0': 0.4, 'CNN_n_layers': 1, 'CNN_out_channels_l0': 16, 'CNN_kernel_size_l0': 11, 'CNN_dropout_l0': 0.2, 'EMBRACENET_embracement_size': 512, 'n_post_layers': 0, 'selection_probabilities_FFNN': 0.8381915206447009, 'optimizer': 'RMSprop', 'lr': 0.0001157314508522964, 'weight_decay': 0.0005576570260230154}. Best is trial 0 with value: 0.30162518603237853.\u001b[0m\n"
     ]
    },
    {
     "name": "stdout",
     "output_type": "stream",
     "text": [
      "EarlyStopping counter: 5 out of 5\n",
      "Early stopping the training\n"
     ]
    },
    {
     "data": {
      "application/vnd.jupyter.widget-view+json": {
       "model_id": "b9edcc70ee9f4163b9b4b6032c97e4d4",
       "version_major": 2,
       "version_minor": 0
      },
      "text/plain": [
       "Epochs:   0%|          | 0/100 [00:00<?, ?it/s]"
      ]
     },
     "metadata": {},
     "output_type": "display_data"
    },
    {
     "name": "stdout",
     "output_type": "stream",
     "text": [
      "EarlyStopping counter: 1 out of 5\n",
      "EarlyStopping counter: 1 out of 5\n",
      "EarlyStopping counter: 1 out of 5\n",
      "EarlyStopping counter: 2 out of 5\n",
      "EarlyStopping counter: 3 out of 5\n",
      "EarlyStopping counter: 4 out of 5\n"
     ]
    },
    {
     "name": "stderr",
     "output_type": "stream",
     "text": [
      "\u001b[32m[I 2021-10-24 03:33:42,916]\u001b[0m Trial 1 finished with value: 0.22356659268013912 and parameters: {'FFNN_n_layers': 4, 'FFNN_n_units_l0': 128, 'FFNN_dropout_l0': 0.0, 'FFNN_n_units_l1': 16, 'FFNN_dropout_l1': 0.4, 'FFNN_n_units_l2': 32, 'FFNN_dropout_l2': 0.4, 'FFNN_n_units_l3': 32, 'FFNN_dropout_l3': 0.0, 'CNN_n_layers': 1, 'CNN_out_channels_l0': 32, 'CNN_kernel_size_l0': 11, 'CNN_dropout_l0': 0, 'EMBRACENET_embracement_size': 512, 'n_post_layers': 1, 'EMBRACENET_n_units_l0': 256, 'EMBRACENET_dropout_l0': 0.3, 'selection_probabilities_FFNN': 0.19799926658824785, 'optimizer': 'RMSprop', 'lr': 6.797588378209315e-05, 'weight_decay': 0.0513685413433479}. Best is trial 0 with value: 0.30162518603237853.\u001b[0m\n"
     ]
    },
    {
     "name": "stdout",
     "output_type": "stream",
     "text": [
      "EarlyStopping counter: 5 out of 5\n",
      "Early stopping the training\n"
     ]
    },
    {
     "data": {
      "application/vnd.jupyter.widget-view+json": {
       "model_id": "6bb886b71ed74427b00faa1d6c44b422",
       "version_major": 2,
       "version_minor": 0
      },
      "text/plain": [
       "Epochs:   0%|          | 0/100 [00:00<?, ?it/s]"
      ]
     },
     "metadata": {},
     "output_type": "display_data"
    },
    {
     "name": "stdout",
     "output_type": "stream",
     "text": [
      "EarlyStopping counter: 1 out of 5\n",
      "EarlyStopping counter: 2 out of 5\n",
      "EarlyStopping counter: 3 out of 5\n",
      "EarlyStopping counter: 4 out of 5\n"
     ]
    },
    {
     "name": "stderr",
     "output_type": "stream",
     "text": [
      "\u001b[32m[I 2021-10-24 04:20:04,159]\u001b[0m Trial 2 finished with value: 0.19697730769826816 and parameters: {'FFNN_n_layers': 3, 'FFNN_n_units_l0': 32, 'FFNN_dropout_l0': 0.4, 'FFNN_n_units_l1': 64, 'FFNN_dropout_l1': 0.3, 'FFNN_n_units_l2': 32, 'FFNN_dropout_l2': 0.4, 'CNN_n_layers': 4, 'CNN_out_channels_l0': 32, 'CNN_kernel_size_l0': 5, 'CNN_dropout_l0': 0.3, 'CNN_out_channels_l1': 64, 'CNN_kernel_size_l1': 5, 'CNN_dropout_l1': 0.4, 'CNN_out_channels_l2': 128, 'CNN_kernel_size_l2': 11, 'CNN_dropout_l2': 0, 'CNN_out_channels_l3': 512, 'CNN_kernel_size_l3': 11, 'CNN_dropout_l3': 0, 'EMBRACENET_embracement_size': 768, 'n_post_layers': 0, 'selection_probabilities_FFNN': 0.11317784829388144, 'optimizer': 'Adam', 'lr': 0.021581591879432937, 'weight_decay': 0.0002896858290635638}. Best is trial 0 with value: 0.30162518603237853.\u001b[0m\n"
     ]
    },
    {
     "name": "stdout",
     "output_type": "stream",
     "text": [
      "EarlyStopping counter: 5 out of 5\n",
      "Early stopping the training\n",
      "Study statistics: \n",
      "  Number of finished trials:  3\n",
      "  Number of pruned trials:  0\n",
      "  Number of complete trials:  3\n",
      "Best trial:\n",
      "  Value:  0.30162518603237853\n",
      "  Params: \n",
      "    CNN_dropout_l0: 0.2\n",
      "    CNN_kernel_size_l0: 11\n",
      "    CNN_n_layers: 1\n",
      "    CNN_out_channels_l0: 16\n",
      "    EMBRACENET_embracement_size: 512\n",
      "    FFNN_dropout_l0: 0.4\n",
      "    FFNN_n_layers: 1\n",
      "    FFNN_n_units_l0: 128\n",
      "    lr: 0.0001157314508522964\n",
      "    n_post_layers: 0\n",
      "    optimizer: RMSprop\n",
      "    selection_probabilities_FFNN: 0.8381915206447009\n",
      "    weight_decay: 0.0005576570260230154\n",
      "\n",
      "===============> MODEL TESTING\n"
     ]
    },
    {
     "data": {
      "application/vnd.jupyter.widget-view+json": {
       "model_id": "072b9a7428a3408ba1db7854a7edd9c4",
       "version_major": 2,
       "version_minor": 0
      },
      "text/plain": [
       "Epochs:   0%|          | 0/100 [00:00<?, ?it/s]"
      ]
     },
     "metadata": {},
     "output_type": "display_data"
    },
    {
     "name": "stdout",
     "output_type": "stream",
     "text": [
      "EarlyStopping counter: 1 out of 5\n",
      "EarlyStopping counter: 1 out of 5\n",
      "EarlyStopping counter: 1 out of 5\n",
      "EarlyStopping counter: 2 out of 5\n",
      "EarlyStopping counter: 3 out of 5\n",
      "EarlyStopping counter: 1 out of 5\n",
      "EarlyStopping counter: 2 out of 5\n",
      "EarlyStopping counter: 3 out of 5\n",
      "EarlyStopping counter: 4 out of 5\n",
      "EarlyStopping counter: 5 out of 5\n",
      "Early stopping the training\n",
      "AUPRC test score: 0.31272556383596256\n",
      "\n",
      "\n",
      "\n",
      "3-FOLD CROSS-VALIDATION AUPRC TEST SCORE: 0.29423\n"
     ]
    }
   ],
   "source": [
    "kf_CV = Kfold_CV_Multimodal()\n",
    "\n",
    "kf_CV(build_dataloader_pipeline = pipe_data_load,\n",
    "                num_epochs = 100,\n",
    "                n_folds=3,\n",
    "                cell_line=cell_line,\n",
    "                augmentation=False,\n",
    "                model = model,\n",
    "                device = device,\n",
    "                task=task,\n",
    "                sampler = 'TPE',\n",
    "                study_name = f'{cell_line}_{task}_{model.__name__}',\n",
    "                test_model_path = f'{cell_line}_{task}_{model.__name__}_TEST')"
   ]
  },
  {
   "cell_type": "code",
   "execution_count": null,
   "metadata": {},
   "outputs": [],
   "source": [
    "results_dict[cell_line][task][model.__name__] = kf_CV.scores_dict"
   ]
  },
  {
   "cell_type": "code",
   "execution_count": null,
   "metadata": {},
   "outputs": [],
   "source": [
    "with open ('results_dict.pickle', 'wb') as fout:\n",
    "    pickle.dump(OrderedDict(results_dict), fout)"
   ]
  },
  {
   "cell_type": "markdown",
   "metadata": {},
   "source": [
    "### CONCATNET"
   ]
  },
  {
   "cell_type": "code",
   "execution_count": null,
   "metadata": {},
   "outputs": [],
   "source": [
    "model=ConcatNetMultimodal"
   ]
  },
  {
   "cell_type": "code",
   "execution_count": null,
   "metadata": {
    "scrolled": true
   },
   "outputs": [],
   "source": [
    "kf_CV = Kfold_CV_Multimodal()\n",
    "\n",
    "kf_CV(build_dataloader_pipeline = pipe_data_load,\n",
    "                num_epochs = 100,\n",
    "                n_folds=3,\n",
    "                cell_line=cell_line,\n",
    "                augmentation=False,\n",
    "                model = model,\n",
    "                device = device,\n",
    "                task=task,\n",
    "                sampler = 'TPE',\n",
    "                study_name = f'{cell_line}_{task}_{model.__name__}',\n",
    "                test_model_path = f'{cell_line}_{task}_{model.__name__}_TEST')"
   ]
  },
  {
   "cell_type": "code",
   "execution_count": null,
   "metadata": {},
   "outputs": [],
   "source": [
    "results_dict[cell_line][task][model.__name__] = kf_CV.scores_dict"
   ]
  },
  {
   "cell_type": "code",
   "execution_count": null,
   "metadata": {},
   "outputs": [],
   "source": [
    "with open ('results_dict.pickle', 'wb') as fout:\n",
    "    pickle.dump(OrderedDict(results_dict), fout)"
   ]
  },
  {
   "cell_type": "markdown",
   "metadata": {},
   "source": [
    "---"
   ]
  },
  {
   "cell_type": "markdown",
   "metadata": {},
   "source": [
    "## 3) ACTIVE ENHANCERS vs ACTIVE PROMOTERS"
   ]
  },
  {
   "cell_type": "code",
   "execution_count": 23,
   "metadata": {},
   "outputs": [
    {
     "data": {
      "text/plain": [
       "'active_E_vs_active_P'"
      ]
     },
     "execution_count": 23,
     "metadata": {},
     "output_type": "execute_result"
    }
   ],
   "source": [
    "task = TASKS[2]\n",
    "task"
   ]
  },
  {
   "cell_type": "code",
   "execution_count": 24,
   "metadata": {},
   "outputs": [
    {
     "name": "stdout",
     "output_type": "stream",
     "text": [
      "Data Preprocessing Done!\n"
     ]
    }
   ],
   "source": [
    "pipe_data_load = Build_DataLoader_Pipeline(path_name=f'{task}.pickle')"
   ]
  },
  {
   "cell_type": "markdown",
   "metadata": {},
   "source": [
    "---\n",
    "### EMBRACENET"
   ]
  },
  {
   "cell_type": "code",
   "execution_count": 25,
   "metadata": {},
   "outputs": [],
   "source": [
    "model=EmbraceNetMultimodal"
   ]
  },
  {
   "cell_type": "code",
   "execution_count": 26,
   "metadata": {
    "scrolled": true
   },
   "outputs": [
    {
     "name": "stderr",
     "output_type": "stream",
     "text": [
      "/Users/Niki/Prediction-of-Active-and-Inactive-Regulatory-Regions-with-Embracenet-Multimodal-Neural-Network-/BIOINF_tesi/models/utils/training_models_multimodal.py:425: ExperimentalWarning: PatientPruner is experimental (supported from v2.8.0). The interface can change in the future.\n",
      "  pruner=optuna.pruners.PatientPruner(optuna.pruners.MedianPruner(), patience=2),\n",
      "\u001b[32m[I 2021-10-24 05:09:25,377]\u001b[0m A new study created in RDB with name: H1_active_E_vs_active_P_EmbraceNetMultimodal_1\u001b[0m\n"
     ]
    },
    {
     "name": "stdout",
     "output_type": "stream",
     "text": [
      ">>> ITERATION N. 1\n",
      "\n",
      "===============> HYPERPARAMETERS TUNING\n"
     ]
    },
    {
     "data": {
      "application/vnd.jupyter.widget-view+json": {
       "model_id": "6025fb0e36d8442fa9b9c14108102073",
       "version_major": 2,
       "version_minor": 0
      },
      "text/plain": [
       "Epochs:   0%|          | 0/100 [00:00<?, ?it/s]"
      ]
     },
     "metadata": {},
     "output_type": "display_data"
    },
    {
     "name": "stdout",
     "output_type": "stream",
     "text": [
      "EarlyStopping counter: 1 out of 5\n",
      "EarlyStopping counter: 1 out of 5\n",
      "EarlyStopping counter: 2 out of 5\n",
      "EarlyStopping counter: 3 out of 5\n",
      "EarlyStopping counter: 4 out of 5\n"
     ]
    },
    {
     "name": "stderr",
     "output_type": "stream",
     "text": [
      "\u001b[32m[I 2021-10-24 05:13:30,715]\u001b[0m Trial 0 finished with value: 0.5194680497918178 and parameters: {'FFNN_n_layers': 1, 'FFNN_n_units_l0': 128, 'FFNN_dropout_l0': 0.0, 'CNN_n_layers': 3, 'CNN_out_channels_l0': 16, 'CNN_kernel_size_l0': 5, 'CNN_dropout_l0': 0, 'CNN_out_channels_l1': 32, 'CNN_kernel_size_l1': 15, 'CNN_dropout_l1': 0.4, 'CNN_out_channels_l2': 64, 'CNN_kernel_size_l2': 11, 'CNN_dropout_l2': 0.5, 'EMBRACENET_embracement_size': 1024, 'n_post_layers': 1, 'EMBRACENET_n_units_l0': 32, 'EMBRACENET_dropout_l0': 0.2, 'selection_probabilities_FFNN': 0.5779530307237474, 'optimizer': 'Nadam', 'lr': 0.005502817461910754, 'weight_decay': 0.00022581641525237922}. Best is trial 0 with value: 0.5194680497918178.\u001b[0m\n"
     ]
    },
    {
     "name": "stdout",
     "output_type": "stream",
     "text": [
      "EarlyStopping counter: 5 out of 5\n",
      "Early stopping the training\n"
     ]
    },
    {
     "data": {
      "application/vnd.jupyter.widget-view+json": {
       "model_id": "8c028752f2f54b2fa51bda7174ca9df6",
       "version_major": 2,
       "version_minor": 0
      },
      "text/plain": [
       "Epochs:   0%|          | 0/100 [00:00<?, ?it/s]"
      ]
     },
     "metadata": {},
     "output_type": "display_data"
    },
    {
     "name": "stdout",
     "output_type": "stream",
     "text": [
      "EarlyStopping counter: 1 out of 5\n",
      "EarlyStopping counter: 1 out of 5\n",
      "EarlyStopping counter: 2 out of 5\n",
      "EarlyStopping counter: 1 out of 5\n",
      "EarlyStopping counter: 2 out of 5\n",
      "EarlyStopping counter: 1 out of 5\n",
      "EarlyStopping counter: 2 out of 5\n",
      "EarlyStopping counter: 3 out of 5\n",
      "EarlyStopping counter: 1 out of 5\n",
      "EarlyStopping counter: 2 out of 5\n",
      "EarlyStopping counter: 1 out of 5\n",
      "EarlyStopping counter: 2 out of 5\n",
      "EarlyStopping counter: 3 out of 5\n",
      "EarlyStopping counter: 4 out of 5\n"
     ]
    },
    {
     "name": "stderr",
     "output_type": "stream",
     "text": [
      "\u001b[32m[I 2021-10-24 05:33:05,923]\u001b[0m Trial 1 finished with value: 0.4325092922238015 and parameters: {'FFNN_n_layers': 1, 'FFNN_n_units_l0': 32, 'FFNN_dropout_l0': 0.2, 'CNN_n_layers': 4, 'CNN_out_channels_l0': 64, 'CNN_kernel_size_l0': 5, 'CNN_dropout_l0': 0.4, 'CNN_out_channels_l1': 32, 'CNN_kernel_size_l1': 15, 'CNN_dropout_l1': 0.5, 'CNN_out_channels_l2': 64, 'CNN_kernel_size_l2': 5, 'CNN_dropout_l2': 0.4, 'CNN_out_channels_l3': 256, 'CNN_kernel_size_l3': 11, 'CNN_dropout_l3': 0.5, 'EMBRACENET_embracement_size': 768, 'n_post_layers': 2, 'EMBRACENET_n_units_l0': 512, 'EMBRACENET_dropout_l0': 0.3, 'EMBRACENET_n_units_l1': 32, 'EMBRACENET_dropout_l1': 0.5, 'selection_probabilities_FFNN': 0.13732625406056165, 'optimizer': 'RMSprop', 'lr': 0.0011146061121103934, 'weight_decay': 0.030021939233978157}. Best is trial 0 with value: 0.5194680497918178.\u001b[0m\n"
     ]
    },
    {
     "name": "stdout",
     "output_type": "stream",
     "text": [
      "EarlyStopping counter: 5 out of 5\n",
      "Early stopping the training\n"
     ]
    },
    {
     "data": {
      "application/vnd.jupyter.widget-view+json": {
       "model_id": "008f77a3ae744ba6a9101365badd7f7f",
       "version_major": 2,
       "version_minor": 0
      },
      "text/plain": [
       "Epochs:   0%|          | 0/100 [00:00<?, ?it/s]"
      ]
     },
     "metadata": {},
     "output_type": "display_data"
    },
    {
     "name": "stdout",
     "output_type": "stream",
     "text": [
      "EarlyStopping counter: 1 out of 5\n",
      "EarlyStopping counter: 2 out of 5\n",
      "EarlyStopping counter: 3 out of 5\n",
      "EarlyStopping counter: 4 out of 5\n",
      "EarlyStopping counter: 1 out of 5\n",
      "EarlyStopping counter: 1 out of 5\n",
      "EarlyStopping counter: 1 out of 5\n",
      "EarlyStopping counter: 1 out of 5\n",
      "EarlyStopping counter: 1 out of 5\n",
      "EarlyStopping counter: 2 out of 5\n",
      "EarlyStopping counter: 3 out of 5\n",
      "EarlyStopping counter: 4 out of 5\n"
     ]
    },
    {
     "name": "stderr",
     "output_type": "stream",
     "text": [
      "\u001b[32m[I 2021-10-24 05:42:54,045]\u001b[0m Trial 2 finished with value: 0.49212075610522427 and parameters: {'FFNN_n_layers': 1, 'FFNN_n_units_l0': 32, 'FFNN_dropout_l0': 0.4, 'CNN_n_layers': 2, 'CNN_out_channels_l0': 16, 'CNN_kernel_size_l0': 15, 'CNN_dropout_l0': 0.4, 'CNN_out_channels_l1': 96, 'CNN_kernel_size_l1': 5, 'CNN_dropout_l1': 0.4, 'EMBRACENET_embracement_size': 512, 'n_post_layers': 1, 'EMBRACENET_n_units_l0': 256, 'EMBRACENET_dropout_l0': 0.2, 'selection_probabilities_FFNN': 0.5507583175705114, 'optimizer': 'Nadam', 'lr': 0.022997992677919257, 'weight_decay': 0.004413340546833139}. Best is trial 0 with value: 0.5194680497918178.\u001b[0m\n"
     ]
    },
    {
     "name": "stdout",
     "output_type": "stream",
     "text": [
      "EarlyStopping counter: 5 out of 5\n",
      "Early stopping the training\n",
      "Study statistics: \n",
      "  Number of finished trials:  3\n",
      "  Number of pruned trials:  0\n",
      "  Number of complete trials:  3\n",
      "Best trial:\n",
      "  Value:  0.5194680497918178\n",
      "  Params: \n",
      "    CNN_dropout_l0: 0\n",
      "    CNN_dropout_l1: 0.4\n",
      "    CNN_dropout_l2: 0.5\n",
      "    CNN_kernel_size_l0: 5\n",
      "    CNN_kernel_size_l1: 15\n",
      "    CNN_kernel_size_l2: 11\n",
      "    CNN_n_layers: 3\n",
      "    CNN_out_channels_l0: 16\n",
      "    CNN_out_channels_l1: 32\n",
      "    CNN_out_channels_l2: 64\n",
      "    EMBRACENET_dropout_l0: 0.2\n",
      "    EMBRACENET_embracement_size: 1024\n",
      "    EMBRACENET_n_units_l0: 32\n",
      "    FFNN_dropout_l0: 0.0\n",
      "    FFNN_n_layers: 1\n",
      "    FFNN_n_units_l0: 128\n",
      "    lr: 0.005502817461910754\n",
      "    n_post_layers: 1\n",
      "    optimizer: Nadam\n",
      "    selection_probabilities_FFNN: 0.5779530307237474\n",
      "    weight_decay: 0.00022581641525237922\n",
      "\n",
      "===============> MODEL TESTING\n"
     ]
    },
    {
     "data": {
      "application/vnd.jupyter.widget-view+json": {
       "model_id": "7df75dcb058e456d9e34386f5a5f1e8c",
       "version_major": 2,
       "version_minor": 0
      },
      "text/plain": [
       "Epochs:   0%|          | 0/100 [00:00<?, ?it/s]"
      ]
     },
     "metadata": {},
     "output_type": "display_data"
    },
    {
     "name": "stdout",
     "output_type": "stream",
     "text": [
      "EarlyStopping counter: 1 out of 5\n",
      "EarlyStopping counter: 2 out of 5\n",
      "EarlyStopping counter: 3 out of 5\n",
      "EarlyStopping counter: 4 out of 5\n"
     ]
    },
    {
     "name": "stderr",
     "output_type": "stream",
     "text": [
      "/Users/Niki/Prediction-of-Active-and-Inactive-Regulatory-Regions-with-Embracenet-Multimodal-Neural-Network-/BIOINF_tesi/models/utils/training_models_multimodal.py:425: ExperimentalWarning: PatientPruner is experimental (supported from v2.8.0). The interface can change in the future.\n",
      "  pruner=optuna.pruners.PatientPruner(optuna.pruners.MedianPruner(), patience=2),\n",
      "\u001b[32m[I 2021-10-24 05:48:11,820]\u001b[0m A new study created in RDB with name: H1_active_E_vs_active_P_EmbraceNetMultimodal_1_2\u001b[0m\n"
     ]
    },
    {
     "name": "stdout",
     "output_type": "stream",
     "text": [
      "EarlyStopping counter: 5 out of 5\n",
      "Early stopping the training\n",
      "AUPRC test score: 0.5964261704869845\n",
      "\n",
      "\n",
      ">>> ITERATION N. 2\n",
      "\n",
      "===============> HYPERPARAMETERS TUNING\n"
     ]
    },
    {
     "data": {
      "application/vnd.jupyter.widget-view+json": {
       "model_id": "664cd53287b94f32845fe68e1de2adf1",
       "version_major": 2,
       "version_minor": 0
      },
      "text/plain": [
       "Epochs:   0%|          | 0/100 [00:00<?, ?it/s]"
      ]
     },
     "metadata": {},
     "output_type": "display_data"
    },
    {
     "name": "stdout",
     "output_type": "stream",
     "text": [
      "EarlyStopping counter: 1 out of 5\n",
      "EarlyStopping counter: 1 out of 5\n",
      "EarlyStopping counter: 2 out of 5\n",
      "EarlyStopping counter: 1 out of 5\n",
      "EarlyStopping counter: 2 out of 5\n",
      "EarlyStopping counter: 3 out of 5\n",
      "EarlyStopping counter: 4 out of 5\n"
     ]
    },
    {
     "name": "stderr",
     "output_type": "stream",
     "text": [
      "\u001b[32m[I 2021-10-24 05:57:46,749]\u001b[0m Trial 0 finished with value: 0.4844512770686714 and parameters: {'FFNN_n_layers': 3, 'FFNN_n_units_l0': 256, 'FFNN_dropout_l0': 0.3, 'FFNN_n_units_l1': 32, 'FFNN_dropout_l1': 0.4, 'FFNN_n_units_l2': 32, 'FFNN_dropout_l2': 0.0, 'CNN_n_layers': 2, 'CNN_out_channels_l0': 32, 'CNN_kernel_size_l0': 15, 'CNN_dropout_l0': 0.2, 'CNN_out_channels_l1': 96, 'CNN_kernel_size_l1': 15, 'CNN_dropout_l1': 0, 'EMBRACENET_embracement_size': 1024, 'n_post_layers': 2, 'EMBRACENET_n_units_l0': 512, 'EMBRACENET_dropout_l0': 0.0, 'EMBRACENET_n_units_l1': 256, 'EMBRACENET_dropout_l1': 0.3, 'selection_probabilities_FFNN': 0.869205014159509, 'optimizer': 'Adam', 'lr': 0.003938835812863552, 'weight_decay': 0.00045573587180163243}. Best is trial 0 with value: 0.4844512770686714.\u001b[0m\n"
     ]
    },
    {
     "name": "stdout",
     "output_type": "stream",
     "text": [
      "EarlyStopping counter: 5 out of 5\n",
      "Early stopping the training\n"
     ]
    },
    {
     "data": {
      "application/vnd.jupyter.widget-view+json": {
       "model_id": "48680ef51df24c168c4fe96bdbccb93d",
       "version_major": 2,
       "version_minor": 0
      },
      "text/plain": [
       "Epochs:   0%|          | 0/100 [00:00<?, ?it/s]"
      ]
     },
     "metadata": {},
     "output_type": "display_data"
    },
    {
     "name": "stdout",
     "output_type": "stream",
     "text": [
      "EarlyStopping counter: 1 out of 5\n",
      "EarlyStopping counter: 2 out of 5\n",
      "EarlyStopping counter: 3 out of 5\n",
      "EarlyStopping counter: 4 out of 5\n"
     ]
    },
    {
     "name": "stderr",
     "output_type": "stream",
     "text": [
      "\u001b[32m[I 2021-10-24 06:15:03,871]\u001b[0m Trial 1 finished with value: 0.1924893314366999 and parameters: {'FFNN_n_layers': 2, 'FFNN_n_units_l0': 128, 'FFNN_dropout_l0': 0.3, 'FFNN_n_units_l1': 32, 'FFNN_dropout_l1': 0.2, 'CNN_n_layers': 4, 'CNN_out_channels_l0': 32, 'CNN_kernel_size_l0': 15, 'CNN_dropout_l0': 0.3, 'CNN_out_channels_l1': 64, 'CNN_kernel_size_l1': 11, 'CNN_dropout_l1': 0, 'CNN_out_channels_l2': 256, 'CNN_kernel_size_l2': 11, 'CNN_dropout_l2': 0, 'CNN_out_channels_l3': 512, 'CNN_kernel_size_l3': 11, 'CNN_dropout_l3': 0, 'EMBRACENET_embracement_size': 768, 'n_post_layers': 0, 'selection_probabilities_FFNN': 0.10460328739065905, 'optimizer': 'RMSprop', 'lr': 0.042926117154195115, 'weight_decay': 0.011269872215869349}. Best is trial 0 with value: 0.4844512770686714.\u001b[0m\n"
     ]
    },
    {
     "name": "stdout",
     "output_type": "stream",
     "text": [
      "EarlyStopping counter: 5 out of 5\n",
      "Early stopping the training\n"
     ]
    },
    {
     "data": {
      "application/vnd.jupyter.widget-view+json": {
       "model_id": "b245095d702d4d6ea06746cd34ee956c",
       "version_major": 2,
       "version_minor": 0
      },
      "text/plain": [
       "Epochs:   0%|          | 0/100 [00:00<?, ?it/s]"
      ]
     },
     "metadata": {},
     "output_type": "display_data"
    },
    {
     "name": "stdout",
     "output_type": "stream",
     "text": [
      "EarlyStopping counter: 1 out of 5\n",
      "EarlyStopping counter: 1 out of 5\n",
      "EarlyStopping counter: 1 out of 5\n",
      "EarlyStopping counter: 2 out of 5\n",
      "EarlyStopping counter: 3 out of 5\n",
      "EarlyStopping counter: 4 out of 5\n"
     ]
    },
    {
     "name": "stderr",
     "output_type": "stream",
     "text": [
      "\u001b[32m[I 2021-10-24 06:20:16,775]\u001b[0m Trial 2 finished with value: 0.3768595582439401 and parameters: {'FFNN_n_layers': 1, 'FFNN_n_units_l0': 64, 'FFNN_dropout_l0': 0.2, 'CNN_n_layers': 1, 'CNN_out_channels_l0': 16, 'CNN_kernel_size_l0': 11, 'CNN_dropout_l0': 0, 'EMBRACENET_embracement_size': 1024, 'n_post_layers': 0, 'selection_probabilities_FFNN': 0.8607610201331428, 'optimizer': 'Nadam', 'lr': 1.8217476023196557e-05, 'weight_decay': 0.03662285556209919}. Best is trial 0 with value: 0.4844512770686714.\u001b[0m\n"
     ]
    },
    {
     "name": "stdout",
     "output_type": "stream",
     "text": [
      "EarlyStopping counter: 5 out of 5\n",
      "Early stopping the training\n",
      "Study statistics: \n",
      "  Number of finished trials:  3\n",
      "  Number of pruned trials:  0\n",
      "  Number of complete trials:  3\n",
      "Best trial:\n",
      "  Value:  0.4844512770686714\n",
      "  Params: \n",
      "    CNN_dropout_l0: 0.2\n",
      "    CNN_dropout_l1: 0\n",
      "    CNN_kernel_size_l0: 15\n",
      "    CNN_kernel_size_l1: 15\n",
      "    CNN_n_layers: 2\n",
      "    CNN_out_channels_l0: 32\n",
      "    CNN_out_channels_l1: 96\n",
      "    EMBRACENET_dropout_l0: 0.0\n",
      "    EMBRACENET_dropout_l1: 0.3\n",
      "    EMBRACENET_embracement_size: 1024\n",
      "    EMBRACENET_n_units_l0: 512\n",
      "    EMBRACENET_n_units_l1: 256\n",
      "    FFNN_dropout_l0: 0.3\n",
      "    FFNN_dropout_l1: 0.4\n",
      "    FFNN_dropout_l2: 0.0\n",
      "    FFNN_n_layers: 3\n",
      "    FFNN_n_units_l0: 256\n",
      "    FFNN_n_units_l1: 32\n",
      "    FFNN_n_units_l2: 32\n",
      "    lr: 0.003938835812863552\n",
      "    n_post_layers: 2\n",
      "    optimizer: Adam\n",
      "    selection_probabilities_FFNN: 0.869205014159509\n",
      "    weight_decay: 0.00045573587180163243\n",
      "\n",
      "===============> MODEL TESTING\n"
     ]
    },
    {
     "data": {
      "application/vnd.jupyter.widget-view+json": {
       "model_id": "9d23c5198aea4adf8d2e6a0202c9fd08",
       "version_major": 2,
       "version_minor": 0
      },
      "text/plain": [
       "Epochs:   0%|          | 0/100 [00:00<?, ?it/s]"
      ]
     },
     "metadata": {},
     "output_type": "display_data"
    },
    {
     "name": "stdout",
     "output_type": "stream",
     "text": [
      "EarlyStopping counter: 1 out of 5\n",
      "EarlyStopping counter: 2 out of 5\n",
      "EarlyStopping counter: 3 out of 5\n",
      "EarlyStopping counter: 4 out of 5\n"
     ]
    },
    {
     "name": "stderr",
     "output_type": "stream",
     "text": [
      "/Users/Niki/Prediction-of-Active-and-Inactive-Regulatory-Regions-with-Embracenet-Multimodal-Neural-Network-/BIOINF_tesi/models/utils/training_models_multimodal.py:425: ExperimentalWarning: PatientPruner is experimental (supported from v2.8.0). The interface can change in the future.\n",
      "  pruner=optuna.pruners.PatientPruner(optuna.pruners.MedianPruner(), patience=2),\n",
      "\u001b[32m[I 2021-10-24 06:29:28,885]\u001b[0m A new study created in RDB with name: H1_active_E_vs_active_P_EmbraceNetMultimodal_1_2_3\u001b[0m\n"
     ]
    },
    {
     "name": "stdout",
     "output_type": "stream",
     "text": [
      "EarlyStopping counter: 5 out of 5\n",
      "Early stopping the training\n",
      "AUPRC test score: 0.4142285967190326\n",
      "\n",
      "\n",
      ">>> ITERATION N. 3\n",
      "\n",
      "===============> HYPERPARAMETERS TUNING\n"
     ]
    },
    {
     "data": {
      "application/vnd.jupyter.widget-view+json": {
       "model_id": "96fef33b7fcb4e8b96184f3dcf67a997",
       "version_major": 2,
       "version_minor": 0
      },
      "text/plain": [
       "Epochs:   0%|          | 0/100 [00:00<?, ?it/s]"
      ]
     },
     "metadata": {},
     "output_type": "display_data"
    },
    {
     "name": "stdout",
     "output_type": "stream",
     "text": [
      "EarlyStopping counter: 1 out of 5\n",
      "EarlyStopping counter: 1 out of 5\n",
      "EarlyStopping counter: 2 out of 5\n",
      "EarlyStopping counter: 3 out of 5\n",
      "EarlyStopping counter: 4 out of 5\n"
     ]
    },
    {
     "name": "stderr",
     "output_type": "stream",
     "text": [
      "\u001b[32m[I 2021-10-24 06:35:19,448]\u001b[0m Trial 0 finished with value: 0.5212409843096582 and parameters: {'FFNN_n_layers': 1, 'FFNN_n_units_l0': 256, 'FFNN_dropout_l0': 0.0, 'CNN_n_layers': 3, 'CNN_out_channels_l0': 16, 'CNN_kernel_size_l0': 5, 'CNN_dropout_l0': 0.3, 'CNN_out_channels_l1': 32, 'CNN_kernel_size_l1': 5, 'CNN_dropout_l1': 0, 'CNN_out_channels_l2': 128, 'CNN_kernel_size_l2': 5, 'CNN_dropout_l2': 0.4, 'EMBRACENET_embracement_size': 1024, 'n_post_layers': 0, 'selection_probabilities_FFNN': 0.46994610984970253, 'optimizer': 'RMSprop', 'lr': 0.006878889009165519, 'weight_decay': 0.01305643040841192}. Best is trial 0 with value: 0.5212409843096582.\u001b[0m\n"
     ]
    },
    {
     "name": "stdout",
     "output_type": "stream",
     "text": [
      "EarlyStopping counter: 5 out of 5\n",
      "Early stopping the training\n"
     ]
    },
    {
     "data": {
      "application/vnd.jupyter.widget-view+json": {
       "model_id": "a56dee477370467ea77901b7ae49cacf",
       "version_major": 2,
       "version_minor": 0
      },
      "text/plain": [
       "Epochs:   0%|          | 0/100 [00:00<?, ?it/s]"
      ]
     },
     "metadata": {},
     "output_type": "display_data"
    },
    {
     "name": "stdout",
     "output_type": "stream",
     "text": [
      "EarlyStopping counter: 1 out of 5\n",
      "EarlyStopping counter: 2 out of 5\n",
      "EarlyStopping counter: 1 out of 5\n",
      "EarlyStopping counter: 2 out of 5\n",
      "EarlyStopping counter: 1 out of 5\n",
      "EarlyStopping counter: 2 out of 5\n",
      "EarlyStopping counter: 3 out of 5\n",
      "EarlyStopping counter: 4 out of 5\n"
     ]
    },
    {
     "name": "stderr",
     "output_type": "stream",
     "text": [
      "\u001b[32m[I 2021-10-24 06:44:57,264]\u001b[0m Trial 1 finished with value: 0.3985901586229598 and parameters: {'FFNN_n_layers': 2, 'FFNN_n_units_l0': 32, 'FFNN_dropout_l0': 0.0, 'FFNN_n_units_l1': 64, 'FFNN_dropout_l1': 0.3, 'CNN_n_layers': 3, 'CNN_out_channels_l0': 32, 'CNN_kernel_size_l0': 15, 'CNN_dropout_l0': 0, 'CNN_out_channels_l1': 64, 'CNN_kernel_size_l1': 11, 'CNN_dropout_l1': 0, 'CNN_out_channels_l2': 96, 'CNN_kernel_size_l2': 15, 'CNN_dropout_l2': 0, 'EMBRACENET_embracement_size': 512, 'n_post_layers': 2, 'EMBRACENET_n_units_l0': 256, 'EMBRACENET_dropout_l0': 0.0, 'EMBRACENET_n_units_l1': 256, 'EMBRACENET_dropout_l1': 0.5, 'selection_probabilities_FFNN': 0.5175785310729775, 'optimizer': 'Nadam', 'lr': 1.9333366988448226e-05, 'weight_decay': 0.00031813135640307153}. Best is trial 0 with value: 0.5212409843096582.\u001b[0m\n"
     ]
    },
    {
     "name": "stdout",
     "output_type": "stream",
     "text": [
      "EarlyStopping counter: 5 out of 5\n",
      "Early stopping the training\n"
     ]
    },
    {
     "data": {
      "application/vnd.jupyter.widget-view+json": {
       "model_id": "b122bd71f2904e0aa40f117417648729",
       "version_major": 2,
       "version_minor": 0
      },
      "text/plain": [
       "Epochs:   0%|          | 0/100 [00:00<?, ?it/s]"
      ]
     },
     "metadata": {},
     "output_type": "display_data"
    },
    {
     "name": "stdout",
     "output_type": "stream",
     "text": [
      "EarlyStopping counter: 1 out of 5\n",
      "EarlyStopping counter: 1 out of 5\n",
      "EarlyStopping counter: 1 out of 5\n",
      "EarlyStopping counter: 2 out of 5\n",
      "EarlyStopping counter: 1 out of 5\n",
      "EarlyStopping counter: 2 out of 5\n",
      "EarlyStopping counter: 1 out of 5\n",
      "EarlyStopping counter: 2 out of 5\n",
      "EarlyStopping counter: 3 out of 5\n",
      "EarlyStopping counter: 4 out of 5\n"
     ]
    },
    {
     "name": "stderr",
     "output_type": "stream",
     "text": [
      "\u001b[32m[I 2021-10-24 06:56:47,846]\u001b[0m Trial 2 finished with value: 0.5119115066892216 and parameters: {'FFNN_n_layers': 2, 'FFNN_n_units_l0': 128, 'FFNN_dropout_l0': 0.0, 'FFNN_n_units_l1': 16, 'FFNN_dropout_l1': 0.0, 'CNN_n_layers': 1, 'CNN_out_channels_l0': 32, 'CNN_kernel_size_l0': 5, 'CNN_dropout_l0': 0.3, 'EMBRACENET_embracement_size': 768, 'n_post_layers': 2, 'EMBRACENET_n_units_l0': 32, 'EMBRACENET_dropout_l0': 0.2, 'EMBRACENET_n_units_l1': 16, 'EMBRACENET_dropout_l1': 0.0, 'selection_probabilities_FFNN': 0.8593861807082748, 'optimizer': 'Nadam', 'lr': 2.5064854822522946e-05, 'weight_decay': 0.0005823150606398253}. Best is trial 0 with value: 0.5212409843096582.\u001b[0m\n"
     ]
    },
    {
     "name": "stdout",
     "output_type": "stream",
     "text": [
      "EarlyStopping counter: 5 out of 5\n",
      "Early stopping the training\n",
      "Study statistics: \n",
      "  Number of finished trials:  3\n",
      "  Number of pruned trials:  0\n",
      "  Number of complete trials:  3\n",
      "Best trial:\n",
      "  Value:  0.5212409843096582\n",
      "  Params: \n",
      "    CNN_dropout_l0: 0.3\n",
      "    CNN_dropout_l1: 0\n",
      "    CNN_dropout_l2: 0.4\n",
      "    CNN_kernel_size_l0: 5\n",
      "    CNN_kernel_size_l1: 5\n",
      "    CNN_kernel_size_l2: 5\n",
      "    CNN_n_layers: 3\n",
      "    CNN_out_channels_l0: 16\n",
      "    CNN_out_channels_l1: 32\n",
      "    CNN_out_channels_l2: 128\n",
      "    EMBRACENET_embracement_size: 1024\n",
      "    FFNN_dropout_l0: 0.0\n",
      "    FFNN_n_layers: 1\n",
      "    FFNN_n_units_l0: 256\n",
      "    lr: 0.006878889009165519\n",
      "    n_post_layers: 0\n",
      "    optimizer: RMSprop\n",
      "    selection_probabilities_FFNN: 0.46994610984970253\n",
      "    weight_decay: 0.01305643040841192\n",
      "\n",
      "===============> MODEL TESTING\n"
     ]
    },
    {
     "data": {
      "application/vnd.jupyter.widget-view+json": {
       "model_id": "c684527c44e549b38a3a51d2c4ca6423",
       "version_major": 2,
       "version_minor": 0
      },
      "text/plain": [
       "Epochs:   0%|          | 0/100 [00:00<?, ?it/s]"
      ]
     },
     "metadata": {},
     "output_type": "display_data"
    },
    {
     "name": "stdout",
     "output_type": "stream",
     "text": [
      "EarlyStopping counter: 1 out of 5\n",
      "EarlyStopping counter: 1 out of 5\n",
      "EarlyStopping counter: 2 out of 5\n",
      "EarlyStopping counter: 1 out of 5\n",
      "EarlyStopping counter: 2 out of 5\n",
      "EarlyStopping counter: 3 out of 5\n",
      "EarlyStopping counter: 4 out of 5\n",
      "EarlyStopping counter: 5 out of 5\n",
      "Early stopping the training\n",
      "AUPRC test score: 0.216984680981037\n",
      "\n",
      "\n",
      "\n",
      "3-FOLD CROSS-VALIDATION AUPRC TEST SCORE: 0.40921\n"
     ]
    }
   ],
   "source": [
    "kf_CV = Kfold_CV_Multimodal()\n",
    "\n",
    "kf_CV(build_dataloader_pipeline = pipe_data_load,\n",
    "                num_epochs = 100,\n",
    "                n_folds=3,\n",
    "                cell_line=cell_line,\n",
    "                augmentation=False,\n",
    "                model = model,\n",
    "                device = device,\n",
    "                task=task,\n",
    "                sampler = 'TPE',\n",
    "                study_name = f'{cell_line}_{task}_{model.__name__}',\n",
    "                test_model_path = f'{cell_line}_{task}_{model.__name__}_TEST')"
   ]
  },
  {
   "cell_type": "code",
   "execution_count": null,
   "metadata": {},
   "outputs": [],
   "source": [
    "results_dict[cell_line][task][model.__name__] = kf_CV.scores_dict"
   ]
  },
  {
   "cell_type": "code",
   "execution_count": null,
   "metadata": {},
   "outputs": [],
   "source": [
    "with open ('results_dict.pickle', 'wb') as fout:\n",
    "    pickle.dump(OrderedDict(results_dict), fout)"
   ]
  },
  {
   "cell_type": "markdown",
   "metadata": {},
   "source": [
    "### CONCATNET"
   ]
  },
  {
   "cell_type": "code",
   "execution_count": null,
   "metadata": {},
   "outputs": [],
   "source": [
    "model=ConcatNetMultimodal"
   ]
  },
  {
   "cell_type": "code",
   "execution_count": null,
   "metadata": {
    "scrolled": true
   },
   "outputs": [],
   "source": [
    "kf_CV = Kfold_CV_Multimodal()\n",
    "\n",
    "kf_CV(build_dataloader_pipeline = pipe_data_load,\n",
    "                num_epochs = 100,\n",
    "                n_folds=3,\n",
    "                cell_line=cell_line,\n",
    "                augmentation=False,\n",
    "                model = model,\n",
    "                device = device,\n",
    "                task=task,\n",
    "                sampler = 'TPE',\n",
    "                study_name = f'{cell_line}_{task}_{model.__name__}',\n",
    "                test_model_path = f'{cell_line}_{task}_{model.__name__}_TEST')"
   ]
  },
  {
   "cell_type": "code",
   "execution_count": null,
   "metadata": {},
   "outputs": [],
   "source": [
    "results_dict[cell_line][task][model.__name__] = kf_CV.scores_dict"
   ]
  },
  {
   "cell_type": "code",
   "execution_count": null,
   "metadata": {},
   "outputs": [],
   "source": [
    "with open ('results_dict.pickle', 'wb') as fout:\n",
    "    pickle.dump(OrderedDict(results_dict), fout)"
   ]
  },
  {
   "cell_type": "markdown",
   "metadata": {},
   "source": [
    "---"
   ]
  },
  {
   "cell_type": "markdown",
   "metadata": {},
   "source": [
    "## 4) INACTIVE ENHANCERS vs INACTIVE PROMOTERS"
   ]
  },
  {
   "cell_type": "code",
   "execution_count": 27,
   "metadata": {},
   "outputs": [
    {
     "data": {
      "text/plain": [
       "'inactive_E_vs_inactive_P'"
      ]
     },
     "execution_count": 27,
     "metadata": {},
     "output_type": "execute_result"
    }
   ],
   "source": [
    "task = TASKS[3]\n",
    "task"
   ]
  },
  {
   "cell_type": "code",
   "execution_count": 28,
   "metadata": {},
   "outputs": [
    {
     "name": "stdout",
     "output_type": "stream",
     "text": [
      "Data Preprocessing Done!\n"
     ]
    }
   ],
   "source": [
    "pipe_data_load = Build_DataLoader_Pipeline(path_name=f'{task}.pickle')"
   ]
  },
  {
   "cell_type": "markdown",
   "metadata": {},
   "source": [
    "---\n",
    "### EMBRACENET"
   ]
  },
  {
   "cell_type": "code",
   "execution_count": 29,
   "metadata": {},
   "outputs": [],
   "source": [
    "model=EmbraceNetMultimodal"
   ]
  },
  {
   "cell_type": "code",
   "execution_count": 30,
   "metadata": {
    "scrolled": true
   },
   "outputs": [
    {
     "name": "stdout",
     "output_type": "stream",
     "text": [
      ">>> ITERATION N. 1\n",
      "\n",
      "===============> HYPERPARAMETERS TUNING\n"
     ]
    },
    {
     "name": "stderr",
     "output_type": "stream",
     "text": [
      "/Users/Niki/Prediction-of-Active-and-Inactive-Regulatory-Regions-with-Embracenet-Multimodal-Neural-Network-/BIOINF_tesi/models/utils/training_models_multimodal.py:425: ExperimentalWarning: PatientPruner is experimental (supported from v2.8.0). The interface can change in the future.\n",
      "  pruner=optuna.pruners.PatientPruner(optuna.pruners.MedianPruner(), patience=2),\n",
      "\u001b[32m[I 2021-10-24 07:06:15,964]\u001b[0m A new study created in RDB with name: H1_inactive_E_vs_inactive_P_EmbraceNetMultimodal_1\u001b[0m\n"
     ]
    },
    {
     "data": {
      "application/vnd.jupyter.widget-view+json": {
       "model_id": "aab9ea91b8504192aa721b07c0c03b5a",
       "version_major": 2,
       "version_minor": 0
      },
      "text/plain": [
       "Epochs:   0%|          | 0/100 [00:00<?, ?it/s]"
      ]
     },
     "metadata": {},
     "output_type": "display_data"
    },
    {
     "name": "stdout",
     "output_type": "stream",
     "text": [
      "EarlyStopping counter: 1 out of 5\n",
      "EarlyStopping counter: 1 out of 5\n",
      "EarlyStopping counter: 2 out of 5\n",
      "EarlyStopping counter: 3 out of 5\n",
      "EarlyStopping counter: 4 out of 5\n"
     ]
    },
    {
     "name": "stderr",
     "output_type": "stream",
     "text": [
      "\u001b[32m[I 2021-10-24 08:10:18,675]\u001b[0m Trial 0 finished with value: 0.5650554893490456 and parameters: {'FFNN_n_layers': 3, 'FFNN_n_units_l0': 256, 'FFNN_dropout_l0': 0.0, 'FFNN_n_units_l1': 128, 'FFNN_dropout_l1': 0.4, 'FFNN_n_units_l2': 4, 'FFNN_dropout_l2': 0.5, 'CNN_n_layers': 2, 'CNN_out_channels_l0': 32, 'CNN_kernel_size_l0': 15, 'CNN_dropout_l0': 0.4, 'CNN_out_channels_l1': 96, 'CNN_kernel_size_l1': 5, 'CNN_dropout_l1': 0.4, 'EMBRACENET_embracement_size': 1024, 'n_post_layers': 0, 'selection_probabilities_FFNN': 0.6416979453128385, 'optimizer': 'Adam', 'lr': 0.01655764523137371, 'weight_decay': 0.00011713656180786807}. Best is trial 0 with value: 0.5650554893490456.\u001b[0m\n"
     ]
    },
    {
     "name": "stdout",
     "output_type": "stream",
     "text": [
      "EarlyStopping counter: 5 out of 5\n",
      "Early stopping the training\n"
     ]
    },
    {
     "data": {
      "application/vnd.jupyter.widget-view+json": {
       "model_id": "eeec87dc278940fdba8bd0809326ecf2",
       "version_major": 2,
       "version_minor": 0
      },
      "text/plain": [
       "Epochs:   0%|          | 0/100 [00:00<?, ?it/s]"
      ]
     },
     "metadata": {},
     "output_type": "display_data"
    },
    {
     "name": "stdout",
     "output_type": "stream",
     "text": [
      "EarlyStopping counter: 1 out of 5\n",
      "EarlyStopping counter: 2 out of 5\n",
      "EarlyStopping counter: 3 out of 5\n",
      "EarlyStopping counter: 4 out of 5\n"
     ]
    },
    {
     "name": "stderr",
     "output_type": "stream",
     "text": [
      "\u001b[32m[I 2021-10-24 08:40:35,939]\u001b[0m Trial 1 finished with value: 0.4090410199556539 and parameters: {'FFNN_n_layers': 4, 'FFNN_n_units_l0': 256, 'FFNN_dropout_l0': 0.0, 'FFNN_n_units_l1': 64, 'FFNN_dropout_l1': 0.3, 'FFNN_n_units_l2': 16, 'FFNN_dropout_l2': 0.0, 'FFNN_n_units_l3': 4, 'FFNN_dropout_l3': 0.5, 'CNN_n_layers': 1, 'CNN_out_channels_l0': 32, 'CNN_kernel_size_l0': 11, 'CNN_dropout_l0': 0.2, 'EMBRACENET_embracement_size': 512, 'n_post_layers': 1, 'EMBRACENET_n_units_l0': 32, 'EMBRACENET_dropout_l0': 0.0, 'selection_probabilities_FFNN': 0.9440926773646252, 'optimizer': 'Nadam', 'lr': 0.04231097541566826, 'weight_decay': 0.0013460344549310033}. Best is trial 0 with value: 0.5650554893490456.\u001b[0m\n"
     ]
    },
    {
     "name": "stdout",
     "output_type": "stream",
     "text": [
      "EarlyStopping counter: 5 out of 5\n",
      "Early stopping the training\n"
     ]
    },
    {
     "data": {
      "application/vnd.jupyter.widget-view+json": {
       "model_id": "ae23e94c485048edb30ea1720f65443a",
       "version_major": 2,
       "version_minor": 0
      },
      "text/plain": [
       "Epochs:   0%|          | 0/100 [00:00<?, ?it/s]"
      ]
     },
     "metadata": {},
     "output_type": "display_data"
    },
    {
     "name": "stdout",
     "output_type": "stream",
     "text": [
      "EarlyStopping counter: 1 out of 5\n",
      "EarlyStopping counter: 2 out of 5\n",
      "EarlyStopping counter: 3 out of 5\n",
      "EarlyStopping counter: 4 out of 5\n"
     ]
    },
    {
     "name": "stderr",
     "output_type": "stream",
     "text": [
      "\u001b[32m[I 2021-10-24 09:48:38,998]\u001b[0m Trial 2 finished with value: 0.5273342144117839 and parameters: {'FFNN_n_layers': 2, 'FFNN_n_units_l0': 128, 'FFNN_dropout_l0': 0.0, 'FFNN_n_units_l1': 128, 'FFNN_dropout_l1': 0.3, 'CNN_n_layers': 3, 'CNN_out_channels_l0': 64, 'CNN_kernel_size_l0': 15, 'CNN_dropout_l0': 0, 'CNN_out_channels_l1': 96, 'CNN_kernel_size_l1': 15, 'CNN_dropout_l1': 0, 'CNN_out_channels_l2': 128, 'CNN_kernel_size_l2': 15, 'CNN_dropout_l2': 0, 'EMBRACENET_embracement_size': 768, 'n_post_layers': 0, 'selection_probabilities_FFNN': 0.49578012029220964, 'optimizer': 'Adam', 'lr': 0.05637581759866591, 'weight_decay': 0.0067877773754802286}. Best is trial 0 with value: 0.5650554893490456.\u001b[0m\n"
     ]
    },
    {
     "name": "stdout",
     "output_type": "stream",
     "text": [
      "EarlyStopping counter: 5 out of 5\n",
      "Early stopping the training\n",
      "Study statistics: \n",
      "  Number of finished trials:  3\n",
      "  Number of pruned trials:  0\n",
      "  Number of complete trials:  3\n",
      "Best trial:\n",
      "  Value:  0.5650554893490456\n",
      "  Params: \n",
      "    CNN_dropout_l0: 0.4\n",
      "    CNN_dropout_l1: 0.4\n",
      "    CNN_kernel_size_l0: 15\n",
      "    CNN_kernel_size_l1: 5\n",
      "    CNN_n_layers: 2\n",
      "    CNN_out_channels_l0: 32\n",
      "    CNN_out_channels_l1: 96\n",
      "    EMBRACENET_embracement_size: 1024\n",
      "    FFNN_dropout_l0: 0.0\n",
      "    FFNN_dropout_l1: 0.4\n",
      "    FFNN_dropout_l2: 0.5\n",
      "    FFNN_n_layers: 3\n",
      "    FFNN_n_units_l0: 256\n",
      "    FFNN_n_units_l1: 128\n",
      "    FFNN_n_units_l2: 4\n",
      "    lr: 0.01655764523137371\n",
      "    n_post_layers: 0\n",
      "    optimizer: Adam\n",
      "    selection_probabilities_FFNN: 0.6416979453128385\n",
      "    weight_decay: 0.00011713656180786807\n",
      "\n",
      "===============> MODEL TESTING\n"
     ]
    },
    {
     "data": {
      "application/vnd.jupyter.widget-view+json": {
       "model_id": "e5f6b03c71c24ccfbb96ed6a6d756974",
       "version_major": 2,
       "version_minor": 0
      },
      "text/plain": [
       "Epochs:   0%|          | 0/100 [00:00<?, ?it/s]"
      ]
     },
     "metadata": {},
     "output_type": "display_data"
    },
    {
     "name": "stdout",
     "output_type": "stream",
     "text": [
      "EarlyStopping counter: 1 out of 5\n",
      "EarlyStopping counter: 2 out of 5\n",
      "EarlyStopping counter: 3 out of 5\n",
      "EarlyStopping counter: 4 out of 5\n",
      "EarlyStopping counter: 5 out of 5\n",
      "Early stopping the training\n",
      "AUPRC test score: 0.5583608876691454\n",
      "\n",
      "\n",
      ">>> ITERATION N. 2\n"
     ]
    },
    {
     "name": "stderr",
     "output_type": "stream",
     "text": [
      "/Users/Niki/Prediction-of-Active-and-Inactive-Regulatory-Regions-with-Embracenet-Multimodal-Neural-Network-/BIOINF_tesi/models/utils/training_models_multimodal.py:425: ExperimentalWarning: PatientPruner is experimental (supported from v2.8.0). The interface can change in the future.\n",
      "  pruner=optuna.pruners.PatientPruner(optuna.pruners.MedianPruner(), patience=2),\n",
      "\u001b[32m[I 2021-10-24 10:52:11,549]\u001b[0m A new study created in RDB with name: H1_inactive_E_vs_inactive_P_EmbraceNetMultimodal_1_2\u001b[0m\n"
     ]
    },
    {
     "name": "stdout",
     "output_type": "stream",
     "text": [
      "\n",
      "===============> HYPERPARAMETERS TUNING\n"
     ]
    },
    {
     "data": {
      "application/vnd.jupyter.widget-view+json": {
       "model_id": "2676a7df46bc47c3b7f8a666fadf133e",
       "version_major": 2,
       "version_minor": 0
      },
      "text/plain": [
       "Epochs:   0%|          | 0/100 [00:00<?, ?it/s]"
      ]
     },
     "metadata": {},
     "output_type": "display_data"
    },
    {
     "name": "stdout",
     "output_type": "stream",
     "text": [
      "EarlyStopping counter: 1 out of 5\n",
      "EarlyStopping counter: 2 out of 5\n",
      "EarlyStopping counter: 3 out of 5\n",
      "EarlyStopping counter: 4 out of 5\n"
     ]
    },
    {
     "name": "stderr",
     "output_type": "stream",
     "text": [
      "\u001b[32m[I 2021-10-24 12:40:40,567]\u001b[0m Trial 0 finished with value: 0.5302331781429431 and parameters: {'FFNN_n_layers': 1, 'FFNN_n_units_l0': 128, 'FFNN_dropout_l0': 0.0, 'CNN_n_layers': 3, 'CNN_out_channels_l0': 64, 'CNN_kernel_size_l0': 5, 'CNN_dropout_l0': 0.3, 'CNN_out_channels_l1': 96, 'CNN_kernel_size_l1': 5, 'CNN_dropout_l1': 0, 'CNN_out_channels_l2': 256, 'CNN_kernel_size_l2': 15, 'CNN_dropout_l2': 0.4, 'EMBRACENET_embracement_size': 768, 'n_post_layers': 0, 'selection_probabilities_FFNN': 0.18765996176951727, 'optimizer': 'RMSprop', 'lr': 0.007816973376596457, 'weight_decay': 0.007140559789233261}. Best is trial 0 with value: 0.5302331781429431.\u001b[0m\n"
     ]
    },
    {
     "name": "stdout",
     "output_type": "stream",
     "text": [
      "EarlyStopping counter: 5 out of 5\n",
      "Early stopping the training\n"
     ]
    },
    {
     "data": {
      "application/vnd.jupyter.widget-view+json": {
       "model_id": "a4fc5e79cb0d436d9c72f82a93b1fc32",
       "version_major": 2,
       "version_minor": 0
      },
      "text/plain": [
       "Epochs:   0%|          | 0/100 [00:00<?, ?it/s]"
      ]
     },
     "metadata": {},
     "output_type": "display_data"
    },
    {
     "name": "stdout",
     "output_type": "stream",
     "text": [
      "EarlyStopping counter: 1 out of 5\n",
      "EarlyStopping counter: 1 out of 5\n",
      "EarlyStopping counter: 1 out of 5\n",
      "EarlyStopping counter: 2 out of 5\n",
      "EarlyStopping counter: 1 out of 5\n",
      "EarlyStopping counter: 2 out of 5\n",
      "EarlyStopping counter: 1 out of 5\n",
      "EarlyStopping counter: 1 out of 5\n",
      "EarlyStopping counter: 2 out of 5\n",
      "EarlyStopping counter: 1 out of 5\n",
      "EarlyStopping counter: 1 out of 5\n",
      "EarlyStopping counter: 2 out of 5\n",
      "EarlyStopping counter: 3 out of 5\n",
      "EarlyStopping counter: 1 out of 5\n",
      "EarlyStopping counter: 2 out of 5\n",
      "EarlyStopping counter: 3 out of 5\n",
      "EarlyStopping counter: 1 out of 5\n",
      "EarlyStopping counter: 1 out of 5\n",
      "EarlyStopping counter: 2 out of 5\n",
      "EarlyStopping counter: 3 out of 5\n",
      "EarlyStopping counter: 4 out of 5\n"
     ]
    },
    {
     "name": "stderr",
     "output_type": "stream",
     "text": [
      "\u001b[32m[I 2021-10-24 15:17:14,895]\u001b[0m Trial 1 finished with value: 0.591363906019812 and parameters: {'FFNN_n_layers': 1, 'FFNN_n_units_l0': 64, 'FFNN_dropout_l0': 0.4, 'CNN_n_layers': 2, 'CNN_out_channels_l0': 16, 'CNN_kernel_size_l0': 11, 'CNN_dropout_l0': 0.3, 'CNN_out_channels_l1': 32, 'CNN_kernel_size_l1': 5, 'CNN_dropout_l1': 0.4, 'EMBRACENET_embracement_size': 1024, 'n_post_layers': 0, 'selection_probabilities_FFNN': 0.7227169397398152, 'optimizer': 'Nadam', 'lr': 2.6549601142036214e-05, 'weight_decay': 0.0006385391803407655}. Best is trial 1 with value: 0.591363906019812.\u001b[0m\n"
     ]
    },
    {
     "name": "stdout",
     "output_type": "stream",
     "text": [
      "EarlyStopping counter: 5 out of 5\n",
      "Early stopping the training\n"
     ]
    },
    {
     "data": {
      "application/vnd.jupyter.widget-view+json": {
       "model_id": "33f467ea160c4c5eb9eaa75485135569",
       "version_major": 2,
       "version_minor": 0
      },
      "text/plain": [
       "Epochs:   0%|          | 0/100 [00:00<?, ?it/s]"
      ]
     },
     "metadata": {},
     "output_type": "display_data"
    },
    {
     "name": "stdout",
     "output_type": "stream",
     "text": [
      "EarlyStopping counter: 1 out of 5\n",
      "EarlyStopping counter: 2 out of 5\n",
      "EarlyStopping counter: 1 out of 5\n",
      "EarlyStopping counter: 1 out of 5\n",
      "EarlyStopping counter: 2 out of 5\n",
      "EarlyStopping counter: 1 out of 5\n",
      "EarlyStopping counter: 2 out of 5\n",
      "EarlyStopping counter: 3 out of 5\n",
      "EarlyStopping counter: 4 out of 5\n",
      "EarlyStopping counter: 1 out of 5\n",
      "EarlyStopping counter: 1 out of 5\n",
      "EarlyStopping counter: 2 out of 5\n",
      "EarlyStopping counter: 3 out of 5\n",
      "EarlyStopping counter: 4 out of 5\n"
     ]
    },
    {
     "name": "stderr",
     "output_type": "stream",
     "text": [
      "\u001b[32m[I 2021-10-24 17:08:25,788]\u001b[0m Trial 2 finished with value: 0.5865945500896136 and parameters: {'FFNN_n_layers': 1, 'FFNN_n_units_l0': 128, 'FFNN_dropout_l0': 0.4, 'CNN_n_layers': 2, 'CNN_out_channels_l0': 16, 'CNN_kernel_size_l0': 5, 'CNN_dropout_l0': 0.3, 'CNN_out_channels_l1': 32, 'CNN_kernel_size_l1': 5, 'CNN_dropout_l1': 0, 'EMBRACENET_embracement_size': 1024, 'n_post_layers': 1, 'EMBRACENET_n_units_l0': 256, 'EMBRACENET_dropout_l0': 0.0, 'selection_probabilities_FFNN': 0.7973989565416906, 'optimizer': 'Nadam', 'lr': 2.6237454192320357e-05, 'weight_decay': 0.00804831974153669}. Best is trial 1 with value: 0.591363906019812.\u001b[0m\n"
     ]
    },
    {
     "name": "stdout",
     "output_type": "stream",
     "text": [
      "EarlyStopping counter: 5 out of 5\n",
      "Early stopping the training\n",
      "Study statistics: \n",
      "  Number of finished trials:  3\n",
      "  Number of pruned trials:  0\n",
      "  Number of complete trials:  3\n",
      "Best trial:\n",
      "  Value:  0.591363906019812\n",
      "  Params: \n",
      "    CNN_dropout_l0: 0.3\n",
      "    CNN_dropout_l1: 0.4\n",
      "    CNN_kernel_size_l0: 11\n",
      "    CNN_kernel_size_l1: 5\n",
      "    CNN_n_layers: 2\n",
      "    CNN_out_channels_l0: 16\n",
      "    CNN_out_channels_l1: 32\n",
      "    EMBRACENET_embracement_size: 1024\n",
      "    FFNN_dropout_l0: 0.4\n",
      "    FFNN_n_layers: 1\n",
      "    FFNN_n_units_l0: 64\n",
      "    lr: 2.6549601142036214e-05\n",
      "    n_post_layers: 0\n",
      "    optimizer: Nadam\n",
      "    selection_probabilities_FFNN: 0.7227169397398152\n",
      "    weight_decay: 0.0006385391803407655\n",
      "\n",
      "===============> MODEL TESTING\n"
     ]
    },
    {
     "data": {
      "application/vnd.jupyter.widget-view+json": {
       "model_id": "220e783e7617451983c93bde2eeddd3e",
       "version_major": 2,
       "version_minor": 0
      },
      "text/plain": [
       "Epochs:   0%|          | 0/100 [00:00<?, ?it/s]"
      ]
     },
     "metadata": {},
     "output_type": "display_data"
    },
    {
     "name": "stdout",
     "output_type": "stream",
     "text": [
      "EarlyStopping counter: 1 out of 5\n",
      "EarlyStopping counter: 2 out of 5\n",
      "EarlyStopping counter: 1 out of 5\n",
      "EarlyStopping counter: 1 out of 5\n",
      "EarlyStopping counter: 1 out of 5\n",
      "EarlyStopping counter: 2 out of 5\n",
      "EarlyStopping counter: 1 out of 5\n",
      "EarlyStopping counter: 2 out of 5\n",
      "EarlyStopping counter: 1 out of 5\n",
      "EarlyStopping counter: 2 out of 5\n",
      "EarlyStopping counter: 1 out of 5\n",
      "EarlyStopping counter: 1 out of 5\n",
      "EarlyStopping counter: 2 out of 5\n",
      "EarlyStopping counter: 3 out of 5\n",
      "EarlyStopping counter: 1 out of 5\n",
      "EarlyStopping counter: 2 out of 5\n",
      "EarlyStopping counter: 3 out of 5\n",
      "EarlyStopping counter: 1 out of 5\n",
      "EarlyStopping counter: 2 out of 5\n",
      "EarlyStopping counter: 3 out of 5\n",
      "EarlyStopping counter: 4 out of 5\n",
      "EarlyStopping counter: 5 out of 5\n",
      "Early stopping the training\n",
      "AUPRC test score: 0.5934009376839389\n",
      "\n",
      "\n",
      ">>> ITERATION N. 3\n"
     ]
    },
    {
     "name": "stderr",
     "output_type": "stream",
     "text": [
      "/Users/Niki/Prediction-of-Active-and-Inactive-Regulatory-Regions-with-Embracenet-Multimodal-Neural-Network-/BIOINF_tesi/models/utils/training_models_multimodal.py:425: ExperimentalWarning: PatientPruner is experimental (supported from v2.8.0). The interface can change in the future.\n",
      "  pruner=optuna.pruners.PatientPruner(optuna.pruners.MedianPruner(), patience=2),\n",
      "\u001b[32m[I 2021-10-24 21:38:45,513]\u001b[0m A new study created in RDB with name: H1_inactive_E_vs_inactive_P_EmbraceNetMultimodal_1_2_3\u001b[0m\n"
     ]
    },
    {
     "name": "stdout",
     "output_type": "stream",
     "text": [
      "\n",
      "===============> HYPERPARAMETERS TUNING\n"
     ]
    },
    {
     "data": {
      "application/vnd.jupyter.widget-view+json": {
       "model_id": "23ae1abe78e64ed3afcce972cb8e9647",
       "version_major": 2,
       "version_minor": 0
      },
      "text/plain": [
       "Epochs:   0%|          | 0/100 [00:00<?, ?it/s]"
      ]
     },
     "metadata": {},
     "output_type": "display_data"
    },
    {
     "name": "stdout",
     "output_type": "stream",
     "text": [
      "EarlyStopping counter: 1 out of 5\n",
      "EarlyStopping counter: 2 out of 5\n",
      "EarlyStopping counter: 3 out of 5\n",
      "EarlyStopping counter: 4 out of 5\n"
     ]
    },
    {
     "name": "stderr",
     "output_type": "stream",
     "text": [
      "\u001b[32m[I 2021-10-24 22:17:23,798]\u001b[0m Trial 0 finished with value: 0.5231693071200307 and parameters: {'FFNN_n_layers': 3, 'FFNN_n_units_l0': 64, 'FFNN_dropout_l0': 0.2, 'FFNN_n_units_l1': 64, 'FFNN_dropout_l1': 0.2, 'FFNN_n_units_l2': 16, 'FFNN_dropout_l2': 0.4, 'CNN_n_layers': 4, 'CNN_out_channels_l0': 16, 'CNN_kernel_size_l0': 11, 'CNN_dropout_l0': 0.2, 'CNN_out_channels_l1': 32, 'CNN_kernel_size_l1': 15, 'CNN_dropout_l1': 0, 'CNN_out_channels_l2': 64, 'CNN_kernel_size_l2': 15, 'CNN_dropout_l2': 0.5, 'CNN_out_channels_l3': 256, 'CNN_kernel_size_l3': 11, 'CNN_dropout_l3': 0, 'EMBRACENET_embracement_size': 768, 'n_post_layers': 1, 'EMBRACENET_n_units_l0': 256, 'EMBRACENET_dropout_l0': 0.2, 'selection_probabilities_FFNN': 0.31051310911555363, 'optimizer': 'RMSprop', 'lr': 2.53771137524498e-05, 'weight_decay': 0.0014400296950439653}. Best is trial 0 with value: 0.5231693071200307.\u001b[0m\n"
     ]
    },
    {
     "name": "stdout",
     "output_type": "stream",
     "text": [
      "EarlyStopping counter: 5 out of 5\n",
      "Early stopping the training\n"
     ]
    },
    {
     "data": {
      "application/vnd.jupyter.widget-view+json": {
       "model_id": "b3e4d5ec1f23441abe7e33f09c40c2fd",
       "version_major": 2,
       "version_minor": 0
      },
      "text/plain": [
       "Epochs:   0%|          | 0/100 [00:00<?, ?it/s]"
      ]
     },
     "metadata": {},
     "output_type": "display_data"
    },
    {
     "name": "stdout",
     "output_type": "stream",
     "text": [
      "EarlyStopping counter: 1 out of 5\n",
      "EarlyStopping counter: 1 out of 5\n",
      "EarlyStopping counter: 2 out of 5\n",
      "EarlyStopping counter: 3 out of 5\n",
      "EarlyStopping counter: 4 out of 5\n"
     ]
    },
    {
     "name": "stderr",
     "output_type": "stream",
     "text": [
      "\u001b[32m[I 2021-10-24 23:46:55,793]\u001b[0m Trial 1 finished with value: 0.5760002664977636 and parameters: {'FFNN_n_layers': 1, 'FFNN_n_units_l0': 128, 'FFNN_dropout_l0': 0.0, 'CNN_n_layers': 1, 'CNN_out_channels_l0': 64, 'CNN_kernel_size_l0': 5, 'CNN_dropout_l0': 0, 'EMBRACENET_embracement_size': 1024, 'n_post_layers': 1, 'EMBRACENET_n_units_l0': 64, 'EMBRACENET_dropout_l0': 0.3, 'selection_probabilities_FFNN': 0.36154031934716324, 'optimizer': 'Nadam', 'lr': 4.2337031432013654e-05, 'weight_decay': 0.003845718864247063}. Best is trial 1 with value: 0.5760002664977636.\u001b[0m\n"
     ]
    },
    {
     "name": "stdout",
     "output_type": "stream",
     "text": [
      "EarlyStopping counter: 5 out of 5\n",
      "Early stopping the training\n"
     ]
    },
    {
     "data": {
      "application/vnd.jupyter.widget-view+json": {
       "model_id": "38f5da092c084d1084e11689e1dedfed",
       "version_major": 2,
       "version_minor": 0
      },
      "text/plain": [
       "Epochs:   0%|          | 0/100 [00:00<?, ?it/s]"
      ]
     },
     "metadata": {},
     "output_type": "display_data"
    },
    {
     "name": "stdout",
     "output_type": "stream",
     "text": [
      "EarlyStopping counter: 1 out of 5\n",
      "EarlyStopping counter: 1 out of 5\n",
      "EarlyStopping counter: 2 out of 5\n",
      "EarlyStopping counter: 3 out of 5\n",
      "EarlyStopping counter: 4 out of 5\n"
     ]
    },
    {
     "name": "stderr",
     "output_type": "stream",
     "text": [
      "\u001b[32m[I 2021-10-25 00:37:39,804]\u001b[0m Trial 2 finished with value: 0.41002771618625244 and parameters: {'FFNN_n_layers': 1, 'FFNN_n_units_l0': 64, 'FFNN_dropout_l0': 0.4, 'CNN_n_layers': 1, 'CNN_out_channels_l0': 64, 'CNN_kernel_size_l0': 5, 'CNN_dropout_l0': 0.2, 'EMBRACENET_embracement_size': 768, 'n_post_layers': 1, 'EMBRACENET_n_units_l0': 64, 'EMBRACENET_dropout_l0': 0.3, 'selection_probabilities_FFNN': 0.35776787261101684, 'optimizer': 'Nadam', 'lr': 0.02421900877587862, 'weight_decay': 0.09187282384301929}. Best is trial 1 with value: 0.5760002664977636.\u001b[0m\n"
     ]
    },
    {
     "name": "stdout",
     "output_type": "stream",
     "text": [
      "EarlyStopping counter: 5 out of 5\n",
      "Early stopping the training\n",
      "Study statistics: \n",
      "  Number of finished trials:  3\n",
      "  Number of pruned trials:  0\n",
      "  Number of complete trials:  3\n",
      "Best trial:\n",
      "  Value:  0.5760002664977636\n",
      "  Params: \n",
      "    CNN_dropout_l0: 0\n",
      "    CNN_kernel_size_l0: 5\n",
      "    CNN_n_layers: 1\n",
      "    CNN_out_channels_l0: 64\n",
      "    EMBRACENET_dropout_l0: 0.3\n",
      "    EMBRACENET_embracement_size: 1024\n",
      "    EMBRACENET_n_units_l0: 64\n",
      "    FFNN_dropout_l0: 0.0\n",
      "    FFNN_n_layers: 1\n",
      "    FFNN_n_units_l0: 128\n",
      "    lr: 4.2337031432013654e-05\n",
      "    n_post_layers: 1\n",
      "    optimizer: Nadam\n",
      "    selection_probabilities_FFNN: 0.36154031934716324\n",
      "    weight_decay: 0.003845718864247063\n",
      "\n",
      "===============> MODEL TESTING\n"
     ]
    },
    {
     "data": {
      "application/vnd.jupyter.widget-view+json": {
       "model_id": "34ee4af5bfc347ceb155f5332bbb5352",
       "version_major": 2,
       "version_minor": 0
      },
      "text/plain": [
       "Epochs:   0%|          | 0/100 [00:00<?, ?it/s]"
      ]
     },
     "metadata": {},
     "output_type": "display_data"
    },
    {
     "name": "stdout",
     "output_type": "stream",
     "text": [
      "EarlyStopping counter: 1 out of 5\n",
      "EarlyStopping counter: 1 out of 5\n",
      "EarlyStopping counter: 2 out of 5\n",
      "EarlyStopping counter: 3 out of 5\n",
      "EarlyStopping counter: 4 out of 5\n",
      "EarlyStopping counter: 1 out of 5\n",
      "EarlyStopping counter: 1 out of 5\n",
      "EarlyStopping counter: 2 out of 5\n",
      "EarlyStopping counter: 3 out of 5\n",
      "EarlyStopping counter: 4 out of 5\n",
      "EarlyStopping counter: 5 out of 5\n",
      "Early stopping the training\n",
      "AUPRC test score: 0.6023799417685515\n",
      "\n",
      "\n",
      "\n",
      "3-FOLD CROSS-VALIDATION AUPRC TEST SCORE: 0.58471\n"
     ]
    }
   ],
   "source": [
    "kf_CV = Kfold_CV_Multimodal()\n",
    "\n",
    "kf_CV(build_dataloader_pipeline = pipe_data_load,\n",
    "                num_epochs = 100,\n",
    "                n_folds=3,\n",
    "                cell_line=cell_line,\n",
    "                augmentation=False,\n",
    "                model = model,\n",
    "                device = device,\n",
    "                task=task,\n",
    "                sampler = 'TPE',\n",
    "                study_name = f'{cell_line}_{task}_{model.__name__}',\n",
    "                test_model_path = f'{cell_line}_{task}_{model.__name__}_TEST')"
   ]
  },
  {
   "cell_type": "code",
   "execution_count": null,
   "metadata": {},
   "outputs": [],
   "source": [
    "results_dict[cell_line][task][model.__name__] = kf_CV.scores_dict"
   ]
  },
  {
   "cell_type": "code",
   "execution_count": null,
   "metadata": {},
   "outputs": [],
   "source": [
    "with open ('results_dict.pickle', 'wb') as fout:\n",
    "    pickle.dump(OrderedDict(results_dict), fout)"
   ]
  },
  {
   "cell_type": "markdown",
   "metadata": {},
   "source": [
    "### CONCATNET"
   ]
  },
  {
   "cell_type": "code",
   "execution_count": null,
   "metadata": {},
   "outputs": [],
   "source": [
    "model=ConcatNetMultimodal"
   ]
  },
  {
   "cell_type": "code",
   "execution_count": null,
   "metadata": {
    "scrolled": true
   },
   "outputs": [],
   "source": [
    "kf_CV = Kfold_CV_Multimodal()\n",
    "\n",
    "kf_CV(build_dataloader_pipeline = pipe_data_load,\n",
    "                num_epochs = 100,\n",
    "                n_folds=3,\n",
    "                cell_line=cell_line,\n",
    "                augmentation=False,\n",
    "                model = model,\n",
    "                device = device,\n",
    "                task=task,\n",
    "                sampler = 'TPE',\n",
    "                study_name = f'{cell_line}_{task}_{model.__name__}',\n",
    "                test_model_path = f'{cell_line}_{task}_{model.__name__}_TEST')"
   ]
  },
  {
   "cell_type": "code",
   "execution_count": null,
   "metadata": {},
   "outputs": [],
   "source": [
    "results_dict[cell_line][task][model.__name__] = kf_CV.scores_dict"
   ]
  },
  {
   "cell_type": "code",
   "execution_count": null,
   "metadata": {},
   "outputs": [],
   "source": [
    "with open ('results_dict.pickle', 'wb') as fout:\n",
    "    pickle.dump(OrderedDict(results_dict), fout)"
   ]
  },
  {
   "cell_type": "markdown",
   "metadata": {},
   "source": [
    "---"
   ]
  },
  {
   "cell_type": "markdown",
   "metadata": {},
   "source": [
    "## 5) ACTIVE ENHANCERS + ACTIVE PROMOTERS vs INACTIVE REST"
   ]
  },
  {
   "cell_type": "code",
   "execution_count": 7,
   "metadata": {},
   "outputs": [
    {
     "data": {
      "text/plain": [
       "'active_EP_vs_inactive_rest'"
      ]
     },
     "execution_count": 7,
     "metadata": {},
     "output_type": "execute_result"
    }
   ],
   "source": [
    "task = TASKS[4]\n",
    "task"
   ]
  },
  {
   "cell_type": "code",
   "execution_count": 8,
   "metadata": {},
   "outputs": [
    {
     "name": "stdout",
     "output_type": "stream",
     "text": [
      "Data Preprocessing Done!\n"
     ]
    }
   ],
   "source": [
    "pipe_data_load = Build_DataLoader_Pipeline(path_name=f'{task}.pickle')"
   ]
  },
  {
   "cell_type": "markdown",
   "metadata": {},
   "source": [
    "---\n",
    "### EMBRACENET"
   ]
  },
  {
   "cell_type": "code",
   "execution_count": 9,
   "metadata": {},
   "outputs": [],
   "source": [
    "model=EmbraceNetMultimodal"
   ]
  },
  {
   "cell_type": "code",
   "execution_count": null,
   "metadata": {
    "scrolled": true
   },
   "outputs": [
    {
     "name": "stdout",
     "output_type": "stream",
     "text": [
      ">>> ITERATION N. 1\n",
      "\n",
      "===============> HYPERPARAMETERS TUNING\n"
     ]
    },
    {
     "name": "stderr",
     "output_type": "stream",
     "text": [
      "/Users/Niki/Prediction-of-Active-and-Inactive-Regulatory-Regions-with-Embracenet-Multimodal-Neural-Network-/BIOINF_tesi/models/utils/training_models_multimodal.py:425: ExperimentalWarning: PatientPruner is experimental (supported from v2.8.0). The interface can change in the future.\n",
      "  pruner=optuna.pruners.PatientPruner(optuna.pruners.MedianPruner(), patience=2),\n",
      "\u001b[32m[I 2021-10-25 13:36:09,946]\u001b[0m Using an existing study with name 'H1_active_EP_vs_inactive_rest_EmbraceNetMultimodal_1' instead of creating a new one.\u001b[0m\n",
      "/opt/anaconda3/lib/python3.8/site-packages/optuna/structs.py:18: FutureWarning: `structs` is deprecated. Classes have moved to the following modules. `structs.StudyDirection`->`study.StudyDirection`, `structs.StudySummary`->`study.StudySummary`, `structs.FrozenTrial`->`trial.FrozenTrial`, `structs.TrialState`->`trial.TrialState`, `structs.TrialPruned`->`exceptions.TrialPruned`.\n",
      "  warnings.warn(_message, FutureWarning)\n"
     ]
    },
    {
     "name": "stdout",
     "output_type": "stream",
     "text": [
      "Study statistics: \n",
      "  Number of finished trials:  3\n",
      "  Number of pruned trials:  0\n",
      "  Number of complete trials:  3\n",
      "Best trial:\n",
      "  Value:  0.2122103227118117\n",
      "  Params: \n",
      "    CNN_dropout_l0: 0.3\n",
      "    CNN_dropout_l1: 0.5\n",
      "    CNN_dropout_l2: 0.5\n",
      "    CNN_dropout_l3: 0.4\n",
      "    CNN_kernel_size_l0: 5\n",
      "    CNN_kernel_size_l1: 11\n",
      "    CNN_kernel_size_l2: 11\n",
      "    CNN_kernel_size_l3: 15\n",
      "    CNN_n_layers: 4\n",
      "    CNN_out_channels_l0: 64\n",
      "    CNN_out_channels_l1: 64\n",
      "    CNN_out_channels_l2: 128\n",
      "    CNN_out_channels_l3: 256\n",
      "    EMBRACENET_dropout_l0: 0.5\n",
      "    EMBRACENET_embracement_size: 1024\n",
      "    EMBRACENET_n_units_l0: 256\n",
      "    FFNN_dropout_l0: 0.0\n",
      "    FFNN_n_layers: 1\n",
      "    FFNN_n_units_l0: 64\n",
      "    lr: 2.692148109170225e-05\n",
      "    n_post_layers: 1\n",
      "    optimizer: Adam\n",
      "    selection_probabilities_FFNN: 0.09490670953375435\n",
      "    weight_decay: 0.06417523893091548\n",
      "\n",
      "===============> MODEL TESTING\n"
     ]
    },
    {
     "data": {
      "application/vnd.jupyter.widget-view+json": {
       "model_id": "9952fef2d3444c42b337161345bdfc7c",
       "version_major": 2,
       "version_minor": 0
      },
      "text/plain": [
       "Epochs:   0%|          | 0/100 [00:00<?, ?it/s]"
      ]
     },
     "metadata": {},
     "output_type": "display_data"
    },
    {
     "name": "stderr",
     "output_type": "stream",
     "text": [
      "/opt/anaconda3/lib/python3.8/site-packages/torch/nn/functional.py:652: UserWarning: Named tensors and all their associated APIs are an experimental feature and subject to change. Please do not use them for anything important until they are released as stable. (Triggered internally at  ../c10/core/TensorImpl.h:1156.)\n",
      "  return torch.max_pool1d(input, kernel_size, stride, padding, dilation, ceil_mode)\n"
     ]
    },
    {
     "name": "stdout",
     "output_type": "stream",
     "text": [
      "EarlyStopping counter: 1 out of 4\n",
      "EarlyStopping counter: 2 out of 4\n",
      "EarlyStopping counter: 1 out of 4\n",
      "EarlyStopping counter: 1 out of 4\n",
      "EarlyStopping counter: 2 out of 4\n",
      "EarlyStopping counter: 1 out of 4\n",
      "EarlyStopping counter: 2 out of 4\n",
      "EarlyStopping counter: 3 out of 4\n",
      "EarlyStopping counter: 4 out of 4\n",
      "Early stopping the training\n",
      "AUPRC test score: 0.19490657013930532\n",
      "\n",
      "\n",
      ">>> ITERATION N. 2\n"
     ]
    },
    {
     "name": "stderr",
     "output_type": "stream",
     "text": [
      "/Users/Niki/Prediction-of-Active-and-Inactive-Regulatory-Regions-with-Embracenet-Multimodal-Neural-Network-/BIOINF_tesi/models/utils/training_models_multimodal.py:425: ExperimentalWarning: PatientPruner is experimental (supported from v2.8.0). The interface can change in the future.\n",
      "  pruner=optuna.pruners.PatientPruner(optuna.pruners.MedianPruner(), patience=2),\n",
      "\u001b[32m[I 2021-10-25 19:16:12,485]\u001b[0m A new study created in RDB with name: H1_active_EP_vs_inactive_rest_EmbraceNetMultimodal_1_2\u001b[0m\n"
     ]
    },
    {
     "name": "stdout",
     "output_type": "stream",
     "text": [
      "\n",
      "===============> HYPERPARAMETERS TUNING\n"
     ]
    },
    {
     "data": {
      "application/vnd.jupyter.widget-view+json": {
       "model_id": "a031a2b66388486b898eacdbfb489a5a",
       "version_major": 2,
       "version_minor": 0
      },
      "text/plain": [
       "Epochs:   0%|          | 0/100 [00:00<?, ?it/s]"
      ]
     },
     "metadata": {},
     "output_type": "display_data"
    },
    {
     "name": "stdout",
     "output_type": "stream",
     "text": [
      "EarlyStopping counter: 1 out of 4\n",
      "EarlyStopping counter: 2 out of 4\n",
      "EarlyStopping counter: 3 out of 4\n",
      "EarlyStopping counter: 1 out of 4\n",
      "EarlyStopping counter: 1 out of 4\n"
     ]
    }
   ],
   "source": [
    "kf_CV = Kfold_CV_Multimodal()\n",
    "\n",
    "kf_CV(build_dataloader_pipeline = pipe_data_load,\n",
    "                num_epochs = 100,\n",
    "                n_folds=3,\n",
    "                cell_line=cell_line,\n",
    "                augmentation=False,\n",
    "                model = model,\n",
    "                device = device,\n",
    "                task=task,\n",
    "                sampler = 'TPE',\n",
    "                study_name = f'{cell_line}_{task}_{model.__name__}',\n",
    "                test_model_path = f'{cell_line}_{task}_{model.__name__}_TEST')"
   ]
  },
  {
   "cell_type": "code",
   "execution_count": null,
   "metadata": {},
   "outputs": [],
   "source": [
    "results_dict[cell_line][task][model.__name__] = kf_CV.scores_dict"
   ]
  },
  {
   "cell_type": "code",
   "execution_count": null,
   "metadata": {},
   "outputs": [],
   "source": [
    "with open ('results_dict.pickle', 'wb') as fout:\n",
    "    pickle.dump(OrderedDict(results_dict), fout)"
   ]
  },
  {
   "cell_type": "markdown",
   "metadata": {},
   "source": [
    "### CONCATNET"
   ]
  },
  {
   "cell_type": "code",
   "execution_count": null,
   "metadata": {},
   "outputs": [],
   "source": [
    "model=ConcatNetMultimodal"
   ]
  },
  {
   "cell_type": "code",
   "execution_count": null,
   "metadata": {
    "scrolled": true
   },
   "outputs": [],
   "source": [
    "kf_CV = Kfold_CV_Multimodal()\n",
    "\n",
    "kf_CV(build_dataloader_pipeline = pipe_data_load,\n",
    "                num_epochs = 100,\n",
    "                n_folds=3,\n",
    "                cell_line=cell_line,\n",
    "                augmentation=False,\n",
    "                model = model,\n",
    "                device = device,\n",
    "                task=task,\n",
    "                sampler = 'TPE',\n",
    "                study_name = f'{cell_line}_{task}_{model.__name__}',\n",
    "                test_model_path = f'{cell_line}_{task}_{model.__name__}_TEST')"
   ]
  },
  {
   "cell_type": "code",
   "execution_count": null,
   "metadata": {},
   "outputs": [],
   "source": [
    "results_dict[cell_line][task][model.__name__] = kf_CV.scores_dict"
   ]
  },
  {
   "cell_type": "code",
   "execution_count": null,
   "metadata": {},
   "outputs": [],
   "source": [
    "with open ('results_dict.pickle', 'wb') as fout:\n",
    "    pickle.dump(OrderedDict(results_dict), fout)"
   ]
  },
  {
   "cell_type": "markdown",
   "metadata": {},
   "source": [
    "## NO FREEZED LAYERS"
   ]
  },
  {
   "cell_type": "code",
   "execution_count": null,
   "metadata": {},
   "outputs": [],
   "source": [
    "from BIOINF_tesi.models.utils import plot_scores\n",
    "plot_scores(cells=cell_line, models=['EmbraceNetMultimodal'])"
   ]
  },
  {
   "cell_type": "markdown",
   "metadata": {},
   "source": [
    "## FREEZED LAYERS + BO + no augmentation"
   ]
  },
  {
   "cell_type": "code",
   "execution_count": null,
   "metadata": {},
   "outputs": [],
   "source": [
    "from BIOINF_tesi.models.utils import plot_scores\n",
    "plot_scores(cells=cell_line, models=['EmbraceNetMultimodal'])"
   ]
  },
  {
   "cell_type": "code",
   "execution_count": null,
   "metadata": {},
   "outputs": [],
   "source": [
    "plot_scores(cells=cell_line)"
   ]
  },
  {
   "cell_type": "code",
   "execution_count": null,
   "metadata": {},
   "outputs": [],
   "source": []
  }
 ],
 "metadata": {
  "environment": {
   "name": "pytorch-gpu.1-9.m79",
   "type": "gcloud",
   "uri": "gcr.io/deeplearning-platform-release/pytorch-gpu.1-9:m79"
  },
  "kernelspec": {
   "display_name": "Python 3",
   "language": "python",
   "name": "python3"
  },
  "language_info": {
   "codemirror_mode": {
    "name": "ipython",
    "version": 3
   },
   "file_extension": ".py",
   "mimetype": "text/x-python",
   "name": "python",
   "nbconvert_exporter": "python",
   "pygments_lexer": "ipython3",
   "version": "3.8.8"
  }
 },
 "nbformat": 4,
 "nbformat_minor": 4
}
