{
 "cells": [
  {
   "cell_type": "code",
   "execution_count": 2,
   "id": "7988c209",
   "metadata": {},
   "outputs": [],
   "source": [
    "import pandas as pd \n",
    "import numpy as np\n",
    "import os\n",
    "import torch\n",
    "import torch.nn.functional as F\n",
    "from torch.utils.data import Dataset, DataLoader\n",
    "import torch.nn as nn\n",
    "import torch.optim as optim\n",
    "from collections import defaultdict, OrderedDict\n",
    "import pickle\n",
    "\n",
    "import sqlite3\n",
    "from sqlalchemy import create_engine\n",
    "\n",
    "device = 'cuda' if torch.cuda.is_available() else 'cpu'\n",
    "\n",
    "from BIOINF_tesi.data_pipe import CELL_LINES, TASKS"
   ]
  },
  {
   "cell_type": "code",
   "execution_count": 3,
   "id": "467267d5",
   "metadata": {},
   "outputs": [],
   "source": [
    "with open (f'pval_results_dict_{TASKS[2]}.pickle', 'rb') as fin:\n",
    "        results_dict = pickle.load(fin)\n",
    "        results_dict = defaultdict(lambda: defaultdict(dict), results_dict)"
   ]
  },
  {
   "cell_type": "code",
   "execution_count": 4,
   "id": "2e64667d",
   "metadata": {},
   "outputs": [
    {
     "data": {
      "text/plain": [
       "defaultdict(<function __main__.<lambda>()>,\n",
       "            {'active_E_vs_active_P': defaultdict(dict,\n",
       "                         {'A549': {'EmbraceNetMultimodal': defaultdict(<function BIOINF_tesi.visual.visual.dd()>,\n",
       "                                       {'FFNN': defaultdict(dict, {'3': 0.0}),\n",
       "                                        'CNN': defaultdict(dict,\n",
       "                                                    {'3': 1.6773044774266527e-251}),\n",
       "                                        'ConcatNetMultimodal': defaultdict(dict,\n",
       "                                                    {'3': 0.0}),\n",
       "                                        'EmbraceNetMultimodal_augmentation': defaultdict(dict,\n",
       "                                                    {'3': 0.0})}),\n",
       "                           'EmbraceNetMultimodal_augmentation': defaultdict(<function BIOINF_tesi.visual.visual.dd()>,\n",
       "                                       {'FFNN': defaultdict(dict,\n",
       "                                                    {'3': 9.313172529280002e-124}),\n",
       "                                        'CNN': defaultdict(dict, {'3': 0.0}),\n",
       "                                        'ConcatNetMultimodal': defaultdict(dict,\n",
       "                                                    {'3': 0.0}),\n",
       "                                        'EmbraceNetMultimodal': defaultdict(dict,\n",
       "                                                    {'3': 0.0})})}})})"
      ]
     },
     "metadata": {},
     "output_type": "display_data"
    }
   ],
   "source": [
    "display(results_dict)"
   ]
  },
  {
   "cell_type": "code",
   "execution_count": null,
   "id": "e3ace566",
   "metadata": {},
   "outputs": [],
   "source": []
  }
 ],
 "metadata": {
  "kernelspec": {
   "display_name": "Python 3",
   "language": "python",
   "name": "python3"
  },
  "language_info": {
   "codemirror_mode": {
    "name": "ipython",
    "version": 3
   },
   "file_extension": ".py",
   "mimetype": "text/x-python",
   "name": "python",
   "nbconvert_exporter": "python",
   "pygments_lexer": "ipython3",
   "version": "3.8.8"
  }
 },
 "nbformat": 4,
 "nbformat_minor": 5
}
