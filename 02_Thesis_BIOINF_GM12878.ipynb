{
 "cells": [
  {
   "cell_type": "markdown",
   "metadata": {
    "id": "zqpqu8UJFySp"
   },
   "source": [
    "## BIOINFORMATICS THESIS: MULTIMODAL NEURAL NETWORK"
   ]
  },
  {
   "cell_type": "markdown",
   "metadata": {},
   "source": [
    "# CELL LINE: GM12878"
   ]
  },
  {
   "cell_type": "code",
   "execution_count": 1,
   "metadata": {},
   "outputs": [],
   "source": [
    "import pandas as pd \n",
    "import numpy as np\n",
    "import os\n",
    "\n",
    "import torch\n",
    "import torch.nn.functional as F\n",
    "from torch.utils.data import Dataset, DataLoader\n",
    "import torch.nn as nn\n",
    "import torch.optim as optim\n",
    "from collections import defaultdict, OrderedDict\n",
    "import pickle\n",
    "\n",
    "import sqlite3\n",
    "from sqlalchemy import create_engine\n",
    "\n",
    "device = 'cuda' if torch.cuda.is_available() else 'cpu'"
   ]
  },
  {
   "cell_type": "code",
   "execution_count": 2,
   "metadata": {},
   "outputs": [],
   "source": [
    "# create a database to store optuna studies with sqlite backend\n",
    "#engine = create_engine('sqlite:///BIOINF_optuna_tuning.db')"
   ]
  },
  {
   "cell_type": "code",
   "execution_count": 3,
   "metadata": {},
   "outputs": [],
   "source": [
    "from BIOINF_tesi.data_pipe import CELL_LINES, TASKS"
   ]
  },
  {
   "cell_type": "code",
   "execution_count": 4,
   "metadata": {},
   "outputs": [
    {
     "data": {
      "text/plain": [
       "'GM12878'"
      ]
     },
     "execution_count": 4,
     "metadata": {},
     "output_type": "execute_result"
    }
   ],
   "source": [
    "cell_line = CELL_LINES[1]\n",
    "cell_line"
   ]
  },
  {
   "cell_type": "markdown",
   "metadata": {},
   "source": [
    "---"
   ]
  },
  {
   "cell_type": "code",
   "execution_count": 5,
   "metadata": {},
   "outputs": [],
   "source": [
    "from BIOINF_tesi.data_pipe import Load_Create_Task\n",
    "from BIOINF_tesi.data_pipe import Build_DataLoader_Pipeline"
   ]
  },
  {
   "cell_type": "code",
   "execution_count": 6,
   "metadata": {},
   "outputs": [],
   "source": [
    "from BIOINF_tesi.models import FFNN, CNN, CNN_LSTM\n",
    "from BIOINF_tesi.models.utils import fit, Param_Search, Kfold_CV"
   ]
  },
  {
   "cell_type": "raw",
   "metadata": {},
   "source": [
    "def dd():\n",
    "    return defaultdict(dict)\n",
    "    \n",
    "results_dict = defaultdict(dd)"
   ]
  },
  {
   "cell_type": "code",
   "execution_count": 7,
   "metadata": {},
   "outputs": [],
   "source": [
    "with open ('results_dict.pickle', 'rb') as fin:\n",
    "    results_dict = pickle.load(fin)"
   ]
  },
  {
   "cell_type": "markdown",
   "metadata": {},
   "source": [
    "## 1) ACTIVE ENHANCERS vs INACTIVE ENHANCERS"
   ]
  },
  {
   "cell_type": "code",
   "execution_count": 8,
   "metadata": {},
   "outputs": [
    {
     "data": {
      "text/plain": [
       "'active_E_vs_inactive_E'"
      ]
     },
     "execution_count": 8,
     "metadata": {},
     "output_type": "execute_result"
    }
   ],
   "source": [
    "task = TASKS[0]\n",
    "task"
   ]
  },
  {
   "cell_type": "code",
   "execution_count": 9,
   "metadata": {
    "scrolled": true
   },
   "outputs": [
    {
     "name": "stdout",
     "output_type": "stream",
     "text": [
      "Data Preprocessing Done!\n"
     ]
    }
   ],
   "source": [
    "pipe_data_load = Build_DataLoader_Pipeline(path_name=f'{task}.pickle')"
   ]
  },
  {
   "cell_type": "markdown",
   "metadata": {},
   "source": [
    "---"
   ]
  },
  {
   "cell_type": "code",
   "execution_count": null,
   "metadata": {},
   "outputs": [],
   "source": [
    "kf_CV = Kfold_CV()\n",
    "\n",
    "kf_CV(build_dataloader_pipeline = pipe_data_load,\n",
    "                num_epochs = 100,\n",
    "                n_folds=3,\n",
    "                device=device,\n",
    "                \n",
    "                cell_line=cell_line,\n",
    "                sequence=False,\n",
    "                augmentation=False,\n",
    "                model = model,\n",
    "                study_name = f'{cell_line}_{task}_{model.__name__}',\n",
    "                hp_model_path = f'{cell_line}_{task}_{model.__name__}_HP.pt',\n",
    "                test_model_path = f'{cell_line}_{task}_{model.__name__}_TEST.pt')"
   ]
  },
  {
   "cell_type": "markdown",
   "metadata": {},
   "source": [
    "### 1. FFNN"
   ]
  },
  {
   "cell_type": "code",
   "execution_count": 10,
   "metadata": {},
   "outputs": [],
   "source": [
    "model=FFNN"
   ]
  },
  {
   "cell_type": "code",
   "execution_count": 11,
   "metadata": {
    "scrolled": true
   },
   "outputs": [
    {
     "name": "stderr",
     "output_type": "stream",
     "text": [
      "/Users/Niki/Prediction-of-Active-and-Inactive-Regulatory-Regions-with-Embracenet-Multimodal-Neural-Network-/BIOINF_tesi/models/utils/training_models.py:317: ExperimentalWarning: PatientPruner is experimental (supported from v2.8.0). The interface can change in the future.\n",
      "  pruner=optuna.pruners.PatientPruner(optuna.pruners.MedianPruner(), patience=2),\n",
      "/Users/Niki/Prediction-of-Active-and-Inactive-Regulatory-Regions-with-Embracenet-Multimodal-Neural-Network-/BIOINF_tesi/models/utils/training_models.py:319: ExperimentalWarning: BoTorchSampler is experimental (supported from v2.4.0). The interface can change in the future.\n",
      "  sampler=BoTorchSampler())\n",
      "\u001b[32m[I 2021-08-04 12:32:52,299]\u001b[0m A new study created in RDB with name: GM12878_active_E_vs_inactive_E_FFNN_1\u001b[0m\n"
     ]
    },
    {
     "name": "stdout",
     "output_type": "stream",
     "text": [
      ">>> ITERATION N. 1\n",
      "\n",
      "===============> HYPERPARAMETERS TUNING\n"
     ]
    },
    {
     "data": {
      "application/vnd.jupyter.widget-view+json": {
       "model_id": "904d772d2f204a7d83e283a8e9a778d5",
       "version_major": 2,
       "version_minor": 0
      },
      "text/plain": [
       "Epochs:   0%|          | 0/100 [00:00<?, ?it/s]"
      ]
     },
     "metadata": {},
     "output_type": "display_data"
    },
    {
     "name": "stdout",
     "output_type": "stream",
     "text": [
      "EarlyStopping counter: 1 out of 6\n",
      "EarlyStopping counter: 1 out of 6\n",
      "EarlyStopping counter: 2 out of 6\n",
      "EarlyStopping counter: 1 out of 6\n",
      "EarlyStopping counter: 2 out of 6\n",
      "EarlyStopping counter: 3 out of 6\n",
      "EarlyStopping counter: 4 out of 6\n",
      "EarlyStopping counter: 5 out of 6\n"
     ]
    },
    {
     "name": "stderr",
     "output_type": "stream",
     "text": [
      "\u001b[32m[I 2021-08-04 13:00:32,028]\u001b[0m Trial 0 finished with value: 0.3856095209660495 and parameters: {'n_layers': 3, 'n_units_l0': 32, 'dropout_l0': 0, 'n_units_l1': 64, 'dropout_l1': 0.3, 'n_units_l2': 64, 'dropout_l2': 0, 'optimizer': 'AdamW', 'lr': 0.012666109668398554, 'weight_decay': 0.0011478229303918098}. Best is trial 0 with value: 0.3856095209660495.\u001b[0m\n"
     ]
    },
    {
     "name": "stdout",
     "output_type": "stream",
     "text": [
      "EarlyStopping counter: 6 out of 6\n",
      "Early stopping the training\n"
     ]
    },
    {
     "data": {
      "application/vnd.jupyter.widget-view+json": {
       "model_id": "612d4683316e4ab98fc8a64f18111586",
       "version_major": 2,
       "version_minor": 0
      },
      "text/plain": [
       "Epochs:   0%|          | 0/100 [00:00<?, ?it/s]"
      ]
     },
     "metadata": {},
     "output_type": "display_data"
    },
    {
     "name": "stdout",
     "output_type": "stream",
     "text": [
      "EarlyStopping counter: 1 out of 6\n",
      "EarlyStopping counter: 2 out of 6\n",
      "EarlyStopping counter: 3 out of 6\n",
      "EarlyStopping counter: 4 out of 6\n",
      "EarlyStopping counter: 1 out of 6\n",
      "EarlyStopping counter: 2 out of 6\n",
      "EarlyStopping counter: 3 out of 6\n",
      "EarlyStopping counter: 4 out of 6\n",
      "EarlyStopping counter: 5 out of 6\n"
     ]
    },
    {
     "name": "stderr",
     "output_type": "stream",
     "text": [
      "\u001b[32m[I 2021-08-04 13:04:41,744]\u001b[0m Trial 1 finished with value: 0.18094190140845068 and parameters: {'n_layers': 3, 'n_units_l0': 128, 'dropout_l0': 0.4, 'n_units_l1': 32, 'dropout_l1': 0.4, 'n_units_l2': 4, 'dropout_l2': 0.5, 'optimizer': 'AdamW', 'lr': 0.04427913024912772, 'weight_decay': 0.0031914861577721793}. Best is trial 0 with value: 0.3856095209660495.\u001b[0m\n"
     ]
    },
    {
     "name": "stdout",
     "output_type": "stream",
     "text": [
      "EarlyStopping counter: 6 out of 6\n",
      "Early stopping the training\n"
     ]
    },
    {
     "data": {
      "application/vnd.jupyter.widget-view+json": {
       "model_id": "de514dc47d9346a89c7b6df5dd859064",
       "version_major": 2,
       "version_minor": 0
      },
      "text/plain": [
       "Epochs:   0%|          | 0/100 [00:00<?, ?it/s]"
      ]
     },
     "metadata": {},
     "output_type": "display_data"
    },
    {
     "name": "stdout",
     "output_type": "stream",
     "text": [
      "EarlyStopping counter: 1 out of 6\n",
      "EarlyStopping counter: 2 out of 6\n",
      "EarlyStopping counter: 3 out of 6\n",
      "EarlyStopping counter: 4 out of 6\n",
      "EarlyStopping counter: 5 out of 6\n"
     ]
    },
    {
     "name": "stderr",
     "output_type": "stream",
     "text": [
      "\u001b[32m[I 2021-08-04 13:06:37,357]\u001b[0m Trial 2 finished with value: 0.18109154929577462 and parameters: {'n_layers': 1, 'n_units_l0': 128, 'dropout_l0': 0.3, 'optimizer': 'AdamW', 'lr': 0.061150174784839126, 'weight_decay': 0.0026755544008344686}. Best is trial 0 with value: 0.3856095209660495.\u001b[0m\n"
     ]
    },
    {
     "name": "stdout",
     "output_type": "stream",
     "text": [
      "EarlyStopping counter: 6 out of 6\n",
      "Early stopping the training\n",
      "Study statistics: \n",
      "  Number of finished trials:  3\n",
      "  Number of pruned trials:  0\n",
      "  Number of complete trials:  3\n",
      "Best trial:\n",
      "  Value:  0.3856095209660495\n",
      "  Params: \n",
      "    dropout_l0: 0\n",
      "    dropout_l1: 0.3\n",
      "    dropout_l2: 0\n",
      "    lr: 0.012666109668398554\n",
      "    n_layers: 3\n",
      "    n_units_l0: 32\n",
      "    n_units_l1: 64\n",
      "    n_units_l2: 64\n",
      "    optimizer: AdamW\n",
      "    weight_decay: 0.0011478229303918098\n",
      "\n",
      "===============> MODEL TESTING\n"
     ]
    },
    {
     "name": "stderr",
     "output_type": "stream",
     "text": [
      "/opt/anaconda3/lib/python3.8/site-packages/optuna/structs.py:18: FutureWarning: `structs` is deprecated. Classes have moved to the following modules. `structs.StudyDirection`->`study.StudyDirection`, `structs.StudySummary`->`study.StudySummary`, `structs.FrozenTrial`->`trial.FrozenTrial`, `structs.TrialState`->`trial.TrialState`, `structs.TrialPruned`->`exceptions.TrialPruned`.\n",
      "  warnings.warn(_message, FutureWarning)\n"
     ]
    },
    {
     "data": {
      "application/vnd.jupyter.widget-view+json": {
       "model_id": "093986fa98bd41afa88432cc7da685c7",
       "version_major": 2,
       "version_minor": 0
      },
      "text/plain": [
       "Epochs:   0%|          | 0/100 [00:00<?, ?it/s]"
      ]
     },
     "metadata": {},
     "output_type": "display_data"
    },
    {
     "name": "stdout",
     "output_type": "stream",
     "text": [
      "EarlyStopping counter: 1 out of 6\n",
      "EarlyStopping counter: 1 out of 6\n",
      "EarlyStopping counter: 2 out of 6\n",
      "EarlyStopping counter: 1 out of 6\n",
      "EarlyStopping counter: 2 out of 6\n",
      "EarlyStopping counter: 3 out of 6\n",
      "EarlyStopping counter: 4 out of 6\n",
      "EarlyStopping counter: 5 out of 6\n"
     ]
    },
    {
     "name": "stderr",
     "output_type": "stream",
     "text": [
      "/Users/Niki/Prediction-of-Active-and-Inactive-Regulatory-Regions-with-Embracenet-Multimodal-Neural-Network-/BIOINF_tesi/models/utils/training_models.py:317: ExperimentalWarning: PatientPruner is experimental (supported from v2.8.0). The interface can change in the future.\n",
      "  pruner=optuna.pruners.PatientPruner(optuna.pruners.MedianPruner(), patience=2),\n",
      "/Users/Niki/Prediction-of-Active-and-Inactive-Regulatory-Regions-with-Embracenet-Multimodal-Neural-Network-/BIOINF_tesi/models/utils/training_models.py:319: ExperimentalWarning: BoTorchSampler is experimental (supported from v2.4.0). The interface can change in the future.\n",
      "  sampler=BoTorchSampler())\n",
      "\u001b[32m[I 2021-08-04 13:12:30,876]\u001b[0m A new study created in RDB with name: GM12878_active_E_vs_inactive_E_FFNN_1_2\u001b[0m\n"
     ]
    },
    {
     "name": "stdout",
     "output_type": "stream",
     "text": [
      "EarlyStopping counter: 6 out of 6\n",
      "Early stopping the training\n",
      "AUPRC test score: 0.2323878390108715\n",
      "\n",
      "\n",
      ">>> ITERATION N. 2\n",
      "\n",
      "===============> HYPERPARAMETERS TUNING\n"
     ]
    },
    {
     "data": {
      "application/vnd.jupyter.widget-view+json": {
       "model_id": "758a3254a60a4215b99a0012dcc5f2d8",
       "version_major": 2,
       "version_minor": 0
      },
      "text/plain": [
       "Epochs:   0%|          | 0/100 [00:00<?, ?it/s]"
      ]
     },
     "metadata": {},
     "output_type": "display_data"
    },
    {
     "name": "stdout",
     "output_type": "stream",
     "text": [
      "EarlyStopping counter: 1 out of 6\n",
      "EarlyStopping counter: 2 out of 6\n",
      "EarlyStopping counter: 3 out of 6\n",
      "EarlyStopping counter: 4 out of 6\n",
      "EarlyStopping counter: 1 out of 6\n",
      "EarlyStopping counter: 2 out of 6\n",
      "EarlyStopping counter: 3 out of 6\n",
      "EarlyStopping counter: 4 out of 6\n",
      "EarlyStopping counter: 5 out of 6\n"
     ]
    },
    {
     "name": "stderr",
     "output_type": "stream",
     "text": [
      "\u001b[32m[I 2021-08-04 13:17:39,842]\u001b[0m Trial 0 finished with value: 0.17877640845070425 and parameters: {'n_layers': 3, 'n_units_l0': 256, 'dropout_l0': 0.4, 'n_units_l1': 64, 'dropout_l1': 0, 'n_units_l2': 16, 'dropout_l2': 0.5, 'optimizer': 'Adam', 'lr': 0.00012590554293698988, 'weight_decay': 0.00319612783607239}. Best is trial 0 with value: 0.17877640845070425.\u001b[0m\n"
     ]
    },
    {
     "name": "stdout",
     "output_type": "stream",
     "text": [
      "EarlyStopping counter: 6 out of 6\n",
      "Early stopping the training\n"
     ]
    },
    {
     "data": {
      "application/vnd.jupyter.widget-view+json": {
       "model_id": "20a26614dc1b46279daafce4239350a6",
       "version_major": 2,
       "version_minor": 0
      },
      "text/plain": [
       "Epochs:   0%|          | 0/100 [00:00<?, ?it/s]"
      ]
     },
     "metadata": {},
     "output_type": "display_data"
    },
    {
     "name": "stdout",
     "output_type": "stream",
     "text": [
      "EarlyStopping counter: 1 out of 6\n",
      "EarlyStopping counter: 2 out of 6\n",
      "EarlyStopping counter: 1 out of 6\n",
      "EarlyStopping counter: 2 out of 6\n",
      "EarlyStopping counter: 3 out of 6\n",
      "EarlyStopping counter: 4 out of 6\n",
      "EarlyStopping counter: 5 out of 6\n"
     ]
    },
    {
     "name": "stderr",
     "output_type": "stream",
     "text": [
      "\u001b[32m[I 2021-08-04 14:34:26,503]\u001b[0m Trial 1 finished with value: 0.3463129705611708 and parameters: {'n_layers': 1, 'n_units_l0': 64, 'dropout_l0': 0.3, 'optimizer': 'AdamW', 'lr': 0.010289290574643735, 'weight_decay': 0.0004795644115896115}. Best is trial 1 with value: 0.3463129705611708.\u001b[0m\n"
     ]
    },
    {
     "name": "stdout",
     "output_type": "stream",
     "text": [
      "EarlyStopping counter: 6 out of 6\n",
      "Early stopping the training\n"
     ]
    },
    {
     "data": {
      "application/vnd.jupyter.widget-view+json": {
       "model_id": "cc9bb5ed78e4445db9448b7d497350d5",
       "version_major": 2,
       "version_minor": 0
      },
      "text/plain": [
       "Epochs:   0%|          | 0/100 [00:00<?, ?it/s]"
      ]
     },
     "metadata": {},
     "output_type": "display_data"
    },
    {
     "name": "stdout",
     "output_type": "stream",
     "text": [
      "EarlyStopping counter: 1 out of 6\n",
      "EarlyStopping counter: 2 out of 6\n",
      "EarlyStopping counter: 1 out of 6\n",
      "EarlyStopping counter: 2 out of 6\n",
      "EarlyStopping counter: 1 out of 6\n",
      "EarlyStopping counter: 1 out of 6\n",
      "EarlyStopping counter: 1 out of 6\n",
      "EarlyStopping counter: 1 out of 6\n",
      "EarlyStopping counter: 1 out of 6\n",
      "EarlyStopping counter: 1 out of 6\n",
      "EarlyStopping counter: 1 out of 6\n",
      "EarlyStopping counter: 1 out of 6\n",
      "EarlyStopping counter: 2 out of 6\n",
      "EarlyStopping counter: 3 out of 6\n",
      "EarlyStopping counter: 1 out of 6\n",
      "EarlyStopping counter: 2 out of 6\n",
      "EarlyStopping counter: 1 out of 6\n",
      "EarlyStopping counter: 1 out of 6\n",
      "EarlyStopping counter: 1 out of 6\n",
      "EarlyStopping counter: 1 out of 6\n",
      "EarlyStopping counter: 1 out of 6\n",
      "EarlyStopping counter: 2 out of 6\n",
      "EarlyStopping counter: 1 out of 6\n",
      "EarlyStopping counter: 2 out of 6\n",
      "EarlyStopping counter: 3 out of 6\n",
      "EarlyStopping counter: 4 out of 6\n",
      "EarlyStopping counter: 1 out of 6\n",
      "EarlyStopping counter: 2 out of 6\n",
      "EarlyStopping counter: 3 out of 6\n",
      "EarlyStopping counter: 4 out of 6\n",
      "EarlyStopping counter: 5 out of 6\n"
     ]
    },
    {
     "name": "stderr",
     "output_type": "stream",
     "text": [
      "\u001b[32m[I 2021-08-04 14:54:20,802]\u001b[0m Trial 2 finished with value: 0.37406623551872 and parameters: {'n_layers': 3, 'n_units_l0': 32, 'dropout_l0': 0.3, 'n_units_l1': 32, 'dropout_l1': 0.3, 'n_units_l2': 16, 'dropout_l2': 0.4, 'optimizer': 'AdamW', 'lr': 4.0926519922787793e-05, 'weight_decay': 0.000312464836953596}. Best is trial 2 with value: 0.37406623551872.\u001b[0m\n"
     ]
    },
    {
     "name": "stdout",
     "output_type": "stream",
     "text": [
      "EarlyStopping counter: 6 out of 6\n",
      "Early stopping the training\n",
      "Study statistics: \n",
      "  Number of finished trials:  3\n",
      "  Number of pruned trials:  0\n",
      "  Number of complete trials:  3\n",
      "Best trial:\n",
      "  Value:  0.37406623551872\n",
      "  Params: \n",
      "    dropout_l0: 0.3\n",
      "    dropout_l1: 0.3\n",
      "    dropout_l2: 0.4\n",
      "    lr: 4.0926519922787793e-05\n",
      "    n_layers: 3\n",
      "    n_units_l0: 32\n",
      "    n_units_l1: 32\n",
      "    n_units_l2: 16\n",
      "    optimizer: AdamW\n",
      "    weight_decay: 0.000312464836953596\n",
      "\n",
      "===============> MODEL TESTING\n"
     ]
    },
    {
     "data": {
      "application/vnd.jupyter.widget-view+json": {
       "model_id": "3c0cd75ae99b422782f944c0d13c8ce7",
       "version_major": 2,
       "version_minor": 0
      },
      "text/plain": [
       "Epochs:   0%|          | 0/100 [00:00<?, ?it/s]"
      ]
     },
     "metadata": {},
     "output_type": "display_data"
    },
    {
     "name": "stdout",
     "output_type": "stream",
     "text": [
      "EarlyStopping counter: 1 out of 6\n",
      "EarlyStopping counter: 1 out of 6\n",
      "EarlyStopping counter: 1 out of 6\n",
      "EarlyStopping counter: 1 out of 6\n",
      "EarlyStopping counter: 2 out of 6\n",
      "EarlyStopping counter: 1 out of 6\n",
      "EarlyStopping counter: 1 out of 6\n",
      "EarlyStopping counter: 2 out of 6\n",
      "EarlyStopping counter: 3 out of 6\n",
      "EarlyStopping counter: 4 out of 6\n",
      "EarlyStopping counter: 5 out of 6\n",
      "EarlyStopping counter: 1 out of 6\n",
      "EarlyStopping counter: 2 out of 6\n",
      "EarlyStopping counter: 1 out of 6\n",
      "EarlyStopping counter: 2 out of 6\n",
      "EarlyStopping counter: 1 out of 6\n",
      "EarlyStopping counter: 1 out of 6\n",
      "EarlyStopping counter: 2 out of 6\n",
      "EarlyStopping counter: 3 out of 6\n",
      "EarlyStopping counter: 1 out of 6\n",
      "EarlyStopping counter: 2 out of 6\n",
      "EarlyStopping counter: 1 out of 6\n",
      "EarlyStopping counter: 2 out of 6\n",
      "EarlyStopping counter: 3 out of 6\n",
      "EarlyStopping counter: 1 out of 6\n",
      "EarlyStopping counter: 2 out of 6\n",
      "EarlyStopping counter: 3 out of 6\n",
      "EarlyStopping counter: 4 out of 6\n",
      "EarlyStopping counter: 5 out of 6\n",
      "EarlyStopping counter: 1 out of 6\n",
      "EarlyStopping counter: 2 out of 6\n",
      "EarlyStopping counter: 3 out of 6\n",
      "EarlyStopping counter: 1 out of 6\n",
      "EarlyStopping counter: 2 out of 6\n",
      "EarlyStopping counter: 3 out of 6\n"
     ]
    },
    {
     "name": "stderr",
     "output_type": "stream",
     "text": [
      "/Users/Niki/Prediction-of-Active-and-Inactive-Regulatory-Regions-with-Embracenet-Multimodal-Neural-Network-/BIOINF_tesi/models/utils/training_models.py:317: ExperimentalWarning: PatientPruner is experimental (supported from v2.8.0). The interface can change in the future.\n",
      "  pruner=optuna.pruners.PatientPruner(optuna.pruners.MedianPruner(), patience=2),\n",
      "/Users/Niki/Prediction-of-Active-and-Inactive-Regulatory-Regions-with-Embracenet-Multimodal-Neural-Network-/BIOINF_tesi/models/utils/training_models.py:319: ExperimentalWarning: BoTorchSampler is experimental (supported from v2.4.0). The interface can change in the future.\n",
      "  sampler=BoTorchSampler())\n",
      "\u001b[32m[I 2021-08-04 15:36:49,191]\u001b[0m A new study created in RDB with name: GM12878_active_E_vs_inactive_E_FFNN_1_2_3\u001b[0m\n"
     ]
    },
    {
     "name": "stdout",
     "output_type": "stream",
     "text": [
      "EarlyStopping counter: 1 out of 6\n",
      "AUPRC test score: 0.38948581064661353\n",
      "\n",
      "\n",
      ">>> ITERATION N. 3\n",
      "\n",
      "===============> HYPERPARAMETERS TUNING\n"
     ]
    },
    {
     "data": {
      "application/vnd.jupyter.widget-view+json": {
       "model_id": "e80d2c97ed5c4192a43ce524b6e63fc1",
       "version_major": 2,
       "version_minor": 0
      },
      "text/plain": [
       "Epochs:   0%|          | 0/100 [00:00<?, ?it/s]"
      ]
     },
     "metadata": {},
     "output_type": "display_data"
    },
    {
     "name": "stdout",
     "output_type": "stream",
     "text": [
      "EarlyStopping counter: 1 out of 6\n",
      "EarlyStopping counter: 1 out of 6\n",
      "EarlyStopping counter: 2 out of 6\n",
      "EarlyStopping counter: 3 out of 6\n",
      "EarlyStopping counter: 4 out of 6\n",
      "EarlyStopping counter: 1 out of 6\n",
      "EarlyStopping counter: 2 out of 6\n",
      "EarlyStopping counter: 3 out of 6\n",
      "EarlyStopping counter: 4 out of 6\n",
      "EarlyStopping counter: 1 out of 6\n",
      "EarlyStopping counter: 2 out of 6\n",
      "EarlyStopping counter: 3 out of 6\n",
      "EarlyStopping counter: 4 out of 6\n",
      "EarlyStopping counter: 5 out of 6\n"
     ]
    },
    {
     "name": "stderr",
     "output_type": "stream",
     "text": [
      "\u001b[32m[I 2021-08-04 15:43:24,946]\u001b[0m Trial 0 finished with value: 0.3406434821305151 and parameters: {'n_layers': 2, 'n_units_l0': 256, 'dropout_l0': 0, 'n_units_l1': 32, 'dropout_l1': 0.4, 'optimizer': 'Adam', 'lr': 0.0010890933994965198, 'weight_decay': 0.00010485476829339372}. Best is trial 0 with value: 0.3406434821305151.\u001b[0m\n"
     ]
    },
    {
     "name": "stdout",
     "output_type": "stream",
     "text": [
      "EarlyStopping counter: 6 out of 6\n",
      "Early stopping the training\n"
     ]
    },
    {
     "data": {
      "application/vnd.jupyter.widget-view+json": {
       "model_id": "f621e9fce8734916bc01acecaa15ca8a",
       "version_major": 2,
       "version_minor": 0
      },
      "text/plain": [
       "Epochs:   0%|          | 0/100 [00:00<?, ?it/s]"
      ]
     },
     "metadata": {},
     "output_type": "display_data"
    },
    {
     "name": "stdout",
     "output_type": "stream",
     "text": [
      "EarlyStopping counter: 1 out of 6\n",
      "EarlyStopping counter: 2 out of 6\n",
      "EarlyStopping counter: 3 out of 6\n",
      "EarlyStopping counter: 4 out of 6\n",
      "EarlyStopping counter: 5 out of 6\n"
     ]
    },
    {
     "name": "stderr",
     "output_type": "stream",
     "text": [
      "\u001b[32m[I 2021-08-04 15:45:40,835]\u001b[0m Trial 1 finished with value: 0.17798415492957734 and parameters: {'n_layers': 1, 'n_units_l0': 256, 'dropout_l0': 0, 'optimizer': 'Adam', 'lr': 0.005539851541106445, 'weight_decay': 0.018406739960859352}. Best is trial 0 with value: 0.3406434821305151.\u001b[0m\n"
     ]
    },
    {
     "name": "stdout",
     "output_type": "stream",
     "text": [
      "EarlyStopping counter: 6 out of 6\n",
      "Early stopping the training\n"
     ]
    },
    {
     "data": {
      "application/vnd.jupyter.widget-view+json": {
       "model_id": "98f3db33c7c1475e81dff88c18d308b2",
       "version_major": 2,
       "version_minor": 0
      },
      "text/plain": [
       "Epochs:   0%|          | 0/100 [00:00<?, ?it/s]"
      ]
     },
     "metadata": {},
     "output_type": "display_data"
    },
    {
     "name": "stdout",
     "output_type": "stream",
     "text": [
      "EarlyStopping counter: 1 out of 6\n",
      "EarlyStopping counter: 2 out of 6\n",
      "EarlyStopping counter: 3 out of 6\n",
      "EarlyStopping counter: 1 out of 6\n",
      "EarlyStopping counter: 2 out of 6\n",
      "EarlyStopping counter: 1 out of 6\n",
      "EarlyStopping counter: 2 out of 6\n",
      "EarlyStopping counter: 3 out of 6\n",
      "EarlyStopping counter: 1 out of 6\n",
      "EarlyStopping counter: 2 out of 6\n",
      "EarlyStopping counter: 3 out of 6\n",
      "EarlyStopping counter: 4 out of 6\n",
      "EarlyStopping counter: 5 out of 6\n"
     ]
    },
    {
     "name": "stderr",
     "output_type": "stream",
     "text": [
      "\u001b[32m[I 2021-08-04 15:51:24,452]\u001b[0m Trial 2 finished with value: 0.39985042715981284 and parameters: {'n_layers': 2, 'n_units_l0': 256, 'dropout_l0': 0, 'n_units_l1': 32, 'dropout_l1': 0, 'optimizer': 'Adamax', 'lr': 0.06402099004087951, 'weight_decay': 0.00018193810947954262}. Best is trial 2 with value: 0.39985042715981284.\u001b[0m\n"
     ]
    },
    {
     "name": "stdout",
     "output_type": "stream",
     "text": [
      "EarlyStopping counter: 6 out of 6\n",
      "Early stopping the training\n",
      "Study statistics: \n",
      "  Number of finished trials:  3\n",
      "  Number of pruned trials:  0\n",
      "  Number of complete trials:  3\n",
      "Best trial:\n",
      "  Value:  0.39985042715981284\n",
      "  Params: \n",
      "    dropout_l0: 0\n",
      "    dropout_l1: 0\n",
      "    lr: 0.06402099004087951\n",
      "    n_layers: 2\n",
      "    n_units_l0: 256\n",
      "    n_units_l1: 32\n",
      "    optimizer: Adamax\n",
      "    weight_decay: 0.00018193810947954262\n",
      "\n",
      "===============> MODEL TESTING\n"
     ]
    },
    {
     "data": {
      "application/vnd.jupyter.widget-view+json": {
       "model_id": "d7e5ae1be6774b11a794e46657c1843c",
       "version_major": 2,
       "version_minor": 0
      },
      "text/plain": [
       "Epochs:   0%|          | 0/100 [00:00<?, ?it/s]"
      ]
     },
     "metadata": {},
     "output_type": "display_data"
    },
    {
     "name": "stdout",
     "output_type": "stream",
     "text": [
      "EarlyStopping counter: 1 out of 6\n",
      "EarlyStopping counter: 2 out of 6\n",
      "EarlyStopping counter: 3 out of 6\n",
      "EarlyStopping counter: 1 out of 6\n",
      "EarlyStopping counter: 2 out of 6\n",
      "EarlyStopping counter: 3 out of 6\n",
      "EarlyStopping counter: 4 out of 6\n",
      "EarlyStopping counter: 5 out of 6\n",
      "EarlyStopping counter: 6 out of 6\n",
      "Early stopping the training\n",
      "AUPRC test score: 0.3399917515304753\n",
      "\n",
      "\n",
      "\n",
      "3-FOLD CROSS-VALIDATION AUPRC TEST SCORE: 0.32062\n"
     ]
    }
   ],
   "source": [
    "kf_CV = Kfold_CV()\n",
    "\n",
    "kf_CV(build_dataloader_pipeline = pipe_data_load,\n",
    "                num_epochs = 100,\n",
    "                n_folds=3,\n",
    "                cell_line=cell_line,\n",
    "                sequence=False,\n",
    "                augmentation=False,\n",
    "                model = model,\n",
    "                device = device,\n",
    "                study_name = f'{cell_line}_{task}_{model.__name__}',\n",
    "                hp_model_path = f'{cell_line}_{task}_{model.__name__}_HP.pt',\n",
    "                test_model_path = f'{cell_line}_{task}_{model.__name__}_TEST.pt')"
   ]
  },
  {
   "cell_type": "code",
   "execution_count": 12,
   "metadata": {},
   "outputs": [],
   "source": [
    "results_dict[cell_line][task][model.__name__] = kf_CV.scores_dict"
   ]
  },
  {
   "cell_type": "code",
   "execution_count": 13,
   "metadata": {},
   "outputs": [],
   "source": [
    "with open ('results_dict.pickle', 'wb') as fout:\n",
    "    pickle.dump(OrderedDict(results_dict), fout)"
   ]
  },
  {
   "cell_type": "markdown",
   "metadata": {},
   "source": [
    "---\n",
    "### 2. CNN"
   ]
  },
  {
   "cell_type": "code",
   "execution_count": 19,
   "metadata": {},
   "outputs": [],
   "source": [
    "model=CNN"
   ]
  },
  {
   "cell_type": "code",
   "execution_count": 41,
   "metadata": {},
   "outputs": [
    {
     "name": "stderr",
     "output_type": "stream",
     "text": [
      "/Users/Niki/Prediction-of-Active-and-Inactive-Regulatory-Regions-with-Embracenet-Multimodal-Neural-Network-/BIOINF_tesi/models/utils/training_models.py:317: ExperimentalWarning: PatientPruner is experimental (supported from v2.8.0). The interface can change in the future.\n",
      "  pruner=optuna.pruners.PatientPruner(optuna.pruners.MedianPruner(), patience=2),\n",
      "/Users/Niki/Prediction-of-Active-and-Inactive-Regulatory-Regions-with-Embracenet-Multimodal-Neural-Network-/BIOINF_tesi/models/utils/training_models.py:319: ExperimentalWarning: BoTorchSampler is experimental (supported from v2.4.0). The interface can change in the future.\n",
      "  sampler=BoTorchSampler())\n",
      "\u001b[32m[I 2021-08-05 09:40:29,434]\u001b[0m A new study created in RDB with name: GM12878_active_E_vs_inactive_E_CNN_1\u001b[0m\n"
     ]
    },
    {
     "name": "stdout",
     "output_type": "stream",
     "text": [
      ">>> ITERATION N. 1\n",
      "\n",
      "===============> HYPERPARAMETERS TUNING\n"
     ]
    },
    {
     "data": {
      "application/vnd.jupyter.widget-view+json": {
       "model_id": "6f0a66676778412f99f7365e0f2bc9e4",
       "version_major": 2,
       "version_minor": 0
      },
      "text/plain": [
       "Epochs:   0%|          | 0/100 [00:00<?, ?it/s]"
      ]
     },
     "metadata": {},
     "output_type": "display_data"
    },
    {
     "name": "stderr",
     "output_type": "stream",
     "text": [
      "/opt/anaconda3/lib/python3.8/site-packages/torch/nn/functional.py:652: UserWarning: Named tensors and all their associated APIs are an experimental feature and subject to change. Please do not use them for anything important until they are released as stable. (Triggered internally at  ../c10/core/TensorImpl.h:1156.)\n",
      "  return torch.max_pool1d(input, kernel_size, stride, padding, dilation, ceil_mode)\n"
     ]
    },
    {
     "name": "stdout",
     "output_type": "stream",
     "text": [
      "EarlyStopping counter: 1 out of 6\n",
      "EarlyStopping counter: 2 out of 6\n",
      "EarlyStopping counter: 1 out of 6\n",
      "EarlyStopping counter: 2 out of 6\n",
      "EarlyStopping counter: 3 out of 6\n",
      "EarlyStopping counter: 4 out of 6\n",
      "EarlyStopping counter: 5 out of 6\n"
     ]
    },
    {
     "name": "stderr",
     "output_type": "stream",
     "text": [
      "\u001b[32m[I 2021-08-05 10:06:50,080]\u001b[0m Trial 0 finished with value: 0.18124119718309853 and parameters: {'n_layers': 3, 'out_channels_l0': 16, 'kernel_size_l0': 15, 'dropout_l0': 0.3, 'out_channels_l1': 96, 'kernel_size_l1': 15, 'dropout_l1': 0.3, 'out_channels_l2': 256, 'kernel_size_l2': 5, 'dropout_l2': 0.5, 'optimizer': 'AdamW', 'lr': 0.00161415143376816, 'weight_decay': 0.0004792884793862729}. Best is trial 0 with value: 0.18124119718309853.\u001b[0m\n"
     ]
    },
    {
     "name": "stdout",
     "output_type": "stream",
     "text": [
      "EarlyStopping counter: 6 out of 6\n",
      "Early stopping the training\n"
     ]
    },
    {
     "data": {
      "application/vnd.jupyter.widget-view+json": {
       "model_id": "7e4fa8e60edd4ac088dc7d67cbbef1ea",
       "version_major": 2,
       "version_minor": 0
      },
      "text/plain": [
       "Epochs:   0%|          | 0/100 [00:00<?, ?it/s]"
      ]
     },
     "metadata": {},
     "output_type": "display_data"
    },
    {
     "name": "stdout",
     "output_type": "stream",
     "text": [
      "EarlyStopping counter: 1 out of 6\n",
      "EarlyStopping counter: 1 out of 6\n",
      "EarlyStopping counter: 1 out of 6\n",
      "EarlyStopping counter: 2 out of 6\n",
      "EarlyStopping counter: 3 out of 6\n",
      "EarlyStopping counter: 1 out of 6\n",
      "EarlyStopping counter: 2 out of 6\n",
      "EarlyStopping counter: 3 out of 6\n",
      "EarlyStopping counter: 4 out of 6\n",
      "EarlyStopping counter: 5 out of 6\n"
     ]
    },
    {
     "name": "stderr",
     "output_type": "stream",
     "text": [
      "\u001b[32m[I 2021-08-05 10:29:50,660]\u001b[0m Trial 1 finished with value: 0.1821193790231222 and parameters: {'n_layers': 2, 'out_channels_l0': 16, 'kernel_size_l0': 11, 'dropout_l0': 0.3, 'out_channels_l1': 64, 'kernel_size_l1': 5, 'dropout_l1': 0.3, 'optimizer': 'Adam', 'lr': 0.00013757842734656259, 'weight_decay': 0.0004634287021726041}. Best is trial 1 with value: 0.1821193790231222.\u001b[0m\n"
     ]
    },
    {
     "name": "stdout",
     "output_type": "stream",
     "text": [
      "EarlyStopping counter: 6 out of 6\n",
      "Early stopping the training\n"
     ]
    },
    {
     "data": {
      "application/vnd.jupyter.widget-view+json": {
       "model_id": "bd94c3452c894b3d9b8f19df8ced1fd2",
       "version_major": 2,
       "version_minor": 0
      },
      "text/plain": [
       "Epochs:   0%|          | 0/100 [00:00<?, ?it/s]"
      ]
     },
     "metadata": {},
     "output_type": "display_data"
    },
    {
     "name": "stdout",
     "output_type": "stream",
     "text": [
      "EarlyStopping counter: 1 out of 6\n",
      "EarlyStopping counter: 1 out of 6\n",
      "EarlyStopping counter: 2 out of 6\n",
      "EarlyStopping counter: 3 out of 6\n",
      "EarlyStopping counter: 4 out of 6\n",
      "EarlyStopping counter: 5 out of 6\n"
     ]
    },
    {
     "name": "stderr",
     "output_type": "stream",
     "text": [
      "\u001b[32m[I 2021-08-05 10:48:19,452]\u001b[0m Trial 2 finished with value: 0.18034330985915492 and parameters: {'n_layers': 1, 'out_channels_l0': 64, 'kernel_size_l0': 5, 'dropout_l0': 0, 'optimizer': 'Adam', 'lr': 1.0227848356378366e-05, 'weight_decay': 0.029035243859649493}. Best is trial 1 with value: 0.1821193790231222.\u001b[0m\n"
     ]
    },
    {
     "name": "stdout",
     "output_type": "stream",
     "text": [
      "EarlyStopping counter: 6 out of 6\n",
      "Early stopping the training\n",
      "Study statistics: \n",
      "  Number of finished trials:  3\n",
      "  Number of pruned trials:  0\n",
      "  Number of complete trials:  3\n",
      "Best trial:\n",
      "  Value:  0.1821193790231222\n",
      "  Params: \n",
      "    dropout_l0: 0.3\n",
      "    dropout_l1: 0.3\n",
      "    kernel_size_l0: 11\n",
      "    kernel_size_l1: 5\n",
      "    lr: 0.00013757842734656259\n",
      "    n_layers: 2\n",
      "    optimizer: Adam\n",
      "    out_channels_l0: 16\n",
      "    out_channels_l1: 64\n",
      "    weight_decay: 0.0004634287021726041\n",
      "\n",
      "===============> MODEL TESTING\n"
     ]
    },
    {
     "data": {
      "application/vnd.jupyter.widget-view+json": {
       "model_id": "616682ae130a4dffb8cffd3ea5a6a8d0",
       "version_major": 2,
       "version_minor": 0
      },
      "text/plain": [
       "Epochs:   0%|          | 0/100 [00:00<?, ?it/s]"
      ]
     },
     "metadata": {},
     "output_type": "display_data"
    },
    {
     "name": "stdout",
     "output_type": "stream",
     "text": [
      "EarlyStopping counter: 1 out of 6\n",
      "EarlyStopping counter: 2 out of 6\n",
      "EarlyStopping counter: 3 out of 6\n",
      "EarlyStopping counter: 4 out of 6\n",
      "EarlyStopping counter: 1 out of 6\n",
      "EarlyStopping counter: 2 out of 6\n",
      "EarlyStopping counter: 3 out of 6\n",
      "EarlyStopping counter: 1 out of 6\n",
      "EarlyStopping counter: 1 out of 6\n",
      "EarlyStopping counter: 1 out of 6\n",
      "EarlyStopping counter: 1 out of 6\n",
      "EarlyStopping counter: 2 out of 6\n",
      "EarlyStopping counter: 3 out of 6\n",
      "EarlyStopping counter: 4 out of 6\n",
      "EarlyStopping counter: 5 out of 6\n",
      "EarlyStopping counter: 1 out of 6\n",
      "EarlyStopping counter: 2 out of 6\n",
      "EarlyStopping counter: 3 out of 6\n",
      "EarlyStopping counter: 4 out of 6\n",
      "EarlyStopping counter: 5 out of 6\n"
     ]
    },
    {
     "name": "stderr",
     "output_type": "stream",
     "text": [
      "/Users/Niki/Prediction-of-Active-and-Inactive-Regulatory-Regions-with-Embracenet-Multimodal-Neural-Network-/BIOINF_tesi/models/utils/training_models.py:317: ExperimentalWarning: PatientPruner is experimental (supported from v2.8.0). The interface can change in the future.\n",
      "  pruner=optuna.pruners.PatientPruner(optuna.pruners.MedianPruner(), patience=2),\n",
      "/Users/Niki/Prediction-of-Active-and-Inactive-Regulatory-Regions-with-Embracenet-Multimodal-Neural-Network-/BIOINF_tesi/models/utils/training_models.py:319: ExperimentalWarning: BoTorchSampler is experimental (supported from v2.4.0). The interface can change in the future.\n",
      "  sampler=BoTorchSampler())\n",
      "\u001b[32m[I 2021-08-05 11:38:30,479]\u001b[0m A new study created in RDB with name: GM12878_active_E_vs_inactive_E_CNN_1_2\u001b[0m\n"
     ]
    },
    {
     "name": "stdout",
     "output_type": "stream",
     "text": [
      "EarlyStopping counter: 6 out of 6\n",
      "Early stopping the training\n",
      "AUPRC test score: 0.18426408001134914\n",
      "\n",
      "\n",
      ">>> ITERATION N. 2\n",
      "\n",
      "===============> HYPERPARAMETERS TUNING\n"
     ]
    },
    {
     "data": {
      "application/vnd.jupyter.widget-view+json": {
       "model_id": "d5ba703dd4d64a2fa2f1cccc5d71918f",
       "version_major": 2,
       "version_minor": 0
      },
      "text/plain": [
       "Epochs:   0%|          | 0/100 [00:00<?, ?it/s]"
      ]
     },
     "metadata": {},
     "output_type": "display_data"
    },
    {
     "name": "stdout",
     "output_type": "stream",
     "text": [
      "EarlyStopping counter: 1 out of 6\n",
      "EarlyStopping counter: 1 out of 6\n",
      "EarlyStopping counter: 2 out of 6\n",
      "EarlyStopping counter: 3 out of 6\n",
      "EarlyStopping counter: 4 out of 6\n",
      "EarlyStopping counter: 5 out of 6\n"
     ]
    },
    {
     "name": "stderr",
     "output_type": "stream",
     "text": [
      "\u001b[32m[I 2021-08-05 11:57:23,422]\u001b[0m Trial 0 finished with value: 0.18012323943661962 and parameters: {'n_layers': 1, 'out_channels_l0': 64, 'kernel_size_l0': 15, 'dropout_l0': 0, 'optimizer': 'Adam', 'lr': 0.0003260300206878544, 'weight_decay': 0.006185209822240657}. Best is trial 0 with value: 0.18012323943661962.\u001b[0m\n"
     ]
    },
    {
     "name": "stdout",
     "output_type": "stream",
     "text": [
      "EarlyStopping counter: 6 out of 6\n",
      "Early stopping the training\n"
     ]
    },
    {
     "data": {
      "application/vnd.jupyter.widget-view+json": {
       "model_id": "d4950c7ef9b4448ba52200d4f6de54a0",
       "version_major": 2,
       "version_minor": 0
      },
      "text/plain": [
       "Epochs:   0%|          | 0/100 [00:00<?, ?it/s]"
      ]
     },
     "metadata": {},
     "output_type": "display_data"
    },
    {
     "name": "stdout",
     "output_type": "stream",
     "text": [
      "EarlyStopping counter: 1 out of 6\n",
      "EarlyStopping counter: 1 out of 6\n",
      "EarlyStopping counter: 2 out of 6\n",
      "EarlyStopping counter: 1 out of 6\n",
      "EarlyStopping counter: 2 out of 6\n",
      "EarlyStopping counter: 3 out of 6\n",
      "EarlyStopping counter: 1 out of 6\n",
      "EarlyStopping counter: 2 out of 6\n",
      "EarlyStopping counter: 3 out of 6\n",
      "EarlyStopping counter: 4 out of 6\n",
      "EarlyStopping counter: 5 out of 6\n"
     ]
    },
    {
     "name": "stderr",
     "output_type": "stream",
     "text": [
      "\u001b[32m[I 2021-08-05 12:30:08,564]\u001b[0m Trial 1 finished with value: 0.17772887323943656 and parameters: {'n_layers': 2, 'out_channels_l0': 16, 'kernel_size_l0': 15, 'dropout_l0': 0.3, 'out_channels_l1': 96, 'kernel_size_l1': 15, 'dropout_l1': 0.4, 'optimizer': 'AdamW', 'lr': 0.012482422128966345, 'weight_decay': 0.0009145927601207027}. Best is trial 0 with value: 0.18012323943661962.\u001b[0m\n"
     ]
    },
    {
     "name": "stdout",
     "output_type": "stream",
     "text": [
      "EarlyStopping counter: 6 out of 6\n",
      "Early stopping the training\n"
     ]
    },
    {
     "data": {
      "application/vnd.jupyter.widget-view+json": {
       "model_id": "35070f16eb1f4b65aa33dfc2480613f4",
       "version_major": 2,
       "version_minor": 0
      },
      "text/plain": [
       "Epochs:   0%|          | 0/100 [00:00<?, ?it/s]"
      ]
     },
     "metadata": {},
     "output_type": "display_data"
    },
    {
     "name": "stdout",
     "output_type": "stream",
     "text": [
      "EarlyStopping counter: 1 out of 6\n",
      "EarlyStopping counter: 2 out of 6\n",
      "EarlyStopping counter: 3 out of 6\n",
      "EarlyStopping counter: 1 out of 6\n",
      "EarlyStopping counter: 2 out of 6\n",
      "EarlyStopping counter: 3 out of 6\n",
      "EarlyStopping counter: 4 out of 6\n",
      "EarlyStopping counter: 1 out of 6\n",
      "EarlyStopping counter: 1 out of 6\n",
      "EarlyStopping counter: 2 out of 6\n",
      "EarlyStopping counter: 3 out of 6\n",
      "EarlyStopping counter: 4 out of 6\n",
      "EarlyStopping counter: 5 out of 6\n"
     ]
    },
    {
     "name": "stderr",
     "output_type": "stream",
     "text": [
      "\u001b[32m[I 2021-08-05 12:51:13,612]\u001b[0m Trial 2 finished with value: 0.1789260563380282 and parameters: {'n_layers': 1, 'out_channels_l0': 32, 'kernel_size_l0': 5, 'dropout_l0': 0.3, 'optimizer': 'AdamW', 'lr': 0.003900623371804288, 'weight_decay': 0.0014714616735831013}. Best is trial 0 with value: 0.18012323943661962.\u001b[0m\n"
     ]
    },
    {
     "name": "stdout",
     "output_type": "stream",
     "text": [
      "EarlyStopping counter: 6 out of 6\n",
      "Early stopping the training\n",
      "Study statistics: \n",
      "  Number of finished trials:  3\n",
      "  Number of pruned trials:  0\n",
      "  Number of complete trials:  3\n",
      "Best trial:\n",
      "  Value:  0.18012323943661962\n",
      "  Params: \n",
      "    dropout_l0: 0\n",
      "    kernel_size_l0: 15\n",
      "    lr: 0.0003260300206878544\n",
      "    n_layers: 1\n",
      "    optimizer: Adam\n",
      "    out_channels_l0: 64\n",
      "    weight_decay: 0.006185209822240657\n",
      "\n",
      "===============> MODEL TESTING\n"
     ]
    },
    {
     "data": {
      "application/vnd.jupyter.widget-view+json": {
       "model_id": "8cea87ab0ee84e78a290beefd58702f7",
       "version_major": 2,
       "version_minor": 0
      },
      "text/plain": [
       "Epochs:   0%|          | 0/100 [00:00<?, ?it/s]"
      ]
     },
     "metadata": {},
     "output_type": "display_data"
    },
    {
     "name": "stdout",
     "output_type": "stream",
     "text": [
      "EarlyStopping counter: 1 out of 6\n",
      "EarlyStopping counter: 2 out of 6\n",
      "EarlyStopping counter: 1 out of 6\n",
      "EarlyStopping counter: 2 out of 6\n",
      "EarlyStopping counter: 3 out of 6\n",
      "EarlyStopping counter: 4 out of 6\n",
      "EarlyStopping counter: 5 out of 6\n"
     ]
    },
    {
     "name": "stderr",
     "output_type": "stream",
     "text": [
      "/Users/Niki/Prediction-of-Active-and-Inactive-Regulatory-Regions-with-Embracenet-Multimodal-Neural-Network-/BIOINF_tesi/models/utils/training_models.py:317: ExperimentalWarning: PatientPruner is experimental (supported from v2.8.0). The interface can change in the future.\n",
      "  pruner=optuna.pruners.PatientPruner(optuna.pruners.MedianPruner(), patience=2),\n",
      "/Users/Niki/Prediction-of-Active-and-Inactive-Regulatory-Regions-with-Embracenet-Multimodal-Neural-Network-/BIOINF_tesi/models/utils/training_models.py:319: ExperimentalWarning: BoTorchSampler is experimental (supported from v2.4.0). The interface can change in the future.\n",
      "  sampler=BoTorchSampler())\n",
      "\u001b[32m[I 2021-08-05 13:22:19,301]\u001b[0m A new study created in RDB with name: GM12878_active_E_vs_inactive_E_CNN_1_2_3\u001b[0m\n"
     ]
    },
    {
     "name": "stdout",
     "output_type": "stream",
     "text": [
      "EarlyStopping counter: 6 out of 6\n",
      "Early stopping the training\n",
      "AUPRC test score: 0.18375124131082418\n",
      "\n",
      "\n",
      ">>> ITERATION N. 3\n",
      "\n",
      "===============> HYPERPARAMETERS TUNING\n"
     ]
    },
    {
     "data": {
      "application/vnd.jupyter.widget-view+json": {
       "model_id": "cd331729bd284a39b044c34825bd6b4b",
       "version_major": 2,
       "version_minor": 0
      },
      "text/plain": [
       "Epochs:   0%|          | 0/100 [00:00<?, ?it/s]"
      ]
     },
     "metadata": {},
     "output_type": "display_data"
    },
    {
     "name": "stdout",
     "output_type": "stream",
     "text": [
      "EarlyStopping counter: 1 out of 6\n",
      "EarlyStopping counter: 1 out of 6\n",
      "EarlyStopping counter: 1 out of 6\n",
      "EarlyStopping counter: 2 out of 6\n",
      "EarlyStopping counter: 3 out of 6\n",
      "EarlyStopping counter: 4 out of 6\n",
      "EarlyStopping counter: 5 out of 6\n"
     ]
    },
    {
     "name": "stderr",
     "output_type": "stream",
     "text": [
      "\u001b[32m[I 2021-08-05 14:07:00,357]\u001b[0m Trial 0 finished with value: 0.17783450704225354 and parameters: {'n_layers': 3, 'out_channels_l0': 64, 'kernel_size_l0': 15, 'dropout_l0': 0, 'out_channels_l1': 64, 'kernel_size_l1': 11, 'dropout_l1': 0.4, 'out_channels_l2': 256, 'kernel_size_l2': 11, 'dropout_l2': 0, 'optimizer': 'Adam', 'lr': 8.862861459272723e-05, 'weight_decay': 0.05618692402027722}. Best is trial 0 with value: 0.17783450704225354.\u001b[0m\n"
     ]
    },
    {
     "name": "stdout",
     "output_type": "stream",
     "text": [
      "EarlyStopping counter: 6 out of 6\n",
      "Early stopping the training\n"
     ]
    },
    {
     "data": {
      "application/vnd.jupyter.widget-view+json": {
       "model_id": "86baa3c397c943e58520163576ec34ec",
       "version_major": 2,
       "version_minor": 0
      },
      "text/plain": [
       "Epochs:   0%|          | 0/100 [00:00<?, ?it/s]"
      ]
     },
     "metadata": {},
     "output_type": "display_data"
    },
    {
     "name": "stdout",
     "output_type": "stream",
     "text": [
      "EarlyStopping counter: 1 out of 6\n",
      "EarlyStopping counter: 1 out of 6\n",
      "EarlyStopping counter: 1 out of 6\n",
      "EarlyStopping counter: 2 out of 6\n",
      "EarlyStopping counter: 1 out of 6\n",
      "EarlyStopping counter: 1 out of 6\n",
      "EarlyStopping counter: 2 out of 6\n",
      "EarlyStopping counter: 1 out of 6\n",
      "EarlyStopping counter: 2 out of 6\n",
      "EarlyStopping counter: 3 out of 6\n",
      "EarlyStopping counter: 4 out of 6\n",
      "EarlyStopping counter: 1 out of 6\n",
      "EarlyStopping counter: 2 out of 6\n",
      "EarlyStopping counter: 3 out of 6\n",
      "EarlyStopping counter: 4 out of 6\n",
      "EarlyStopping counter: 5 out of 6\n"
     ]
    },
    {
     "name": "stderr",
     "output_type": "stream",
     "text": [
      "\u001b[32m[I 2021-08-05 14:37:31,563]\u001b[0m Trial 1 finished with value: 0.17768485915492951 and parameters: {'n_layers': 1, 'out_channels_l0': 32, 'kernel_size_l0': 15, 'dropout_l0': 0.4, 'optimizer': 'AdamW', 'lr': 0.000959310372620796, 'weight_decay': 0.0002666462050254488}. Best is trial 0 with value: 0.17783450704225354.\u001b[0m\n"
     ]
    },
    {
     "name": "stdout",
     "output_type": "stream",
     "text": [
      "EarlyStopping counter: 6 out of 6\n",
      "Early stopping the training\n"
     ]
    },
    {
     "data": {
      "application/vnd.jupyter.widget-view+json": {
       "model_id": "d19b2f4027b648bb856ba0dc83b992ec",
       "version_major": 2,
       "version_minor": 0
      },
      "text/plain": [
       "Epochs:   0%|          | 0/100 [00:00<?, ?it/s]"
      ]
     },
     "metadata": {},
     "output_type": "display_data"
    },
    {
     "name": "stdout",
     "output_type": "stream",
     "text": [
      "EarlyStopping counter: 1 out of 6\n",
      "EarlyStopping counter: 1 out of 6\n",
      "EarlyStopping counter: 1 out of 6\n",
      "EarlyStopping counter: 2 out of 6\n",
      "EarlyStopping counter: 3 out of 6\n",
      "EarlyStopping counter: 4 out of 6\n",
      "EarlyStopping counter: 5 out of 6\n"
     ]
    },
    {
     "name": "stderr",
     "output_type": "stream",
     "text": [
      "\u001b[32m[I 2021-08-05 15:09:23,010]\u001b[0m Trial 2 finished with value: 0.1784330985915492 and parameters: {'n_layers': 2, 'out_channels_l0': 32, 'kernel_size_l0': 11, 'dropout_l0': 0, 'out_channels_l1': 96, 'kernel_size_l1': 15, 'dropout_l1': 0.3, 'optimizer': 'AdamW', 'lr': 0.02841885998369611, 'weight_decay': 0.002778176175181645}. Best is trial 2 with value: 0.1784330985915492.\u001b[0m\n"
     ]
    },
    {
     "name": "stdout",
     "output_type": "stream",
     "text": [
      "EarlyStopping counter: 6 out of 6\n",
      "Early stopping the training\n",
      "Study statistics: \n",
      "  Number of finished trials:  3\n",
      "  Number of pruned trials:  0\n",
      "  Number of complete trials:  3\n",
      "Best trial:\n",
      "  Value:  0.1784330985915492\n",
      "  Params: \n",
      "    dropout_l0: 0\n",
      "    dropout_l1: 0.3\n",
      "    kernel_size_l0: 11\n",
      "    kernel_size_l1: 15\n",
      "    lr: 0.02841885998369611\n",
      "    n_layers: 2\n",
      "    optimizer: AdamW\n",
      "    out_channels_l0: 32\n",
      "    out_channels_l1: 96\n",
      "    weight_decay: 0.002778176175181645\n",
      "\n",
      "===============> MODEL TESTING\n"
     ]
    },
    {
     "data": {
      "application/vnd.jupyter.widget-view+json": {
       "model_id": "d95ff8d8e0284c589597ad585cc24467",
       "version_major": 2,
       "version_minor": 0
      },
      "text/plain": [
       "Epochs:   0%|          | 0/100 [00:00<?, ?it/s]"
      ]
     },
     "metadata": {},
     "output_type": "display_data"
    },
    {
     "name": "stdout",
     "output_type": "stream",
     "text": [
      "EarlyStopping counter: 1 out of 6\n",
      "EarlyStopping counter: 2 out of 6\n",
      "EarlyStopping counter: 3 out of 6\n",
      "EarlyStopping counter: 1 out of 6\n",
      "EarlyStopping counter: 2 out of 6\n",
      "EarlyStopping counter: 3 out of 6\n",
      "EarlyStopping counter: 4 out of 6\n",
      "EarlyStopping counter: 5 out of 6\n",
      "EarlyStopping counter: 6 out of 6\n",
      "Early stopping the training\n",
      "AUPRC test score: 0.1819712015888778\n",
      "\n",
      "\n",
      "\n",
      "3-FOLD CROSS-VALIDATION AUPRC TEST SCORE: 0.18333\n"
     ]
    }
   ],
   "source": [
    "kf_CV = Kfold_CV()\n",
    "\n",
    "kf_CV(build_dataloader_pipeline = pipe_data_load,\n",
    "                num_epochs = 100,\n",
    "                n_folds=3,\n",
    "                cell_line=cell_line,\n",
    "                sequence=True,\n",
    "                augmentation=False,\n",
    "                model = model,\n",
    "                device = device,\n",
    "                study_name = f'{cell_line}_{task}_{model.__name__}',\n",
    "                hp_model_path = f'{cell_line}_{task}_{model.__name__}_HP.pt',\n",
    "                test_model_path = f'{cell_line}_{task}_{model.__name__}_TEST.pt')"
   ]
  },
  {
   "cell_type": "code",
   "execution_count": 42,
   "metadata": {},
   "outputs": [],
   "source": [
    "results_dict[cell_line][task][model.__name__] = kf_CV.scores_dict"
   ]
  },
  {
   "cell_type": "code",
   "execution_count": 43,
   "metadata": {},
   "outputs": [],
   "source": [
    "with open ('results_dict.pickle', 'wb') as fout:\n",
    "    pickle.dump(OrderedDict(results_dict), fout)"
   ]
  },
  {
   "cell_type": "markdown",
   "metadata": {},
   "source": [
    "---\n",
    "### 3. CNN-LSTM"
   ]
  },
  {
   "cell_type": "code",
   "execution_count": 10,
   "metadata": {},
   "outputs": [],
   "source": [
    "model=CNN_LSTM"
   ]
  },
  {
   "cell_type": "code",
   "execution_count": null,
   "metadata": {},
   "outputs": [
    {
     "name": "stderr",
     "output_type": "stream",
     "text": [
      "/Users/Niki/Prediction-of-Active-and-Inactive-Regulatory-Regions-with-Embracenet-Multimodal-Neural-Network-/BIOINF_tesi/models/utils/training_models.py:317: ExperimentalWarning: PatientPruner is experimental (supported from v2.8.0). The interface can change in the future.\n",
      "  pruner=optuna.pruners.PatientPruner(optuna.pruners.MedianPruner(), patience=2),\n",
      "/Users/Niki/Prediction-of-Active-and-Inactive-Regulatory-Regions-with-Embracenet-Multimodal-Neural-Network-/BIOINF_tesi/models/utils/training_models.py:319: ExperimentalWarning: BoTorchSampler is experimental (supported from v2.4.0). The interface can change in the future.\n",
      "  sampler=BoTorchSampler())\n",
      "\u001b[32m[I 2021-09-16 17:09:09,378]\u001b[0m Using an existing study with name 'GM12878_active_E_vs_inactive_E_CNN_LSTM_1' instead of creating a new one.\u001b[0m\n"
     ]
    },
    {
     "name": "stdout",
     "output_type": "stream",
     "text": [
      ">>> ITERATION N. 1\n",
      "\n",
      "===============> HYPERPARAMETERS TUNING\n"
     ]
    },
    {
     "name": "stderr",
     "output_type": "stream",
     "text": [
      "/opt/anaconda3/lib/python3.8/site-packages/optuna/structs.py:18: FutureWarning: `structs` is deprecated. Classes have moved to the following modules. `structs.StudyDirection`->`study.StudyDirection`, `structs.StudySummary`->`study.StudySummary`, `structs.FrozenTrial`->`trial.FrozenTrial`, `structs.TrialState`->`trial.TrialState`, `structs.TrialPruned`->`exceptions.TrialPruned`.\n",
      "  warnings.warn(_message, FutureWarning)\n"
     ]
    },
    {
     "data": {
      "application/vnd.jupyter.widget-view+json": {
       "model_id": "8104ec0a3793448a9e30a83ea6dfa543",
       "version_major": 2,
       "version_minor": 0
      },
      "text/plain": [
       "Epochs:   0%|          | 0/100 [00:00<?, ?it/s]"
      ]
     },
     "metadata": {},
     "output_type": "display_data"
    },
    {
     "name": "stderr",
     "output_type": "stream",
     "text": [
      "/opt/anaconda3/lib/python3.8/site-packages/torch/nn/functional.py:652: UserWarning: Named tensors and all their associated APIs are an experimental feature and subject to change. Please do not use them for anything important until they are released as stable. (Triggered internally at  ../c10/core/TensorImpl.h:1156.)\n",
      "  return torch.max_pool1d(input, kernel_size, stride, padding, dilation, ceil_mode)\n"
     ]
    }
   ],
   "source": [
    "kf_CV = Kfold_CV()\n",
    "\n",
    "kf_CV(build_dataloader_pipeline = pipe_data_load,\n",
    "                num_epochs = 100,\n",
    "                n_folds=3,\n",
    "                cell_line=cell_line,\n",
    "                sequence=True,\n",
    "                augmentation=False,\n",
    "                model = model,\n",
    "                device = device,\n",
    "                study_name = f'{cell_line}_{task}_{model.__name__}',\n",
    "                hp_model_path = f'{cell_line}_{task}_{model.__name__}_HP.pt',\n",
    "                test_model_path = f'{cell_line}_{task}_{model.__name__}_TEST.pt')"
   ]
  },
  {
   "cell_type": "code",
   "execution_count": null,
   "metadata": {},
   "outputs": [],
   "source": [
    "results_dict[cell_line][task][model.__name__] = kf_CV.scores_dict"
   ]
  },
  {
   "cell_type": "code",
   "execution_count": null,
   "metadata": {},
   "outputs": [],
   "source": [
    "with open ('results_dict.pickle', 'wb') as fout:\n",
    "    pickle.dump(OrderedDict(results_dict), fout)"
   ]
  },
  {
   "cell_type": "markdown",
   "metadata": {},
   "source": [
    "---"
   ]
  },
  {
   "cell_type": "markdown",
   "metadata": {},
   "source": [
    "## 2) ACTIVE PROMOTERS vs INACTIVE PROMOTERS"
   ]
  },
  {
   "cell_type": "code",
   "execution_count": null,
   "metadata": {},
   "outputs": [],
   "source": [
    "task = TASKS[1]\n",
    "task"
   ]
  },
  {
   "cell_type": "code",
   "execution_count": null,
   "metadata": {},
   "outputs": [],
   "source": [
    "pipe_data_load = Build_DataLoader_Pipeline(path_name=f'{task}.pickle')"
   ]
  },
  {
   "cell_type": "markdown",
   "metadata": {},
   "source": [
    "---"
   ]
  },
  {
   "cell_type": "markdown",
   "metadata": {},
   "source": [
    "### 1. FFNN"
   ]
  },
  {
   "cell_type": "code",
   "execution_count": 16,
   "metadata": {},
   "outputs": [],
   "source": [
    "model=FFNN"
   ]
  },
  {
   "cell_type": "code",
   "execution_count": 17,
   "metadata": {},
   "outputs": [
    {
     "name": "stderr",
     "output_type": "stream",
     "text": [
      "/Users/Niki/Prediction-of-Active-and-Inactive-Regulatory-Regions-with-Embracenet-Multimodal-Neural-Network-/BIOINF_tesi/models/utils/training_models.py:317: ExperimentalWarning: PatientPruner is experimental (supported from v2.8.0). The interface can change in the future.\n",
      "  pruner=optuna.pruners.PatientPruner(optuna.pruners.MedianPruner(), patience=2),\n",
      "/Users/Niki/Prediction-of-Active-and-Inactive-Regulatory-Regions-with-Embracenet-Multimodal-Neural-Network-/BIOINF_tesi/models/utils/training_models.py:319: ExperimentalWarning: BoTorchSampler is experimental (supported from v2.4.0). The interface can change in the future.\n",
      "  sampler=BoTorchSampler())\n",
      "\u001b[32m[I 2021-08-04 15:57:56,973]\u001b[0m A new study created in RDB with name: GM12878_active_P_vs_inactive_P_FFNN_1\u001b[0m\n"
     ]
    },
    {
     "name": "stdout",
     "output_type": "stream",
     "text": [
      ">>> ITERATION N. 1\n",
      "\n",
      "===============> HYPERPARAMETERS TUNING\n"
     ]
    },
    {
     "data": {
      "application/vnd.jupyter.widget-view+json": {
       "model_id": "ad9ef71578a844f79e1e812bc2d21081",
       "version_major": 2,
       "version_minor": 0
      },
      "text/plain": [
       "Epochs:   0%|          | 0/100 [00:00<?, ?it/s]"
      ]
     },
     "metadata": {},
     "output_type": "display_data"
    },
    {
     "name": "stdout",
     "output_type": "stream",
     "text": [
      "EarlyStopping counter: 1 out of 6\n",
      "EarlyStopping counter: 1 out of 6\n",
      "EarlyStopping counter: 2 out of 6\n",
      "EarlyStopping counter: 1 out of 6\n",
      "EarlyStopping counter: 1 out of 6\n",
      "EarlyStopping counter: 1 out of 6\n",
      "EarlyStopping counter: 2 out of 6\n",
      "EarlyStopping counter: 3 out of 6\n",
      "EarlyStopping counter: 4 out of 6\n",
      "EarlyStopping counter: 5 out of 6\n"
     ]
    },
    {
     "name": "stderr",
     "output_type": "stream",
     "text": [
      "\u001b[32m[I 2021-08-04 16:04:08,706]\u001b[0m Trial 0 finished with value: 0.1404302261445119 and parameters: {'n_layers': 1, 'n_units_l0': 64, 'dropout_l0': 0.4, 'optimizer': 'Adam', 'lr': 0.047750566830321944, 'weight_decay': 0.06428011317057715}. Best is trial 0 with value: 0.1404302261445119.\u001b[0m\n"
     ]
    },
    {
     "name": "stdout",
     "output_type": "stream",
     "text": [
      "EarlyStopping counter: 6 out of 6\n",
      "Early stopping the training\n"
     ]
    },
    {
     "data": {
      "application/vnd.jupyter.widget-view+json": {
       "model_id": "f6a5bc2aafeb458a9725de7bfde616d7",
       "version_major": 2,
       "version_minor": 0
      },
      "text/plain": [
       "Epochs:   0%|          | 0/100 [00:00<?, ?it/s]"
      ]
     },
     "metadata": {},
     "output_type": "display_data"
    },
    {
     "name": "stdout",
     "output_type": "stream",
     "text": [
      "EarlyStopping counter: 1 out of 6\n",
      "EarlyStopping counter: 2 out of 6\n",
      "EarlyStopping counter: 3 out of 6\n",
      "EarlyStopping counter: 4 out of 6\n",
      "EarlyStopping counter: 1 out of 6\n",
      "EarlyStopping counter: 2 out of 6\n",
      "EarlyStopping counter: 3 out of 6\n",
      "EarlyStopping counter: 1 out of 6\n",
      "EarlyStopping counter: 2 out of 6\n",
      "EarlyStopping counter: 3 out of 6\n",
      "EarlyStopping counter: 4 out of 6\n",
      "EarlyStopping counter: 5 out of 6\n"
     ]
    },
    {
     "name": "stderr",
     "output_type": "stream",
     "text": [
      "\u001b[32m[I 2021-08-04 16:10:41,672]\u001b[0m Trial 1 finished with value: 0.14042930685787827 and parameters: {'n_layers': 1, 'n_units_l0': 64, 'dropout_l0': 0.4, 'optimizer': 'AdamW', 'lr': 0.0350790763531817, 'weight_decay': 0.00023683440090018862}. Best is trial 0 with value: 0.1404302261445119.\u001b[0m\n"
     ]
    },
    {
     "name": "stdout",
     "output_type": "stream",
     "text": [
      "EarlyStopping counter: 6 out of 6\n",
      "Early stopping the training\n"
     ]
    },
    {
     "data": {
      "application/vnd.jupyter.widget-view+json": {
       "model_id": "402410ece62d4de88f1696413ac6ef10",
       "version_major": 2,
       "version_minor": 0
      },
      "text/plain": [
       "Epochs:   0%|          | 0/100 [00:00<?, ?it/s]"
      ]
     },
     "metadata": {},
     "output_type": "display_data"
    },
    {
     "name": "stdout",
     "output_type": "stream",
     "text": [
      "EarlyStopping counter: 1 out of 6\n",
      "EarlyStopping counter: 2 out of 6\n",
      "EarlyStopping counter: 3 out of 6\n",
      "EarlyStopping counter: 4 out of 6\n",
      "EarlyStopping counter: 5 out of 6\n",
      "EarlyStopping counter: 1 out of 6\n",
      "EarlyStopping counter: 2 out of 6\n",
      "EarlyStopping counter: 3 out of 6\n",
      "EarlyStopping counter: 1 out of 6\n",
      "EarlyStopping counter: 2 out of 6\n",
      "EarlyStopping counter: 3 out of 6\n",
      "EarlyStopping counter: 1 out of 6\n",
      "EarlyStopping counter: 2 out of 6\n",
      "EarlyStopping counter: 3 out of 6\n",
      "EarlyStopping counter: 4 out of 6\n",
      "EarlyStopping counter: 5 out of 6\n"
     ]
    },
    {
     "name": "stderr",
     "output_type": "stream",
     "text": [
      "\u001b[32m[I 2021-08-04 16:20:09,428]\u001b[0m Trial 2 finished with value: 0.14043666115094686 and parameters: {'n_layers': 1, 'n_units_l0': 128, 'dropout_l0': 0, 'optimizer': 'AdamW', 'lr': 0.021963551368106318, 'weight_decay': 0.042268378676965666}. Best is trial 2 with value: 0.14043666115094686.\u001b[0m\n"
     ]
    },
    {
     "name": "stdout",
     "output_type": "stream",
     "text": [
      "EarlyStopping counter: 6 out of 6\n",
      "Early stopping the training\n",
      "Study statistics: \n",
      "  Number of finished trials:  3\n",
      "  Number of pruned trials:  0\n",
      "  Number of complete trials:  3\n",
      "Best trial:\n",
      "  Value:  0.14043666115094686\n",
      "  Params: \n",
      "    dropout_l0: 0\n",
      "    lr: 0.021963551368106318\n",
      "    n_layers: 1\n",
      "    n_units_l0: 128\n",
      "    optimizer: AdamW\n",
      "    weight_decay: 0.042268378676965666\n",
      "\n",
      "===============> MODEL TESTING\n"
     ]
    },
    {
     "data": {
      "application/vnd.jupyter.widget-view+json": {
       "model_id": "de751577ca6142de8af06fa7597392f8",
       "version_major": 2,
       "version_minor": 0
      },
      "text/plain": [
       "Epochs:   0%|          | 0/100 [00:00<?, ?it/s]"
      ]
     },
     "metadata": {},
     "output_type": "display_data"
    },
    {
     "name": "stdout",
     "output_type": "stream",
     "text": [
      "EarlyStopping counter: 1 out of 6\n",
      "EarlyStopping counter: 2 out of 6\n",
      "EarlyStopping counter: 1 out of 6\n",
      "EarlyStopping counter: 2 out of 6\n",
      "EarlyStopping counter: 3 out of 6\n",
      "EarlyStopping counter: 4 out of 6\n",
      "EarlyStopping counter: 1 out of 6\n",
      "EarlyStopping counter: 2 out of 6\n",
      "EarlyStopping counter: 3 out of 6\n",
      "EarlyStopping counter: 4 out of 6\n",
      "EarlyStopping counter: 5 out of 6\n"
     ]
    },
    {
     "name": "stderr",
     "output_type": "stream",
     "text": [
      "/Users/Niki/Prediction-of-Active-and-Inactive-Regulatory-Regions-with-Embracenet-Multimodal-Neural-Network-/BIOINF_tesi/models/utils/training_models.py:317: ExperimentalWarning: PatientPruner is experimental (supported from v2.8.0). The interface can change in the future.\n",
      "  pruner=optuna.pruners.PatientPruner(optuna.pruners.MedianPruner(), patience=2),\n",
      "/Users/Niki/Prediction-of-Active-and-Inactive-Regulatory-Regions-with-Embracenet-Multimodal-Neural-Network-/BIOINF_tesi/models/utils/training_models.py:319: ExperimentalWarning: BoTorchSampler is experimental (supported from v2.4.0). The interface can change in the future.\n",
      "  sampler=BoTorchSampler())\n",
      "\u001b[32m[I 2021-08-04 16:29:36,155]\u001b[0m A new study created in RDB with name: GM12878_active_P_vs_inactive_P_FFNN_1_2\u001b[0m\n"
     ]
    },
    {
     "name": "stdout",
     "output_type": "stream",
     "text": [
      "EarlyStopping counter: 6 out of 6\n",
      "Early stopping the training\n",
      "AUPRC test score: 0.13903936807236592\n",
      "\n",
      "\n",
      ">>> ITERATION N. 2\n",
      "\n",
      "===============> HYPERPARAMETERS TUNING\n"
     ]
    },
    {
     "data": {
      "application/vnd.jupyter.widget-view+json": {
       "model_id": "58c7f86007294971a55bed5025485345",
       "version_major": 2,
       "version_minor": 0
      },
      "text/plain": [
       "Epochs:   0%|          | 0/100 [00:00<?, ?it/s]"
      ]
     },
     "metadata": {},
     "output_type": "display_data"
    },
    {
     "name": "stdout",
     "output_type": "stream",
     "text": [
      "EarlyStopping counter: 1 out of 6\n",
      "EarlyStopping counter: 1 out of 6\n",
      "EarlyStopping counter: 2 out of 6\n",
      "EarlyStopping counter: 1 out of 6\n",
      "EarlyStopping counter: 2 out of 6\n",
      "EarlyStopping counter: 1 out of 6\n",
      "EarlyStopping counter: 1 out of 6\n",
      "EarlyStopping counter: 1 out of 6\n",
      "EarlyStopping counter: 1 out of 6\n",
      "EarlyStopping counter: 2 out of 6\n",
      "EarlyStopping counter: 3 out of 6\n",
      "EarlyStopping counter: 4 out of 6\n",
      "EarlyStopping counter: 5 out of 6\n"
     ]
    },
    {
     "name": "stderr",
     "output_type": "stream",
     "text": [
      "\u001b[32m[I 2021-08-04 16:39:42,449]\u001b[0m Trial 0 finished with value: 0.13736716308144875 and parameters: {'n_layers': 2, 'n_units_l0': 128, 'dropout_l0': 0, 'n_units_l1': 32, 'dropout_l1': 0.4, 'optimizer': 'Adam', 'lr': 0.001530783227491669, 'weight_decay': 0.000451955931040253}. Best is trial 0 with value: 0.13736716308144875.\u001b[0m\n"
     ]
    },
    {
     "name": "stdout",
     "output_type": "stream",
     "text": [
      "EarlyStopping counter: 6 out of 6\n",
      "Early stopping the training\n"
     ]
    },
    {
     "data": {
      "application/vnd.jupyter.widget-view+json": {
       "model_id": "817a770bb632407cb55b3ae9edd58f5d",
       "version_major": 2,
       "version_minor": 0
      },
      "text/plain": [
       "Epochs:   0%|          | 0/100 [00:00<?, ?it/s]"
      ]
     },
     "metadata": {},
     "output_type": "display_data"
    },
    {
     "name": "stdout",
     "output_type": "stream",
     "text": [
      "EarlyStopping counter: 1 out of 6\n",
      "EarlyStopping counter: 1 out of 6\n",
      "EarlyStopping counter: 1 out of 6\n",
      "EarlyStopping counter: 1 out of 6\n",
      "EarlyStopping counter: 2 out of 6\n",
      "EarlyStopping counter: 3 out of 6\n",
      "EarlyStopping counter: 4 out of 6\n",
      "EarlyStopping counter: 1 out of 6\n",
      "EarlyStopping counter: 2 out of 6\n",
      "EarlyStopping counter: 3 out of 6\n",
      "EarlyStopping counter: 4 out of 6\n",
      "EarlyStopping counter: 5 out of 6\n"
     ]
    },
    {
     "name": "stderr",
     "output_type": "stream",
     "text": [
      "\u001b[32m[I 2021-08-04 16:51:04,006]\u001b[0m Trial 1 finished with value: 0.13768063982349696 and parameters: {'n_layers': 2, 'n_units_l0': 32, 'dropout_l0': 0.3, 'n_units_l1': 16, 'dropout_l1': 0.3, 'optimizer': 'AdamW', 'lr': 0.0015390054774998376, 'weight_decay': 0.00042278413257926614}. Best is trial 1 with value: 0.13768063982349696.\u001b[0m\n"
     ]
    },
    {
     "name": "stdout",
     "output_type": "stream",
     "text": [
      "EarlyStopping counter: 6 out of 6\n",
      "Early stopping the training\n"
     ]
    },
    {
     "data": {
      "application/vnd.jupyter.widget-view+json": {
       "model_id": "292164871b08494e85a8f20cd0a12cb1",
       "version_major": 2,
       "version_minor": 0
      },
      "text/plain": [
       "Epochs:   0%|          | 0/100 [00:00<?, ?it/s]"
      ]
     },
     "metadata": {},
     "output_type": "display_data"
    },
    {
     "name": "stdout",
     "output_type": "stream",
     "text": [
      "EarlyStopping counter: 1 out of 6\n",
      "EarlyStopping counter: 1 out of 6\n",
      "EarlyStopping counter: 2 out of 6\n",
      "EarlyStopping counter: 3 out of 6\n",
      "EarlyStopping counter: 4 out of 6\n",
      "EarlyStopping counter: 5 out of 6\n"
     ]
    },
    {
     "name": "stderr",
     "output_type": "stream",
     "text": [
      "\u001b[32m[I 2021-08-04 16:59:04,007]\u001b[0m Trial 2 finished with value: 0.13736624379481524 and parameters: {'n_layers': 1, 'n_units_l0': 64, 'dropout_l0': 0.4, 'optimizer': 'Adamax', 'lr': 0.00014393127128452314, 'weight_decay': 0.005630081075971768}. Best is trial 1 with value: 0.13768063982349696.\u001b[0m\n"
     ]
    },
    {
     "name": "stdout",
     "output_type": "stream",
     "text": [
      "EarlyStopping counter: 6 out of 6\n",
      "Early stopping the training\n",
      "Study statistics: \n",
      "  Number of finished trials:  3\n",
      "  Number of pruned trials:  0\n",
      "  Number of complete trials:  3\n",
      "Best trial:\n",
      "  Value:  0.13768063982349696\n",
      "  Params: \n",
      "    dropout_l0: 0.3\n",
      "    dropout_l1: 0.3\n",
      "    lr: 0.0015390054774998376\n",
      "    n_layers: 2\n",
      "    n_units_l0: 32\n",
      "    n_units_l1: 16\n",
      "    optimizer: AdamW\n",
      "    weight_decay: 0.00042278413257926614\n",
      "\n",
      "===============> MODEL TESTING\n"
     ]
    },
    {
     "data": {
      "application/vnd.jupyter.widget-view+json": {
       "model_id": "4d2747f810f94549b17a77ceaedef9d7",
       "version_major": 2,
       "version_minor": 0
      },
      "text/plain": [
       "Epochs:   0%|          | 0/100 [00:00<?, ?it/s]"
      ]
     },
     "metadata": {},
     "output_type": "display_data"
    },
    {
     "name": "stdout",
     "output_type": "stream",
     "text": [
      "EarlyStopping counter: 1 out of 6\n",
      "EarlyStopping counter: 1 out of 6\n",
      "EarlyStopping counter: 2 out of 6\n",
      "EarlyStopping counter: 1 out of 6\n",
      "EarlyStopping counter: 2 out of 6\n",
      "EarlyStopping counter: 1 out of 6\n",
      "EarlyStopping counter: 1 out of 6\n",
      "EarlyStopping counter: 2 out of 6\n",
      "EarlyStopping counter: 3 out of 6\n",
      "EarlyStopping counter: 4 out of 6\n",
      "EarlyStopping counter: 5 out of 6\n"
     ]
    },
    {
     "name": "stderr",
     "output_type": "stream",
     "text": [
      "/Users/Niki/Prediction-of-Active-and-Inactive-Regulatory-Regions-with-Embracenet-Multimodal-Neural-Network-/BIOINF_tesi/models/utils/training_models.py:317: ExperimentalWarning: PatientPruner is experimental (supported from v2.8.0). The interface can change in the future.\n",
      "  pruner=optuna.pruners.PatientPruner(optuna.pruners.MedianPruner(), patience=2),\n",
      "/Users/Niki/Prediction-of-Active-and-Inactive-Regulatory-Regions-with-Embracenet-Multimodal-Neural-Network-/BIOINF_tesi/models/utils/training_models.py:319: ExperimentalWarning: BoTorchSampler is experimental (supported from v2.4.0). The interface can change in the future.\n",
      "  sampler=BoTorchSampler())\n",
      "\u001b[32m[I 2021-08-04 17:10:44,962]\u001b[0m A new study created in RDB with name: GM12878_active_P_vs_inactive_P_FFNN_1_2_3\u001b[0m\n"
     ]
    },
    {
     "name": "stdout",
     "output_type": "stream",
     "text": [
      "EarlyStopping counter: 6 out of 6\n",
      "Early stopping the training\n",
      "AUPRC test score: 0.14232513696012233\n",
      "\n",
      "\n",
      ">>> ITERATION N. 3\n",
      "\n",
      "===============> HYPERPARAMETERS TUNING\n"
     ]
    },
    {
     "data": {
      "application/vnd.jupyter.widget-view+json": {
       "model_id": "66a43d6c3f6541128362c249e8676ecf",
       "version_major": 2,
       "version_minor": 0
      },
      "text/plain": [
       "Epochs:   0%|          | 0/100 [00:00<?, ?it/s]"
      ]
     },
     "metadata": {},
     "output_type": "display_data"
    },
    {
     "name": "stdout",
     "output_type": "stream",
     "text": [
      "EarlyStopping counter: 1 out of 6\n",
      "EarlyStopping counter: 2 out of 6\n",
      "EarlyStopping counter: 3 out of 6\n",
      "EarlyStopping counter: 4 out of 6\n",
      "EarlyStopping counter: 5 out of 6\n"
     ]
    },
    {
     "name": "stderr",
     "output_type": "stream",
     "text": [
      "\u001b[32m[I 2021-08-04 17:13:20,448]\u001b[0m Trial 0 finished with value: 0.14210332781761345 and parameters: {'n_layers': 3, 'n_units_l0': 64, 'dropout_l0': 0, 'n_units_l1': 32, 'dropout_l1': 0.3, 'n_units_l2': 16, 'dropout_l2': 0.4, 'optimizer': 'Adamax', 'lr': 0.0033916756820127412, 'weight_decay': 0.04900621364290871}. Best is trial 0 with value: 0.14210332781761345.\u001b[0m\n"
     ]
    },
    {
     "name": "stdout",
     "output_type": "stream",
     "text": [
      "EarlyStopping counter: 6 out of 6\n",
      "Early stopping the training\n"
     ]
    },
    {
     "data": {
      "application/vnd.jupyter.widget-view+json": {
       "model_id": "abc10ea00df645e3a0dfb1150df8166b",
       "version_major": 2,
       "version_minor": 0
      },
      "text/plain": [
       "Epochs:   0%|          | 0/100 [00:00<?, ?it/s]"
      ]
     },
     "metadata": {},
     "output_type": "display_data"
    },
    {
     "name": "stdout",
     "output_type": "stream",
     "text": [
      "EarlyStopping counter: 1 out of 6\n",
      "EarlyStopping counter: 1 out of 6\n",
      "EarlyStopping counter: 2 out of 6\n",
      "EarlyStopping counter: 1 out of 6\n",
      "EarlyStopping counter: 1 out of 6\n",
      "EarlyStopping counter: 1 out of 6\n",
      "EarlyStopping counter: 2 out of 6\n",
      "EarlyStopping counter: 1 out of 6\n",
      "EarlyStopping counter: 2 out of 6\n",
      "EarlyStopping counter: 3 out of 6\n",
      "EarlyStopping counter: 1 out of 6\n",
      "EarlyStopping counter: 2 out of 6\n",
      "EarlyStopping counter: 3 out of 6\n",
      "EarlyStopping counter: 1 out of 6\n",
      "EarlyStopping counter: 2 out of 6\n",
      "EarlyStopping counter: 3 out of 6\n",
      "EarlyStopping counter: 4 out of 6\n",
      "EarlyStopping counter: 1 out of 6\n",
      "EarlyStopping counter: 2 out of 6\n",
      "EarlyStopping counter: 3 out of 6\n",
      "EarlyStopping counter: 4 out of 6\n",
      "EarlyStopping counter: 5 out of 6\n"
     ]
    },
    {
     "name": "stderr",
     "output_type": "stream",
     "text": [
      "\u001b[32m[I 2021-08-04 17:34:53,733]\u001b[0m Trial 1 finished with value: 0.14478694136930975 and parameters: {'n_layers': 1, 'n_units_l0': 64, 'dropout_l0': 0.3, 'optimizer': 'AdamW', 'lr': 0.0005564711136537902, 'weight_decay': 0.0060103363322405404}. Best is trial 1 with value: 0.14478694136930975.\u001b[0m\n"
     ]
    },
    {
     "name": "stdout",
     "output_type": "stream",
     "text": [
      "EarlyStopping counter: 6 out of 6\n",
      "Early stopping the training\n"
     ]
    },
    {
     "data": {
      "application/vnd.jupyter.widget-view+json": {
       "model_id": "3c748ab203ce4d709883d6564c50d20d",
       "version_major": 2,
       "version_minor": 0
      },
      "text/plain": [
       "Epochs:   0%|          | 0/100 [00:00<?, ?it/s]"
      ]
     },
     "metadata": {},
     "output_type": "display_data"
    },
    {
     "name": "stdout",
     "output_type": "stream",
     "text": [
      "EarlyStopping counter: 1 out of 6\n",
      "EarlyStopping counter: 2 out of 6\n",
      "EarlyStopping counter: 3 out of 6\n",
      "EarlyStopping counter: 4 out of 6\n",
      "EarlyStopping counter: 5 out of 6\n"
     ]
    },
    {
     "name": "stderr",
     "output_type": "stream",
     "text": [
      "\u001b[32m[I 2021-08-04 17:39:59,497]\u001b[0m Trial 2 finished with value: 0.14209597352454492 and parameters: {'n_layers': 1, 'n_units_l0': 64, 'dropout_l0': 0.4, 'optimizer': 'Adamax', 'lr': 0.0005082601442168901, 'weight_decay': 0.004401199514347137}. Best is trial 1 with value: 0.14478694136930975.\u001b[0m\n"
     ]
    },
    {
     "name": "stdout",
     "output_type": "stream",
     "text": [
      "EarlyStopping counter: 6 out of 6\n",
      "Early stopping the training\n",
      "Study statistics: \n",
      "  Number of finished trials:  3\n",
      "  Number of pruned trials:  0\n",
      "  Number of complete trials:  3\n",
      "Best trial:\n",
      "  Value:  0.14478694136930975\n",
      "  Params: \n",
      "    dropout_l0: 0.3\n",
      "    lr: 0.0005564711136537902\n",
      "    n_layers: 1\n",
      "    n_units_l0: 64\n",
      "    optimizer: AdamW\n",
      "    weight_decay: 0.0060103363322405404\n",
      "\n",
      "===============> MODEL TESTING\n"
     ]
    },
    {
     "data": {
      "application/vnd.jupyter.widget-view+json": {
       "model_id": "b48f267ee2304fcfb646681b24fb4f90",
       "version_major": 2,
       "version_minor": 0
      },
      "text/plain": [
       "Epochs:   0%|          | 0/100 [00:00<?, ?it/s]"
      ]
     },
     "metadata": {},
     "output_type": "display_data"
    },
    {
     "name": "stdout",
     "output_type": "stream",
     "text": [
      "EarlyStopping counter: 1 out of 6\n",
      "EarlyStopping counter: 1 out of 6\n",
      "EarlyStopping counter: 1 out of 6\n",
      "EarlyStopping counter: 1 out of 6\n",
      "EarlyStopping counter: 1 out of 6\n",
      "EarlyStopping counter: 1 out of 6\n",
      "EarlyStopping counter: 2 out of 6\n",
      "EarlyStopping counter: 3 out of 6\n",
      "EarlyStopping counter: 4 out of 6\n",
      "EarlyStopping counter: 5 out of 6\n",
      "EarlyStopping counter: 1 out of 6\n",
      "EarlyStopping counter: 2 out of 6\n",
      "EarlyStopping counter: 3 out of 6\n",
      "EarlyStopping counter: 4 out of 6\n",
      "EarlyStopping counter: 5 out of 6\n",
      "EarlyStopping counter: 6 out of 6\n",
      "Early stopping the training\n",
      "AUPRC test score: 0.14307911368071663\n",
      "\n",
      "\n",
      "\n",
      "3-FOLD CROSS-VALIDATION AUPRC TEST SCORE: 0.14148\n"
     ]
    }
   ],
   "source": [
    "kf_CV = Kfold_CV()\n",
    "\n",
    "kf_CV(build_dataloader_pipeline = pipe_data_load,\n",
    "                num_epochs = 100,\n",
    "                n_folds=3,\n",
    "                cell_line=cell_line,\n",
    "                sequence=False,\n",
    "                augmentation=False,\n",
    "                model = model,\n",
    "                device = device,\n",
    "                study_name = f'{cell_line}_{task}_{model.__name__}',\n",
    "                hp_model_path = f'{cell_line}_{task}_{model.__name__}_HP.pt',\n",
    "                test_model_path = f'{cell_line}_{task}_{model.__name__}_TEST.pt')"
   ]
  },
  {
   "cell_type": "code",
   "execution_count": 18,
   "metadata": {},
   "outputs": [],
   "source": [
    "results_dict[cell_line][task][model.__name__] = kf_CV.scores_dict"
   ]
  },
  {
   "cell_type": "code",
   "execution_count": 19,
   "metadata": {},
   "outputs": [],
   "source": [
    "with open ('results_dict.pickle', 'wb') as fout:\n",
    "    pickle.dump(OrderedDict(results_dict), fout)"
   ]
  },
  {
   "cell_type": "markdown",
   "metadata": {},
   "source": [
    "---\n",
    "### 2. CNN"
   ]
  },
  {
   "cell_type": "code",
   "execution_count": 46,
   "metadata": {},
   "outputs": [],
   "source": [
    "model=CNN"
   ]
  },
  {
   "cell_type": "code",
   "execution_count": 47,
   "metadata": {},
   "outputs": [
    {
     "name": "stderr",
     "output_type": "stream",
     "text": [
      "/Users/Niki/Prediction-of-Active-and-Inactive-Regulatory-Regions-with-Embracenet-Multimodal-Neural-Network-/BIOINF_tesi/models/utils/training_models.py:317: ExperimentalWarning: PatientPruner is experimental (supported from v2.8.0). The interface can change in the future.\n",
      "  pruner=optuna.pruners.PatientPruner(optuna.pruners.MedianPruner(), patience=2),\n",
      "/Users/Niki/Prediction-of-Active-and-Inactive-Regulatory-Regions-with-Embracenet-Multimodal-Neural-Network-/BIOINF_tesi/models/utils/training_models.py:319: ExperimentalWarning: BoTorchSampler is experimental (supported from v2.4.0). The interface can change in the future.\n",
      "  sampler=BoTorchSampler())\n",
      "\u001b[32m[I 2021-08-05 15:43:01,187]\u001b[0m A new study created in RDB with name: GM12878_active_P_vs_inactive_P_CNN_1\u001b[0m\n"
     ]
    },
    {
     "name": "stdout",
     "output_type": "stream",
     "text": [
      ">>> ITERATION N. 1\n",
      "\n",
      "===============> HYPERPARAMETERS TUNING\n"
     ]
    },
    {
     "data": {
      "application/vnd.jupyter.widget-view+json": {
       "model_id": "351146fa02b34c2c963f1b8c3d86c725",
       "version_major": 2,
       "version_minor": 0
      },
      "text/plain": [
       "Epochs:   0%|          | 0/100 [00:00<?, ?it/s]"
      ]
     },
     "metadata": {},
     "output_type": "display_data"
    },
    {
     "name": "stdout",
     "output_type": "stream",
     "text": [
      "EarlyStopping counter: 1 out of 6\n",
      "EarlyStopping counter: 1 out of 6\n",
      "EarlyStopping counter: 2 out of 6\n",
      "EarlyStopping counter: 3 out of 6\n",
      "EarlyStopping counter: 4 out of 6\n",
      "EarlyStopping counter: 5 out of 6\n"
     ]
    },
    {
     "name": "stderr",
     "output_type": "stream",
     "text": [
      "\u001b[32m[I 2021-08-05 16:08:42,529]\u001b[0m Trial 0 finished with value: 0.14043206471777903 and parameters: {'n_layers': 2, 'out_channels_l0': 64, 'kernel_size_l0': 11, 'dropout_l0': 0, 'out_channels_l1': 96, 'kernel_size_l1': 5, 'dropout_l1': 0, 'optimizer': 'Adam', 'lr': 0.0007412119392694273, 'weight_decay': 0.033576118312799746}. Best is trial 0 with value: 0.14043206471777903.\u001b[0m\n"
     ]
    },
    {
     "name": "stdout",
     "output_type": "stream",
     "text": [
      "EarlyStopping counter: 6 out of 6\n",
      "Early stopping the training\n"
     ]
    },
    {
     "data": {
      "application/vnd.jupyter.widget-view+json": {
       "model_id": "bacd1ae2d0d8490db0a56f539245c50d",
       "version_major": 2,
       "version_minor": 0
      },
      "text/plain": [
       "Epochs:   0%|          | 0/100 [00:00<?, ?it/s]"
      ]
     },
     "metadata": {},
     "output_type": "display_data"
    },
    {
     "name": "stdout",
     "output_type": "stream",
     "text": [
      "EarlyStopping counter: 1 out of 6\n",
      "EarlyStopping counter: 1 out of 6\n",
      "EarlyStopping counter: 2 out of 6\n",
      "EarlyStopping counter: 1 out of 6\n",
      "EarlyStopping counter: 2 out of 6\n",
      "EarlyStopping counter: 1 out of 6\n",
      "EarlyStopping counter: 2 out of 6\n",
      "EarlyStopping counter: 3 out of 6\n",
      "EarlyStopping counter: 4 out of 6\n",
      "EarlyStopping counter: 5 out of 6\n"
     ]
    },
    {
     "name": "stderr",
     "output_type": "stream",
     "text": [
      "\u001b[32m[I 2021-08-05 16:52:42,935]\u001b[0m Trial 1 finished with value: 0.1404293068578783 and parameters: {'n_layers': 2, 'out_channels_l0': 32, 'kernel_size_l0': 5, 'dropout_l0': 0.3, 'out_channels_l1': 64, 'kernel_size_l1': 15, 'dropout_l1': 0.4, 'optimizer': 'AdamW', 'lr': 0.022570321816369192, 'weight_decay': 0.0001237694849149092}. Best is trial 0 with value: 0.14043206471777903.\u001b[0m\n"
     ]
    },
    {
     "name": "stdout",
     "output_type": "stream",
     "text": [
      "EarlyStopping counter: 6 out of 6\n",
      "Early stopping the training\n"
     ]
    },
    {
     "data": {
      "application/vnd.jupyter.widget-view+json": {
       "model_id": "04bdeb8442da4d48a1e7fe6571843aec",
       "version_major": 2,
       "version_minor": 0
      },
      "text/plain": [
       "Epochs:   0%|          | 0/100 [00:00<?, ?it/s]"
      ]
     },
     "metadata": {},
     "output_type": "display_data"
    },
    {
     "name": "stdout",
     "output_type": "stream",
     "text": [
      "EarlyStopping counter: 1 out of 6\n",
      "EarlyStopping counter: 2 out of 6\n",
      "EarlyStopping counter: 1 out of 6\n",
      "EarlyStopping counter: 1 out of 6\n",
      "EarlyStopping counter: 2 out of 6\n",
      "EarlyStopping counter: 3 out of 6\n",
      "EarlyStopping counter: 4 out of 6\n",
      "EarlyStopping counter: 5 out of 6\n"
     ]
    },
    {
     "name": "stderr",
     "output_type": "stream",
     "text": [
      "\u001b[32m[I 2021-08-05 17:17:48,615]\u001b[0m Trial 2 finished with value: 0.14043390329104619 and parameters: {'n_layers': 1, 'out_channels_l0': 16, 'kernel_size_l0': 11, 'dropout_l0': 0, 'optimizer': 'Adamax', 'lr': 2.1333813593055184e-05, 'weight_decay': 0.00035996098891907834}. Best is trial 2 with value: 0.14043390329104619.\u001b[0m\n"
     ]
    },
    {
     "name": "stdout",
     "output_type": "stream",
     "text": [
      "EarlyStopping counter: 6 out of 6\n",
      "Early stopping the training\n",
      "Study statistics: \n",
      "  Number of finished trials:  3\n",
      "  Number of pruned trials:  0\n",
      "  Number of complete trials:  3\n",
      "Best trial:\n",
      "  Value:  0.14043390329104619\n",
      "  Params: \n",
      "    dropout_l0: 0\n",
      "    kernel_size_l0: 11\n",
      "    lr: 2.1333813593055184e-05\n",
      "    n_layers: 1\n",
      "    optimizer: Adamax\n",
      "    out_channels_l0: 16\n",
      "    weight_decay: 0.00035996098891907834\n",
      "\n",
      "===============> MODEL TESTING\n"
     ]
    },
    {
     "data": {
      "application/vnd.jupyter.widget-view+json": {
       "model_id": "459dd112312640a294e0c9a1d37e2ddb",
       "version_major": 2,
       "version_minor": 0
      },
      "text/plain": [
       "Epochs:   0%|          | 0/100 [00:00<?, ?it/s]"
      ]
     },
     "metadata": {},
     "output_type": "display_data"
    },
    {
     "name": "stdout",
     "output_type": "stream",
     "text": [
      "EarlyStopping counter: 1 out of 6\n",
      "EarlyStopping counter: 1 out of 6\n",
      "EarlyStopping counter: 1 out of 6\n",
      "EarlyStopping counter: 1 out of 6\n",
      "EarlyStopping counter: 2 out of 6\n",
      "EarlyStopping counter: 3 out of 6\n",
      "EarlyStopping counter: 4 out of 6\n",
      "EarlyStopping counter: 5 out of 6\n",
      "EarlyStopping counter: 1 out of 6\n",
      "EarlyStopping counter: 2 out of 6\n",
      "EarlyStopping counter: 3 out of 6\n",
      "EarlyStopping counter: 4 out of 6\n",
      "EarlyStopping counter: 1 out of 6\n",
      "EarlyStopping counter: 2 out of 6\n",
      "EarlyStopping counter: 3 out of 6\n",
      "EarlyStopping counter: 1 out of 6\n",
      "EarlyStopping counter: 1 out of 6\n",
      "EarlyStopping counter: 2 out of 6\n",
      "EarlyStopping counter: 3 out of 6\n",
      "EarlyStopping counter: 4 out of 6\n",
      "EarlyStopping counter: 5 out of 6\n"
     ]
    },
    {
     "name": "stderr",
     "output_type": "stream",
     "text": [
      "/Users/Niki/Prediction-of-Active-and-Inactive-Regulatory-Regions-with-Embracenet-Multimodal-Neural-Network-/BIOINF_tesi/models/utils/training_models.py:317: ExperimentalWarning: PatientPruner is experimental (supported from v2.8.0). The interface can change in the future.\n",
      "  pruner=optuna.pruners.PatientPruner(optuna.pruners.MedianPruner(), patience=2),\n",
      "/Users/Niki/Prediction-of-Active-and-Inactive-Regulatory-Regions-with-Embracenet-Multimodal-Neural-Network-/BIOINF_tesi/models/utils/training_models.py:319: ExperimentalWarning: BoTorchSampler is experimental (supported from v2.4.0). The interface can change in the future.\n",
      "  sampler=BoTorchSampler())\n",
      "\u001b[32m[I 2021-08-05 18:24:14,081]\u001b[0m A new study created in RDB with name: GM12878_active_P_vs_inactive_P_CNN_1_2\u001b[0m\n"
     ]
    },
    {
     "name": "stdout",
     "output_type": "stream",
     "text": [
      "EarlyStopping counter: 6 out of 6\n",
      "Early stopping the training\n",
      "AUPRC test score: 0.13893808128424004\n",
      "\n",
      "\n",
      ">>> ITERATION N. 2\n",
      "\n",
      "===============> HYPERPARAMETERS TUNING\n"
     ]
    },
    {
     "data": {
      "application/vnd.jupyter.widget-view+json": {
       "model_id": "d7c56cdff76a4c428b424348a6adc129",
       "version_major": 2,
       "version_minor": 0
      },
      "text/plain": [
       "Epochs:   0%|          | 0/100 [00:00<?, ?it/s]"
      ]
     },
     "metadata": {},
     "output_type": "display_data"
    },
    {
     "name": "stdout",
     "output_type": "stream",
     "text": [
      "EarlyStopping counter: 1 out of 6\n",
      "EarlyStopping counter: 2 out of 6\n",
      "EarlyStopping counter: 3 out of 6\n",
      "EarlyStopping counter: 4 out of 6\n",
      "EarlyStopping counter: 5 out of 6\n"
     ]
    },
    {
     "name": "stderr",
     "output_type": "stream",
     "text": [
      "\u001b[32m[I 2021-08-05 18:41:42,076]\u001b[0m Trial 0 finished with value: 0.13737543666115098 and parameters: {'n_layers': 2, 'out_channels_l0': 64, 'kernel_size_l0': 5, 'dropout_l0': 0.3, 'out_channels_l1': 64, 'kernel_size_l1': 5, 'dropout_l1': 0.4, 'optimizer': 'Adamax', 'lr': 0.013389269504221098, 'weight_decay': 0.015873941537440102}. Best is trial 0 with value: 0.13737543666115098.\u001b[0m\n"
     ]
    },
    {
     "name": "stdout",
     "output_type": "stream",
     "text": [
      "EarlyStopping counter: 6 out of 6\n",
      "Early stopping the training\n"
     ]
    },
    {
     "data": {
      "application/vnd.jupyter.widget-view+json": {
       "model_id": "e08afd787a7f4323b0e147efabf3cf51",
       "version_major": 2,
       "version_minor": 0
      },
      "text/plain": [
       "Epochs:   0%|          | 0/100 [00:00<?, ?it/s]"
      ]
     },
     "metadata": {},
     "output_type": "display_data"
    },
    {
     "name": "stdout",
     "output_type": "stream",
     "text": [
      "EarlyStopping counter: 1 out of 6\n",
      "EarlyStopping counter: 2 out of 6\n",
      "EarlyStopping counter: 1 out of 6\n",
      "EarlyStopping counter: 1 out of 6\n",
      "EarlyStopping counter: 2 out of 6\n",
      "EarlyStopping counter: 1 out of 6\n",
      "EarlyStopping counter: 2 out of 6\n",
      "EarlyStopping counter: 3 out of 6\n",
      "EarlyStopping counter: 4 out of 6\n",
      "EarlyStopping counter: 5 out of 6\n"
     ]
    },
    {
     "name": "stderr",
     "output_type": "stream",
     "text": [
      "\u001b[32m[I 2021-08-05 19:16:44,841]\u001b[0m Trial 1 finished with value: 0.1373671630814488 and parameters: {'n_layers': 1, 'out_channels_l0': 32, 'kernel_size_l0': 11, 'dropout_l0': 0, 'optimizer': 'AdamW', 'lr': 0.006800291519454086, 'weight_decay': 0.00014691738630739418}. Best is trial 0 with value: 0.13737543666115098.\u001b[0m\n"
     ]
    },
    {
     "name": "stdout",
     "output_type": "stream",
     "text": [
      "EarlyStopping counter: 6 out of 6\n",
      "Early stopping the training\n"
     ]
    },
    {
     "data": {
      "application/vnd.jupyter.widget-view+json": {
       "model_id": "d44bfdcaa6984d7492093a6efb7c4763",
       "version_major": 2,
       "version_minor": 0
      },
      "text/plain": [
       "Epochs:   0%|          | 0/100 [00:00<?, ?it/s]"
      ]
     },
     "metadata": {},
     "output_type": "display_data"
    },
    {
     "name": "stdout",
     "output_type": "stream",
     "text": [
      "EarlyStopping counter: 1 out of 6\n",
      "EarlyStopping counter: 1 out of 6\n",
      "EarlyStopping counter: 2 out of 6\n",
      "EarlyStopping counter: 3 out of 6\n",
      "EarlyStopping counter: 1 out of 6\n",
      "EarlyStopping counter: 2 out of 6\n",
      "EarlyStopping counter: 3 out of 6\n",
      "EarlyStopping counter: 1 out of 6\n",
      "EarlyStopping counter: 2 out of 6\n",
      "EarlyStopping counter: 3 out of 6\n",
      "EarlyStopping counter: 4 out of 6\n",
      "EarlyStopping counter: 5 out of 6\n"
     ]
    },
    {
     "name": "stderr",
     "output_type": "stream",
     "text": [
      "\u001b[32m[I 2021-08-05 20:12:25,032]\u001b[0m Trial 2 finished with value: 0.13736440522154802 and parameters: {'n_layers': 3, 'out_channels_l0': 64, 'kernel_size_l0': 11, 'dropout_l0': 0.4, 'out_channels_l1': 96, 'kernel_size_l1': 11, 'dropout_l1': 0.4, 'out_channels_l2': 64, 'kernel_size_l2': 15, 'dropout_l2': 0.4, 'optimizer': 'Adam', 'lr': 0.00011363296530467557, 'weight_decay': 0.005784296106050566}. Best is trial 0 with value: 0.13737543666115098.\u001b[0m\n"
     ]
    },
    {
     "name": "stdout",
     "output_type": "stream",
     "text": [
      "EarlyStopping counter: 6 out of 6\n",
      "Early stopping the training\n",
      "Study statistics: \n",
      "  Number of finished trials:  3\n",
      "  Number of pruned trials:  0\n",
      "  Number of complete trials:  3\n",
      "Best trial:\n",
      "  Value:  0.13737543666115098\n",
      "  Params: \n",
      "    dropout_l0: 0.3\n",
      "    dropout_l1: 0.4\n",
      "    kernel_size_l0: 5\n",
      "    kernel_size_l1: 5\n",
      "    lr: 0.013389269504221098\n",
      "    n_layers: 2\n",
      "    optimizer: Adamax\n",
      "    out_channels_l0: 64\n",
      "    out_channels_l1: 64\n",
      "    weight_decay: 0.015873941537440102\n",
      "\n",
      "===============> MODEL TESTING\n"
     ]
    },
    {
     "data": {
      "application/vnd.jupyter.widget-view+json": {
       "model_id": "054562b7b6014f97a17424e80af64e04",
       "version_major": 2,
       "version_minor": 0
      },
      "text/plain": [
       "Epochs:   0%|          | 0/100 [00:00<?, ?it/s]"
      ]
     },
     "metadata": {},
     "output_type": "display_data"
    },
    {
     "name": "stdout",
     "output_type": "stream",
     "text": [
      "EarlyStopping counter: 1 out of 6\n",
      "EarlyStopping counter: 1 out of 6\n",
      "EarlyStopping counter: 2 out of 6\n",
      "EarlyStopping counter: 3 out of 6\n",
      "EarlyStopping counter: 4 out of 6\n",
      "EarlyStopping counter: 5 out of 6\n"
     ]
    },
    {
     "name": "stderr",
     "output_type": "stream",
     "text": [
      "/Users/Niki/Prediction-of-Active-and-Inactive-Regulatory-Regions-with-Embracenet-Multimodal-Neural-Network-/BIOINF_tesi/models/utils/training_models.py:317: ExperimentalWarning: PatientPruner is experimental (supported from v2.8.0). The interface can change in the future.\n",
      "  pruner=optuna.pruners.PatientPruner(optuna.pruners.MedianPruner(), patience=2),\n",
      "/Users/Niki/Prediction-of-Active-and-Inactive-Regulatory-Regions-with-Embracenet-Multimodal-Neural-Network-/BIOINF_tesi/models/utils/training_models.py:319: ExperimentalWarning: BoTorchSampler is experimental (supported from v2.4.0). The interface can change in the future.\n",
      "  sampler=BoTorchSampler())\n",
      "\u001b[32m[I 2021-08-05 20:41:51,504]\u001b[0m A new study created in RDB with name: GM12878_active_P_vs_inactive_P_CNN_1_2_3\u001b[0m\n"
     ]
    },
    {
     "name": "stdout",
     "output_type": "stream",
     "text": [
      "EarlyStopping counter: 6 out of 6\n",
      "Early stopping the training\n",
      "AUPRC test score: 0.14246018601095684\n",
      "\n",
      "\n",
      ">>> ITERATION N. 3\n",
      "\n",
      "===============> HYPERPARAMETERS TUNING\n"
     ]
    },
    {
     "data": {
      "application/vnd.jupyter.widget-view+json": {
       "model_id": "994d4bd776924f8e806409d9d2427d78",
       "version_major": 2,
       "version_minor": 0
      },
      "text/plain": [
       "Epochs:   0%|          | 0/100 [00:00<?, ?it/s]"
      ]
     },
     "metadata": {},
     "output_type": "display_data"
    },
    {
     "name": "stdout",
     "output_type": "stream",
     "text": [
      "EarlyStopping counter: 1 out of 6\n",
      "EarlyStopping counter: 2 out of 6\n",
      "EarlyStopping counter: 3 out of 6\n",
      "EarlyStopping counter: 4 out of 6\n",
      "EarlyStopping counter: 5 out of 6\n"
     ]
    },
    {
     "name": "stderr",
     "output_type": "stream",
     "text": [
      "\u001b[32m[I 2021-08-05 21:04:42,544]\u001b[0m Trial 0 finished with value: 0.1420987313844457 and parameters: {'n_layers': 2, 'out_channels_l0': 16, 'kernel_size_l0': 5, 'dropout_l0': 0, 'out_channels_l1': 64, 'kernel_size_l1': 11, 'dropout_l1': 0, 'optimizer': 'Adamax', 'lr': 0.00017249745539628156, 'weight_decay': 0.00023388237597510452}. Best is trial 0 with value: 0.1420987313844457.\u001b[0m\n"
     ]
    },
    {
     "name": "stdout",
     "output_type": "stream",
     "text": [
      "EarlyStopping counter: 6 out of 6\n",
      "Early stopping the training\n"
     ]
    },
    {
     "data": {
      "application/vnd.jupyter.widget-view+json": {
       "model_id": "8883cb87de1341ddb9ee0ef302c89dc2",
       "version_major": 2,
       "version_minor": 0
      },
      "text/plain": [
       "Epochs:   0%|          | 0/100 [00:00<?, ?it/s]"
      ]
     },
     "metadata": {},
     "output_type": "display_data"
    },
    {
     "name": "stdout",
     "output_type": "stream",
     "text": [
      "EarlyStopping counter: 1 out of 6\n",
      "EarlyStopping counter: 2 out of 6\n",
      "EarlyStopping counter: 1 out of 6\n",
      "EarlyStopping counter: 1 out of 6\n",
      "EarlyStopping counter: 2 out of 6\n",
      "EarlyStopping counter: 3 out of 6\n",
      "EarlyStopping counter: 1 out of 6\n",
      "EarlyStopping counter: 2 out of 6\n",
      "EarlyStopping counter: 1 out of 6\n",
      "EarlyStopping counter: 2 out of 6\n",
      "EarlyStopping counter: 3 out of 6\n",
      "EarlyStopping counter: 1 out of 6\n",
      "EarlyStopping counter: 2 out of 6\n",
      "EarlyStopping counter: 3 out of 6\n",
      "EarlyStopping counter: 4 out of 6\n",
      "EarlyStopping counter: 1 out of 6\n",
      "EarlyStopping counter: 2 out of 6\n",
      "EarlyStopping counter: 1 out of 6\n",
      "EarlyStopping counter: 2 out of 6\n",
      "EarlyStopping counter: 3 out of 6\n",
      "EarlyStopping counter: 4 out of 6\n",
      "EarlyStopping counter: 1 out of 6\n",
      "EarlyStopping counter: 2 out of 6\n",
      "EarlyStopping counter: 3 out of 6\n",
      "EarlyStopping counter: 4 out of 6\n",
      "EarlyStopping counter: 5 out of 6\n"
     ]
    },
    {
     "name": "stderr",
     "output_type": "stream",
     "text": [
      "\u001b[32m[I 2021-08-05 23:47:16,399]\u001b[0m Trial 1 finished with value: 0.1426306919164062 and parameters: {'n_layers': 3, 'out_channels_l0': 16, 'kernel_size_l0': 15, 'dropout_l0': 0, 'out_channels_l1': 64, 'kernel_size_l1': 15, 'dropout_l1': 0.3, 'out_channels_l2': 256, 'kernel_size_l2': 15, 'dropout_l2': 0.4, 'optimizer': 'Adamax', 'lr': 0.00618084137627975, 'weight_decay': 0.0002416498644708926}. Best is trial 1 with value: 0.1426306919164062.\u001b[0m\n"
     ]
    },
    {
     "name": "stdout",
     "output_type": "stream",
     "text": [
      "EarlyStopping counter: 6 out of 6\n",
      "Early stopping the training\n"
     ]
    },
    {
     "data": {
      "application/vnd.jupyter.widget-view+json": {
       "model_id": "a69f395c6eca4f9e9c54409d60258710",
       "version_major": 2,
       "version_minor": 0
      },
      "text/plain": [
       "Epochs:   0%|          | 0/100 [00:00<?, ?it/s]"
      ]
     },
     "metadata": {},
     "output_type": "display_data"
    },
    {
     "name": "stdout",
     "output_type": "stream",
     "text": [
      "EarlyStopping counter: 1 out of 6\n",
      "EarlyStopping counter: 1 out of 6\n",
      "EarlyStopping counter: 1 out of 6\n",
      "EarlyStopping counter: 1 out of 6\n",
      "EarlyStopping counter: 2 out of 6\n",
      "EarlyStopping counter: 3 out of 6\n",
      "EarlyStopping counter: 4 out of 6\n",
      "EarlyStopping counter: 5 out of 6\n"
     ]
    },
    {
     "name": "stderr",
     "output_type": "stream",
     "text": [
      "\u001b[32m[I 2021-08-06 00:32:08,902]\u001b[0m Trial 2 finished with value: 0.14291161059018198 and parameters: {'n_layers': 2, 'out_channels_l0': 64, 'kernel_size_l0': 15, 'dropout_l0': 0.3, 'out_channels_l1': 96, 'kernel_size_l1': 11, 'dropout_l1': 0.3, 'optimizer': 'AdamW', 'lr': 0.0008031894790350034, 'weight_decay': 0.00030187420039089115}. Best is trial 2 with value: 0.14291161059018198.\u001b[0m\n"
     ]
    },
    {
     "name": "stdout",
     "output_type": "stream",
     "text": [
      "EarlyStopping counter: 6 out of 6\n",
      "Early stopping the training\n",
      "Study statistics: \n",
      "  Number of finished trials:  3\n",
      "  Number of pruned trials:  0\n",
      "  Number of complete trials:  3\n",
      "Best trial:\n",
      "  Value:  0.14291161059018198\n",
      "  Params: \n",
      "    dropout_l0: 0.3\n",
      "    dropout_l1: 0.3\n",
      "    kernel_size_l0: 15\n",
      "    kernel_size_l1: 11\n",
      "    lr: 0.0008031894790350034\n",
      "    n_layers: 2\n",
      "    optimizer: AdamW\n",
      "    out_channels_l0: 64\n",
      "    out_channels_l1: 96\n",
      "    weight_decay: 0.00030187420039089115\n",
      "\n",
      "===============> MODEL TESTING\n"
     ]
    },
    {
     "data": {
      "application/vnd.jupyter.widget-view+json": {
       "model_id": "eaab65039d9b4486b2fe5cb15aa81f0a",
       "version_major": 2,
       "version_minor": 0
      },
      "text/plain": [
       "Epochs:   0%|          | 0/100 [00:00<?, ?it/s]"
      ]
     },
     "metadata": {},
     "output_type": "display_data"
    },
    {
     "name": "stdout",
     "output_type": "stream",
     "text": [
      "EarlyStopping counter: 1 out of 6\n",
      "EarlyStopping counter: 1 out of 6\n",
      "EarlyStopping counter: 2 out of 6\n",
      "EarlyStopping counter: 3 out of 6\n",
      "EarlyStopping counter: 4 out of 6\n",
      "EarlyStopping counter: 5 out of 6\n",
      "EarlyStopping counter: 6 out of 6\n",
      "Early stopping the training\n",
      "AUPRC test score: 0.14108093049258164\n",
      "\n",
      "\n",
      "\n",
      "3-FOLD CROSS-VALIDATION AUPRC TEST SCORE: 0.14083\n"
     ]
    }
   ],
   "source": [
    "kf_CV = Kfold_CV()\n",
    "\n",
    "kf_CV(build_dataloader_pipeline = pipe_data_load,\n",
    "                num_epochs = 100,\n",
    "                n_folds=3,\n",
    "                cell_line=cell_line,\n",
    "                sequence=True,\n",
    "                augmentation=False,\n",
    "                model = model,\n",
    "                device = device,\n",
    "                study_name = f'{cell_line}_{task}_{model.__name__}',\n",
    "                hp_model_path = f'{cell_line}_{task}_{model.__name__}_HP.pt',\n",
    "                test_model_path = f'{cell_line}_{task}_{model.__name__}_TEST.pt')"
   ]
  },
  {
   "cell_type": "code",
   "execution_count": 48,
   "metadata": {},
   "outputs": [],
   "source": [
    "results_dict[cell_line][task][model.__name__] = kf_CV.scores_dict"
   ]
  },
  {
   "cell_type": "code",
   "execution_count": 49,
   "metadata": {},
   "outputs": [],
   "source": [
    "with open ('results_dict.pickle', 'wb') as fout:\n",
    "    pickle.dump(OrderedDict(results_dict), fout)"
   ]
  },
  {
   "cell_type": "markdown",
   "metadata": {},
   "source": [
    "---\n",
    "### 3. CNN-LSTM"
   ]
  },
  {
   "cell_type": "code",
   "execution_count": null,
   "metadata": {},
   "outputs": [],
   "source": [
    "model=CNN_LSTM"
   ]
  },
  {
   "cell_type": "code",
   "execution_count": null,
   "metadata": {},
   "outputs": [],
   "source": [
    "kf_CV = Kfold_CV()\n",
    "\n",
    "kf_CV(build_dataloader_pipeline = pipe_data_load,\n",
    "                num_epochs = 100,\n",
    "                n_folds=3,\n",
    "                cell_line=cell_line,\n",
    "                sequence=True,\n",
    "                augmentation=False,\n",
    "                model = model,\n",
    "                device = device,\n",
    "                study_name = f'{cell_line}_{task}_{model.__name__}',\n",
    "                hp_model_path = f'{cell_line}_{task}_{model.__name__}_HP.pt',\n",
    "                test_model_path = f'{cell_line}_{task}_{model.__name__}_TEST.pt')"
   ]
  },
  {
   "cell_type": "code",
   "execution_count": null,
   "metadata": {},
   "outputs": [],
   "source": [
    "results_dict[cell_line][task][model.__name__] = kf_CV.scores_dict"
   ]
  },
  {
   "cell_type": "code",
   "execution_count": null,
   "metadata": {},
   "outputs": [],
   "source": [
    "with open ('results_dict.pickle', 'wb') as fout:\n",
    "    pickle.dump(OrderedDict(results_dict), fout)"
   ]
  },
  {
   "cell_type": "markdown",
   "metadata": {},
   "source": [
    "---"
   ]
  },
  {
   "cell_type": "markdown",
   "metadata": {},
   "source": [
    "## 3) ACTIVE ENHANCERS vs ACTIVE PROMOTERS"
   ]
  },
  {
   "cell_type": "code",
   "execution_count": 50,
   "metadata": {},
   "outputs": [
    {
     "data": {
      "text/plain": [
       "'active_E_vs_active_P'"
      ]
     },
     "execution_count": 50,
     "metadata": {},
     "output_type": "execute_result"
    }
   ],
   "source": [
    "task = TASKS[2]\n",
    "task"
   ]
  },
  {
   "cell_type": "code",
   "execution_count": 51,
   "metadata": {},
   "outputs": [
    {
     "name": "stdout",
     "output_type": "stream",
     "text": [
      "Data Preprocessing Done!\n"
     ]
    }
   ],
   "source": [
    "pipe_data_load = Build_DataLoader_Pipeline(path_name=f'{task}.pickle')"
   ]
  },
  {
   "cell_type": "markdown",
   "metadata": {},
   "source": [
    "---\n",
    "### 1. FFNN"
   ]
  },
  {
   "cell_type": "code",
   "execution_count": null,
   "metadata": {},
   "outputs": [],
   "source": [
    "model=FFNN"
   ]
  },
  {
   "cell_type": "code",
   "execution_count": 23,
   "metadata": {},
   "outputs": [
    {
     "name": "stderr",
     "output_type": "stream",
     "text": [
      "/Users/Niki/Prediction-of-Active-and-Inactive-Regulatory-Regions-with-Embracenet-Multimodal-Neural-Network-/BIOINF_tesi/models/utils/training_models.py:317: ExperimentalWarning: PatientPruner is experimental (supported from v2.8.0). The interface can change in the future.\n",
      "  pruner=optuna.pruners.PatientPruner(optuna.pruners.MedianPruner(), patience=2),\n",
      "/Users/Niki/Prediction-of-Active-and-Inactive-Regulatory-Regions-with-Embracenet-Multimodal-Neural-Network-/BIOINF_tesi/models/utils/training_models.py:319: ExperimentalWarning: BoTorchSampler is experimental (supported from v2.4.0). The interface can change in the future.\n",
      "  sampler=BoTorchSampler())\n",
      "\u001b[32m[I 2021-08-04 19:00:23,907]\u001b[0m A new study created in RDB with name: GM12878_active_E_vs_active_P_FFNN_1\u001b[0m\n"
     ]
    },
    {
     "name": "stdout",
     "output_type": "stream",
     "text": [
      ">>> ITERATION N. 1\n",
      "\n",
      "===============> HYPERPARAMETERS TUNING\n"
     ]
    },
    {
     "data": {
      "application/vnd.jupyter.widget-view+json": {
       "model_id": "bdc53690bc484823b3260221d985fbc3",
       "version_major": 2,
       "version_minor": 0
      },
      "text/plain": [
       "Epochs:   0%|          | 0/100 [00:00<?, ?it/s]"
      ]
     },
     "metadata": {},
     "output_type": "display_data"
    },
    {
     "name": "stdout",
     "output_type": "stream",
     "text": [
      "EarlyStopping counter: 1 out of 6\n",
      "EarlyStopping counter: 1 out of 6\n",
      "EarlyStopping counter: 2 out of 6\n",
      "EarlyStopping counter: 3 out of 6\n",
      "EarlyStopping counter: 4 out of 6\n",
      "EarlyStopping counter: 5 out of 6\n"
     ]
    },
    {
     "name": "stderr",
     "output_type": "stream",
     "text": [
      "\u001b[32m[I 2021-08-04 19:01:33,834]\u001b[0m Trial 0 finished with value: 0.8569698563057644 and parameters: {'n_layers': 2, 'n_units_l0': 128, 'dropout_l0': 0.3, 'n_units_l1': 32, 'dropout_l1': 0, 'optimizer': 'AdamW', 'lr': 0.04139803868157846, 'weight_decay': 0.012750858202207258}. Best is trial 0 with value: 0.8569698563057644.\u001b[0m\n"
     ]
    },
    {
     "name": "stdout",
     "output_type": "stream",
     "text": [
      "EarlyStopping counter: 6 out of 6\n",
      "Early stopping the training\n"
     ]
    },
    {
     "data": {
      "application/vnd.jupyter.widget-view+json": {
       "model_id": "31dc681f013246ee8cd6de333cb9cfe8",
       "version_major": 2,
       "version_minor": 0
      },
      "text/plain": [
       "Epochs:   0%|          | 0/100 [00:00<?, ?it/s]"
      ]
     },
     "metadata": {},
     "output_type": "display_data"
    },
    {
     "name": "stdout",
     "output_type": "stream",
     "text": [
      "EarlyStopping counter: 1 out of 6\n",
      "EarlyStopping counter: 1 out of 6\n",
      "EarlyStopping counter: 1 out of 6\n",
      "EarlyStopping counter: 2 out of 6\n",
      "EarlyStopping counter: 1 out of 6\n",
      "EarlyStopping counter: 1 out of 6\n",
      "EarlyStopping counter: 1 out of 6\n",
      "EarlyStopping counter: 2 out of 6\n",
      "EarlyStopping counter: 3 out of 6\n",
      "EarlyStopping counter: 4 out of 6\n",
      "EarlyStopping counter: 1 out of 6\n",
      "EarlyStopping counter: 2 out of 6\n",
      "EarlyStopping counter: 3 out of 6\n",
      "EarlyStopping counter: 4 out of 6\n",
      "EarlyStopping counter: 5 out of 6\n"
     ]
    },
    {
     "name": "stderr",
     "output_type": "stream",
     "text": [
      "\u001b[32m[I 2021-08-04 19:06:51,735]\u001b[0m Trial 1 finished with value: 0.8421357282499385 and parameters: {'n_layers': 3, 'n_units_l0': 64, 'dropout_l0': 0, 'n_units_l1': 32, 'dropout_l1': 0.3, 'n_units_l2': 4, 'dropout_l2': 0.5, 'optimizer': 'Adamax', 'lr': 0.0003176493779828383, 'weight_decay': 0.001966564336479872}. Best is trial 0 with value: 0.8569698563057644.\u001b[0m\n"
     ]
    },
    {
     "name": "stdout",
     "output_type": "stream",
     "text": [
      "EarlyStopping counter: 6 out of 6\n",
      "Early stopping the training\n"
     ]
    },
    {
     "data": {
      "application/vnd.jupyter.widget-view+json": {
       "model_id": "4b5a9fbfbf1743a3a12363919d6e00eb",
       "version_major": 2,
       "version_minor": 0
      },
      "text/plain": [
       "Epochs:   0%|          | 0/100 [00:00<?, ?it/s]"
      ]
     },
     "metadata": {},
     "output_type": "display_data"
    },
    {
     "name": "stdout",
     "output_type": "stream",
     "text": [
      "EarlyStopping counter: 1 out of 6\n",
      "EarlyStopping counter: 1 out of 6\n",
      "EarlyStopping counter: 2 out of 6\n",
      "EarlyStopping counter: 3 out of 6\n",
      "EarlyStopping counter: 1 out of 6\n",
      "EarlyStopping counter: 2 out of 6\n",
      "EarlyStopping counter: 1 out of 6\n",
      "EarlyStopping counter: 1 out of 6\n",
      "EarlyStopping counter: 2 out of 6\n",
      "EarlyStopping counter: 3 out of 6\n",
      "EarlyStopping counter: 1 out of 6\n",
      "EarlyStopping counter: 1 out of 6\n",
      "EarlyStopping counter: 1 out of 6\n",
      "EarlyStopping counter: 1 out of 6\n",
      "EarlyStopping counter: 1 out of 6\n",
      "EarlyStopping counter: 1 out of 6\n",
      "EarlyStopping counter: 2 out of 6\n",
      "EarlyStopping counter: 3 out of 6\n",
      "EarlyStopping counter: 4 out of 6\n",
      "EarlyStopping counter: 5 out of 6\n"
     ]
    },
    {
     "name": "stderr",
     "output_type": "stream",
     "text": [
      "\u001b[32m[I 2021-08-04 19:15:41,744]\u001b[0m Trial 2 finished with value: 0.828889486291726 and parameters: {'n_layers': 3, 'n_units_l0': 64, 'dropout_l0': 0.4, 'n_units_l1': 32, 'dropout_l1': 0.3, 'n_units_l2': 4, 'dropout_l2': 0, 'optimizer': 'AdamW', 'lr': 1.8638277036698086e-05, 'weight_decay': 0.030022407941290484}. Best is trial 0 with value: 0.8569698563057644.\u001b[0m\n"
     ]
    },
    {
     "name": "stdout",
     "output_type": "stream",
     "text": [
      "EarlyStopping counter: 6 out of 6\n",
      "Early stopping the training\n",
      "Study statistics: \n",
      "  Number of finished trials:  3\n",
      "  Number of pruned trials:  0\n",
      "  Number of complete trials:  3\n",
      "Best trial:\n",
      "  Value:  0.8569698563057644\n",
      "  Params: \n",
      "    dropout_l0: 0.3\n",
      "    dropout_l1: 0\n",
      "    lr: 0.04139803868157846\n",
      "    n_layers: 2\n",
      "    n_units_l0: 128\n",
      "    n_units_l1: 32\n",
      "    optimizer: AdamW\n",
      "    weight_decay: 0.012750858202207258\n",
      "\n",
      "===============> MODEL TESTING\n"
     ]
    },
    {
     "data": {
      "application/vnd.jupyter.widget-view+json": {
       "model_id": "6983779f49fb4282a1b60111ea368277",
       "version_major": 2,
       "version_minor": 0
      },
      "text/plain": [
       "Epochs:   0%|          | 0/100 [00:00<?, ?it/s]"
      ]
     },
     "metadata": {},
     "output_type": "display_data"
    },
    {
     "name": "stdout",
     "output_type": "stream",
     "text": [
      "EarlyStopping counter: 1 out of 6\n",
      "EarlyStopping counter: 1 out of 6\n",
      "EarlyStopping counter: 2 out of 6\n",
      "EarlyStopping counter: 1 out of 6\n",
      "EarlyStopping counter: 2 out of 6\n",
      "EarlyStopping counter: 3 out of 6\n",
      "EarlyStopping counter: 4 out of 6\n",
      "EarlyStopping counter: 1 out of 6\n",
      "EarlyStopping counter: 2 out of 6\n",
      "EarlyStopping counter: 3 out of 6\n",
      "EarlyStopping counter: 4 out of 6\n",
      "EarlyStopping counter: 5 out of 6\n"
     ]
    },
    {
     "name": "stderr",
     "output_type": "stream",
     "text": [
      "/Users/Niki/Prediction-of-Active-and-Inactive-Regulatory-Regions-with-Embracenet-Multimodal-Neural-Network-/BIOINF_tesi/models/utils/training_models.py:317: ExperimentalWarning: PatientPruner is experimental (supported from v2.8.0). The interface can change in the future.\n",
      "  pruner=optuna.pruners.PatientPruner(optuna.pruners.MedianPruner(), patience=2),\n",
      "/Users/Niki/Prediction-of-Active-and-Inactive-Regulatory-Regions-with-Embracenet-Multimodal-Neural-Network-/BIOINF_tesi/models/utils/training_models.py:319: ExperimentalWarning: BoTorchSampler is experimental (supported from v2.4.0). The interface can change in the future.\n",
      "  sampler=BoTorchSampler())\n",
      "\u001b[32m[I 2021-08-04 19:18:19,448]\u001b[0m A new study created in RDB with name: GM12878_active_E_vs_active_P_FFNN_1_2\u001b[0m\n"
     ]
    },
    {
     "name": "stdout",
     "output_type": "stream",
     "text": [
      "EarlyStopping counter: 6 out of 6\n",
      "Early stopping the training\n",
      "AUPRC test score: 0.8487518308883903\n",
      "\n",
      "\n",
      ">>> ITERATION N. 2\n",
      "\n",
      "===============> HYPERPARAMETERS TUNING\n"
     ]
    },
    {
     "data": {
      "application/vnd.jupyter.widget-view+json": {
       "model_id": "0f7026f7339c4196af67aa1d0082cc3f",
       "version_major": 2,
       "version_minor": 0
      },
      "text/plain": [
       "Epochs:   0%|          | 0/100 [00:00<?, ?it/s]"
      ]
     },
     "metadata": {},
     "output_type": "display_data"
    },
    {
     "name": "stdout",
     "output_type": "stream",
     "text": [
      "EarlyStopping counter: 1 out of 6\n",
      "EarlyStopping counter: 1 out of 6\n",
      "EarlyStopping counter: 1 out of 6\n"
     ]
    },
    {
     "name": "stderr",
     "output_type": "stream",
     "text": [
      "\u001b[32m[I 2021-08-04 19:27:56,973]\u001b[0m Trial 0 finished with value: 0.815678454794759 and parameters: {'n_layers': 1, 'n_units_l0': 128, 'dropout_l0': 0.4, 'optimizer': 'Adamax', 'lr': 2.1789812964090497e-05, 'weight_decay': 0.0005640574320562189}. Best is trial 0 with value: 0.815678454794759.\u001b[0m\n"
     ]
    },
    {
     "data": {
      "application/vnd.jupyter.widget-view+json": {
       "model_id": "95fa370fafbb4198847c1ea5d8fabf9a",
       "version_major": 2,
       "version_minor": 0
      },
      "text/plain": [
       "Epochs:   0%|          | 0/100 [00:00<?, ?it/s]"
      ]
     },
     "metadata": {},
     "output_type": "display_data"
    },
    {
     "name": "stdout",
     "output_type": "stream",
     "text": [
      "EarlyStopping counter: 1 out of 6\n",
      "EarlyStopping counter: 1 out of 6\n",
      "EarlyStopping counter: 2 out of 6\n",
      "EarlyStopping counter: 3 out of 6\n",
      "EarlyStopping counter: 4 out of 6\n",
      "EarlyStopping counter: 5 out of 6\n"
     ]
    },
    {
     "name": "stderr",
     "output_type": "stream",
     "text": [
      "\u001b[32m[I 2021-08-04 19:29:28,164]\u001b[0m Trial 1 finished with value: 0.860744174367941 and parameters: {'n_layers': 1, 'n_units_l0': 32, 'dropout_l0': 0, 'optimizer': 'AdamW', 'lr': 0.01539610447243875, 'weight_decay': 0.00013608915215125223}. Best is trial 1 with value: 0.860744174367941.\u001b[0m\n"
     ]
    },
    {
     "name": "stdout",
     "output_type": "stream",
     "text": [
      "EarlyStopping counter: 6 out of 6\n",
      "Early stopping the training\n"
     ]
    },
    {
     "data": {
      "application/vnd.jupyter.widget-view+json": {
       "model_id": "00c3fe9366544e62a3ba2cd57171bc00",
       "version_major": 2,
       "version_minor": 0
      },
      "text/plain": [
       "Epochs:   0%|          | 0/100 [00:00<?, ?it/s]"
      ]
     },
     "metadata": {},
     "output_type": "display_data"
    },
    {
     "name": "stdout",
     "output_type": "stream",
     "text": [
      "EarlyStopping counter: 1 out of 6\n",
      "EarlyStopping counter: 1 out of 6\n",
      "EarlyStopping counter: 1 out of 6\n",
      "EarlyStopping counter: 1 out of 6\n",
      "EarlyStopping counter: 1 out of 6\n",
      "EarlyStopping counter: 2 out of 6\n",
      "EarlyStopping counter: 1 out of 6\n",
      "EarlyStopping counter: 1 out of 6\n",
      "EarlyStopping counter: 1 out of 6\n",
      "EarlyStopping counter: 1 out of 6\n",
      "EarlyStopping counter: 2 out of 6\n",
      "EarlyStopping counter: 1 out of 6\n",
      "EarlyStopping counter: 2 out of 6\n",
      "EarlyStopping counter: 1 out of 6\n",
      "EarlyStopping counter: 2 out of 6\n",
      "EarlyStopping counter: 1 out of 6\n",
      "EarlyStopping counter: 1 out of 6\n",
      "EarlyStopping counter: 2 out of 6\n",
      "EarlyStopping counter: 3 out of 6\n",
      "EarlyStopping counter: 1 out of 6\n",
      "EarlyStopping counter: 1 out of 6\n",
      "EarlyStopping counter: 2 out of 6\n",
      "EarlyStopping counter: 3 out of 6\n",
      "EarlyStopping counter: 4 out of 6\n",
      "EarlyStopping counter: 1 out of 6\n",
      "EarlyStopping counter: 2 out of 6\n",
      "EarlyStopping counter: 3 out of 6\n",
      "EarlyStopping counter: 4 out of 6\n",
      "EarlyStopping counter: 5 out of 6\n"
     ]
    },
    {
     "name": "stderr",
     "output_type": "stream",
     "text": [
      "\u001b[32m[I 2021-08-04 19:36:17,769]\u001b[0m Trial 2 finished with value: 0.8572133574685561 and parameters: {'n_layers': 3, 'n_units_l0': 64, 'dropout_l0': 0.3, 'n_units_l1': 64, 'dropout_l1': 0.4, 'n_units_l2': 32, 'dropout_l2': 0.4, 'optimizer': 'AdamW', 'lr': 0.00019202275441460866, 'weight_decay': 0.005400900919333955}. Best is trial 1 with value: 0.860744174367941.\u001b[0m\n"
     ]
    },
    {
     "name": "stdout",
     "output_type": "stream",
     "text": [
      "EarlyStopping counter: 6 out of 6\n",
      "Early stopping the training\n",
      "Study statistics: \n",
      "  Number of finished trials:  3\n",
      "  Number of pruned trials:  0\n",
      "  Number of complete trials:  3\n",
      "Best trial:\n",
      "  Value:  0.860744174367941\n",
      "  Params: \n",
      "    dropout_l0: 0\n",
      "    lr: 0.01539610447243875\n",
      "    n_layers: 1\n",
      "    n_units_l0: 32\n",
      "    optimizer: AdamW\n",
      "    weight_decay: 0.00013608915215125223\n",
      "\n",
      "===============> MODEL TESTING\n"
     ]
    },
    {
     "data": {
      "application/vnd.jupyter.widget-view+json": {
       "model_id": "976fddbebeaf4171a80b11d5c9a20bf5",
       "version_major": 2,
       "version_minor": 0
      },
      "text/plain": [
       "Epochs:   0%|          | 0/100 [00:00<?, ?it/s]"
      ]
     },
     "metadata": {},
     "output_type": "display_data"
    },
    {
     "name": "stdout",
     "output_type": "stream",
     "text": [
      "EarlyStopping counter: 1 out of 6\n",
      "EarlyStopping counter: 1 out of 6\n",
      "EarlyStopping counter: 2 out of 6\n",
      "EarlyStopping counter: 1 out of 6\n",
      "EarlyStopping counter: 1 out of 6\n",
      "EarlyStopping counter: 2 out of 6\n",
      "EarlyStopping counter: 3 out of 6\n",
      "EarlyStopping counter: 4 out of 6\n",
      "EarlyStopping counter: 5 out of 6\n"
     ]
    },
    {
     "name": "stderr",
     "output_type": "stream",
     "text": [
      "/Users/Niki/Prediction-of-Active-and-Inactive-Regulatory-Regions-with-Embracenet-Multimodal-Neural-Network-/BIOINF_tesi/models/utils/training_models.py:317: ExperimentalWarning: PatientPruner is experimental (supported from v2.8.0). The interface can change in the future.\n",
      "  pruner=optuna.pruners.PatientPruner(optuna.pruners.MedianPruner(), patience=2),\n",
      "/Users/Niki/Prediction-of-Active-and-Inactive-Regulatory-Regions-with-Embracenet-Multimodal-Neural-Network-/BIOINF_tesi/models/utils/training_models.py:319: ExperimentalWarning: BoTorchSampler is experimental (supported from v2.4.0). The interface can change in the future.\n",
      "  sampler=BoTorchSampler())\n",
      "\u001b[32m[I 2021-08-04 19:38:36,988]\u001b[0m A new study created in RDB with name: GM12878_active_E_vs_active_P_FFNN_1_2_3\u001b[0m\n"
     ]
    },
    {
     "name": "stdout",
     "output_type": "stream",
     "text": [
      "EarlyStopping counter: 6 out of 6\n",
      "Early stopping the training\n",
      "AUPRC test score: 0.8733634690272498\n",
      "\n",
      "\n",
      ">>> ITERATION N. 3\n",
      "\n",
      "===============> HYPERPARAMETERS TUNING\n"
     ]
    },
    {
     "data": {
      "application/vnd.jupyter.widget-view+json": {
       "model_id": "7e1c888ec03f43ef9bdd57dbd5598a5f",
       "version_major": 2,
       "version_minor": 0
      },
      "text/plain": [
       "Epochs:   0%|          | 0/100 [00:00<?, ?it/s]"
      ]
     },
     "metadata": {},
     "output_type": "display_data"
    },
    {
     "name": "stdout",
     "output_type": "stream",
     "text": [
      "EarlyStopping counter: 1 out of 6\n",
      "EarlyStopping counter: 1 out of 6\n",
      "EarlyStopping counter: 2 out of 6\n",
      "EarlyStopping counter: 1 out of 6\n",
      "EarlyStopping counter: 1 out of 6\n",
      "EarlyStopping counter: 2 out of 6\n",
      "EarlyStopping counter: 1 out of 6\n",
      "EarlyStopping counter: 2 out of 6\n",
      "EarlyStopping counter: 3 out of 6\n",
      "EarlyStopping counter: 1 out of 6\n",
      "EarlyStopping counter: 1 out of 6\n",
      "EarlyStopping counter: 1 out of 6\n",
      "EarlyStopping counter: 1 out of 6\n",
      "EarlyStopping counter: 1 out of 6\n",
      "EarlyStopping counter: 2 out of 6\n",
      "EarlyStopping counter: 1 out of 6\n",
      "EarlyStopping counter: 2 out of 6\n",
      "EarlyStopping counter: 1 out of 6\n",
      "EarlyStopping counter: 1 out of 6\n",
      "EarlyStopping counter: 2 out of 6\n",
      "EarlyStopping counter: 3 out of 6\n",
      "EarlyStopping counter: 1 out of 6\n",
      "EarlyStopping counter: 1 out of 6\n",
      "EarlyStopping counter: 2 out of 6\n",
      "EarlyStopping counter: 3 out of 6\n",
      "EarlyStopping counter: 1 out of 6\n",
      "EarlyStopping counter: 2 out of 6\n",
      "EarlyStopping counter: 3 out of 6\n",
      "EarlyStopping counter: 4 out of 6\n",
      "EarlyStopping counter: 1 out of 6\n",
      "EarlyStopping counter: 2 out of 6\n",
      "EarlyStopping counter: 3 out of 6\n",
      "EarlyStopping counter: 4 out of 6\n",
      "EarlyStopping counter: 5 out of 6\n",
      "EarlyStopping counter: 1 out of 6\n",
      "EarlyStopping counter: 1 out of 6\n",
      "EarlyStopping counter: 2 out of 6\n",
      "EarlyStopping counter: 3 out of 6\n",
      "EarlyStopping counter: 4 out of 6\n",
      "EarlyStopping counter: 5 out of 6\n",
      "EarlyStopping counter: 1 out of 6\n",
      "EarlyStopping counter: 1 out of 6\n",
      "EarlyStopping counter: 2 out of 6\n",
      "EarlyStopping counter: 1 out of 6\n",
      "EarlyStopping counter: 2 out of 6\n",
      "EarlyStopping counter: 3 out of 6\n",
      "EarlyStopping counter: 4 out of 6\n",
      "EarlyStopping counter: 5 out of 6\n"
     ]
    },
    {
     "name": "stderr",
     "output_type": "stream",
     "text": [
      "\u001b[32m[I 2021-08-04 19:48:31,876]\u001b[0m Trial 0 finished with value: 0.8650069721748996 and parameters: {'n_layers': 2, 'n_units_l0': 256, 'dropout_l0': 0.3, 'n_units_l1': 32, 'dropout_l1': 0.3, 'optimizer': 'Adam', 'lr': 9.215856109960917e-05, 'weight_decay': 0.0005747107295023748}. Best is trial 0 with value: 0.8650069721748996.\u001b[0m\n"
     ]
    },
    {
     "name": "stdout",
     "output_type": "stream",
     "text": [
      "EarlyStopping counter: 6 out of 6\n",
      "Early stopping the training\n"
     ]
    },
    {
     "data": {
      "application/vnd.jupyter.widget-view+json": {
       "model_id": "48971e0ae69d4ec2ac2a2e1fd79ed5d1",
       "version_major": 2,
       "version_minor": 0
      },
      "text/plain": [
       "Epochs:   0%|          | 0/100 [00:00<?, ?it/s]"
      ]
     },
     "metadata": {},
     "output_type": "display_data"
    },
    {
     "name": "stdout",
     "output_type": "stream",
     "text": [
      "EarlyStopping counter: 1 out of 6\n",
      "EarlyStopping counter: 1 out of 6\n",
      "EarlyStopping counter: 1 out of 6\n",
      "EarlyStopping counter: 2 out of 6\n",
      "EarlyStopping counter: 1 out of 6\n",
      "EarlyStopping counter: 2 out of 6\n",
      "EarlyStopping counter: 1 out of 6\n",
      "EarlyStopping counter: 1 out of 6\n",
      "EarlyStopping counter: 1 out of 6\n",
      "EarlyStopping counter: 1 out of 6\n",
      "EarlyStopping counter: 1 out of 6\n",
      "EarlyStopping counter: 2 out of 6\n",
      "EarlyStopping counter: 3 out of 6\n",
      "EarlyStopping counter: 1 out of 6\n",
      "EarlyStopping counter: 1 out of 6\n",
      "EarlyStopping counter: 1 out of 6\n",
      "EarlyStopping counter: 2 out of 6\n",
      "EarlyStopping counter: 3 out of 6\n",
      "EarlyStopping counter: 1 out of 6\n",
      "EarlyStopping counter: 2 out of 6\n",
      "EarlyStopping counter: 3 out of 6\n",
      "EarlyStopping counter: 1 out of 6\n",
      "EarlyStopping counter: 2 out of 6\n",
      "EarlyStopping counter: 1 out of 6\n",
      "EarlyStopping counter: 1 out of 6\n",
      "EarlyStopping counter: 2 out of 6\n",
      "EarlyStopping counter: 3 out of 6\n",
      "EarlyStopping counter: 4 out of 6\n",
      "EarlyStopping counter: 5 out of 6\n"
     ]
    },
    {
     "name": "stderr",
     "output_type": "stream",
     "text": [
      "\u001b[32m[I 2021-08-04 19:56:24,072]\u001b[0m Trial 1 finished with value: 0.8529653002712124 and parameters: {'n_layers': 2, 'n_units_l0': 128, 'dropout_l0': 0, 'n_units_l1': 16, 'dropout_l1': 0.4, 'optimizer': 'AdamW', 'lr': 0.00012964081213031684, 'weight_decay': 0.0030986324854026287}. Best is trial 0 with value: 0.8650069721748996.\u001b[0m\n"
     ]
    },
    {
     "name": "stdout",
     "output_type": "stream",
     "text": [
      "EarlyStopping counter: 6 out of 6\n",
      "Early stopping the training\n"
     ]
    },
    {
     "data": {
      "application/vnd.jupyter.widget-view+json": {
       "model_id": "f731a022805e452b8d8bdf9ce652f4ea",
       "version_major": 2,
       "version_minor": 0
      },
      "text/plain": [
       "Epochs:   0%|          | 0/100 [00:00<?, ?it/s]"
      ]
     },
     "metadata": {},
     "output_type": "display_data"
    },
    {
     "name": "stdout",
     "output_type": "stream",
     "text": [
      "EarlyStopping counter: 1 out of 6\n",
      "EarlyStopping counter: 1 out of 6\n",
      "EarlyStopping counter: 2 out of 6\n",
      "EarlyStopping counter: 3 out of 6\n",
      "EarlyStopping counter: 4 out of 6\n",
      "EarlyStopping counter: 1 out of 6\n",
      "EarlyStopping counter: 2 out of 6\n",
      "EarlyStopping counter: 1 out of 6\n",
      "EarlyStopping counter: 2 out of 6\n",
      "EarlyStopping counter: 3 out of 6\n",
      "EarlyStopping counter: 1 out of 6\n",
      "EarlyStopping counter: 2 out of 6\n",
      "EarlyStopping counter: 3 out of 6\n",
      "EarlyStopping counter: 4 out of 6\n",
      "EarlyStopping counter: 5 out of 6\n"
     ]
    },
    {
     "name": "stderr",
     "output_type": "stream",
     "text": [
      "\u001b[32m[I 2021-08-04 19:58:53,565]\u001b[0m Trial 2 finished with value: 0.8707096071568995 and parameters: {'n_layers': 2, 'n_units_l0': 128, 'dropout_l0': 0.4, 'n_units_l1': 128, 'dropout_l1': 0.3, 'optimizer': 'AdamW', 'lr': 0.0030015888254764024, 'weight_decay': 0.05176171138343055}. Best is trial 2 with value: 0.8707096071568995.\u001b[0m\n"
     ]
    },
    {
     "name": "stdout",
     "output_type": "stream",
     "text": [
      "EarlyStopping counter: 6 out of 6\n",
      "Early stopping the training\n",
      "Study statistics: \n",
      "  Number of finished trials:  3\n",
      "  Number of pruned trials:  0\n",
      "  Number of complete trials:  3\n",
      "Best trial:\n",
      "  Value:  0.8707096071568995\n",
      "  Params: \n",
      "    dropout_l0: 0.4\n",
      "    dropout_l1: 0.3\n",
      "    lr: 0.0030015888254764024\n",
      "    n_layers: 2\n",
      "    n_units_l0: 128\n",
      "    n_units_l1: 128\n",
      "    optimizer: AdamW\n",
      "    weight_decay: 0.05176171138343055\n",
      "\n",
      "===============> MODEL TESTING\n"
     ]
    },
    {
     "data": {
      "application/vnd.jupyter.widget-view+json": {
       "model_id": "473a7f0039cf4227b944aff5ef2a1794",
       "version_major": 2,
       "version_minor": 0
      },
      "text/plain": [
       "Epochs:   0%|          | 0/100 [00:00<?, ?it/s]"
      ]
     },
     "metadata": {},
     "output_type": "display_data"
    },
    {
     "name": "stdout",
     "output_type": "stream",
     "text": [
      "EarlyStopping counter: 1 out of 6\n",
      "EarlyStopping counter: 1 out of 6\n",
      "EarlyStopping counter: 1 out of 6\n",
      "EarlyStopping counter: 2 out of 6\n",
      "EarlyStopping counter: 3 out of 6\n",
      "EarlyStopping counter: 4 out of 6\n",
      "EarlyStopping counter: 5 out of 6\n",
      "EarlyStopping counter: 6 out of 6\n",
      "Early stopping the training\n",
      "AUPRC test score: 0.8582192027178803\n",
      "\n",
      "\n",
      "\n",
      "3-FOLD CROSS-VALIDATION AUPRC TEST SCORE: 0.86011\n"
     ]
    }
   ],
   "source": [
    "kf_CV = Kfold_CV()\n",
    "\n",
    "kf_CV(build_dataloader_pipeline = pipe_data_load,\n",
    "                num_epochs = 100,\n",
    "                n_folds=3,\n",
    "                cell_line=cell_line,\n",
    "                sequence=False,\n",
    "                augmentation=False,\n",
    "                random_state=32,\n",
    "                model = model,\n",
    "                device = device,\n",
    "                study_name = f'{cell_line}_{task}_{model.__name__}',\n",
    "                hp_model_path = f'{cell_line}_{task}_{model.__name__}_HP.pt',\n",
    "                test_model_path = f'{cell_line}_{task}_{model.__name__}_TEST.pt')"
   ]
  },
  {
   "cell_type": "code",
   "execution_count": 24,
   "metadata": {},
   "outputs": [],
   "source": [
    "results_dict[cell_line][task][model.__name__] = kf_CV.scores_dict"
   ]
  },
  {
   "cell_type": "code",
   "execution_count": 25,
   "metadata": {},
   "outputs": [],
   "source": [
    "with open ('results_dict.pickle', 'wb') as fout:\n",
    "    pickle.dump(OrderedDict(results_dict), fout)"
   ]
  },
  {
   "cell_type": "markdown",
   "metadata": {},
   "source": [
    "---\n",
    "### 2. CNN"
   ]
  },
  {
   "cell_type": "code",
   "execution_count": 52,
   "metadata": {},
   "outputs": [],
   "source": [
    "model=CNN"
   ]
  },
  {
   "cell_type": "code",
   "execution_count": 53,
   "metadata": {},
   "outputs": [
    {
     "name": "stderr",
     "output_type": "stream",
     "text": [
      "/Users/Niki/Prediction-of-Active-and-Inactive-Regulatory-Regions-with-Embracenet-Multimodal-Neural-Network-/BIOINF_tesi/models/utils/training_models.py:317: ExperimentalWarning: PatientPruner is experimental (supported from v2.8.0). The interface can change in the future.\n",
      "  pruner=optuna.pruners.PatientPruner(optuna.pruners.MedianPruner(), patience=2),\n",
      "/Users/Niki/Prediction-of-Active-and-Inactive-Regulatory-Regions-with-Embracenet-Multimodal-Neural-Network-/BIOINF_tesi/models/utils/training_models.py:319: ExperimentalWarning: BoTorchSampler is experimental (supported from v2.4.0). The interface can change in the future.\n",
      "  sampler=BoTorchSampler())\n",
      "\u001b[32m[I 2021-08-06 01:18:41,702]\u001b[0m A new study created in RDB with name: GM12878_active_E_vs_active_P_CNN_1\u001b[0m\n"
     ]
    },
    {
     "name": "stdout",
     "output_type": "stream",
     "text": [
      ">>> ITERATION N. 1\n",
      "\n",
      "===============> HYPERPARAMETERS TUNING\n"
     ]
    },
    {
     "data": {
      "application/vnd.jupyter.widget-view+json": {
       "model_id": "0922558d7f014f078ed1a2f16d8b78c5",
       "version_major": 2,
       "version_minor": 0
      },
      "text/plain": [
       "Epochs:   0%|          | 0/100 [00:00<?, ?it/s]"
      ]
     },
     "metadata": {},
     "output_type": "display_data"
    },
    {
     "name": "stdout",
     "output_type": "stream",
     "text": [
      "EarlyStopping counter: 1 out of 6\n",
      "EarlyStopping counter: 1 out of 6\n",
      "EarlyStopping counter: 2 out of 6\n",
      "EarlyStopping counter: 3 out of 6\n",
      "EarlyStopping counter: 4 out of 6\n",
      "EarlyStopping counter: 5 out of 6\n"
     ]
    },
    {
     "name": "stderr",
     "output_type": "stream",
     "text": [
      "\u001b[32m[I 2021-08-06 01:23:34,942]\u001b[0m Trial 0 finished with value: 0.7600880708058083 and parameters: {'n_layers': 2, 'out_channels_l0': 16, 'kernel_size_l0': 11, 'dropout_l0': 0.3, 'out_channels_l1': 64, 'kernel_size_l1': 11, 'dropout_l1': 0.3, 'optimizer': 'Adam', 'lr': 0.002807883399167598, 'weight_decay': 0.06366743713164211}. Best is trial 0 with value: 0.7600880708058083.\u001b[0m\n"
     ]
    },
    {
     "name": "stdout",
     "output_type": "stream",
     "text": [
      "EarlyStopping counter: 6 out of 6\n",
      "Early stopping the training\n"
     ]
    },
    {
     "data": {
      "application/vnd.jupyter.widget-view+json": {
       "model_id": "90caba35129b4cbc8097e6d820b1b971",
       "version_major": 2,
       "version_minor": 0
      },
      "text/plain": [
       "Epochs:   0%|          | 0/100 [00:00<?, ?it/s]"
      ]
     },
     "metadata": {},
     "output_type": "display_data"
    },
    {
     "name": "stdout",
     "output_type": "stream",
     "text": [
      "EarlyStopping counter: 1 out of 6\n",
      "EarlyStopping counter: 2 out of 6\n",
      "EarlyStopping counter: 1 out of 6\n",
      "EarlyStopping counter: 2 out of 6\n",
      "EarlyStopping counter: 3 out of 6\n",
      "EarlyStopping counter: 1 out of 6\n",
      "EarlyStopping counter: 2 out of 6\n",
      "EarlyStopping counter: 3 out of 6\n",
      "EarlyStopping counter: 4 out of 6\n",
      "EarlyStopping counter: 5 out of 6\n"
     ]
    },
    {
     "name": "stderr",
     "output_type": "stream",
     "text": [
      "\u001b[32m[I 2021-08-06 01:30:25,707]\u001b[0m Trial 1 finished with value: 0.798155077290313 and parameters: {'n_layers': 2, 'out_channels_l0': 32, 'kernel_size_l0': 11, 'dropout_l0': 0.4, 'out_channels_l1': 32, 'kernel_size_l1': 5, 'dropout_l1': 0.3, 'optimizer': 'Adam', 'lr': 0.00142835038314767, 'weight_decay': 0.0009478831388012219}. Best is trial 1 with value: 0.798155077290313.\u001b[0m\n"
     ]
    },
    {
     "name": "stdout",
     "output_type": "stream",
     "text": [
      "EarlyStopping counter: 6 out of 6\n",
      "Early stopping the training\n"
     ]
    },
    {
     "data": {
      "application/vnd.jupyter.widget-view+json": {
       "model_id": "bb2aedc0e18f4924abcca8ef6df10a61",
       "version_major": 2,
       "version_minor": 0
      },
      "text/plain": [
       "Epochs:   0%|          | 0/100 [00:00<?, ?it/s]"
      ]
     },
     "metadata": {},
     "output_type": "display_data"
    },
    {
     "name": "stdout",
     "output_type": "stream",
     "text": [
      "EarlyStopping counter: 1 out of 6\n",
      "EarlyStopping counter: 1 out of 6\n",
      "EarlyStopping counter: 1 out of 6\n",
      "EarlyStopping counter: 2 out of 6\n",
      "EarlyStopping counter: 3 out of 6\n",
      "EarlyStopping counter: 1 out of 6\n",
      "EarlyStopping counter: 2 out of 6\n",
      "EarlyStopping counter: 3 out of 6\n",
      "EarlyStopping counter: 1 out of 6\n",
      "EarlyStopping counter: 1 out of 6\n",
      "EarlyStopping counter: 2 out of 6\n",
      "EarlyStopping counter: 1 out of 6\n",
      "EarlyStopping counter: 2 out of 6\n",
      "EarlyStopping counter: 3 out of 6\n",
      "EarlyStopping counter: 4 out of 6\n",
      "EarlyStopping counter: 5 out of 6\n"
     ]
    },
    {
     "name": "stderr",
     "output_type": "stream",
     "text": [
      "\u001b[32m[I 2021-08-06 01:42:45,442]\u001b[0m Trial 2 finished with value: 0.7763664046226297 and parameters: {'n_layers': 1, 'out_channels_l0': 32, 'kernel_size_l0': 5, 'dropout_l0': 0.3, 'optimizer': 'Adamax', 'lr': 0.06823161728115712, 'weight_decay': 0.0006591079755587971}. Best is trial 1 with value: 0.798155077290313.\u001b[0m\n"
     ]
    },
    {
     "name": "stdout",
     "output_type": "stream",
     "text": [
      "EarlyStopping counter: 6 out of 6\n",
      "Early stopping the training\n",
      "Study statistics: \n",
      "  Number of finished trials:  3\n",
      "  Number of pruned trials:  0\n",
      "  Number of complete trials:  3\n",
      "Best trial:\n",
      "  Value:  0.798155077290313\n",
      "  Params: \n",
      "    dropout_l0: 0.4\n",
      "    dropout_l1: 0.3\n",
      "    kernel_size_l0: 11\n",
      "    kernel_size_l1: 5\n",
      "    lr: 0.00142835038314767\n",
      "    n_layers: 2\n",
      "    optimizer: Adam\n",
      "    out_channels_l0: 32\n",
      "    out_channels_l1: 32\n",
      "    weight_decay: 0.0009478831388012219\n",
      "\n",
      "===============> MODEL TESTING\n"
     ]
    },
    {
     "data": {
      "application/vnd.jupyter.widget-view+json": {
       "model_id": "1bfc228b35f541c8b099680f84039562",
       "version_major": 2,
       "version_minor": 0
      },
      "text/plain": [
       "Epochs:   0%|          | 0/100 [00:00<?, ?it/s]"
      ]
     },
     "metadata": {},
     "output_type": "display_data"
    },
    {
     "name": "stdout",
     "output_type": "stream",
     "text": [
      "EarlyStopping counter: 1 out of 6\n",
      "EarlyStopping counter: 2 out of 6\n",
      "EarlyStopping counter: 3 out of 6\n",
      "EarlyStopping counter: 4 out of 6\n",
      "EarlyStopping counter: 5 out of 6\n"
     ]
    },
    {
     "name": "stderr",
     "output_type": "stream",
     "text": [
      "/Users/Niki/Prediction-of-Active-and-Inactive-Regulatory-Regions-with-Embracenet-Multimodal-Neural-Network-/BIOINF_tesi/models/utils/training_models.py:317: ExperimentalWarning: PatientPruner is experimental (supported from v2.8.0). The interface can change in the future.\n",
      "  pruner=optuna.pruners.PatientPruner(optuna.pruners.MedianPruner(), patience=2),\n",
      "/Users/Niki/Prediction-of-Active-and-Inactive-Regulatory-Regions-with-Embracenet-Multimodal-Neural-Network-/BIOINF_tesi/models/utils/training_models.py:319: ExperimentalWarning: BoTorchSampler is experimental (supported from v2.4.0). The interface can change in the future.\n",
      "  sampler=BoTorchSampler())\n",
      "\u001b[32m[I 2021-08-06 01:47:20,992]\u001b[0m A new study created in RDB with name: GM12878_active_E_vs_active_P_CNN_1_2\u001b[0m\n"
     ]
    },
    {
     "name": "stdout",
     "output_type": "stream",
     "text": [
      "EarlyStopping counter: 6 out of 6\n",
      "Early stopping the training\n",
      "AUPRC test score: 0.7958215353081526\n",
      "\n",
      "\n",
      ">>> ITERATION N. 2\n",
      "\n",
      "===============> HYPERPARAMETERS TUNING\n"
     ]
    },
    {
     "data": {
      "application/vnd.jupyter.widget-view+json": {
       "model_id": "4d462f1ef17d4a5d85273a81f621945d",
       "version_major": 2,
       "version_minor": 0
      },
      "text/plain": [
       "Epochs:   0%|          | 0/100 [00:00<?, ?it/s]"
      ]
     },
     "metadata": {},
     "output_type": "display_data"
    },
    {
     "name": "stdout",
     "output_type": "stream",
     "text": [
      "EarlyStopping counter: 1 out of 6\n",
      "EarlyStopping counter: 2 out of 6\n",
      "EarlyStopping counter: 1 out of 6\n",
      "EarlyStopping counter: 1 out of 6\n",
      "EarlyStopping counter: 2 out of 6\n",
      "EarlyStopping counter: 3 out of 6\n",
      "EarlyStopping counter: 1 out of 6\n",
      "EarlyStopping counter: 1 out of 6\n",
      "EarlyStopping counter: 1 out of 6\n",
      "EarlyStopping counter: 2 out of 6\n",
      "EarlyStopping counter: 3 out of 6\n",
      "EarlyStopping counter: 4 out of 6\n",
      "EarlyStopping counter: 5 out of 6\n"
     ]
    },
    {
     "name": "stderr",
     "output_type": "stream",
     "text": [
      "\u001b[32m[I 2021-08-06 02:00:38,086]\u001b[0m Trial 0 finished with value: 0.7849821783560342 and parameters: {'n_layers': 1, 'out_channels_l0': 16, 'kernel_size_l0': 11, 'dropout_l0': 0.4, 'optimizer': 'Adamax', 'lr': 5.380248899531887e-05, 'weight_decay': 0.013002822290718297}. Best is trial 0 with value: 0.7849821783560342.\u001b[0m\n"
     ]
    },
    {
     "name": "stdout",
     "output_type": "stream",
     "text": [
      "EarlyStopping counter: 6 out of 6\n",
      "Early stopping the training\n"
     ]
    },
    {
     "data": {
      "application/vnd.jupyter.widget-view+json": {
       "model_id": "8debfb84792649008e36fa5f19a5e112",
       "version_major": 2,
       "version_minor": 0
      },
      "text/plain": [
       "Epochs:   0%|          | 0/100 [00:00<?, ?it/s]"
      ]
     },
     "metadata": {},
     "output_type": "display_data"
    },
    {
     "name": "stdout",
     "output_type": "stream",
     "text": [
      "EarlyStopping counter: 1 out of 6\n",
      "EarlyStopping counter: 1 out of 6\n",
      "EarlyStopping counter: 1 out of 6\n",
      "EarlyStopping counter: 2 out of 6\n",
      "EarlyStopping counter: 3 out of 6\n",
      "EarlyStopping counter: 1 out of 6\n",
      "EarlyStopping counter: 2 out of 6\n",
      "EarlyStopping counter: 1 out of 6\n",
      "EarlyStopping counter: 2 out of 6\n",
      "EarlyStopping counter: 3 out of 6\n",
      "EarlyStopping counter: 4 out of 6\n",
      "EarlyStopping counter: 1 out of 6\n",
      "EarlyStopping counter: 1 out of 6\n",
      "EarlyStopping counter: 2 out of 6\n",
      "EarlyStopping counter: 3 out of 6\n",
      "EarlyStopping counter: 4 out of 6\n",
      "EarlyStopping counter: 5 out of 6\n"
     ]
    },
    {
     "name": "stderr",
     "output_type": "stream",
     "text": [
      "\u001b[32m[I 2021-08-06 02:16:24,743]\u001b[0m Trial 1 finished with value: 0.7972476955320582 and parameters: {'n_layers': 1, 'out_channels_l0': 32, 'kernel_size_l0': 5, 'dropout_l0': 0.4, 'optimizer': 'AdamW', 'lr': 9.431067163926043e-05, 'weight_decay': 0.0036817411049114277}. Best is trial 1 with value: 0.7972476955320582.\u001b[0m\n"
     ]
    },
    {
     "name": "stdout",
     "output_type": "stream",
     "text": [
      "EarlyStopping counter: 6 out of 6\n",
      "Early stopping the training\n"
     ]
    },
    {
     "data": {
      "application/vnd.jupyter.widget-view+json": {
       "model_id": "38e632df748e43d7926612dc21a58ff4",
       "version_major": 2,
       "version_minor": 0
      },
      "text/plain": [
       "Epochs:   0%|          | 0/100 [00:00<?, ?it/s]"
      ]
     },
     "metadata": {},
     "output_type": "display_data"
    },
    {
     "name": "stdout",
     "output_type": "stream",
     "text": [
      "EarlyStopping counter: 1 out of 6\n",
      "EarlyStopping counter: 2 out of 6\n",
      "EarlyStopping counter: 1 out of 6\n",
      "EarlyStopping counter: 2 out of 6\n",
      "EarlyStopping counter: 3 out of 6\n",
      "EarlyStopping counter: 4 out of 6\n",
      "EarlyStopping counter: 5 out of 6\n"
     ]
    },
    {
     "name": "stderr",
     "output_type": "stream",
     "text": [
      "\u001b[32m[I 2021-08-06 02:20:18,355]\u001b[0m Trial 2 finished with value: 0.8001143814363842 and parameters: {'n_layers': 1, 'out_channels_l0': 16, 'kernel_size_l0': 5, 'dropout_l0': 0, 'optimizer': 'AdamW', 'lr': 0.00631723148977984, 'weight_decay': 0.08245387711522417}. Best is trial 2 with value: 0.8001143814363842.\u001b[0m\n"
     ]
    },
    {
     "name": "stdout",
     "output_type": "stream",
     "text": [
      "EarlyStopping counter: 6 out of 6\n",
      "Early stopping the training\n",
      "Study statistics: \n",
      "  Number of finished trials:  3\n",
      "  Number of pruned trials:  0\n",
      "  Number of complete trials:  3\n",
      "Best trial:\n",
      "  Value:  0.8001143814363842\n",
      "  Params: \n",
      "    dropout_l0: 0\n",
      "    kernel_size_l0: 5\n",
      "    lr: 0.00631723148977984\n",
      "    n_layers: 1\n",
      "    optimizer: AdamW\n",
      "    out_channels_l0: 16\n",
      "    weight_decay: 0.08245387711522417\n",
      "\n",
      "===============> MODEL TESTING\n"
     ]
    },
    {
     "data": {
      "application/vnd.jupyter.widget-view+json": {
       "model_id": "957a3f21863241b38cbc86202e41b165",
       "version_major": 2,
       "version_minor": 0
      },
      "text/plain": [
       "Epochs:   0%|          | 0/100 [00:00<?, ?it/s]"
      ]
     },
     "metadata": {},
     "output_type": "display_data"
    },
    {
     "name": "stdout",
     "output_type": "stream",
     "text": [
      "EarlyStopping counter: 1 out of 6\n",
      "EarlyStopping counter: 2 out of 6\n",
      "EarlyStopping counter: 3 out of 6\n",
      "EarlyStopping counter: 4 out of 6\n",
      "EarlyStopping counter: 5 out of 6\n"
     ]
    },
    {
     "name": "stderr",
     "output_type": "stream",
     "text": [
      "/Users/Niki/Prediction-of-Active-and-Inactive-Regulatory-Regions-with-Embracenet-Multimodal-Neural-Network-/BIOINF_tesi/models/utils/training_models.py:317: ExperimentalWarning: PatientPruner is experimental (supported from v2.8.0). The interface can change in the future.\n",
      "  pruner=optuna.pruners.PatientPruner(optuna.pruners.MedianPruner(), patience=2),\n",
      "/Users/Niki/Prediction-of-Active-and-Inactive-Regulatory-Regions-with-Embracenet-Multimodal-Neural-Network-/BIOINF_tesi/models/utils/training_models.py:319: ExperimentalWarning: BoTorchSampler is experimental (supported from v2.4.0). The interface can change in the future.\n",
      "  sampler=BoTorchSampler())\n",
      "\u001b[32m[I 2021-08-06 02:24:47,329]\u001b[0m A new study created in RDB with name: GM12878_active_E_vs_active_P_CNN_1_2_3\u001b[0m\n"
     ]
    },
    {
     "name": "stdout",
     "output_type": "stream",
     "text": [
      "EarlyStopping counter: 6 out of 6\n",
      "Early stopping the training\n",
      "AUPRC test score: 0.7847675406367727\n",
      "\n",
      "\n",
      ">>> ITERATION N. 3\n",
      "\n",
      "===============> HYPERPARAMETERS TUNING\n"
     ]
    },
    {
     "data": {
      "application/vnd.jupyter.widget-view+json": {
       "model_id": "a68cd558fecb4d23b5035a18089afc08",
       "version_major": 2,
       "version_minor": 0
      },
      "text/plain": [
       "Epochs:   0%|          | 0/100 [00:00<?, ?it/s]"
      ]
     },
     "metadata": {},
     "output_type": "display_data"
    },
    {
     "name": "stdout",
     "output_type": "stream",
     "text": [
      "EarlyStopping counter: 1 out of 6\n",
      "EarlyStopping counter: 1 out of 6\n",
      "EarlyStopping counter: 1 out of 6\n",
      "EarlyStopping counter: 2 out of 6\n",
      "EarlyStopping counter: 3 out of 6\n",
      "EarlyStopping counter: 4 out of 6\n",
      "EarlyStopping counter: 5 out of 6\n",
      "EarlyStopping counter: 1 out of 6\n",
      "EarlyStopping counter: 2 out of 6\n",
      "EarlyStopping counter: 3 out of 6\n",
      "EarlyStopping counter: 4 out of 6\n",
      "EarlyStopping counter: 5 out of 6\n"
     ]
    },
    {
     "name": "stderr",
     "output_type": "stream",
     "text": [
      "\u001b[32m[I 2021-08-06 02:47:05,402]\u001b[0m Trial 0 finished with value: 0.7933441372219989 and parameters: {'n_layers': 2, 'out_channels_l0': 64, 'kernel_size_l0': 5, 'dropout_l0': 0.4, 'out_channels_l1': 96, 'kernel_size_l1': 15, 'dropout_l1': 0, 'optimizer': 'AdamW', 'lr': 0.002663651006985066, 'weight_decay': 0.004551357868751669}. Best is trial 0 with value: 0.7933441372219989.\u001b[0m\n"
     ]
    },
    {
     "name": "stdout",
     "output_type": "stream",
     "text": [
      "EarlyStopping counter: 6 out of 6\n",
      "Early stopping the training\n"
     ]
    },
    {
     "data": {
      "application/vnd.jupyter.widget-view+json": {
       "model_id": "88d8132627774e50a9d21eeb62dd3b62",
       "version_major": 2,
       "version_minor": 0
      },
      "text/plain": [
       "Epochs:   0%|          | 0/100 [00:00<?, ?it/s]"
      ]
     },
     "metadata": {},
     "output_type": "display_data"
    },
    {
     "name": "stdout",
     "output_type": "stream",
     "text": [
      "EarlyStopping counter: 1 out of 6\n",
      "EarlyStopping counter: 1 out of 6\n",
      "EarlyStopping counter: 2 out of 6\n",
      "EarlyStopping counter: 3 out of 6\n",
      "EarlyStopping counter: 1 out of 6\n",
      "EarlyStopping counter: 2 out of 6\n",
      "EarlyStopping counter: 1 out of 6\n",
      "EarlyStopping counter: 1 out of 6\n",
      "EarlyStopping counter: 2 out of 6\n",
      "EarlyStopping counter: 3 out of 6\n",
      "EarlyStopping counter: 4 out of 6\n",
      "EarlyStopping counter: 5 out of 6\n"
     ]
    },
    {
     "name": "stderr",
     "output_type": "stream",
     "text": [
      "\u001b[32m[I 2021-08-06 02:54:25,312]\u001b[0m Trial 1 finished with value: 0.795216021351491 and parameters: {'n_layers': 1, 'out_channels_l0': 16, 'kernel_size_l0': 15, 'dropout_l0': 0.4, 'optimizer': 'AdamW', 'lr': 0.0005227438737147545, 'weight_decay': 0.0030342104643176744}. Best is trial 1 with value: 0.795216021351491.\u001b[0m\n"
     ]
    },
    {
     "name": "stdout",
     "output_type": "stream",
     "text": [
      "EarlyStopping counter: 6 out of 6\n",
      "Early stopping the training\n"
     ]
    },
    {
     "data": {
      "application/vnd.jupyter.widget-view+json": {
       "model_id": "e01879fee63b47a5ab5a53952ad17fd2",
       "version_major": 2,
       "version_minor": 0
      },
      "text/plain": [
       "Epochs:   0%|          | 0/100 [00:00<?, ?it/s]"
      ]
     },
     "metadata": {},
     "output_type": "display_data"
    },
    {
     "name": "stdout",
     "output_type": "stream",
     "text": [
      "EarlyStopping counter: 1 out of 6\n",
      "EarlyStopping counter: 1 out of 6\n",
      "EarlyStopping counter: 1 out of 6\n",
      "EarlyStopping counter: 2 out of 6\n",
      "EarlyStopping counter: 3 out of 6\n",
      "EarlyStopping counter: 4 out of 6\n",
      "EarlyStopping counter: 1 out of 6\n",
      "EarlyStopping counter: 2 out of 6\n",
      "EarlyStopping counter: 3 out of 6\n",
      "EarlyStopping counter: 4 out of 6\n",
      "EarlyStopping counter: 1 out of 6\n",
      "EarlyStopping counter: 1 out of 6\n",
      "EarlyStopping counter: 2 out of 6\n",
      "EarlyStopping counter: 3 out of 6\n",
      "EarlyStopping counter: 4 out of 6\n",
      "EarlyStopping counter: 5 out of 6\n"
     ]
    },
    {
     "name": "stderr",
     "output_type": "stream",
     "text": [
      "\u001b[32m[I 2021-08-06 03:18:10,722]\u001b[0m Trial 2 finished with value: 0.7907790583287083 and parameters: {'n_layers': 2, 'out_channels_l0': 32, 'kernel_size_l0': 5, 'dropout_l0': 0.4, 'out_channels_l1': 96, 'kernel_size_l1': 15, 'dropout_l1': 0.3, 'optimizer': 'Adam', 'lr': 2.914910735619284e-05, 'weight_decay': 0.0029619937238520347}. Best is trial 1 with value: 0.795216021351491.\u001b[0m\n"
     ]
    },
    {
     "name": "stdout",
     "output_type": "stream",
     "text": [
      "EarlyStopping counter: 6 out of 6\n",
      "Early stopping the training\n",
      "Study statistics: \n",
      "  Number of finished trials:  3\n",
      "  Number of pruned trials:  0\n",
      "  Number of complete trials:  3\n",
      "Best trial:\n",
      "  Value:  0.795216021351491\n",
      "  Params: \n",
      "    dropout_l0: 0.4\n",
      "    kernel_size_l0: 15\n",
      "    lr: 0.0005227438737147545\n",
      "    n_layers: 1\n",
      "    optimizer: AdamW\n",
      "    out_channels_l0: 16\n",
      "    weight_decay: 0.0030342104643176744\n",
      "\n",
      "===============> MODEL TESTING\n"
     ]
    },
    {
     "data": {
      "application/vnd.jupyter.widget-view+json": {
       "model_id": "da2b9ab0c4384cbbb774cdcaca1c958c",
       "version_major": 2,
       "version_minor": 0
      },
      "text/plain": [
       "Epochs:   0%|          | 0/100 [00:00<?, ?it/s]"
      ]
     },
     "metadata": {},
     "output_type": "display_data"
    },
    {
     "name": "stdout",
     "output_type": "stream",
     "text": [
      "EarlyStopping counter: 1 out of 6\n",
      "EarlyStopping counter: 1 out of 6\n",
      "EarlyStopping counter: 2 out of 6\n",
      "EarlyStopping counter: 3 out of 6\n",
      "EarlyStopping counter: 1 out of 6\n",
      "EarlyStopping counter: 1 out of 6\n",
      "EarlyStopping counter: 1 out of 6\n",
      "EarlyStopping counter: 2 out of 6\n",
      "EarlyStopping counter: 1 out of 6\n",
      "EarlyStopping counter: 2 out of 6\n",
      "EarlyStopping counter: 1 out of 6\n",
      "EarlyStopping counter: 1 out of 6\n",
      "EarlyStopping counter: 2 out of 6\n",
      "EarlyStopping counter: 3 out of 6\n",
      "EarlyStopping counter: 4 out of 6\n",
      "EarlyStopping counter: 5 out of 6\n",
      "EarlyStopping counter: 6 out of 6\n",
      "Early stopping the training\n",
      "AUPRC test score: 0.802033877083245\n",
      "\n",
      "\n",
      "\n",
      "3-FOLD CROSS-VALIDATION AUPRC TEST SCORE: 0.79421\n"
     ]
    }
   ],
   "source": [
    "kf_CV = Kfold_CV()\n",
    "\n",
    "kf_CV(build_dataloader_pipeline = pipe_data_load,\n",
    "                num_epochs = 100,\n",
    "                n_folds=3,\n",
    "                cell_line=cell_line,\n",
    "                sequence=True,\n",
    "                augmentation=False,\n",
    "                model = model,\n",
    "                device = device,\n",
    "                study_name = f'{cell_line}_{task}_{model.__name__}',\n",
    "                hp_model_path = f'{cell_line}_{task}_{model.__name__}_HP.pt',\n",
    "                test_model_path = f'{cell_line}_{task}_{model.__name__}_TEST.pt')"
   ]
  },
  {
   "cell_type": "code",
   "execution_count": 54,
   "metadata": {},
   "outputs": [],
   "source": [
    "results_dict[cell_line][task][model.__name__] = kf_CV.scores_dict"
   ]
  },
  {
   "cell_type": "code",
   "execution_count": 55,
   "metadata": {},
   "outputs": [],
   "source": [
    "with open ('results_dict.pickle', 'wb') as fout:\n",
    "    pickle.dump(OrderedDict(results_dict), fout)"
   ]
  },
  {
   "cell_type": "code",
   "execution_count": null,
   "metadata": {},
   "outputs": [],
   "source": []
  },
  {
   "cell_type": "markdown",
   "metadata": {},
   "source": [
    "---"
   ]
  },
  {
   "cell_type": "markdown",
   "metadata": {},
   "source": [
    "## 4) INACTIVE ENHANCERS vs INACTIVE PROMOTERS"
   ]
  },
  {
   "cell_type": "code",
   "execution_count": 56,
   "metadata": {},
   "outputs": [
    {
     "data": {
      "text/plain": [
       "'inactive_E_vs_inactive_P'"
      ]
     },
     "execution_count": 56,
     "metadata": {},
     "output_type": "execute_result"
    }
   ],
   "source": [
    "task = TASKS[3]\n",
    "task"
   ]
  },
  {
   "cell_type": "code",
   "execution_count": 57,
   "metadata": {},
   "outputs": [
    {
     "name": "stdout",
     "output_type": "stream",
     "text": [
      "Data Preprocessing Done!\n"
     ]
    }
   ],
   "source": [
    "pipe_data_load = Build_DataLoader_Pipeline(path_name=f'{task}.pickle')"
   ]
  },
  {
   "cell_type": "markdown",
   "metadata": {},
   "source": [
    "---\n",
    "### 1. FFNN"
   ]
  },
  {
   "cell_type": "code",
   "execution_count": 28,
   "metadata": {},
   "outputs": [],
   "source": [
    "model=FFNN"
   ]
  },
  {
   "cell_type": "code",
   "execution_count": 29,
   "metadata": {},
   "outputs": [
    {
     "name": "stdout",
     "output_type": "stream",
     "text": [
      ">>> ITERATION N. 1\n"
     ]
    },
    {
     "name": "stderr",
     "output_type": "stream",
     "text": [
      "/Users/Niki/Prediction-of-Active-and-Inactive-Regulatory-Regions-with-Embracenet-Multimodal-Neural-Network-/BIOINF_tesi/models/utils/training_models.py:317: ExperimentalWarning: PatientPruner is experimental (supported from v2.8.0). The interface can change in the future.\n",
      "  pruner=optuna.pruners.PatientPruner(optuna.pruners.MedianPruner(), patience=2),\n",
      "/Users/Niki/Prediction-of-Active-and-Inactive-Regulatory-Regions-with-Embracenet-Multimodal-Neural-Network-/BIOINF_tesi/models/utils/training_models.py:319: ExperimentalWarning: BoTorchSampler is experimental (supported from v2.4.0). The interface can change in the future.\n",
      "  sampler=BoTorchSampler())\n",
      "\u001b[32m[I 2021-08-04 20:01:10,827]\u001b[0m A new study created in RDB with name: GM12878_inactive_E_vs_inactive_P_FFNN_1\u001b[0m\n"
     ]
    },
    {
     "name": "stdout",
     "output_type": "stream",
     "text": [
      "\n",
      "===============> HYPERPARAMETERS TUNING\n"
     ]
    },
    {
     "data": {
      "application/vnd.jupyter.widget-view+json": {
       "model_id": "723b1479c31e47b79e5326c49b2c6ebc",
       "version_major": 2,
       "version_minor": 0
      },
      "text/plain": [
       "Epochs:   0%|          | 0/100 [00:00<?, ?it/s]"
      ]
     },
     "metadata": {},
     "output_type": "display_data"
    },
    {
     "name": "stdout",
     "output_type": "stream",
     "text": [
      "EarlyStopping counter: 1 out of 6\n",
      "EarlyStopping counter: 2 out of 6\n",
      "EarlyStopping counter: 1 out of 6\n",
      "EarlyStopping counter: 1 out of 6\n",
      "EarlyStopping counter: 1 out of 6\n",
      "EarlyStopping counter: 1 out of 6\n",
      "EarlyStopping counter: 1 out of 6\n",
      "EarlyStopping counter: 2 out of 6\n",
      "EarlyStopping counter: 1 out of 6\n",
      "EarlyStopping counter: 1 out of 6\n",
      "EarlyStopping counter: 2 out of 6\n",
      "EarlyStopping counter: 1 out of 6\n",
      "EarlyStopping counter: 2 out of 6\n",
      "EarlyStopping counter: 1 out of 6\n",
      "EarlyStopping counter: 1 out of 6\n",
      "EarlyStopping counter: 2 out of 6\n",
      "EarlyStopping counter: 3 out of 6\n",
      "EarlyStopping counter: 4 out of 6\n",
      "EarlyStopping counter: 5 out of 6\n"
     ]
    },
    {
     "name": "stderr",
     "output_type": "stream",
     "text": [
      "\u001b[32m[I 2021-08-04 20:28:10,857]\u001b[0m Trial 0 finished with value: 0.560174296600229 and parameters: {'n_layers': 3, 'n_units_l0': 256, 'dropout_l0': 0.4, 'n_units_l1': 32, 'dropout_l1': 0.4, 'n_units_l2': 64, 'dropout_l2': 0, 'optimizer': 'Adamax', 'lr': 0.0013929801973739735, 'weight_decay': 0.00018655709292965324}. Best is trial 0 with value: 0.560174296600229.\u001b[0m\n"
     ]
    },
    {
     "name": "stdout",
     "output_type": "stream",
     "text": [
      "EarlyStopping counter: 6 out of 6\n",
      "Early stopping the training\n"
     ]
    },
    {
     "data": {
      "application/vnd.jupyter.widget-view+json": {
       "model_id": "4a16acfb08a941b4a3bada13e3a35184",
       "version_major": 2,
       "version_minor": 0
      },
      "text/plain": [
       "Epochs:   0%|          | 0/100 [00:00<?, ?it/s]"
      ]
     },
     "metadata": {},
     "output_type": "display_data"
    },
    {
     "name": "stdout",
     "output_type": "stream",
     "text": [
      "EarlyStopping counter: 1 out of 6\n",
      "EarlyStopping counter: 1 out of 6\n",
      "EarlyStopping counter: 1 out of 6\n",
      "EarlyStopping counter: 2 out of 6\n",
      "EarlyStopping counter: 1 out of 6\n",
      "EarlyStopping counter: 1 out of 6\n",
      "EarlyStopping counter: 1 out of 6\n",
      "EarlyStopping counter: 2 out of 6\n",
      "EarlyStopping counter: 1 out of 6\n",
      "EarlyStopping counter: 2 out of 6\n",
      "EarlyStopping counter: 3 out of 6\n",
      "EarlyStopping counter: 1 out of 6\n",
      "EarlyStopping counter: 1 out of 6\n",
      "EarlyStopping counter: 1 out of 6\n",
      "EarlyStopping counter: 1 out of 6\n",
      "EarlyStopping counter: 2 out of 6\n",
      "EarlyStopping counter: 1 out of 6\n",
      "EarlyStopping counter: 2 out of 6\n",
      "EarlyStopping counter: 1 out of 6\n",
      "EarlyStopping counter: 1 out of 6\n",
      "EarlyStopping counter: 2 out of 6\n",
      "EarlyStopping counter: 3 out of 6\n",
      "EarlyStopping counter: 4 out of 6\n",
      "EarlyStopping counter: 1 out of 6\n",
      "EarlyStopping counter: 2 out of 6\n",
      "EarlyStopping counter: 3 out of 6\n",
      "EarlyStopping counter: 1 out of 6\n",
      "EarlyStopping counter: 2 out of 6\n",
      "EarlyStopping counter: 1 out of 6\n",
      "EarlyStopping counter: 2 out of 6\n",
      "EarlyStopping counter: 3 out of 6\n",
      "EarlyStopping counter: 1 out of 6\n",
      "EarlyStopping counter: 1 out of 6\n"
     ]
    },
    {
     "name": "stderr",
     "output_type": "stream",
     "text": [
      "\u001b[32m[I 2021-08-04 21:27:27,269]\u001b[0m Trial 1 finished with value: 0.5480784257475568 and parameters: {'n_layers': 3, 'n_units_l0': 64, 'dropout_l0': 0.4, 'n_units_l1': 64, 'dropout_l1': 0.3, 'n_units_l2': 32, 'dropout_l2': 0.4, 'optimizer': 'AdamW', 'lr': 6.481431741947752e-05, 'weight_decay': 0.00028434031177564654}. Best is trial 0 with value: 0.560174296600229.\u001b[0m\n"
     ]
    },
    {
     "name": "stdout",
     "output_type": "stream",
     "text": [
      "EarlyStopping counter: 1 out of 6\n"
     ]
    },
    {
     "data": {
      "application/vnd.jupyter.widget-view+json": {
       "model_id": "5db95471cad44c62b68a413ffbde754d",
       "version_major": 2,
       "version_minor": 0
      },
      "text/plain": [
       "Epochs:   0%|          | 0/100 [00:00<?, ?it/s]"
      ]
     },
     "metadata": {},
     "output_type": "display_data"
    },
    {
     "name": "stdout",
     "output_type": "stream",
     "text": [
      "EarlyStopping counter: 1 out of 6\n",
      "EarlyStopping counter: 1 out of 6\n",
      "EarlyStopping counter: 1 out of 6\n",
      "EarlyStopping counter: 1 out of 6\n",
      "EarlyStopping counter: 1 out of 6\n",
      "EarlyStopping counter: 1 out of 6\n",
      "EarlyStopping counter: 1 out of 6\n",
      "EarlyStopping counter: 1 out of 6\n",
      "EarlyStopping counter: 1 out of 6\n",
      "EarlyStopping counter: 2 out of 6\n",
      "EarlyStopping counter: 1 out of 6\n",
      "EarlyStopping counter: 1 out of 6\n",
      "EarlyStopping counter: 2 out of 6\n",
      "EarlyStopping counter: 1 out of 6\n",
      "EarlyStopping counter: 1 out of 6\n",
      "EarlyStopping counter: 2 out of 6\n",
      "EarlyStopping counter: 1 out of 6\n",
      "EarlyStopping counter: 1 out of 6\n",
      "EarlyStopping counter: 1 out of 6\n",
      "EarlyStopping counter: 1 out of 6\n",
      "EarlyStopping counter: 1 out of 6\n"
     ]
    },
    {
     "name": "stderr",
     "output_type": "stream",
     "text": [
      "\u001b[32m[I 2021-08-04 22:26:23,833]\u001b[0m Trial 2 finished with value: 0.5345055139441759 and parameters: {'n_layers': 2, 'n_units_l0': 32, 'dropout_l0': 0.3, 'n_units_l1': 128, 'dropout_l1': 0, 'optimizer': 'AdamW', 'lr': 5.4004392220667274e-05, 'weight_decay': 0.08339957165551554}. Best is trial 0 with value: 0.560174296600229.\u001b[0m\n"
     ]
    },
    {
     "name": "stdout",
     "output_type": "stream",
     "text": [
      "Study statistics: \n",
      "  Number of finished trials:  3\n",
      "  Number of pruned trials:  0\n",
      "  Number of complete trials:  3\n",
      "Best trial:\n",
      "  Value:  0.560174296600229\n",
      "  Params: \n",
      "    dropout_l0: 0.4\n",
      "    dropout_l1: 0.4\n",
      "    dropout_l2: 0\n",
      "    lr: 0.0013929801973739735\n",
      "    n_layers: 3\n",
      "    n_units_l0: 256\n",
      "    n_units_l1: 32\n",
      "    n_units_l2: 64\n",
      "    optimizer: Adamax\n",
      "    weight_decay: 0.00018655709292965324\n",
      "\n",
      "===============> MODEL TESTING\n"
     ]
    },
    {
     "data": {
      "application/vnd.jupyter.widget-view+json": {
       "model_id": "fd02e8e1a1324d3c9c65234e519f6ef9",
       "version_major": 2,
       "version_minor": 0
      },
      "text/plain": [
       "Epochs:   0%|          | 0/100 [00:00<?, ?it/s]"
      ]
     },
     "metadata": {},
     "output_type": "display_data"
    },
    {
     "name": "stdout",
     "output_type": "stream",
     "text": [
      "EarlyStopping counter: 1 out of 6\n",
      "EarlyStopping counter: 1 out of 6\n",
      "EarlyStopping counter: 2 out of 6\n",
      "EarlyStopping counter: 1 out of 6\n",
      "EarlyStopping counter: 2 out of 6\n",
      "EarlyStopping counter: 3 out of 6\n",
      "EarlyStopping counter: 1 out of 6\n",
      "EarlyStopping counter: 2 out of 6\n",
      "EarlyStopping counter: 1 out of 6\n",
      "EarlyStopping counter: 2 out of 6\n",
      "EarlyStopping counter: 3 out of 6\n",
      "EarlyStopping counter: 4 out of 6\n",
      "EarlyStopping counter: 5 out of 6\n"
     ]
    },
    {
     "name": "stderr",
     "output_type": "stream",
     "text": [
      "/Users/Niki/Prediction-of-Active-and-Inactive-Regulatory-Regions-with-Embracenet-Multimodal-Neural-Network-/BIOINF_tesi/models/utils/training_models.py:317: ExperimentalWarning: PatientPruner is experimental (supported from v2.8.0). The interface can change in the future.\n",
      "  pruner=optuna.pruners.PatientPruner(optuna.pruners.MedianPruner(), patience=2),\n",
      "/Users/Niki/Prediction-of-Active-and-Inactive-Regulatory-Regions-with-Embracenet-Multimodal-Neural-Network-/BIOINF_tesi/models/utils/training_models.py:319: ExperimentalWarning: BoTorchSampler is experimental (supported from v2.4.0). The interface can change in the future.\n",
      "  sampler=BoTorchSampler())\n",
      "\u001b[32m[I 2021-08-04 22:56:41,123]\u001b[0m A new study created in RDB with name: GM12878_inactive_E_vs_inactive_P_FFNN_1_2\u001b[0m\n"
     ]
    },
    {
     "name": "stdout",
     "output_type": "stream",
     "text": [
      "EarlyStopping counter: 6 out of 6\n",
      "Early stopping the training\n",
      "AUPRC test score: 0.5425129244092971\n",
      "\n",
      "\n",
      ">>> ITERATION N. 2\n",
      "\n",
      "===============> HYPERPARAMETERS TUNING\n"
     ]
    },
    {
     "data": {
      "application/vnd.jupyter.widget-view+json": {
       "model_id": "8135235ac19242648cc1418c4b7e930c",
       "version_major": 2,
       "version_minor": 0
      },
      "text/plain": [
       "Epochs:   0%|          | 0/100 [00:00<?, ?it/s]"
      ]
     },
     "metadata": {},
     "output_type": "display_data"
    },
    {
     "name": "stdout",
     "output_type": "stream",
     "text": [
      "EarlyStopping counter: 1 out of 6\n",
      "EarlyStopping counter: 2 out of 6\n",
      "EarlyStopping counter: 3 out of 6\n",
      "EarlyStopping counter: 1 out of 6\n",
      "EarlyStopping counter: 2 out of 6\n",
      "EarlyStopping counter: 3 out of 6\n",
      "EarlyStopping counter: 4 out of 6\n",
      "EarlyStopping counter: 5 out of 6\n"
     ]
    },
    {
     "name": "stderr",
     "output_type": "stream",
     "text": [
      "\u001b[32m[I 2021-08-04 23:05:10,990]\u001b[0m Trial 0 finished with value: 0.49639658720669017 and parameters: {'n_layers': 3, 'n_units_l0': 128, 'dropout_l0': 0.4, 'n_units_l1': 64, 'dropout_l1': 0.4, 'n_units_l2': 4, 'dropout_l2': 0, 'optimizer': 'AdamW', 'lr': 0.030021474306546364, 'weight_decay': 0.016422670803286663}. Best is trial 0 with value: 0.49639658720669017.\u001b[0m\n"
     ]
    },
    {
     "name": "stdout",
     "output_type": "stream",
     "text": [
      "EarlyStopping counter: 6 out of 6\n",
      "Early stopping the training\n"
     ]
    },
    {
     "data": {
      "application/vnd.jupyter.widget-view+json": {
       "model_id": "09c54f03a7db4c0685947ded00e22b11",
       "version_major": 2,
       "version_minor": 0
      },
      "text/plain": [
       "Epochs:   0%|          | 0/100 [00:00<?, ?it/s]"
      ]
     },
     "metadata": {},
     "output_type": "display_data"
    },
    {
     "name": "stdout",
     "output_type": "stream",
     "text": [
      "EarlyStopping counter: 1 out of 6\n",
      "EarlyStopping counter: 1 out of 6\n",
      "EarlyStopping counter: 2 out of 6\n",
      "EarlyStopping counter: 1 out of 6\n",
      "EarlyStopping counter: 2 out of 6\n",
      "EarlyStopping counter: 3 out of 6\n",
      "EarlyStopping counter: 4 out of 6\n",
      "EarlyStopping counter: 1 out of 6\n",
      "EarlyStopping counter: 1 out of 6\n",
      "EarlyStopping counter: 1 out of 6\n",
      "EarlyStopping counter: 1 out of 6\n",
      "EarlyStopping counter: 1 out of 6\n",
      "EarlyStopping counter: 2 out of 6\n",
      "EarlyStopping counter: 3 out of 6\n",
      "EarlyStopping counter: 1 out of 6\n",
      "EarlyStopping counter: 2 out of 6\n",
      "EarlyStopping counter: 3 out of 6\n",
      "EarlyStopping counter: 4 out of 6\n",
      "EarlyStopping counter: 5 out of 6\n",
      "EarlyStopping counter: 1 out of 6\n",
      "EarlyStopping counter: 2 out of 6\n",
      "EarlyStopping counter: 1 out of 6\n",
      "EarlyStopping counter: 2 out of 6\n",
      "EarlyStopping counter: 3 out of 6\n",
      "EarlyStopping counter: 4 out of 6\n",
      "EarlyStopping counter: 5 out of 6\n"
     ]
    },
    {
     "name": "stderr",
     "output_type": "stream",
     "text": [
      "\u001b[32m[I 2021-08-04 23:46:12,610]\u001b[0m Trial 1 finished with value: 0.3770136504444903 and parameters: {'n_layers': 2, 'n_units_l0': 32, 'dropout_l0': 0.4, 'n_units_l1': 16, 'dropout_l1': 0, 'optimizer': 'Adamax', 'lr': 9.257203033659858e-05, 'weight_decay': 0.014264359606638575}. Best is trial 0 with value: 0.49639658720669017.\u001b[0m\n"
     ]
    },
    {
     "name": "stdout",
     "output_type": "stream",
     "text": [
      "EarlyStopping counter: 6 out of 6\n",
      "Early stopping the training\n"
     ]
    },
    {
     "data": {
      "application/vnd.jupyter.widget-view+json": {
       "model_id": "749051f5105d44bda8e71d4de5ad89d7",
       "version_major": 2,
       "version_minor": 0
      },
      "text/plain": [
       "Epochs:   0%|          | 0/100 [00:00<?, ?it/s]"
      ]
     },
     "metadata": {},
     "output_type": "display_data"
    },
    {
     "name": "stdout",
     "output_type": "stream",
     "text": [
      "EarlyStopping counter: 1 out of 6\n",
      "EarlyStopping counter: 1 out of 6\n",
      "EarlyStopping counter: 1 out of 6\n",
      "EarlyStopping counter: 1 out of 6\n",
      "EarlyStopping counter: 1 out of 6\n",
      "EarlyStopping counter: 1 out of 6\n",
      "EarlyStopping counter: 1 out of 6\n",
      "EarlyStopping counter: 1 out of 6\n",
      "EarlyStopping counter: 1 out of 6\n",
      "EarlyStopping counter: 1 out of 6\n",
      "EarlyStopping counter: 1 out of 6\n",
      "EarlyStopping counter: 1 out of 6\n"
     ]
    },
    {
     "name": "stderr",
     "output_type": "stream",
     "text": [
      "\u001b[32m[I 2021-08-05 00:45:00,893]\u001b[0m Trial 2 finished with value: 0.5145198402127765 and parameters: {'n_layers': 2, 'n_units_l0': 32, 'dropout_l0': 0, 'n_units_l1': 128, 'dropout_l1': 0, 'optimizer': 'Adam', 'lr': 1.6930721624418487e-05, 'weight_decay': 0.0002373594251561035}. Best is trial 2 with value: 0.5145198402127765.\u001b[0m\n"
     ]
    },
    {
     "name": "stdout",
     "output_type": "stream",
     "text": [
      "Study statistics: \n",
      "  Number of finished trials:  3\n",
      "  Number of pruned trials:  0\n",
      "  Number of complete trials:  3\n",
      "Best trial:\n",
      "  Value:  0.5145198402127765\n",
      "  Params: \n",
      "    dropout_l0: 0\n",
      "    dropout_l1: 0\n",
      "    lr: 1.6930721624418487e-05\n",
      "    n_layers: 2\n",
      "    n_units_l0: 32\n",
      "    n_units_l1: 128\n",
      "    optimizer: Adam\n",
      "    weight_decay: 0.0002373594251561035\n",
      "\n",
      "===============> MODEL TESTING\n"
     ]
    },
    {
     "data": {
      "application/vnd.jupyter.widget-view+json": {
       "model_id": "1cbd9ad5aeb149db8f1dbf4b4af4d05e",
       "version_major": 2,
       "version_minor": 0
      },
      "text/plain": [
       "Epochs:   0%|          | 0/100 [00:00<?, ?it/s]"
      ]
     },
     "metadata": {},
     "output_type": "display_data"
    },
    {
     "name": "stdout",
     "output_type": "stream",
     "text": [
      "EarlyStopping counter: 1 out of 6\n",
      "EarlyStopping counter: 1 out of 6\n",
      "EarlyStopping counter: 1 out of 6\n",
      "EarlyStopping counter: 1 out of 6\n",
      "EarlyStopping counter: 1 out of 6\n",
      "EarlyStopping counter: 2 out of 6\n",
      "EarlyStopping counter: 3 out of 6\n",
      "EarlyStopping counter: 1 out of 6\n",
      "EarlyStopping counter: 2 out of 6\n",
      "EarlyStopping counter: 1 out of 6\n",
      "EarlyStopping counter: 2 out of 6\n",
      "EarlyStopping counter: 3 out of 6\n",
      "EarlyStopping counter: 1 out of 6\n",
      "EarlyStopping counter: 2 out of 6\n",
      "EarlyStopping counter: 1 out of 6\n",
      "EarlyStopping counter: 1 out of 6\n",
      "EarlyStopping counter: 1 out of 6\n",
      "EarlyStopping counter: 1 out of 6\n",
      "EarlyStopping counter: 2 out of 6\n",
      "EarlyStopping counter: 1 out of 6\n",
      "EarlyStopping counter: 1 out of 6\n",
      "EarlyStopping counter: 2 out of 6\n",
      "EarlyStopping counter: 3 out of 6\n",
      "EarlyStopping counter: 1 out of 6\n",
      "EarlyStopping counter: 2 out of 6\n",
      "EarlyStopping counter: 1 out of 6\n",
      "EarlyStopping counter: 1 out of 6\n",
      "EarlyStopping counter: 1 out of 6\n",
      "EarlyStopping counter: 2 out of 6\n",
      "EarlyStopping counter: 1 out of 6\n",
      "EarlyStopping counter: 2 out of 6\n",
      "EarlyStopping counter: 1 out of 6\n",
      "EarlyStopping counter: 2 out of 6\n",
      "EarlyStopping counter: 3 out of 6\n",
      "EarlyStopping counter: 4 out of 6\n",
      "EarlyStopping counter: 1 out of 6\n",
      "EarlyStopping counter: 2 out of 6\n"
     ]
    },
    {
     "name": "stderr",
     "output_type": "stream",
     "text": [
      "/Users/Niki/Prediction-of-Active-and-Inactive-Regulatory-Regions-with-Embracenet-Multimodal-Neural-Network-/BIOINF_tesi/models/utils/training_models.py:317: ExperimentalWarning: PatientPruner is experimental (supported from v2.8.0). The interface can change in the future.\n",
      "  pruner=optuna.pruners.PatientPruner(optuna.pruners.MedianPruner(), patience=2),\n",
      "/Users/Niki/Prediction-of-Active-and-Inactive-Regulatory-Regions-with-Embracenet-Multimodal-Neural-Network-/BIOINF_tesi/models/utils/training_models.py:319: ExperimentalWarning: BoTorchSampler is experimental (supported from v2.4.0). The interface can change in the future.\n",
      "  sampler=BoTorchSampler())\n",
      "\u001b[32m[I 2021-08-05 02:13:05,029]\u001b[0m A new study created in RDB with name: GM12878_inactive_E_vs_inactive_P_FFNN_1_2_3\u001b[0m\n"
     ]
    },
    {
     "name": "stdout",
     "output_type": "stream",
     "text": [
      "EarlyStopping counter: 1 out of 6\n",
      "AUPRC test score: 0.5253389368754463\n",
      "\n",
      "\n",
      ">>> ITERATION N. 3\n",
      "\n",
      "===============> HYPERPARAMETERS TUNING\n"
     ]
    },
    {
     "data": {
      "application/vnd.jupyter.widget-view+json": {
       "model_id": "8149663a06054b7fb516434e09bf81ef",
       "version_major": 2,
       "version_minor": 0
      },
      "text/plain": [
       "Epochs:   0%|          | 0/100 [00:00<?, ?it/s]"
      ]
     },
     "metadata": {},
     "output_type": "display_data"
    },
    {
     "name": "stdout",
     "output_type": "stream",
     "text": [
      "EarlyStopping counter: 1 out of 6\n",
      "EarlyStopping counter: 2 out of 6\n",
      "EarlyStopping counter: 1 out of 6\n",
      "EarlyStopping counter: 1 out of 6\n",
      "EarlyStopping counter: 1 out of 6\n",
      "EarlyStopping counter: 1 out of 6\n",
      "EarlyStopping counter: 1 out of 6\n",
      "EarlyStopping counter: 2 out of 6\n",
      "EarlyStopping counter: 3 out of 6\n",
      "EarlyStopping counter: 1 out of 6\n",
      "EarlyStopping counter: 2 out of 6\n",
      "EarlyStopping counter: 3 out of 6\n",
      "EarlyStopping counter: 4 out of 6\n",
      "EarlyStopping counter: 5 out of 6\n"
     ]
    },
    {
     "name": "stderr",
     "output_type": "stream",
     "text": [
      "\u001b[32m[I 2021-08-05 02:35:56,955]\u001b[0m Trial 0 finished with value: 0.5510761089095562 and parameters: {'n_layers': 1, 'n_units_l0': 128, 'dropout_l0': 0, 'optimizer': 'AdamW', 'lr': 0.0008003793572567478, 'weight_decay': 0.0025786097702936153}. Best is trial 0 with value: 0.5510761089095562.\u001b[0m\n"
     ]
    },
    {
     "name": "stdout",
     "output_type": "stream",
     "text": [
      "EarlyStopping counter: 6 out of 6\n",
      "Early stopping the training\n"
     ]
    },
    {
     "data": {
      "application/vnd.jupyter.widget-view+json": {
       "model_id": "59c149b551bd42fcb36533d6e8d940f2",
       "version_major": 2,
       "version_minor": 0
      },
      "text/plain": [
       "Epochs:   0%|          | 0/100 [00:00<?, ?it/s]"
      ]
     },
     "metadata": {},
     "output_type": "display_data"
    },
    {
     "name": "stdout",
     "output_type": "stream",
     "text": [
      "EarlyStopping counter: 1 out of 6\n",
      "EarlyStopping counter: 1 out of 6\n",
      "EarlyStopping counter: 1 out of 6\n",
      "EarlyStopping counter: 1 out of 6\n",
      "EarlyStopping counter: 2 out of 6\n",
      "EarlyStopping counter: 1 out of 6\n",
      "EarlyStopping counter: 1 out of 6\n",
      "EarlyStopping counter: 2 out of 6\n",
      "EarlyStopping counter: 3 out of 6\n",
      "EarlyStopping counter: 4 out of 6\n",
      "EarlyStopping counter: 5 out of 6\n",
      "EarlyStopping counter: 1 out of 6\n",
      "EarlyStopping counter: 2 out of 6\n",
      "EarlyStopping counter: 1 out of 6\n",
      "EarlyStopping counter: 2 out of 6\n",
      "EarlyStopping counter: 3 out of 6\n",
      "EarlyStopping counter: 1 out of 6\n",
      "EarlyStopping counter: 2 out of 6\n",
      "EarlyStopping counter: 3 out of 6\n",
      "EarlyStopping counter: 4 out of 6\n",
      "EarlyStopping counter: 5 out of 6\n",
      "EarlyStopping counter: 1 out of 6\n",
      "EarlyStopping counter: 2 out of 6\n",
      "EarlyStopping counter: 1 out of 6\n",
      "EarlyStopping counter: 1 out of 6\n",
      "EarlyStopping counter: 2 out of 6\n",
      "EarlyStopping counter: 1 out of 6\n",
      "EarlyStopping counter: 2 out of 6\n",
      "EarlyStopping counter: 1 out of 6\n",
      "EarlyStopping counter: 2 out of 6\n",
      "EarlyStopping counter: 3 out of 6\n",
      "EarlyStopping counter: 1 out of 6\n",
      "EarlyStopping counter: 2 out of 6\n",
      "EarlyStopping counter: 3 out of 6\n",
      "EarlyStopping counter: 4 out of 6\n",
      "EarlyStopping counter: 1 out of 6\n",
      "EarlyStopping counter: 2 out of 6\n",
      "EarlyStopping counter: 3 out of 6\n",
      "EarlyStopping counter: 4 out of 6\n",
      "EarlyStopping counter: 5 out of 6\n"
     ]
    },
    {
     "name": "stderr",
     "output_type": "stream",
     "text": [
      "\u001b[32m[I 2021-08-05 03:21:18,297]\u001b[0m Trial 1 finished with value: 0.5544526573266262 and parameters: {'n_layers': 2, 'n_units_l0': 32, 'dropout_l0': 0.3, 'n_units_l1': 32, 'dropout_l1': 0.4, 'optimizer': 'Adamax', 'lr': 0.0018307012486783948, 'weight_decay': 0.0001161854439112436}. Best is trial 1 with value: 0.5544526573266262.\u001b[0m\n"
     ]
    },
    {
     "name": "stdout",
     "output_type": "stream",
     "text": [
      "EarlyStopping counter: 6 out of 6\n",
      "Early stopping the training\n"
     ]
    },
    {
     "data": {
      "application/vnd.jupyter.widget-view+json": {
       "model_id": "8f6b367ee3c147c481072364e895c71b",
       "version_major": 2,
       "version_minor": 0
      },
      "text/plain": [
       "Epochs:   0%|          | 0/100 [00:00<?, ?it/s]"
      ]
     },
     "metadata": {},
     "output_type": "display_data"
    },
    {
     "name": "stdout",
     "output_type": "stream",
     "text": [
      "EarlyStopping counter: 1 out of 6\n",
      "EarlyStopping counter: 1 out of 6\n",
      "EarlyStopping counter: 1 out of 6\n",
      "EarlyStopping counter: 1 out of 6\n",
      "EarlyStopping counter: 1 out of 6\n",
      "EarlyStopping counter: 1 out of 6\n",
      "EarlyStopping counter: 1 out of 6\n",
      "EarlyStopping counter: 1 out of 6\n",
      "EarlyStopping counter: 1 out of 6\n",
      "EarlyStopping counter: 1 out of 6\n",
      "EarlyStopping counter: 2 out of 6\n",
      "EarlyStopping counter: 3 out of 6\n",
      "EarlyStopping counter: 4 out of 6\n",
      "EarlyStopping counter: 1 out of 6\n"
     ]
    },
    {
     "name": "stderr",
     "output_type": "stream",
     "text": [
      "\u001b[32m[I 2021-08-05 04:20:43,602]\u001b[0m Trial 2 finished with value: 0.536056227008234 and parameters: {'n_layers': 2, 'n_units_l0': 128, 'dropout_l0': 0.4, 'n_units_l1': 32, 'dropout_l1': 0.3, 'optimizer': 'AdamW', 'lr': 6.213063009400033e-05, 'weight_decay': 0.00142160682127672}. Best is trial 1 with value: 0.5544526573266262.\u001b[0m\n"
     ]
    },
    {
     "name": "stdout",
     "output_type": "stream",
     "text": [
      "Study statistics: \n",
      "  Number of finished trials:  3\n",
      "  Number of pruned trials:  0\n",
      "  Number of complete trials:  3\n",
      "Best trial:\n",
      "  Value:  0.5544526573266262\n",
      "  Params: \n",
      "    dropout_l0: 0.3\n",
      "    dropout_l1: 0.4\n",
      "    lr: 0.0018307012486783948\n",
      "    n_layers: 2\n",
      "    n_units_l0: 32\n",
      "    n_units_l1: 32\n",
      "    optimizer: Adamax\n",
      "    weight_decay: 0.0001161854439112436\n",
      "\n",
      "===============> MODEL TESTING\n"
     ]
    },
    {
     "data": {
      "application/vnd.jupyter.widget-view+json": {
       "model_id": "fb3e38dc19fb4dcb8ed5727d25bdcda0",
       "version_major": 2,
       "version_minor": 0
      },
      "text/plain": [
       "Epochs:   0%|          | 0/100 [00:00<?, ?it/s]"
      ]
     },
     "metadata": {},
     "output_type": "display_data"
    },
    {
     "name": "stdout",
     "output_type": "stream",
     "text": [
      "EarlyStopping counter: 1 out of 6\n",
      "EarlyStopping counter: 1 out of 6\n",
      "EarlyStopping counter: 1 out of 6\n",
      "EarlyStopping counter: 2 out of 6\n",
      "EarlyStopping counter: 3 out of 6\n",
      "EarlyStopping counter: 4 out of 6\n",
      "EarlyStopping counter: 1 out of 6\n",
      "EarlyStopping counter: 1 out of 6\n",
      "EarlyStopping counter: 1 out of 6\n",
      "EarlyStopping counter: 1 out of 6\n",
      "EarlyStopping counter: 1 out of 6\n",
      "EarlyStopping counter: 2 out of 6\n",
      "EarlyStopping counter: 1 out of 6\n",
      "EarlyStopping counter: 2 out of 6\n",
      "EarlyStopping counter: 3 out of 6\n",
      "EarlyStopping counter: 4 out of 6\n",
      "EarlyStopping counter: 5 out of 6\n",
      "EarlyStopping counter: 1 out of 6\n",
      "EarlyStopping counter: 2 out of 6\n",
      "EarlyStopping counter: 3 out of 6\n",
      "EarlyStopping counter: 4 out of 6\n",
      "EarlyStopping counter: 5 out of 6\n",
      "EarlyStopping counter: 6 out of 6\n",
      "Early stopping the training\n",
      "AUPRC test score: 0.5394492244485198\n",
      "\n",
      "\n",
      "\n",
      "3-FOLD CROSS-VALIDATION AUPRC TEST SCORE: 0.53577\n"
     ]
    }
   ],
   "source": [
    "kf_CV = Kfold_CV()\n",
    "\n",
    "kf_CV(build_dataloader_pipeline = pipe_data_load,\n",
    "                num_epochs = 100,\n",
    "                n_folds=3,\n",
    "                cell_line=cell_line,\n",
    "                sequence=False,\n",
    "                augmentation=False,\n",
    "                model = model,\n",
    "                device = device,\n",
    "                study_name = f'{cell_line}_{task}_{model.__name__}',\n",
    "                hp_model_path = f'{cell_line}_{task}_{model.__name__}_HP.pt',\n",
    "                test_model_path = f'{cell_line}_{task}_{model.__name__}_TEST.pt')"
   ]
  },
  {
   "cell_type": "code",
   "execution_count": 30,
   "metadata": {},
   "outputs": [],
   "source": [
    "results_dict[cell_line][task][model.__name__] = kf_CV.scores_dict"
   ]
  },
  {
   "cell_type": "code",
   "execution_count": 31,
   "metadata": {},
   "outputs": [],
   "source": [
    "with open ('results_dict.pickle', 'wb') as fout:\n",
    "    pickle.dump(OrderedDict(results_dict), fout)"
   ]
  },
  {
   "cell_type": "markdown",
   "metadata": {},
   "source": [
    "---\n",
    "### 2. CNN"
   ]
  },
  {
   "cell_type": "code",
   "execution_count": 58,
   "metadata": {},
   "outputs": [],
   "source": [
    "model=CNN"
   ]
  },
  {
   "cell_type": "code",
   "execution_count": 59,
   "metadata": {},
   "outputs": [
    {
     "name": "stderr",
     "output_type": "stream",
     "text": [
      "/Users/Niki/Prediction-of-Active-and-Inactive-Regulatory-Regions-with-Embracenet-Multimodal-Neural-Network-/BIOINF_tesi/models/utils/training_models.py:317: ExperimentalWarning: PatientPruner is experimental (supported from v2.8.0). The interface can change in the future.\n",
      "  pruner=optuna.pruners.PatientPruner(optuna.pruners.MedianPruner(), patience=2),\n",
      "/Users/Niki/Prediction-of-Active-and-Inactive-Regulatory-Regions-with-Embracenet-Multimodal-Neural-Network-/BIOINF_tesi/models/utils/training_models.py:319: ExperimentalWarning: BoTorchSampler is experimental (supported from v2.4.0). The interface can change in the future.\n",
      "  sampler=BoTorchSampler())\n",
      "\u001b[32m[I 2021-08-06 03:31:55,616]\u001b[0m A new study created in RDB with name: GM12878_inactive_E_vs_inactive_P_CNN_1\u001b[0m\n"
     ]
    },
    {
     "name": "stdout",
     "output_type": "stream",
     "text": [
      ">>> ITERATION N. 1\n",
      "\n",
      "===============> HYPERPARAMETERS TUNING\n"
     ]
    },
    {
     "data": {
      "application/vnd.jupyter.widget-view+json": {
       "model_id": "6d6e77f3c5c64c36a11e282ed4fc8834",
       "version_major": 2,
       "version_minor": 0
      },
      "text/plain": [
       "Epochs:   0%|          | 0/100 [00:00<?, ?it/s]"
      ]
     },
     "metadata": {},
     "output_type": "display_data"
    },
    {
     "name": "stdout",
     "output_type": "stream",
     "text": [
      "EarlyStopping counter: 1 out of 6\n",
      "EarlyStopping counter: 2 out of 6\n",
      "EarlyStopping counter: 1 out of 6\n",
      "EarlyStopping counter: 1 out of 6\n",
      "EarlyStopping counter: 2 out of 6\n",
      "EarlyStopping counter: 1 out of 6\n",
      "EarlyStopping counter: 2 out of 6\n",
      "EarlyStopping counter: 1 out of 6\n",
      "EarlyStopping counter: 1 out of 6\n",
      "EarlyStopping counter: 2 out of 6\n",
      "EarlyStopping counter: 1 out of 6\n",
      "EarlyStopping counter: 2 out of 6\n",
      "EarlyStopping counter: 3 out of 6\n",
      "EarlyStopping counter: 1 out of 6\n",
      "EarlyStopping counter: 1 out of 6\n",
      "EarlyStopping counter: 1 out of 6\n",
      "EarlyStopping counter: 2 out of 6\n",
      "EarlyStopping counter: 3 out of 6\n",
      "EarlyStopping counter: 4 out of 6\n",
      "EarlyStopping counter: 1 out of 6\n",
      "EarlyStopping counter: 1 out of 6\n",
      "EarlyStopping counter: 1 out of 6\n",
      "EarlyStopping counter: 1 out of 6\n",
      "EarlyStopping counter: 1 out of 6\n",
      "EarlyStopping counter: 2 out of 6\n",
      "EarlyStopping counter: 1 out of 6\n",
      "EarlyStopping counter: 2 out of 6\n",
      "EarlyStopping counter: 1 out of 6\n",
      "EarlyStopping counter: 2 out of 6\n",
      "EarlyStopping counter: 3 out of 6\n",
      "EarlyStopping counter: 1 out of 6\n",
      "EarlyStopping counter: 1 out of 6\n",
      "EarlyStopping counter: 2 out of 6\n",
      "EarlyStopping counter: 1 out of 6\n",
      "EarlyStopping counter: 1 out of 6\n",
      "EarlyStopping counter: 1 out of 6\n",
      "EarlyStopping counter: 1 out of 6\n",
      "EarlyStopping counter: 2 out of 6\n",
      "EarlyStopping counter: 3 out of 6\n"
     ]
    },
    {
     "name": "stderr",
     "output_type": "stream",
     "text": [
      "\u001b[32m[I 2021-08-06 06:17:52,562]\u001b[0m Trial 0 finished with value: 0.5277078961336715 and parameters: {'n_layers': 1, 'out_channels_l0': 16, 'kernel_size_l0': 15, 'dropout_l0': 0.4, 'optimizer': 'Adamax', 'lr': 0.00014929663363576575, 'weight_decay': 0.000651048584459057}. Best is trial 0 with value: 0.5277078961336715.\u001b[0m\n"
     ]
    },
    {
     "data": {
      "application/vnd.jupyter.widget-view+json": {
       "model_id": "9c04a2e4e65f4743967490663efe0947",
       "version_major": 2,
       "version_minor": 0
      },
      "text/plain": [
       "Epochs:   0%|          | 0/100 [00:00<?, ?it/s]"
      ]
     },
     "metadata": {},
     "output_type": "display_data"
    },
    {
     "name": "stdout",
     "output_type": "stream",
     "text": [
      "EarlyStopping counter: 1 out of 6\n",
      "EarlyStopping counter: 2 out of 6\n",
      "EarlyStopping counter: 1 out of 6\n",
      "EarlyStopping counter: 2 out of 6\n",
      "EarlyStopping counter: 1 out of 6\n",
      "EarlyStopping counter: 2 out of 6\n",
      "EarlyStopping counter: 3 out of 6\n",
      "EarlyStopping counter: 4 out of 6\n",
      "EarlyStopping counter: 5 out of 6\n"
     ]
    },
    {
     "name": "stderr",
     "output_type": "stream",
     "text": [
      "\u001b[32m[I 2021-08-06 07:46:30,775]\u001b[0m Trial 1 finished with value: 0.4673993635918166 and parameters: {'n_layers': 1, 'out_channels_l0': 64, 'kernel_size_l0': 15, 'dropout_l0': 0, 'optimizer': 'AdamW', 'lr': 0.031146303562055475, 'weight_decay': 0.005526070146434278}. Best is trial 0 with value: 0.5277078961336715.\u001b[0m\n"
     ]
    },
    {
     "name": "stdout",
     "output_type": "stream",
     "text": [
      "EarlyStopping counter: 6 out of 6\n",
      "Early stopping the training\n"
     ]
    },
    {
     "data": {
      "application/vnd.jupyter.widget-view+json": {
       "model_id": "316a22abc1324be0bc0abbb23ef4281e",
       "version_major": 2,
       "version_minor": 0
      },
      "text/plain": [
       "Epochs:   0%|          | 0/100 [00:00<?, ?it/s]"
      ]
     },
     "metadata": {},
     "output_type": "display_data"
    },
    {
     "name": "stdout",
     "output_type": "stream",
     "text": [
      "EarlyStopping counter: 1 out of 6\n",
      "EarlyStopping counter: 2 out of 6\n",
      "EarlyStopping counter: 1 out of 6\n",
      "EarlyStopping counter: 1 out of 6\n",
      "EarlyStopping counter: 2 out of 6\n",
      "EarlyStopping counter: 3 out of 6\n",
      "EarlyStopping counter: 4 out of 6\n",
      "EarlyStopping counter: 5 out of 6\n"
     ]
    },
    {
     "name": "stderr",
     "output_type": "stream",
     "text": [
      "\u001b[32m[I 2021-08-06 08:11:45,528]\u001b[0m Trial 2 finished with value: 0.37549415725886304 and parameters: {'n_layers': 3, 'out_channels_l0': 64, 'kernel_size_l0': 5, 'dropout_l0': 0.3, 'out_channels_l1': 32, 'kernel_size_l1': 5, 'dropout_l1': 0, 'out_channels_l2': 64, 'kernel_size_l2': 5, 'dropout_l2': 0.5, 'optimizer': 'Adamax', 'lr': 0.033366685716583425, 'weight_decay': 0.020010261347102917}. Best is trial 0 with value: 0.5277078961336715.\u001b[0m\n"
     ]
    },
    {
     "name": "stdout",
     "output_type": "stream",
     "text": [
      "EarlyStopping counter: 6 out of 6\n",
      "Early stopping the training\n",
      "Study statistics: \n",
      "  Number of finished trials:  3\n",
      "  Number of pruned trials:  0\n",
      "  Number of complete trials:  3\n",
      "Best trial:\n",
      "  Value:  0.5277078961336715\n",
      "  Params: \n",
      "    dropout_l0: 0.4\n",
      "    kernel_size_l0: 15\n",
      "    lr: 0.00014929663363576575\n",
      "    n_layers: 1\n",
      "    optimizer: Adamax\n",
      "    out_channels_l0: 16\n",
      "    weight_decay: 0.000651048584459057\n",
      "\n",
      "===============> MODEL TESTING\n"
     ]
    },
    {
     "data": {
      "application/vnd.jupyter.widget-view+json": {
       "model_id": "9dc66d54fc11470d9027189c5ac51e48",
       "version_major": 2,
       "version_minor": 0
      },
      "text/plain": [
       "Epochs:   0%|          | 0/100 [00:00<?, ?it/s]"
      ]
     },
     "metadata": {},
     "output_type": "display_data"
    },
    {
     "name": "stdout",
     "output_type": "stream",
     "text": [
      "EarlyStopping counter: 1 out of 6\n",
      "EarlyStopping counter: 1 out of 6\n",
      "EarlyStopping counter: 2 out of 6\n",
      "EarlyStopping counter: 1 out of 6\n",
      "EarlyStopping counter: 1 out of 6\n",
      "EarlyStopping counter: 1 out of 6\n",
      "EarlyStopping counter: 1 out of 6\n",
      "EarlyStopping counter: 2 out of 6\n",
      "EarlyStopping counter: 3 out of 6\n",
      "EarlyStopping counter: 1 out of 6\n",
      "EarlyStopping counter: 1 out of 6\n",
      "EarlyStopping counter: 2 out of 6\n",
      "EarlyStopping counter: 1 out of 6\n",
      "EarlyStopping counter: 2 out of 6\n",
      "EarlyStopping counter: 1 out of 6\n",
      "EarlyStopping counter: 1 out of 6\n",
      "EarlyStopping counter: 2 out of 6\n",
      "EarlyStopping counter: 3 out of 6\n",
      "EarlyStopping counter: 1 out of 6\n",
      "EarlyStopping counter: 1 out of 6\n",
      "EarlyStopping counter: 2 out of 6\n",
      "EarlyStopping counter: 3 out of 6\n",
      "EarlyStopping counter: 1 out of 6\n",
      "EarlyStopping counter: 1 out of 6\n",
      "EarlyStopping counter: 2 out of 6\n",
      "EarlyStopping counter: 1 out of 6\n",
      "EarlyStopping counter: 2 out of 6\n",
      "EarlyStopping counter: 1 out of 6\n",
      "EarlyStopping counter: 1 out of 6\n",
      "EarlyStopping counter: 1 out of 6\n",
      "EarlyStopping counter: 2 out of 6\n",
      "EarlyStopping counter: 3 out of 6\n",
      "EarlyStopping counter: 4 out of 6\n",
      "EarlyStopping counter: 1 out of 6\n",
      "EarlyStopping counter: 2 out of 6\n",
      "EarlyStopping counter: 3 out of 6\n",
      "EarlyStopping counter: 4 out of 6\n",
      "EarlyStopping counter: 5 out of 6\n"
     ]
    },
    {
     "name": "stderr",
     "output_type": "stream",
     "text": [
      "/Users/Niki/Prediction-of-Active-and-Inactive-Regulatory-Regions-with-Embracenet-Multimodal-Neural-Network-/BIOINF_tesi/models/utils/training_models.py:317: ExperimentalWarning: PatientPruner is experimental (supported from v2.8.0). The interface can change in the future.\n",
      "  pruner=optuna.pruners.PatientPruner(optuna.pruners.MedianPruner(), patience=2),\n",
      "/Users/Niki/Prediction-of-Active-and-Inactive-Regulatory-Regions-with-Embracenet-Multimodal-Neural-Network-/BIOINF_tesi/models/utils/training_models.py:319: ExperimentalWarning: BoTorchSampler is experimental (supported from v2.4.0). The interface can change in the future.\n",
      "  sampler=BoTorchSampler())\n",
      "\u001b[32m[I 2021-08-07 12:27:29,716]\u001b[0m A new study created in RDB with name: GM12878_inactive_E_vs_inactive_P_CNN_1_2\u001b[0m\n"
     ]
    },
    {
     "name": "stdout",
     "output_type": "stream",
     "text": [
      "EarlyStopping counter: 6 out of 6\n",
      "Early stopping the training\n",
      "AUPRC test score: 0.5413940003602358\n",
      "\n",
      "\n",
      ">>> ITERATION N. 2\n",
      "\n",
      "===============> HYPERPARAMETERS TUNING\n"
     ]
    },
    {
     "data": {
      "application/vnd.jupyter.widget-view+json": {
       "model_id": "3a4f39132ca744dbb56138d44233fe7b",
       "version_major": 2,
       "version_minor": 0
      },
      "text/plain": [
       "Epochs:   0%|          | 0/100 [00:00<?, ?it/s]"
      ]
     },
     "metadata": {},
     "output_type": "display_data"
    },
    {
     "name": "stdout",
     "output_type": "stream",
     "text": [
      "EarlyStopping counter: 1 out of 6\n",
      "EarlyStopping counter: 2 out of 6\n",
      "EarlyStopping counter: 3 out of 6\n",
      "EarlyStopping counter: 4 out of 6\n",
      "EarlyStopping counter: 5 out of 6\n"
     ]
    },
    {
     "name": "stderr",
     "output_type": "stream",
     "text": [
      "\u001b[32m[I 2021-08-07 13:00:06,740]\u001b[0m Trial 0 finished with value: 0.491085562816515 and parameters: {'n_layers': 2, 'out_channels_l0': 64, 'kernel_size_l0': 15, 'dropout_l0': 0.4, 'out_channels_l1': 64, 'kernel_size_l1': 11, 'dropout_l1': 0, 'optimizer': 'Adam', 'lr': 0.0006597699419764405, 'weight_decay': 0.05797172621838411}. Best is trial 0 with value: 0.491085562816515.\u001b[0m\n"
     ]
    },
    {
     "name": "stdout",
     "output_type": "stream",
     "text": [
      "EarlyStopping counter: 6 out of 6\n",
      "Early stopping the training\n"
     ]
    },
    {
     "data": {
      "application/vnd.jupyter.widget-view+json": {
       "model_id": "3d3dbd261a7045ad9d7456db93415614",
       "version_major": 2,
       "version_minor": 0
      },
      "text/plain": [
       "Epochs:   0%|          | 0/100 [00:00<?, ?it/s]"
      ]
     },
     "metadata": {},
     "output_type": "display_data"
    },
    {
     "name": "stdout",
     "output_type": "stream",
     "text": [
      "EarlyStopping counter: 1 out of 6\n",
      "EarlyStopping counter: 1 out of 6\n",
      "EarlyStopping counter: 2 out of 6\n",
      "EarlyStopping counter: 3 out of 6\n",
      "EarlyStopping counter: 1 out of 6\n",
      "EarlyStopping counter: 2 out of 6\n",
      "EarlyStopping counter: 3 out of 6\n",
      "EarlyStopping counter: 4 out of 6\n",
      "EarlyStopping counter: 5 out of 6\n"
     ]
    },
    {
     "name": "stderr",
     "output_type": "stream",
     "text": [
      "\u001b[32m[I 2021-08-07 13:33:50,305]\u001b[0m Trial 1 finished with value: 0.524474588175772 and parameters: {'n_layers': 2, 'out_channels_l0': 64, 'kernel_size_l0': 11, 'dropout_l0': 0, 'out_channels_l1': 32, 'kernel_size_l1': 5, 'dropout_l1': 0, 'optimizer': 'Adamax', 'lr': 8.236198898223184e-05, 'weight_decay': 0.001521413080893135}. Best is trial 1 with value: 0.524474588175772.\u001b[0m\n"
     ]
    },
    {
     "name": "stdout",
     "output_type": "stream",
     "text": [
      "EarlyStopping counter: 6 out of 6\n",
      "Early stopping the training\n"
     ]
    },
    {
     "data": {
      "application/vnd.jupyter.widget-view+json": {
       "model_id": "155c6993dc854401ae0153c21667e412",
       "version_major": 2,
       "version_minor": 0
      },
      "text/plain": [
       "Epochs:   0%|          | 0/100 [00:00<?, ?it/s]"
      ]
     },
     "metadata": {},
     "output_type": "display_data"
    },
    {
     "name": "stdout",
     "output_type": "stream",
     "text": [
      "EarlyStopping counter: 1 out of 6\n",
      "EarlyStopping counter: 1 out of 6\n",
      "EarlyStopping counter: 2 out of 6\n",
      "EarlyStopping counter: 1 out of 6\n",
      "EarlyStopping counter: 2 out of 6\n",
      "EarlyStopping counter: 3 out of 6\n",
      "EarlyStopping counter: 4 out of 6\n",
      "EarlyStopping counter: 5 out of 6\n"
     ]
    },
    {
     "name": "stderr",
     "output_type": "stream",
     "text": [
      "\u001b[32m[I 2021-08-07 14:01:02,707]\u001b[0m Trial 2 finished with value: 0.434476618491098 and parameters: {'n_layers': 2, 'out_channels_l0': 16, 'kernel_size_l0': 15, 'dropout_l0': 0.4, 'out_channels_l1': 32, 'kernel_size_l1': 5, 'dropout_l1': 0.3, 'optimizer': 'Adam', 'lr': 0.005006688826394191, 'weight_decay': 0.003657379950764614}. Best is trial 1 with value: 0.524474588175772.\u001b[0m\n"
     ]
    },
    {
     "name": "stdout",
     "output_type": "stream",
     "text": [
      "EarlyStopping counter: 6 out of 6\n",
      "Early stopping the training\n",
      "Study statistics: \n",
      "  Number of finished trials:  3\n",
      "  Number of pruned trials:  0\n",
      "  Number of complete trials:  3\n",
      "Best trial:\n",
      "  Value:  0.524474588175772\n",
      "  Params: \n",
      "    dropout_l0: 0\n",
      "    dropout_l1: 0\n",
      "    kernel_size_l0: 11\n",
      "    kernel_size_l1: 5\n",
      "    lr: 8.236198898223184e-05\n",
      "    n_layers: 2\n",
      "    optimizer: Adamax\n",
      "    out_channels_l0: 64\n",
      "    out_channels_l1: 32\n",
      "    weight_decay: 0.001521413080893135\n",
      "\n",
      "===============> MODEL TESTING\n"
     ]
    },
    {
     "data": {
      "application/vnd.jupyter.widget-view+json": {
       "model_id": "d193c9c67dc84160a1dc27b2e990a7d0",
       "version_major": 2,
       "version_minor": 0
      },
      "text/plain": [
       "Epochs:   0%|          | 0/100 [00:00<?, ?it/s]"
      ]
     },
     "metadata": {},
     "output_type": "display_data"
    },
    {
     "name": "stdout",
     "output_type": "stream",
     "text": [
      "EarlyStopping counter: 1 out of 6\n",
      "EarlyStopping counter: 2 out of 6\n",
      "EarlyStopping counter: 3 out of 6\n",
      "EarlyStopping counter: 4 out of 6\n",
      "EarlyStopping counter: 5 out of 6\n"
     ]
    },
    {
     "name": "stderr",
     "output_type": "stream",
     "text": [
      "/Users/Niki/Prediction-of-Active-and-Inactive-Regulatory-Regions-with-Embracenet-Multimodal-Neural-Network-/BIOINF_tesi/models/utils/training_models.py:317: ExperimentalWarning: PatientPruner is experimental (supported from v2.8.0). The interface can change in the future.\n",
      "  pruner=optuna.pruners.PatientPruner(optuna.pruners.MedianPruner(), patience=2),\n",
      "/Users/Niki/Prediction-of-Active-and-Inactive-Regulatory-Regions-with-Embracenet-Multimodal-Neural-Network-/BIOINF_tesi/models/utils/training_models.py:319: ExperimentalWarning: BoTorchSampler is experimental (supported from v2.4.0). The interface can change in the future.\n",
      "  sampler=BoTorchSampler())\n",
      "\u001b[32m[I 2021-08-07 14:32:44,455]\u001b[0m A new study created in RDB with name: GM12878_inactive_E_vs_inactive_P_CNN_1_2_3\u001b[0m\n"
     ]
    },
    {
     "name": "stdout",
     "output_type": "stream",
     "text": [
      "EarlyStopping counter: 6 out of 6\n",
      "Early stopping the training\n",
      "AUPRC test score: 0.4921299326962153\n",
      "\n",
      "\n",
      ">>> ITERATION N. 3\n",
      "\n",
      "===============> HYPERPARAMETERS TUNING\n"
     ]
    },
    {
     "data": {
      "application/vnd.jupyter.widget-view+json": {
       "model_id": "89147d80b3a14478af9f8099c53f8e14",
       "version_major": 2,
       "version_minor": 0
      },
      "text/plain": [
       "Epochs:   0%|          | 0/100 [00:00<?, ?it/s]"
      ]
     },
     "metadata": {},
     "output_type": "display_data"
    },
    {
     "name": "stdout",
     "output_type": "stream",
     "text": [
      "EarlyStopping counter: 1 out of 6\n",
      "EarlyStopping counter: 2 out of 6\n",
      "EarlyStopping counter: 3 out of 6\n",
      "EarlyStopping counter: 1 out of 6\n",
      "EarlyStopping counter: 1 out of 6\n",
      "EarlyStopping counter: 2 out of 6\n",
      "EarlyStopping counter: 3 out of 6\n",
      "EarlyStopping counter: 4 out of 6\n",
      "EarlyStopping counter: 5 out of 6\n"
     ]
    },
    {
     "name": "stderr",
     "output_type": "stream",
     "text": [
      "\u001b[32m[I 2021-08-07 15:07:25,255]\u001b[0m Trial 0 finished with value: 0.4061847674624741 and parameters: {'n_layers': 1, 'out_channels_l0': 32, 'kernel_size_l0': 11, 'dropout_l0': 0.3, 'optimizer': 'Adamax', 'lr': 0.016820211925490346, 'weight_decay': 0.09553200132435334}. Best is trial 0 with value: 0.4061847674624741.\u001b[0m\n"
     ]
    },
    {
     "name": "stdout",
     "output_type": "stream",
     "text": [
      "EarlyStopping counter: 6 out of 6\n",
      "Early stopping the training\n"
     ]
    },
    {
     "data": {
      "application/vnd.jupyter.widget-view+json": {
       "model_id": "5eef422da49c476eaf7263f7b633f466",
       "version_major": 2,
       "version_minor": 0
      },
      "text/plain": [
       "Epochs:   0%|          | 0/100 [00:00<?, ?it/s]"
      ]
     },
     "metadata": {},
     "output_type": "display_data"
    },
    {
     "name": "stdout",
     "output_type": "stream",
     "text": [
      "EarlyStopping counter: 1 out of 6\n",
      "EarlyStopping counter: 1 out of 6\n",
      "EarlyStopping counter: 2 out of 6\n",
      "EarlyStopping counter: 3 out of 6\n",
      "EarlyStopping counter: 4 out of 6\n",
      "EarlyStopping counter: 5 out of 6\n",
      "EarlyStopping counter: 1 out of 6\n",
      "EarlyStopping counter: 2 out of 6\n",
      "EarlyStopping counter: 3 out of 6\n",
      "EarlyStopping counter: 4 out of 6\n",
      "EarlyStopping counter: 5 out of 6\n"
     ]
    },
    {
     "name": "stderr",
     "output_type": "stream",
     "text": [
      "\u001b[32m[I 2021-08-08 18:04:26,780]\u001b[0m Trial 1 finished with value: 0.4889632279214946 and parameters: {'n_layers': 2, 'out_channels_l0': 32, 'kernel_size_l0': 11, 'dropout_l0': 0.3, 'out_channels_l1': 96, 'kernel_size_l1': 15, 'dropout_l1': 0, 'optimizer': 'Adamax', 'lr': 0.08218231744533606, 'weight_decay': 0.0013716865643664125}. Best is trial 1 with value: 0.4889632279214946.\u001b[0m\n"
     ]
    },
    {
     "name": "stdout",
     "output_type": "stream",
     "text": [
      "EarlyStopping counter: 6 out of 6\n",
      "Early stopping the training\n"
     ]
    },
    {
     "data": {
      "application/vnd.jupyter.widget-view+json": {
       "model_id": "0a003eb780a34e7b8031bec82c4569a4",
       "version_major": 2,
       "version_minor": 0
      },
      "text/plain": [
       "Epochs:   0%|          | 0/100 [00:00<?, ?it/s]"
      ]
     },
     "metadata": {},
     "output_type": "display_data"
    },
    {
     "name": "stdout",
     "output_type": "stream",
     "text": [
      "EarlyStopping counter: 1 out of 6\n",
      "EarlyStopping counter: 1 out of 6\n",
      "EarlyStopping counter: 1 out of 6\n",
      "EarlyStopping counter: 2 out of 6\n",
      "EarlyStopping counter: 3 out of 6\n",
      "EarlyStopping counter: 4 out of 6\n",
      "EarlyStopping counter: 5 out of 6\n"
     ]
    },
    {
     "name": "stderr",
     "output_type": "stream",
     "text": [
      "\u001b[32m[I 2021-08-08 19:26:44,855]\u001b[0m Trial 2 finished with value: 0.3760912887067793 and parameters: {'n_layers': 3, 'out_channels_l0': 32, 'kernel_size_l0': 11, 'dropout_l0': 0.4, 'out_channels_l1': 96, 'kernel_size_l1': 11, 'dropout_l1': 0, 'out_channels_l2': 256, 'kernel_size_l2': 5, 'dropout_l2': 0, 'optimizer': 'AdamW', 'lr': 5.727699476513739e-05, 'weight_decay': 0.02512338262890545}. Best is trial 1 with value: 0.4889632279214946.\u001b[0m\n"
     ]
    },
    {
     "name": "stdout",
     "output_type": "stream",
     "text": [
      "EarlyStopping counter: 6 out of 6\n",
      "Early stopping the training\n",
      "Study statistics: \n",
      "  Number of finished trials:  3\n",
      "  Number of pruned trials:  0\n",
      "  Number of complete trials:  3\n",
      "Best trial:\n",
      "  Value:  0.4889632279214946\n",
      "  Params: \n",
      "    dropout_l0: 0.3\n",
      "    dropout_l1: 0\n",
      "    kernel_size_l0: 11\n",
      "    kernel_size_l1: 15\n",
      "    lr: 0.08218231744533606\n",
      "    n_layers: 2\n",
      "    optimizer: Adamax\n",
      "    out_channels_l0: 32\n",
      "    out_channels_l1: 96\n",
      "    weight_decay: 0.0013716865643664125\n",
      "\n",
      "===============> MODEL TESTING\n"
     ]
    },
    {
     "data": {
      "application/vnd.jupyter.widget-view+json": {
       "model_id": "f9ec33fd7d4c42ffa2141ea943991e35",
       "version_major": 2,
       "version_minor": 0
      },
      "text/plain": [
       "Epochs:   0%|          | 0/100 [00:00<?, ?it/s]"
      ]
     },
     "metadata": {},
     "output_type": "display_data"
    },
    {
     "name": "stdout",
     "output_type": "stream",
     "text": [
      "EarlyStopping counter: 1 out of 6\n",
      "EarlyStopping counter: 2 out of 6\n",
      "EarlyStopping counter: 1 out of 6\n",
      "EarlyStopping counter: 2 out of 6\n",
      "EarlyStopping counter: 3 out of 6\n",
      "EarlyStopping counter: 4 out of 6\n",
      "EarlyStopping counter: 1 out of 6\n",
      "EarlyStopping counter: 2 out of 6\n",
      "EarlyStopping counter: 3 out of 6\n",
      "EarlyStopping counter: 1 out of 6\n",
      "EarlyStopping counter: 2 out of 6\n",
      "EarlyStopping counter: 3 out of 6\n",
      "EarlyStopping counter: 4 out of 6\n",
      "EarlyStopping counter: 1 out of 6\n",
      "EarlyStopping counter: 2 out of 6\n",
      "EarlyStopping counter: 3 out of 6\n",
      "EarlyStopping counter: 4 out of 6\n",
      "EarlyStopping counter: 5 out of 6\n",
      "EarlyStopping counter: 6 out of 6\n",
      "Early stopping the training\n",
      "AUPRC test score: 0.5031192911032202\n",
      "\n",
      "\n",
      "\n",
      "3-FOLD CROSS-VALIDATION AUPRC TEST SCORE: 0.51221\n"
     ]
    }
   ],
   "source": [
    "kf_CV = Kfold_CV()\n",
    "\n",
    "kf_CV(build_dataloader_pipeline = pipe_data_load,\n",
    "                num_epochs = 100,\n",
    "                n_folds=3,\n",
    "                cell_line=cell_line,\n",
    "                sequence=True,\n",
    "                augmentation=False,\n",
    "                model = model,\n",
    "                device = device,\n",
    "                study_name = f'{cell_line}_{task}_{model.__name__}',\n",
    "                hp_model_path = f'{cell_line}_{task}_{model.__name__}_HP.pt',\n",
    "                test_model_path = f'{cell_line}_{task}_{model.__name__}_TEST.pt')"
   ]
  },
  {
   "cell_type": "code",
   "execution_count": 60,
   "metadata": {},
   "outputs": [],
   "source": [
    "results_dict[cell_line][task][model.__name__] = kf_CV.scores_dict"
   ]
  },
  {
   "cell_type": "code",
   "execution_count": 61,
   "metadata": {},
   "outputs": [],
   "source": [
    "with open ('results_dict.pickle', 'wb') as fout:\n",
    "    pickle.dump(OrderedDict(results_dict), fout)"
   ]
  },
  {
   "cell_type": "code",
   "execution_count": null,
   "metadata": {},
   "outputs": [],
   "source": []
  },
  {
   "cell_type": "markdown",
   "metadata": {},
   "source": [
    "---"
   ]
  },
  {
   "cell_type": "markdown",
   "metadata": {},
   "source": [
    "## 5) ACTIVE ENHANCERS + ACTIVE PROMOTERS vs INACTIVE REST"
   ]
  },
  {
   "cell_type": "code",
   "execution_count": 62,
   "metadata": {},
   "outputs": [
    {
     "data": {
      "text/plain": [
       "'active_EP_vs_inactive_rest'"
      ]
     },
     "execution_count": 62,
     "metadata": {},
     "output_type": "execute_result"
    }
   ],
   "source": [
    "task = TASKS[4]\n",
    "task"
   ]
  },
  {
   "cell_type": "code",
   "execution_count": 63,
   "metadata": {},
   "outputs": [
    {
     "name": "stdout",
     "output_type": "stream",
     "text": [
      "Data Preprocessing Done!\n"
     ]
    }
   ],
   "source": [
    "pipe_data_load = Build_DataLoader_Pipeline(path_name=f'{task}.pickle')"
   ]
  },
  {
   "cell_type": "markdown",
   "metadata": {},
   "source": [
    "---\n",
    "### 1. FFNN"
   ]
  },
  {
   "cell_type": "code",
   "execution_count": 35,
   "metadata": {},
   "outputs": [
    {
     "name": "stdout",
     "output_type": "stream",
     "text": [
      ">>> ITERATION N. 1\n",
      "\n",
      "===============> HYPERPARAMETERS TUNING\n"
     ]
    },
    {
     "name": "stderr",
     "output_type": "stream",
     "text": [
      "/Users/Niki/Prediction-of-Active-and-Inactive-Regulatory-Regions-with-Embracenet-Multimodal-Neural-Network-/BIOINF_tesi/models/utils/training_models.py:317: ExperimentalWarning: PatientPruner is experimental (supported from v2.8.0). The interface can change in the future.\n",
      "  pruner=optuna.pruners.PatientPruner(optuna.pruners.MedianPruner(), patience=2),\n",
      "/Users/Niki/Prediction-of-Active-and-Inactive-Regulatory-Regions-with-Embracenet-Multimodal-Neural-Network-/BIOINF_tesi/models/utils/training_models.py:319: ExperimentalWarning: BoTorchSampler is experimental (supported from v2.4.0). The interface can change in the future.\n",
      "  sampler=BoTorchSampler())\n",
      "\u001b[32m[I 2021-08-05 04:59:44,620]\u001b[0m A new study created in RDB with name: GM12878_active_EP_vs_inactive_rest_FFNN_1\u001b[0m\n"
     ]
    },
    {
     "data": {
      "application/vnd.jupyter.widget-view+json": {
       "model_id": "c1932b43ac084ba3896496d851f0da19",
       "version_major": 2,
       "version_minor": 0
      },
      "text/plain": [
       "Epochs:   0%|          | 0/100 [00:00<?, ?it/s]"
      ]
     },
     "metadata": {},
     "output_type": "display_data"
    },
    {
     "name": "stdout",
     "output_type": "stream",
     "text": [
      "EarlyStopping counter: 1 out of 6\n",
      "EarlyStopping counter: 1 out of 6\n",
      "EarlyStopping counter: 2 out of 6\n",
      "EarlyStopping counter: 1 out of 6\n",
      "EarlyStopping counter: 1 out of 6\n",
      "EarlyStopping counter: 2 out of 6\n",
      "EarlyStopping counter: 1 out of 6\n",
      "EarlyStopping counter: 2 out of 6\n",
      "EarlyStopping counter: 1 out of 6\n",
      "EarlyStopping counter: 2 out of 6\n",
      "EarlyStopping counter: 3 out of 6\n",
      "EarlyStopping counter: 1 out of 6\n",
      "EarlyStopping counter: 1 out of 6\n",
      "EarlyStopping counter: 2 out of 6\n",
      "EarlyStopping counter: 3 out of 6\n",
      "EarlyStopping counter: 4 out of 6\n",
      "EarlyStopping counter: 5 out of 6\n"
     ]
    },
    {
     "name": "stderr",
     "output_type": "stream",
     "text": [
      "\u001b[32m[I 2021-08-05 05:38:52,369]\u001b[0m Trial 0 finished with value: 0.15421121251629724 and parameters: {'n_layers': 1, 'n_units_l0': 64, 'dropout_l0': 0.3, 'optimizer': 'Adamax', 'lr': 2.1385067729208942e-05, 'weight_decay': 0.0035262405454292846}. Best is trial 0 with value: 0.15421121251629724.\u001b[0m\n"
     ]
    },
    {
     "name": "stdout",
     "output_type": "stream",
     "text": [
      "EarlyStopping counter: 6 out of 6\n",
      "Early stopping the training\n"
     ]
    },
    {
     "data": {
      "application/vnd.jupyter.widget-view+json": {
       "model_id": "b576e3ee76834fd19d6283d8731bbe4c",
       "version_major": 2,
       "version_minor": 0
      },
      "text/plain": [
       "Epochs:   0%|          | 0/100 [00:00<?, ?it/s]"
      ]
     },
     "metadata": {},
     "output_type": "display_data"
    },
    {
     "name": "stdout",
     "output_type": "stream",
     "text": [
      "EarlyStopping counter: 1 out of 6\n",
      "EarlyStopping counter: 1 out of 6\n",
      "EarlyStopping counter: 2 out of 6\n",
      "EarlyStopping counter: 3 out of 6\n",
      "EarlyStopping counter: 4 out of 6\n",
      "EarlyStopping counter: 5 out of 6\n"
     ]
    },
    {
     "name": "stderr",
     "output_type": "stream",
     "text": [
      "\u001b[32m[I 2021-08-05 05:45:42,976]\u001b[0m Trial 1 finished with value: 0.1535546656733097 and parameters: {'n_layers': 2, 'n_units_l0': 256, 'dropout_l0': 0, 'n_units_l1': 128, 'dropout_l1': 0.3, 'optimizer': 'AdamW', 'lr': 0.011636734488313358, 'weight_decay': 0.060909822231557435}. Best is trial 0 with value: 0.15421121251629724.\u001b[0m\n"
     ]
    },
    {
     "name": "stdout",
     "output_type": "stream",
     "text": [
      "EarlyStopping counter: 6 out of 6\n",
      "Early stopping the training\n"
     ]
    },
    {
     "data": {
      "application/vnd.jupyter.widget-view+json": {
       "model_id": "82a0151e8d484eb99020babcef14a39d",
       "version_major": 2,
       "version_minor": 0
      },
      "text/plain": [
       "Epochs:   0%|          | 0/100 [00:00<?, ?it/s]"
      ]
     },
     "metadata": {},
     "output_type": "display_data"
    },
    {
     "name": "stdout",
     "output_type": "stream",
     "text": [
      "EarlyStopping counter: 1 out of 6\n",
      "EarlyStopping counter: 1 out of 6\n",
      "EarlyStopping counter: 2 out of 6\n",
      "EarlyStopping counter: 3 out of 6\n",
      "EarlyStopping counter: 4 out of 6\n",
      "EarlyStopping counter: 5 out of 6\n"
     ]
    },
    {
     "name": "stderr",
     "output_type": "stream",
     "text": [
      "\u001b[32m[I 2021-08-05 05:52:23,566]\u001b[0m Trial 2 finished with value: 0.15388293909480352 and parameters: {'n_layers': 3, 'n_units_l0': 64, 'dropout_l0': 0.3, 'n_units_l1': 128, 'dropout_l1': 0.4, 'n_units_l2': 64, 'dropout_l2': 0.4, 'optimizer': 'Adamax', 'lr': 0.0072544269559703094, 'weight_decay': 0.0008992008981419318}. Best is trial 0 with value: 0.15421121251629724.\u001b[0m\n"
     ]
    },
    {
     "name": "stdout",
     "output_type": "stream",
     "text": [
      "EarlyStopping counter: 6 out of 6\n",
      "Early stopping the training\n",
      "Study statistics: \n",
      "  Number of finished trials:  3\n",
      "  Number of pruned trials:  0\n",
      "  Number of complete trials:  3\n",
      "Best trial:\n",
      "  Value:  0.15421121251629724\n",
      "  Params: \n",
      "    dropout_l0: 0.3\n",
      "    lr: 2.1385067729208942e-05\n",
      "    n_layers: 1\n",
      "    n_units_l0: 64\n",
      "    optimizer: Adamax\n",
      "    weight_decay: 0.0035262405454292846\n",
      "\n",
      "===============> MODEL TESTING\n"
     ]
    },
    {
     "data": {
      "application/vnd.jupyter.widget-view+json": {
       "model_id": "2e0f9f4c2a6240beb7e765ba09788858",
       "version_major": 2,
       "version_minor": 0
      },
      "text/plain": [
       "Epochs:   0%|          | 0/100 [00:00<?, ?it/s]"
      ]
     },
     "metadata": {},
     "output_type": "display_data"
    },
    {
     "name": "stdout",
     "output_type": "stream",
     "text": [
      "EarlyStopping counter: 1 out of 6\n",
      "EarlyStopping counter: 2 out of 6\n",
      "EarlyStopping counter: 3 out of 6\n",
      "EarlyStopping counter: 4 out of 6\n",
      "EarlyStopping counter: 1 out of 6\n",
      "EarlyStopping counter: 2 out of 6\n",
      "EarlyStopping counter: 1 out of 6\n",
      "EarlyStopping counter: 2 out of 6\n",
      "EarlyStopping counter: 1 out of 6\n",
      "EarlyStopping counter: 2 out of 6\n",
      "EarlyStopping counter: 3 out of 6\n",
      "EarlyStopping counter: 1 out of 6\n",
      "EarlyStopping counter: 2 out of 6\n",
      "EarlyStopping counter: 1 out of 6\n",
      "EarlyStopping counter: 2 out of 6\n",
      "EarlyStopping counter: 3 out of 6\n",
      "EarlyStopping counter: 4 out of 6\n",
      "EarlyStopping counter: 5 out of 6\n"
     ]
    },
    {
     "name": "stderr",
     "output_type": "stream",
     "text": [
      "/Users/Niki/Prediction-of-Active-and-Inactive-Regulatory-Regions-with-Embracenet-Multimodal-Neural-Network-/BIOINF_tesi/models/utils/training_models.py:317: ExperimentalWarning: PatientPruner is experimental (supported from v2.8.0). The interface can change in the future.\n",
      "  pruner=optuna.pruners.PatientPruner(optuna.pruners.MedianPruner(), patience=2),\n",
      "/Users/Niki/Prediction-of-Active-and-Inactive-Regulatory-Regions-with-Embracenet-Multimodal-Neural-Network-/BIOINF_tesi/models/utils/training_models.py:319: ExperimentalWarning: BoTorchSampler is experimental (supported from v2.4.0). The interface can change in the future.\n",
      "  sampler=BoTorchSampler())\n",
      "\u001b[32m[I 2021-08-05 06:56:19,861]\u001b[0m A new study created in RDB with name: GM12878_active_EP_vs_inactive_rest_FFNN_1_2\u001b[0m\n"
     ]
    },
    {
     "name": "stdout",
     "output_type": "stream",
     "text": [
      "EarlyStopping counter: 6 out of 6\n",
      "Early stopping the training\n",
      "AUPRC test score: 0.1599282212885153\n",
      "\n",
      "\n",
      ">>> ITERATION N. 2\n",
      "\n",
      "===============> HYPERPARAMETERS TUNING\n"
     ]
    },
    {
     "data": {
      "application/vnd.jupyter.widget-view+json": {
       "model_id": "8fcdc597b7564072b2c0361752e8d37e",
       "version_major": 2,
       "version_minor": 0
      },
      "text/plain": [
       "Epochs:   0%|          | 0/100 [00:00<?, ?it/s]"
      ]
     },
     "metadata": {},
     "output_type": "display_data"
    },
    {
     "name": "stdout",
     "output_type": "stream",
     "text": [
      "EarlyStopping counter: 1 out of 6\n",
      "EarlyStopping counter: 2 out of 6\n",
      "EarlyStopping counter: 3 out of 6\n",
      "EarlyStopping counter: 4 out of 6\n",
      "EarlyStopping counter: 5 out of 6\n"
     ]
    },
    {
     "name": "stderr",
     "output_type": "stream",
     "text": [
      "\u001b[32m[I 2021-08-05 07:00:57,104]\u001b[0m Trial 0 finished with value: 0.15657990314769984 and parameters: {'n_layers': 3, 'n_units_l0': 32, 'dropout_l0': 0.4, 'n_units_l1': 128, 'dropout_l1': 0, 'n_units_l2': 64, 'dropout_l2': 0.5, 'optimizer': 'Adam', 'lr': 0.0022754295964512524, 'weight_decay': 0.02026243585724204}. Best is trial 0 with value: 0.15657990314769984.\u001b[0m\n"
     ]
    },
    {
     "name": "stdout",
     "output_type": "stream",
     "text": [
      "EarlyStopping counter: 6 out of 6\n",
      "Early stopping the training\n"
     ]
    },
    {
     "data": {
      "application/vnd.jupyter.widget-view+json": {
       "model_id": "d5bbdcc0eae542f7ba09477c25e716b4",
       "version_major": 2,
       "version_minor": 0
      },
      "text/plain": [
       "Epochs:   0%|          | 0/100 [00:00<?, ?it/s]"
      ]
     },
     "metadata": {},
     "output_type": "display_data"
    },
    {
     "name": "stdout",
     "output_type": "stream",
     "text": [
      "EarlyStopping counter: 1 out of 6\n",
      "EarlyStopping counter: 2 out of 6\n",
      "EarlyStopping counter: 3 out of 6\n",
      "EarlyStopping counter: 4 out of 6\n",
      "EarlyStopping counter: 5 out of 6\n"
     ]
    },
    {
     "name": "stderr",
     "output_type": "stream",
     "text": [
      "\u001b[32m[I 2021-08-05 07:08:11,170]\u001b[0m Trial 1 finished with value: 0.15677686720059603 and parameters: {'n_layers': 2, 'n_units_l0': 64, 'dropout_l0': 0.4, 'n_units_l1': 128, 'dropout_l1': 0, 'optimizer': 'Adamax', 'lr': 0.00012158206082863777, 'weight_decay': 0.0198521599595687}. Best is trial 1 with value: 0.15677686720059603.\u001b[0m\n"
     ]
    },
    {
     "name": "stdout",
     "output_type": "stream",
     "text": [
      "EarlyStopping counter: 6 out of 6\n",
      "Early stopping the training\n"
     ]
    },
    {
     "data": {
      "application/vnd.jupyter.widget-view+json": {
       "model_id": "a369bb675c2f47eab3915d3c3cd1ead2",
       "version_major": 2,
       "version_minor": 0
      },
      "text/plain": [
       "Epochs:   0%|          | 0/100 [00:00<?, ?it/s]"
      ]
     },
     "metadata": {},
     "output_type": "display_data"
    },
    {
     "name": "stdout",
     "output_type": "stream",
     "text": [
      "EarlyStopping counter: 1 out of 6\n",
      "EarlyStopping counter: 1 out of 6\n",
      "EarlyStopping counter: 2 out of 6\n",
      "EarlyStopping counter: 1 out of 6\n",
      "EarlyStopping counter: 2 out of 6\n",
      "EarlyStopping counter: 3 out of 6\n",
      "EarlyStopping counter: 4 out of 6\n",
      "EarlyStopping counter: 5 out of 6\n"
     ]
    },
    {
     "name": "stderr",
     "output_type": "stream",
     "text": [
      "\u001b[32m[I 2021-08-05 07:15:59,842]\u001b[0m Trial 2 finished with value: 0.15644859377910236 and parameters: {'n_layers': 1, 'n_units_l0': 32, 'dropout_l0': 0.3, 'optimizer': 'Adamax', 'lr': 0.029525071931071154, 'weight_decay': 0.011530135653493395}. Best is trial 1 with value: 0.15677686720059603.\u001b[0m\n"
     ]
    },
    {
     "name": "stdout",
     "output_type": "stream",
     "text": [
      "EarlyStopping counter: 6 out of 6\n",
      "Early stopping the training\n",
      "Study statistics: \n",
      "  Number of finished trials:  3\n",
      "  Number of pruned trials:  0\n",
      "  Number of complete trials:  3\n",
      "Best trial:\n",
      "  Value:  0.15677686720059603\n",
      "  Params: \n",
      "    dropout_l0: 0.4\n",
      "    dropout_l1: 0\n",
      "    lr: 0.00012158206082863777\n",
      "    n_layers: 2\n",
      "    n_units_l0: 64\n",
      "    n_units_l1: 128\n",
      "    optimizer: Adamax\n",
      "    weight_decay: 0.0198521599595687\n",
      "\n",
      "===============> MODEL TESTING\n"
     ]
    },
    {
     "data": {
      "application/vnd.jupyter.widget-view+json": {
       "model_id": "116a811358c746e9a31560d61932f381",
       "version_major": 2,
       "version_minor": 0
      },
      "text/plain": [
       "Epochs:   0%|          | 0/100 [00:00<?, ?it/s]"
      ]
     },
     "metadata": {},
     "output_type": "display_data"
    },
    {
     "name": "stdout",
     "output_type": "stream",
     "text": [
      "EarlyStopping counter: 1 out of 6\n",
      "EarlyStopping counter: 2 out of 6\n",
      "EarlyStopping counter: 3 out of 6\n",
      "EarlyStopping counter: 4 out of 6\n",
      "EarlyStopping counter: 5 out of 6\n"
     ]
    },
    {
     "name": "stderr",
     "output_type": "stream",
     "text": [
      "/Users/Niki/Prediction-of-Active-and-Inactive-Regulatory-Regions-with-Embracenet-Multimodal-Neural-Network-/BIOINF_tesi/models/utils/training_models.py:317: ExperimentalWarning: PatientPruner is experimental (supported from v2.8.0). The interface can change in the future.\n",
      "  pruner=optuna.pruners.PatientPruner(optuna.pruners.MedianPruner(), patience=2),\n",
      "/Users/Niki/Prediction-of-Active-and-Inactive-Regulatory-Regions-with-Embracenet-Multimodal-Neural-Network-/BIOINF_tesi/models/utils/training_models.py:319: ExperimentalWarning: BoTorchSampler is experimental (supported from v2.4.0). The interface can change in the future.\n",
      "  sampler=BoTorchSampler())\n",
      "\u001b[32m[I 2021-08-05 07:24:56,705]\u001b[0m A new study created in RDB with name: GM12878_active_EP_vs_inactive_rest_FFNN_1_2_3\u001b[0m\n"
     ]
    },
    {
     "name": "stdout",
     "output_type": "stream",
     "text": [
      "EarlyStopping counter: 6 out of 6\n",
      "Early stopping the training\n",
      "AUPRC test score: 0.15501585356364775\n",
      "\n",
      "\n",
      ">>> ITERATION N. 3\n",
      "\n",
      "===============> HYPERPARAMETERS TUNING\n"
     ]
    },
    {
     "data": {
      "application/vnd.jupyter.widget-view+json": {
       "model_id": "cbe11adf2a5a485485d14818f028a043",
       "version_major": 2,
       "version_minor": 0
      },
      "text/plain": [
       "Epochs:   0%|          | 0/100 [00:00<?, ?it/s]"
      ]
     },
     "metadata": {},
     "output_type": "display_data"
    },
    {
     "name": "stdout",
     "output_type": "stream",
     "text": [
      "EarlyStopping counter: 1 out of 6\n",
      "EarlyStopping counter: 1 out of 6\n",
      "EarlyStopping counter: 1 out of 6\n",
      "EarlyStopping counter: 2 out of 6\n",
      "EarlyStopping counter: 3 out of 6\n",
      "EarlyStopping counter: 1 out of 6\n",
      "EarlyStopping counter: 2 out of 6\n",
      "EarlyStopping counter: 3 out of 6\n",
      "EarlyStopping counter: 4 out of 6\n",
      "EarlyStopping counter: 5 out of 6\n"
     ]
    },
    {
     "name": "stderr",
     "output_type": "stream",
     "text": [
      "\u001b[32m[I 2021-08-05 07:37:05,324]\u001b[0m Trial 0 finished with value: 0.1594881501549743 and parameters: {'n_layers': 3, 'n_units_l0': 128, 'dropout_l0': 0, 'n_units_l1': 128, 'dropout_l1': 0.4, 'n_units_l2': 64, 'dropout_l2': 0.5, 'optimizer': 'AdamW', 'lr': 0.0013729548061277882, 'weight_decay': 0.00028116246506163417}. Best is trial 0 with value: 0.1594881501549743.\u001b[0m\n"
     ]
    },
    {
     "name": "stdout",
     "output_type": "stream",
     "text": [
      "EarlyStopping counter: 6 out of 6\n",
      "Early stopping the training\n"
     ]
    },
    {
     "data": {
      "application/vnd.jupyter.widget-view+json": {
       "model_id": "3017c5f871c74035aaebd9e7d5b42498",
       "version_major": 2,
       "version_minor": 0
      },
      "text/plain": [
       "Epochs:   0%|          | 0/100 [00:00<?, ?it/s]"
      ]
     },
     "metadata": {},
     "output_type": "display_data"
    },
    {
     "name": "stdout",
     "output_type": "stream",
     "text": [
      "EarlyStopping counter: 1 out of 6\n",
      "EarlyStopping counter: 1 out of 6\n",
      "EarlyStopping counter: 2 out of 6\n",
      "EarlyStopping counter: 1 out of 6\n",
      "EarlyStopping counter: 1 out of 6\n",
      "EarlyStopping counter: 1 out of 6\n",
      "EarlyStopping counter: 1 out of 6\n",
      "EarlyStopping counter: 2 out of 6\n",
      "EarlyStopping counter: 1 out of 6\n",
      "EarlyStopping counter: 1 out of 6\n",
      "EarlyStopping counter: 2 out of 6\n",
      "EarlyStopping counter: 3 out of 6\n",
      "EarlyStopping counter: 4 out of 6\n",
      "EarlyStopping counter: 1 out of 6\n",
      "EarlyStopping counter: 2 out of 6\n",
      "EarlyStopping counter: 3 out of 6\n",
      "EarlyStopping counter: 1 out of 6\n",
      "EarlyStopping counter: 2 out of 6\n",
      "EarlyStopping counter: 1 out of 6\n",
      "EarlyStopping counter: 2 out of 6\n",
      "EarlyStopping counter: 3 out of 6\n",
      "EarlyStopping counter: 4 out of 6\n",
      "EarlyStopping counter: 1 out of 6\n",
      "EarlyStopping counter: 1 out of 6\n",
      "EarlyStopping counter: 2 out of 6\n",
      "EarlyStopping counter: 3 out of 6\n",
      "EarlyStopping counter: 4 out of 6\n",
      "EarlyStopping counter: 5 out of 6\n"
     ]
    },
    {
     "name": "stderr",
     "output_type": "stream",
     "text": [
      "\u001b[32m[I 2021-08-05 08:24:46,999]\u001b[0m Trial 1 finished with value: 0.15695054945054937 and parameters: {'n_layers': 2, 'n_units_l0': 64, 'dropout_l0': 0.3, 'n_units_l1': 16, 'dropout_l1': 0.3, 'optimizer': 'AdamW', 'lr': 2.1081892847713762e-05, 'weight_decay': 0.017049970872359977}. Best is trial 0 with value: 0.1594881501549743.\u001b[0m\n"
     ]
    },
    {
     "name": "stdout",
     "output_type": "stream",
     "text": [
      "EarlyStopping counter: 6 out of 6\n",
      "Early stopping the training\n"
     ]
    },
    {
     "data": {
      "application/vnd.jupyter.widget-view+json": {
       "model_id": "96767e322e4b4ba38f7a5f6be41798d8",
       "version_major": 2,
       "version_minor": 0
      },
      "text/plain": [
       "Epochs:   0%|          | 0/100 [00:00<?, ?it/s]"
      ]
     },
     "metadata": {},
     "output_type": "display_data"
    },
    {
     "name": "stdout",
     "output_type": "stream",
     "text": [
      "EarlyStopping counter: 1 out of 6\n",
      "EarlyStopping counter: 1 out of 6\n",
      "EarlyStopping counter: 1 out of 6\n",
      "EarlyStopping counter: 1 out of 6\n",
      "EarlyStopping counter: 2 out of 6\n",
      "EarlyStopping counter: 1 out of 6\n",
      "EarlyStopping counter: 1 out of 6\n",
      "EarlyStopping counter: 2 out of 6\n",
      "EarlyStopping counter: 3 out of 6\n",
      "EarlyStopping counter: 1 out of 6\n",
      "EarlyStopping counter: 1 out of 6\n",
      "EarlyStopping counter: 2 out of 6\n",
      "EarlyStopping counter: 3 out of 6\n",
      "EarlyStopping counter: 4 out of 6\n",
      "EarlyStopping counter: 1 out of 6\n",
      "EarlyStopping counter: 2 out of 6\n",
      "EarlyStopping counter: 1 out of 6\n",
      "EarlyStopping counter: 2 out of 6\n",
      "EarlyStopping counter: 3 out of 6\n",
      "EarlyStopping counter: 4 out of 6\n",
      "EarlyStopping counter: 5 out of 6\n"
     ]
    },
    {
     "name": "stderr",
     "output_type": "stream",
     "text": [
      "\u001b[32m[I 2021-08-05 08:57:43,975]\u001b[0m Trial 2 finished with value: 0.16027616745508783 and parameters: {'n_layers': 2, 'n_units_l0': 128, 'dropout_l0': 0.4, 'n_units_l1': 16, 'dropout_l1': 0.3, 'optimizer': 'AdamW', 'lr': 0.000490391818868628, 'weight_decay': 0.09894745286452397}. Best is trial 2 with value: 0.16027616745508783.\u001b[0m\n"
     ]
    },
    {
     "name": "stdout",
     "output_type": "stream",
     "text": [
      "EarlyStopping counter: 6 out of 6\n",
      "Early stopping the training\n",
      "Study statistics: \n",
      "  Number of finished trials:  3\n",
      "  Number of pruned trials:  0\n",
      "  Number of complete trials:  3\n",
      "Best trial:\n",
      "  Value:  0.16027616745508783\n",
      "  Params: \n",
      "    dropout_l0: 0.4\n",
      "    dropout_l1: 0.3\n",
      "    lr: 0.000490391818868628\n",
      "    n_layers: 2\n",
      "    n_units_l0: 128\n",
      "    n_units_l1: 16\n",
      "    optimizer: AdamW\n",
      "    weight_decay: 0.09894745286452397\n",
      "\n",
      "===============> MODEL TESTING\n"
     ]
    },
    {
     "data": {
      "application/vnd.jupyter.widget-view+json": {
       "model_id": "979a49e2409b48e1a218489cc78b6e89",
       "version_major": 2,
       "version_minor": 0
      },
      "text/plain": [
       "Epochs:   0%|          | 0/100 [00:00<?, ?it/s]"
      ]
     },
     "metadata": {},
     "output_type": "display_data"
    },
    {
     "name": "stdout",
     "output_type": "stream",
     "text": [
      "EarlyStopping counter: 1 out of 6\n",
      "EarlyStopping counter: 1 out of 6\n",
      "EarlyStopping counter: 1 out of 6\n",
      "EarlyStopping counter: 1 out of 6\n",
      "EarlyStopping counter: 1 out of 6\n",
      "EarlyStopping counter: 2 out of 6\n",
      "EarlyStopping counter: 3 out of 6\n",
      "EarlyStopping counter: 1 out of 6\n",
      "EarlyStopping counter: 2 out of 6\n",
      "EarlyStopping counter: 3 out of 6\n",
      "EarlyStopping counter: 4 out of 6\n",
      "EarlyStopping counter: 1 out of 6\n",
      "EarlyStopping counter: 2 out of 6\n",
      "EarlyStopping counter: 3 out of 6\n",
      "EarlyStopping counter: 4 out of 6\n",
      "EarlyStopping counter: 5 out of 6\n",
      "EarlyStopping counter: 1 out of 6\n",
      "EarlyStopping counter: 2 out of 6\n",
      "EarlyStopping counter: 3 out of 6\n",
      "EarlyStopping counter: 1 out of 6\n",
      "EarlyStopping counter: 2 out of 6\n",
      "EarlyStopping counter: 3 out of 6\n",
      "EarlyStopping counter: 4 out of 6\n",
      "EarlyStopping counter: 5 out of 6\n",
      "EarlyStopping counter: 6 out of 6\n",
      "Early stopping the training\n",
      "AUPRC test score: 0.1608064231598082\n",
      "\n",
      "\n",
      "\n",
      "3-FOLD CROSS-VALIDATION AUPRC TEST SCORE: 0.15858\n"
     ]
    }
   ],
   "source": [
    "kf_CV = Kfold_CV()\n",
    "\n",
    "kf_CV(build_dataloader_pipeline = pipe_data_load,\n",
    "                num_epochs = 100,\n",
    "                n_folds=3,\n",
    "                cell_line=cell_line,\n",
    "                sequence=False,\n",
    "                augmentation=False,\n",
    "                model = model,\n",
    "                device = device,\n",
    "                study_name = f'{cell_line}_{task}_{model.__name__}',\n",
    "                hp_model_path = f'{cell_line}_{task}_{model.__name__}_HP.pt',\n",
    "                test_model_path = f'{cell_line}_{task}_{model.__name__}_TEST.pt')"
   ]
  },
  {
   "cell_type": "code",
   "execution_count": 36,
   "metadata": {},
   "outputs": [],
   "source": [
    "results_dict[cell_line][task][model.__name__] = kf_CV.scores_dict"
   ]
  },
  {
   "cell_type": "code",
   "execution_count": 37,
   "metadata": {},
   "outputs": [],
   "source": [
    "with open ('results_dict.pickle', 'wb') as fout:\n",
    "    pickle.dump(OrderedDict(results_dict), fout)"
   ]
  },
  {
   "cell_type": "markdown",
   "metadata": {},
   "source": [
    "---\n",
    "### 2. CNN"
   ]
  },
  {
   "cell_type": "code",
   "execution_count": 64,
   "metadata": {},
   "outputs": [],
   "source": [
    "model=CNN"
   ]
  },
  {
   "cell_type": "code",
   "execution_count": 65,
   "metadata": {},
   "outputs": [
    {
     "name": "stderr",
     "output_type": "stream",
     "text": [
      "/Users/Niki/Prediction-of-Active-and-Inactive-Regulatory-Regions-with-Embracenet-Multimodal-Neural-Network-/BIOINF_tesi/models/utils/training_models.py:317: ExperimentalWarning: PatientPruner is experimental (supported from v2.8.0). The interface can change in the future.\n",
      "  pruner=optuna.pruners.PatientPruner(optuna.pruners.MedianPruner(), patience=2),\n",
      "/Users/Niki/Prediction-of-Active-and-Inactive-Regulatory-Regions-with-Embracenet-Multimodal-Neural-Network-/BIOINF_tesi/models/utils/training_models.py:319: ExperimentalWarning: BoTorchSampler is experimental (supported from v2.4.0). The interface can change in the future.\n",
      "  sampler=BoTorchSampler())\n",
      "\u001b[32m[I 2021-08-09 00:40:50,803]\u001b[0m A new study created in RDB with name: GM12878_active_EP_vs_inactive_rest_CNN_1\u001b[0m\n"
     ]
    },
    {
     "name": "stdout",
     "output_type": "stream",
     "text": [
      ">>> ITERATION N. 1\n",
      "\n",
      "===============> HYPERPARAMETERS TUNING\n"
     ]
    },
    {
     "data": {
      "application/vnd.jupyter.widget-view+json": {
       "model_id": "8938e31b1ccc48d8b42f1508ea8e585e",
       "version_major": 2,
       "version_minor": 0
      },
      "text/plain": [
       "Epochs:   0%|          | 0/100 [00:00<?, ?it/s]"
      ]
     },
     "metadata": {},
     "output_type": "display_data"
    },
    {
     "name": "stdout",
     "output_type": "stream",
     "text": [
      "EarlyStopping counter: 1 out of 6\n",
      "EarlyStopping counter: 2 out of 6\n",
      "EarlyStopping counter: 3 out of 6\n",
      "EarlyStopping counter: 4 out of 6\n",
      "EarlyStopping counter: 5 out of 6\n"
     ]
    },
    {
     "name": "stderr",
     "output_type": "stream",
     "text": [
      "\u001b[32m[I 2021-08-09 01:05:20,291]\u001b[0m Trial 0 finished with value: 0.15381728441050482 and parameters: {'n_layers': 2, 'out_channels_l0': 16, 'kernel_size_l0': 5, 'dropout_l0': 0.3, 'out_channels_l1': 64, 'kernel_size_l1': 11, 'dropout_l1': 0, 'optimizer': 'Adam', 'lr': 0.0031879424822438356, 'weight_decay': 0.00012060553544034343}. Best is trial 0 with value: 0.15381728441050482.\u001b[0m\n"
     ]
    },
    {
     "name": "stdout",
     "output_type": "stream",
     "text": [
      "EarlyStopping counter: 6 out of 6\n",
      "Early stopping the training\n"
     ]
    },
    {
     "data": {
      "application/vnd.jupyter.widget-view+json": {
       "model_id": "f506a80c41af47d7a7f1c81e10629c7d",
       "version_major": 2,
       "version_minor": 0
      },
      "text/plain": [
       "Epochs:   0%|          | 0/100 [00:00<?, ?it/s]"
      ]
     },
     "metadata": {},
     "output_type": "display_data"
    },
    {
     "name": "stdout",
     "output_type": "stream",
     "text": [
      "EarlyStopping counter: 1 out of 6\n",
      "EarlyStopping counter: 1 out of 6\n",
      "EarlyStopping counter: 2 out of 6\n",
      "EarlyStopping counter: 1 out of 6\n",
      "EarlyStopping counter: 2 out of 6\n",
      "EarlyStopping counter: 3 out of 6\n",
      "EarlyStopping counter: 4 out of 6\n",
      "EarlyStopping counter: 5 out of 6\n"
     ]
    },
    {
     "name": "stderr",
     "output_type": "stream",
     "text": [
      "\u001b[32m[I 2021-08-09 01:49:07,159]\u001b[0m Trial 1 finished with value: 0.15414555783199854 and parameters: {'n_layers': 2, 'out_channels_l0': 16, 'kernel_size_l0': 5, 'dropout_l0': 0.4, 'out_channels_l1': 64, 'kernel_size_l1': 11, 'dropout_l1': 0.3, 'optimizer': 'Adamax', 'lr': 5.048697877956377e-05, 'weight_decay': 0.07590855997017024}. Best is trial 1 with value: 0.15414555783199854.\u001b[0m\n"
     ]
    },
    {
     "name": "stdout",
     "output_type": "stream",
     "text": [
      "EarlyStopping counter: 6 out of 6\n",
      "Early stopping the training\n"
     ]
    },
    {
     "data": {
      "application/vnd.jupyter.widget-view+json": {
       "model_id": "f40b1dbda5834d10b161f548efba2a29",
       "version_major": 2,
       "version_minor": 0
      },
      "text/plain": [
       "Epochs:   0%|          | 0/100 [00:00<?, ?it/s]"
      ]
     },
     "metadata": {},
     "output_type": "display_data"
    },
    {
     "name": "stdout",
     "output_type": "stream",
     "text": [
      "EarlyStopping counter: 1 out of 6\n",
      "EarlyStopping counter: 1 out of 6\n",
      "EarlyStopping counter: 2 out of 6\n",
      "EarlyStopping counter: 3 out of 6\n",
      "EarlyStopping counter: 4 out of 6\n",
      "EarlyStopping counter: 5 out of 6\n"
     ]
    },
    {
     "name": "stderr",
     "output_type": "stream",
     "text": [
      "\u001b[32m[I 2021-08-09 02:16:18,626]\u001b[0m Trial 2 finished with value: 0.15421121251629724 and parameters: {'n_layers': 3, 'out_channels_l0': 16, 'kernel_size_l0': 5, 'dropout_l0': 0.4, 'out_channels_l1': 64, 'kernel_size_l1': 15, 'dropout_l1': 0, 'out_channels_l2': 96, 'kernel_size_l2': 5, 'dropout_l2': 0.4, 'optimizer': 'Adam', 'lr': 0.00868028014385858, 'weight_decay': 0.003203452129590991}. Best is trial 2 with value: 0.15421121251629724.\u001b[0m\n"
     ]
    },
    {
     "name": "stdout",
     "output_type": "stream",
     "text": [
      "EarlyStopping counter: 6 out of 6\n",
      "Early stopping the training\n",
      "Study statistics: \n",
      "  Number of finished trials:  3\n",
      "  Number of pruned trials:  0\n",
      "  Number of complete trials:  3\n",
      "Best trial:\n",
      "  Value:  0.15421121251629724\n",
      "  Params: \n",
      "    dropout_l0: 0.4\n",
      "    dropout_l1: 0\n",
      "    dropout_l2: 0.4\n",
      "    kernel_size_l0: 5\n",
      "    kernel_size_l1: 15\n",
      "    kernel_size_l2: 5\n",
      "    lr: 0.00868028014385858\n",
      "    n_layers: 3\n",
      "    optimizer: Adam\n",
      "    out_channels_l0: 16\n",
      "    out_channels_l1: 64\n",
      "    out_channels_l2: 96\n",
      "    weight_decay: 0.003203452129590991\n",
      "\n",
      "===============> MODEL TESTING\n"
     ]
    },
    {
     "data": {
      "application/vnd.jupyter.widget-view+json": {
       "model_id": "ff92bb537f154145ab8a8f359aebf5c5",
       "version_major": 2,
       "version_minor": 0
      },
      "text/plain": [
       "Epochs:   0%|          | 0/100 [00:00<?, ?it/s]"
      ]
     },
     "metadata": {},
     "output_type": "display_data"
    },
    {
     "name": "stdout",
     "output_type": "stream",
     "text": [
      "EarlyStopping counter: 1 out of 6\n",
      "EarlyStopping counter: 1 out of 6\n",
      "EarlyStopping counter: 2 out of 6\n",
      "EarlyStopping counter: 3 out of 6\n",
      "EarlyStopping counter: 4 out of 6\n",
      "EarlyStopping counter: 5 out of 6\n"
     ]
    },
    {
     "name": "stderr",
     "output_type": "stream",
     "text": [
      "/Users/Niki/Prediction-of-Active-and-Inactive-Regulatory-Regions-with-Embracenet-Multimodal-Neural-Network-/BIOINF_tesi/models/utils/training_models.py:317: ExperimentalWarning: PatientPruner is experimental (supported from v2.8.0). The interface can change in the future.\n",
      "  pruner=optuna.pruners.PatientPruner(optuna.pruners.MedianPruner(), patience=2),\n",
      "/Users/Niki/Prediction-of-Active-and-Inactive-Regulatory-Regions-with-Embracenet-Multimodal-Neural-Network-/BIOINF_tesi/models/utils/training_models.py:319: ExperimentalWarning: BoTorchSampler is experimental (supported from v2.4.0). The interface can change in the future.\n",
      "  sampler=BoTorchSampler())\n",
      "\u001b[32m[I 2021-08-09 02:56:44,589]\u001b[0m A new study created in RDB with name: GM12878_active_EP_vs_inactive_rest_CNN_1_2\u001b[0m\n"
     ]
    },
    {
     "name": "stdout",
     "output_type": "stream",
     "text": [
      "EarlyStopping counter: 6 out of 6\n",
      "Early stopping the training\n",
      "AUPRC test score: 0.15993464052287576\n",
      "\n",
      "\n",
      ">>> ITERATION N. 2\n",
      "\n",
      "===============> HYPERPARAMETERS TUNING\n"
     ]
    },
    {
     "data": {
      "application/vnd.jupyter.widget-view+json": {
       "model_id": "2fff7fdb2f9248abb406a94254a9d44b",
       "version_major": 2,
       "version_minor": 0
      },
      "text/plain": [
       "Epochs:   0%|          | 0/100 [00:00<?, ?it/s]"
      ]
     },
     "metadata": {},
     "output_type": "display_data"
    },
    {
     "name": "stdout",
     "output_type": "stream",
     "text": [
      "EarlyStopping counter: 1 out of 6\n",
      "EarlyStopping counter: 2 out of 6\n",
      "EarlyStopping counter: 3 out of 6\n",
      "EarlyStopping counter: 1 out of 6\n",
      "EarlyStopping counter: 1 out of 6\n",
      "EarlyStopping counter: 2 out of 6\n",
      "EarlyStopping counter: 3 out of 6\n",
      "EarlyStopping counter: 4 out of 6\n",
      "EarlyStopping counter: 5 out of 6\n"
     ]
    },
    {
     "name": "stderr",
     "output_type": "stream",
     "text": [
      "\u001b[32m[I 2021-08-09 03:31:38,402]\u001b[0m Trial 0 finished with value: 0.15651424846340095 and parameters: {'n_layers': 1, 'out_channels_l0': 16, 'kernel_size_l0': 15, 'dropout_l0': 0.4, 'optimizer': 'Adam', 'lr': 0.0012031584023507696, 'weight_decay': 0.0007417141551043692}. Best is trial 0 with value: 0.15651424846340095.\u001b[0m\n"
     ]
    },
    {
     "name": "stdout",
     "output_type": "stream",
     "text": [
      "EarlyStopping counter: 6 out of 6\n",
      "Early stopping the training\n"
     ]
    },
    {
     "data": {
      "application/vnd.jupyter.widget-view+json": {
       "model_id": "640c562e91ed4f628e09b8f1786fc6ad",
       "version_major": 2,
       "version_minor": 0
      },
      "text/plain": [
       "Epochs:   0%|          | 0/100 [00:00<?, ?it/s]"
      ]
     },
     "metadata": {},
     "output_type": "display_data"
    },
    {
     "name": "stdout",
     "output_type": "stream",
     "text": [
      "EarlyStopping counter: 1 out of 6\n",
      "EarlyStopping counter: 2 out of 6\n",
      "EarlyStopping counter: 3 out of 6\n",
      "EarlyStopping counter: 4 out of 6\n",
      "EarlyStopping counter: 5 out of 6\n"
     ]
    },
    {
     "name": "stderr",
     "output_type": "stream",
     "text": [
      "\u001b[32m[I 2021-08-09 04:02:52,841]\u001b[0m Trial 1 finished with value: 0.15657990314769984 and parameters: {'n_layers': 3, 'out_channels_l0': 64, 'kernel_size_l0': 15, 'dropout_l0': 0.3, 'out_channels_l1': 64, 'kernel_size_l1': 5, 'dropout_l1': 0.3, 'out_channels_l2': 64, 'kernel_size_l2': 15, 'dropout_l2': 0.5, 'optimizer': 'Adamax', 'lr': 0.05821734480845284, 'weight_decay': 0.0727439866688304}. Best is trial 1 with value: 0.15657990314769984.\u001b[0m\n"
     ]
    },
    {
     "name": "stdout",
     "output_type": "stream",
     "text": [
      "EarlyStopping counter: 6 out of 6\n",
      "Early stopping the training\n"
     ]
    },
    {
     "data": {
      "application/vnd.jupyter.widget-view+json": {
       "model_id": "e9eeddd2b833424390f48f0cd988a3b8",
       "version_major": 2,
       "version_minor": 0
      },
      "text/plain": [
       "Epochs:   0%|          | 0/100 [00:00<?, ?it/s]"
      ]
     },
     "metadata": {},
     "output_type": "display_data"
    },
    {
     "name": "stdout",
     "output_type": "stream",
     "text": [
      "EarlyStopping counter: 1 out of 6\n",
      "EarlyStopping counter: 1 out of 6\n",
      "EarlyStopping counter: 2 out of 6\n",
      "EarlyStopping counter: 3 out of 6\n",
      "EarlyStopping counter: 4 out of 6\n",
      "EarlyStopping counter: 5 out of 6\n"
     ]
    },
    {
     "name": "stderr",
     "output_type": "stream",
     "text": [
      "\u001b[32m[I 2021-08-09 04:27:51,327]\u001b[0m Trial 2 finished with value: 0.15625162972620604 and parameters: {'n_layers': 1, 'out_channels_l0': 16, 'kernel_size_l0': 11, 'dropout_l0': 0, 'optimizer': 'Adam', 'lr': 0.007977403278966358, 'weight_decay': 0.004369869924266906}. Best is trial 1 with value: 0.15657990314769984.\u001b[0m\n"
     ]
    },
    {
     "name": "stdout",
     "output_type": "stream",
     "text": [
      "EarlyStopping counter: 6 out of 6\n",
      "Early stopping the training\n",
      "Study statistics: \n",
      "  Number of finished trials:  3\n",
      "  Number of pruned trials:  0\n",
      "  Number of complete trials:  3\n",
      "Best trial:\n",
      "  Value:  0.15657990314769984\n",
      "  Params: \n",
      "    dropout_l0: 0.3\n",
      "    dropout_l1: 0.3\n",
      "    dropout_l2: 0.5\n",
      "    kernel_size_l0: 15\n",
      "    kernel_size_l1: 5\n",
      "    kernel_size_l2: 15\n",
      "    lr: 0.05821734480845284\n",
      "    n_layers: 3\n",
      "    optimizer: Adamax\n",
      "    out_channels_l0: 64\n",
      "    out_channels_l1: 64\n",
      "    out_channels_l2: 64\n",
      "    weight_decay: 0.0727439866688304\n",
      "\n",
      "===============> MODEL TESTING\n"
     ]
    },
    {
     "data": {
      "application/vnd.jupyter.widget-view+json": {
       "model_id": "6a5908c9ad014ecca3f3f6566acb318a",
       "version_major": 2,
       "version_minor": 0
      },
      "text/plain": [
       "Epochs:   0%|          | 0/100 [00:00<?, ?it/s]"
      ]
     },
     "metadata": {},
     "output_type": "display_data"
    },
    {
     "name": "stdout",
     "output_type": "stream",
     "text": [
      "EarlyStopping counter: 1 out of 6\n",
      "EarlyStopping counter: 2 out of 6\n",
      "EarlyStopping counter: 3 out of 6\n",
      "EarlyStopping counter: 4 out of 6\n",
      "EarlyStopping counter: 1 out of 6\n",
      "EarlyStopping counter: 2 out of 6\n",
      "EarlyStopping counter: 3 out of 6\n",
      "EarlyStopping counter: 4 out of 6\n",
      "EarlyStopping counter: 5 out of 6\n"
     ]
    },
    {
     "name": "stderr",
     "output_type": "stream",
     "text": [
      "/Users/Niki/Prediction-of-Active-and-Inactive-Regulatory-Regions-with-Embracenet-Multimodal-Neural-Network-/BIOINF_tesi/models/utils/training_models.py:317: ExperimentalWarning: PatientPruner is experimental (supported from v2.8.0). The interface can change in the future.\n",
      "  pruner=optuna.pruners.PatientPruner(optuna.pruners.MedianPruner(), patience=2),\n",
      "/Users/Niki/Prediction-of-Active-and-Inactive-Regulatory-Regions-with-Embracenet-Multimodal-Neural-Network-/BIOINF_tesi/models/utils/training_models.py:319: ExperimentalWarning: BoTorchSampler is experimental (supported from v2.4.0). The interface can change in the future.\n",
      "  sampler=BoTorchSampler())\n",
      "\u001b[32m[I 2021-08-09 05:30:19,729]\u001b[0m A new study created in RDB with name: GM12878_active_EP_vs_inactive_rest_CNN_1_2_3\u001b[0m\n"
     ]
    },
    {
     "name": "stdout",
     "output_type": "stream",
     "text": [
      "EarlyStopping counter: 6 out of 6\n",
      "Early stopping the training\n",
      "AUPRC test score: 0.15501692343604098\n",
      "\n",
      "\n",
      ">>> ITERATION N. 3\n",
      "\n",
      "===============> HYPERPARAMETERS TUNING\n"
     ]
    },
    {
     "data": {
      "application/vnd.jupyter.widget-view+json": {
       "model_id": "348631b5235443b4b4a67d79105d92ba",
       "version_major": 2,
       "version_minor": 0
      },
      "text/plain": [
       "Epochs:   0%|          | 0/100 [00:00<?, ?it/s]"
      ]
     },
     "metadata": {},
     "output_type": "display_data"
    },
    {
     "name": "stdout",
     "output_type": "stream",
     "text": [
      "EarlyStopping counter: 1 out of 6\n",
      "EarlyStopping counter: 1 out of 6\n",
      "EarlyStopping counter: 2 out of 6\n",
      "EarlyStopping counter: 3 out of 6\n",
      "EarlyStopping counter: 1 out of 6\n",
      "EarlyStopping counter: 1 out of 6\n",
      "EarlyStopping counter: 1 out of 6\n",
      "EarlyStopping counter: 2 out of 6\n",
      "EarlyStopping counter: 1 out of 6\n",
      "EarlyStopping counter: 1 out of 6\n",
      "EarlyStopping counter: 1 out of 6\n",
      "EarlyStopping counter: 2 out of 6\n",
      "EarlyStopping counter: 3 out of 6\n",
      "EarlyStopping counter: 1 out of 6\n",
      "EarlyStopping counter: 1 out of 6\n",
      "EarlyStopping counter: 1 out of 6\n",
      "EarlyStopping counter: 2 out of 6\n",
      "EarlyStopping counter: 3 out of 6\n",
      "EarlyStopping counter: 1 out of 6\n",
      "EarlyStopping counter: 2 out of 6\n",
      "EarlyStopping counter: 3 out of 6\n",
      "EarlyStopping counter: 1 out of 6\n",
      "EarlyStopping counter: 1 out of 6\n",
      "EarlyStopping counter: 2 out of 6\n",
      "EarlyStopping counter: 3 out of 6\n",
      "EarlyStopping counter: 1 out of 6\n",
      "EarlyStopping counter: 2 out of 6\n",
      "EarlyStopping counter: 3 out of 6\n",
      "EarlyStopping counter: 1 out of 6\n",
      "EarlyStopping counter: 2 out of 6\n",
      "EarlyStopping counter: 3 out of 6\n",
      "EarlyStopping counter: 4 out of 6\n",
      "EarlyStopping counter: 5 out of 6\n",
      "EarlyStopping counter: 1 out of 6\n",
      "EarlyStopping counter: 2 out of 6\n",
      "EarlyStopping counter: 3 out of 6\n",
      "EarlyStopping counter: 4 out of 6\n",
      "EarlyStopping counter: 1 out of 6\n",
      "EarlyStopping counter: 2 out of 6\n",
      "EarlyStopping counter: 1 out of 6\n",
      "EarlyStopping counter: 2 out of 6\n",
      "EarlyStopping counter: 1 out of 6\n",
      "EarlyStopping counter: 2 out of 6\n",
      "EarlyStopping counter: 3 out of 6\n",
      "EarlyStopping counter: 4 out of 6\n",
      "EarlyStopping counter: 5 out of 6\n"
     ]
    },
    {
     "name": "stderr",
     "output_type": "stream",
     "text": [
      "\u001b[32m[I 2021-08-12 14:02:20,216]\u001b[0m Trial 0 finished with value: 0.15794273402464556 and parameters: {'n_layers': 3, 'out_channels_l0': 32, 'kernel_size_l0': 5, 'dropout_l0': 0, 'out_channels_l1': 64, 'kernel_size_l1': 5, 'dropout_l1': 0.4, 'out_channels_l2': 256, 'kernel_size_l2': 11, 'dropout_l2': 0, 'optimizer': 'AdamW', 'lr': 1.6982799505992024e-05, 'weight_decay': 0.0012039318933562265}. Best is trial 0 with value: 0.15794273402464556.\u001b[0m\n"
     ]
    },
    {
     "name": "stdout",
     "output_type": "stream",
     "text": [
      "EarlyStopping counter: 6 out of 6\n",
      "Early stopping the training\n"
     ]
    },
    {
     "data": {
      "application/vnd.jupyter.widget-view+json": {
       "model_id": "309707e786794696bca026ddce01ad15",
       "version_major": 2,
       "version_minor": 0
      },
      "text/plain": [
       "Epochs:   0%|          | 0/100 [00:00<?, ?it/s]"
      ]
     },
     "metadata": {},
     "output_type": "display_data"
    },
    {
     "name": "stdout",
     "output_type": "stream",
     "text": [
      "EarlyStopping counter: 1 out of 6\n",
      "EarlyStopping counter: 1 out of 6\n",
      "EarlyStopping counter: 2 out of 6\n",
      "EarlyStopping counter: 3 out of 6\n",
      "EarlyStopping counter: 4 out of 6\n",
      "EarlyStopping counter: 5 out of 6\n"
     ]
    },
    {
     "name": "stderr",
     "output_type": "stream",
     "text": [
      "\u001b[32m[I 2021-08-12 14:36:48,004]\u001b[0m Trial 1 finished with value: 0.15656593406593414 and parameters: {'n_layers': 3, 'out_channels_l0': 32, 'kernel_size_l0': 11, 'dropout_l0': 0, 'out_channels_l1': 64, 'kernel_size_l1': 5, 'dropout_l1': 0.3, 'out_channels_l2': 96, 'kernel_size_l2': 11, 'dropout_l2': 0, 'optimizer': 'Adam', 'lr': 0.00035882384303110443, 'weight_decay': 0.040506697282495084}. Best is trial 0 with value: 0.15794273402464556.\u001b[0m\n"
     ]
    },
    {
     "name": "stdout",
     "output_type": "stream",
     "text": [
      "EarlyStopping counter: 6 out of 6\n",
      "Early stopping the training\n"
     ]
    },
    {
     "data": {
      "application/vnd.jupyter.widget-view+json": {
       "model_id": "4c55c659d3c54c7dbb137a28dcb3250c",
       "version_major": 2,
       "version_minor": 0
      },
      "text/plain": [
       "Epochs:   0%|          | 0/100 [00:00<?, ?it/s]"
      ]
     },
     "metadata": {},
     "output_type": "display_data"
    },
    {
     "name": "stdout",
     "output_type": "stream",
     "text": [
      "EarlyStopping counter: 1 out of 6\n",
      "EarlyStopping counter: 2 out of 6\n",
      "EarlyStopping counter: 3 out of 6\n",
      "EarlyStopping counter: 4 out of 6\n",
      "EarlyStopping counter: 5 out of 6\n"
     ]
    },
    {
     "name": "stderr",
     "output_type": "stream",
     "text": [
      "\u001b[32m[I 2021-08-12 14:51:05,899]\u001b[0m Trial 2 finished with value: 0.15701465201465215 and parameters: {'n_layers': 2, 'out_channels_l0': 16, 'kernel_size_l0': 15, 'dropout_l0': 0.4, 'out_channels_l1': 32, 'kernel_size_l1': 5, 'dropout_l1': 0.3, 'optimizer': 'Adamax', 'lr': 0.014938814380965778, 'weight_decay': 0.0006473312951472917}. Best is trial 0 with value: 0.15794273402464556.\u001b[0m\n"
     ]
    },
    {
     "name": "stdout",
     "output_type": "stream",
     "text": [
      "EarlyStopping counter: 6 out of 6\n",
      "Early stopping the training\n",
      "Study statistics: \n",
      "  Number of finished trials:  3\n",
      "  Number of pruned trials:  0\n",
      "  Number of complete trials:  3\n",
      "Best trial:\n",
      "  Value:  0.15794273402464556\n",
      "  Params: \n",
      "    dropout_l0: 0\n",
      "    dropout_l1: 0.4\n",
      "    dropout_l2: 0\n",
      "    kernel_size_l0: 5\n",
      "    kernel_size_l1: 5\n",
      "    kernel_size_l2: 11\n",
      "    lr: 1.6982799505992024e-05\n",
      "    n_layers: 3\n",
      "    optimizer: AdamW\n",
      "    out_channels_l0: 32\n",
      "    out_channels_l1: 64\n",
      "    out_channels_l2: 256\n",
      "    weight_decay: 0.0012039318933562265\n",
      "\n",
      "===============> MODEL TESTING\n"
     ]
    },
    {
     "data": {
      "application/vnd.jupyter.widget-view+json": {
       "model_id": "3677b0500bd341a28ac527fdad9b8f2f",
       "version_major": 2,
       "version_minor": 0
      },
      "text/plain": [
       "Epochs:   0%|          | 0/100 [00:00<?, ?it/s]"
      ]
     },
     "metadata": {},
     "output_type": "display_data"
    },
    {
     "name": "stdout",
     "output_type": "stream",
     "text": [
      "EarlyStopping counter: 1 out of 6\n",
      "EarlyStopping counter: 1 out of 6\n",
      "EarlyStopping counter: 2 out of 6\n",
      "EarlyStopping counter: 3 out of 6\n",
      "EarlyStopping counter: 1 out of 6\n",
      "EarlyStopping counter: 2 out of 6\n",
      "EarlyStopping counter: 3 out of 6\n",
      "EarlyStopping counter: 1 out of 6\n",
      "EarlyStopping counter: 1 out of 6\n",
      "EarlyStopping counter: 1 out of 6\n",
      "EarlyStopping counter: 2 out of 6\n",
      "EarlyStopping counter: 1 out of 6\n",
      "EarlyStopping counter: 2 out of 6\n",
      "EarlyStopping counter: 3 out of 6\n",
      "EarlyStopping counter: 4 out of 6\n",
      "EarlyStopping counter: 1 out of 6\n",
      "EarlyStopping counter: 1 out of 6\n",
      "EarlyStopping counter: 2 out of 6\n",
      "EarlyStopping counter: 3 out of 6\n",
      "EarlyStopping counter: 4 out of 6\n",
      "EarlyStopping counter: 1 out of 6\n",
      "EarlyStopping counter: 2 out of 6\n",
      "EarlyStopping counter: 3 out of 6\n",
      "EarlyStopping counter: 4 out of 6\n",
      "EarlyStopping counter: 5 out of 6\n",
      "EarlyStopping counter: 6 out of 6\n",
      "Early stopping the training\n",
      "AUPRC test score: 0.15833143001817493\n",
      "\n",
      "\n",
      "\n",
      "3-FOLD CROSS-VALIDATION AUPRC TEST SCORE: 0.15776\n"
     ]
    }
   ],
   "source": [
    "kf_CV = Kfold_CV()\n",
    "\n",
    "kf_CV(build_dataloader_pipeline = pipe_data_load,\n",
    "                num_epochs = 100,\n",
    "                n_folds=3,\n",
    "                cell_line=cell_line,\n",
    "                sequence=True,\n",
    "                augmentation=False,\n",
    "                model = model,\n",
    "                device = device,\n",
    "                study_name = f'{cell_line}_{task}_{model.__name__}',\n",
    "                hp_model_path = f'{cell_line}_{task}_{model.__name__}_HP.pt',\n",
    "                test_model_path = f'{cell_line}_{task}_{model.__name__}_TEST.pt')"
   ]
  },
  {
   "cell_type": "code",
   "execution_count": 66,
   "metadata": {},
   "outputs": [],
   "source": [
    "results_dict[cell_line][task][model.__name__] = kf_CV.scores_dict"
   ]
  },
  {
   "cell_type": "code",
   "execution_count": 67,
   "metadata": {},
   "outputs": [],
   "source": [
    "with open ('results_dict.pickle', 'wb') as fout:\n",
    "    pickle.dump(OrderedDict(results_dict), fout)"
   ]
  },
  {
   "cell_type": "code",
   "execution_count": null,
   "metadata": {},
   "outputs": [],
   "source": []
  }
 ],
 "metadata": {
  "environment": {
   "name": "pytorch-gpu.1-9.m79",
   "type": "gcloud",
   "uri": "gcr.io/deeplearning-platform-release/pytorch-gpu.1-9:m79"
  },
  "kernelspec": {
   "display_name": "Python 3",
   "language": "python",
   "name": "python3"
  },
  "language_info": {
   "codemirror_mode": {
    "name": "ipython",
    "version": 3
   },
   "file_extension": ".py",
   "mimetype": "text/x-python",
   "name": "python",
   "nbconvert_exporter": "python",
   "pygments_lexer": "ipython3",
   "version": "3.7.10"
  }
 },
 "nbformat": 4,
 "nbformat_minor": 4
}
