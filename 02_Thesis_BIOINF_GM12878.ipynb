{
 "cells": [
  {
   "cell_type": "markdown",
   "metadata": {
    "id": "zqpqu8UJFySp"
   },
   "source": [
    "## BIOINFORMATICS THESIS: MULTIMODAL NEURAL NETWORK"
   ]
  },
  {
   "cell_type": "markdown",
   "metadata": {},
   "source": [
    "# CELL LINE: GM12878"
   ]
  },
  {
   "cell_type": "code",
   "execution_count": 1,
   "metadata": {},
   "outputs": [],
   "source": [
    "import pandas as pd\n",
    "import numpy as np\n",
    "import os\n",
    "\n",
    "import torch\n",
    "import torch.nn.functional as F\n",
    "from torch.utils.data import Dataset, DataLoader\n",
    "import torch.nn as nn\n",
    "import torch.optim as optim\n",
    "\n",
    "import sqlite3\n",
    "from sqlalchemy import create_engine\n",
    "\n",
    "device = 'cuda' if torch.cuda.is_available() else 'cpu'"
   ]
  },
  {
   "cell_type": "code",
   "execution_count": 2,
   "metadata": {},
   "outputs": [
    {
     "data": {
      "text/plain": [
       "'cpu'"
      ]
     },
     "execution_count": 2,
     "metadata": {},
     "output_type": "execute_result"
    }
   ],
   "source": [
    "device"
   ]
  },
  {
   "cell_type": "raw",
   "metadata": {},
   "source": [
    "# create a database to store optuna studies with sqlite backend\n",
    "engine = create_engine('sqlite:///BIOINF_optuna_tuning.db')"
   ]
  },
  {
   "cell_type": "markdown",
   "metadata": {},
   "source": [
    "---"
   ]
  },
  {
   "cell_type": "code",
   "execution_count": 3,
   "metadata": {},
   "outputs": [],
   "source": [
    "from BIOINF_tesi.data_pipe import Load_Create_Task\n",
    "from BIOINF_tesi.data_pipe import Build_DataLoader_Pipeline"
   ]
  },
  {
   "cell_type": "code",
   "execution_count": 4,
   "metadata": {},
   "outputs": [],
   "source": [
    "from BIOINF_tesi.models import FFNN_define_model, CNN_define_model, CNN_LSTM_define_model\n",
    "from BIOINF_tesi.models.utils import fit, Param_Search, Kfold_CV"
   ]
  },
  {
   "cell_type": "markdown",
   "metadata": {},
   "source": [
    "## 1) ACTIVE ENHANCERS vs INACTIVE ENHANCERS"
   ]
  },
  {
   "cell_type": "code",
   "execution_count": 5,
   "metadata": {},
   "outputs": [],
   "source": [
    "%store -r data"
   ]
  },
  {
   "cell_type": "code",
   "execution_count": 7,
   "metadata": {},
   "outputs": [
    {
     "name": "stdout",
     "output_type": "stream",
     "text": [
      "Data transformation Done!\n",
      "\n",
      "Check correlation with labels Done!\n",
      "\n",
      "Check correlation between features Done!\n",
      "\n",
      "Data Preprocessing Done!\n"
     ]
    }
   ],
   "source": [
    "data_dict, labels_dict = data.get_task('active_E_vs_inactive_E')\n",
    "pipe_data_load = Build_DataLoader_Pipeline(data_dict, labels_dict, \n",
    "                                           type_test=['kruskal_wallis_test', 'wilcoxon_test'],\n",
    "                                           intersection=True,\n",
    "                                           path_name='active_E_vs_inactive_E.pickle', \n",
    "                                           verbose=False)"
   ]
  },
  {
   "cell_type": "code",
   "execution_count": null,
   "metadata": {},
   "outputs": [],
   "source": [
    "model = CNN_LSTM_define_model"
   ]
  },
  {
   "cell_type": "code",
   "execution_count": null,
   "metadata": {},
   "outputs": [],
   "source": [
    "kf_CV = Kfold_CV()\n",
    "\n",
    "kf_CV.run(build_dataloader_pipeline = pipe_data_load,\n",
    "                num_epochs = 1,\n",
    "                n_folds=2,\n",
    "                cell_line='H1',\n",
    "                sequence=True,\n",
    "                augmentation=False,\n",
    "                model = model,\n",
    "                study_name = 'prova_lstm',\n",
    "                hp_model_path = 'provaa',\n",
    "                test_model_path = 'provaaw')"
   ]
  },
  {
   "cell_type": "markdown",
   "metadata": {},
   "source": [
    "---"
   ]
  },
  {
   "cell_type": "markdown",
   "metadata": {},
   "source": [
    "## 2) ACTIVE PROMOTERS vs INACTIVE PROMOTERS"
   ]
  },
  {
   "cell_type": "code",
   "execution_count": null,
   "metadata": {},
   "outputs": [],
   "source": [
    "%store -r data"
   ]
  },
  {
   "cell_type": "code",
   "execution_count": 9,
   "metadata": {},
   "outputs": [
    {
     "name": "stdout",
     "output_type": "stream",
     "text": [
      "Data transformation Done!\n",
      "\n",
      "Check correlation with labels Done!\n",
      "\n",
      "Check correlation between features Done!\n",
      "\n",
      "Data Preprocessing Done!\n"
     ]
    }
   ],
   "source": [
    "data_dict, labels_dict = data.get_task('active_P_vs_inactive_P')\n",
    "pipe_data_load = Build_DataLoader_Pipeline(data_dict, labels_dict, \n",
    "                                           type_test=['kruskal_wallis_test', 'wilcoxon_test'],\n",
    "                                           intersection=True,\n",
    "                                           path_name='active_P_vs_inactive_P.pickle', \n",
    "                                           verbose=False)"
   ]
  },
  {
   "cell_type": "markdown",
   "metadata": {},
   "source": [
    "---"
   ]
  },
  {
   "cell_type": "markdown",
   "metadata": {},
   "source": [
    "## 3) ACTIVE ENHANCERS vs ACTIVE PROMOTERS"
   ]
  },
  {
   "cell_type": "code",
   "execution_count": 11,
   "metadata": {},
   "outputs": [
    {
     "name": "stdout",
     "output_type": "stream",
     "text": [
      "Data transformation Done!\n",
      "\n",
      "Check correlation with labels Done!\n",
      "\n",
      "Check correlation between features Done!\n",
      "\n",
      "Data Preprocessing Done!\n"
     ]
    }
   ],
   "source": [
    "data_dict, labels_dict = data.get_task('active_E_vs_active_P')\n",
    "pipe_data_load = Build_DataLoader_Pipeline(data_dict, labels_dict, \n",
    "                                           type_test=['kruskal_wallis_test', 'wilcoxon_test'],\n",
    "                                           intersection=True,\n",
    "                                           path_name='active_E_vs_active_P.pickle', \n",
    "                                           verbose=False)"
   ]
  },
  {
   "cell_type": "markdown",
   "metadata": {},
   "source": [
    "---"
   ]
  },
  {
   "cell_type": "markdown",
   "metadata": {},
   "source": [
    "## 4) INACTIVE ENHANCERS vs INACTIVE PROMOTERS"
   ]
  },
  {
   "cell_type": "code",
   "execution_count": null,
   "metadata": {},
   "outputs": [],
   "source": [
    "data_dict, labels_dict = data.get_task('inactive_E_vs_inactive_P')\n",
    "pipe_data_load = Build_DataLoader_Pipeline(data_dict, labels_dict, \n",
    "                                           type_test=['kruskal_wallis_test', 'wilcoxon_test'],\n",
    "                                           intersection=True,\n",
    "                                           path_name='inactive_E_vs_inactive_P.pickle', \n",
    "                                           verbose=False)"
   ]
  },
  {
   "cell_type": "markdown",
   "metadata": {},
   "source": [
    "---"
   ]
  },
  {
   "cell_type": "markdown",
   "metadata": {},
   "source": [
    "## 5) ACTIVE ENHANCERS + ACTIVE PROMOTERS vs INACTIVE REST"
   ]
  },
  {
   "cell_type": "code",
   "execution_count": null,
   "metadata": {},
   "outputs": [],
   "source": [
    "data_dict, labels_dict = data.get_task('active_EP_vs_inactive_rest')\n",
    "pipe_data_load = Build_DataLoader_Pipeline(data_dict, labels_dict, \n",
    "                                           type_test=['kruskal_wallis_test', 'wilcoxon_test'],\n",
    "                                           intersection=True,\n",
    "                                           path_name='active_EP_vs_inactive_rest.pickle', \n",
    "                                           verbose=False)"
   ]
  },
  {
   "cell_type": "code",
   "execution_count": null,
   "metadata": {},
   "outputs": [],
   "source": []
  }
 ],
 "metadata": {
  "kernelspec": {
   "display_name": "Python 3",
   "language": "python",
   "name": "python3"
  },
  "language_info": {
   "codemirror_mode": {
    "name": "ipython",
    "version": 3
   },
   "file_extension": ".py",
   "mimetype": "text/x-python",
   "name": "python",
   "nbconvert_exporter": "python",
   "pygments_lexer": "ipython3",
   "version": "3.8.8"
  }
 },
 "nbformat": 4,
 "nbformat_minor": 4
}
