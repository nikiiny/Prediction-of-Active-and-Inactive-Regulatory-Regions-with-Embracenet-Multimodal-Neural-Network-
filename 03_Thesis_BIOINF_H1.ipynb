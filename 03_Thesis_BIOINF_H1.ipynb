{
 "cells": [
  {
   "cell_type": "markdown",
   "metadata": {
    "id": "zqpqu8UJFySp"
   },
   "source": [
    "## BIOINFORMATICS THESIS: MULTIMODAL NEURAL NETWORK"
   ]
  },
  {
   "cell_type": "markdown",
   "metadata": {},
   "source": [
    "# CELL LINE: H1"
   ]
  },
  {
   "cell_type": "code",
   "execution_count": 1,
   "metadata": {},
   "outputs": [],
   "source": [
    "import pandas as pd \n",
    "import numpy as np\n",
    "import os\n",
    "\n",
    "import torch\n",
    "import torch.nn.functional as F\n",
    "from torch.utils.data import Dataset, DataLoader\n",
    "import torch.nn as nn\n",
    "import torch.optim as optim\n",
    "from collections import defaultdict, OrderedDict\n",
    "import pickle\n",
    "\n",
    "import sqlite3\n",
    "from sqlalchemy import create_engine\n",
    "\n",
    "device = 'cuda' if torch.cuda.is_available() else 'cpu'"
   ]
  },
  {
   "cell_type": "code",
   "execution_count": 2,
   "metadata": {},
   "outputs": [],
   "source": [
    "# create a database to store optuna studies with sqlite backend\n",
    "#engine = create_engine('sqlite:///BIOINF_optuna_tuning.db')"
   ]
  },
  {
   "cell_type": "code",
   "execution_count": 3,
   "metadata": {},
   "outputs": [],
   "source": [
    "from BIOINF_tesi.data_pipe import CELL_LINES, TASKS"
   ]
  },
  {
   "cell_type": "code",
   "execution_count": 4,
   "metadata": {},
   "outputs": [
    {
     "data": {
      "text/plain": [
       "'H1'"
      ]
     },
     "execution_count": 4,
     "metadata": {},
     "output_type": "execute_result"
    }
   ],
   "source": [
    "cell_line = CELL_LINES[2]\n",
    "cell_line"
   ]
  },
  {
   "cell_type": "markdown",
   "metadata": {},
   "source": [
    "---"
   ]
  },
  {
   "cell_type": "code",
   "execution_count": 5,
   "metadata": {},
   "outputs": [],
   "source": [
    "from BIOINF_tesi.data_pipe import Load_Create_Task\n",
    "from BIOINF_tesi.data_pipe import Build_DataLoader_Pipeline"
   ]
  },
  {
   "cell_type": "code",
   "execution_count": 6,
   "metadata": {},
   "outputs": [],
   "source": [
    "from BIOINF_tesi.models import FFNN, CNN, CNN_LSTM\n",
    "from BIOINF_tesi.models.utils import fit, Param_Search, Kfold_CV"
   ]
  },
  {
   "cell_type": "raw",
   "metadata": {},
   "source": [
    "def dd():\n",
    "    return defaultdict(dict)\n",
    "    \n",
    "results_dict = defaultdict(dd)"
   ]
  },
  {
   "cell_type": "code",
   "execution_count": 7,
   "metadata": {},
   "outputs": [],
   "source": [
    "with open ('results_dict.pickle', 'rb') as fin:\n",
    "    results_dict = pickle.load(fin)\n",
    "    results_dict = defaultdict(lambda: defaultdict(dict), results_dict)"
   ]
  },
  {
   "cell_type": "markdown",
   "metadata": {},
   "source": [
    "## 1) ACTIVE ENHANCERS vs INACTIVE ENHANCERS"
   ]
  },
  {
   "cell_type": "code",
   "execution_count": 8,
   "metadata": {},
   "outputs": [
    {
     "data": {
      "text/plain": [
       "'active_E_vs_inactive_E'"
      ]
     },
     "execution_count": 8,
     "metadata": {},
     "output_type": "execute_result"
    }
   ],
   "source": [
    "task = TASKS[0]\n",
    "task"
   ]
  },
  {
   "cell_type": "code",
   "execution_count": 9,
   "metadata": {},
   "outputs": [
    {
     "name": "stdout",
     "output_type": "stream",
     "text": [
      "Data Preprocessing Done!\n"
     ]
    }
   ],
   "source": [
    "pipe_data_load = Build_DataLoader_Pipeline(path_name=f'{task}.pickle')"
   ]
  },
  {
   "cell_type": "markdown",
   "metadata": {},
   "source": [
    "### 1. FFNN"
   ]
  },
  {
   "cell_type": "code",
   "execution_count": 50,
   "metadata": {},
   "outputs": [],
   "source": [
    "model=FFNN"
   ]
  },
  {
   "cell_type": "code",
   "execution_count": 51,
   "metadata": {
    "scrolled": true
   },
   "outputs": [
    {
     "name": "stdout",
     "output_type": "stream",
     "text": [
      ">>> ITERATION N. 1\n",
      "\n",
      "===============> HYPERPARAMETERS TUNING\n"
     ]
    },
    {
     "name": "stderr",
     "output_type": "stream",
     "text": [
      "/Users/Niki/Prediction-of-Active-and-Inactive-Regulatory-Regions-with-Embracenet-Multimodal-Neural-Network-/BIOINF_tesi/models/utils/training_models.py:362: ExperimentalWarning: PatientPruner is experimental (supported from v2.8.0). The interface can change in the future.\n",
      "  pruner=optuna.pruners.PatientPruner(optuna.pruners.MedianPruner(), patience=2),\n",
      "\u001b[32m[I 2021-10-25 09:25:43,311]\u001b[0m Using an existing study with name 'H1_active_E_vs_inactive_E_FFNN_smote_1' instead of creating a new one.\u001b[0m\n"
     ]
    },
    {
     "name": "stdout",
     "output_type": "stream",
     "text": [
      "Study statistics: \n",
      "  Number of finished trials:  3\n",
      "  Number of pruned trials:  0\n",
      "  Number of complete trials:  3\n",
      "Best trial:\n",
      "  Value:  0.04730633802816902\n",
      "  Params: \n",
      "    dropout_l0: 0.0\n",
      "    dropout_l1: 0.4\n",
      "    lr: 0.073543018167037\n",
      "    n_layers: 2\n",
      "    n_units_l0: 256\n",
      "    n_units_l1: 128\n",
      "    optimizer: Adam\n",
      "    weight_decay: 0.034246646255453164\n",
      "\n",
      "===============> MODEL TESTING\n",
      "AUPRC test score: 0.045759682224428985\n",
      "\n",
      "\n",
      ">>> ITERATION N. 2\n",
      "\n",
      "===============> HYPERPARAMETERS TUNING\n"
     ]
    },
    {
     "name": "stderr",
     "output_type": "stream",
     "text": [
      "/Users/Niki/Prediction-of-Active-and-Inactive-Regulatory-Regions-with-Embracenet-Multimodal-Neural-Network-/BIOINF_tesi/models/utils/training_models.py:362: ExperimentalWarning: PatientPruner is experimental (supported from v2.8.0). The interface can change in the future.\n",
      "  pruner=optuna.pruners.PatientPruner(optuna.pruners.MedianPruner(), patience=2),\n",
      "\u001b[32m[I 2021-10-25 09:25:44,082]\u001b[0m Using an existing study with name 'H1_active_E_vs_inactive_E_FFNN_smote_1_2' instead of creating a new one.\u001b[0m\n"
     ]
    },
    {
     "name": "stdout",
     "output_type": "stream",
     "text": [
      "Study statistics: \n",
      "  Number of finished trials:  3\n",
      "  Number of pruned trials:  0\n",
      "  Number of complete trials:  3\n",
      "Best trial:\n",
      "  Value:  0.1236696251814758\n",
      "  Params: \n",
      "    dropout_l0: 0.4\n",
      "    dropout_l1: 0.2\n",
      "    lr: 0.0014620572415171775\n",
      "    n_layers: 2\n",
      "    n_units_l0: 256\n",
      "    n_units_l1: 32\n",
      "    optimizer: RMSprop\n",
      "    weight_decay: 0.0008694224861994432\n",
      "\n",
      "===============> MODEL TESTING\n"
     ]
    },
    {
     "name": "stderr",
     "output_type": "stream",
     "text": [
      "/Users/Niki/Prediction-of-Active-and-Inactive-Regulatory-Regions-with-Embracenet-Multimodal-Neural-Network-/BIOINF_tesi/models/utils/training_models.py:362: ExperimentalWarning: PatientPruner is experimental (supported from v2.8.0). The interface can change in the future.\n",
      "  pruner=optuna.pruners.PatientPruner(optuna.pruners.MedianPruner(), patience=2),\n",
      "\u001b[32m[I 2021-10-25 09:25:44,857]\u001b[0m Using an existing study with name 'H1_active_E_vs_inactive_E_FFNN_smote_1_2_3' instead of creating a new one.\u001b[0m\n"
     ]
    },
    {
     "name": "stdout",
     "output_type": "stream",
     "text": [
      "AUPRC test score: 0.1316634268072461\n",
      "\n",
      "\n",
      ">>> ITERATION N. 3\n",
      "\n",
      "===============> HYPERPARAMETERS TUNING\n",
      "Study statistics: \n",
      "  Number of finished trials:  3\n",
      "  Number of pruned trials:  0\n",
      "  Number of complete trials:  3\n",
      "Best trial:\n",
      "  Value:  0.1457991518796074\n",
      "  Params: \n",
      "    dropout_l0: 0.3\n",
      "    dropout_l1: 0.3\n",
      "    lr: 0.0006156157495279749\n",
      "    n_layers: 2\n",
      "    n_units_l0: 64\n",
      "    n_units_l1: 128\n",
      "    optimizer: RMSprop\n",
      "    weight_decay: 0.00014668336185549147\n",
      "\n",
      "===============> MODEL TESTING\n",
      "AUPRC test score: 0.14380079598813864\n",
      "\n",
      "\n",
      "\n",
      "3-FOLD CROSS-VALIDATION AUPRC TEST SCORE: 0.10707\n"
     ]
    }
   ],
   "source": [
    "# IMBALANCED\n",
    "type_augm_genfeatures = 'smote'\n",
    "\n",
    "kf_CV = Kfold_CV()\n",
    "\n",
    "kf_CV(build_dataloader_pipeline = pipe_data_load,\n",
    "                num_epochs = 100,\n",
    "                n_folds=3,\n",
    "                cell_line=cell_line,\n",
    "                sequence=False,\n",
    "                type_augm_genfeatures=type_augm_genfeatures,\n",
    "                model = model,\n",
    "                device = device,\n",
    "                task=task,\n",
    "                sampler = 'TPE',\n",
    "                study_name = f'{cell_line}_{task}_{model.__name__}_{type_augm_genfeatures}',\n",
    "                test_model_path = f'{cell_line}_{task}_{model.__name__}_{type_augm_genfeatures}_TEST')"
   ]
  },
  {
   "cell_type": "code",
   "execution_count": 52,
   "metadata": {},
   "outputs": [],
   "source": [
    "results_dict[cell_line][task][f'{model.__name__}_{type_augm_genfeatures}'] = kf_CV.scores_dict"
   ]
  },
  {
   "cell_type": "code",
   "execution_count": 53,
   "metadata": {},
   "outputs": [],
   "source": [
    "with open ('results_dict.pickle', 'wb') as fout:\n",
    "    pickle.dump(OrderedDict(results_dict), fout)"
   ]
  },
  {
   "cell_type": "code",
   "execution_count": null,
   "metadata": {},
   "outputs": [],
   "source": []
  },
  {
   "cell_type": "code",
   "execution_count": 54,
   "metadata": {
    "scrolled": true
   },
   "outputs": [
    {
     "name": "stdout",
     "output_type": "stream",
     "text": [
      ">>> ITERATION N. 1\n",
      "\n",
      "===============> HYPERPARAMETERS TUNING\n"
     ]
    },
    {
     "name": "stderr",
     "output_type": "stream",
     "text": [
      "/Users/Niki/Prediction-of-Active-and-Inactive-Regulatory-Regions-with-Embracenet-Multimodal-Neural-Network-/BIOINF_tesi/models/utils/training_models.py:362: ExperimentalWarning: PatientPruner is experimental (supported from v2.8.0). The interface can change in the future.\n",
      "  pruner=optuna.pruners.PatientPruner(optuna.pruners.MedianPruner(), patience=2),\n",
      "\u001b[32m[I 2021-10-25 09:25:45,404]\u001b[0m Using an existing study with name 'H1_active_E_vs_inactive_E_FFNN_double_1' instead of creating a new one.\u001b[0m\n"
     ]
    },
    {
     "name": "stdout",
     "output_type": "stream",
     "text": [
      "Study statistics: \n",
      "  Number of finished trials: "
     ]
    },
    {
     "name": "stderr",
     "output_type": "stream",
     "text": [
      "/Users/Niki/Prediction-of-Active-and-Inactive-Regulatory-Regions-with-Embracenet-Multimodal-Neural-Network-/BIOINF_tesi/models/utils/training_models.py:362: ExperimentalWarning: PatientPruner is experimental (supported from v2.8.0). The interface can change in the future.\n",
      "  pruner=optuna.pruners.PatientPruner(optuna.pruners.MedianPruner(), patience=2),\n",
      "\u001b[32m[I 2021-10-25 09:25:45,631]\u001b[0m Using an existing study with name 'H1_active_E_vs_inactive_E_FFNN_double_1_2' instead of creating a new one.\u001b[0m\n"
     ]
    },
    {
     "name": "stdout",
     "output_type": "stream",
     "text": [
      " 3\n",
      "  Number of pruned trials:  0\n",
      "  Number of complete trials:  3\n",
      "Best trial:\n",
      "  Value:  0.13800257078864614\n",
      "  Params: \n",
      "    dropout_l0: 0.2\n",
      "    dropout_l1: 0.4\n",
      "    dropout_l2: 0.0\n",
      "    lr: 0.009854703824174556\n",
      "    n_layers: 3\n",
      "    n_units_l0: 64\n",
      "    n_units_l1: 128\n",
      "    n_units_l2: 4\n",
      "    optimizer: Adam\n",
      "    weight_decay: 0.007936213672233029\n",
      "\n",
      "===============> MODEL TESTING\n",
      "AUPRC test score: 0.04586395233366434\n",
      "\n",
      "\n",
      ">>> ITERATION N. 2\n",
      "\n",
      "===============> HYPERPARAMETERS TUNING\n",
      "Study statistics: \n",
      "  Number of finished trials:  3\n",
      "  Number of pruned trials:  0\n",
      "  Number of complete trials:  3\n",
      "Best trial:\n",
      "  Value:  0.11954975494532029\n",
      "  Params: \n",
      "    dropout_l0: 0.4\n",
      "    lr: 0.010880741117427999\n",
      "    n_layers: 1\n",
      "    n_units_l0: 256\n",
      "    optimizer: Adam\n",
      "    weight_decay: 0.0007632663988079783\n",
      "\n",
      "===============> MODEL TESTING\n",
      "AUPRC test score: 0.1429497070042579\n",
      "\n",
      "\n",
      ">>> ITERATION N. 3\n",
      "\n",
      "===============> HYPERPARAMETERS TUNING\n"
     ]
    },
    {
     "name": "stderr",
     "output_type": "stream",
     "text": [
      "/Users/Niki/Prediction-of-Active-and-Inactive-Regulatory-Regions-with-Embracenet-Multimodal-Neural-Network-/BIOINF_tesi/models/utils/training_models.py:362: ExperimentalWarning: PatientPruner is experimental (supported from v2.8.0). The interface can change in the future.\n",
      "  pruner=optuna.pruners.PatientPruner(optuna.pruners.MedianPruner(), patience=2),\n",
      "\u001b[32m[I 2021-10-25 09:25:45,972]\u001b[0m Using an existing study with name 'H1_active_E_vs_inactive_E_FFNN_double_1_2_3' instead of creating a new one.\u001b[0m\n"
     ]
    },
    {
     "name": "stdout",
     "output_type": "stream",
     "text": [
      "Study statistics: \n",
      "  Number of finished trials:  3\n",
      "  Number of pruned trials:  0\n",
      "  Number of complete trials:  3\n",
      "Best trial:\n",
      "  Value:  0.1628852682927661\n",
      "  Params: \n",
      "    dropout_l0: 0.3\n",
      "    dropout_l1: 0.4\n",
      "    dropout_l2: 0.4\n",
      "    dropout_l3: 0.0\n",
      "    lr: 0.03314608297118831\n",
      "    n_layers: 4\n",
      "    n_units_l0: 64\n",
      "    n_units_l1: 16\n",
      "    n_units_l2: 32\n",
      "    n_units_l3: 32\n",
      "    optimizer: Adam\n",
      "    weight_decay: 0.0006647583383491024\n",
      "\n",
      "===============> MODEL TESTING\n",
      "AUPRC test score: 0.13473174828979204\n",
      "\n",
      "\n",
      "\n",
      "3-FOLD CROSS-VALIDATION AUPRC TEST SCORE: 0.10785\n"
     ]
    }
   ],
   "source": [
    "# IMBALANCED\n",
    "type_augm_genfeatures = 'double'\n",
    "\n",
    "kf_CV = Kfold_CV()\n",
    "\n",
    "kf_CV(build_dataloader_pipeline = pipe_data_load,\n",
    "                num_epochs = 100,\n",
    "                n_folds=3,\n",
    "                cell_line=cell_line,\n",
    "                sequence=False,\n",
    "                type_augm_genfeatures=type_augm_genfeatures,\n",
    "                model = model,\n",
    "                device = device,\n",
    "                task=task,\n",
    "                sampler = 'TPE',\n",
    "                study_name = f'{cell_line}_{task}_{model.__name__}_{type_augm_genfeatures}',\n",
    "                test_model_path = f'{cell_line}_{task}_{model.__name__}_{type_augm_genfeatures}_TEST')"
   ]
  },
  {
   "cell_type": "code",
   "execution_count": 55,
   "metadata": {},
   "outputs": [],
   "source": [
    "results_dict[cell_line][task][f'{model.__name__}_{type_augm_genfeatures}'] = kf_CV.scores_dict"
   ]
  },
  {
   "cell_type": "code",
   "execution_count": 56,
   "metadata": {},
   "outputs": [],
   "source": [
    "with open ('results_dict.pickle', 'wb') as fout:\n",
    "    pickle.dump(OrderedDict(results_dict), fout)"
   ]
  },
  {
   "cell_type": "code",
   "execution_count": null,
   "metadata": {},
   "outputs": [],
   "source": []
  },
  {
   "cell_type": "markdown",
   "metadata": {},
   "source": [
    "---\n",
    "### 2. CNN"
   ]
  },
  {
   "cell_type": "code",
   "execution_count": 10,
   "metadata": {},
   "outputs": [],
   "source": [
    "model=CNN"
   ]
  },
  {
   "cell_type": "code",
   "execution_count": 11,
   "metadata": {
    "scrolled": true
   },
   "outputs": [
    {
     "name": "stderr",
     "output_type": "stream",
     "text": [
      "/home/jupyter/Prediction-of-Active-and-Inactive-Regulatory-Regions-with-Embracenet-Multimodal-Neural-Network-/BIOINF_tesi/models/utils/training_models.py:362: ExperimentalWarning: PatientPruner is experimental (supported from v2.8.0). The interface can change in the future.\n",
      "  pruner=optuna.pruners.PatientPruner(optuna.pruners.MedianPruner(), patience=2),\n",
      "\u001b[32m[I 2021-10-25 18:39:53,281]\u001b[0m Using an existing study with name 'H1_active_E_vs_inactive_E_CNN_1' instead of creating a new one.\u001b[0m\n"
     ]
    },
    {
     "name": "stdout",
     "output_type": "stream",
     "text": [
      ">>> ITERATION N. 1\n",
      "\n",
      "===============> HYPERPARAMETERS TUNING\n"
     ]
    },
    {
     "name": "stderr",
     "output_type": "stream",
     "text": [
      "/opt/conda/lib/python3.7/site-packages/optuna/structs.py:18: FutureWarning: `structs` is deprecated. Classes have moved to the following modules. `structs.StudyDirection`->`study.StudyDirection`, `structs.StudySummary`->`study.StudySummary`, `structs.FrozenTrial`->`trial.FrozenTrial`, `structs.TrialState`->`trial.TrialState`, `structs.TrialPruned`->`exceptions.TrialPruned`.\n",
      "  warnings.warn(_message, FutureWarning)\n"
     ]
    },
    {
     "name": "stdout",
     "output_type": "stream",
     "text": [
      "Study statistics: \n",
      "  Number of finished trials:  5\n",
      "  Number of pruned trials:  0\n",
      "  Number of complete trials:  3\n",
      "Best trial:\n",
      "  Value:  0.0839994015615884\n",
      "  Params: \n",
      "    dropout_l0: 0.3\n",
      "    dropout_l1: 0.4\n",
      "    dropout_l2: 0.4\n",
      "    kernel_size_l0: 5\n",
      "    kernel_size_l1: 15\n",
      "    kernel_size_l2: 5\n",
      "    lr: 0.002966594346874513\n",
      "    n_layers: 3\n",
      "    optimizer: Nadam\n",
      "    out_channels_l0: 64\n",
      "    out_channels_l1: 96\n",
      "    out_channels_l2: 128\n",
      "    weight_decay: 0.011442938555931578\n",
      "\n",
      "===============> MODEL TESTING\n",
      "AUPRC test score: 0.08075767615737826\n",
      "\n",
      "\n"
     ]
    },
    {
     "name": "stderr",
     "output_type": "stream",
     "text": [
      "/home/jupyter/Prediction-of-Active-and-Inactive-Regulatory-Regions-with-Embracenet-Multimodal-Neural-Network-/BIOINF_tesi/models/utils/training_models.py:362: ExperimentalWarning: PatientPruner is experimental (supported from v2.8.0). The interface can change in the future.\n",
      "  pruner=optuna.pruners.PatientPruner(optuna.pruners.MedianPruner(), patience=2),\n",
      "\u001b[32m[I 2021-10-25 18:39:55,908]\u001b[0m Using an existing study with name 'H1_active_E_vs_inactive_E_CNN_1_2' instead of creating a new one.\u001b[0m\n"
     ]
    },
    {
     "name": "stdout",
     "output_type": "stream",
     "text": [
      ">>> ITERATION N. 2\n",
      "\n",
      "===============> HYPERPARAMETERS TUNING\n",
      "Study statistics: \n",
      "  Number of finished trials:  3\n",
      "  Number of pruned trials: "
     ]
    },
    {
     "name": "stderr",
     "output_type": "stream",
     "text": [
      "/home/jupyter/Prediction-of-Active-and-Inactive-Regulatory-Regions-with-Embracenet-Multimodal-Neural-Network-/BIOINF_tesi/models/utils/training_models.py:362: ExperimentalWarning: PatientPruner is experimental (supported from v2.8.0). The interface can change in the future.\n",
      "  pruner=optuna.pruners.PatientPruner(optuna.pruners.MedianPruner(), patience=2),\n",
      "\u001b[32m[I 2021-10-25 18:39:56,222]\u001b[0m Using an existing study with name 'H1_active_E_vs_inactive_E_CNN_1_2_3' instead of creating a new one.\u001b[0m\n"
     ]
    },
    {
     "name": "stdout",
     "output_type": "stream",
     "text": [
      " 0\n",
      "  Number of complete trials:  3\n",
      "Best trial:\n",
      "  Value:  0.08967892556988034\n",
      "  Params: \n",
      "    dropout_l0: 0\n",
      "    kernel_size_l0: 11\n",
      "    lr: 0.00040854348190510754\n",
      "    n_layers: 1\n",
      "    optimizer: Nadam\n",
      "    out_channels_l0: 32\n",
      "    weight_decay: 0.00039999368794673996\n",
      "\n",
      "===============> MODEL TESTING\n",
      "AUPRC test score: 0.07669281276498159\n",
      "\n",
      "\n",
      ">>> ITERATION N. 3\n",
      "\n",
      "===============> HYPERPARAMETERS TUNING\n",
      "Study statistics: \n",
      "  Number of finished trials:  3\n",
      "  Number of pruned trials:  0\n",
      "  Number of complete trials:  3\n",
      "Best trial:\n",
      "  Value:  0.08066668081991031\n",
      "  Params: \n",
      "    dropout_l0: 0\n",
      "    dropout_l1: 0.4\n",
      "    dropout_l2: 0.5\n",
      "    kernel_size_l0: 11\n",
      "    kernel_size_l1: 15\n",
      "    kernel_size_l2: 15\n",
      "    lr: 0.00014128249200612766\n",
      "    n_layers: 3\n",
      "    optimizer: RMSprop\n",
      "    out_channels_l0: 16\n",
      "    out_channels_l1: 96\n",
      "    out_channels_l2: 128\n",
      "    weight_decay: 0.02593205648211903\n",
      "\n",
      "===============> MODEL TESTING\n",
      "AUPRC test score: 0.09386995221457561\n",
      "\n",
      "\n",
      "\n",
      "3-FOLD CROSS-VALIDATION AUPRC TEST SCORE: 0.08377\n"
     ]
    }
   ],
   "source": [
    "# IMBALANCED\n",
    "kf_CV = Kfold_CV()\n",
    "\n",
    "kf_CV(build_dataloader_pipeline = pipe_data_load,\n",
    "                num_epochs = 100,\n",
    "                n_folds=3,\n",
    "                cell_line=cell_line,\n",
    "                sequence=True,\n",
    "                model = model,\n",
    "                device = device,\n",
    "                task=task,\n",
    "                sampler = 'TPE',\n",
    "                study_name = f'{cell_line}_{task}_{model.__name__}',\n",
    "                test_model_path = f'{cell_line}_{task}_{model.__name__}_TEST')"
   ]
  },
  {
   "cell_type": "code",
   "execution_count": 12,
   "metadata": {},
   "outputs": [],
   "source": [
    "results_dict[cell_line][task][model.__name__] = kf_CV.scores_dict"
   ]
  },
  {
   "cell_type": "code",
   "execution_count": 13,
   "metadata": {},
   "outputs": [],
   "source": [
    "with open ('results_dict.pickle', 'wb') as fout:\n",
    "    pickle.dump(OrderedDict(results_dict), fout)"
   ]
  },
  {
   "cell_type": "markdown",
   "metadata": {},
   "source": [
    "---"
   ]
  },
  {
   "cell_type": "markdown",
   "metadata": {},
   "source": [
    "## 2) ACTIVE PROMOTERS vs INACTIVE PROMOTERS"
   ]
  },
  {
   "cell_type": "code",
   "execution_count": 10,
   "metadata": {},
   "outputs": [
    {
     "data": {
      "text/plain": [
       "'active_P_vs_inactive_P'"
      ]
     },
     "execution_count": 10,
     "metadata": {},
     "output_type": "execute_result"
    }
   ],
   "source": [
    "task = TASKS[1]\n",
    "task"
   ]
  },
  {
   "cell_type": "code",
   "execution_count": 11,
   "metadata": {},
   "outputs": [
    {
     "name": "stdout",
     "output_type": "stream",
     "text": [
      "Data Preprocessing Done!\n"
     ]
    }
   ],
   "source": [
    "pipe_data_load = Build_DataLoader_Pipeline(path_name=f'{task}.pickle')"
   ]
  },
  {
   "cell_type": "markdown",
   "metadata": {},
   "source": [
    "---"
   ]
  },
  {
   "cell_type": "markdown",
   "metadata": {},
   "source": [
    "### 1. FFNN"
   ]
  },
  {
   "cell_type": "code",
   "execution_count": 59,
   "metadata": {},
   "outputs": [],
   "source": [
    "model=FFNN"
   ]
  },
  {
   "cell_type": "code",
   "execution_count": 60,
   "metadata": {
    "scrolled": true
   },
   "outputs": [
    {
     "name": "stdout",
     "output_type": "stream",
     "text": [
      ">>> ITERATION N. 1\n",
      "\n",
      "===============> HYPERPARAMETERS TUNING\n"
     ]
    },
    {
     "name": "stderr",
     "output_type": "stream",
     "text": [
      "/Users/Niki/Prediction-of-Active-and-Inactive-Regulatory-Regions-with-Embracenet-Multimodal-Neural-Network-/BIOINF_tesi/models/utils/training_models.py:362: ExperimentalWarning: PatientPruner is experimental (supported from v2.8.0). The interface can change in the future.\n",
      "  pruner=optuna.pruners.PatientPruner(optuna.pruners.MedianPruner(), patience=2),\n",
      "\u001b[32m[I 2021-10-25 09:25:48,367]\u001b[0m Using an existing study with name 'H1_active_P_vs_inactive_P_FFNN_1' instead of creating a new one.\u001b[0m\n"
     ]
    },
    {
     "name": "stdout",
     "output_type": "stream",
     "text": [
      "Study statistics: \n",
      "  Number of finished trials:  3\n",
      "  Number of pruned trials:  0\n",
      "  Number of complete trials:  3\n",
      "Best trial:\n",
      "  Value:  0.3074923375245218\n",
      "  Params: \n",
      "    dropout_l0: 0.4\n",
      "    dropout_l1: 0.2\n",
      "    lr: 9.250206335979574e-05\n",
      "    n_layers: 2\n",
      "    n_units_l0: 256\n",
      "    n_units_l1: 128\n",
      "    optimizer: Nadam\n",
      "    weight_decay: 0.0011236484267849148\n",
      "\n",
      "===============> MODEL TESTING\n",
      "AUPRC test score: 0.31442802507003026\n",
      "\n",
      "\n",
      ">>> ITERATION N. 2\n",
      "\n",
      "===============> HYPERPARAMETERS TUNING\n"
     ]
    },
    {
     "name": "stderr",
     "output_type": "stream",
     "text": [
      "/Users/Niki/Prediction-of-Active-and-Inactive-Regulatory-Regions-with-Embracenet-Multimodal-Neural-Network-/BIOINF_tesi/models/utils/training_models.py:362: ExperimentalWarning: PatientPruner is experimental (supported from v2.8.0). The interface can change in the future.\n",
      "  pruner=optuna.pruners.PatientPruner(optuna.pruners.MedianPruner(), patience=2),\n",
      "\u001b[32m[I 2021-10-25 09:25:48,657]\u001b[0m Using an existing study with name 'H1_active_P_vs_inactive_P_FFNN_1_2' instead of creating a new one.\u001b[0m\n"
     ]
    },
    {
     "name": "stdout",
     "output_type": "stream",
     "text": [
      "Study statistics: \n",
      "  Number of finished trials:  3\n",
      "  Number of pruned trials:  0\n",
      "  Number of complete trials:  3\n",
      "Best trial:\n",
      "  Value:  0.31884819785902907\n",
      "  Params: \n",
      "    dropout_l0: 0.2\n",
      "    dropout_l1: 0.3\n",
      "    dropout_l2: 0.5\n",
      "    dropout_l3: 0.5\n",
      "    lr: 0.007414882335486892\n",
      "    n_layers: 4\n",
      "    n_units_l0: 128\n",
      "    n_units_l1: 32\n",
      "    n_units_l2: 16\n",
      "    n_units_l3: 32\n",
      "    optimizer: Nadam\n",
      "    weight_decay: 0.0026084710690761747\n",
      "\n",
      "===============> MODEL TESTING\n",
      "AUPRC test score: 0.13214167409861127\n",
      "\n",
      "\n",
      ">>> ITERATION N. 3\n",
      "\n",
      "===============> HYPERPARAMETERS TUNING\n"
     ]
    },
    {
     "name": "stderr",
     "output_type": "stream",
     "text": [
      "/Users/Niki/Prediction-of-Active-and-Inactive-Regulatory-Regions-with-Embracenet-Multimodal-Neural-Network-/BIOINF_tesi/models/utils/training_models.py:362: ExperimentalWarning: PatientPruner is experimental (supported from v2.8.0). The interface can change in the future.\n",
      "  pruner=optuna.pruners.PatientPruner(optuna.pruners.MedianPruner(), patience=2),\n",
      "\u001b[32m[I 2021-10-25 09:25:48,999]\u001b[0m Using an existing study with name 'H1_active_P_vs_inactive_P_FFNN_1_2_3' instead of creating a new one.\u001b[0m\n"
     ]
    },
    {
     "name": "stdout",
     "output_type": "stream",
     "text": [
      "Study statistics: \n",
      "  Number of finished trials:  3\n",
      "  Number of pruned trials:  0\n",
      "  Number of complete trials:  3\n",
      "Best trial:\n",
      "  Value:  0.30406529024191964\n",
      "  Params: \n",
      "    dropout_l0: 0.0\n",
      "    dropout_l1: 0.4\n",
      "    lr: 0.00016655956516170483\n",
      "    n_layers: 2\n",
      "    n_units_l0: 64\n",
      "    n_units_l1: 32\n",
      "    optimizer: RMSprop\n",
      "    weight_decay: 0.0002176043933384306\n",
      "\n",
      "===============> MODEL TESTING\n",
      "AUPRC test score: 0.3057004777117697\n",
      "\n",
      "\n",
      "\n",
      "3-FOLD CROSS-VALIDATION AUPRC TEST SCORE: 0.25076\n"
     ]
    }
   ],
   "source": [
    "kf_CV = Kfold_CV()\n",
    "\n",
    "kf_CV(build_dataloader_pipeline = pipe_data_load,\n",
    "                num_epochs = 100,\n",
    "                n_folds=3,\n",
    "                cell_line=cell_line,\n",
    "                sequence=False,\n",
    "                model = model,\n",
    "                device = device,\n",
    "                task=task,\n",
    "                sampler = 'TPE',\n",
    "                study_name = f'{cell_line}_{task}_{model.__name__}',\n",
    "                test_model_path = f'{cell_line}_{task}_{model.__name__}_TEST')"
   ]
  },
  {
   "cell_type": "code",
   "execution_count": 61,
   "metadata": {},
   "outputs": [],
   "source": [
    "results_dict[cell_line][task][model.__name__] = kf_CV.scores_dict"
   ]
  },
  {
   "cell_type": "code",
   "execution_count": 62,
   "metadata": {},
   "outputs": [],
   "source": [
    "with open ('results_dict.pickle', 'wb') as fout:\n",
    "    pickle.dump(OrderedDict(results_dict), fout)"
   ]
  },
  {
   "cell_type": "markdown",
   "metadata": {},
   "source": [
    "---\n",
    "### 2. CNN"
   ]
  },
  {
   "cell_type": "code",
   "execution_count": 16,
   "metadata": {},
   "outputs": [],
   "source": [
    "model=CNN"
   ]
  },
  {
   "cell_type": "code",
   "execution_count": 17,
   "metadata": {
    "scrolled": true
   },
   "outputs": [
    {
     "name": "stderr",
     "output_type": "stream",
     "text": [
      "/home/jupyter/Prediction-of-Active-and-Inactive-Regulatory-Regions-with-Embracenet-Multimodal-Neural-Network-/BIOINF_tesi/models/utils/training_models.py:362: ExperimentalWarning: PatientPruner is experimental (supported from v2.8.0). The interface can change in the future.\n",
      "  pruner=optuna.pruners.PatientPruner(optuna.pruners.MedianPruner(), patience=2),\n",
      "\u001b[32m[I 2021-10-25 18:39:58,366]\u001b[0m Using an existing study with name 'H1_active_P_vs_inactive_P_CNN_1' instead of creating a new one.\u001b[0m\n"
     ]
    },
    {
     "name": "stdout",
     "output_type": "stream",
     "text": [
      ">>> ITERATION N. 1\n",
      "\n",
      "===============> HYPERPARAMETERS TUNING\n"
     ]
    },
    {
     "name": "stderr",
     "output_type": "stream",
     "text": [
      "/home/jupyter/Prediction-of-Active-and-Inactive-Regulatory-Regions-with-Embracenet-Multimodal-Neural-Network-/BIOINF_tesi/models/utils/training_models.py:362: ExperimentalWarning: PatientPruner is experimental (supported from v2.8.0). The interface can change in the future.\n",
      "  pruner=optuna.pruners.PatientPruner(optuna.pruners.MedianPruner(), patience=2),\n",
      "\u001b[32m[I 2021-10-25 18:39:58,660]\u001b[0m Using an existing study with name 'H1_active_P_vs_inactive_P_CNN_1_2' instead of creating a new one.\u001b[0m\n"
     ]
    },
    {
     "name": "stdout",
     "output_type": "stream",
     "text": [
      "Study statistics: \n",
      "  Number of finished trials:  3\n",
      "  Number of pruned trials:  0\n",
      "  Number of complete trials:  3\n",
      "Best trial:\n",
      "  Value:  0.23541767892308152\n",
      "  Params: \n",
      "    dropout_l0: 0.2\n",
      "    dropout_l1: 0.4\n",
      "    kernel_size_l0: 15\n",
      "    kernel_size_l1: 15\n",
      "    lr: 2.565402548964133e-05\n",
      "    n_layers: 2\n",
      "    optimizer: Nadam\n",
      "    out_channels_l0: 32\n",
      "    out_channels_l1: 32\n",
      "    weight_decay: 0.04656752699327209\n",
      "\n",
      "===============> MODEL TESTING\n",
      "AUPRC test score: 0.23557775770994369\n",
      "\n",
      "\n",
      ">>> ITERATION N. 2\n",
      "\n",
      "===============> HYPERPARAMETERS TUNING\n"
     ]
    },
    {
     "name": "stderr",
     "output_type": "stream",
     "text": [
      "/home/jupyter/Prediction-of-Active-and-Inactive-Regulatory-Regions-with-Embracenet-Multimodal-Neural-Network-/BIOINF_tesi/models/utils/training_models.py:362: ExperimentalWarning: PatientPruner is experimental (supported from v2.8.0). The interface can change in the future.\n",
      "  pruner=optuna.pruners.PatientPruner(optuna.pruners.MedianPruner(), patience=2),\n",
      "\u001b[32m[I 2021-10-25 18:39:58,908]\u001b[0m Using an existing study with name 'H1_active_P_vs_inactive_P_CNN_1_2_3' instead of creating a new one.\u001b[0m\n"
     ]
    },
    {
     "name": "stdout",
     "output_type": "stream",
     "text": [
      "Study statistics: \n",
      "  Number of finished trials:  4\n",
      "  Number of pruned trials:  0\n",
      "  Number of complete trials:  3\n",
      "Best trial:\n",
      "  Value:  0.2463172490146871\n",
      "  Params: \n",
      "    dropout_l0: 0\n",
      "    dropout_l1: 0.4\n",
      "    kernel_size_l0: 5\n",
      "    kernel_size_l1: 15\n",
      "    lr: 1.0901345541621569e-05\n",
      "    n_layers: 2\n",
      "    optimizer: RMSprop\n",
      "    out_channels_l0: 32\n",
      "    out_channels_l1: 32\n",
      "    weight_decay: 0.036839351159283516\n",
      "\n",
      "===============> MODEL TESTING\n",
      "AUPRC test score: 0.2382536103295317\n",
      "\n",
      "\n",
      ">>> ITERATION N. 3\n",
      "\n",
      "===============> HYPERPARAMETERS TUNING\n",
      "Study statistics: \n",
      "  Number of finished trials:  3\n",
      "  Number of pruned trials:  0\n",
      "  Number of complete trials:  3\n",
      "Best trial:\n",
      "  Value:  0.22482077529053046\n",
      "  Params: \n",
      "    dropout_l0: 0.2\n",
      "    kernel_size_l0: 5\n",
      "    lr: 0.04307874929953698\n",
      "    n_layers: 1\n",
      "    optimizer: Nadam\n",
      "    out_channels_l0: 32\n",
      "    weight_decay: 0.0002145846181217555\n",
      "\n",
      "===============> MODEL TESTING\n",
      "AUPRC test score: 0.13274418904127233\n",
      "\n",
      "\n",
      "\n",
      "3-FOLD CROSS-VALIDATION AUPRC TEST SCORE: 0.20219\n"
     ]
    }
   ],
   "source": [
    "kf_CV = Kfold_CV()\n",
    "\n",
    "kf_CV(build_dataloader_pipeline = pipe_data_load,\n",
    "                num_epochs = 100,\n",
    "                n_folds=3,\n",
    "                cell_line=cell_line,\n",
    "                sequence=True,\n",
    "                model = model,\n",
    "                device = device,\n",
    "                task=task,\n",
    "                sampler = 'TPE',\n",
    "                study_name = f'{cell_line}_{task}_{model.__name__}',\n",
    "                test_model_path = f'{cell_line}_{task}_{model.__name__}_TEST')"
   ]
  },
  {
   "cell_type": "code",
   "execution_count": 18,
   "metadata": {},
   "outputs": [],
   "source": [
    "results_dict[cell_line][task][model.__name__] = kf_CV.scores_dict"
   ]
  },
  {
   "cell_type": "code",
   "execution_count": 19,
   "metadata": {},
   "outputs": [],
   "source": [
    "with open ('results_dict.pickle', 'wb') as fout:\n",
    "    pickle.dump(OrderedDict(results_dict), fout)"
   ]
  },
  {
   "cell_type": "markdown",
   "metadata": {},
   "source": [
    "---"
   ]
  },
  {
   "cell_type": "markdown",
   "metadata": {},
   "source": [
    "## 3) ACTIVE ENHANCERS vs ACTIVE PROMOTERS"
   ]
  },
  {
   "cell_type": "code",
   "execution_count": 12,
   "metadata": {},
   "outputs": [
    {
     "data": {
      "text/plain": [
       "'active_E_vs_active_P'"
      ]
     },
     "execution_count": 12,
     "metadata": {},
     "output_type": "execute_result"
    }
   ],
   "source": [
    "task = TASKS[2]\n",
    "task"
   ]
  },
  {
   "cell_type": "code",
   "execution_count": 13,
   "metadata": {},
   "outputs": [
    {
     "name": "stdout",
     "output_type": "stream",
     "text": [
      "Data Preprocessing Done!\n"
     ]
    }
   ],
   "source": [
    "pipe_data_load = Build_DataLoader_Pipeline(path_name=f'{task}.pickle')"
   ]
  },
  {
   "cell_type": "markdown",
   "metadata": {},
   "source": [
    "---\n",
    "### 1. FFNN"
   ]
  },
  {
   "cell_type": "code",
   "execution_count": 65,
   "metadata": {},
   "outputs": [],
   "source": [
    "model=FFNN"
   ]
  },
  {
   "cell_type": "code",
   "execution_count": 66,
   "metadata": {
    "scrolled": true
   },
   "outputs": [
    {
     "name": "stdout",
     "output_type": "stream",
     "text": [
      ">>> ITERATION N. 1\n",
      "\n",
      "===============> HYPERPARAMETERS TUNING\n"
     ]
    },
    {
     "name": "stderr",
     "output_type": "stream",
     "text": [
      "/Users/Niki/Prediction-of-Active-and-Inactive-Regulatory-Regions-with-Embracenet-Multimodal-Neural-Network-/BIOINF_tesi/models/utils/training_models.py:362: ExperimentalWarning: PatientPruner is experimental (supported from v2.8.0). The interface can change in the future.\n",
      "  pruner=optuna.pruners.PatientPruner(optuna.pruners.MedianPruner(), patience=2),\n",
      "\u001b[32m[I 2021-10-25 09:25:51,744]\u001b[0m Using an existing study with name 'H1_active_E_vs_active_P_FFNN_1' instead of creating a new one.\u001b[0m\n",
      "/Users/Niki/Prediction-of-Active-and-Inactive-Regulatory-Regions-with-Embracenet-Multimodal-Neural-Network-/BIOINF_tesi/models/utils/training_models.py:362: ExperimentalWarning: PatientPruner is experimental (supported from v2.8.0). The interface can change in the future.\n",
      "  pruner=optuna.pruners.PatientPruner(optuna.pruners.MedianPruner(), patience=2),\n",
      "\u001b[32m[I 2021-10-25 09:25:52,035]\u001b[0m Using an existing study with name 'H1_active_E_vs_active_P_FFNN_1_2' instead of creating a new one.\u001b[0m\n"
     ]
    },
    {
     "name": "stdout",
     "output_type": "stream",
     "text": [
      "Study statistics: \n",
      "  Number of finished trials:  3\n",
      "  Number of pruned trials:  0\n",
      "  Number of complete trials:  3\n",
      "Best trial:\n",
      "  Value:  0.5412945181963648\n",
      "  Params: \n",
      "    dropout_l0: 0.0\n",
      "    dropout_l1: 0.3\n",
      "    dropout_l2: 0.0\n",
      "    dropout_l3: 0.4\n",
      "    lr: 0.0010679342345256378\n",
      "    n_layers: 4\n",
      "    n_units_l0: 256\n",
      "    n_units_l1: 64\n",
      "    n_units_l2: 4\n",
      "    n_units_l3: 4\n",
      "    optimizer: RMSprop\n",
      "    weight_decay: 0.0001482156775570636\n",
      "\n",
      "===============> MODEL TESTING\n",
      "AUPRC test score: 0.5877214951214947\n",
      "\n",
      "\n",
      ">>> ITERATION N. 2\n",
      "\n",
      "===============> HYPERPARAMETERS TUNING\n"
     ]
    },
    {
     "name": "stderr",
     "output_type": "stream",
     "text": [
      "/Users/Niki/Prediction-of-Active-and-Inactive-Regulatory-Regions-with-Embracenet-Multimodal-Neural-Network-/BIOINF_tesi/models/utils/training_models.py:362: ExperimentalWarning: PatientPruner is experimental (supported from v2.8.0). The interface can change in the future.\n",
      "  pruner=optuna.pruners.PatientPruner(optuna.pruners.MedianPruner(), patience=2),\n",
      "\u001b[32m[I 2021-10-25 09:25:52,226]\u001b[0m Using an existing study with name 'H1_active_E_vs_active_P_FFNN_1_2_3' instead of creating a new one.\u001b[0m\n"
     ]
    },
    {
     "name": "stdout",
     "output_type": "stream",
     "text": [
      "Study statistics: \n",
      "  Number of finished trials:  3\n",
      "  Number of pruned trials:  0\n",
      "  Number of complete trials:  3\n",
      "Best trial:\n",
      "  Value:  0.5943557740705785\n",
      "  Params: \n",
      "    dropout_l0: 0.4\n",
      "    dropout_l1: 0.4\n",
      "    dropout_l2: 0.0\n",
      "    lr: 0.007159911988866873\n",
      "    n_layers: 3\n",
      "    n_units_l0: 32\n",
      "    n_units_l1: 16\n",
      "    n_units_l2: 32\n",
      "    optimizer: Adam\n",
      "    weight_decay: 0.0011666609787064897\n",
      "\n",
      "===============> MODEL TESTING\n",
      "AUPRC test score: 0.5490510683829689\n",
      "\n",
      "\n",
      ">>> ITERATION N. 3\n",
      "\n",
      "===============> HYPERPARAMETERS TUNING\n",
      "Study statistics: \n",
      "  Number of finished trials:  3\n",
      "  Number of pruned trials:  0\n",
      "  Number of complete trials:  3\n",
      "Best trial:\n",
      "  Value:  0.5262424021562729\n",
      "  Params: \n",
      "    dropout_l0: 0.4\n",
      "    dropout_l1: 0.2\n",
      "    lr: 0.000609234610869853\n",
      "    n_layers: 2\n",
      "    n_units_l0: 64\n",
      "    n_units_l1: 16\n",
      "    optimizer: Nadam\n",
      "    weight_decay: 0.0020808686658630874\n",
      "\n",
      "===============> MODEL TESTING\n",
      "AUPRC test score: 0.533696593104729\n",
      "\n",
      "\n",
      "\n",
      "3-FOLD CROSS-VALIDATION AUPRC TEST SCORE: 0.55682\n"
     ]
    }
   ],
   "source": [
    "kf_CV = Kfold_CV()\n",
    "\n",
    "kf_CV(build_dataloader_pipeline = pipe_data_load,\n",
    "                num_epochs = 100,\n",
    "                n_folds=3,\n",
    "                cell_line=cell_line,\n",
    "                sequence=False,\n",
    "                model = model,\n",
    "                device = device,\n",
    "                task=task,\n",
    "                sampler = 'TPE',\n",
    "                study_name = f'{cell_line}_{task}_{model.__name__}',\n",
    "                test_model_path = f'{cell_line}_{task}_{model.__name__}_TEST')"
   ]
  },
  {
   "cell_type": "code",
   "execution_count": 67,
   "metadata": {},
   "outputs": [],
   "source": [
    "results_dict[cell_line][task][model.__name__] = kf_CV.scores_dict"
   ]
  },
  {
   "cell_type": "code",
   "execution_count": 68,
   "metadata": {},
   "outputs": [],
   "source": [
    "with open ('results_dict.pickle', 'wb') as fout:\n",
    "    pickle.dump(OrderedDict(results_dict), fout)"
   ]
  },
  {
   "cell_type": "markdown",
   "metadata": {},
   "source": [
    "---\n",
    "### 2. CNN"
   ]
  },
  {
   "cell_type": "code",
   "execution_count": 22,
   "metadata": {},
   "outputs": [],
   "source": [
    "model=CNN"
   ]
  },
  {
   "cell_type": "code",
   "execution_count": 23,
   "metadata": {
    "scrolled": true
   },
   "outputs": [
    {
     "name": "stderr",
     "output_type": "stream",
     "text": [
      "/home/jupyter/Prediction-of-Active-and-Inactive-Regulatory-Regions-with-Embracenet-Multimodal-Neural-Network-/BIOINF_tesi/models/utils/training_models.py:362: ExperimentalWarning: PatientPruner is experimental (supported from v2.8.0). The interface can change in the future.\n",
      "  pruner=optuna.pruners.PatientPruner(optuna.pruners.MedianPruner(), patience=2),\n",
      "\u001b[32m[I 2021-10-25 18:40:04,978]\u001b[0m Using an existing study with name 'H1_active_E_vs_active_P_CNN_1' instead of creating a new one.\u001b[0m\n"
     ]
    },
    {
     "name": "stdout",
     "output_type": "stream",
     "text": [
      ">>> ITERATION N. 1\n",
      "\n",
      "===============> HYPERPARAMETERS TUNING\n",
      "Study statistics: \n",
      "  Number of finished trials:  3\n",
      "  Number of pruned trials:  0\n",
      "  Number of complete trials:  3\n",
      "Best trial:\n",
      "  Value:  0.40329137059768944\n",
      "  Params: \n",
      "    dropout_l0: 0.3\n",
      "    kernel_size_l0: 5\n",
      "    lr: 4.533635731053414e-05\n",
      "    n_layers: 1\n",
      "    optimizer: Nadam\n",
      "    out_channels_l0: 16\n",
      "    weight_decay: 0.014830838754160311\n",
      "\n",
      "===============> MODEL TESTING\n"
     ]
    },
    {
     "name": "stderr",
     "output_type": "stream",
     "text": [
      "/home/jupyter/Prediction-of-Active-and-Inactive-Regulatory-Regions-with-Embracenet-Multimodal-Neural-Network-/BIOINF_tesi/models/utils/training_models.py:362: ExperimentalWarning: PatientPruner is experimental (supported from v2.8.0). The interface can change in the future.\n",
      "  pruner=optuna.pruners.PatientPruner(optuna.pruners.MedianPruner(), patience=2),\n",
      "\u001b[32m[I 2021-10-25 18:40:05,495]\u001b[0m Using an existing study with name 'H1_active_E_vs_active_P_CNN_1_2' instead of creating a new one.\u001b[0m\n"
     ]
    },
    {
     "name": "stdout",
     "output_type": "stream",
     "text": [
      "AUPRC test score: 0.4972313000361089\n",
      "\n",
      "\n",
      ">>> ITERATION N. 2\n",
      "\n",
      "===============> HYPERPARAMETERS TUNING\n",
      "Study statistics: \n",
      "  Number of finished trials:  3\n",
      "  Number of pruned trials:  0\n",
      "  Number of complete trials:  3\n",
      "Best trial:\n",
      "  Value:  0.4682954553004083\n",
      "  Params: \n",
      "    dropout_l0: 0\n",
      "    dropout_l1: 0\n",
      "    dropout_l2: 0.5\n",
      "    kernel_size_l0: 15\n",
      "    kernel_size_l1: 11\n",
      "    kernel_size_l2: 5\n",
      "    lr: 9.208111192385932e-05\n",
      "    n_layers: 3\n",
      "    optimizer: RMSprop\n",
      "    out_channels_l0: 32\n",
      "    out_channels_l1: 32\n",
      "    out_channels_l2: 128\n",
      "    weight_decay: 0.0003666370793026254\n",
      "\n",
      "===============> MODEL TESTING\n"
     ]
    },
    {
     "name": "stderr",
     "output_type": "stream",
     "text": [
      "/home/jupyter/Prediction-of-Active-and-Inactive-Regulatory-Regions-with-Embracenet-Multimodal-Neural-Network-/BIOINF_tesi/models/utils/training_models.py:362: ExperimentalWarning: PatientPruner is experimental (supported from v2.8.0). The interface can change in the future.\n",
      "  pruner=optuna.pruners.PatientPruner(optuna.pruners.MedianPruner(), patience=2),\n",
      "\u001b[32m[I 2021-10-25 18:40:06,107]\u001b[0m Using an existing study with name 'H1_active_E_vs_active_P_CNN_1_2_3' instead of creating a new one.\u001b[0m\n"
     ]
    },
    {
     "name": "stdout",
     "output_type": "stream",
     "text": [
      "AUPRC test score: 0.33518044342181125\n",
      "\n",
      "\n",
      ">>> ITERATION N. 3\n",
      "\n",
      "===============> HYPERPARAMETERS TUNING\n",
      "Study statistics: \n",
      "  Number of finished trials:  3\n",
      "  Number of pruned trials:  0\n",
      "  Number of complete trials:  3\n",
      "Best trial:\n",
      "  Value:  0.4310892010813663\n",
      "  Params: \n",
      "    dropout_l0: 0.3\n",
      "    dropout_l1: 0.4\n",
      "    dropout_l2: 0.4\n",
      "    dropout_l3: 0.5\n",
      "    kernel_size_l0: 15\n",
      "    kernel_size_l1: 15\n",
      "    kernel_size_l2: 5\n",
      "    kernel_size_l3: 11\n",
      "    lr: 0.019049489901312926\n",
      "    n_layers: 4\n",
      "    optimizer: Nadam\n",
      "    out_channels_l0: 64\n",
      "    out_channels_l1: 32\n",
      "    out_channels_l2: 128\n",
      "    out_channels_l3: 256\n",
      "    weight_decay: 0.023777722365210998\n",
      "\n",
      "===============> MODEL TESTING\n",
      "AUPRC test score: 0.18487012987012985\n",
      "\n",
      "\n",
      "\n",
      "3-FOLD CROSS-VALIDATION AUPRC TEST SCORE: 0.33909\n"
     ]
    }
   ],
   "source": [
    "kf_CV = Kfold_CV()\n",
    "\n",
    "kf_CV(build_dataloader_pipeline = pipe_data_load,\n",
    "                num_epochs = 100,\n",
    "                n_folds=3,\n",
    "                cell_line=cell_line,\n",
    "                sequence=True,\n",
    "                model = model,\n",
    "                device = device,\n",
    "                task=task,\n",
    "                sampler = 'TPE',\n",
    "                study_name = f'{cell_line}_{task}_{model.__name__}',\n",
    "                test_model_path = f'{cell_line}_{task}_{model.__name__}_TEST')"
   ]
  },
  {
   "cell_type": "code",
   "execution_count": 24,
   "metadata": {},
   "outputs": [],
   "source": [
    "results_dict[cell_line][task][model.__name__] = kf_CV.scores_dict"
   ]
  },
  {
   "cell_type": "code",
   "execution_count": 25,
   "metadata": {},
   "outputs": [],
   "source": [
    "with open ('results_dict.pickle', 'wb') as fout:\n",
    "    pickle.dump(OrderedDict(results_dict), fout)"
   ]
  },
  {
   "cell_type": "code",
   "execution_count": null,
   "metadata": {},
   "outputs": [],
   "source": []
  },
  {
   "cell_type": "markdown",
   "metadata": {},
   "source": [
    "---"
   ]
  },
  {
   "cell_type": "markdown",
   "metadata": {},
   "source": [
    "## 4) INACTIVE ENHANCERS vs INACTIVE PROMOTERS"
   ]
  },
  {
   "cell_type": "code",
   "execution_count": 14,
   "metadata": {},
   "outputs": [
    {
     "data": {
      "text/plain": [
       "'inactive_E_vs_inactive_P'"
      ]
     },
     "execution_count": 14,
     "metadata": {},
     "output_type": "execute_result"
    }
   ],
   "source": [
    "task = TASKS[3]\n",
    "task"
   ]
  },
  {
   "cell_type": "code",
   "execution_count": 15,
   "metadata": {},
   "outputs": [
    {
     "name": "stdout",
     "output_type": "stream",
     "text": [
      "Data Preprocessing Done!\n"
     ]
    }
   ],
   "source": [
    "pipe_data_load = Build_DataLoader_Pipeline(path_name=f'{task}.pickle')"
   ]
  },
  {
   "cell_type": "markdown",
   "metadata": {},
   "source": [
    "---\n",
    "### 1. FFNN"
   ]
  },
  {
   "cell_type": "code",
   "execution_count": 71,
   "metadata": {},
   "outputs": [],
   "source": [
    "model=FFNN"
   ]
  },
  {
   "cell_type": "code",
   "execution_count": 72,
   "metadata": {
    "scrolled": true
   },
   "outputs": [
    {
     "name": "stdout",
     "output_type": "stream",
     "text": [
      ">>> ITERATION N. 1\n",
      "\n",
      "===============> HYPERPARAMETERS TUNING\n"
     ]
    },
    {
     "name": "stderr",
     "output_type": "stream",
     "text": [
      "/Users/Niki/Prediction-of-Active-and-Inactive-Regulatory-Regions-with-Embracenet-Multimodal-Neural-Network-/BIOINF_tesi/models/utils/training_models.py:362: ExperimentalWarning: PatientPruner is experimental (supported from v2.8.0). The interface can change in the future.\n",
      "  pruner=optuna.pruners.PatientPruner(optuna.pruners.MedianPruner(), patience=2),\n",
      "\u001b[32m[I 2021-10-25 09:25:56,823]\u001b[0m Using an existing study with name 'H1_inactive_E_vs_inactive_P_FFNN_1' instead of creating a new one.\u001b[0m\n"
     ]
    },
    {
     "name": "stdout",
     "output_type": "stream",
     "text": [
      "Study statistics: \n",
      "  Number of finished trials:  3\n",
      "  Number of pruned trials:  0\n",
      "  Number of complete trials:  3\n",
      "Best trial:\n",
      "  Value:  0.5923761166166194\n",
      "  Params: \n",
      "    dropout_l0: 0.0\n",
      "    dropout_l1: 0.0\n",
      "    dropout_l2: 0.5\n",
      "    lr: 0.001157196262443034\n",
      "    n_layers: 3\n",
      "    n_units_l0: 32\n",
      "    n_units_l1: 32\n",
      "    n_units_l2: 32\n",
      "    optimizer: Nadam\n",
      "    weight_decay: 0.000252642871569755\n",
      "\n",
      "===============> MODEL TESTING\n",
      "AUPRC test score: 0.5910632120687104\n",
      "\n",
      "\n",
      ">>> ITERATION N. 2\n",
      "\n",
      "===============> HYPERPARAMETERS TUNING\n"
     ]
    },
    {
     "name": "stderr",
     "output_type": "stream",
     "text": [
      "/Users/Niki/Prediction-of-Active-and-Inactive-Regulatory-Regions-with-Embracenet-Multimodal-Neural-Network-/BIOINF_tesi/models/utils/training_models.py:362: ExperimentalWarning: PatientPruner is experimental (supported from v2.8.0). The interface can change in the future.\n",
      "  pruner=optuna.pruners.PatientPruner(optuna.pruners.MedianPruner(), patience=2),\n",
      "\u001b[32m[I 2021-10-25 09:25:57,328]\u001b[0m Using an existing study with name 'H1_inactive_E_vs_inactive_P_FFNN_1_2' instead of creating a new one.\u001b[0m\n"
     ]
    },
    {
     "name": "stdout",
     "output_type": "stream",
     "text": [
      "Study statistics: \n",
      "  Number of finished trials:  3\n",
      "  Number of pruned trials:  0\n",
      "  Number of complete trials:  3\n",
      "Best trial:\n",
      "  Value:  0.5835100111216946\n",
      "  Params: \n",
      "    dropout_l0: 0.2\n",
      "    lr: 0.025940782462200405\n",
      "    n_layers: 1\n",
      "    n_units_l0: 64\n",
      "    optimizer: Adam\n",
      "    weight_decay: 0.0004331576464644058\n",
      "\n",
      "===============> MODEL TESTING\n",
      "AUPRC test score: 0.5695935177002007\n",
      "\n",
      "\n",
      ">>> ITERATION N. 3\n"
     ]
    },
    {
     "name": "stderr",
     "output_type": "stream",
     "text": [
      "/Users/Niki/Prediction-of-Active-and-Inactive-Regulatory-Regions-with-Embracenet-Multimodal-Neural-Network-/BIOINF_tesi/models/utils/training_models.py:362: ExperimentalWarning: PatientPruner is experimental (supported from v2.8.0). The interface can change in the future.\n",
      "  pruner=optuna.pruners.PatientPruner(optuna.pruners.MedianPruner(), patience=2),\n",
      "\u001b[32m[I 2021-10-25 09:25:57,807]\u001b[0m Using an existing study with name 'H1_inactive_E_vs_inactive_P_FFNN_1_2_3' instead of creating a new one.\u001b[0m\n"
     ]
    },
    {
     "name": "stdout",
     "output_type": "stream",
     "text": [
      "\n",
      "===============> HYPERPARAMETERS TUNING\n",
      "Study statistics: \n",
      "  Number of finished trials:  3\n",
      "  Number of pruned trials:  0\n",
      "  Number of complete trials:  3\n",
      "Best trial:\n",
      "  Value:  0.5694304696930033\n",
      "  Params: \n",
      "    dropout_l0: 0.3\n",
      "    dropout_l1: 0.4\n",
      "    lr: 0.0011736188622143377\n",
      "    n_layers: 2\n",
      "    n_units_l0: 32\n",
      "    n_units_l1: 128\n",
      "    optimizer: Adam\n",
      "    weight_decay: 0.004545167832247275\n",
      "\n",
      "===============> MODEL TESTING\n",
      "AUPRC test score: 0.5773590778486749\n",
      "\n",
      "\n",
      "\n",
      "3-FOLD CROSS-VALIDATION AUPRC TEST SCORE: 0.57934\n"
     ]
    }
   ],
   "source": [
    "kf_CV = Kfold_CV()\n",
    "\n",
    "kf_CV(build_dataloader_pipeline = pipe_data_load,\n",
    "                num_epochs = 100,\n",
    "                n_folds=3,\n",
    "                cell_line=cell_line,\n",
    "                sequence=False,\n",
    "                model = model,\n",
    "                device = device,\n",
    "                task=task,\n",
    "                sampler = 'TPE',\n",
    "                study_name = f'{cell_line}_{task}_{model.__name__}',\n",
    "                test_model_path = f'{cell_line}_{task}_{model.__name__}_TEST')"
   ]
  },
  {
   "cell_type": "code",
   "execution_count": 73,
   "metadata": {},
   "outputs": [],
   "source": [
    "results_dict[cell_line][task][model.__name__] = kf_CV.scores_dict"
   ]
  },
  {
   "cell_type": "code",
   "execution_count": 74,
   "metadata": {},
   "outputs": [],
   "source": [
    "with open ('results_dict.pickle', 'wb') as fout:\n",
    "    pickle.dump(OrderedDict(results_dict), fout)"
   ]
  },
  {
   "cell_type": "markdown",
   "metadata": {},
   "source": [
    "---\n",
    "### 2. CNN"
   ]
  },
  {
   "cell_type": "code",
   "execution_count": 28,
   "metadata": {},
   "outputs": [],
   "source": [
    "model=CNN"
   ]
  },
  {
   "cell_type": "code",
   "execution_count": 31,
   "metadata": {
    "scrolled": true
   },
   "outputs": [
    {
     "name": "stderr",
     "output_type": "stream",
     "text": [
      "/home/jupyter/Prediction-of-Active-and-Inactive-Regulatory-Regions-with-Embracenet-Multimodal-Neural-Network-/BIOINF_tesi/models/utils/training_models.py:362: ExperimentalWarning: PatientPruner is experimental (supported from v2.8.0). The interface can change in the future.\n",
      "  pruner=optuna.pruners.PatientPruner(optuna.pruners.MedianPruner(), patience=2),\n",
      "\u001b[32m[I 2021-10-25 18:40:17,382]\u001b[0m Using an existing study with name 'H1_inactive_E_vs_inactive_P_CNN_1' instead of creating a new one.\u001b[0m\n"
     ]
    },
    {
     "name": "stdout",
     "output_type": "stream",
     "text": [
      ">>> ITERATION N. 1\n",
      "\n",
      "===============> HYPERPARAMETERS TUNING\n",
      "Study statistics: \n",
      "  Number of finished trials:  4\n",
      "  Number of pruned trials:  0\n",
      "  Number of complete trials:  3\n",
      "Best trial:\n",
      "  Value:  0.5978849252036323\n",
      "  Params: \n",
      "    dropout_l0: 0\n",
      "    dropout_l1: 0.4\n",
      "    kernel_size_l0: 5\n",
      "    kernel_size_l1: 11\n",
      "    lr: 5.790729239174156e-05\n",
      "    n_layers: 2\n",
      "    optimizer: Adam\n",
      "    out_channels_l0: 32\n",
      "    out_channels_l1: 32\n",
      "    weight_decay: 0.004747788863421461\n",
      "\n",
      "===============> MODEL TESTING\n"
     ]
    },
    {
     "name": "stderr",
     "output_type": "stream",
     "text": [
      "/home/jupyter/Prediction-of-Active-and-Inactive-Regulatory-Regions-with-Embracenet-Multimodal-Neural-Network-/BIOINF_tesi/models/utils/training_models.py:362: ExperimentalWarning: PatientPruner is experimental (supported from v2.8.0). The interface can change in the future.\n",
      "  pruner=optuna.pruners.PatientPruner(optuna.pruners.MedianPruner(), patience=2),\n",
      "\u001b[32m[I 2021-10-25 18:40:17,674]\u001b[0m Using an existing study with name 'H1_inactive_E_vs_inactive_P_CNN_1_2' instead of creating a new one.\u001b[0m\n"
     ]
    },
    {
     "name": "stdout",
     "output_type": "stream",
     "text": [
      "AUPRC test score: 0.5980582333623193\n",
      "\n",
      "\n",
      ">>> ITERATION N. 2\n",
      "\n",
      "===============> HYPERPARAMETERS TUNING\n"
     ]
    },
    {
     "name": "stderr",
     "output_type": "stream",
     "text": [
      "/home/jupyter/Prediction-of-Active-and-Inactive-Regulatory-Regions-with-Embracenet-Multimodal-Neural-Network-/BIOINF_tesi/models/utils/training_models.py:362: ExperimentalWarning: PatientPruner is experimental (supported from v2.8.0). The interface can change in the future.\n",
      "  pruner=optuna.pruners.PatientPruner(optuna.pruners.MedianPruner(), patience=2),\n",
      "\u001b[32m[I 2021-10-25 18:40:17,924]\u001b[0m Using an existing study with name 'H1_inactive_E_vs_inactive_P_CNN_1_2_3' instead of creating a new one.\u001b[0m\n"
     ]
    },
    {
     "name": "stdout",
     "output_type": "stream",
     "text": [
      "Study statistics: \n",
      "  Number of finished trials:  4\n",
      "  Number of pruned trials:  0\n",
      "  Number of complete trials:  3\n",
      "Best trial:\n",
      "  Value:  0.5991319792027304\n",
      "  Params: \n",
      "    dropout_l0: 0.3\n",
      "    kernel_size_l0: 5\n",
      "    lr: 0.0013939424243341444\n",
      "    n_layers: 1\n",
      "    optimizer: Adam\n",
      "    out_channels_l0: 16\n",
      "    weight_decay: 0.00013104073881237878\n",
      "\n",
      "===============> MODEL TESTING\n",
      "AUPRC test score: 0.5919393079244233\n",
      "\n",
      "\n",
      ">>> ITERATION N. 3\n",
      "\n",
      "===============> HYPERPARAMETERS TUNING\n",
      "Study statistics: \n",
      "  Number of finished trials:  4\n",
      "  Number of pruned trials:  0\n",
      "  Number of complete trials:  3\n",
      "Best trial:\n",
      "  Value:  0.598135303334985\n",
      "  Params: \n",
      "    dropout_l0: 0.4\n",
      "    dropout_l1: 0.5\n",
      "    kernel_size_l0: 11\n",
      "    kernel_size_l1: 5\n",
      "    lr: 0.0008406654128772997\n",
      "    n_layers: 2\n",
      "    optimizer: Adam\n",
      "    out_channels_l0: 64\n",
      "    out_channels_l1: 64\n",
      "    weight_decay: 0.0020267974010821483\n",
      "\n",
      "===============> MODEL TESTING\n",
      "AUPRC test score: 0.6090944568964746\n",
      "\n",
      "\n",
      "\n",
      "3-FOLD CROSS-VALIDATION AUPRC TEST SCORE: 0.5997\n"
     ]
    }
   ],
   "source": [
    "kf_CV = Kfold_CV()\n",
    "\n",
    "kf_CV(build_dataloader_pipeline = pipe_data_load,\n",
    "                num_epochs = 100,\n",
    "                n_folds=3,\n",
    "                cell_line=cell_line,\n",
    "                sequence=True,\n",
    "                model = model,\n",
    "                device = device,\n",
    "                task=task,\n",
    "                sampler = 'TPE',\n",
    "                study_name = f'{cell_line}_{task}_{model.__name__}',\n",
    "                test_model_path = f'{cell_line}_{task}_{model.__name__}_TEST')"
   ]
  },
  {
   "cell_type": "code",
   "execution_count": 32,
   "metadata": {},
   "outputs": [],
   "source": [
    "results_dict[cell_line][task][model.__name__] = kf_CV.scores_dict"
   ]
  },
  {
   "cell_type": "code",
   "execution_count": 33,
   "metadata": {},
   "outputs": [],
   "source": [
    "with open ('results_dict.pickle', 'wb') as fout:\n",
    "    pickle.dump(OrderedDict(results_dict), fout)"
   ]
  },
  {
   "cell_type": "code",
   "execution_count": null,
   "metadata": {},
   "outputs": [],
   "source": []
  },
  {
   "cell_type": "markdown",
   "metadata": {},
   "source": [
    "---"
   ]
  },
  {
   "cell_type": "markdown",
   "metadata": {},
   "source": [
    "## 5) ACTIVE ENHANCERS + ACTIVE PROMOTERS vs INACTIVE REST"
   ]
  },
  {
   "cell_type": "code",
   "execution_count": 16,
   "metadata": {},
   "outputs": [
    {
     "data": {
      "text/plain": [
       "'active_EP_vs_inactive_rest'"
      ]
     },
     "execution_count": 16,
     "metadata": {},
     "output_type": "execute_result"
    }
   ],
   "source": [
    "task = TASKS[4]\n",
    "task"
   ]
  },
  {
   "cell_type": "code",
   "execution_count": 17,
   "metadata": {},
   "outputs": [
    {
     "name": "stdout",
     "output_type": "stream",
     "text": [
      "Data Preprocessing Done!\n"
     ]
    }
   ],
   "source": [
    "pipe_data_load = Build_DataLoader_Pipeline(path_name=f'{task}.pickle')"
   ]
  },
  {
   "cell_type": "markdown",
   "metadata": {},
   "source": [
    "---\n",
    "### 1. FFNN"
   ]
  },
  {
   "cell_type": "code",
   "execution_count": 18,
   "metadata": {},
   "outputs": [],
   "source": [
    "model=FFNN"
   ]
  },
  {
   "cell_type": "code",
   "execution_count": 19,
   "metadata": {
    "scrolled": true
   },
   "outputs": [
    {
     "name": "stdout",
     "output_type": "stream",
     "text": [
      ">>> ITERATION N. 1\n",
      "\n",
      "===============> HYPERPARAMETERS TUNING\n"
     ]
    },
    {
     "name": "stderr",
     "output_type": "stream",
     "text": [
      "/Users/Niki/Prediction-of-Active-and-Inactive-Regulatory-Regions-with-Embracenet-Multimodal-Neural-Network-/BIOINF_tesi/models/utils/training_models.py:362: ExperimentalWarning: PatientPruner is experimental (supported from v2.8.0). The interface can change in the future.\n",
      "  pruner=optuna.pruners.PatientPruner(optuna.pruners.MedianPruner(), patience=2),\n",
      "\u001b[32m[I 2021-10-25 20:45:32,082]\u001b[0m Using an existing study with name 'H1_active_EP_vs_inactive_rest_FFNN_1' instead of creating a new one.\u001b[0m\n",
      "/opt/anaconda3/lib/python3.8/site-packages/optuna/structs.py:18: FutureWarning: `structs` is deprecated. Classes have moved to the following modules. `structs.StudyDirection`->`study.StudyDirection`, `structs.StudySummary`->`study.StudySummary`, `structs.FrozenTrial`->`trial.FrozenTrial`, `structs.TrialState`->`trial.TrialState`, `structs.TrialPruned`->`exceptions.TrialPruned`.\n",
      "  warnings.warn(_message, FutureWarning)\n"
     ]
    },
    {
     "name": "stdout",
     "output_type": "stream",
     "text": [
      "Study statistics: \n",
      "  Number of finished trials:  3\n",
      "  Number of pruned trials:  0\n",
      "  Number of complete trials:  3\n",
      "Best trial:\n",
      "  Value:  0.27345739304041156\n",
      "  Params: \n",
      "    dropout_l0: 0.2\n",
      "    lr: 0.0016653421851079593\n",
      "    n_layers: 1\n",
      "    n_units_l0: 64\n",
      "    optimizer: Nadam\n",
      "    weight_decay: 0.00022516469081806175\n",
      "\n",
      "===============> MODEL TESTING\n",
      "AUPRC test score: 0.2724019954193728\n",
      "\n",
      "\n",
      ">>> ITERATION N. 2\n",
      "\n",
      "===============> HYPERPARAMETERS TUNING\n"
     ]
    },
    {
     "name": "stderr",
     "output_type": "stream",
     "text": [
      "/Users/Niki/Prediction-of-Active-and-Inactive-Regulatory-Regions-with-Embracenet-Multimodal-Neural-Network-/BIOINF_tesi/models/utils/training_models.py:362: ExperimentalWarning: PatientPruner is experimental (supported from v2.8.0). The interface can change in the future.\n",
      "  pruner=optuna.pruners.PatientPruner(optuna.pruners.MedianPruner(), patience=2),\n",
      "\u001b[32m[I 2021-10-25 20:45:32,496]\u001b[0m Using an existing study with name 'H1_active_EP_vs_inactive_rest_FFNN_1_2' instead of creating a new one.\u001b[0m\n"
     ]
    },
    {
     "name": "stdout",
     "output_type": "stream",
     "text": [
      "Study statistics: \n",
      "  Number of finished trials:  3\n",
      "  Number of pruned trials:  0\n",
      "  Number of complete trials:  3\n",
      "Best trial:\n",
      "  Value:  0.2690379326321461\n",
      "  Params: \n",
      "    dropout_l0: 0.3\n",
      "    dropout_l1: 0.2\n",
      "    dropout_l2: 0.0\n",
      "    dropout_l3: 0.4\n",
      "    lr: 0.03501965115831966\n",
      "    n_layers: 4\n",
      "    n_units_l0: 128\n",
      "    n_units_l1: 16\n",
      "    n_units_l2: 4\n",
      "    n_units_l3: 4\n",
      "    optimizer: Nadam\n",
      "    weight_decay: 0.00014126542836882854\n",
      "\n",
      "===============> MODEL TESTING\n",
      "AUPRC test score: 0.10014472455648932\n",
      "\n",
      "\n",
      ">>> ITERATION N. 3\n",
      "\n",
      "===============> HYPERPARAMETERS TUNING\n"
     ]
    },
    {
     "name": "stderr",
     "output_type": "stream",
     "text": [
      "/Users/Niki/Prediction-of-Active-and-Inactive-Regulatory-Regions-with-Embracenet-Multimodal-Neural-Network-/BIOINF_tesi/models/utils/training_models.py:362: ExperimentalWarning: PatientPruner is experimental (supported from v2.8.0). The interface can change in the future.\n",
      "  pruner=optuna.pruners.PatientPruner(optuna.pruners.MedianPruner(), patience=2),\n",
      "\u001b[32m[I 2021-10-25 20:45:32,795]\u001b[0m Using an existing study with name 'H1_active_EP_vs_inactive_rest_FFNN_1_2_3' instead of creating a new one.\u001b[0m\n"
     ]
    },
    {
     "name": "stdout",
     "output_type": "stream",
     "text": [
      "Study statistics: \n",
      "  Number of finished trials:  3\n",
      "  Number of pruned trials:  0\n",
      "  Number of complete trials:  3\n",
      "Best trial:\n",
      "  Value:  0.25959733070625085\n",
      "  Params: \n",
      "    dropout_l0: 0.0\n",
      "    dropout_l1: 0.2\n",
      "    lr: 0.0035376900781152873\n",
      "    n_layers: 2\n",
      "    n_units_l0: 256\n",
      "    n_units_l1: 64\n",
      "    optimizer: Adam\n",
      "    weight_decay: 0.000576402102678221\n",
      "\n",
      "===============> MODEL TESTING\n",
      "AUPRC test score: 0.2544136599399016\n",
      "\n",
      "\n",
      "\n",
      "3-FOLD CROSS-VALIDATION AUPRC TEST SCORE: 0.20899\n"
     ]
    }
   ],
   "source": [
    "kf_CV = Kfold_CV()\n",
    "\n",
    "kf_CV(build_dataloader_pipeline = pipe_data_load,\n",
    "                num_epochs = 100,\n",
    "                n_folds=3,\n",
    "                cell_line=cell_line,\n",
    "                sequence=False,\n",
    "                model = model,\n",
    "                device = device,\n",
    "                task=task,\n",
    "                sampler = 'TPE',\n",
    "                study_name = f'{cell_line}_{task}_{model.__name__}',\n",
    "                test_model_path = f'{cell_line}_{task}_{model.__name__}_TEST')"
   ]
  },
  {
   "cell_type": "code",
   "execution_count": 20,
   "metadata": {},
   "outputs": [],
   "source": [
    "results_dict[cell_line][task][model.__name__] = kf_CV.scores_dict"
   ]
  },
  {
   "cell_type": "code",
   "execution_count": 22,
   "metadata": {},
   "outputs": [],
   "source": [
    "with open ('results_dict.pickle', 'wb') as fout:\n",
    "    pickle.dump(OrderedDict(results_dict), fout)"
   ]
  },
  {
   "cell_type": "markdown",
   "metadata": {},
   "source": [
    "---\n",
    "### 2. CNN"
   ]
  },
  {
   "cell_type": "code",
   "execution_count": 36,
   "metadata": {},
   "outputs": [],
   "source": [
    "model=CNN"
   ]
  },
  {
   "cell_type": "code",
   "execution_count": 37,
   "metadata": {
    "scrolled": true
   },
   "outputs": [
    {
     "name": "stderr",
     "output_type": "stream",
     "text": [
      "/home/jupyter/Prediction-of-Active-and-Inactive-Regulatory-Regions-with-Embracenet-Multimodal-Neural-Network-/BIOINF_tesi/models/utils/training_models.py:362: ExperimentalWarning: PatientPruner is experimental (supported from v2.8.0). The interface can change in the future.\n",
      "  pruner=optuna.pruners.PatientPruner(optuna.pruners.MedianPruner(), patience=2),\n",
      "\u001b[32m[I 2021-10-25 18:40:24,072]\u001b[0m Using an existing study with name 'H1_active_EP_vs_inactive_rest_CNN_1' instead of creating a new one.\u001b[0m\n"
     ]
    },
    {
     "name": "stdout",
     "output_type": "stream",
     "text": [
      ">>> ITERATION N. 1\n",
      "\n",
      "===============> HYPERPARAMETERS TUNING\n"
     ]
    },
    {
     "name": "stderr",
     "output_type": "stream",
     "text": [
      "/home/jupyter/Prediction-of-Active-and-Inactive-Regulatory-Regions-with-Embracenet-Multimodal-Neural-Network-/BIOINF_tesi/models/utils/training_models.py:362: ExperimentalWarning: PatientPruner is experimental (supported from v2.8.0). The interface can change in the future.\n",
      "  pruner=optuna.pruners.PatientPruner(optuna.pruners.MedianPruner(), patience=2),\n",
      "\u001b[32m[I 2021-10-25 18:40:24,372]\u001b[0m Using an existing study with name 'H1_active_EP_vs_inactive_rest_CNN_1_2' instead of creating a new one.\u001b[0m\n"
     ]
    },
    {
     "name": "stdout",
     "output_type": "stream",
     "text": [
      "Study statistics: \n",
      "  Number of finished trials:  5\n",
      "  Number of pruned trials:  0\n",
      "  Number of complete trials:  3\n",
      "Best trial:\n",
      "  Value:  0.18789850931021715\n",
      "  Params: \n",
      "    dropout_l0: 0.2\n",
      "    dropout_l1: 0\n",
      "    kernel_size_l0: 11\n",
      "    kernel_size_l1: 5\n",
      "    lr: 1.4816335581390753e-05\n",
      "    n_layers: 2\n",
      "    optimizer: Adam\n",
      "    out_channels_l0: 16\n",
      "    out_channels_l1: 32\n",
      "    weight_decay: 0.0007618536696654548\n",
      "\n",
      "===============> MODEL TESTING\n",
      "AUPRC test score: 0.20723833623827714\n",
      "\n",
      "\n",
      ">>> ITERATION N. 2\n",
      "\n",
      "===============> HYPERPARAMETERS TUNING\n"
     ]
    },
    {
     "name": "stderr",
     "output_type": "stream",
     "text": [
      "/home/jupyter/Prediction-of-Active-and-Inactive-Regulatory-Regions-with-Embracenet-Multimodal-Neural-Network-/BIOINF_tesi/models/utils/training_models.py:362: ExperimentalWarning: PatientPruner is experimental (supported from v2.8.0). The interface can change in the future.\n",
      "  pruner=optuna.pruners.PatientPruner(optuna.pruners.MedianPruner(), patience=2),\n",
      "\u001b[32m[I 2021-10-25 18:40:24,657]\u001b[0m Using an existing study with name 'H1_active_EP_vs_inactive_rest_CNN_1_2_3' instead of creating a new one.\u001b[0m\n"
     ]
    },
    {
     "name": "stdout",
     "output_type": "stream",
     "text": [
      "Study statistics: \n",
      "  Number of finished trials:  3\n",
      "  Number of pruned trials:  0\n",
      "  Number of complete trials:  3\n",
      "Best trial:\n",
      "  Value:  0.2036399880954602\n",
      "  Params: \n",
      "    dropout_l0: 0.3\n",
      "    kernel_size_l0: 11\n",
      "    lr: 1.1993177743036288e-05\n",
      "    n_layers: 1\n",
      "    optimizer: Nadam\n",
      "    out_channels_l0: 32\n",
      "    weight_decay: 0.012919499281693347\n",
      "\n",
      "===============> MODEL TESTING\n",
      "AUPRC test score: 0.20236471231526587\n",
      "\n",
      "\n",
      ">>> ITERATION N. 3\n",
      "\n",
      "===============> HYPERPARAMETERS TUNING\n",
      "Study statistics: \n",
      "  Number of finished trials:  3\n",
      "  Number of pruned trials:  0\n",
      "  Number of complete trials:  3\n",
      "Best trial:\n",
      "  Value:  0.20321003958377995\n",
      "  Params: \n",
      "    dropout_l0: 0.2\n",
      "    dropout_l1: 0.4\n",
      "    dropout_l2: 0\n",
      "    kernel_size_l0: 15\n",
      "    kernel_size_l1: 5\n",
      "    kernel_size_l2: 15\n",
      "    lr: 0.0014666724983444786\n",
      "    n_layers: 3\n",
      "    optimizer: RMSprop\n",
      "    out_channels_l0: 64\n",
      "    out_channels_l1: 32\n",
      "    out_channels_l2: 96\n",
      "    weight_decay: 0.03727375336122134\n",
      "\n",
      "===============> MODEL TESTING\n",
      "AUPRC test score: 0.16067930891423635\n",
      "\n",
      "\n",
      "\n",
      "3-FOLD CROSS-VALIDATION AUPRC TEST SCORE: 0.19009\n"
     ]
    }
   ],
   "source": [
    "kf_CV = Kfold_CV()\n",
    "\n",
    "kf_CV(build_dataloader_pipeline = pipe_data_load,\n",
    "                num_epochs = 100,\n",
    "                n_folds=3,\n",
    "                cell_line=cell_line,\n",
    "                sequence=True,\n",
    "                model = model,\n",
    "                device = device,\n",
    "                task=task,\n",
    "                sampler = 'TPE',\n",
    "                study_name = f'{cell_line}_{task}_{model.__name__}',\n",
    "                test_model_path = f'{cell_line}_{task}_{model.__name__}_TEST')"
   ]
  },
  {
   "cell_type": "code",
   "execution_count": 38,
   "metadata": {},
   "outputs": [],
   "source": [
    "results_dict[cell_line][task][model.__name__] = kf_CV.scores_dict"
   ]
  },
  {
   "cell_type": "code",
   "execution_count": 39,
   "metadata": {},
   "outputs": [],
   "source": [
    "with open ('results_dict.pickle', 'wb') as fout:\n",
    "    pickle.dump(OrderedDict(results_dict), fout)"
   ]
  },
  {
   "cell_type": "markdown",
   "metadata": {},
   "source": [
    "---"
   ]
  },
  {
   "cell_type": "code",
   "execution_count": null,
   "metadata": {},
   "outputs": [],
   "source": [
    "plot_scores(cells=cell_line, models=['FFNN','CNN'])"
   ]
  },
  {
   "cell_type": "code",
   "execution_count": null,
   "metadata": {},
   "outputs": [],
   "source": []
  }
 ],
 "metadata": {
  "environment": {
   "name": "pytorch-gpu.1-9.m80",
   "type": "gcloud",
   "uri": "gcr.io/deeplearning-platform-release/pytorch-gpu.1-9:m80"
  },
  "kernelspec": {
   "display_name": "Python 3",
   "language": "python",
   "name": "python3"
  },
  "language_info": {
   "codemirror_mode": {
    "name": "ipython",
    "version": 3
   },
   "file_extension": ".py",
   "mimetype": "text/x-python",
   "name": "python",
   "nbconvert_exporter": "python",
   "pygments_lexer": "ipython3",
   "version": "3.8.8"
  }
 },
 "nbformat": 4,
 "nbformat_minor": 4
}
