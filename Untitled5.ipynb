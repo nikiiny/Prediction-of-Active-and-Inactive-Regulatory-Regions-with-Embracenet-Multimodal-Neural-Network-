{
 "cells": [
  {
   "cell_type": "code",
   "execution_count": 1,
   "id": "442fd427",
   "metadata": {},
   "outputs": [],
   "source": [
    "import pandas as pd \n",
    "import numpy as np\n",
    "import os\n",
    "import torch\n",
    "import torch.nn.functional as F\n",
    "from torch.utils.data import Dataset, DataLoader\n",
    "import torch.nn as nn\n",
    "import torch.optim as optim\n",
    "from collections import defaultdict, OrderedDict\n",
    "import pickle\n",
    "\n",
    "import sqlite3\n",
    "from sqlalchemy import create_engine\n",
    "\n",
    "device = 'cuda' if torch.cuda.is_available() else 'cpu'\n",
    "\n",
    "from BIOINF_tesi.data_pipe import CELL_LINES, TASKS"
   ]
  },
  {
   "cell_type": "code",
   "execution_count": 2,
   "id": "1fb016db",
   "metadata": {},
   "outputs": [],
   "source": [
    "with open ('pval_results_dict.pickle', 'rb') as fin:\n",
    "        results_dict = pickle.load(fin)\n",
    "        results_dict = defaultdict(lambda: defaultdict(dict), results_dict)"
   ]
  },
  {
   "cell_type": "code",
   "execution_count": 10,
   "id": "73ef686d",
   "metadata": {},
   "outputs": [],
   "source": [
    "with open (f'pval_results_dict_{TASKS[2]}.pickle', 'rb') as fin:\n",
    "        results_dict = pickle.load(fin)\n",
    "        results_dict = defaultdict(lambda: defaultdict(dict), results_dict)"
   ]
  },
  {
   "cell_type": "code",
   "execution_count": null,
   "id": "c925fbdc",
   "metadata": {},
   "outputs": [],
   "source": []
  },
  {
   "cell_type": "code",
   "execution_count": 11,
   "id": "15f13c1e",
   "metadata": {},
   "outputs": [
    {
     "data": {
      "text/plain": [
       "defaultdict(dict,\n",
       "            {'A549': {'EmbraceNetMultimodal': defaultdict(<function BIOINF_tesi.visual.visual.dd()>,\n",
       "                          {'FFNN': defaultdict(dict, {'3': 0.0}),\n",
       "                           'CNN': defaultdict(dict,\n",
       "                                       {'3': 1.6773044774266527e-251}),\n",
       "                           'ConcatNetMultimodal': defaultdict(dict,\n",
       "                                       {'3': 0.0}),\n",
       "                           'EmbraceNetMultimodal_augmentation': defaultdict(dict,\n",
       "                                       {'3': 0.0})}),\n",
       "              'EmbraceNetMultimodal_augmentation': defaultdict(<function BIOINF_tesi.visual.visual.dd()>,\n",
       "                          {'FFNN': defaultdict(dict,\n",
       "                                       {'3': 9.313172529280002e-124}),\n",
       "                           'CNN': defaultdict(dict, {'3': 0.0}),\n",
       "                           'ConcatNetMultimodal': defaultdict(dict,\n",
       "                                       {'3': 0.0}),\n",
       "                           'EmbraceNetMultimodal': defaultdict(dict,\n",
       "                                       {'3': 0.0})})}})"
      ]
     },
     "execution_count": 11,
     "metadata": {},
     "output_type": "execute_result"
    }
   ],
   "source": [
    "results_dict['active_E_vs_active_P']"
   ]
  },
  {
   "cell_type": "code",
   "execution_count": 30,
   "id": "5027d6e3",
   "metadata": {},
   "outputs": [
    {
     "data": {
      "application/vnd.jupyter.widget-view+json": {
       "model_id": "dc6c129a35b549f8b31cca06243f91d3",
       "version_major": 2,
       "version_minor": 0
      },
      "text/plain": [
       "iter models:   0%|          | 0/2 [00:00<?, ?it/s]"
      ]
     },
     "metadata": {},
     "output_type": "display_data"
    },
    {
     "data": {
      "text/plain": [
       "defaultdict(<function __main__.dd()>,\n",
       "            {'task': defaultdict(dict,\n",
       "                         {'cell_line': {'B': defaultdict(<function __main__.dd()>,\n",
       "                                       {})}})})"
      ]
     },
     "metadata": {},
     "output_type": "display_data"
    },
    {
     "data": {
      "application/vnd.jupyter.widget-view+json": {
       "model_id": "acb3b32007894d7abc71b4d3776fcc18",
       "version_major": 2,
       "version_minor": 0
      },
      "text/plain": [
       "Iter folds:   0%|          | 0/3 [00:00<?, ?it/s]"
      ]
     },
     "metadata": {},
     "output_type": "display_data"
    },
    {
     "data": {
      "application/vnd.jupyter.widget-view+json": {
       "model_id": "79662813714e4b1cb95a08ae16549aba",
       "version_major": 2,
       "version_minor": 0
      },
      "text/plain": [
       "Iter folds:   0%|          | 0/3 [00:00<?, ?it/s]"
      ]
     },
     "metadata": {},
     "output_type": "display_data"
    },
    {
     "data": {
      "text/plain": [
       "defaultdict(<function __main__.dd()>,\n",
       "            {'task': defaultdict(dict,\n",
       "                         {'cell_line': {'B': defaultdict(<function __main__.dd()>,\n",
       "                                       {'c': defaultdict(dict,\n",
       "                                                    {'1': 0, '2': 0, '3': 0}),\n",
       "                                        'a': defaultdict(dict,\n",
       "                                                    {'1': 0,\n",
       "                                                     '2': 0,\n",
       "                                                     '3': 0})}),\n",
       "                           'b': defaultdict(<function __main__.dd()>, {})}})})"
      ]
     },
     "metadata": {},
     "output_type": "display_data"
    },
    {
     "data": {
      "application/vnd.jupyter.widget-view+json": {
       "model_id": "41174f4565fb41ccb9c393931f6a181f",
       "version_major": 2,
       "version_minor": 0
      },
      "text/plain": [
       "Iter folds:   0%|          | 0/3 [00:00<?, ?it/s]"
      ]
     },
     "metadata": {},
     "output_type": "display_data"
    },
    {
     "data": {
      "application/vnd.jupyter.widget-view+json": {
       "model_id": "86f455dfb71d464192e7f12c7744e873",
       "version_major": 2,
       "version_minor": 0
      },
      "text/plain": [
       "Iter folds:   0%|          | 0/3 [00:00<?, ?it/s]"
      ]
     },
     "metadata": {},
     "output_type": "display_data"
    }
   ],
   "source": [
    "from tqdm.auto import tqdm\n",
    "def dd():\n",
    "    return defaultdict(dict)\n",
    "pval_dict = defaultdict(dd) \n",
    "\n",
    "task = 'task'\n",
    "cell_line = 'cell_line'\n",
    "\n",
    "base_model=['B','b']\n",
    "MODELS = ['c','a']\n",
    "for b_model in tqdm(base_model, desc='iter models'):\n",
    "    pval_dict[task][cell_line][b_model] = defaultdict(dd)\n",
    "    display(pval_dict)\n",
    "        \n",
    "    for c_model in MODELS:\n",
    "        if c_model == b_model:\n",
    "            continue\n",
    "        else:\n",
    "            for i in tqdm(range(3), desc='Iter folds'):\n",
    "                i+=1\n",
    "                pval = 0\n",
    "                \n",
    "                pval_dict[task][cell_line][b_model][c_model][str(i)] = pval\n"
   ]
  },
  {
   "cell_type": "code",
   "execution_count": 31,
   "id": "f3694f39",
   "metadata": {},
   "outputs": [
    {
     "data": {
      "text/plain": [
       "defaultdict(<function __main__.dd()>,\n",
       "            {'task': defaultdict(dict,\n",
       "                         {'cell_line': {'B': defaultdict(<function __main__.dd()>,\n",
       "                                       {'c': defaultdict(dict,\n",
       "                                                    {'1': 0, '2': 0, '3': 0}),\n",
       "                                        'a': defaultdict(dict,\n",
       "                                                    {'1': 0,\n",
       "                                                     '2': 0,\n",
       "                                                     '3': 0})}),\n",
       "                           'b': defaultdict(<function __main__.dd()>,\n",
       "                                       {'c': defaultdict(dict,\n",
       "                                                    {'1': 0, '2': 0, '3': 0}),\n",
       "                                        'a': defaultdict(dict,\n",
       "                                                    {'1': 0,\n",
       "                                                     '2': 0,\n",
       "                                                     '3': 0})})}})})"
      ]
     },
     "execution_count": 31,
     "metadata": {},
     "output_type": "execute_result"
    }
   ],
   "source": [
    "pval_dict"
   ]
  },
  {
   "cell_type": "code",
   "execution_count": null,
   "id": "2925e0e3",
   "metadata": {},
   "outputs": [],
   "source": []
  }
 ],
 "metadata": {
  "kernelspec": {
   "display_name": "Python 3",
   "language": "python",
   "name": "python3"
  },
  "language_info": {
   "codemirror_mode": {
    "name": "ipython",
    "version": 3
   },
   "file_extension": ".py",
   "mimetype": "text/x-python",
   "name": "python",
   "nbconvert_exporter": "python",
   "pygments_lexer": "ipython3",
   "version": "3.8.8"
  }
 },
 "nbformat": 4,
 "nbformat_minor": 5
}
