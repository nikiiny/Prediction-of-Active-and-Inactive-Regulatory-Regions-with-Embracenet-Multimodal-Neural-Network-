{
 "cells": [
  {
   "cell_type": "code",
   "execution_count": 3,
   "id": "d806cba7",
   "metadata": {},
   "outputs": [],
   "source": [
    "import pandas as pd \n",
    "import numpy as np\n",
    "import os\n",
    "import torch\n",
    "import torch.nn.functional as F\n",
    "from torch.utils.data import Dataset, DataLoader\n",
    "import torch.nn as nn\n",
    "import torch.optim as optim\n",
    "from collections import defaultdict, OrderedDict\n",
    "import pickle\n",
    "\n",
    "import sqlite3\n",
    "from sqlalchemy import create_engine\n",
    "\n",
    "device = 'cuda' if torch.cuda.is_available() else 'cpu'\n",
    "\n",
    "from BIOINF_tesi.data_pipe import CELL_LINES, TASKS"
   ]
  },
  {
   "cell_type": "code",
   "execution_count": 2,
   "id": "0543731e",
   "metadata": {},
   "outputs": [
    {
     "data": {
      "application/vnd.jupyter.widget-view+json": {
       "model_id": "0f7b65ddb2684dfd87dca2bb38bcfbb8",
       "version_major": 2,
       "version_minor": 0
      },
      "text/plain": [
       "Iter tasks:   0%|          | 0/1 [00:00<?, ?it/s]"
      ]
     },
     "metadata": {},
     "output_type": "display_data"
    },
    {
     "name": "stdout",
     "output_type": "stream",
     "text": [
      "Data Preprocessing Done!\n"
     ]
    },
    {
     "data": {
      "application/vnd.jupyter.widget-view+json": {
       "model_id": "3122371658814ad88e3b348dfa4eb03a",
       "version_major": 2,
       "version_minor": 0
      },
      "text/plain": [
       "Iter cell lines:   0%|          | 0/7 [00:00<?, ?it/s]"
      ]
     },
     "metadata": {},
     "output_type": "display_data"
    },
    {
     "data": {
      "application/vnd.jupyter.widget-view+json": {
       "model_id": "5eba5de9b517429fac8bc004f0176411",
       "version_major": 2,
       "version_minor": 0
      },
      "text/plain": [
       "Iter folds:   0%|          | 0/3 [00:00<?, ?it/s]"
      ]
     },
     "metadata": {},
     "output_type": "display_data"
    },
    {
     "data": {
      "application/vnd.jupyter.widget-view+json": {
       "model_id": "790d4d544f0f44848b27c90c20e4af4e",
       "version_major": 2,
       "version_minor": 0
      },
      "text/plain": [
       "iter models:   0%|          | 0/2 [00:00<?, ?it/s]"
      ]
     },
     "metadata": {},
     "output_type": "display_data"
    },
    {
     "data": {
      "application/vnd.jupyter.widget-view+json": {
       "model_id": "3b985b33415a42aeb6d603ac0e5f0d5a",
       "version_major": 2,
       "version_minor": 0
      },
      "text/plain": [
       "iter models:   0%|          | 0/2 [00:00<?, ?it/s]"
      ]
     },
     "metadata": {},
     "output_type": "display_data"
    },
    {
     "data": {
      "application/vnd.jupyter.widget-view+json": {
       "model_id": "6ddf950ac2884c7b84fc02a3fc95efa6",
       "version_major": 2,
       "version_minor": 0
      },
      "text/plain": [
       "iter models:   0%|          | 0/2 [00:00<?, ?it/s]"
      ]
     },
     "metadata": {},
     "output_type": "display_data"
    },
    {
     "data": {
      "application/vnd.jupyter.widget-view+json": {
       "model_id": "1d92933b208f46d5a9c92e091fcbc966",
       "version_major": 2,
       "version_minor": 0
      },
      "text/plain": [
       "Iter folds:   0%|          | 0/3 [00:00<?, ?it/s]"
      ]
     },
     "metadata": {},
     "output_type": "display_data"
    },
    {
     "data": {
      "application/vnd.jupyter.widget-view+json": {
       "model_id": "9c67a2b7cefb42cd8ed017eee6830409",
       "version_major": 2,
       "version_minor": 0
      },
      "text/plain": [
       "iter models:   0%|          | 0/2 [00:00<?, ?it/s]"
      ]
     },
     "metadata": {},
     "output_type": "display_data"
    },
    {
     "data": {
      "application/vnd.jupyter.widget-view+json": {
       "model_id": "a8ff1d69531e408a936d5d774a0997e6",
       "version_major": 2,
       "version_minor": 0
      },
      "text/plain": [
       "iter models:   0%|          | 0/2 [00:00<?, ?it/s]"
      ]
     },
     "metadata": {},
     "output_type": "display_data"
    },
    {
     "data": {
      "application/vnd.jupyter.widget-view+json": {
       "model_id": "535184602ec24f5491856199cb1eba8a",
       "version_major": 2,
       "version_minor": 0
      },
      "text/plain": [
       "iter models:   0%|          | 0/2 [00:00<?, ?it/s]"
      ]
     },
     "metadata": {},
     "output_type": "display_data"
    },
    {
     "data": {
      "application/vnd.jupyter.widget-view+json": {
       "model_id": "219417f44806440db65632a0f46b8ff3",
       "version_major": 2,
       "version_minor": 0
      },
      "text/plain": [
       "Iter folds:   0%|          | 0/3 [00:00<?, ?it/s]"
      ]
     },
     "metadata": {},
     "output_type": "display_data"
    },
    {
     "data": {
      "application/vnd.jupyter.widget-view+json": {
       "model_id": "8c7d55671fb64414bff60c7a553959c4",
       "version_major": 2,
       "version_minor": 0
      },
      "text/plain": [
       "iter models:   0%|          | 0/2 [00:00<?, ?it/s]"
      ]
     },
     "metadata": {},
     "output_type": "display_data"
    },
    {
     "data": {
      "application/vnd.jupyter.widget-view+json": {
       "model_id": "ea686d4fafdf47b7a40ea3754494ccc3",
       "version_major": 2,
       "version_minor": 0
      },
      "text/plain": [
       "iter models:   0%|          | 0/2 [00:00<?, ?it/s]"
      ]
     },
     "metadata": {},
     "output_type": "display_data"
    },
    {
     "data": {
      "application/vnd.jupyter.widget-view+json": {
       "model_id": "76fd27609def42c38e3e8708378efe07",
       "version_major": 2,
       "version_minor": 0
      },
      "text/plain": [
       "iter models:   0%|          | 0/2 [00:00<?, ?it/s]"
      ]
     },
     "metadata": {},
     "output_type": "display_data"
    },
    {
     "data": {
      "application/vnd.jupyter.widget-view+json": {
       "model_id": "ac405c0b0a1d4035a138907a3d45308c",
       "version_major": 2,
       "version_minor": 0
      },
      "text/plain": [
       "Iter folds:   0%|          | 0/3 [00:00<?, ?it/s]"
      ]
     },
     "metadata": {},
     "output_type": "display_data"
    },
    {
     "data": {
      "application/vnd.jupyter.widget-view+json": {
       "model_id": "6afe65f7902344138bd509944fb6f66e",
       "version_major": 2,
       "version_minor": 0
      },
      "text/plain": [
       "iter models:   0%|          | 0/2 [00:00<?, ?it/s]"
      ]
     },
     "metadata": {},
     "output_type": "display_data"
    },
    {
     "data": {
      "application/vnd.jupyter.widget-view+json": {
       "model_id": "81ea76d470f64560a4b65b95f97a0d5b",
       "version_major": 2,
       "version_minor": 0
      },
      "text/plain": [
       "iter models:   0%|          | 0/2 [00:00<?, ?it/s]"
      ]
     },
     "metadata": {},
     "output_type": "display_data"
    },
    {
     "data": {
      "application/vnd.jupyter.widget-view+json": {
       "model_id": "94a338c197c34835a6e4afa84f92996d",
       "version_major": 2,
       "version_minor": 0
      },
      "text/plain": [
       "iter models:   0%|          | 0/2 [00:00<?, ?it/s]"
      ]
     },
     "metadata": {},
     "output_type": "display_data"
    },
    {
     "data": {
      "application/vnd.jupyter.widget-view+json": {
       "model_id": "41124fefa1294d67ab07cf75571d6906",
       "version_major": 2,
       "version_minor": 0
      },
      "text/plain": [
       "Iter folds:   0%|          | 0/3 [00:00<?, ?it/s]"
      ]
     },
     "metadata": {},
     "output_type": "display_data"
    },
    {
     "data": {
      "application/vnd.jupyter.widget-view+json": {
       "model_id": "f1d838020fe94a52aed0f6f5910c5d95",
       "version_major": 2,
       "version_minor": 0
      },
      "text/plain": [
       "iter models:   0%|          | 0/2 [00:00<?, ?it/s]"
      ]
     },
     "metadata": {},
     "output_type": "display_data"
    },
    {
     "data": {
      "application/vnd.jupyter.widget-view+json": {
       "model_id": "3bce7f5dd55147c0a611594dd5650f22",
       "version_major": 2,
       "version_minor": 0
      },
      "text/plain": [
       "iter models:   0%|          | 0/2 [00:00<?, ?it/s]"
      ]
     },
     "metadata": {},
     "output_type": "display_data"
    },
    {
     "data": {
      "application/vnd.jupyter.widget-view+json": {
       "model_id": "dce687ec87194761ac2940d5e7600acd",
       "version_major": 2,
       "version_minor": 0
      },
      "text/plain": [
       "iter models:   0%|          | 0/2 [00:00<?, ?it/s]"
      ]
     },
     "metadata": {},
     "output_type": "display_data"
    },
    {
     "data": {
      "application/vnd.jupyter.widget-view+json": {
       "model_id": "d11b8797f8da4f0bafe12cf656887a29",
       "version_major": 2,
       "version_minor": 0
      },
      "text/plain": [
       "Iter folds:   0%|          | 0/3 [00:00<?, ?it/s]"
      ]
     },
     "metadata": {},
     "output_type": "display_data"
    },
    {
     "data": {
      "application/vnd.jupyter.widget-view+json": {
       "model_id": "cf439e194b0c42ef98e4145850b70b4d",
       "version_major": 2,
       "version_minor": 0
      },
      "text/plain": [
       "iter models:   0%|          | 0/2 [00:00<?, ?it/s]"
      ]
     },
     "metadata": {},
     "output_type": "display_data"
    },
    {
     "ename": "RuntimeError",
     "evalue": "Error(s) in loading state_dict for EmbraceNetMultimodal_NoTrain:\n\tMissing key(s) in state_dict: \"FFNN.model.3.weight\", \"FFNN.model.3.bias\", \"FFNN.model.6.weight\", \"FFNN.model.6.bias\", \"post.6.weight\", \"post.6.bias\". \n\tsize mismatch for CNN.CNN_model.0.weight: copying a param with shape torch.Size([32, 4, 15]) from checkpoint, the shape in current model is torch.Size([32, 4, 11]).\n\tsize mismatch for CNN.CNN_model.5.weight: copying a param with shape torch.Size([32, 32, 15]) from checkpoint, the shape in current model is torch.Size([32, 32, 5]).\n\tsize mismatch for embracenet.docking_0.weight: copying a param with shape torch.Size([768, 64]) from checkpoint, the shape in current model is torch.Size([512, 16]).\n\tsize mismatch for embracenet.docking_0.bias: copying a param with shape torch.Size([768]) from checkpoint, the shape in current model is torch.Size([512]).\n\tsize mismatch for embracenet.docking_1.weight: copying a param with shape torch.Size([768, 1856]) from checkpoint, the shape in current model is torch.Size([512, 1856]).\n\tsize mismatch for embracenet.docking_1.bias: copying a param with shape torch.Size([768]) from checkpoint, the shape in current model is torch.Size([512]).\n\tsize mismatch for post.0.weight: copying a param with shape torch.Size([32, 768]) from checkpoint, the shape in current model is torch.Size([256, 512]).\n\tsize mismatch for post.0.bias: copying a param with shape torch.Size([32]) from checkpoint, the shape in current model is torch.Size([256]).\n\tsize mismatch for post.3.weight: copying a param with shape torch.Size([2, 32]) from checkpoint, the shape in current model is torch.Size([128, 256]).\n\tsize mismatch for post.3.bias: copying a param with shape torch.Size([2]) from checkpoint, the shape in current model is torch.Size([128]).",
     "output_type": "error",
     "traceback": [
      "\u001b[0;31m---------------------------------------------------------------------------\u001b[0m",
      "\u001b[0;31mRuntimeError\u001b[0m                              Traceback (most recent call last)",
      "\u001b[0;32m<ipython-input-2-2d96b32711a4>\u001b[0m in \u001b[0;36m<module>\u001b[0;34m\u001b[0m\n\u001b[1;32m      1\u001b[0m \u001b[0;32mfrom\u001b[0m \u001b[0mBIOINF_tesi\u001b[0m\u001b[0;34m.\u001b[0m\u001b[0mvisual\u001b[0m \u001b[0;32mimport\u001b[0m \u001b[0mCompare_Models_Result\u001b[0m\u001b[0;34m\u001b[0m\u001b[0;34m\u001b[0m\u001b[0m\n\u001b[1;32m      2\u001b[0m \u001b[0mcompare_models\u001b[0m \u001b[0;34m=\u001b[0m \u001b[0mCompare_Models_Result\u001b[0m\u001b[0;34m(\u001b[0m\u001b[0;34m)\u001b[0m\u001b[0;34m\u001b[0m\u001b[0;34m\u001b[0m\u001b[0m\n\u001b[0;32m----> 3\u001b[0;31m \u001b[0mcompare_models\u001b[0m\u001b[0;34m(\u001b[0m\u001b[0mdevice\u001b[0m\u001b[0;34m,\u001b[0m \u001b[0mtasks\u001b[0m\u001b[0;34m=\u001b[0m\u001b[0mTASKS\u001b[0m\u001b[0;34m[\u001b[0m\u001b[0;36m2\u001b[0m\u001b[0;34m]\u001b[0m\u001b[0;34m)\u001b[0m\u001b[0;34m\u001b[0m\u001b[0;34m\u001b[0m\u001b[0m\n\u001b[0m",
      "\u001b[0;32m~/Prediction-of-Active-and-Inactive-Regulatory-Regions-with-Embracenet-Multimodal-Neural-Network-/BIOINF_tesi/visual/visual.py\u001b[0m in \u001b[0;36m__call__\u001b[0;34m(self, device, base_model, comparison_models, augmentation_base_model, n_folds, cell_lines, tasks, pval_dict)\u001b[0m\n\u001b[1;32m    328\u001b[0m \u001b[0;34m\u001b[0m\u001b[0m\n\u001b[1;32m    329\u001b[0m                         \u001b[0;32mfor\u001b[0m \u001b[0mb_model\u001b[0m \u001b[0;32min\u001b[0m \u001b[0mtqdm\u001b[0m\u001b[0;34m(\u001b[0m\u001b[0mbase_model\u001b[0m\u001b[0;34m,\u001b[0m \u001b[0mdesc\u001b[0m\u001b[0;34m=\u001b[0m\u001b[0;34m'iter models'\u001b[0m\u001b[0;34m)\u001b[0m\u001b[0;34m:\u001b[0m\u001b[0;34m\u001b[0m\u001b[0;34m\u001b[0m\u001b[0m\n\u001b[0;32m--> 330\u001b[0;31m                             \u001b[0mbase_pred\u001b[0m \u001b[0;34m=\u001b[0m \u001b[0mself\u001b[0m\u001b[0;34m.\u001b[0m\u001b[0mget_model_predictions\u001b[0m\u001b[0;34m(\u001b[0m\u001b[0mcell_line\u001b[0m\u001b[0;34m,\u001b[0m \u001b[0mtask\u001b[0m\u001b[0;34m,\u001b[0m \u001b[0mb_model\u001b[0m\u001b[0;34m,\u001b[0m \u001b[0mi\u001b[0m\u001b[0;34m,\u001b[0m \u001b[0mdevice\u001b[0m\u001b[0;34m)\u001b[0m\u001b[0;34m\u001b[0m\u001b[0;34m\u001b[0m\u001b[0m\n\u001b[0m\u001b[1;32m    331\u001b[0m \u001b[0;34m\u001b[0m\u001b[0m\n\u001b[1;32m    332\u001b[0m                             \u001b[0;32mfor\u001b[0m \u001b[0mc_model\u001b[0m \u001b[0;32min\u001b[0m \u001b[0mMODELS\u001b[0m\u001b[0;34m:\u001b[0m\u001b[0;34m\u001b[0m\u001b[0;34m\u001b[0m\u001b[0m\n",
      "\u001b[0;32m~/Prediction-of-Active-and-Inactive-Regulatory-Regions-with-Embracenet-Multimodal-Neural-Network-/BIOINF_tesi/visual/visual.py\u001b[0m in \u001b[0;36mget_model_predictions\u001b[0;34m(self, cell_line, task, model, n_iteration, device)\u001b[0m\n\u001b[1;32m    242\u001b[0m         \u001b[0mstate_dict\u001b[0m \u001b[0;34m=\u001b[0m \u001b[0mtorch\u001b[0m\u001b[0;34m.\u001b[0m\u001b[0mload\u001b[0m\u001b[0;34m(\u001b[0m\u001b[0;34mf'{cell_line}_{model}_{task}_{n_iteration}_test_.pt'\u001b[0m\u001b[0;34m,\u001b[0m \u001b[0mmap_location\u001b[0m\u001b[0;34m=\u001b[0m\u001b[0mdevice\u001b[0m\u001b[0;34m)\u001b[0m\u001b[0;34m\u001b[0m\u001b[0;34m\u001b[0m\u001b[0m\n\u001b[1;32m    243\u001b[0m \u001b[0;34m\u001b[0m\u001b[0m\n\u001b[0;32m--> 244\u001b[0;31m         \u001b[0mmodel_\u001b[0m\u001b[0;34m.\u001b[0m\u001b[0mload_state_dict\u001b[0m\u001b[0;34m(\u001b[0m\u001b[0mstate_dict\u001b[0m\u001b[0;34m[\u001b[0m\u001b[0;34m'model_state_dict'\u001b[0m\u001b[0;34m]\u001b[0m\u001b[0;34m)\u001b[0m\u001b[0;34m\u001b[0m\u001b[0;34m\u001b[0m\u001b[0m\n\u001b[0m\u001b[1;32m    245\u001b[0m         \u001b[0mmodel_\u001b[0m\u001b[0;34m.\u001b[0m\u001b[0mdouble\u001b[0m\u001b[0;34m(\u001b[0m\u001b[0;34m)\u001b[0m\u001b[0;34m.\u001b[0m\u001b[0mto\u001b[0m\u001b[0;34m(\u001b[0m\u001b[0mdevice\u001b[0m\u001b[0;34m)\u001b[0m\u001b[0;34m\u001b[0m\u001b[0;34m\u001b[0m\u001b[0m\n\u001b[1;32m    246\u001b[0m \u001b[0;34m\u001b[0m\u001b[0m\n",
      "\u001b[0;32m/opt/anaconda3/lib/python3.8/site-packages/torch/nn/modules/module.py\u001b[0m in \u001b[0;36mload_state_dict\u001b[0;34m(self, state_dict, strict)\u001b[0m\n\u001b[1;32m   1404\u001b[0m \u001b[0;34m\u001b[0m\u001b[0m\n\u001b[1;32m   1405\u001b[0m         \u001b[0;32mif\u001b[0m \u001b[0mlen\u001b[0m\u001b[0;34m(\u001b[0m\u001b[0merror_msgs\u001b[0m\u001b[0;34m)\u001b[0m \u001b[0;34m>\u001b[0m \u001b[0;36m0\u001b[0m\u001b[0;34m:\u001b[0m\u001b[0;34m\u001b[0m\u001b[0;34m\u001b[0m\u001b[0m\n\u001b[0;32m-> 1406\u001b[0;31m             raise RuntimeError('Error(s) in loading state_dict for {}:\\n\\t{}'.format(\n\u001b[0m\u001b[1;32m   1407\u001b[0m                                self.__class__.__name__, \"\\n\\t\".join(error_msgs)))\n\u001b[1;32m   1408\u001b[0m         \u001b[0;32mreturn\u001b[0m \u001b[0m_IncompatibleKeys\u001b[0m\u001b[0;34m(\u001b[0m\u001b[0mmissing_keys\u001b[0m\u001b[0;34m,\u001b[0m \u001b[0munexpected_keys\u001b[0m\u001b[0;34m)\u001b[0m\u001b[0;34m\u001b[0m\u001b[0;34m\u001b[0m\u001b[0m\n",
      "\u001b[0;31mRuntimeError\u001b[0m: Error(s) in loading state_dict for EmbraceNetMultimodal_NoTrain:\n\tMissing key(s) in state_dict: \"FFNN.model.3.weight\", \"FFNN.model.3.bias\", \"FFNN.model.6.weight\", \"FFNN.model.6.bias\", \"post.6.weight\", \"post.6.bias\". \n\tsize mismatch for CNN.CNN_model.0.weight: copying a param with shape torch.Size([32, 4, 15]) from checkpoint, the shape in current model is torch.Size([32, 4, 11]).\n\tsize mismatch for CNN.CNN_model.5.weight: copying a param with shape torch.Size([32, 32, 15]) from checkpoint, the shape in current model is torch.Size([32, 32, 5]).\n\tsize mismatch for embracenet.docking_0.weight: copying a param with shape torch.Size([768, 64]) from checkpoint, the shape in current model is torch.Size([512, 16]).\n\tsize mismatch for embracenet.docking_0.bias: copying a param with shape torch.Size([768]) from checkpoint, the shape in current model is torch.Size([512]).\n\tsize mismatch for embracenet.docking_1.weight: copying a param with shape torch.Size([768, 1856]) from checkpoint, the shape in current model is torch.Size([512, 1856]).\n\tsize mismatch for embracenet.docking_1.bias: copying a param with shape torch.Size([768]) from checkpoint, the shape in current model is torch.Size([512]).\n\tsize mismatch for post.0.weight: copying a param with shape torch.Size([32, 768]) from checkpoint, the shape in current model is torch.Size([256, 512]).\n\tsize mismatch for post.0.bias: copying a param with shape torch.Size([32]) from checkpoint, the shape in current model is torch.Size([256]).\n\tsize mismatch for post.3.weight: copying a param with shape torch.Size([2, 32]) from checkpoint, the shape in current model is torch.Size([128, 256]).\n\tsize mismatch for post.3.bias: copying a param with shape torch.Size([2]) from checkpoint, the shape in current model is torch.Size([128])."
     ]
    }
   ],
   "source": [
    "from BIOINF_tesi.visual import Compare_Models_Result\n",
    "compare_models = Compare_Models_Result()\n",
    "compare_models(device, tasks=TASKS[2])"
   ]
  },
  {
   "cell_type": "code",
   "execution_count": 6,
   "id": "b0d85e21",
   "metadata": {},
   "outputs": [
    {
     "data": {
      "application/vnd.jupyter.widget-view+json": {
       "model_id": "f3f31938b8ce48f883500aacfb8914c2",
       "version_major": 2,
       "version_minor": 0
      },
      "text/plain": [
       "Iter tasks:   0%|          | 0/1 [00:00<?, ?it/s]"
      ]
     },
     "metadata": {},
     "output_type": "display_data"
    },
    {
     "name": "stdout",
     "output_type": "stream",
     "text": [
      "Data Preprocessing Done!\n"
     ]
    },
    {
     "data": {
      "application/vnd.jupyter.widget-view+json": {
       "model_id": "b7b2823fb14b4215b6c72ee956d9a1b0",
       "version_major": 2,
       "version_minor": 0
      },
      "text/plain": [
       "Iter cell lines:   0%|          | 0/1 [00:00<?, ?it/s]"
      ]
     },
     "metadata": {},
     "output_type": "display_data"
    },
    {
     "data": {
      "application/vnd.jupyter.widget-view+json": {
       "model_id": "28902df580024dd89d981e1fa2940717",
       "version_major": 2,
       "version_minor": 0
      },
      "text/plain": [
       "Iter folds:   0%|          | 0/3 [00:00<?, ?it/s]"
      ]
     },
     "metadata": {},
     "output_type": "display_data"
    },
    {
     "data": {
      "application/vnd.jupyter.widget-view+json": {
       "model_id": "58d03a81c3dd4e1aab66bb7984bf1814",
       "version_major": 2,
       "version_minor": 0
      },
      "text/plain": [
       "iter models:   0%|          | 0/2 [00:00<?, ?it/s]"
      ]
     },
     "metadata": {},
     "output_type": "display_data"
    },
    {
     "data": {
      "application/vnd.jupyter.widget-view+json": {
       "model_id": "9af006d67bc245d69c095effdd834666",
       "version_major": 2,
       "version_minor": 0
      },
      "text/plain": [
       "iter models:   0%|          | 0/2 [00:00<?, ?it/s]"
      ]
     },
     "metadata": {},
     "output_type": "display_data"
    },
    {
     "data": {
      "application/vnd.jupyter.widget-view+json": {
       "model_id": "4369fd22bd254f538d5cc2f717ebbf77",
       "version_major": 2,
       "version_minor": 0
      },
      "text/plain": [
       "iter models:   0%|          | 0/2 [00:00<?, ?it/s]"
      ]
     },
     "metadata": {},
     "output_type": "display_data"
    },
    {
     "ename": "AttributeError",
     "evalue": "'Compare_Models_Result' object has no attribute 'get_model_difference'",
     "output_type": "error",
     "traceback": [
      "\u001b[0;31m---------------------------------------------------------------------------\u001b[0m",
      "\u001b[0;31mAttributeError\u001b[0m                            Traceback (most recent call last)",
      "\u001b[0;32m<ipython-input-6-e4f1aa8f6411>\u001b[0m in \u001b[0;36m<module>\u001b[0;34m\u001b[0m\n\u001b[1;32m      1\u001b[0m \u001b[0;32mfrom\u001b[0m \u001b[0mBIOINF_tesi\u001b[0m\u001b[0;34m.\u001b[0m\u001b[0mvisual\u001b[0m \u001b[0;32mimport\u001b[0m \u001b[0mCompare_Models_Result\u001b[0m\u001b[0;34m\u001b[0m\u001b[0;34m\u001b[0m\u001b[0m\n\u001b[1;32m      2\u001b[0m \u001b[0mcompare_models\u001b[0m \u001b[0;34m=\u001b[0m \u001b[0mCompare_Models_Result\u001b[0m\u001b[0;34m(\u001b[0m\u001b[0;34m)\u001b[0m\u001b[0;34m\u001b[0m\u001b[0;34m\u001b[0m\u001b[0m\n\u001b[0;32m----> 3\u001b[0;31m \u001b[0mcompare_models\u001b[0m\u001b[0;34m(\u001b[0m\u001b[0mdevice\u001b[0m\u001b[0;34m,\u001b[0m \u001b[0mtasks\u001b[0m\u001b[0;34m=\u001b[0m\u001b[0mTASKS\u001b[0m\u001b[0;34m[\u001b[0m\u001b[0;36m2\u001b[0m\u001b[0;34m]\u001b[0m\u001b[0;34m,\u001b[0m \u001b[0mcell_lines\u001b[0m\u001b[0;34m=\u001b[0m\u001b[0mCELL_LINES\u001b[0m\u001b[0;34m[\u001b[0m\u001b[0;36m6\u001b[0m\u001b[0;34m:\u001b[0m\u001b[0;34m]\u001b[0m\u001b[0;34m)\u001b[0m\u001b[0;34m\u001b[0m\u001b[0;34m\u001b[0m\u001b[0m\n\u001b[0m",
      "\u001b[0;32m~/Prediction-of-Active-and-Inactive-Regulatory-Regions-with-Embracenet-Multimodal-Neural-Network-/BIOINF_tesi/visual/visual.py\u001b[0m in \u001b[0;36m__call__\u001b[0;34m(self, device, base_model, comparison_models, augmentation_base_model, n_folds, cell_lines, tasks, pval_dict)\u001b[0m\n\u001b[1;32m    368\u001b[0m                     \u001b[0mself\u001b[0m\u001b[0;34m.\u001b[0m\u001b[0mX_1\u001b[0m \u001b[0;34m=\u001b[0m \u001b[0mself\u001b[0m\u001b[0;34m.\u001b[0m\u001b[0mX_1\u001b[0m\u001b[0;34m.\u001b[0m\u001b[0mapply\u001b[0m\u001b[0;34m(\u001b[0m\u001b[0;32mlambda\u001b[0m \u001b[0mx\u001b[0m\u001b[0;34m:\u001b[0m \u001b[0mtorch\u001b[0m\u001b[0;34m.\u001b[0m\u001b[0mreshape\u001b[0m\u001b[0;34m(\u001b[0m\u001b[0mtorch\u001b[0m\u001b[0;34m.\u001b[0m\u001b[0mtensor\u001b[0m\u001b[0;34m(\u001b[0m\u001b[0mx\u001b[0m\u001b[0;34m)\u001b[0m\u001b[0;34m,\u001b[0m \u001b[0;34m(\u001b[0m\u001b[0;36m1\u001b[0m\u001b[0;34m,\u001b[0m\u001b[0;34m-\u001b[0m\u001b[0;36m1\u001b[0m\u001b[0;34m)\u001b[0m\u001b[0;34m)\u001b[0m\u001b[0;34m,\u001b[0m \u001b[0maxis\u001b[0m\u001b[0;34m=\u001b[0m\u001b[0;36m1\u001b[0m\u001b[0;34m)\u001b[0m\u001b[0;34m\u001b[0m\u001b[0;34m\u001b[0m\u001b[0m\n\u001b[1;32m    369\u001b[0m                     \u001b[0mself\u001b[0m\u001b[0;34m.\u001b[0m\u001b[0mX_2\u001b[0m \u001b[0;34m=\u001b[0m \u001b[0mself\u001b[0m\u001b[0;34m.\u001b[0m\u001b[0mX_2\u001b[0m\u001b[0;34m.\u001b[0m\u001b[0mapply\u001b[0m\u001b[0;34m(\u001b[0m\u001b[0;32mlambda\u001b[0m \u001b[0mx\u001b[0m\u001b[0;34m:\u001b[0m \u001b[0mtorch\u001b[0m\u001b[0;34m.\u001b[0m\u001b[0mreshape\u001b[0m\u001b[0;34m(\u001b[0m\u001b[0mtorch\u001b[0m\u001b[0;34m.\u001b[0m\u001b[0mtensor\u001b[0m\u001b[0;34m(\u001b[0m\u001b[0mprocess_sequence\u001b[0m\u001b[0;34m(\u001b[0m\u001b[0mx\u001b[0m\u001b[0;34m)\u001b[0m\u001b[0;34m)\u001b[0m\u001b[0;34m,\u001b[0m \u001b[0;34m(\u001b[0m\u001b[0;36m1\u001b[0m\u001b[0;34m,\u001b[0m\u001b[0;36m4\u001b[0m\u001b[0;34m,\u001b[0m\u001b[0;36m256\u001b[0m\u001b[0;34m)\u001b[0m\u001b[0;34m)\u001b[0m \u001b[0;34m)\u001b[0m\u001b[0;34m\u001b[0m\u001b[0;34m\u001b[0m\u001b[0m\n\u001b[0;32m--> 370\u001b[0;31m \u001b[0;34m\u001b[0m\u001b[0m\n\u001b[0m\u001b[1;32m    371\u001b[0m \u001b[0;34m\u001b[0m\u001b[0m\n\u001b[1;32m    372\u001b[0m                     \u001b[0;32mfor\u001b[0m \u001b[0mi\u001b[0m \u001b[0;32min\u001b[0m \u001b[0mtqdm\u001b[0m\u001b[0;34m(\u001b[0m\u001b[0mrange\u001b[0m\u001b[0;34m(\u001b[0m\u001b[0mn_folds\u001b[0m\u001b[0;34m)\u001b[0m\u001b[0;34m,\u001b[0m \u001b[0mdesc\u001b[0m\u001b[0;34m=\u001b[0m\u001b[0;34m'Iter folds'\u001b[0m\u001b[0;34m)\u001b[0m\u001b[0;34m:\u001b[0m\u001b[0;34m\u001b[0m\u001b[0;34m\u001b[0m\u001b[0m\n",
      "\u001b[0;31mAttributeError\u001b[0m: 'Compare_Models_Result' object has no attribute 'get_model_difference'"
     ]
    }
   ],
   "source": [
    "from BIOINF_tesi.visual import Compare_Models_Result\n",
    "compare_models = Compare_Models_Result()\n",
    "compare_models(device, tasks=TASKS[2], cell_lines=CELL_LINES[6:])"
   ]
  },
  {
   "cell_type": "code",
   "execution_count": null,
   "id": "9f5c616b",
   "metadata": {},
   "outputs": [],
   "source": []
  }
 ],
 "metadata": {
  "kernelspec": {
   "display_name": "Python 3",
   "language": "python",
   "name": "python3"
  },
  "language_info": {
   "codemirror_mode": {
    "name": "ipython",
    "version": 3
   },
   "file_extension": ".py",
   "mimetype": "text/x-python",
   "name": "python",
   "nbconvert_exporter": "python",
   "pygments_lexer": "ipython3",
   "version": "3.8.8"
  }
 },
 "nbformat": 4,
 "nbformat_minor": 5
}
