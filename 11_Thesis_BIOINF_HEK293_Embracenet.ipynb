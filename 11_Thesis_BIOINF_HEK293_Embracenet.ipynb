{
 "cells": [
  {
   "cell_type": "markdown",
   "metadata": {
    "id": "zqpqu8UJFySp"
   },
   "source": [
    "## BIOINFORMATICS THESIS: MULTIMODAL NEURAL NETWORK"
   ]
  },
  {
   "cell_type": "markdown",
   "metadata": {},
   "source": [
    "# CELL LINE: HEK293\n",
    "# EMBRACENET"
   ]
  },
  {
   "cell_type": "markdown",
   "metadata": {},
   "source": [
    "da fare \n",
    "- sistema selezione augmentation in embracenet\n",
    "- crea grafici AUPRC reti"
   ]
  },
  {
   "cell_type": "code",
   "execution_count": 1,
   "metadata": {},
   "outputs": [],
   "source": [
    "import pandas as pd \n",
    "import numpy as np\n",
    "import os\n",
    "\n",
    "import torch\n",
    "import torch.nn.functional as F\n",
    "from torch.utils.data import Dataset, DataLoader\n",
    "import torch.nn as nn\n",
    "import torch.optim as optim\n",
    "from collections import defaultdict, OrderedDict\n",
    "import pickle\n",
    "\n",
    "import sqlite3\n",
    "from sqlalchemy import create_engine\n",
    "\n",
    "device = 'cuda' if torch.cuda.is_available() else 'cpu'"
   ]
  },
  {
   "cell_type": "code",
   "execution_count": 2,
   "metadata": {},
   "outputs": [],
   "source": [
    "# create a database to store optuna studies with sqlite backend\n",
    "#engine = create_engine('sqlite:///BIOINF_optuna_tuning_2.db')"
   ]
  },
  {
   "cell_type": "code",
   "execution_count": 3,
   "metadata": {},
   "outputs": [],
   "source": [
    "from BIOINF_tesi.data_pipe import CELL_LINES, TASKS"
   ]
  },
  {
   "cell_type": "code",
   "execution_count": 4,
   "metadata": {},
   "outputs": [
    {
     "data": {
      "text/plain": [
       "'HEK293'"
      ]
     },
     "execution_count": 4,
     "metadata": {},
     "output_type": "execute_result"
    }
   ],
   "source": [
    "cell_line = CELL_LINES[3]\n",
    "cell_line"
   ]
  },
  {
   "cell_type": "markdown",
   "metadata": {},
   "source": [
    "---"
   ]
  },
  {
   "cell_type": "code",
   "execution_count": 5,
   "metadata": {},
   "outputs": [],
   "source": [
    "from BIOINF_tesi.data_pipe import Build_DataLoader_Pipeline\n",
    "from BIOINF_tesi.models import EmbraceNetMultimodal, ConcatNetMultimodal\n",
    "from BIOINF_tesi.models.utils import Kfold_CV_Multimodal"
   ]
  },
  {
   "cell_type": "raw",
   "metadata": {},
   "source": [
    "def dd():\n",
    "    return defaultdict(dict)\n",
    "    \n",
    "results_dict = defaultdict(dd)"
   ]
  },
  {
   "cell_type": "code",
   "execution_count": 6,
   "metadata": {},
   "outputs": [],
   "source": [
    "with open ('results_dict.pickle', 'rb') as fin:\n",
    "    results_dict = pickle.load(fin)\n",
    "    results_dict = defaultdict(lambda: defaultdict(dict), results_dict)"
   ]
  },
  {
   "cell_type": "markdown",
   "metadata": {},
   "source": [
    "## 1) ACTIVE ENHANCERS vs INACTIVE ENHANCERS"
   ]
  },
  {
   "cell_type": "code",
   "execution_count": 7,
   "metadata": {},
   "outputs": [],
   "source": [
    "task = TASKS[0]"
   ]
  },
  {
   "cell_type": "code",
   "execution_count": 8,
   "metadata": {},
   "outputs": [
    {
     "name": "stdout",
     "output_type": "stream",
     "text": [
      "Data Preprocessing Done!\n"
     ]
    }
   ],
   "source": [
    "pipe_data_load = Build_DataLoader_Pipeline(path_name=f'{task}.pickle')"
   ]
  },
  {
   "cell_type": "markdown",
   "metadata": {},
   "source": [
    "---\n",
    "### EMBRACENET"
   ]
  },
  {
   "cell_type": "code",
   "execution_count": 9,
   "metadata": {},
   "outputs": [],
   "source": [
    "model=EmbraceNetMultimodal"
   ]
  },
  {
   "cell_type": "code",
   "execution_count": 11,
   "metadata": {
    "scrolled": true
   },
   "outputs": [
    {
     "name": "stdout",
     "output_type": "stream",
     "text": [
      ">>> ITERATION N. 1\n",
      "\n",
      "===============> HYPERPARAMETERS TUNING\n"
     ]
    },
    {
     "name": "stderr",
     "output_type": "stream",
     "text": [
      "/Users/Niki/Prediction-of-Active-and-Inactive-Regulatory-Regions-with-Embracenet-Multimodal-Neural-Network-/BIOINF_tesi/models/utils/training_models_multimodal.py:425: ExperimentalWarning: PatientPruner is experimental (supported from v2.8.0). The interface can change in the future.\n",
      "  pruner=optuna.pruners.PatientPruner(optuna.pruners.MedianPruner(), patience=2),\n",
      "\u001b[32m[I 2021-10-24 16:12:32,206]\u001b[0m A new study created in RDB with name: HEK293_active_E_vs_inactive_E_EmbraceNetMultimodal_1\u001b[0m\n"
     ]
    },
    {
     "data": {
      "application/vnd.jupyter.widget-view+json": {
       "model_id": "957e4519cd0548d2bdcfd506a3e4d225",
       "version_major": 2,
       "version_minor": 0
      },
      "text/plain": [
       "Epochs:   0%|          | 0/100 [00:00<?, ?it/s]"
      ]
     },
     "metadata": {},
     "output_type": "display_data"
    },
    {
     "name": "stderr",
     "output_type": "stream",
     "text": [
      "/opt/anaconda3/lib/python3.8/site-packages/torch/nn/functional.py:652: UserWarning: Named tensors and all their associated APIs are an experimental feature and subject to change. Please do not use them for anything important until they are released as stable. (Triggered internally at  ../c10/core/TensorImpl.h:1156.)\n",
      "  return torch.max_pool1d(input, kernel_size, stride, padding, dilation, ceil_mode)\n",
      "/opt/anaconda3/lib/python3.8/site-packages/timm/optim/nadam.py:69: UserWarning: This overload of add is deprecated:\n",
      "\tadd(Number alpha, Tensor other)\n",
      "Consider using one of the following signatures instead:\n",
      "\tadd(Tensor other, *, Number alpha) (Triggered internally at  ../torch/csrc/utils/python_arg_parser.cpp:1025.)\n",
      "  grad = grad.add(group['weight_decay'], p.data)\n"
     ]
    },
    {
     "name": "stdout",
     "output_type": "stream",
     "text": [
      "EarlyStopping counter: 1 out of 5\n",
      "EarlyStopping counter: 2 out of 5\n",
      "EarlyStopping counter: 3 out of 5\n",
      "EarlyStopping counter: 4 out of 5\n",
      "EarlyStopping counter: 1 out of 5\n",
      "EarlyStopping counter: 2 out of 5\n",
      "EarlyStopping counter: 3 out of 5\n",
      "EarlyStopping counter: 4 out of 5\n"
     ]
    },
    {
     "name": "stderr",
     "output_type": "stream",
     "text": [
      "\u001b[32m[I 2021-10-24 17:14:56,378]\u001b[0m Trial 0 finished with value: 0.10993838028169013 and parameters: {'FFNN_n_layers': 4, 'FFNN_n_units_l0': 256, 'FFNN_dropout_l0': 0.0, 'FFNN_n_units_l1': 128, 'FFNN_dropout_l1': 0.0, 'FFNN_n_units_l2': 16, 'FFNN_dropout_l2': 0.4, 'FFNN_n_units_l3': 16, 'FFNN_dropout_l3': 0.4, 'CNN_n_layers': 4, 'CNN_out_channels_l0': 16, 'CNN_kernel_size_l0': 5, 'CNN_dropout_l0': 0.3, 'CNN_out_channels_l1': 64, 'CNN_kernel_size_l1': 15, 'CNN_dropout_l1': 0.4, 'CNN_out_channels_l2': 96, 'CNN_kernel_size_l2': 15, 'CNN_dropout_l2': 0, 'CNN_out_channels_l3': 512, 'CNN_kernel_size_l3': 11, 'CNN_dropout_l3': 0.5, 'EMBRACENET_embracement_size': 512, 'n_post_layers': 2, 'EMBRACENET_n_units_l0': 512, 'EMBRACENET_dropout_l0': 0.3, 'EMBRACENET_n_units_l1': 16, 'EMBRACENET_dropout_l1': 0.0, 'selection_probabilities_FFNN': 0.19117750642249998, 'optimizer': 'Nadam', 'lr': 0.09440175278231303, 'weight_decay': 0.0007797926354113886}. Best is trial 0 with value: 0.10993838028169013.\u001b[0m\n"
     ]
    },
    {
     "name": "stdout",
     "output_type": "stream",
     "text": [
      "EarlyStopping counter: 5 out of 5\n",
      "Early stopping the training\n"
     ]
    },
    {
     "data": {
      "application/vnd.jupyter.widget-view+json": {
       "model_id": "2292c339383d45a1b1115c3643f89b4f",
       "version_major": 2,
       "version_minor": 0
      },
      "text/plain": [
       "Epochs:   0%|          | 0/100 [00:00<?, ?it/s]"
      ]
     },
     "metadata": {},
     "output_type": "display_data"
    },
    {
     "name": "stdout",
     "output_type": "stream",
     "text": [
      "EarlyStopping counter: 1 out of 5\n",
      "EarlyStopping counter: 1 out of 5\n",
      "EarlyStopping counter: 2 out of 5\n",
      "EarlyStopping counter: 3 out of 5\n",
      "EarlyStopping counter: 4 out of 5\n"
     ]
    },
    {
     "name": "stderr",
     "output_type": "stream",
     "text": [
      "\u001b[32m[I 2021-10-24 17:47:59,152]\u001b[0m Trial 1 finished with value: 0.11265765738171199 and parameters: {'FFNN_n_layers': 4, 'FFNN_n_units_l0': 128, 'FFNN_dropout_l0': 0.0, 'FFNN_n_units_l1': 16, 'FFNN_dropout_l1': 0.0, 'FFNN_n_units_l2': 4, 'FFNN_dropout_l2': 0.4, 'FFNN_n_units_l3': 16, 'FFNN_dropout_l3': 0.4, 'CNN_n_layers': 3, 'CNN_out_channels_l0': 32, 'CNN_kernel_size_l0': 11, 'CNN_dropout_l0': 0.3, 'CNN_out_channels_l1': 96, 'CNN_kernel_size_l1': 11, 'CNN_dropout_l1': 0.5, 'CNN_out_channels_l2': 64, 'CNN_kernel_size_l2': 15, 'CNN_dropout_l2': 0.4, 'EMBRACENET_embracement_size': 1024, 'n_post_layers': 0, 'selection_probabilities_FFNN': 0.4699364092762903, 'optimizer': 'Adam', 'lr': 0.003234025158137755, 'weight_decay': 0.005710717570041638}. Best is trial 1 with value: 0.11265765738171199.\u001b[0m\n"
     ]
    },
    {
     "name": "stdout",
     "output_type": "stream",
     "text": [
      "EarlyStopping counter: 5 out of 5\n",
      "Early stopping the training\n"
     ]
    },
    {
     "data": {
      "application/vnd.jupyter.widget-view+json": {
       "model_id": "40f07b10f9734cd8b6d3677978d837b4",
       "version_major": 2,
       "version_minor": 0
      },
      "text/plain": [
       "Epochs:   0%|          | 0/100 [00:00<?, ?it/s]"
      ]
     },
     "metadata": {},
     "output_type": "display_data"
    },
    {
     "name": "stdout",
     "output_type": "stream",
     "text": [
      "EarlyStopping counter: 1 out of 5\n",
      "EarlyStopping counter: 2 out of 5\n",
      "EarlyStopping counter: 3 out of 5\n",
      "EarlyStopping counter: 4 out of 5\n"
     ]
    },
    {
     "name": "stderr",
     "output_type": "stream",
     "text": [
      "\u001b[32m[I 2021-10-24 18:22:10,194]\u001b[0m Trial 2 finished with value: 0.182871599527077 and parameters: {'FFNN_n_layers': 2, 'FFNN_n_units_l0': 32, 'FFNN_dropout_l0': 0.4, 'FFNN_n_units_l1': 128, 'FFNN_dropout_l1': 0.4, 'CNN_n_layers': 4, 'CNN_out_channels_l0': 64, 'CNN_kernel_size_l0': 5, 'CNN_dropout_l0': 0.4, 'CNN_out_channels_l1': 64, 'CNN_kernel_size_l1': 11, 'CNN_dropout_l1': 0.5, 'CNN_out_channels_l2': 96, 'CNN_kernel_size_l2': 15, 'CNN_dropout_l2': 0.5, 'CNN_out_channels_l3': 512, 'CNN_kernel_size_l3': 5, 'CNN_dropout_l3': 0.4, 'EMBRACENET_embracement_size': 768, 'n_post_layers': 1, 'EMBRACENET_n_units_l0': 512, 'EMBRACENET_dropout_l0': 0.5, 'selection_probabilities_FFNN': 0.7856981471733737, 'optimizer': 'Adam', 'lr': 0.011477079096384082, 'weight_decay': 0.0001019207504018887}. Best is trial 2 with value: 0.182871599527077.\u001b[0m\n"
     ]
    },
    {
     "name": "stdout",
     "output_type": "stream",
     "text": [
      "EarlyStopping counter: 5 out of 5\n",
      "Early stopping the training\n",
      "Study statistics: \n",
      "  Number of finished trials:  3\n",
      "  Number of pruned trials:  0\n",
      "  Number of complete trials:  3\n",
      "Best trial:\n",
      "  Value:  0.182871599527077\n",
      "  Params: \n",
      "    CNN_dropout_l0: 0.4\n",
      "    CNN_dropout_l1: 0.5\n",
      "    CNN_dropout_l2: 0.5\n",
      "    CNN_dropout_l3: 0.4\n",
      "    CNN_kernel_size_l0: 5\n",
      "    CNN_kernel_size_l1: 11\n",
      "    CNN_kernel_size_l2: 15\n",
      "    CNN_kernel_size_l3: 5\n",
      "    CNN_n_layers: 4\n",
      "    CNN_out_channels_l0: 64\n",
      "    CNN_out_channels_l1: 64\n",
      "    CNN_out_channels_l2: 96\n",
      "    CNN_out_channels_l3: 512\n",
      "    EMBRACENET_dropout_l0: 0.5\n",
      "    EMBRACENET_embracement_size: 768\n",
      "    EMBRACENET_n_units_l0: 512\n",
      "    FFNN_dropout_l0: 0.4\n",
      "    FFNN_dropout_l1: 0.4\n",
      "    FFNN_n_layers: 2\n",
      "    FFNN_n_units_l0: 32\n",
      "    FFNN_n_units_l1: 128\n",
      "    lr: 0.011477079096384082\n",
      "    n_post_layers: 1\n",
      "    optimizer: Adam\n",
      "    selection_probabilities_FFNN: 0.7856981471733737\n",
      "    weight_decay: 0.0001019207504018887\n",
      "\n",
      "===============> MODEL TESTING\n"
     ]
    },
    {
     "name": "stderr",
     "output_type": "stream",
     "text": [
      "/opt/anaconda3/lib/python3.8/site-packages/optuna/structs.py:18: FutureWarning: `structs` is deprecated. Classes have moved to the following modules. `structs.StudyDirection`->`study.StudyDirection`, `structs.StudySummary`->`study.StudySummary`, `structs.FrozenTrial`->`trial.FrozenTrial`, `structs.TrialState`->`trial.TrialState`, `structs.TrialPruned`->`exceptions.TrialPruned`.\n",
      "  warnings.warn(_message, FutureWarning)\n"
     ]
    },
    {
     "data": {
      "application/vnd.jupyter.widget-view+json": {
       "model_id": "30d2b04234884001b7dc8d8bab533c6d",
       "version_major": 2,
       "version_minor": 0
      },
      "text/plain": [
       "Epochs:   0%|          | 0/100 [00:00<?, ?it/s]"
      ]
     },
     "metadata": {},
     "output_type": "display_data"
    },
    {
     "name": "stdout",
     "output_type": "stream",
     "text": [
      "EarlyStopping counter: 1 out of 5\n",
      "EarlyStopping counter: 2 out of 5\n",
      "EarlyStopping counter: 3 out of 5\n",
      "EarlyStopping counter: 4 out of 5\n",
      "EarlyStopping counter: 5 out of 5\n",
      "Early stopping the training\n",
      "AUPRC test score: 0.1065176870350973\n",
      "\n",
      "\n",
      ">>> ITERATION N. 2\n"
     ]
    },
    {
     "name": "stderr",
     "output_type": "stream",
     "text": [
      "/Users/Niki/Prediction-of-Active-and-Inactive-Regulatory-Regions-with-Embracenet-Multimodal-Neural-Network-/BIOINF_tesi/models/utils/training_models_multimodal.py:425: ExperimentalWarning: PatientPruner is experimental (supported from v2.8.0). The interface can change in the future.\n",
      "  pruner=optuna.pruners.PatientPruner(optuna.pruners.MedianPruner(), patience=2),\n",
      "\u001b[32m[I 2021-10-24 19:12:12,910]\u001b[0m A new study created in RDB with name: HEK293_active_E_vs_inactive_E_EmbraceNetMultimodal_1_2\u001b[0m\n"
     ]
    },
    {
     "name": "stdout",
     "output_type": "stream",
     "text": [
      "\n",
      "===============> HYPERPARAMETERS TUNING\n"
     ]
    },
    {
     "data": {
      "application/vnd.jupyter.widget-view+json": {
       "model_id": "20eac663b4e34d44a52e838aa21a130d",
       "version_major": 2,
       "version_minor": 0
      },
      "text/plain": [
       "Epochs:   0%|          | 0/100 [00:00<?, ?it/s]"
      ]
     },
     "metadata": {},
     "output_type": "display_data"
    },
    {
     "name": "stdout",
     "output_type": "stream",
     "text": [
      "EarlyStopping counter: 1 out of 5\n",
      "EarlyStopping counter: 1 out of 5\n",
      "EarlyStopping counter: 2 out of 5\n",
      "EarlyStopping counter: 3 out of 5\n",
      "EarlyStopping counter: 4 out of 5\n"
     ]
    },
    {
     "name": "stderr",
     "output_type": "stream",
     "text": [
      "\u001b[32m[I 2021-10-24 19:47:02,459]\u001b[0m Trial 0 finished with value: 0.10243838028169014 and parameters: {'FFNN_n_layers': 3, 'FFNN_n_units_l0': 128, 'FFNN_dropout_l0': 0.2, 'FFNN_n_units_l1': 128, 'FFNN_dropout_l1': 0.2, 'FFNN_n_units_l2': 32, 'FFNN_dropout_l2': 0.4, 'CNN_n_layers': 4, 'CNN_out_channels_l0': 16, 'CNN_kernel_size_l0': 5, 'CNN_dropout_l0': 0.4, 'CNN_out_channels_l1': 32, 'CNN_kernel_size_l1': 11, 'CNN_dropout_l1': 0.5, 'CNN_out_channels_l2': 64, 'CNN_kernel_size_l2': 11, 'CNN_dropout_l2': 0, 'CNN_out_channels_l3': 512, 'CNN_kernel_size_l3': 5, 'CNN_dropout_l3': 0.5, 'EMBRACENET_embracement_size': 768, 'n_post_layers': 0, 'selection_probabilities_FFNN': 0.03454944850965158, 'optimizer': 'RMSprop', 'lr': 0.03903385865029432, 'weight_decay': 0.009135739658594223}. Best is trial 0 with value: 0.10243838028169014.\u001b[0m\n"
     ]
    },
    {
     "name": "stdout",
     "output_type": "stream",
     "text": [
      "EarlyStopping counter: 5 out of 5\n",
      "Early stopping the training\n"
     ]
    },
    {
     "data": {
      "application/vnd.jupyter.widget-view+json": {
       "model_id": "f7f17b22f0ec4b918c18f0ddf0dc8fe6",
       "version_major": 2,
       "version_minor": 0
      },
      "text/plain": [
       "Epochs:   0%|          | 0/100 [00:00<?, ?it/s]"
      ]
     },
     "metadata": {},
     "output_type": "display_data"
    },
    {
     "name": "stdout",
     "output_type": "stream",
     "text": [
      "EarlyStopping counter: 1 out of 5\n",
      "EarlyStopping counter: 2 out of 5\n",
      "EarlyStopping counter: 3 out of 5\n",
      "EarlyStopping counter: 4 out of 5\n"
     ]
    },
    {
     "name": "stderr",
     "output_type": "stream",
     "text": [
      "\u001b[32m[I 2021-10-24 21:08:18,154]\u001b[0m Trial 1 finished with value: 0.102887323943662 and parameters: {'FFNN_n_layers': 1, 'FFNN_n_units_l0': 32, 'FFNN_dropout_l0': 0.2, 'CNN_n_layers': 4, 'CNN_out_channels_l0': 64, 'CNN_kernel_size_l0': 5, 'CNN_dropout_l0': 0.3, 'CNN_out_channels_l1': 96, 'CNN_kernel_size_l1': 15, 'CNN_dropout_l1': 0.5, 'CNN_out_channels_l2': 256, 'CNN_kernel_size_l2': 15, 'CNN_dropout_l2': 0.5, 'CNN_out_channels_l3': 512, 'CNN_kernel_size_l3': 11, 'CNN_dropout_l3': 0.5, 'EMBRACENET_embracement_size': 512, 'n_post_layers': 2, 'EMBRACENET_n_units_l0': 512, 'EMBRACENET_dropout_l0': 0.5, 'EMBRACENET_n_units_l1': 256, 'EMBRACENET_dropout_l1': 0.5, 'selection_probabilities_FFNN': 0.24224619395813785, 'optimizer': 'RMSprop', 'lr': 0.005305106900577387, 'weight_decay': 0.009147691571703793}. Best is trial 1 with value: 0.102887323943662.\u001b[0m\n"
     ]
    },
    {
     "name": "stdout",
     "output_type": "stream",
     "text": [
      "EarlyStopping counter: 5 out of 5\n",
      "Early stopping the training\n"
     ]
    },
    {
     "data": {
      "application/vnd.jupyter.widget-view+json": {
       "model_id": "664987fae55f44b5b20291df08039ce6",
       "version_major": 2,
       "version_minor": 0
      },
      "text/plain": [
       "Epochs:   0%|          | 0/100 [00:00<?, ?it/s]"
      ]
     },
     "metadata": {},
     "output_type": "display_data"
    },
    {
     "name": "stdout",
     "output_type": "stream",
     "text": [
      "EarlyStopping counter: 1 out of 5\n",
      "EarlyStopping counter: 2 out of 5\n",
      "EarlyStopping counter: 3 out of 5\n",
      "EarlyStopping counter: 4 out of 5\n"
     ]
    },
    {
     "name": "stderr",
     "output_type": "stream",
     "text": [
      "\u001b[32m[I 2021-10-24 21:22:55,666]\u001b[0m Trial 2 finished with value: 0.12870100901285475 and parameters: {'FFNN_n_layers': 1, 'FFNN_n_units_l0': 128, 'FFNN_dropout_l0': 0.3, 'CNN_n_layers': 2, 'CNN_out_channels_l0': 32, 'CNN_kernel_size_l0': 15, 'CNN_dropout_l0': 0.2, 'CNN_out_channels_l1': 32, 'CNN_kernel_size_l1': 15, 'CNN_dropout_l1': 0.5, 'EMBRACENET_embracement_size': 768, 'n_post_layers': 1, 'EMBRACENET_n_units_l0': 128, 'EMBRACENET_dropout_l0': 0.2, 'selection_probabilities_FFNN': 0.11573158643397885, 'optimizer': 'Adam', 'lr': 0.0008618267115039246, 'weight_decay': 0.024252633991404617}. Best is trial 2 with value: 0.12870100901285475.\u001b[0m\n"
     ]
    },
    {
     "name": "stdout",
     "output_type": "stream",
     "text": [
      "EarlyStopping counter: 5 out of 5\n",
      "Early stopping the training\n",
      "Study statistics: \n",
      "  Number of finished trials:  3\n",
      "  Number of pruned trials:  0\n",
      "  Number of complete trials:  3\n",
      "Best trial:\n",
      "  Value:  0.12870100901285475\n",
      "  Params: \n",
      "    CNN_dropout_l0: 0.2\n",
      "    CNN_dropout_l1: 0.5\n",
      "    CNN_kernel_size_l0: 15\n",
      "    CNN_kernel_size_l1: 15\n",
      "    CNN_n_layers: 2\n",
      "    CNN_out_channels_l0: 32\n",
      "    CNN_out_channels_l1: 32\n",
      "    EMBRACENET_dropout_l0: 0.2\n",
      "    EMBRACENET_embracement_size: 768\n",
      "    EMBRACENET_n_units_l0: 128\n",
      "    FFNN_dropout_l0: 0.3\n",
      "    FFNN_n_layers: 1\n",
      "    FFNN_n_units_l0: 128\n",
      "    lr: 0.0008618267115039246\n",
      "    n_post_layers: 1\n",
      "    optimizer: Adam\n",
      "    selection_probabilities_FFNN: 0.11573158643397885\n",
      "    weight_decay: 0.024252633991404617\n",
      "\n",
      "===============> MODEL TESTING\n"
     ]
    },
    {
     "data": {
      "application/vnd.jupyter.widget-view+json": {
       "model_id": "2b9c6069da9841d7a8ebc7f18e085ca0",
       "version_major": 2,
       "version_minor": 0
      },
      "text/plain": [
       "Epochs:   0%|          | 0/100 [00:00<?, ?it/s]"
      ]
     },
     "metadata": {},
     "output_type": "display_data"
    },
    {
     "name": "stdout",
     "output_type": "stream",
     "text": [
      "EarlyStopping counter: 1 out of 5\n",
      "EarlyStopping counter: 1 out of 5\n",
      "EarlyStopping counter: 2 out of 5\n",
      "EarlyStopping counter: 3 out of 5\n",
      "EarlyStopping counter: 4 out of 5\n",
      "EarlyStopping counter: 5 out of 5\n",
      "Early stopping the training\n",
      "AUPRC test score: 0.10939920556107254\n",
      "\n",
      "\n",
      ">>> ITERATION N. 3\n",
      "\n",
      "===============> HYPERPARAMETERS TUNING\n"
     ]
    },
    {
     "name": "stderr",
     "output_type": "stream",
     "text": [
      "/Users/Niki/Prediction-of-Active-and-Inactive-Regulatory-Regions-with-Embracenet-Multimodal-Neural-Network-/BIOINF_tesi/models/utils/training_models_multimodal.py:425: ExperimentalWarning: PatientPruner is experimental (supported from v2.8.0). The interface can change in the future.\n",
      "  pruner=optuna.pruners.PatientPruner(optuna.pruners.MedianPruner(), patience=2),\n",
      "\u001b[32m[I 2021-10-24 21:48:11,973]\u001b[0m A new study created in RDB with name: HEK293_active_E_vs_inactive_E_EmbraceNetMultimodal_1_2_3\u001b[0m\n"
     ]
    },
    {
     "data": {
      "application/vnd.jupyter.widget-view+json": {
       "model_id": "69fd56d0642d4e75b7b7bd04559bc622",
       "version_major": 2,
       "version_minor": 0
      },
      "text/plain": [
       "Epochs:   0%|          | 0/100 [00:00<?, ?it/s]"
      ]
     },
     "metadata": {},
     "output_type": "display_data"
    },
    {
     "name": "stdout",
     "output_type": "stream",
     "text": [
      "EarlyStopping counter: 1 out of 5\n",
      "EarlyStopping counter: 1 out of 5\n",
      "EarlyStopping counter: 2 out of 5\n",
      "EarlyStopping counter: 3 out of 5\n",
      "EarlyStopping counter: 4 out of 5\n",
      "EarlyStopping counter: 1 out of 5\n",
      "EarlyStopping counter: 1 out of 5\n",
      "EarlyStopping counter: 2 out of 5\n",
      "EarlyStopping counter: 3 out of 5\n",
      "EarlyStopping counter: 4 out of 5\n"
     ]
    },
    {
     "name": "stderr",
     "output_type": "stream",
     "text": [
      "\u001b[32m[I 2021-10-24 22:15:17,604]\u001b[0m Trial 0 finished with value: 0.1755758051748456 and parameters: {'FFNN_n_layers': 1, 'FFNN_n_units_l0': 32, 'FFNN_dropout_l0': 0.2, 'CNN_n_layers': 2, 'CNN_out_channels_l0': 16, 'CNN_kernel_size_l0': 5, 'CNN_dropout_l0': 0.3, 'CNN_out_channels_l1': 32, 'CNN_kernel_size_l1': 5, 'CNN_dropout_l1': 0, 'EMBRACENET_embracement_size': 512, 'n_post_layers': 2, 'EMBRACENET_n_units_l0': 512, 'EMBRACENET_dropout_l0': 0.2, 'EMBRACENET_n_units_l1': 64, 'EMBRACENET_dropout_l1': 0.2, 'selection_probabilities_FFNN': 0.23637907065358454, 'optimizer': 'RMSprop', 'lr': 0.003476942879108896, 'weight_decay': 0.00011931185161176843}. Best is trial 0 with value: 0.1755758051748456.\u001b[0m\n"
     ]
    },
    {
     "name": "stdout",
     "output_type": "stream",
     "text": [
      "EarlyStopping counter: 5 out of 5\n",
      "Early stopping the training\n"
     ]
    },
    {
     "data": {
      "application/vnd.jupyter.widget-view+json": {
       "model_id": "65fd45b5e9e54f8b89b98063c73d0961",
       "version_major": 2,
       "version_minor": 0
      },
      "text/plain": [
       "Epochs:   0%|          | 0/100 [00:00<?, ?it/s]"
      ]
     },
     "metadata": {},
     "output_type": "display_data"
    },
    {
     "name": "stdout",
     "output_type": "stream",
     "text": [
      "EarlyStopping counter: 1 out of 5\n",
      "EarlyStopping counter: 2 out of 5\n",
      "EarlyStopping counter: 3 out of 5\n",
      "EarlyStopping counter: 4 out of 5\n",
      "EarlyStopping counter: 1 out of 5\n",
      "EarlyStopping counter: 2 out of 5\n",
      "EarlyStopping counter: 3 out of 5\n",
      "EarlyStopping counter: 4 out of 5\n"
     ]
    },
    {
     "name": "stderr",
     "output_type": "stream",
     "text": [
      "\u001b[32m[I 2021-10-24 22:45:52,490]\u001b[0m Trial 1 finished with value: 0.10479571480051773 and parameters: {'FFNN_n_layers': 4, 'FFNN_n_units_l0': 128, 'FFNN_dropout_l0': 0.0, 'FFNN_n_units_l1': 32, 'FFNN_dropout_l1': 0.0, 'FFNN_n_units_l2': 32, 'FFNN_dropout_l2': 0.4, 'FFNN_n_units_l3': 32, 'FFNN_dropout_l3': 0.0, 'CNN_n_layers': 3, 'CNN_out_channels_l0': 16, 'CNN_kernel_size_l0': 11, 'CNN_dropout_l0': 0.2, 'CNN_out_channels_l1': 96, 'CNN_kernel_size_l1': 15, 'CNN_dropout_l1': 0.4, 'CNN_out_channels_l2': 128, 'CNN_kernel_size_l2': 5, 'CNN_dropout_l2': 0, 'EMBRACENET_embracement_size': 512, 'n_post_layers': 2, 'EMBRACENET_n_units_l0': 32, 'EMBRACENET_dropout_l0': 0.2, 'EMBRACENET_n_units_l1': 256, 'EMBRACENET_dropout_l1': 0.2, 'selection_probabilities_FFNN': 0.44041080863801907, 'optimizer': 'Adam', 'lr': 3.0010686533043325e-05, 'weight_decay': 0.0013245169128198}. Best is trial 0 with value: 0.1755758051748456.\u001b[0m\n"
     ]
    },
    {
     "name": "stdout",
     "output_type": "stream",
     "text": [
      "EarlyStopping counter: 5 out of 5\n",
      "Early stopping the training\n"
     ]
    },
    {
     "data": {
      "application/vnd.jupyter.widget-view+json": {
       "model_id": "67d5b3766fc34f51bb64ffabe62bc4ef",
       "version_major": 2,
       "version_minor": 0
      },
      "text/plain": [
       "Epochs:   0%|          | 0/100 [00:00<?, ?it/s]"
      ]
     },
     "metadata": {},
     "output_type": "display_data"
    },
    {
     "name": "stdout",
     "output_type": "stream",
     "text": [
      "EarlyStopping counter: 1 out of 5\n",
      "EarlyStopping counter: 2 out of 5\n",
      "EarlyStopping counter: 1 out of 5\n",
      "EarlyStopping counter: 2 out of 5\n",
      "EarlyStopping counter: 3 out of 5\n",
      "EarlyStopping counter: 4 out of 5\n"
     ]
    },
    {
     "name": "stderr",
     "output_type": "stream",
     "text": [
      "\u001b[32m[I 2021-10-24 23:02:48,942]\u001b[0m Trial 2 finished with value: 0.16936413119450539 and parameters: {'FFNN_n_layers': 2, 'FFNN_n_units_l0': 64, 'FFNN_dropout_l0': 0.4, 'FFNN_n_units_l1': 16, 'FFNN_dropout_l1': 0.0, 'CNN_n_layers': 2, 'CNN_out_channels_l0': 32, 'CNN_kernel_size_l0': 15, 'CNN_dropout_l0': 0.2, 'CNN_out_channels_l1': 32, 'CNN_kernel_size_l1': 5, 'CNN_dropout_l1': 0, 'EMBRACENET_embracement_size': 512, 'n_post_layers': 0, 'selection_probabilities_FFNN': 0.9094109078937173, 'optimizer': 'Nadam', 'lr': 0.0012678664948546996, 'weight_decay': 0.0003784037093098595}. Best is trial 0 with value: 0.1755758051748456.\u001b[0m\n"
     ]
    },
    {
     "name": "stdout",
     "output_type": "stream",
     "text": [
      "EarlyStopping counter: 5 out of 5\n",
      "Early stopping the training\n",
      "Study statistics: \n",
      "  Number of finished trials:  3\n",
      "  Number of pruned trials:  0\n",
      "  Number of complete trials:  3\n",
      "Best trial:\n",
      "  Value:  0.1755758051748456\n",
      "  Params: \n",
      "    CNN_dropout_l0: 0.3\n",
      "    CNN_dropout_l1: 0\n",
      "    CNN_kernel_size_l0: 5\n",
      "    CNN_kernel_size_l1: 5\n",
      "    CNN_n_layers: 2\n",
      "    CNN_out_channels_l0: 16\n",
      "    CNN_out_channels_l1: 32\n",
      "    EMBRACENET_dropout_l0: 0.2\n",
      "    EMBRACENET_dropout_l1: 0.2\n",
      "    EMBRACENET_embracement_size: 512\n",
      "    EMBRACENET_n_units_l0: 512\n",
      "    EMBRACENET_n_units_l1: 64\n",
      "    FFNN_dropout_l0: 0.2\n",
      "    FFNN_n_layers: 1\n",
      "    FFNN_n_units_l0: 32\n",
      "    lr: 0.003476942879108896\n",
      "    n_post_layers: 2\n",
      "    optimizer: RMSprop\n",
      "    selection_probabilities_FFNN: 0.23637907065358454\n",
      "    weight_decay: 0.00011931185161176843\n",
      "\n",
      "===============> MODEL TESTING\n"
     ]
    },
    {
     "data": {
      "application/vnd.jupyter.widget-view+json": {
       "model_id": "4900ffa4337f4359a2b38faa5ce84a79",
       "version_major": 2,
       "version_minor": 0
      },
      "text/plain": [
       "Epochs:   0%|          | 0/100 [00:00<?, ?it/s]"
      ]
     },
     "metadata": {},
     "output_type": "display_data"
    },
    {
     "name": "stdout",
     "output_type": "stream",
     "text": [
      "EarlyStopping counter: 1 out of 5\n",
      "EarlyStopping counter: 1 out of 5\n",
      "EarlyStopping counter: 2 out of 5\n",
      "EarlyStopping counter: 3 out of 5\n",
      "EarlyStopping counter: 4 out of 5\n",
      "EarlyStopping counter: 5 out of 5\n",
      "Early stopping the training\n",
      "AUPRC test score: 0.1592750556328449\n",
      "\n",
      "\n",
      "\n",
      "3-FOLD CROSS-VALIDATION AUPRC TEST SCORE: 0.12506\n"
     ]
    }
   ],
   "source": [
    "kf_CV = Kfold_CV_Multimodal()\n",
    "\n",
    "kf_CV(build_dataloader_pipeline = pipe_data_load,\n",
    "                num_epochs = 100,\n",
    "                n_folds=3,\n",
    "                cell_line=cell_line,\n",
    "                augmentation=False,\n",
    "                model = model,\n",
    "                device = device,\n",
    "                task=task,\n",
    "                sampler = 'TPE',\n",
    "                study_name = f'{cell_line}_{task}_{model.__name__}',\n",
    "                test_model_path = f'{cell_line}_{task}_{model.__name__}_TEST')"
   ]
  },
  {
   "cell_type": "code",
   "execution_count": null,
   "metadata": {},
   "outputs": [],
   "source": [
    "results_dict[cell_line][task][model.__name__] = kf_CV.scores_dict"
   ]
  },
  {
   "cell_type": "code",
   "execution_count": null,
   "metadata": {},
   "outputs": [],
   "source": [
    "with open ('results_dict.pickle', 'wb') as fout:\n",
    "    pickle.dump(OrderedDict(results_dict), fout)"
   ]
  },
  {
   "cell_type": "markdown",
   "metadata": {},
   "source": [
    "### CONCATNET"
   ]
  },
  {
   "cell_type": "code",
   "execution_count": null,
   "metadata": {},
   "outputs": [],
   "source": [
    "model=ConcatNetMultimodal"
   ]
  },
  {
   "cell_type": "code",
   "execution_count": null,
   "metadata": {
    "scrolled": true
   },
   "outputs": [],
   "source": [
    "kf_CV = Kfold_CV_Multimodal()\n",
    "\n",
    "kf_CV(build_dataloader_pipeline = pipe_data_load,\n",
    "                num_epochs = 100,\n",
    "                n_folds=3,\n",
    "                cell_line=cell_line,\n",
    "                augmentation=False,\n",
    "                model = model,\n",
    "                device = device,\n",
    "                task=task,\n",
    "                sampler = 'TPE',\n",
    "                study_name = f'{cell_line}_{task}_{model.__name__}',\n",
    "                test_model_path = f'{cell_line}_{task}_{model.__name__}_TEST')"
   ]
  },
  {
   "cell_type": "code",
   "execution_count": null,
   "metadata": {},
   "outputs": [],
   "source": [
    "results_dict[cell_line][task][model.__name__] = kf_CV.scores_dict"
   ]
  },
  {
   "cell_type": "code",
   "execution_count": null,
   "metadata": {},
   "outputs": [],
   "source": [
    "with open ('results_dict.pickle', 'wb') as fout:\n",
    "    pickle.dump(OrderedDict(results_dict), fout)"
   ]
  },
  {
   "cell_type": "markdown",
   "metadata": {},
   "source": [
    "---"
   ]
  },
  {
   "cell_type": "markdown",
   "metadata": {},
   "source": [
    "## 2) ACTIVE PROMOTERS vs INACTIVE PROMOTERS"
   ]
  },
  {
   "cell_type": "code",
   "execution_count": 9,
   "metadata": {},
   "outputs": [
    {
     "data": {
      "text/plain": [
       "'active_P_vs_inactive_P'"
      ]
     },
     "execution_count": 9,
     "metadata": {},
     "output_type": "execute_result"
    }
   ],
   "source": [
    "task = TASKS[1]\n",
    "task"
   ]
  },
  {
   "cell_type": "code",
   "execution_count": 10,
   "metadata": {},
   "outputs": [
    {
     "name": "stdout",
     "output_type": "stream",
     "text": [
      "Data Preprocessing Done!\n"
     ]
    }
   ],
   "source": [
    "pipe_data_load = Build_DataLoader_Pipeline(path_name=f'{task}.pickle')"
   ]
  },
  {
   "cell_type": "markdown",
   "metadata": {},
   "source": [
    "---\n",
    "### EMBRACENET"
   ]
  },
  {
   "cell_type": "code",
   "execution_count": 11,
   "metadata": {},
   "outputs": [],
   "source": [
    "model=EmbraceNetMultimodal"
   ]
  },
  {
   "cell_type": "code",
   "execution_count": 12,
   "metadata": {
    "scrolled": true
   },
   "outputs": [
    {
     "name": "stdout",
     "output_type": "stream",
     "text": [
      ">>> ITERATION N. 1\n",
      "\n",
      "===============> HYPERPARAMETERS TUNING\n"
     ]
    },
    {
     "name": "stderr",
     "output_type": "stream",
     "text": [
      "/Users/Niki/Prediction-of-Active-and-Inactive-Regulatory-Regions-with-Embracenet-Multimodal-Neural-Network-/BIOINF_tesi/models/utils/training_models_multimodal.py:425: ExperimentalWarning: PatientPruner is experimental (supported from v2.8.0). The interface can change in the future.\n",
      "  pruner=optuna.pruners.PatientPruner(optuna.pruners.MedianPruner(), patience=2),\n",
      "\u001b[32m[I 2021-10-25 13:35:44,636]\u001b[0m Using an existing study with name 'HEK293_active_P_vs_inactive_P_EmbraceNetMultimodal_1' instead of creating a new one.\u001b[0m\n",
      "/opt/anaconda3/lib/python3.8/site-packages/optuna/structs.py:18: FutureWarning: `structs` is deprecated. Classes have moved to the following modules. `structs.StudyDirection`->`study.StudyDirection`, `structs.StudySummary`->`study.StudySummary`, `structs.FrozenTrial`->`trial.FrozenTrial`, `structs.TrialState`->`trial.TrialState`, `structs.TrialPruned`->`exceptions.TrialPruned`.\n",
      "  warnings.warn(_message, FutureWarning)\n"
     ]
    },
    {
     "name": "stdout",
     "output_type": "stream",
     "text": [
      "Study statistics: \n",
      "  Number of finished trials:  3\n",
      "  Number of pruned trials:  0\n",
      "  Number of complete trials:  3\n",
      "Best trial:\n",
      "  Value:  0.2698317896910858\n",
      "  Params: \n",
      "    CNN_dropout_l0: 0\n",
      "    CNN_dropout_l1: 0.5\n",
      "    CNN_dropout_l2: 0.4\n",
      "    CNN_dropout_l3: 0\n",
      "    CNN_kernel_size_l0: 5\n",
      "    CNN_kernel_size_l1: 5\n",
      "    CNN_kernel_size_l2: 15\n",
      "    CNN_kernel_size_l3: 5\n",
      "    CNN_n_layers: 4\n",
      "    CNN_out_channels_l0: 64\n",
      "    CNN_out_channels_l1: 64\n",
      "    CNN_out_channels_l2: 64\n",
      "    CNN_out_channels_l3: 128\n",
      "    EMBRACENET_embracement_size: 768\n",
      "    FFNN_dropout_l0: 0.3\n",
      "    FFNN_n_layers: 1\n",
      "    FFNN_n_units_l0: 64\n",
      "    lr: 0.017625237972135756\n",
      "    n_post_layers: 0\n",
      "    optimizer: Nadam\n",
      "    selection_probabilities_FFNN: 0.9402697254653793\n",
      "    weight_decay: 0.0022078986663257743\n",
      "\n",
      "===============> MODEL TESTING\n",
      "AUPRC test score: 0.2927958288546501\n",
      "\n",
      "\n",
      ">>> ITERATION N. 2\n"
     ]
    },
    {
     "name": "stderr",
     "output_type": "stream",
     "text": [
      "/Users/Niki/Prediction-of-Active-and-Inactive-Regulatory-Regions-with-Embracenet-Multimodal-Neural-Network-/BIOINF_tesi/models/utils/training_models_multimodal.py:425: ExperimentalWarning: PatientPruner is experimental (supported from v2.8.0). The interface can change in the future.\n",
      "  pruner=optuna.pruners.PatientPruner(optuna.pruners.MedianPruner(), patience=2),\n",
      "\u001b[32m[I 2021-10-25 13:35:45,153]\u001b[0m Using an existing study with name 'HEK293_active_P_vs_inactive_P_EmbraceNetMultimodal_1_2' instead of creating a new one.\u001b[0m\n"
     ]
    },
    {
     "name": "stdout",
     "output_type": "stream",
     "text": [
      "\n",
      "===============> HYPERPARAMETERS TUNING\n",
      "Study statistics: \n",
      "  Number of finished trials:  3\n",
      "  Number of pruned trials:  0\n",
      "  Number of complete trials:  3\n",
      "Best trial:\n",
      "  Value:  0.233783676604077\n",
      "  Params: \n",
      "    CNN_dropout_l0: 0\n",
      "    CNN_kernel_size_l0: 15\n",
      "    CNN_n_layers: 1\n",
      "    CNN_out_channels_l0: 32\n",
      "    EMBRACENET_dropout_l0: 0.3\n",
      "    EMBRACENET_dropout_l1: 0.3\n",
      "    EMBRACENET_embracement_size: 1024\n",
      "    EMBRACENET_n_units_l0: 256\n",
      "    EMBRACENET_n_units_l1: 16\n",
      "    FFNN_dropout_l0: 0.4\n",
      "    FFNN_dropout_l1: 0.0\n",
      "    FFNN_n_layers: 2\n",
      "    FFNN_n_units_l0: 32\n",
      "    FFNN_n_units_l1: 16\n",
      "    lr: 1.5136154082951526e-05\n",
      "    n_post_layers: 2\n",
      "    optimizer: Adam\n",
      "    selection_probabilities_FFNN: 0.7059278359011817\n",
      "    weight_decay: 0.05672724379183409\n",
      "\n",
      "===============> MODEL TESTING\n",
      "AUPRC test score: 0.2252087665527735\n",
      "\n",
      "\n"
     ]
    },
    {
     "name": "stderr",
     "output_type": "stream",
     "text": [
      "/Users/Niki/Prediction-of-Active-and-Inactive-Regulatory-Regions-with-Embracenet-Multimodal-Neural-Network-/BIOINF_tesi/models/utils/training_models_multimodal.py:425: ExperimentalWarning: PatientPruner is experimental (supported from v2.8.0). The interface can change in the future.\n",
      "  pruner=optuna.pruners.PatientPruner(optuna.pruners.MedianPruner(), patience=2),\n",
      "\u001b[32m[I 2021-10-25 13:35:45,628]\u001b[0m Using an existing study with name 'HEK293_active_P_vs_inactive_P_EmbraceNetMultimodal_1_2_3' instead of creating a new one.\u001b[0m\n"
     ]
    },
    {
     "name": "stdout",
     "output_type": "stream",
     "text": [
      ">>> ITERATION N. 3\n",
      "\n",
      "===============> HYPERPARAMETERS TUNING\n",
      "Study statistics: \n",
      "  Number of finished trials:  3\n",
      "  Number of pruned trials:  0\n",
      "  Number of complete trials:  3\n",
      "Best trial:\n",
      "  Value:  0.2379998501989076\n",
      "  Params: \n",
      "    CNN_dropout_l0: 0.3\n",
      "    CNN_dropout_l1: 0.4\n",
      "    CNN_dropout_l2: 0\n",
      "    CNN_kernel_size_l0: 5\n",
      "    CNN_kernel_size_l1: 11\n",
      "    CNN_kernel_size_l2: 5\n",
      "    CNN_n_layers: 3\n",
      "    CNN_out_channels_l0: 64\n",
      "    CNN_out_channels_l1: 96\n",
      "    CNN_out_channels_l2: 128\n",
      "    EMBRACENET_dropout_l0: 0.3\n",
      "    EMBRACENET_dropout_l1: 0.5\n",
      "    EMBRACENET_embracement_size: 768\n",
      "    EMBRACENET_n_units_l0: 32\n",
      "    EMBRACENET_n_units_l1: 256\n",
      "    FFNN_dropout_l0: 0.3\n",
      "    FFNN_dropout_l1: 0.0\n",
      "    FFNN_dropout_l2: 0.0\n",
      "    FFNN_n_layers: 3\n",
      "    FFNN_n_units_l0: 64\n",
      "    FFNN_n_units_l1: 64\n",
      "    FFNN_n_units_l2: 32\n",
      "    lr: 1.5577846981702005e-05\n",
      "    n_post_layers: 2\n",
      "    optimizer: RMSprop\n",
      "    selection_probabilities_FFNN: 0.14859777801883178\n",
      "    weight_decay: 0.0006439957029863319\n",
      "\n",
      "===============> MODEL TESTING\n"
     ]
    },
    {
     "data": {
      "application/vnd.jupyter.widget-view+json": {
       "model_id": "a3d29961b9744f43baf969ee5a4e6d36",
       "version_major": 2,
       "version_minor": 0
      },
      "text/plain": [
       "Epochs:   0%|          | 0/100 [00:00<?, ?it/s]"
      ]
     },
     "metadata": {},
     "output_type": "display_data"
    },
    {
     "name": "stderr",
     "output_type": "stream",
     "text": [
      "/opt/anaconda3/lib/python3.8/site-packages/torch/nn/functional.py:652: UserWarning: Named tensors and all their associated APIs are an experimental feature and subject to change. Please do not use them for anything important until they are released as stable. (Triggered internally at  ../c10/core/TensorImpl.h:1156.)\n",
      "  return torch.max_pool1d(input, kernel_size, stride, padding, dilation, ceil_mode)\n"
     ]
    },
    {
     "name": "stdout",
     "output_type": "stream",
     "text": [
      "EarlyStopping counter: 1 out of 4\n",
      "EarlyStopping counter: 2 out of 4\n",
      "EarlyStopping counter: 3 out of 4\n",
      "EarlyStopping counter: 4 out of 4\n",
      "Early stopping the training\n",
      "AUPRC test score: 0.22008554085960927\n",
      "\n",
      "\n",
      "\n",
      "3-FOLD CROSS-VALIDATION AUPRC TEST SCORE: 0.24603\n"
     ]
    }
   ],
   "source": [
    "kf_CV = Kfold_CV_Multimodal()\n",
    "\n",
    "kf_CV(build_dataloader_pipeline = pipe_data_load,\n",
    "                num_epochs = 100,\n",
    "                n_folds=3,\n",
    "                cell_line=cell_line,\n",
    "                augmentation=False,\n",
    "                model = model,\n",
    "                device = device,\n",
    "                task=task,\n",
    "                sampler = 'TPE',\n",
    "                study_name = f'{cell_line}_{task}_{model.__name__}',\n",
    "                test_model_path = f'{cell_line}_{task}_{model.__name__}_TEST')"
   ]
  },
  {
   "cell_type": "code",
   "execution_count": null,
   "metadata": {},
   "outputs": [],
   "source": [
    "results_dict[cell_line][task][model.__name__] = kf_CV.scores_dict"
   ]
  },
  {
   "cell_type": "code",
   "execution_count": null,
   "metadata": {},
   "outputs": [],
   "source": [
    "with open ('results_dict.pickle', 'wb') as fout:\n",
    "    pickle.dump(OrderedDict(results_dict), fout)"
   ]
  },
  {
   "cell_type": "markdown",
   "metadata": {},
   "source": [
    "### CONCATNET"
   ]
  },
  {
   "cell_type": "code",
   "execution_count": null,
   "metadata": {},
   "outputs": [],
   "source": [
    "model=ConcatNetMultimodal"
   ]
  },
  {
   "cell_type": "code",
   "execution_count": null,
   "metadata": {
    "scrolled": true
   },
   "outputs": [],
   "source": [
    "kf_CV = Kfold_CV_Multimodal()\n",
    "\n",
    "kf_CV(build_dataloader_pipeline = pipe_data_load,\n",
    "                num_epochs = 100,\n",
    "                n_folds=3,\n",
    "                cell_line=cell_line,\n",
    "                augmentation=False,\n",
    "                model = model,\n",
    "                device = device,\n",
    "                task=task,\n",
    "                sampler = 'TPE',\n",
    "                study_name = f'{cell_line}_{task}_{model.__name__}',\n",
    "                test_model_path = f'{cell_line}_{task}_{model.__name__}_TEST')"
   ]
  },
  {
   "cell_type": "code",
   "execution_count": null,
   "metadata": {},
   "outputs": [],
   "source": [
    "results_dict[cell_line][task][model.__name__] = kf_CV.scores_dict"
   ]
  },
  {
   "cell_type": "code",
   "execution_count": null,
   "metadata": {},
   "outputs": [],
   "source": [
    "with open ('results_dict.pickle', 'wb') as fout:\n",
    "    pickle.dump(OrderedDict(results_dict), fout)"
   ]
  },
  {
   "cell_type": "markdown",
   "metadata": {},
   "source": [
    "---"
   ]
  },
  {
   "cell_type": "markdown",
   "metadata": {},
   "source": [
    "## 3) ACTIVE ENHANCERS vs ACTIVE PROMOTERS"
   ]
  },
  {
   "cell_type": "code",
   "execution_count": 13,
   "metadata": {},
   "outputs": [
    {
     "data": {
      "text/plain": [
       "'active_E_vs_active_P'"
      ]
     },
     "execution_count": 13,
     "metadata": {},
     "output_type": "execute_result"
    }
   ],
   "source": [
    "task = TASKS[2]\n",
    "task"
   ]
  },
  {
   "cell_type": "code",
   "execution_count": 14,
   "metadata": {},
   "outputs": [
    {
     "name": "stdout",
     "output_type": "stream",
     "text": [
      "Data Preprocessing Done!\n"
     ]
    }
   ],
   "source": [
    "pipe_data_load = Build_DataLoader_Pipeline(path_name=f'{task}.pickle')"
   ]
  },
  {
   "cell_type": "markdown",
   "metadata": {},
   "source": [
    "---\n",
    "### EMBRACENET"
   ]
  },
  {
   "cell_type": "code",
   "execution_count": 15,
   "metadata": {},
   "outputs": [],
   "source": [
    "model=EmbraceNetMultimodal"
   ]
  },
  {
   "cell_type": "code",
   "execution_count": 16,
   "metadata": {
    "scrolled": true
   },
   "outputs": [
    {
     "name": "stderr",
     "output_type": "stream",
     "text": [
      "/Users/Niki/Prediction-of-Active-and-Inactive-Regulatory-Regions-with-Embracenet-Multimodal-Neural-Network-/BIOINF_tesi/models/utils/training_models_multimodal.py:425: ExperimentalWarning: PatientPruner is experimental (supported from v2.8.0). The interface can change in the future.\n",
      "  pruner=optuna.pruners.PatientPruner(optuna.pruners.MedianPruner(), patience=2),\n",
      "\u001b[32m[I 2021-10-25 14:39:00,296]\u001b[0m A new study created in RDB with name: HEK293_active_E_vs_active_P_EmbraceNetMultimodal_1\u001b[0m\n"
     ]
    },
    {
     "name": "stdout",
     "output_type": "stream",
     "text": [
      ">>> ITERATION N. 1\n",
      "\n",
      "===============> HYPERPARAMETERS TUNING\n"
     ]
    },
    {
     "data": {
      "application/vnd.jupyter.widget-view+json": {
       "model_id": "15ed5859a2aa4d708b46630983844293",
       "version_major": 2,
       "version_minor": 0
      },
      "text/plain": [
       "Epochs:   0%|          | 0/100 [00:00<?, ?it/s]"
      ]
     },
     "metadata": {},
     "output_type": "display_data"
    },
    {
     "name": "stderr",
     "output_type": "stream",
     "text": [
      "/opt/anaconda3/lib/python3.8/site-packages/timm/optim/nadam.py:69: UserWarning: This overload of add is deprecated:\n",
      "\tadd(Number alpha, Tensor other)\n",
      "Consider using one of the following signatures instead:\n",
      "\tadd(Tensor other, *, Number alpha) (Triggered internally at  ../torch/csrc/utils/python_arg_parser.cpp:1025.)\n",
      "  grad = grad.add(group['weight_decay'], p.data)\n"
     ]
    },
    {
     "name": "stdout",
     "output_type": "stream",
     "text": [
      "EarlyStopping counter: 1 out of 4\n",
      "EarlyStopping counter: 1 out of 4\n",
      "EarlyStopping counter: 1 out of 4\n",
      "EarlyStopping counter: 1 out of 4\n",
      "EarlyStopping counter: 1 out of 4\n",
      "EarlyStopping counter: 2 out of 4\n",
      "EarlyStopping counter: 3 out of 4\n"
     ]
    },
    {
     "name": "stderr",
     "output_type": "stream",
     "text": [
      "\u001b[32m[I 2021-10-25 14:54:11,983]\u001b[0m Trial 0 finished with value: 0.81386799711378 and parameters: {'FFNN_n_layers': 1, 'FFNN_n_units_l0': 32, 'FFNN_dropout_l0': 0.2, 'CNN_n_layers': 2, 'CNN_out_channels_l0': 64, 'CNN_kernel_size_l0': 15, 'CNN_dropout_l0': 0, 'CNN_out_channels_l1': 64, 'CNN_kernel_size_l1': 5, 'CNN_dropout_l1': 0.4, 'EMBRACENET_embracement_size': 768, 'n_post_layers': 0, 'selection_probabilities_FFNN': 0.8507082831906662, 'optimizer': 'Nadam', 'lr': 9.226516370706335e-05, 'weight_decay': 0.0005414253399787237}. Best is trial 0 with value: 0.81386799711378.\u001b[0m\n"
     ]
    },
    {
     "name": "stdout",
     "output_type": "stream",
     "text": [
      "EarlyStopping counter: 4 out of 4\n",
      "Early stopping the training\n"
     ]
    },
    {
     "data": {
      "application/vnd.jupyter.widget-view+json": {
       "model_id": "ef0fab302073480b99e5f59651a1a618",
       "version_major": 2,
       "version_minor": 0
      },
      "text/plain": [
       "Epochs:   0%|          | 0/100 [00:00<?, ?it/s]"
      ]
     },
     "metadata": {},
     "output_type": "display_data"
    },
    {
     "name": "stdout",
     "output_type": "stream",
     "text": [
      "EarlyStopping counter: 1 out of 4\n",
      "EarlyStopping counter: 2 out of 4\n",
      "EarlyStopping counter: 3 out of 4\n"
     ]
    },
    {
     "name": "stderr",
     "output_type": "stream",
     "text": [
      "\u001b[32m[I 2021-10-25 15:08:18,058]\u001b[0m Trial 1 finished with value: 0.3758336455130305 and parameters: {'FFNN_n_layers': 4, 'FFNN_n_units_l0': 128, 'FFNN_dropout_l0': 0.2, 'FFNN_n_units_l1': 128, 'FFNN_dropout_l1': 0.4, 'FFNN_n_units_l2': 32, 'FFNN_dropout_l2': 0.4, 'FFNN_n_units_l3': 32, 'FFNN_dropout_l3': 0.5, 'CNN_n_layers': 4, 'CNN_out_channels_l0': 64, 'CNN_kernel_size_l0': 11, 'CNN_dropout_l0': 0.2, 'CNN_out_channels_l1': 64, 'CNN_kernel_size_l1': 15, 'CNN_dropout_l1': 0, 'CNN_out_channels_l2': 256, 'CNN_kernel_size_l2': 15, 'CNN_dropout_l2': 0.5, 'CNN_out_channels_l3': 256, 'CNN_kernel_size_l3': 15, 'CNN_dropout_l3': 0.5, 'EMBRACENET_embracement_size': 1024, 'n_post_layers': 2, 'EMBRACENET_n_units_l0': 128, 'EMBRACENET_dropout_l0': 0.5, 'EMBRACENET_n_units_l1': 32, 'EMBRACENET_dropout_l1': 0.5, 'selection_probabilities_FFNN': 0.31981647485528986, 'optimizer': 'Adam', 'lr': 4.100046675130155e-05, 'weight_decay': 0.0005625799034857218}. Best is trial 0 with value: 0.81386799711378.\u001b[0m\n"
     ]
    },
    {
     "name": "stdout",
     "output_type": "stream",
     "text": [
      "EarlyStopping counter: 4 out of 4\n",
      "Early stopping the training\n"
     ]
    },
    {
     "data": {
      "application/vnd.jupyter.widget-view+json": {
       "model_id": "a89eb9d1a9d44b1f9524d93307b5fac7",
       "version_major": 2,
       "version_minor": 0
      },
      "text/plain": [
       "Epochs:   0%|          | 0/100 [00:00<?, ?it/s]"
      ]
     },
     "metadata": {},
     "output_type": "display_data"
    },
    {
     "name": "stdout",
     "output_type": "stream",
     "text": [
      "EarlyStopping counter: 1 out of 4\n",
      "EarlyStopping counter: 1 out of 4\n",
      "EarlyStopping counter: 2 out of 4\n",
      "EarlyStopping counter: 1 out of 4\n",
      "EarlyStopping counter: 2 out of 4\n",
      "EarlyStopping counter: 1 out of 4\n",
      "EarlyStopping counter: 2 out of 4\n",
      "EarlyStopping counter: 1 out of 4\n",
      "EarlyStopping counter: 2 out of 4\n",
      "EarlyStopping counter: 1 out of 4\n",
      "EarlyStopping counter: 1 out of 4\n",
      "EarlyStopping counter: 2 out of 4\n",
      "EarlyStopping counter: 3 out of 4\n"
     ]
    },
    {
     "name": "stderr",
     "output_type": "stream",
     "text": [
      "\u001b[32m[I 2021-10-25 15:24:30,884]\u001b[0m Trial 2 finished with value: 0.7040598882914805 and parameters: {'FFNN_n_layers': 2, 'FFNN_n_units_l0': 128, 'FFNN_dropout_l0': 0.3, 'FFNN_n_units_l1': 32, 'FFNN_dropout_l1': 0.3, 'CNN_n_layers': 2, 'CNN_out_channels_l0': 32, 'CNN_kernel_size_l0': 11, 'CNN_dropout_l0': 0.2, 'CNN_out_channels_l1': 64, 'CNN_kernel_size_l1': 5, 'CNN_dropout_l1': 0.4, 'EMBRACENET_embracement_size': 1024, 'n_post_layers': 0, 'selection_probabilities_FFNN': 0.034702747705340986, 'optimizer': 'RMSprop', 'lr': 1.6687870510053267e-05, 'weight_decay': 0.00032100586409704107}. Best is trial 0 with value: 0.81386799711378.\u001b[0m\n"
     ]
    },
    {
     "name": "stdout",
     "output_type": "stream",
     "text": [
      "EarlyStopping counter: 4 out of 4\n",
      "Early stopping the training\n",
      "Study statistics: \n",
      "  Number of finished trials:  3\n",
      "  Number of pruned trials:  0\n",
      "  Number of complete trials:  3\n",
      "Best trial:\n",
      "  Value:  0.81386799711378\n",
      "  Params: \n",
      "    CNN_dropout_l0: 0\n",
      "    CNN_dropout_l1: 0.4\n",
      "    CNN_kernel_size_l0: 15\n",
      "    CNN_kernel_size_l1: 5\n",
      "    CNN_n_layers: 2\n",
      "    CNN_out_channels_l0: 64\n",
      "    CNN_out_channels_l1: 64\n",
      "    EMBRACENET_embracement_size: 768\n",
      "    FFNN_dropout_l0: 0.2\n",
      "    FFNN_n_layers: 1\n",
      "    FFNN_n_units_l0: 32\n",
      "    lr: 9.226516370706335e-05\n",
      "    n_post_layers: 0\n",
      "    optimizer: Nadam\n",
      "    selection_probabilities_FFNN: 0.8507082831906662\n",
      "    weight_decay: 0.0005414253399787237\n",
      "\n",
      "===============> MODEL TESTING\n"
     ]
    },
    {
     "data": {
      "application/vnd.jupyter.widget-view+json": {
       "model_id": "28ff4dea7801442bbd38ed325354d74d",
       "version_major": 2,
       "version_minor": 0
      },
      "text/plain": [
       "Epochs:   0%|          | 0/100 [00:00<?, ?it/s]"
      ]
     },
     "metadata": {},
     "output_type": "display_data"
    },
    {
     "name": "stdout",
     "output_type": "stream",
     "text": [
      "EarlyStopping counter: 1 out of 4\n",
      "EarlyStopping counter: 2 out of 4\n",
      "EarlyStopping counter: 3 out of 4\n"
     ]
    },
    {
     "name": "stderr",
     "output_type": "stream",
     "text": [
      "/Users/Niki/Prediction-of-Active-and-Inactive-Regulatory-Regions-with-Embracenet-Multimodal-Neural-Network-/BIOINF_tesi/models/utils/training_models_multimodal.py:425: ExperimentalWarning: PatientPruner is experimental (supported from v2.8.0). The interface can change in the future.\n",
      "  pruner=optuna.pruners.PatientPruner(optuna.pruners.MedianPruner(), patience=2),\n",
      "\u001b[32m[I 2021-10-25 15:32:16,421]\u001b[0m A new study created in RDB with name: HEK293_active_E_vs_active_P_EmbraceNetMultimodal_1_2\u001b[0m\n"
     ]
    },
    {
     "name": "stdout",
     "output_type": "stream",
     "text": [
      "EarlyStopping counter: 4 out of 4\n",
      "Early stopping the training\n",
      "AUPRC test score: 0.7868917007598107\n",
      "\n",
      "\n",
      ">>> ITERATION N. 2\n",
      "\n",
      "===============> HYPERPARAMETERS TUNING\n"
     ]
    },
    {
     "data": {
      "application/vnd.jupyter.widget-view+json": {
       "model_id": "e809e86d74b045b1bd49002996e9d48b",
       "version_major": 2,
       "version_minor": 0
      },
      "text/plain": [
       "Epochs:   0%|          | 0/100 [00:00<?, ?it/s]"
      ]
     },
     "metadata": {},
     "output_type": "display_data"
    },
    {
     "name": "stdout",
     "output_type": "stream",
     "text": [
      "EarlyStopping counter: 1 out of 4\n",
      "EarlyStopping counter: 1 out of 4\n",
      "EarlyStopping counter: 1 out of 4\n",
      "EarlyStopping counter: 1 out of 4\n",
      "EarlyStopping counter: 2 out of 4\n",
      "EarlyStopping counter: 3 out of 4\n"
     ]
    },
    {
     "name": "stderr",
     "output_type": "stream",
     "text": [
      "\u001b[32m[I 2021-10-25 15:51:48,685]\u001b[0m Trial 0 finished with value: 0.7762112827301665 and parameters: {'FFNN_n_layers': 1, 'FFNN_n_units_l0': 32, 'FFNN_dropout_l0': 0.4, 'CNN_n_layers': 3, 'CNN_out_channels_l0': 32, 'CNN_kernel_size_l0': 15, 'CNN_dropout_l0': 0.2, 'CNN_out_channels_l1': 96, 'CNN_kernel_size_l1': 5, 'CNN_dropout_l1': 0.5, 'CNN_out_channels_l2': 256, 'CNN_kernel_size_l2': 15, 'CNN_dropout_l2': 0.4, 'EMBRACENET_embracement_size': 1024, 'n_post_layers': 2, 'EMBRACENET_n_units_l0': 32, 'EMBRACENET_dropout_l0': 0.0, 'EMBRACENET_n_units_l1': 16, 'EMBRACENET_dropout_l1': 0.0, 'selection_probabilities_FFNN': 0.6716861869297409, 'optimizer': 'Adam', 'lr': 0.0050199731584156535, 'weight_decay': 0.00929779025549275}. Best is trial 0 with value: 0.7762112827301665.\u001b[0m\n"
     ]
    },
    {
     "name": "stdout",
     "output_type": "stream",
     "text": [
      "EarlyStopping counter: 4 out of 4\n",
      "Early stopping the training\n"
     ]
    },
    {
     "data": {
      "application/vnd.jupyter.widget-view+json": {
       "model_id": "ece4576f773e403abb5ec2af1ff55973",
       "version_major": 2,
       "version_minor": 0
      },
      "text/plain": [
       "Epochs:   0%|          | 0/100 [00:00<?, ?it/s]"
      ]
     },
     "metadata": {},
     "output_type": "display_data"
    },
    {
     "name": "stdout",
     "output_type": "stream",
     "text": [
      "EarlyStopping counter: 1 out of 4\n",
      "EarlyStopping counter: 2 out of 4\n",
      "EarlyStopping counter: 1 out of 4\n",
      "EarlyStopping counter: 2 out of 4\n",
      "EarlyStopping counter: 3 out of 4\n"
     ]
    },
    {
     "name": "stderr",
     "output_type": "stream",
     "text": [
      "\u001b[32m[I 2021-10-25 16:04:11,185]\u001b[0m Trial 1 finished with value: 0.8191345475102124 and parameters: {'FFNN_n_layers': 2, 'FFNN_n_units_l0': 128, 'FFNN_dropout_l0': 0.3, 'FFNN_n_units_l1': 64, 'FFNN_dropout_l1': 0.4, 'CNN_n_layers': 2, 'CNN_out_channels_l0': 16, 'CNN_kernel_size_l0': 5, 'CNN_dropout_l0': 0.4, 'CNN_out_channels_l1': 64, 'CNN_kernel_size_l1': 5, 'CNN_dropout_l1': 0.5, 'EMBRACENET_embracement_size': 1024, 'n_post_layers': 1, 'EMBRACENET_n_units_l0': 32, 'EMBRACENET_dropout_l0': 0.2, 'selection_probabilities_FFNN': 0.4299317661665709, 'optimizer': 'Adam', 'lr': 0.00011890099192016821, 'weight_decay': 0.00012211605371998882}. Best is trial 1 with value: 0.8191345475102124.\u001b[0m\n"
     ]
    },
    {
     "name": "stdout",
     "output_type": "stream",
     "text": [
      "EarlyStopping counter: 4 out of 4\n",
      "Early stopping the training\n"
     ]
    },
    {
     "data": {
      "application/vnd.jupyter.widget-view+json": {
       "model_id": "843cef2b4b004099adfe9debb584e4b7",
       "version_major": 2,
       "version_minor": 0
      },
      "text/plain": [
       "Epochs:   0%|          | 0/100 [00:00<?, ?it/s]"
      ]
     },
     "metadata": {},
     "output_type": "display_data"
    },
    {
     "name": "stdout",
     "output_type": "stream",
     "text": [
      "EarlyStopping counter: 1 out of 4\n",
      "EarlyStopping counter: 2 out of 4\n",
      "EarlyStopping counter: 3 out of 4\n",
      "EarlyStopping counter: 1 out of 4\n",
      "EarlyStopping counter: 2 out of 4\n",
      "EarlyStopping counter: 3 out of 4\n"
     ]
    },
    {
     "name": "stderr",
     "output_type": "stream",
     "text": [
      "\u001b[32m[I 2021-10-25 16:09:52,169]\u001b[0m Trial 2 finished with value: 0.7645695917692561 and parameters: {'FFNN_n_layers': 3, 'FFNN_n_units_l0': 256, 'FFNN_dropout_l0': 0.3, 'FFNN_n_units_l1': 16, 'FFNN_dropout_l1': 0.0, 'FFNN_n_units_l2': 64, 'FFNN_dropout_l2': 0.5, 'CNN_n_layers': 1, 'CNN_out_channels_l0': 16, 'CNN_kernel_size_l0': 5, 'CNN_dropout_l0': 0.2, 'EMBRACENET_embracement_size': 512, 'n_post_layers': 0, 'selection_probabilities_FFNN': 0.47773784284276, 'optimizer': 'Nadam', 'lr': 0.002820105863544638, 'weight_decay': 0.005532264479549918}. Best is trial 1 with value: 0.8191345475102124.\u001b[0m\n"
     ]
    },
    {
     "name": "stdout",
     "output_type": "stream",
     "text": [
      "EarlyStopping counter: 4 out of 4\n",
      "Early stopping the training\n",
      "Study statistics: \n",
      "  Number of finished trials:  3\n",
      "  Number of pruned trials:  0\n",
      "  Number of complete trials:  3\n",
      "Best trial:\n",
      "  Value:  0.8191345475102124\n",
      "  Params: \n",
      "    CNN_dropout_l0: 0.4\n",
      "    CNN_dropout_l1: 0.5\n",
      "    CNN_kernel_size_l0: 5\n",
      "    CNN_kernel_size_l1: 5\n",
      "    CNN_n_layers: 2\n",
      "    CNN_out_channels_l0: 16\n",
      "    CNN_out_channels_l1: 64\n",
      "    EMBRACENET_dropout_l0: 0.2\n",
      "    EMBRACENET_embracement_size: 1024\n",
      "    EMBRACENET_n_units_l0: 32\n",
      "    FFNN_dropout_l0: 0.3\n",
      "    FFNN_dropout_l1: 0.4\n",
      "    FFNN_n_layers: 2\n",
      "    FFNN_n_units_l0: 128\n",
      "    FFNN_n_units_l1: 64\n",
      "    lr: 0.00011890099192016821\n",
      "    n_post_layers: 1\n",
      "    optimizer: Adam\n",
      "    selection_probabilities_FFNN: 0.4299317661665709\n",
      "    weight_decay: 0.00012211605371998882\n",
      "\n",
      "===============> MODEL TESTING\n"
     ]
    },
    {
     "data": {
      "application/vnd.jupyter.widget-view+json": {
       "model_id": "55582d27731349c9b79fc24641f3baef",
       "version_major": 2,
       "version_minor": 0
      },
      "text/plain": [
       "Epochs:   0%|          | 0/100 [00:00<?, ?it/s]"
      ]
     },
     "metadata": {},
     "output_type": "display_data"
    },
    {
     "name": "stdout",
     "output_type": "stream",
     "text": [
      "EarlyStopping counter: 1 out of 4\n",
      "EarlyStopping counter: 1 out of 4\n",
      "EarlyStopping counter: 2 out of 4\n",
      "EarlyStopping counter: 3 out of 4\n"
     ]
    },
    {
     "name": "stderr",
     "output_type": "stream",
     "text": [
      "/Users/Niki/Prediction-of-Active-and-Inactive-Regulatory-Regions-with-Embracenet-Multimodal-Neural-Network-/BIOINF_tesi/models/utils/training_models_multimodal.py:425: ExperimentalWarning: PatientPruner is experimental (supported from v2.8.0). The interface can change in the future.\n",
      "  pruner=optuna.pruners.PatientPruner(optuna.pruners.MedianPruner(), patience=2),\n",
      "\u001b[32m[I 2021-10-25 16:21:18,912]\u001b[0m A new study created in RDB with name: HEK293_active_E_vs_active_P_EmbraceNetMultimodal_1_2_3\u001b[0m\n"
     ]
    },
    {
     "name": "stdout",
     "output_type": "stream",
     "text": [
      "EarlyStopping counter: 4 out of 4\n",
      "Early stopping the training\n",
      "AUPRC test score: 0.7898033180323211\n",
      "\n",
      "\n",
      ">>> ITERATION N. 3\n",
      "\n",
      "===============> HYPERPARAMETERS TUNING\n"
     ]
    },
    {
     "data": {
      "application/vnd.jupyter.widget-view+json": {
       "model_id": "4934dcb1014a4f3188029158c1781ed1",
       "version_major": 2,
       "version_minor": 0
      },
      "text/plain": [
       "Epochs:   0%|          | 0/100 [00:00<?, ?it/s]"
      ]
     },
     "metadata": {},
     "output_type": "display_data"
    },
    {
     "name": "stdout",
     "output_type": "stream",
     "text": [
      "EarlyStopping counter: 1 out of 4\n",
      "EarlyStopping counter: 1 out of 4\n",
      "EarlyStopping counter: 1 out of 4\n",
      "EarlyStopping counter: 2 out of 4\n",
      "EarlyStopping counter: 1 out of 4\n",
      "EarlyStopping counter: 2 out of 4\n",
      "EarlyStopping counter: 3 out of 4\n"
     ]
    },
    {
     "name": "stderr",
     "output_type": "stream",
     "text": [
      "\u001b[32m[I 2021-10-25 16:30:24,776]\u001b[0m Trial 0 finished with value: 0.786828470009534 and parameters: {'FFNN_n_layers': 2, 'FFNN_n_units_l0': 32, 'FFNN_dropout_l0': 0.4, 'FFNN_n_units_l1': 32, 'FFNN_dropout_l1': 0.2, 'CNN_n_layers': 2, 'CNN_out_channels_l0': 64, 'CNN_kernel_size_l0': 5, 'CNN_dropout_l0': 0, 'CNN_out_channels_l1': 32, 'CNN_kernel_size_l1': 15, 'CNN_dropout_l1': 0, 'EMBRACENET_embracement_size': 768, 'n_post_layers': 2, 'EMBRACENET_n_units_l0': 256, 'EMBRACENET_dropout_l0': 0.3, 'EMBRACENET_n_units_l1': 32, 'EMBRACENET_dropout_l1': 0.2, 'selection_probabilities_FFNN': 0.46406363815502705, 'optimizer': 'Adam', 'lr': 0.00010870269647080958, 'weight_decay': 0.002744665652393014}. Best is trial 0 with value: 0.786828470009534.\u001b[0m\n"
     ]
    },
    {
     "name": "stdout",
     "output_type": "stream",
     "text": [
      "EarlyStopping counter: 4 out of 4\n",
      "Early stopping the training\n"
     ]
    },
    {
     "data": {
      "application/vnd.jupyter.widget-view+json": {
       "model_id": "a54841dd349144d48ac7548c1042ec78",
       "version_major": 2,
       "version_minor": 0
      },
      "text/plain": [
       "Epochs:   0%|          | 0/100 [00:00<?, ?it/s]"
      ]
     },
     "metadata": {},
     "output_type": "display_data"
    },
    {
     "name": "stdout",
     "output_type": "stream",
     "text": [
      "EarlyStopping counter: 1 out of 4\n",
      "EarlyStopping counter: 1 out of 4\n",
      "EarlyStopping counter: 1 out of 4\n",
      "EarlyStopping counter: 2 out of 4\n",
      "EarlyStopping counter: 1 out of 4\n",
      "EarlyStopping counter: 1 out of 4\n",
      "EarlyStopping counter: 2 out of 4\n",
      "EarlyStopping counter: 3 out of 4\n"
     ]
    },
    {
     "name": "stderr",
     "output_type": "stream",
     "text": [
      "\u001b[32m[I 2021-10-25 16:47:43,940]\u001b[0m Trial 1 finished with value: 0.7005279098358199 and parameters: {'FFNN_n_layers': 3, 'FFNN_n_units_l0': 64, 'FFNN_dropout_l0': 0.2, 'FFNN_n_units_l1': 64, 'FFNN_dropout_l1': 0.3, 'FFNN_n_units_l2': 64, 'FFNN_dropout_l2': 0.0, 'CNN_n_layers': 1, 'CNN_out_channels_l0': 64, 'CNN_kernel_size_l0': 15, 'CNN_dropout_l0': 0, 'EMBRACENET_embracement_size': 768, 'n_post_layers': 1, 'EMBRACENET_n_units_l0': 32, 'EMBRACENET_dropout_l0': 0.3, 'selection_probabilities_FFNN': 0.030313324971110722, 'optimizer': 'Nadam', 'lr': 0.01806536318579615, 'weight_decay': 0.0022723254643095066}. Best is trial 0 with value: 0.786828470009534.\u001b[0m\n"
     ]
    },
    {
     "name": "stdout",
     "output_type": "stream",
     "text": [
      "EarlyStopping counter: 4 out of 4\n",
      "Early stopping the training\n"
     ]
    },
    {
     "data": {
      "application/vnd.jupyter.widget-view+json": {
       "model_id": "560b6f3b6382418e87da6974ef851e86",
       "version_major": 2,
       "version_minor": 0
      },
      "text/plain": [
       "Epochs:   0%|          | 0/100 [00:00<?, ?it/s]"
      ]
     },
     "metadata": {},
     "output_type": "display_data"
    },
    {
     "name": "stdout",
     "output_type": "stream",
     "text": [
      "EarlyStopping counter: 1 out of 4\n",
      "EarlyStopping counter: 2 out of 4\n",
      "EarlyStopping counter: 3 out of 4\n"
     ]
    },
    {
     "name": "stderr",
     "output_type": "stream",
     "text": [
      "\u001b[32m[I 2021-10-25 16:53:29,675]\u001b[0m Trial 2 finished with value: 0.7864772587014631 and parameters: {'FFNN_n_layers': 4, 'FFNN_n_units_l0': 256, 'FFNN_dropout_l0': 0.2, 'FFNN_n_units_l1': 64, 'FFNN_dropout_l1': 0.3, 'FFNN_n_units_l2': 4, 'FFNN_dropout_l2': 0.4, 'FFNN_n_units_l3': 4, 'FFNN_dropout_l3': 0.0, 'CNN_n_layers': 1, 'CNN_out_channels_l0': 16, 'CNN_kernel_size_l0': 11, 'CNN_dropout_l0': 0.4, 'EMBRACENET_embracement_size': 768, 'n_post_layers': 1, 'EMBRACENET_n_units_l0': 64, 'EMBRACENET_dropout_l0': 0.5, 'selection_probabilities_FFNN': 0.3432042423098789, 'optimizer': 'Adam', 'lr': 0.0006957611947197421, 'weight_decay': 0.0016935283602966685}. Best is trial 0 with value: 0.786828470009534.\u001b[0m\n"
     ]
    },
    {
     "name": "stdout",
     "output_type": "stream",
     "text": [
      "EarlyStopping counter: 4 out of 4\n",
      "Early stopping the training\n",
      "Study statistics: \n",
      "  Number of finished trials:  3\n",
      "  Number of pruned trials:  0\n",
      "  Number of complete trials:  3\n",
      "Best trial:\n",
      "  Value:  0.786828470009534\n",
      "  Params: \n",
      "    CNN_dropout_l0: 0\n",
      "    CNN_dropout_l1: 0\n",
      "    CNN_kernel_size_l0: 5\n",
      "    CNN_kernel_size_l1: 15\n",
      "    CNN_n_layers: 2\n",
      "    CNN_out_channels_l0: 64\n",
      "    CNN_out_channels_l1: 32\n",
      "    EMBRACENET_dropout_l0: 0.3\n",
      "    EMBRACENET_dropout_l1: 0.2\n",
      "    EMBRACENET_embracement_size: 768\n",
      "    EMBRACENET_n_units_l0: 256\n",
      "    EMBRACENET_n_units_l1: 32\n",
      "    FFNN_dropout_l0: 0.4\n",
      "    FFNN_dropout_l1: 0.2\n",
      "    FFNN_n_layers: 2\n",
      "    FFNN_n_units_l0: 32\n",
      "    FFNN_n_units_l1: 32\n",
      "    lr: 0.00010870269647080958\n",
      "    n_post_layers: 2\n",
      "    optimizer: Adam\n",
      "    selection_probabilities_FFNN: 0.46406363815502705\n",
      "    weight_decay: 0.002744665652393014\n",
      "\n",
      "===============> MODEL TESTING\n"
     ]
    },
    {
     "data": {
      "application/vnd.jupyter.widget-view+json": {
       "model_id": "2765a7a85f0a497eb68b77fdd8f16cc4",
       "version_major": 2,
       "version_minor": 0
      },
      "text/plain": [
       "Epochs:   0%|          | 0/100 [00:00<?, ?it/s]"
      ]
     },
     "metadata": {},
     "output_type": "display_data"
    },
    {
     "name": "stdout",
     "output_type": "stream",
     "text": [
      "EarlyStopping counter: 1 out of 4\n",
      "EarlyStopping counter: 2 out of 4\n",
      "EarlyStopping counter: 1 out of 4\n",
      "EarlyStopping counter: 2 out of 4\n",
      "EarlyStopping counter: 3 out of 4\n",
      "EarlyStopping counter: 1 out of 4\n",
      "EarlyStopping counter: 1 out of 4\n",
      "EarlyStopping counter: 2 out of 4\n",
      "EarlyStopping counter: 3 out of 4\n",
      "EarlyStopping counter: 4 out of 4\n",
      "Early stopping the training\n",
      "AUPRC test score: 0.7732311767243224\n",
      "\n",
      "\n",
      "\n",
      "3-FOLD CROSS-VALIDATION AUPRC TEST SCORE: 0.78331\n"
     ]
    }
   ],
   "source": [
    "kf_CV = Kfold_CV_Multimodal()\n",
    "\n",
    "kf_CV(build_dataloader_pipeline = pipe_data_load,\n",
    "                num_epochs = 100,\n",
    "                n_folds=3,\n",
    "                cell_line=cell_line,\n",
    "                augmentation=False,\n",
    "                model = model,\n",
    "                device = device,\n",
    "                task=task,\n",
    "                sampler = 'TPE',\n",
    "                study_name = f'{cell_line}_{task}_{model.__name__}',\n",
    "                test_model_path = f'{cell_line}_{task}_{model.__name__}_TEST')"
   ]
  },
  {
   "cell_type": "code",
   "execution_count": null,
   "metadata": {},
   "outputs": [],
   "source": [
    "results_dict[cell_line][task][model.__name__] = kf_CV.scores_dict"
   ]
  },
  {
   "cell_type": "code",
   "execution_count": null,
   "metadata": {},
   "outputs": [],
   "source": [
    "with open ('results_dict.pickle', 'wb') as fout:\n",
    "    pickle.dump(OrderedDict(results_dict), fout)"
   ]
  },
  {
   "cell_type": "markdown",
   "metadata": {},
   "source": [
    "### CONCATNET"
   ]
  },
  {
   "cell_type": "code",
   "execution_count": null,
   "metadata": {},
   "outputs": [],
   "source": [
    "model=ConcatNetMultimodal"
   ]
  },
  {
   "cell_type": "code",
   "execution_count": null,
   "metadata": {
    "scrolled": true
   },
   "outputs": [],
   "source": [
    "kf_CV = Kfold_CV_Multimodal()\n",
    "\n",
    "kf_CV(build_dataloader_pipeline = pipe_data_load,\n",
    "                num_epochs = 100,\n",
    "                n_folds=3,\n",
    "                cell_line=cell_line,\n",
    "                augmentation=False,\n",
    "                model = model,\n",
    "                device = device,\n",
    "                task=task,\n",
    "                sampler = 'TPE',\n",
    "                study_name = f'{cell_line}_{task}_{model.__name__}',\n",
    "                test_model_path = f'{cell_line}_{task}_{model.__name__}_TEST')"
   ]
  },
  {
   "cell_type": "code",
   "execution_count": null,
   "metadata": {},
   "outputs": [],
   "source": [
    "results_dict[cell_line][task][model.__name__] = kf_CV.scores_dict"
   ]
  },
  {
   "cell_type": "code",
   "execution_count": null,
   "metadata": {},
   "outputs": [],
   "source": [
    "with open ('results_dict.pickle', 'wb') as fout:\n",
    "    pickle.dump(OrderedDict(results_dict), fout)"
   ]
  },
  {
   "cell_type": "markdown",
   "metadata": {},
   "source": [
    "---"
   ]
  },
  {
   "cell_type": "markdown",
   "metadata": {},
   "source": [
    "## 4) INACTIVE ENHANCERS vs INACTIVE PROMOTERS"
   ]
  },
  {
   "cell_type": "code",
   "execution_count": 17,
   "metadata": {},
   "outputs": [
    {
     "data": {
      "text/plain": [
       "'inactive_E_vs_inactive_P'"
      ]
     },
     "execution_count": 17,
     "metadata": {},
     "output_type": "execute_result"
    }
   ],
   "source": [
    "task = TASKS[3]\n",
    "task"
   ]
  },
  {
   "cell_type": "code",
   "execution_count": 18,
   "metadata": {},
   "outputs": [
    {
     "name": "stdout",
     "output_type": "stream",
     "text": [
      "Data Preprocessing Done!\n"
     ]
    }
   ],
   "source": [
    "pipe_data_load = Build_DataLoader_Pipeline(path_name=f'{task}.pickle')"
   ]
  },
  {
   "cell_type": "markdown",
   "metadata": {},
   "source": [
    "---\n",
    "### EMBRACENET"
   ]
  },
  {
   "cell_type": "code",
   "execution_count": 19,
   "metadata": {},
   "outputs": [],
   "source": [
    "model=EmbraceNetMultimodal"
   ]
  },
  {
   "cell_type": "code",
   "execution_count": null,
   "metadata": {
    "scrolled": true
   },
   "outputs": [
    {
     "name": "stdout",
     "output_type": "stream",
     "text": [
      ">>> ITERATION N. 1\n",
      "\n",
      "===============> HYPERPARAMETERS TUNING\n"
     ]
    },
    {
     "name": "stderr",
     "output_type": "stream",
     "text": [
      "/Users/Niki/Prediction-of-Active-and-Inactive-Regulatory-Regions-with-Embracenet-Multimodal-Neural-Network-/BIOINF_tesi/models/utils/training_models_multimodal.py:425: ExperimentalWarning: PatientPruner is experimental (supported from v2.8.0). The interface can change in the future.\n",
      "  pruner=optuna.pruners.PatientPruner(optuna.pruners.MedianPruner(), patience=2),\n",
      "\u001b[32m[I 2021-10-25 17:11:28,657]\u001b[0m A new study created in RDB with name: HEK293_inactive_E_vs_inactive_P_EmbraceNetMultimodal_1\u001b[0m\n"
     ]
    },
    {
     "data": {
      "application/vnd.jupyter.widget-view+json": {
       "model_id": "abc50c6afcd2453d8b0db7a40cd3fee5",
       "version_major": 2,
       "version_minor": 0
      },
      "text/plain": [
       "Epochs:   0%|          | 0/100 [00:00<?, ?it/s]"
      ]
     },
     "metadata": {},
     "output_type": "display_data"
    },
    {
     "name": "stdout",
     "output_type": "stream",
     "text": [
      "EarlyStopping counter: 1 out of 4\n",
      "EarlyStopping counter: 1 out of 4\n",
      "EarlyStopping counter: 2 out of 4\n",
      "EarlyStopping counter: 3 out of 4\n",
      "EarlyStopping counter: 1 out of 4\n",
      "EarlyStopping counter: 2 out of 4\n",
      "EarlyStopping counter: 1 out of 4\n",
      "EarlyStopping counter: 2 out of 4\n",
      "EarlyStopping counter: 3 out of 4\n",
      "EarlyStopping counter: 1 out of 4\n",
      "EarlyStopping counter: 2 out of 4\n",
      "EarlyStopping counter: 1 out of 4\n",
      "EarlyStopping counter: 2 out of 4\n",
      "EarlyStopping counter: 3 out of 4\n"
     ]
    },
    {
     "name": "stderr",
     "output_type": "stream",
     "text": [
      "\u001b[32m[I 2021-10-25 22:04:17,957]\u001b[0m Trial 0 finished with value: 0.5879467599021383 and parameters: {'FFNN_n_layers': 1, 'FFNN_n_units_l0': 64, 'FFNN_dropout_l0': 0.2, 'CNN_n_layers': 4, 'CNN_out_channels_l0': 64, 'CNN_kernel_size_l0': 11, 'CNN_dropout_l0': 0.2, 'CNN_out_channels_l1': 96, 'CNN_kernel_size_l1': 15, 'CNN_dropout_l1': 0.5, 'CNN_out_channels_l2': 128, 'CNN_kernel_size_l2': 11, 'CNN_dropout_l2': 0, 'CNN_out_channels_l3': 256, 'CNN_kernel_size_l3': 15, 'CNN_dropout_l3': 0.4, 'EMBRACENET_embracement_size': 1024, 'n_post_layers': 1, 'EMBRACENET_n_units_l0': 64, 'EMBRACENET_dropout_l0': 0.5, 'selection_probabilities_FFNN': 0.7733252348268397, 'optimizer': 'Nadam', 'lr': 0.00022886184202188406, 'weight_decay': 0.01115660781675842}. Best is trial 0 with value: 0.5879467599021383.\u001b[0m\n"
     ]
    },
    {
     "name": "stdout",
     "output_type": "stream",
     "text": [
      "EarlyStopping counter: 4 out of 4\n",
      "Early stopping the training\n"
     ]
    },
    {
     "data": {
      "application/vnd.jupyter.widget-view+json": {
       "model_id": "c26b6693af58456da00238dbd4fa77cb",
       "version_major": 2,
       "version_minor": 0
      },
      "text/plain": [
       "Epochs:   0%|          | 0/100 [00:00<?, ?it/s]"
      ]
     },
     "metadata": {},
     "output_type": "display_data"
    },
    {
     "name": "stdout",
     "output_type": "stream",
     "text": [
      "EarlyStopping counter: 1 out of 4\n",
      "EarlyStopping counter: 2 out of 4\n",
      "EarlyStopping counter: 1 out of 4\n",
      "EarlyStopping counter: 2 out of 4\n",
      "EarlyStopping counter: 3 out of 4\n",
      "EarlyStopping counter: 1 out of 4\n",
      "EarlyStopping counter: 1 out of 4\n",
      "EarlyStopping counter: 2 out of 4\n",
      "EarlyStopping counter: 3 out of 4\n",
      "EarlyStopping counter: 1 out of 4\n",
      "EarlyStopping counter: 2 out of 4\n",
      "EarlyStopping counter: 3 out of 4\n",
      "EarlyStopping counter: 1 out of 4\n",
      "EarlyStopping counter: 1 out of 4\n",
      "EarlyStopping counter: 2 out of 4\n",
      "EarlyStopping counter: 3 out of 4\n"
     ]
    },
    {
     "name": "stderr",
     "output_type": "stream",
     "text": [
      "\u001b[32m[I 2021-10-26 01:55:42,697]\u001b[0m Trial 1 finished with value: 0.5784256966672288 and parameters: {'FFNN_n_layers': 1, 'FFNN_n_units_l0': 128, 'FFNN_dropout_l0': 0.2, 'CNN_n_layers': 3, 'CNN_out_channels_l0': 32, 'CNN_kernel_size_l0': 5, 'CNN_dropout_l0': 0, 'CNN_out_channels_l1': 32, 'CNN_kernel_size_l1': 15, 'CNN_dropout_l1': 0, 'CNN_out_channels_l2': 256, 'CNN_kernel_size_l2': 11, 'CNN_dropout_l2': 0.4, 'EMBRACENET_embracement_size': 768, 'n_post_layers': 2, 'EMBRACENET_n_units_l0': 32, 'EMBRACENET_dropout_l0': 0.3, 'EMBRACENET_n_units_l1': 32, 'EMBRACENET_dropout_l1': 0.5, 'selection_probabilities_FFNN': 0.6865855919836961, 'optimizer': 'RMSprop', 'lr': 1.4203814490611672e-05, 'weight_decay': 0.0015039574605968339}. Best is trial 0 with value: 0.5879467599021383.\u001b[0m\n"
     ]
    },
    {
     "name": "stdout",
     "output_type": "stream",
     "text": [
      "EarlyStopping counter: 4 out of 4\n",
      "Early stopping the training\n"
     ]
    },
    {
     "data": {
      "application/vnd.jupyter.widget-view+json": {
       "model_id": "2708d2a7961b49f98d7c68fe1357c948",
       "version_major": 2,
       "version_minor": 0
      },
      "text/plain": [
       "Epochs:   0%|          | 0/100 [00:00<?, ?it/s]"
      ]
     },
     "metadata": {},
     "output_type": "display_data"
    },
    {
     "name": "stdout",
     "output_type": "stream",
     "text": [
      "EarlyStopping counter: 1 out of 4\n",
      "EarlyStopping counter: 2 out of 4\n",
      "EarlyStopping counter: 3 out of 4\n"
     ]
    },
    {
     "name": "stderr",
     "output_type": "stream",
     "text": [
      "\u001b[32m[I 2021-10-26 02:52:56,724]\u001b[0m Trial 2 finished with value: 0.41568849684346887 and parameters: {'FFNN_n_layers': 2, 'FFNN_n_units_l0': 128, 'FFNN_dropout_l0': 0.3, 'FFNN_n_units_l1': 16, 'FFNN_dropout_l1': 0.3, 'CNN_n_layers': 3, 'CNN_out_channels_l0': 32, 'CNN_kernel_size_l0': 15, 'CNN_dropout_l0': 0.2, 'CNN_out_channels_l1': 96, 'CNN_kernel_size_l1': 15, 'CNN_dropout_l1': 0, 'CNN_out_channels_l2': 256, 'CNN_kernel_size_l2': 5, 'CNN_dropout_l2': 0.5, 'EMBRACENET_embracement_size': 1024, 'n_post_layers': 2, 'EMBRACENET_n_units_l0': 128, 'EMBRACENET_dropout_l0': 0.3, 'EMBRACENET_n_units_l1': 32, 'EMBRACENET_dropout_l1': 0.2, 'selection_probabilities_FFNN': 0.5075759231685275, 'optimizer': 'RMSprop', 'lr': 2.8162078782528718e-05, 'weight_decay': 0.007066953815449282}. Best is trial 0 with value: 0.5879467599021383.\u001b[0m\n"
     ]
    },
    {
     "name": "stdout",
     "output_type": "stream",
     "text": [
      "EarlyStopping counter: 4 out of 4\n",
      "Early stopping the training\n",
      "Study statistics: \n",
      "  Number of finished trials:  3\n",
      "  Number of pruned trials:  0\n",
      "  Number of complete trials:  3\n",
      "Best trial:\n",
      "  Value:  0.5879467599021383\n",
      "  Params: \n",
      "    CNN_dropout_l0: 0.2\n",
      "    CNN_dropout_l1: 0.5\n",
      "    CNN_dropout_l2: 0\n",
      "    CNN_dropout_l3: 0.4\n",
      "    CNN_kernel_size_l0: 11\n",
      "    CNN_kernel_size_l1: 15\n",
      "    CNN_kernel_size_l2: 11\n",
      "    CNN_kernel_size_l3: 15\n",
      "    CNN_n_layers: 4\n",
      "    CNN_out_channels_l0: 64\n",
      "    CNN_out_channels_l1: 96\n",
      "    CNN_out_channels_l2: 128\n",
      "    CNN_out_channels_l3: 256\n",
      "    EMBRACENET_dropout_l0: 0.5\n",
      "    EMBRACENET_embracement_size: 1024\n",
      "    EMBRACENET_n_units_l0: 64\n",
      "    FFNN_dropout_l0: 0.2\n",
      "    FFNN_n_layers: 1\n",
      "    FFNN_n_units_l0: 64\n",
      "    lr: 0.00022886184202188406\n",
      "    n_post_layers: 1\n",
      "    optimizer: Nadam\n",
      "    selection_probabilities_FFNN: 0.7733252348268397\n",
      "    weight_decay: 0.01115660781675842\n",
      "\n",
      "===============> MODEL TESTING\n"
     ]
    },
    {
     "data": {
      "application/vnd.jupyter.widget-view+json": {
       "model_id": "dfe247c6ac2f4ac59525fb1b510c5e3a",
       "version_major": 2,
       "version_minor": 0
      },
      "text/plain": [
       "Epochs:   0%|          | 0/100 [00:00<?, ?it/s]"
      ]
     },
     "metadata": {},
     "output_type": "display_data"
    },
    {
     "name": "stdout",
     "output_type": "stream",
     "text": [
      "EarlyStopping counter: 1 out of 4\n",
      "EarlyStopping counter: 1 out of 4\n",
      "EarlyStopping counter: 1 out of 4\n",
      "EarlyStopping counter: 1 out of 4\n",
      "EarlyStopping counter: 2 out of 4\n",
      "EarlyStopping counter: 3 out of 4\n",
      "EarlyStopping counter: 4 out of 4\n",
      "Early stopping the training\n",
      "AUPRC test score: 0.5726221141177655\n",
      "\n",
      "\n",
      ">>> ITERATION N. 2\n"
     ]
    },
    {
     "name": "stderr",
     "output_type": "stream",
     "text": [
      "/Users/Niki/Prediction-of-Active-and-Inactive-Regulatory-Regions-with-Embracenet-Multimodal-Neural-Network-/BIOINF_tesi/models/utils/training_models_multimodal.py:425: ExperimentalWarning: PatientPruner is experimental (supported from v2.8.0). The interface can change in the future.\n",
      "  pruner=optuna.pruners.PatientPruner(optuna.pruners.MedianPruner(), patience=2),\n",
      "\u001b[32m[I 2021-10-26 06:05:06,726]\u001b[0m A new study created in RDB with name: HEK293_inactive_E_vs_inactive_P_EmbraceNetMultimodal_1_2\u001b[0m\n"
     ]
    },
    {
     "name": "stdout",
     "output_type": "stream",
     "text": [
      "\n",
      "===============> HYPERPARAMETERS TUNING\n"
     ]
    },
    {
     "data": {
      "application/vnd.jupyter.widget-view+json": {
       "model_id": "ce80782ced58499dae97b8ac51872570",
       "version_major": 2,
       "version_minor": 0
      },
      "text/plain": [
       "Epochs:   0%|          | 0/100 [00:00<?, ?it/s]"
      ]
     },
     "metadata": {},
     "output_type": "display_data"
    },
    {
     "name": "stdout",
     "output_type": "stream",
     "text": [
      "EarlyStopping counter: 1 out of 4\n",
      "EarlyStopping counter: 1 out of 4\n",
      "EarlyStopping counter: 2 out of 4\n",
      "EarlyStopping counter: 3 out of 4\n"
     ]
    },
    {
     "name": "stderr",
     "output_type": "stream",
     "text": [
      "\u001b[32m[I 2021-10-26 06:55:29,681]\u001b[0m Trial 0 finished with value: 0.44371066164908834 and parameters: {'FFNN_n_layers': 1, 'FFNN_n_units_l0': 256, 'FFNN_dropout_l0': 0.3, 'CNN_n_layers': 4, 'CNN_out_channels_l0': 32, 'CNN_kernel_size_l0': 11, 'CNN_dropout_l0': 0.2, 'CNN_out_channels_l1': 64, 'CNN_kernel_size_l1': 15, 'CNN_dropout_l1': 0.5, 'CNN_out_channels_l2': 96, 'CNN_kernel_size_l2': 15, 'CNN_dropout_l2': 0.4, 'CNN_out_channels_l3': 256, 'CNN_kernel_size_l3': 11, 'CNN_dropout_l3': 0.5, 'EMBRACENET_embracement_size': 768, 'n_post_layers': 0, 'selection_probabilities_FFNN': 0.03142342977322543, 'optimizer': 'RMSprop', 'lr': 0.007176914696900713, 'weight_decay': 0.018039635750334525}. Best is trial 0 with value: 0.44371066164908834.\u001b[0m\n"
     ]
    },
    {
     "name": "stdout",
     "output_type": "stream",
     "text": [
      "EarlyStopping counter: 4 out of 4\n",
      "Early stopping the training\n"
     ]
    },
    {
     "data": {
      "application/vnd.jupyter.widget-view+json": {
       "model_id": "dc25936a6d69431c9396177e5ed6992d",
       "version_major": 2,
       "version_minor": 0
      },
      "text/plain": [
       "Epochs:   0%|          | 0/100 [00:00<?, ?it/s]"
      ]
     },
     "metadata": {},
     "output_type": "display_data"
    },
    {
     "name": "stdout",
     "output_type": "stream",
     "text": [
      "EarlyStopping counter: 1 out of 4\n",
      "EarlyStopping counter: 2 out of 4\n",
      "EarlyStopping counter: 3 out of 4\n"
     ]
    },
    {
     "name": "stderr",
     "output_type": "stream",
     "text": [
      "\u001b[32m[I 2021-10-26 09:17:39,316]\u001b[0m Trial 1 finished with value: 0.4580065341976588 and parameters: {'FFNN_n_layers': 4, 'FFNN_n_units_l0': 32, 'FFNN_dropout_l0': 0.0, 'FFNN_n_units_l1': 32, 'FFNN_dropout_l1': 0.4, 'FFNN_n_units_l2': 16, 'FFNN_dropout_l2': 0.5, 'FFNN_n_units_l3': 4, 'FFNN_dropout_l3': 0.5, 'CNN_n_layers': 4, 'CNN_out_channels_l0': 32, 'CNN_kernel_size_l0': 11, 'CNN_dropout_l0': 0.4, 'CNN_out_channels_l1': 96, 'CNN_kernel_size_l1': 5, 'CNN_dropout_l1': 0.5, 'CNN_out_channels_l2': 256, 'CNN_kernel_size_l2': 15, 'CNN_dropout_l2': 0, 'CNN_out_channels_l3': 512, 'CNN_kernel_size_l3': 15, 'CNN_dropout_l3': 0.5, 'EMBRACENET_embracement_size': 512, 'n_post_layers': 1, 'EMBRACENET_n_units_l0': 32, 'EMBRACENET_dropout_l0': 0.5, 'selection_probabilities_FFNN': 0.5854772417805861, 'optimizer': 'Nadam', 'lr': 5.460648196507375e-05, 'weight_decay': 0.0018538162990713175}. Best is trial 1 with value: 0.4580065341976588.\u001b[0m\n"
     ]
    },
    {
     "name": "stdout",
     "output_type": "stream",
     "text": [
      "EarlyStopping counter: 4 out of 4\n",
      "Early stopping the training\n"
     ]
    },
    {
     "data": {
      "application/vnd.jupyter.widget-view+json": {
       "model_id": "a656a18c680d4ab980b006cbd4a33c72",
       "version_major": 2,
       "version_minor": 0
      },
      "text/plain": [
       "Epochs:   0%|          | 0/100 [00:00<?, ?it/s]"
      ]
     },
     "metadata": {},
     "output_type": "display_data"
    },
    {
     "name": "stdout",
     "output_type": "stream",
     "text": [
      "EarlyStopping counter: 1 out of 4\n"
     ]
    }
   ],
   "source": [
    "kf_CV = Kfold_CV_Multimodal()\n",
    "\n",
    "kf_CV(build_dataloader_pipeline = pipe_data_load,\n",
    "                num_epochs = 100,\n",
    "                n_folds=3,\n",
    "                cell_line=cell_line,\n",
    "                augmentation=False,\n",
    "                model = model,\n",
    "                device = device,\n",
    "                task=task,\n",
    "                sampler = 'TPE',\n",
    "                study_name = f'{cell_line}_{task}_{model.__name__}',\n",
    "                test_model_path = f'{cell_line}_{task}_{model.__name__}_TEST')"
   ]
  },
  {
   "cell_type": "code",
   "execution_count": null,
   "metadata": {},
   "outputs": [],
   "source": [
    "results_dict[cell_line][task][model.__name__] = kf_CV.scores_dict"
   ]
  },
  {
   "cell_type": "code",
   "execution_count": null,
   "metadata": {},
   "outputs": [],
   "source": [
    "with open ('results_dict.pickle', 'wb') as fout:\n",
    "    pickle.dump(OrderedDict(results_dict), fout)"
   ]
  },
  {
   "cell_type": "markdown",
   "metadata": {},
   "source": [
    "### CONCATNET"
   ]
  },
  {
   "cell_type": "code",
   "execution_count": null,
   "metadata": {},
   "outputs": [],
   "source": [
    "model=ConcatNetMultimodal"
   ]
  },
  {
   "cell_type": "code",
   "execution_count": null,
   "metadata": {
    "scrolled": true
   },
   "outputs": [],
   "source": [
    "kf_CV = Kfold_CV_Multimodal()\n",
    "\n",
    "kf_CV(build_dataloader_pipeline = pipe_data_load,\n",
    "                num_epochs = 100,\n",
    "                n_folds=3,\n",
    "                cell_line=cell_line,\n",
    "                augmentation=False,\n",
    "                model = model,\n",
    "                device = device,\n",
    "                task=task,\n",
    "                sampler = 'TPE',\n",
    "                study_name = f'{cell_line}_{task}_{model.__name__}',\n",
    "                test_model_path = f'{cell_line}_{task}_{model.__name__}_TEST')"
   ]
  },
  {
   "cell_type": "code",
   "execution_count": null,
   "metadata": {},
   "outputs": [],
   "source": [
    "results_dict[cell_line][task][model.__name__] = kf_CV.scores_dict"
   ]
  },
  {
   "cell_type": "code",
   "execution_count": null,
   "metadata": {},
   "outputs": [],
   "source": [
    "with open ('results_dict.pickle', 'wb') as fout:\n",
    "    pickle.dump(OrderedDict(results_dict), fout)"
   ]
  },
  {
   "cell_type": "markdown",
   "metadata": {},
   "source": [
    "---"
   ]
  },
  {
   "cell_type": "markdown",
   "metadata": {},
   "source": [
    "## 5) ACTIVE ENHANCERS + ACTIVE PROMOTERS vs INACTIVE REST"
   ]
  },
  {
   "cell_type": "code",
   "execution_count": null,
   "metadata": {},
   "outputs": [],
   "source": [
    "task = TASKS[4]\n",
    "task"
   ]
  },
  {
   "cell_type": "code",
   "execution_count": null,
   "metadata": {},
   "outputs": [],
   "source": [
    "pipe_data_load = Build_DataLoader_Pipeline(path_name=f'{task}.pickle')"
   ]
  },
  {
   "cell_type": "markdown",
   "metadata": {},
   "source": [
    "---\n",
    "### EMBRACENET"
   ]
  },
  {
   "cell_type": "code",
   "execution_count": null,
   "metadata": {},
   "outputs": [],
   "source": [
    "model=EmbraceNetMultimodal"
   ]
  },
  {
   "cell_type": "code",
   "execution_count": null,
   "metadata": {
    "scrolled": true
   },
   "outputs": [],
   "source": [
    "kf_CV = Kfold_CV_Multimodal()\n",
    "\n",
    "kf_CV(build_dataloader_pipeline = pipe_data_load,\n",
    "                num_epochs = 100,\n",
    "                n_folds=3,\n",
    "                cell_line=cell_line,\n",
    "                augmentation=False,\n",
    "                model = model,\n",
    "                device = device,\n",
    "                task=task,\n",
    "                sampler = 'TPE',\n",
    "                study_name = f'{cell_line}_{task}_{model.__name__}',\n",
    "                test_model_path = f'{cell_line}_{task}_{model.__name__}_TEST')"
   ]
  },
  {
   "cell_type": "code",
   "execution_count": null,
   "metadata": {},
   "outputs": [],
   "source": [
    "results_dict[cell_line][task][model.__name__] = kf_CV.scores_dict"
   ]
  },
  {
   "cell_type": "code",
   "execution_count": null,
   "metadata": {},
   "outputs": [],
   "source": [
    "with open ('results_dict.pickle', 'wb') as fout:\n",
    "    pickle.dump(OrderedDict(results_dict), fout)"
   ]
  },
  {
   "cell_type": "markdown",
   "metadata": {},
   "source": [
    "### CONCATNET"
   ]
  },
  {
   "cell_type": "code",
   "execution_count": null,
   "metadata": {},
   "outputs": [],
   "source": [
    "model=ConcatNetMultimodal"
   ]
  },
  {
   "cell_type": "code",
   "execution_count": null,
   "metadata": {
    "scrolled": true
   },
   "outputs": [],
   "source": [
    "kf_CV = Kfold_CV_Multimodal()\n",
    "\n",
    "kf_CV(build_dataloader_pipeline = pipe_data_load,\n",
    "                num_epochs = 100,\n",
    "                n_folds=3,\n",
    "                cell_line=cell_line,\n",
    "                augmentation=False,\n",
    "                model = model,\n",
    "                device = device,\n",
    "                task=task,\n",
    "                sampler = 'TPE',\n",
    "                study_name = f'{cell_line}_{task}_{model.__name__}',\n",
    "                test_model_path = f'{cell_line}_{task}_{model.__name__}_TEST')"
   ]
  },
  {
   "cell_type": "code",
   "execution_count": null,
   "metadata": {},
   "outputs": [],
   "source": [
    "results_dict[cell_line][task][model.__name__] = kf_CV.scores_dict"
   ]
  },
  {
   "cell_type": "code",
   "execution_count": null,
   "metadata": {},
   "outputs": [],
   "source": [
    "with open ('results_dict.pickle', 'wb') as fout:\n",
    "    pickle.dump(OrderedDict(results_dict), fout)"
   ]
  },
  {
   "cell_type": "markdown",
   "metadata": {},
   "source": [
    "---"
   ]
  },
  {
   "cell_type": "code",
   "execution_count": null,
   "metadata": {},
   "outputs": [],
   "source": [
    "from BIOINF_tesi.models.utils import plot_scores\n",
    "plot_scores(cells=cell_line, models=['EmbraceNetMultimodal'])"
   ]
  },
  {
   "cell_type": "code",
   "execution_count": null,
   "metadata": {},
   "outputs": [],
   "source": [
    "plot_scores(cells=cell_line)"
   ]
  },
  {
   "cell_type": "code",
   "execution_count": null,
   "metadata": {},
   "outputs": [],
   "source": []
  },
  {
   "cell_type": "code",
   "execution_count": null,
   "metadata": {},
   "outputs": [],
   "source": []
  }
 ],
 "metadata": {
  "environment": {
   "name": "pytorch-gpu.1-9.m79",
   "type": "gcloud",
   "uri": "gcr.io/deeplearning-platform-release/pytorch-gpu.1-9:m79"
  },
  "kernelspec": {
   "display_name": "Python 3",
   "language": "python",
   "name": "python3"
  },
  "language_info": {
   "codemirror_mode": {
    "name": "ipython",
    "version": 3
   },
   "file_extension": ".py",
   "mimetype": "text/x-python",
   "name": "python",
   "nbconvert_exporter": "python",
   "pygments_lexer": "ipython3",
   "version": "3.8.8"
  }
 },
 "nbformat": 4,
 "nbformat_minor": 4
}
