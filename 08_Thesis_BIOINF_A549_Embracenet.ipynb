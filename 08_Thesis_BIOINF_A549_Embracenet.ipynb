{
 "cells": [
  {
   "cell_type": "markdown",
   "metadata": {
    "id": "zqpqu8UJFySp"
   },
   "source": [
    "## BIOINFORMATICS THESIS: MULTIMODAL NEURAL NETWORK"
   ]
  },
  {
   "cell_type": "markdown",
   "metadata": {},
   "source": [
    "# CELL LINE: A549\n",
    "# EMBRACENET"
   ]
  },
  {
   "cell_type": "markdown",
   "metadata": {},
   "source": [
    "da fare \n",
    "- sistema selezione augmentation in embracenet\n",
    "- crea grafici AUPRC reti"
   ]
  },
  {
   "cell_type": "code",
   "execution_count": null,
   "metadata": {},
   "outputs": [],
   "source": []
  },
  {
   "cell_type": "code",
   "execution_count": 12,
   "metadata": {},
   "outputs": [],
   "source": [
    "import pandas as pd \n",
    "import numpy as np\n",
    "import os\n",
    "\n",
    "import torch\n",
    "import torch.nn.functional as F\n",
    "from torch.utils.data import Dataset, DataLoader\n",
    "import torch.nn as nn\n",
    "import torch.optim as optim\n",
    "from collections import defaultdict, OrderedDict\n",
    "import pickle\n",
    "\n",
    "import sqlite3\n",
    "from sqlalchemy import create_engine\n",
    "\n",
    "device = 'cuda' if torch.cuda.is_available() else 'cpu'"
   ]
  },
  {
   "cell_type": "code",
   "execution_count": 13,
   "metadata": {},
   "outputs": [],
   "source": [
    "#!rm BIOINF_optuna_tuning.db"
   ]
  },
  {
   "cell_type": "code",
   "execution_count": 14,
   "metadata": {},
   "outputs": [],
   "source": [
    "# create a database to store optuna studies with sqlite backendù\n",
    "#engine = create_engine('sqlite:///BIOINF_optuna_tuning.db')"
   ]
  },
  {
   "cell_type": "code",
   "execution_count": 15,
   "metadata": {},
   "outputs": [],
   "source": [
    "from BIOINF_tesi.data_pipe import CELL_LINES, TASKS"
   ]
  },
  {
   "cell_type": "code",
   "execution_count": 16,
   "metadata": {},
   "outputs": [
    {
     "data": {
      "text/plain": [
       "'A549'"
      ]
     },
     "execution_count": 16,
     "metadata": {},
     "output_type": "execute_result"
    }
   ],
   "source": [
    "cell_line = CELL_LINES[0]\n",
    "cell_line"
   ]
  },
  {
   "cell_type": "markdown",
   "metadata": {},
   "source": [
    "---"
   ]
  },
  {
   "cell_type": "code",
   "execution_count": 17,
   "metadata": {},
   "outputs": [],
   "source": [
    "from BIOINF_tesi.data_pipe import Build_DataLoader_Pipeline\n",
    "from BIOINF_tesi.models import EmbraceNetMultimodal, ConcatNetMultimodal\n",
    "from BIOINF_tesi.models.utils import Kfold_CV_Multimodal"
   ]
  },
  {
   "cell_type": "raw",
   "metadata": {},
   "source": [
    "def dd():\n",
    "    return defaultdict(dict)\n",
    "    \n",
    "results_dict = defaultdict(dd)"
   ]
  },
  {
   "cell_type": "code",
   "execution_count": 18,
   "metadata": {},
   "outputs": [],
   "source": [
    "with open ('results_dict.pickle', 'rb') as fin:\n",
    "    results_dict = pickle.load(fin)\n",
    "    results_dict = defaultdict(lambda: defaultdict(dict), results_dict)"
   ]
  },
  {
   "cell_type": "markdown",
   "metadata": {},
   "source": [
    "---"
   ]
  },
  {
   "cell_type": "code",
   "execution_count": 8,
   "metadata": {},
   "outputs": [
    {
     "name": "stdout",
     "output_type": "stream",
     "text": [
      "\n",
      "A549\n",
      "active_E_vs_inactive_E\n",
      "pvalue: 0.27523352407483426\n",
      "Best augmentation method: smote\n",
      "\n",
      "A549\n",
      "active_EP_vs_inactive_rest\n",
      "pvalue: 0.8272593465627113\n",
      "Best augmentation method: smote\n",
      "\n",
      "H1\n",
      "active_E_vs_inactive_E\n",
      "pvalue: 0.8272593465627113\n",
      "Best augmentation method: smote\n",
      "\n",
      "K562\n",
      "active_E_vs_inactive_E\n",
      "pvalue: 0.8272593465627113\n",
      "Best augmentation method: smote\n",
      "\n",
      "MCF7\n",
      "active_E_vs_inactive_E\n",
      "pvalue: 0.5126907602619233\n",
      "Best augmentation method: smote\n"
     ]
    }
   ],
   "source": [
    "from BIOINF_tesi.models.utils import select_augmented_models\n",
    "results_dict = select_augmented_models(results_dict, verbose=True)"
   ]
  },
  {
   "cell_type": "code",
   "execution_count": 9,
   "metadata": {},
   "outputs": [],
   "source": [
    "with open ('results_dict.pickle', 'wb') as fout:\n",
    "    pickle.dump(OrderedDict(results_dict), fout)"
   ]
  },
  {
   "cell_type": "markdown",
   "metadata": {},
   "source": [
    "## 1) ACTIVE ENHANCERS vs INACTIVE ENHANCERS"
   ]
  },
  {
   "cell_type": "code",
   "execution_count": 19,
   "metadata": {},
   "outputs": [],
   "source": [
    "task = TASKS[0]"
   ]
  },
  {
   "cell_type": "code",
   "execution_count": 20,
   "metadata": {},
   "outputs": [
    {
     "name": "stdout",
     "output_type": "stream",
     "text": [
      "Data Preprocessing Done!\n"
     ]
    }
   ],
   "source": [
    "pipe_data_load = Build_DataLoader_Pipeline(path_name=f'{task}.pickle')"
   ]
  },
  {
   "cell_type": "markdown",
   "metadata": {},
   "source": [
    "---\n",
    "### EMBRACENET"
   ]
  },
  {
   "cell_type": "code",
   "execution_count": 12,
   "metadata": {},
   "outputs": [],
   "source": [
    "model=EmbraceNetMultimodal"
   ]
  },
  {
   "cell_type": "code",
   "execution_count": 13,
   "metadata": {
    "scrolled": true
   },
   "outputs": [
    {
     "name": "stdout",
     "output_type": "stream",
     "text": [
      ">>> ITERATION N. 1\n",
      "\n",
      "===============> HYPERPARAMETERS TUNING\n"
     ]
    },
    {
     "name": "stderr",
     "output_type": "stream",
     "text": [
      "/Users/Niki/Prediction-of-Active-and-Inactive-Regulatory-Regions-with-Embracenet-Multimodal-Neural-Network-/BIOINF_tesi/models/utils/training_models_multimodal.py:425: ExperimentalWarning: PatientPruner is experimental (supported from v2.8.0). The interface can change in the future.\n",
      "  pruner=optuna.pruners.PatientPruner(optuna.pruners.MedianPruner(), patience=2),\n",
      "\u001b[32m[I 2021-10-26 09:37:48,296]\u001b[0m Using an existing study with name 'A549_active_E_vs_inactive_E_EmbraceNetMultimodal_1' instead of creating a new one.\u001b[0m\n",
      "/opt/anaconda3/lib/python3.8/site-packages/optuna/structs.py:18: FutureWarning: `structs` is deprecated. Classes have moved to the following modules. `structs.StudyDirection`->`study.StudyDirection`, `structs.StudySummary`->`study.StudySummary`, `structs.FrozenTrial`->`trial.FrozenTrial`, `structs.TrialState`->`trial.TrialState`, `structs.TrialPruned`->`exceptions.TrialPruned`.\n",
      "  warnings.warn(_message, FutureWarning)\n"
     ]
    },
    {
     "name": "stdout",
     "output_type": "stream",
     "text": [
      "Study statistics: \n",
      "  Number of finished trials:  4\n",
      "  Number of pruned trials:  0\n",
      "  Number of complete trials:  3\n",
      "Best trial:\n",
      "  Value:  0.06860841665007981\n",
      "  Params: \n",
      "    CNN_dropout_l0: 0.2\n",
      "    CNN_dropout_l1: 0\n",
      "    CNN_kernel_size_l0: 11\n",
      "    CNN_kernel_size_l1: 11\n",
      "    CNN_n_layers: 2\n",
      "    CNN_out_channels_l0: 64\n",
      "    CNN_out_channels_l1: 64\n",
      "    EMBRACENET_embracement_size: 768\n",
      "    FFNN_dropout_l0: 0.2\n",
      "    FFNN_dropout_l1: 0.4\n",
      "    FFNN_dropout_l2: 0.0\n",
      "    FFNN_n_layers: 3\n",
      "    FFNN_n_units_l0: 128\n",
      "    FFNN_n_units_l1: 32\n",
      "    FFNN_n_units_l2: 4\n",
      "    lr: 7.930231039124529e-05\n",
      "    n_post_layers: 0\n",
      "    optimizer: Adam\n",
      "    selection_probabilities_FFNN: 0.6687371983512395\n",
      "    weight_decay: 0.001296473136100864\n",
      "\n",
      "===============> MODEL TESTING\n",
      "AUPRC test score: 0.07622519432321463\n",
      "\n",
      "\n",
      ">>> ITERATION N. 2\n",
      "\n",
      "===============> HYPERPARAMETERS TUNING\n"
     ]
    },
    {
     "name": "stderr",
     "output_type": "stream",
     "text": [
      "/Users/Niki/Prediction-of-Active-and-Inactive-Regulatory-Regions-with-Embracenet-Multimodal-Neural-Network-/BIOINF_tesi/models/utils/training_models_multimodal.py:425: ExperimentalWarning: PatientPruner is experimental (supported from v2.8.0). The interface can change in the future.\n",
      "  pruner=optuna.pruners.PatientPruner(optuna.pruners.MedianPruner(), patience=2),\n",
      "\u001b[32m[I 2021-10-26 09:37:48,998]\u001b[0m Using an existing study with name 'A549_active_E_vs_inactive_E_EmbraceNetMultimodal_1_2' instead of creating a new one.\u001b[0m\n"
     ]
    },
    {
     "name": "stdout",
     "output_type": "stream",
     "text": [
      "Study statistics: \n",
      "  Number of finished trials:  3\n",
      "  Number of pruned trials:  0\n",
      "  Number of complete trials:  3\n",
      "Best trial:\n",
      "  Value:  0.06850557784120659\n",
      "  Params: \n",
      "    CNN_dropout_l0: 0.4\n",
      "    CNN_dropout_l1: 0\n",
      "    CNN_kernel_size_l0: 11\n",
      "    CNN_kernel_size_l1: 5\n",
      "    CNN_n_layers: 2\n",
      "    CNN_out_channels_l0: 32\n",
      "    CNN_out_channels_l1: 64\n",
      "    EMBRACENET_dropout_l0: 0.2\n",
      "    EMBRACENET_embracement_size: 768\n",
      "    EMBRACENET_n_units_l0: 64\n",
      "    FFNN_dropout_l0: 0.0\n",
      "    FFNN_dropout_l1: 0.3\n",
      "    FFNN_n_layers: 2\n",
      "    FFNN_n_units_l0: 32\n",
      "    FFNN_n_units_l1: 128\n",
      "    lr: 2.0351213717496187e-05\n",
      "    n_post_layers: 1\n",
      "    optimizer: RMSprop\n",
      "    selection_probabilities_FFNN: 0.3663143033951972\n",
      "    weight_decay: 0.022791422060485515\n",
      "\n",
      "===============> MODEL TESTING\n",
      "AUPRC test score: 0.06813198456182167\n",
      "\n",
      "\n",
      ">>> ITERATION N. 3\n",
      "\n",
      "===============> HYPERPARAMETERS TUNING\n"
     ]
    },
    {
     "name": "stderr",
     "output_type": "stream",
     "text": [
      "/Users/Niki/Prediction-of-Active-and-Inactive-Regulatory-Regions-with-Embracenet-Multimodal-Neural-Network-/BIOINF_tesi/models/utils/training_models_multimodal.py:425: ExperimentalWarning: PatientPruner is experimental (supported from v2.8.0). The interface can change in the future.\n",
      "  pruner=optuna.pruners.PatientPruner(optuna.pruners.MedianPruner(), patience=2),\n",
      "\u001b[32m[I 2021-10-26 09:37:49,652]\u001b[0m Using an existing study with name 'A549_active_E_vs_inactive_E_EmbraceNetMultimodal_1_2_3' instead of creating a new one.\u001b[0m\n"
     ]
    },
    {
     "name": "stdout",
     "output_type": "stream",
     "text": [
      "Study statistics: \n",
      "  Number of finished trials:  3\n",
      "  Number of pruned trials:  0\n",
      "  Number of complete trials:  3\n",
      "Best trial:\n",
      "  Value:  0.11884563542743685\n",
      "  Params: \n",
      "    CNN_dropout_l0: 0.4\n",
      "    CNN_dropout_l1: 0.4\n",
      "    CNN_dropout_l2: 0\n",
      "    CNN_kernel_size_l0: 11\n",
      "    CNN_kernel_size_l1: 15\n",
      "    CNN_kernel_size_l2: 15\n",
      "    CNN_n_layers: 3\n",
      "    CNN_out_channels_l0: 32\n",
      "    CNN_out_channels_l1: 32\n",
      "    CNN_out_channels_l2: 64\n",
      "    EMBRACENET_embracement_size: 768\n",
      "    FFNN_dropout_l0: 0.0\n",
      "    FFNN_dropout_l1: 0.4\n",
      "    FFNN_dropout_l2: 0.0\n",
      "    FFNN_n_layers: 3\n",
      "    FFNN_n_units_l0: 32\n",
      "    FFNN_n_units_l1: 16\n",
      "    FFNN_n_units_l2: 16\n",
      "    lr: 0.009305526103875358\n",
      "    n_post_layers: 0\n",
      "    optimizer: RMSprop\n",
      "    selection_probabilities_FFNN: 0.4410524982384807\n",
      "    weight_decay: 0.0004895293285311643\n",
      "\n",
      "===============> MODEL TESTING\n",
      "AUPRC test score: 0.1346804268038381\n",
      "\n",
      "\n",
      "\n",
      "3-FOLD CROSS-VALIDATION AUPRC TEST SCORE: 0.09301\n"
     ]
    }
   ],
   "source": [
    "# IMBALANCED \n",
    "kf_CV = Kfold_CV_Multimodal()\n",
    "\n",
    "kf_CV(build_dataloader_pipeline = pipe_data_load,\n",
    "                num_epochs = 100,\n",
    "                n_folds=3,\n",
    "                cell_line=cell_line,\n",
    "                augmentation=False,\n",
    "                model = model,\n",
    "                device = device,\n",
    "                task=task,\n",
    "                sampler = 'TPE',\n",
    "                study_name = f'{cell_line}_{task}_{model.__name__}',\n",
    "                test_model_path = f'{cell_line}_{task}_{model.__name__}_TEST')"
   ]
  },
  {
   "cell_type": "code",
   "execution_count": 14,
   "metadata": {},
   "outputs": [],
   "source": [
    "results_dict[cell_line][task][model.__name__] = kf_CV.scores_dict"
   ]
  },
  {
   "cell_type": "code",
   "execution_count": 15,
   "metadata": {},
   "outputs": [],
   "source": [
    "with open ('results_dict.pickle', 'wb') as fout:\n",
    "    pickle.dump(OrderedDict(results_dict), fout)"
   ]
  },
  {
   "cell_type": "markdown",
   "metadata": {},
   "source": [
    "### CONCATNET"
   ]
  },
  {
   "cell_type": "code",
   "execution_count": 10,
   "metadata": {},
   "outputs": [],
   "source": [
    "model=ConcatNetMultimodal"
   ]
  },
  {
   "cell_type": "code",
   "execution_count": 12,
   "metadata": {
    "scrolled": true
   },
   "outputs": [
    {
     "name": "stdout",
     "output_type": "stream",
     "text": [
      ">>> ITERATION N. 1\n",
      "\n",
      "===============> HYPERPARAMETERS TUNING\n"
     ]
    },
    {
     "name": "stderr",
     "output_type": "stream",
     "text": [
      "/Users/Niki/Prediction-of-Active-and-Inactive-Regulatory-Regions-with-Embracenet-Multimodal-Neural-Network-/BIOINF_tesi/models/utils/training_models_multimodal.py:425: ExperimentalWarning: PatientPruner is experimental (supported from v2.8.0). The interface can change in the future.\n",
      "  pruner=optuna.pruners.PatientPruner(optuna.pruners.MedianPruner(), patience=2),\n",
      "\u001b[32m[I 2021-10-27 13:16:35,015]\u001b[0m Using an existing study with name 'A549_active_E_vs_inactive_E_ConcatNetMultimodal_1' instead of creating a new one.\u001b[0m\n"
     ]
    },
    {
     "name": "stdout",
     "output_type": "stream",
     "text": [
      "Study statistics: \n",
      "  Number of finished trials:  3\n",
      "  Number of pruned trials:  0\n",
      "  Number of complete trials:  3\n",
      "Best trial:\n",
      "  Value:  0.07344748764083897\n",
      "  Params: \n",
      "    CNN_dropout_l0: 0\n",
      "    CNN_dropout_l1: 0.5\n",
      "    CNN_kernel_size_l0: 11\n",
      "    CNN_kernel_size_l1: 15\n",
      "    CNN_n_layers: 2\n",
      "    CNN_out_channels_l0: 16\n",
      "    CNN_out_channels_l1: 96\n",
      "    CONCATNET_dropout_l0: 0.5\n",
      "    CONCATNET_dropout_l1: 0.5\n",
      "    CONCATNET_dropout_l2: 0.3\n",
      "    CONCATNET_n_post_layers: 3\n",
      "    CONCATNET_n_units_l0: 768\n",
      "    CONCATNET_n_units_l1: 512\n",
      "    CONCATNET_n_units_l2: 16\n",
      "    FFNN_dropout_l0: 0.3\n",
      "    FFNN_n_layers: 1\n",
      "    FFNN_n_units_l0: 32\n",
      "    lr: 3.204157946639325e-05\n",
      "    optimizer: RMSprop\n",
      "    weight_decay: 0.025835542717947593\n",
      "\n",
      "===============> MODEL TESTING\n",
      "AUPRC test score: 0.07408247916813582\n",
      "\n",
      "\n",
      ">>> ITERATION N. 2\n",
      "\n",
      "===============> HYPERPARAMETERS TUNING\n"
     ]
    },
    {
     "name": "stderr",
     "output_type": "stream",
     "text": [
      "/Users/Niki/Prediction-of-Active-and-Inactive-Regulatory-Regions-with-Embracenet-Multimodal-Neural-Network-/BIOINF_tesi/models/utils/training_models_multimodal.py:425: ExperimentalWarning: PatientPruner is experimental (supported from v2.8.0). The interface can change in the future.\n",
      "  pruner=optuna.pruners.PatientPruner(optuna.pruners.MedianPruner(), patience=2),\n",
      "\u001b[32m[I 2021-10-27 13:16:35,828]\u001b[0m Using an existing study with name 'A549_active_E_vs_inactive_E_ConcatNetMultimodal_1_2' instead of creating a new one.\u001b[0m\n"
     ]
    },
    {
     "name": "stdout",
     "output_type": "stream",
     "text": [
      "Study statistics: \n",
      "  Number of finished trials:  4\n",
      "  Number of pruned trials:  0\n",
      "  Number of complete trials:  3\n",
      "Best trial:\n",
      "  Value:  0.07557327895603809\n",
      "  Params: \n",
      "    CNN_dropout_l0: 0.2\n",
      "    CNN_dropout_l1: 0.5\n",
      "    CNN_kernel_size_l0: 5\n",
      "    CNN_kernel_size_l1: 5\n",
      "    CNN_n_layers: 2\n",
      "    CNN_out_channels_l0: 16\n",
      "    CNN_out_channels_l1: 64\n",
      "    CONCATNET_dropout_l0: 0.3\n",
      "    CONCATNET_n_post_layers: 1\n",
      "    CONCATNET_n_units_l0: 512\n",
      "    FFNN_dropout_l0: 0.0\n",
      "    FFNN_dropout_l1: 0.0\n",
      "    FFNN_dropout_l2: 0.5\n",
      "    FFNN_dropout_l3: 0.4\n",
      "    FFNN_n_layers: 4\n",
      "    FFNN_n_units_l0: 64\n",
      "    FFNN_n_units_l1: 32\n",
      "    FFNN_n_units_l2: 64\n",
      "    FFNN_n_units_l3: 32\n",
      "    lr: 0.0003971235731314169\n",
      "    optimizer: Adam\n",
      "    weight_decay: 0.00015744298427176307\n",
      "\n",
      "===============> MODEL TESTING\n",
      "AUPRC test score: 0.0749332295576971\n",
      "\n",
      "\n",
      ">>> ITERATION N. 3\n",
      "\n",
      "===============> HYPERPARAMETERS TUNING\n"
     ]
    },
    {
     "name": "stderr",
     "output_type": "stream",
     "text": [
      "/Users/Niki/Prediction-of-Active-and-Inactive-Regulatory-Regions-with-Embracenet-Multimodal-Neural-Network-/BIOINF_tesi/models/utils/training_models_multimodal.py:425: ExperimentalWarning: PatientPruner is experimental (supported from v2.8.0). The interface can change in the future.\n",
      "  pruner=optuna.pruners.PatientPruner(optuna.pruners.MedianPruner(), patience=2),\n",
      "\u001b[32m[I 2021-10-27 13:16:36,408]\u001b[0m Using an existing study with name 'A549_active_E_vs_inactive_E_ConcatNetMultimodal_1_2_3' instead of creating a new one.\u001b[0m\n"
     ]
    },
    {
     "name": "stdout",
     "output_type": "stream",
     "text": [
      "Study statistics: \n",
      "  Number of finished trials:  3\n",
      "  Number of pruned trials:  0\n",
      "  Number of complete trials:  3\n",
      "Best trial:\n",
      "  Value:  0.07359701629631013\n",
      "  Params: \n",
      "    CNN_dropout_l0: 0.4\n",
      "    CNN_dropout_l1: 0.5\n",
      "    CNN_kernel_size_l0: 11\n",
      "    CNN_kernel_size_l1: 11\n",
      "    CNN_n_layers: 2\n",
      "    CNN_out_channels_l0: 32\n",
      "    CNN_out_channels_l1: 96\n",
      "    CONCATNET_dropout_l0: 0.2\n",
      "    CONCATNET_dropout_l1: 0.2\n",
      "    CONCATNET_n_post_layers: 2\n",
      "    CONCATNET_n_units_l0: 512\n",
      "    CONCATNET_n_units_l1: 512\n",
      "    FFNN_dropout_l0: 0.0\n",
      "    FFNN_n_layers: 1\n",
      "    FFNN_n_units_l0: 128\n",
      "    lr: 0.0012422128950644589\n",
      "    optimizer: RMSprop\n",
      "    weight_decay: 0.0079448155513396\n",
      "\n",
      "===============> MODEL TESTING\n",
      "AUPRC test score: 0.07891896085028886\n",
      "\n",
      "\n",
      "\n",
      "3-FOLD CROSS-VALIDATION AUPRC TEST SCORE: 0.07598\n"
     ]
    }
   ],
   "source": [
    "# IMBALANCED \n",
    "kf_CV = Kfold_CV_Multimodal()\n",
    "\n",
    "kf_CV(build_dataloader_pipeline = pipe_data_load,\n",
    "                num_epochs = 100,\n",
    "                n_folds=3,\n",
    "                cell_line=cell_line,\n",
    "                augmentation=False,\n",
    "                model = model,\n",
    "                device = device,\n",
    "                task=task,\n",
    "                sampler = 'TPE',\n",
    "                study_name = f'{cell_line}_{task}_{model.__name__}',\n",
    "                test_model_path = f'{cell_line}_{task}_{model.__name__}_TEST')"
   ]
  },
  {
   "cell_type": "code",
   "execution_count": 13,
   "metadata": {},
   "outputs": [],
   "source": [
    "results_dict[cell_line][task][model.__name__] = kf_CV.scores_dict"
   ]
  },
  {
   "cell_type": "code",
   "execution_count": 14,
   "metadata": {},
   "outputs": [],
   "source": [
    "with open ('results_dict.pickle', 'wb') as fout:\n",
    "    pickle.dump(OrderedDict(results_dict), fout)"
   ]
  },
  {
   "cell_type": "markdown",
   "metadata": {},
   "source": [
    "---\n",
    "## AUGMENTATION"
   ]
  },
  {
   "cell_type": "markdown",
   "metadata": {},
   "source": [
    "### EMBRACENET"
   ]
  },
  {
   "cell_type": "code",
   "execution_count": 21,
   "metadata": {},
   "outputs": [],
   "source": [
    "model=EmbraceNetMultimodal"
   ]
  },
  {
   "cell_type": "code",
   "execution_count": 22,
   "metadata": {},
   "outputs": [
    {
     "name": "stdout",
     "output_type": "stream",
     "text": [
      ">>> ITERATION N. 1\n",
      "\n",
      "===============> HYPERPARAMETERS TUNING\n"
     ]
    },
    {
     "name": "stderr",
     "output_type": "stream",
     "text": [
      "/opt/anaconda3/lib/python3.8/site-packages/imblearn/utils/_validation.py:299: UserWarning: After over-sampling, the number of samples (33000) in class 0 will be larger than the number of samples in the majority class (class #0 -> 26476)\n",
      "  warnings.warn(\n",
      "/Users/Niki/Prediction-of-Active-and-Inactive-Regulatory-Regions-with-Embracenet-Multimodal-Neural-Network-/BIOINF_tesi/models/utils/training_models_multimodal.py:425: ExperimentalWarning: PatientPruner is experimental (supported from v2.8.0). The interface can change in the future.\n",
      "  pruner=optuna.pruners.PatientPruner(optuna.pruners.MedianPruner(), patience=2),\n",
      "\u001b[32m[I 2021-10-29 11:31:47,083]\u001b[0m A new study created in RDB with name: A549_active_E_vs_inactive_E_EmbraceNetMultimodal_1augmentation\u001b[0m\n"
     ]
    },
    {
     "data": {
      "application/vnd.jupyter.widget-view+json": {
       "model_id": "d1d881e264af4abda4aac628c0dee08a",
       "version_major": 2,
       "version_minor": 0
      },
      "text/plain": [
       "Epochs:   0%|          | 0/100 [00:00<?, ?it/s]"
      ]
     },
     "metadata": {},
     "output_type": "display_data"
    },
    {
     "name": "stdout",
     "output_type": "stream",
     "text": [
      "EarlyStopping counter: 1 out of 4\n",
      "EarlyStopping counter: 2 out of 4\n",
      "EarlyStopping counter: 1 out of 4\n",
      "EarlyStopping counter: 2 out of 4\n",
      "EarlyStopping counter: 3 out of 4\n"
     ]
    },
    {
     "name": "stderr",
     "output_type": "stream",
     "text": [
      "\u001b[32m[I 2021-10-29 11:52:29,322]\u001b[0m Trial 0 finished with value: 0.06642555923579069 and parameters: {'FFNN_n_layers': 3, 'FFNN_n_units_l0': 32, 'FFNN_dropout_l0': 0.3, 'FFNN_n_units_l1': 16, 'FFNN_dropout_l1': 0.4, 'FFNN_n_units_l2': 16, 'FFNN_dropout_l2': 0.0, 'CNN_n_layers': 2, 'CNN_out_channels_l0': 64, 'CNN_kernel_size_l0': 15, 'CNN_dropout_l0': 0.2, 'CNN_out_channels_l1': 32, 'CNN_kernel_size_l1': 15, 'CNN_dropout_l1': 0.5, 'EMBRACENET_embracement_size': 512, 'n_post_layers': 0, 'selection_probabilities_FFNN': 0.5784523087676721, 'optimizer': 'Nadam', 'lr': 0.00018749315176932744, 'weight_decay': 0.010203699425800431}. Best is trial 0 with value: 0.06642555923579069.\u001b[0m\n"
     ]
    },
    {
     "name": "stdout",
     "output_type": "stream",
     "text": [
      "EarlyStopping counter: 4 out of 4\n",
      "Early stopping the training\n"
     ]
    },
    {
     "data": {
      "application/vnd.jupyter.widget-view+json": {
       "model_id": "4141b0d370dd4051a98549aa7fb56ab2",
       "version_major": 2,
       "version_minor": 0
      },
      "text/plain": [
       "Epochs:   0%|          | 0/100 [00:00<?, ?it/s]"
      ]
     },
     "metadata": {},
     "output_type": "display_data"
    },
    {
     "name": "stdout",
     "output_type": "stream",
     "text": [
      "EarlyStopping counter: 1 out of 4\n",
      "EarlyStopping counter: 1 out of 4\n",
      "EarlyStopping counter: 2 out of 4\n",
      "EarlyStopping counter: 3 out of 4\n"
     ]
    },
    {
     "name": "stderr",
     "output_type": "stream",
     "text": [
      "\u001b[32m[I 2021-10-29 12:12:58,906]\u001b[0m Trial 1 finished with value: 0.06798012370829565 and parameters: {'FFNN_n_layers': 2, 'FFNN_n_units_l0': 256, 'FFNN_dropout_l0': 0.4, 'FFNN_n_units_l1': 64, 'FFNN_dropout_l1': 0.4, 'CNN_n_layers': 1, 'CNN_out_channels_l0': 64, 'CNN_kernel_size_l0': 15, 'CNN_dropout_l0': 0.4, 'EMBRACENET_embracement_size': 768, 'n_post_layers': 0, 'selection_probabilities_FFNN': 0.3535954601529496, 'optimizer': 'Adam', 'lr': 0.02177581181909669, 'weight_decay': 0.025146694289480204}. Best is trial 1 with value: 0.06798012370829565.\u001b[0m\n"
     ]
    },
    {
     "name": "stdout",
     "output_type": "stream",
     "text": [
      "EarlyStopping counter: 4 out of 4\n",
      "Early stopping the training\n"
     ]
    },
    {
     "data": {
      "application/vnd.jupyter.widget-view+json": {
       "model_id": "d60c7348796c4a2db08bdd5ad8614a3d",
       "version_major": 2,
       "version_minor": 0
      },
      "text/plain": [
       "Epochs:   0%|          | 0/100 [00:00<?, ?it/s]"
      ]
     },
     "metadata": {},
     "output_type": "display_data"
    },
    {
     "name": "stderr",
     "output_type": "stream",
     "text": [
      "/opt/anaconda3/lib/python3.8/site-packages/sklearn/metrics/_ranking.py:817: RuntimeWarning: invalid value encountered in true_divide\n",
      "  recall = tps / tps[-1]\n"
     ]
    },
    {
     "name": "stdout",
     "output_type": "stream",
     "text": [
      "EarlyStopping counter: 1 out of 4\n",
      "EarlyStopping counter: 1 out of 4\n",
      "EarlyStopping counter: 2 out of 4\n",
      "EarlyStopping counter: 3 out of 4\n"
     ]
    },
    {
     "name": "stderr",
     "output_type": "stream",
     "text": [
      "\u001b[32m[I 2021-10-29 12:44:39,461]\u001b[0m Trial 2 finished with value: 0.12280446632579003 and parameters: {'FFNN_n_layers': 2, 'FFNN_n_units_l0': 128, 'FFNN_dropout_l0': 0.3, 'FFNN_n_units_l1': 64, 'FFNN_dropout_l1': 0.4, 'CNN_n_layers': 4, 'CNN_out_channels_l0': 32, 'CNN_kernel_size_l0': 5, 'CNN_dropout_l0': 0, 'CNN_out_channels_l1': 32, 'CNN_kernel_size_l1': 5, 'CNN_dropout_l1': 0, 'CNN_out_channels_l2': 128, 'CNN_kernel_size_l2': 11, 'CNN_dropout_l2': 0.5, 'CNN_out_channels_l3': 128, 'CNN_kernel_size_l3': 15, 'CNN_dropout_l3': 0.5, 'EMBRACENET_embracement_size': 1024, 'n_post_layers': 2, 'EMBRACENET_n_units_l0': 256, 'EMBRACENET_dropout_l0': 0.0, 'EMBRACENET_n_units_l1': 128, 'EMBRACENET_dropout_l1': 0.3, 'selection_probabilities_FFNN': 0.8166974278312703, 'optimizer': 'RMSprop', 'lr': 6.74080593610848e-05, 'weight_decay': 0.0003072385840138439}. Best is trial 2 with value: 0.12280446632579003.\u001b[0m\n"
     ]
    },
    {
     "name": "stdout",
     "output_type": "stream",
     "text": [
      "EarlyStopping counter: 4 out of 4\n",
      "Early stopping the training\n",
      "Study statistics: \n",
      "  Number of finished trials:  3\n",
      "  Number of pruned trials:  0\n",
      "  Number of complete trials:  3\n",
      "Best trial:\n",
      "  Value:  0.12280446632579003\n",
      "  Params: \n",
      "    CNN_dropout_l0: 0\n",
      "    CNN_dropout_l1: 0\n",
      "    CNN_dropout_l2: 0.5\n",
      "    CNN_dropout_l3: 0.5\n",
      "    CNN_kernel_size_l0: 5\n",
      "    CNN_kernel_size_l1: 5\n",
      "    CNN_kernel_size_l2: 11\n",
      "    CNN_kernel_size_l3: 15\n",
      "    CNN_n_layers: 4\n",
      "    CNN_out_channels_l0: 32\n",
      "    CNN_out_channels_l1: 32\n",
      "    CNN_out_channels_l2: 128\n",
      "    CNN_out_channels_l3: 128\n",
      "    EMBRACENET_dropout_l0: 0.0\n",
      "    EMBRACENET_dropout_l1: 0.3\n",
      "    EMBRACENET_embracement_size: 1024\n",
      "    EMBRACENET_n_units_l0: 256\n",
      "    EMBRACENET_n_units_l1: 128\n",
      "    FFNN_dropout_l0: 0.3\n",
      "    FFNN_dropout_l1: 0.4\n",
      "    FFNN_n_layers: 2\n",
      "    FFNN_n_units_l0: 128\n",
      "    FFNN_n_units_l1: 64\n",
      "    lr: 6.74080593610848e-05\n",
      "    n_post_layers: 2\n",
      "    optimizer: RMSprop\n",
      "    selection_probabilities_FFNN: 0.8166974278312703\n",
      "    weight_decay: 0.0003072385840138439\n",
      "\n",
      "===============> MODEL TESTING\n"
     ]
    },
    {
     "name": "stderr",
     "output_type": "stream",
     "text": [
      "/opt/anaconda3/lib/python3.8/site-packages/imblearn/utils/_validation.py:299: UserWarning: After over-sampling, the number of samples (48100) in class 0 will be larger than the number of samples in the majority class (class #0 -> 39785)\n",
      "  warnings.warn(\n"
     ]
    },
    {
     "data": {
      "application/vnd.jupyter.widget-view+json": {
       "model_id": "10bf6a7eccac446d80b3b66ad60bad9e",
       "version_major": 2,
       "version_minor": 0
      },
      "text/plain": [
       "Epochs:   0%|          | 0/100 [00:00<?, ?it/s]"
      ]
     },
     "metadata": {},
     "output_type": "display_data"
    },
    {
     "name": "stdout",
     "output_type": "stream",
     "text": [
      "EarlyStopping counter: 1 out of 4\n",
      "EarlyStopping counter: 2 out of 4\n",
      "EarlyStopping counter: 3 out of 4\n",
      "EarlyStopping counter: 4 out of 4\n",
      "Early stopping the training\n",
      "AUPRC test score: 0.11719201371754247\n",
      "\n",
      "\n",
      ">>> ITERATION N. 2\n",
      "\n",
      "===============> HYPERPARAMETERS TUNING\n"
     ]
    },
    {
     "name": "stderr",
     "output_type": "stream",
     "text": [
      "/opt/anaconda3/lib/python3.8/site-packages/imblearn/utils/_validation.py:299: UserWarning: After over-sampling, the number of samples (32420) in class 0 will be larger than the number of samples in the majority class (class #0 -> 26505)\n",
      "  warnings.warn(\n",
      "/Users/Niki/Prediction-of-Active-and-Inactive-Regulatory-Regions-with-Embracenet-Multimodal-Neural-Network-/BIOINF_tesi/models/utils/training_models_multimodal.py:425: ExperimentalWarning: PatientPruner is experimental (supported from v2.8.0). The interface can change in the future.\n",
      "  pruner=optuna.pruners.PatientPruner(optuna.pruners.MedianPruner(), patience=2),\n",
      "\u001b[32m[I 2021-10-29 13:19:09,889]\u001b[0m A new study created in RDB with name: A549_active_E_vs_inactive_E_EmbraceNetMultimodal_2augmentation\u001b[0m\n"
     ]
    },
    {
     "data": {
      "application/vnd.jupyter.widget-view+json": {
       "model_id": "1e7834bc658644f28b47a1956071f5dc",
       "version_major": 2,
       "version_minor": 0
      },
      "text/plain": [
       "Epochs:   0%|          | 0/100 [00:00<?, ?it/s]"
      ]
     },
     "metadata": {},
     "output_type": "display_data"
    },
    {
     "name": "stdout",
     "output_type": "stream",
     "text": [
      "EarlyStopping counter: 1 out of 4\n",
      "EarlyStopping counter: 2 out of 4\n",
      "EarlyStopping counter: 1 out of 4\n",
      "EarlyStopping counter: 2 out of 4\n",
      "EarlyStopping counter: 3 out of 4\n"
     ]
    },
    {
     "name": "stderr",
     "output_type": "stream",
     "text": [
      "\u001b[32m[I 2021-10-29 13:31:09,634]\u001b[0m Trial 0 finished with value: 0.06663642477538542 and parameters: {'FFNN_n_layers': 3, 'FFNN_n_units_l0': 256, 'FFNN_dropout_l0': 0.3, 'FFNN_n_units_l1': 128, 'FFNN_dropout_l1': 0.2, 'FFNN_n_units_l2': 4, 'FFNN_dropout_l2': 0.4, 'CNN_n_layers': 2, 'CNN_out_channels_l0': 16, 'CNN_kernel_size_l0': 11, 'CNN_dropout_l0': 0, 'CNN_out_channels_l1': 32, 'CNN_kernel_size_l1': 5, 'CNN_dropout_l1': 0.5, 'EMBRACENET_embracement_size': 768, 'n_post_layers': 1, 'EMBRACENET_n_units_l0': 128, 'EMBRACENET_dropout_l0': 0.3, 'selection_probabilities_FFNN': 0.2580694383981267, 'optimizer': 'Adam', 'lr': 0.004468927377338825, 'weight_decay': 0.031289628510385185}. Best is trial 0 with value: 0.06663642477538542.\u001b[0m\n"
     ]
    },
    {
     "name": "stdout",
     "output_type": "stream",
     "text": [
      "EarlyStopping counter: 4 out of 4\n",
      "Early stopping the training\n"
     ]
    },
    {
     "data": {
      "application/vnd.jupyter.widget-view+json": {
       "model_id": "ad7b6c29024140cc8211f50949074de4",
       "version_major": 2,
       "version_minor": 0
      },
      "text/plain": [
       "Epochs:   0%|          | 0/100 [00:00<?, ?it/s]"
      ]
     },
     "metadata": {},
     "output_type": "display_data"
    },
    {
     "name": "stdout",
     "output_type": "stream",
     "text": [
      "EarlyStopping counter: 1 out of 4\n",
      "EarlyStopping counter: 2 out of 4\n",
      "EarlyStopping counter: 3 out of 4\n"
     ]
    },
    {
     "name": "stderr",
     "output_type": "stream",
     "text": [
      "\u001b[32m[I 2021-10-29 13:44:39,126]\u001b[0m Trial 1 finished with value: 0.07397878345546333 and parameters: {'FFNN_n_layers': 3, 'FFNN_n_units_l0': 32, 'FFNN_dropout_l0': 0.2, 'FFNN_n_units_l1': 64, 'FFNN_dropout_l1': 0.4, 'FFNN_n_units_l2': 64, 'FFNN_dropout_l2': 0.0, 'CNN_n_layers': 2, 'CNN_out_channels_l0': 64, 'CNN_kernel_size_l0': 5, 'CNN_dropout_l0': 0.3, 'CNN_out_channels_l1': 32, 'CNN_kernel_size_l1': 15, 'CNN_dropout_l1': 0.4, 'EMBRACENET_embracement_size': 512, 'n_post_layers': 1, 'EMBRACENET_n_units_l0': 256, 'EMBRACENET_dropout_l0': 0.2, 'selection_probabilities_FFNN': 0.3581790441372652, 'optimizer': 'RMSprop', 'lr': 0.0002035534205317557, 'weight_decay': 0.002118002418246141}. Best is trial 1 with value: 0.07397878345546333.\u001b[0m\n"
     ]
    },
    {
     "name": "stdout",
     "output_type": "stream",
     "text": [
      "EarlyStopping counter: 4 out of 4\n",
      "Early stopping the training\n"
     ]
    },
    {
     "data": {
      "application/vnd.jupyter.widget-view+json": {
       "model_id": "f7e1b1a822de405a8dcf834ef77022a6",
       "version_major": 2,
       "version_minor": 0
      },
      "text/plain": [
       "Epochs:   0%|          | 0/100 [00:00<?, ?it/s]"
      ]
     },
     "metadata": {},
     "output_type": "display_data"
    },
    {
     "name": "stdout",
     "output_type": "stream",
     "text": [
      "EarlyStopping counter: 1 out of 4\n"
     ]
    },
    {
     "name": "stderr",
     "output_type": "stream",
     "text": [
      "/opt/anaconda3/lib/python3.8/site-packages/sklearn/metrics/_ranking.py:817: RuntimeWarning: invalid value encountered in true_divide\n",
      "  recall = tps / tps[-1]\n"
     ]
    },
    {
     "name": "stdout",
     "output_type": "stream",
     "text": [
      "EarlyStopping counter: 2 out of 4\n",
      "EarlyStopping counter: 3 out of 4\n"
     ]
    },
    {
     "name": "stderr",
     "output_type": "stream",
     "text": [
      "\u001b[32m[I 2021-10-29 13:56:56,473]\u001b[0m Trial 2 finished with value: 0.07579079686394385 and parameters: {'FFNN_n_layers': 2, 'FFNN_n_units_l0': 128, 'FFNN_dropout_l0': 0.2, 'FFNN_n_units_l1': 16, 'FFNN_dropout_l1': 0.0, 'CNN_n_layers': 2, 'CNN_out_channels_l0': 64, 'CNN_kernel_size_l0': 5, 'CNN_dropout_l0': 0.2, 'CNN_out_channels_l1': 32, 'CNN_kernel_size_l1': 15, 'CNN_dropout_l1': 0.5, 'EMBRACENET_embracement_size': 768, 'n_post_layers': 0, 'selection_probabilities_FFNN': 0.2603590176384587, 'optimizer': 'Nadam', 'lr': 1.4705701961142175e-05, 'weight_decay': 0.0010030082501691206}. Best is trial 2 with value: 0.07579079686394385.\u001b[0m\n"
     ]
    },
    {
     "name": "stdout",
     "output_type": "stream",
     "text": [
      "EarlyStopping counter: 4 out of 4\n",
      "Early stopping the training\n",
      "Study statistics: \n",
      "  Number of finished trials:  3\n",
      "  Number of pruned trials:  0\n",
      "  Number of complete trials:  3\n",
      "Best trial:\n",
      "  Value:  0.07579079686394385\n",
      "  Params: \n",
      "    CNN_dropout_l0: 0.2\n",
      "    CNN_dropout_l1: 0.5\n",
      "    CNN_kernel_size_l0: 5\n",
      "    CNN_kernel_size_l1: 15\n",
      "    CNN_n_layers: 2\n",
      "    CNN_out_channels_l0: 64\n",
      "    CNN_out_channels_l1: 32\n",
      "    EMBRACENET_embracement_size: 768\n",
      "    FFNN_dropout_l0: 0.2\n",
      "    FFNN_dropout_l1: 0.0\n",
      "    FFNN_n_layers: 2\n",
      "    FFNN_n_units_l0: 128\n",
      "    FFNN_n_units_l1: 16\n",
      "    lr: 1.4705701961142175e-05\n",
      "    n_post_layers: 0\n",
      "    optimizer: Nadam\n",
      "    selection_probabilities_FFNN: 0.2603590176384587\n",
      "    weight_decay: 0.0010030082501691206\n",
      "\n",
      "===============> MODEL TESTING\n"
     ]
    },
    {
     "name": "stderr",
     "output_type": "stream",
     "text": [
      "/opt/anaconda3/lib/python3.8/site-packages/imblearn/utils/_validation.py:299: UserWarning: After over-sampling, the number of samples (48640) in class 0 will be larger than the number of samples in the majority class (class #0 -> 39758)\n",
      "  warnings.warn(\n"
     ]
    },
    {
     "data": {
      "application/vnd.jupyter.widget-view+json": {
       "model_id": "d6a40fa7e75b4b589fee5e18b74206d5",
       "version_major": 2,
       "version_minor": 0
      },
      "text/plain": [
       "Epochs:   0%|          | 0/100 [00:00<?, ?it/s]"
      ]
     },
     "metadata": {},
     "output_type": "display_data"
    },
    {
     "name": "stdout",
     "output_type": "stream",
     "text": [
      "EarlyStopping counter: 1 out of 4\n",
      "EarlyStopping counter: 2 out of 4\n",
      "EarlyStopping counter: 3 out of 4\n",
      "EarlyStopping counter: 1 out of 4\n",
      "EarlyStopping counter: 2 out of 4\n",
      "EarlyStopping counter: 3 out of 4\n",
      "EarlyStopping counter: 4 out of 4\n",
      "Early stopping the training\n",
      "AUPRC test score: 0.07596968119293321\n",
      "\n",
      "\n",
      ">>> ITERATION N. 3\n",
      "\n",
      "===============> HYPERPARAMETERS TUNING\n"
     ]
    },
    {
     "name": "stderr",
     "output_type": "stream",
     "text": [
      "/opt/anaconda3/lib/python3.8/site-packages/imblearn/utils/_validation.py:299: UserWarning: After over-sampling, the number of samples (31620) in class 0 will be larger than the number of samples in the majority class (class #0 -> 26545)\n",
      "  warnings.warn(\n",
      "/Users/Niki/Prediction-of-Active-and-Inactive-Regulatory-Regions-with-Embracenet-Multimodal-Neural-Network-/BIOINF_tesi/models/utils/training_models_multimodal.py:425: ExperimentalWarning: PatientPruner is experimental (supported from v2.8.0). The interface can change in the future.\n",
      "  pruner=optuna.pruners.PatientPruner(optuna.pruners.MedianPruner(), patience=2),\n",
      "\u001b[32m[I 2021-10-29 14:31:14,454]\u001b[0m A new study created in RDB with name: A549_active_E_vs_inactive_E_EmbraceNetMultimodal_3augmentation\u001b[0m\n"
     ]
    },
    {
     "data": {
      "application/vnd.jupyter.widget-view+json": {
       "model_id": "54944e455e0d40dab9669b86d8964f71",
       "version_major": 2,
       "version_minor": 0
      },
      "text/plain": [
       "Epochs:   0%|          | 0/100 [00:00<?, ?it/s]"
      ]
     },
     "metadata": {},
     "output_type": "display_data"
    },
    {
     "name": "stdout",
     "output_type": "stream",
     "text": [
      "EarlyStopping counter: 1 out of 4\n",
      "EarlyStopping counter: 1 out of 4\n",
      "EarlyStopping counter: 2 out of 4\n",
      "EarlyStopping counter: 3 out of 4\n"
     ]
    },
    {
     "name": "stderr",
     "output_type": "stream",
     "text": [
      "\u001b[32m[I 2021-10-29 14:41:01,322]\u001b[0m Trial 0 finished with value: 0.07046019792132874 and parameters: {'FFNN_n_layers': 2, 'FFNN_n_units_l0': 128, 'FFNN_dropout_l0': 0.4, 'FFNN_n_units_l1': 64, 'FFNN_dropout_l1': 0.4, 'CNN_n_layers': 1, 'CNN_out_channels_l0': 16, 'CNN_kernel_size_l0': 11, 'CNN_dropout_l0': 0, 'EMBRACENET_embracement_size': 768, 'n_post_layers': 2, 'EMBRACENET_n_units_l0': 32, 'EMBRACENET_dropout_l0': 0.2, 'EMBRACENET_n_units_l1': 16, 'EMBRACENET_dropout_l1': 0.3, 'selection_probabilities_FFNN': 0.19512155017037947, 'optimizer': 'Nadam', 'lr': 0.0014912610528135287, 'weight_decay': 0.0074977030004373885}. Best is trial 0 with value: 0.07046019792132874.\u001b[0m\n"
     ]
    },
    {
     "name": "stdout",
     "output_type": "stream",
     "text": [
      "EarlyStopping counter: 4 out of 4\n",
      "Early stopping the training\n"
     ]
    },
    {
     "data": {
      "application/vnd.jupyter.widget-view+json": {
       "model_id": "1b49449727d54b318a6165a5a76e61bc",
       "version_major": 2,
       "version_minor": 0
      },
      "text/plain": [
       "Epochs:   0%|          | 0/100 [00:00<?, ?it/s]"
      ]
     },
     "metadata": {},
     "output_type": "display_data"
    },
    {
     "name": "stdout",
     "output_type": "stream",
     "text": [
      "EarlyStopping counter: 1 out of 4\n",
      "EarlyStopping counter: 2 out of 4\n",
      "EarlyStopping counter: 1 out of 4\n",
      "EarlyStopping counter: 1 out of 4\n",
      "EarlyStopping counter: 1 out of 4\n",
      "EarlyStopping counter: 2 out of 4\n",
      "EarlyStopping counter: 3 out of 4\n"
     ]
    },
    {
     "name": "stderr",
     "output_type": "stream",
     "text": [
      "\u001b[32m[I 2021-10-29 15:04:46,805]\u001b[0m Trial 1 finished with value: 0.06075471899473431 and parameters: {'FFNN_n_layers': 3, 'FFNN_n_units_l0': 64, 'FFNN_dropout_l0': 0.0, 'FFNN_n_units_l1': 64, 'FFNN_dropout_l1': 0.3, 'FFNN_n_units_l2': 64, 'FFNN_dropout_l2': 0.5, 'CNN_n_layers': 1, 'CNN_out_channels_l0': 64, 'CNN_kernel_size_l0': 11, 'CNN_dropout_l0': 0.2, 'EMBRACENET_embracement_size': 512, 'n_post_layers': 0, 'selection_probabilities_FFNN': 0.9754010595707678, 'optimizer': 'RMSprop', 'lr': 9.698336032710439e-05, 'weight_decay': 0.04264024902835968}. Best is trial 0 with value: 0.07046019792132874.\u001b[0m\n"
     ]
    },
    {
     "name": "stdout",
     "output_type": "stream",
     "text": [
      "EarlyStopping counter: 4 out of 4\n",
      "Early stopping the training\n"
     ]
    },
    {
     "data": {
      "application/vnd.jupyter.widget-view+json": {
       "model_id": "35f95e8b951e46b9a199da8e7bbee696",
       "version_major": 2,
       "version_minor": 0
      },
      "text/plain": [
       "Epochs:   0%|          | 0/100 [00:00<?, ?it/s]"
      ]
     },
     "metadata": {},
     "output_type": "display_data"
    },
    {
     "name": "stdout",
     "output_type": "stream",
     "text": [
      "EarlyStopping counter: 1 out of 4\n"
     ]
    },
    {
     "name": "stderr",
     "output_type": "stream",
     "text": [
      "/opt/anaconda3/lib/python3.8/site-packages/sklearn/metrics/_ranking.py:817: RuntimeWarning: invalid value encountered in true_divide\n",
      "  recall = tps / tps[-1]\n"
     ]
    },
    {
     "name": "stdout",
     "output_type": "stream",
     "text": [
      "EarlyStopping counter: 2 out of 4\n",
      "EarlyStopping counter: 3 out of 4\n"
     ]
    },
    {
     "name": "stderr",
     "output_type": "stream",
     "text": [
      "/opt/anaconda3/lib/python3.8/site-packages/sklearn/metrics/_ranking.py:817: RuntimeWarning: invalid value encountered in true_divide\n",
      "  recall = tps / tps[-1]\n"
     ]
    },
    {
     "name": "stdout",
     "output_type": "stream",
     "text": [
      "EarlyStopping counter: 1 out of 4\n",
      "EarlyStopping counter: 1 out of 4\n",
      "EarlyStopping counter: 2 out of 4\n",
      "EarlyStopping counter: 3 out of 4\n",
      "EarlyStopping counter: 1 out of 4\n",
      "EarlyStopping counter: 2 out of 4\n",
      "EarlyStopping counter: 3 out of 4\n"
     ]
    },
    {
     "name": "stderr",
     "output_type": "stream",
     "text": [
      "\u001b[32m[I 2021-10-29 15:51:08,904]\u001b[0m Trial 2 finished with value: 0.0559419014084507 and parameters: {'FFNN_n_layers': 4, 'FFNN_n_units_l0': 128, 'FFNN_dropout_l0': 0.3, 'FFNN_n_units_l1': 64, 'FFNN_dropout_l1': 0.2, 'FFNN_n_units_l2': 16, 'FFNN_dropout_l2': 0.5, 'FFNN_n_units_l3': 4, 'FFNN_dropout_l3': 0.4, 'CNN_n_layers': 1, 'CNN_out_channels_l0': 64, 'CNN_kernel_size_l0': 11, 'CNN_dropout_l0': 0.2, 'EMBRACENET_embracement_size': 1024, 'n_post_layers': 2, 'EMBRACENET_n_units_l0': 256, 'EMBRACENET_dropout_l0': 0.5, 'EMBRACENET_n_units_l1': 64, 'EMBRACENET_dropout_l1': 0.0, 'selection_probabilities_FFNN': 0.5470818976651388, 'optimizer': 'RMSprop', 'lr': 0.0013174778526604453, 'weight_decay': 0.006342834264428967}. Best is trial 0 with value: 0.07046019792132874.\u001b[0m\n"
     ]
    },
    {
     "name": "stdout",
     "output_type": "stream",
     "text": [
      "EarlyStopping counter: 4 out of 4\n",
      "Early stopping the training\n",
      "Study statistics: \n",
      "  Number of finished trials:  3\n",
      "  Number of pruned trials:  0\n",
      "  Number of complete trials:  3\n",
      "Best trial:\n",
      "  Value:  0.07046019792132874\n",
      "  Params: \n",
      "    CNN_dropout_l0: 0\n",
      "    CNN_kernel_size_l0: 11\n",
      "    CNN_n_layers: 1\n",
      "    CNN_out_channels_l0: 16\n",
      "    EMBRACENET_dropout_l0: 0.2\n",
      "    EMBRACENET_dropout_l1: 0.3\n",
      "    EMBRACENET_embracement_size: 768\n",
      "    EMBRACENET_n_units_l0: 32\n",
      "    EMBRACENET_n_units_l1: 16\n",
      "    FFNN_dropout_l0: 0.4\n",
      "    FFNN_dropout_l1: 0.4\n",
      "    FFNN_n_layers: 2\n",
      "    FFNN_n_units_l0: 128\n",
      "    FFNN_n_units_l1: 64\n",
      "    lr: 0.0014912610528135287\n",
      "    n_post_layers: 2\n",
      "    optimizer: Nadam\n",
      "    selection_probabilities_FFNN: 0.19512155017037947\n",
      "    weight_decay: 0.0074977030004373885\n",
      "\n",
      "===============> MODEL TESTING\n"
     ]
    },
    {
     "name": "stderr",
     "output_type": "stream",
     "text": [
      "/opt/anaconda3/lib/python3.8/site-packages/imblearn/utils/_validation.py:299: UserWarning: After over-sampling, the number of samples (47380) in class 0 will be larger than the number of samples in the majority class (class #0 -> 39821)\n",
      "  warnings.warn(\n"
     ]
    },
    {
     "data": {
      "application/vnd.jupyter.widget-view+json": {
       "model_id": "a81e73c27d4148c18a0367562de04831",
       "version_major": 2,
       "version_minor": 0
      },
      "text/plain": [
       "Epochs:   0%|          | 0/100 [00:00<?, ?it/s]"
      ]
     },
     "metadata": {},
     "output_type": "display_data"
    },
    {
     "name": "stdout",
     "output_type": "stream",
     "text": [
      "EarlyStopping counter: 1 out of 4\n",
      "EarlyStopping counter: 2 out of 4\n",
      "EarlyStopping counter: 3 out of 4\n",
      "EarlyStopping counter: 4 out of 4\n",
      "Early stopping the training\n",
      "AUPRC test score: 0.07799279315462444\n",
      "\n",
      "\n",
      "\n",
      "3-FOLD CROSS-VALIDATION AUPRC TEST SCORE: 0.09038\n"
     ]
    }
   ],
   "source": [
    "kf_CV = Kfold_CV_Multimodal()\n",
    "\n",
    "kf_CV(build_dataloader_pipeline = pipe_data_load,\n",
    "                num_epochs = 100,\n",
    "                n_folds=3,\n",
    "                cell_line=cell_line,\n",
    "                augmentation=True,\n",
    "                model = model,\n",
    "                device = device,\n",
    "                task=task,\n",
    "                sampler = 'TPE',\n",
    "                study_name = f'{cell_line}_{task}_{model.__name__}',\n",
    "                test_model_path = f'{cell_line}_{task}_{model.__name__}_TEST')"
   ]
  },
  {
   "cell_type": "code",
   "execution_count": null,
   "metadata": {},
   "outputs": [],
   "source": [
    "results_dict[cell_line][task][f'{model.__name__}_augm'] = kf_CV.scores_dict"
   ]
  },
  {
   "cell_type": "code",
   "execution_count": null,
   "metadata": {},
   "outputs": [],
   "source": [
    "with open ('results_dict.pickle', 'wb') as fout:\n",
    "    pickle.dump(OrderedDict(results_dict), fout)"
   ]
  },
  {
   "cell_type": "markdown",
   "metadata": {},
   "source": [
    "---\n",
    "---"
   ]
  },
  {
   "cell_type": "markdown",
   "metadata": {},
   "source": [
    "## 2) ACTIVE PROMOTERS vs INACTIVE PROMOTERS"
   ]
  },
  {
   "cell_type": "code",
   "execution_count": 23,
   "metadata": {},
   "outputs": [
    {
     "data": {
      "text/plain": [
       "'active_P_vs_inactive_P'"
      ]
     },
     "execution_count": 23,
     "metadata": {},
     "output_type": "execute_result"
    }
   ],
   "source": [
    "task = TASKS[1]\n",
    "task"
   ]
  },
  {
   "cell_type": "code",
   "execution_count": 24,
   "metadata": {},
   "outputs": [
    {
     "name": "stdout",
     "output_type": "stream",
     "text": [
      "Data Preprocessing Done!\n"
     ]
    }
   ],
   "source": [
    "pipe_data_load = Build_DataLoader_Pipeline(path_name=f'{task}.pickle')"
   ]
  },
  {
   "cell_type": "markdown",
   "metadata": {},
   "source": [
    "---\n",
    "### EMBRACENET"
   ]
  },
  {
   "cell_type": "code",
   "execution_count": 18,
   "metadata": {},
   "outputs": [],
   "source": [
    "model=EmbraceNetMultimodal"
   ]
  },
  {
   "cell_type": "code",
   "execution_count": 19,
   "metadata": {
    "scrolled": true
   },
   "outputs": [
    {
     "name": "stderr",
     "output_type": "stream",
     "text": [
      "/Users/Niki/Prediction-of-Active-and-Inactive-Regulatory-Regions-with-Embracenet-Multimodal-Neural-Network-/BIOINF_tesi/models/utils/training_models_multimodal.py:425: ExperimentalWarning: PatientPruner is experimental (supported from v2.8.0). The interface can change in the future.\n",
      "  pruner=optuna.pruners.PatientPruner(optuna.pruners.MedianPruner(), patience=2),\n",
      "\u001b[32m[I 2021-10-26 09:37:52,937]\u001b[0m Using an existing study with name 'A549_active_P_vs_inactive_P_EmbraceNetMultimodal_1' instead of creating a new one.\u001b[0m\n"
     ]
    },
    {
     "name": "stdout",
     "output_type": "stream",
     "text": [
      ">>> ITERATION N. 1\n",
      "\n",
      "===============> HYPERPARAMETERS TUNING\n",
      "Study statistics: \n",
      "  Number of finished trials:  3\n",
      "  Number of pruned trials:  0\n",
      "  Number of complete trials:  3\n",
      "Best trial:\n",
      "  Value:  0.09781269373157388\n",
      "  Params: \n",
      "    CNN_dropout_l0: 0\n",
      "    CNN_dropout_l1: 0.5\n",
      "    CNN_dropout_l2: 0.5\n",
      "    CNN_dropout_l3: 0.5\n",
      "    CNN_kernel_size_l0: 15\n",
      "    CNN_kernel_size_l1: 15\n",
      "    CNN_kernel_size_l2: 5\n",
      "    CNN_kernel_size_l3: 11\n",
      "    CNN_n_layers: 4\n",
      "    CNN_out_channels_l0: 16\n",
      "    CNN_out_channels_l1: 32\n",
      "    CNN_out_channels_l2: 256\n",
      "    CNN_out_channels_l3: 128\n",
      "    EMBRACENET_dropout_l0: 0.5\n",
      "    EMBRACENET_dropout_l1: 0.3\n",
      "    EMBRACENET_embracement_size: 1024\n",
      "    EMBRACENET_n_units_l0: 64\n",
      "    EMBRACENET_n_units_l1: 128\n",
      "    FFNN_dropout_l0: 0.0\n",
      "    FFNN_dropout_l1: 0.2\n",
      "    FFNN_dropout_l2: 0.5\n",
      "    FFNN_dropout_l3: 0.5\n",
      "    FFNN_n_layers: 4\n",
      "    FFNN_n_units_l0: 256\n",
      "    FFNN_n_units_l1: 128\n",
      "    FFNN_n_units_l2: 32\n",
      "    FFNN_n_units_l3: 32\n",
      "    lr: 0.0002031491108319851\n",
      "    n_post_layers: 2\n",
      "    optimizer: Adam\n",
      "    selection_probabilities_FFNN: 0.1147735763302491\n",
      "    weight_decay: 0.002255882200112885\n",
      "\n",
      "===============> MODEL TESTING\n",
      "AUPRC test score: 0.18962701620527697\n",
      "\n",
      "\n",
      ">>> ITERATION N. 2\n",
      "\n",
      "===============> HYPERPARAMETERS TUNING\n"
     ]
    },
    {
     "name": "stderr",
     "output_type": "stream",
     "text": [
      "/Users/Niki/Prediction-of-Active-and-Inactive-Regulatory-Regions-with-Embracenet-Multimodal-Neural-Network-/BIOINF_tesi/models/utils/training_models_multimodal.py:425: ExperimentalWarning: PatientPruner is experimental (supported from v2.8.0). The interface can change in the future.\n",
      "  pruner=optuna.pruners.PatientPruner(optuna.pruners.MedianPruner(), patience=2),\n",
      "\u001b[32m[I 2021-10-26 09:37:53,279]\u001b[0m Using an existing study with name 'A549_active_P_vs_inactive_P_EmbraceNetMultimodal_1_2' instead of creating a new one.\u001b[0m\n"
     ]
    },
    {
     "name": "stdout",
     "output_type": "stream",
     "text": [
      "Study statistics: \n",
      "  Number of finished trials:  3\n",
      "  Number of pruned trials:  0\n",
      "  Number of complete trials:  3\n",
      "Best trial:\n",
      "  Value:  0.23984912983714193\n",
      "  Params: \n",
      "    CNN_dropout_l0: 0.3\n",
      "    CNN_dropout_l1: 0\n",
      "    CNN_dropout_l2: 0\n",
      "    CNN_kernel_size_l0: 5\n",
      "    CNN_kernel_size_l1: 5\n",
      "    CNN_kernel_size_l2: 5\n",
      "    CNN_n_layers: 3\n",
      "    CNN_out_channels_l0: 16\n",
      "    CNN_out_channels_l1: 32\n",
      "    CNN_out_channels_l2: 96\n",
      "    EMBRACENET_embracement_size: 512\n",
      "    FFNN_dropout_l0: 0.3\n",
      "    FFNN_dropout_l1: 0.3\n",
      "    FFNN_dropout_l2: 0.0\n",
      "    FFNN_n_layers: 3\n",
      "    FFNN_n_units_l0: 32\n",
      "    FFNN_n_units_l1: 32\n",
      "    FFNN_n_units_l2: 64\n",
      "    lr: 0.004448448920960872\n",
      "    n_post_layers: 0\n",
      "    optimizer: RMSprop\n",
      "    selection_probabilities_FFNN: 0.5286996308413714\n",
      "    weight_decay: 0.00016615802954991117\n",
      "\n",
      "===============> MODEL TESTING\n",
      "AUPRC test score: 0.25198281813896695\n",
      "\n",
      "\n",
      ">>> ITERATION N. 3\n",
      "\n",
      "===============> HYPERPARAMETERS TUNING\n"
     ]
    },
    {
     "name": "stderr",
     "output_type": "stream",
     "text": [
      "/Users/Niki/Prediction-of-Active-and-Inactive-Regulatory-Regions-with-Embracenet-Multimodal-Neural-Network-/BIOINF_tesi/models/utils/training_models_multimodal.py:425: ExperimentalWarning: PatientPruner is experimental (supported from v2.8.0). The interface can change in the future.\n",
      "  pruner=optuna.pruners.PatientPruner(optuna.pruners.MedianPruner(), patience=2),\n",
      "\u001b[32m[I 2021-10-26 09:37:53,571]\u001b[0m Using an existing study with name 'A549_active_P_vs_inactive_P_EmbraceNetMultimodal_1_2_3' instead of creating a new one.\u001b[0m\n"
     ]
    },
    {
     "name": "stdout",
     "output_type": "stream",
     "text": [
      "Study statistics: \n",
      "  Number of finished trials:  3\n",
      "  Number of pruned trials:  0\n",
      "  Number of complete trials:  3\n",
      "Best trial:\n",
      "  Value:  0.12358197160651382\n",
      "  Params: \n",
      "    CNN_dropout_l0: 0.4\n",
      "    CNN_dropout_l1: 0.4\n",
      "    CNN_dropout_l2: 0.4\n",
      "    CNN_dropout_l3: 0\n",
      "    CNN_kernel_size_l0: 11\n",
      "    CNN_kernel_size_l1: 11\n",
      "    CNN_kernel_size_l2: 5\n",
      "    CNN_kernel_size_l3: 15\n",
      "    CNN_n_layers: 4\n",
      "    CNN_out_channels_l0: 16\n",
      "    CNN_out_channels_l1: 96\n",
      "    CNN_out_channels_l2: 96\n",
      "    CNN_out_channels_l3: 512\n",
      "    EMBRACENET_dropout_l0: 0.0\n",
      "    EMBRACENET_embracement_size: 1024\n",
      "    EMBRACENET_n_units_l0: 512\n",
      "    FFNN_dropout_l0: 0.0\n",
      "    FFNN_dropout_l1: 0.2\n",
      "    FFNN_dropout_l2: 0.5\n",
      "    FFNN_dropout_l3: 0.0\n",
      "    FFNN_n_layers: 4\n",
      "    FFNN_n_units_l0: 256\n",
      "    FFNN_n_units_l1: 32\n",
      "    FFNN_n_units_l2: 4\n",
      "    FFNN_n_units_l3: 4\n",
      "    lr: 0.05666033129014694\n",
      "    n_post_layers: 1\n",
      "    optimizer: Adam\n",
      "    selection_probabilities_FFNN: 0.7076055771501554\n",
      "    weight_decay: 0.00010720231386446618\n",
      "\n",
      "===============> MODEL TESTING\n",
      "AUPRC test score: 0.1034537376859185\n",
      "\n",
      "\n",
      "\n",
      "3-FOLD CROSS-VALIDATION AUPRC TEST SCORE: 0.18169\n"
     ]
    }
   ],
   "source": [
    "kf_CV = Kfold_CV_Multimodal()\n",
    "\n",
    "kf_CV(build_dataloader_pipeline = pipe_data_load,\n",
    "                num_epochs = 100,\n",
    "                n_folds=3,\n",
    "                cell_line=cell_line,\n",
    "                augmentation=False,\n",
    "                model = model,\n",
    "                device = device,\n",
    "                task=task,\n",
    "                sampler = 'TPE',\n",
    "                study_name = f'{cell_line}_{task}_{model.__name__}',\n",
    "                test_model_path = f'{cell_line}_{task}_{model.__name__}_TEST')"
   ]
  },
  {
   "cell_type": "code",
   "execution_count": 20,
   "metadata": {},
   "outputs": [],
   "source": [
    "results_dict[cell_line][task][model.__name__] = kf_CV.scores_dict"
   ]
  },
  {
   "cell_type": "code",
   "execution_count": 21,
   "metadata": {},
   "outputs": [],
   "source": [
    "with open ('results_dict.pickle', 'wb') as fout:\n",
    "    pickle.dump(OrderedDict(results_dict), fout)"
   ]
  },
  {
   "cell_type": "markdown",
   "metadata": {},
   "source": [
    "### CONCATNET"
   ]
  },
  {
   "cell_type": "code",
   "execution_count": 17,
   "metadata": {},
   "outputs": [],
   "source": [
    "model=ConcatNetMultimodal"
   ]
  },
  {
   "cell_type": "code",
   "execution_count": 18,
   "metadata": {
    "scrolled": true
   },
   "outputs": [
    {
     "name": "stderr",
     "output_type": "stream",
     "text": [
      "/Users/Niki/Prediction-of-Active-and-Inactive-Regulatory-Regions-with-Embracenet-Multimodal-Neural-Network-/BIOINF_tesi/models/utils/training_models_multimodal.py:425: ExperimentalWarning: PatientPruner is experimental (supported from v2.8.0). The interface can change in the future.\n",
      "  pruner=optuna.pruners.PatientPruner(optuna.pruners.MedianPruner(), patience=2),\n",
      "\u001b[32m[I 2021-10-27 13:16:44,310]\u001b[0m Using an existing study with name 'A549_active_P_vs_inactive_P_ConcatNetMultimodal_1' instead of creating a new one.\u001b[0m\n"
     ]
    },
    {
     "name": "stdout",
     "output_type": "stream",
     "text": [
      ">>> ITERATION N. 1\n",
      "\n",
      "===============> HYPERPARAMETERS TUNING\n",
      "Study statistics: \n",
      "  Number of finished trials:  3\n",
      "  Number of pruned trials:  0\n",
      "  Number of complete trials:  3\n",
      "Best trial:\n",
      "  Value:  0.16563321122047522\n",
      "  Params: \n",
      "    CNN_dropout_l0: 0.2\n",
      "    CNN_dropout_l1: 0\n",
      "    CNN_kernel_size_l0: 5\n",
      "    CNN_kernel_size_l1: 15\n",
      "    CNN_n_layers: 2\n",
      "    CNN_out_channels_l0: 64\n",
      "    CNN_out_channels_l1: 32\n",
      "    CONCATNET_dropout_l0: 0.2\n",
      "    CONCATNET_dropout_l1: 0.5\n",
      "    CONCATNET_n_post_layers: 2\n",
      "    CONCATNET_n_units_l0: 768\n",
      "    CONCATNET_n_units_l1: 512\n",
      "    FFNN_dropout_l0: 0.2\n",
      "    FFNN_dropout_l1: 0.3\n",
      "    FFNN_dropout_l2: 0.5\n",
      "    FFNN_dropout_l3: 0.0\n",
      "    FFNN_n_layers: 4\n",
      "    FFNN_n_units_l0: 32\n",
      "    FFNN_n_units_l1: 64\n",
      "    FFNN_n_units_l2: 16\n",
      "    FFNN_n_units_l3: 32\n",
      "    lr: 0.014456925604992055\n",
      "    optimizer: Adam\n",
      "    weight_decay: 0.0018143120345159303\n",
      "\n",
      "===============> MODEL TESTING\n",
      "AUPRC test score: 0.17360398903749155\n",
      "\n",
      "\n",
      ">>> ITERATION N. 2\n",
      "\n",
      "===============> HYPERPARAMETERS TUNING\n"
     ]
    },
    {
     "name": "stderr",
     "output_type": "stream",
     "text": [
      "/Users/Niki/Prediction-of-Active-and-Inactive-Regulatory-Regions-with-Embracenet-Multimodal-Neural-Network-/BIOINF_tesi/models/utils/training_models_multimodal.py:425: ExperimentalWarning: PatientPruner is experimental (supported from v2.8.0). The interface can change in the future.\n",
      "  pruner=optuna.pruners.PatientPruner(optuna.pruners.MedianPruner(), patience=2),\n",
      "\u001b[32m[I 2021-10-27 13:16:44,840]\u001b[0m Using an existing study with name 'A549_active_P_vs_inactive_P_ConcatNetMultimodal_1_2' instead of creating a new one.\u001b[0m\n"
     ]
    },
    {
     "name": "stdout",
     "output_type": "stream",
     "text": [
      "Study statistics: \n",
      "  Number of finished trials:  3\n",
      "  Number of pruned trials:  0\n",
      "  Number of complete trials:  3\n",
      "Best trial:\n",
      "  Value:  0.25053541646988986\n",
      "  Params: \n",
      "    CNN_dropout_l0: 0\n",
      "    CNN_kernel_size_l0: 11\n",
      "    CNN_n_layers: 1\n",
      "    CNN_out_channels_l0: 32\n",
      "    CONCATNET_dropout_l0: 0.2\n",
      "    CONCATNET_dropout_l1: 0.3\n",
      "    CONCATNET_dropout_l2: 0.2\n",
      "    CONCATNET_n_post_layers: 3\n",
      "    CONCATNET_n_units_l0: 512\n",
      "    CONCATNET_n_units_l1: 512\n",
      "    CONCATNET_n_units_l2: 32\n",
      "    FFNN_dropout_l0: 0.3\n",
      "    FFNN_n_layers: 1\n",
      "    FFNN_n_units_l0: 256\n",
      "    lr: 8.085940263667755e-05\n",
      "    optimizer: Adam\n",
      "    weight_decay: 0.00019867345884972199\n",
      "\n",
      "===============> MODEL TESTING\n",
      "AUPRC test score: 0.23812502144961462\n",
      "\n",
      "\n",
      ">>> ITERATION N. 3\n",
      "\n",
      "===============> HYPERPARAMETERS TUNING\n"
     ]
    },
    {
     "name": "stderr",
     "output_type": "stream",
     "text": [
      "/Users/Niki/Prediction-of-Active-and-Inactive-Regulatory-Regions-with-Embracenet-Multimodal-Neural-Network-/BIOINF_tesi/models/utils/training_models_multimodal.py:425: ExperimentalWarning: PatientPruner is experimental (supported from v2.8.0). The interface can change in the future.\n",
      "  pruner=optuna.pruners.PatientPruner(optuna.pruners.MedianPruner(), patience=2),\n",
      "\u001b[32m[I 2021-10-27 13:16:45,170]\u001b[0m Using an existing study with name 'A549_active_P_vs_inactive_P_ConcatNetMultimodal_1_2_3' instead of creating a new one.\u001b[0m\n"
     ]
    },
    {
     "name": "stdout",
     "output_type": "stream",
     "text": [
      "Study statistics: \n",
      "  Number of finished trials:  3\n",
      "  Number of pruned trials:  0\n",
      "  Number of complete trials:  3\n",
      "Best trial:\n",
      "  Value:  0.22757241199277192\n",
      "  Params: \n",
      "    CNN_dropout_l0: 0.4\n",
      "    CNN_kernel_size_l0: 5\n",
      "    CNN_n_layers: 1\n",
      "    CNN_out_channels_l0: 32\n",
      "    CONCATNET_dropout_l0: 0.3\n",
      "    CONCATNET_dropout_l1: 0.5\n",
      "    CONCATNET_dropout_l2: 0.3\n",
      "    CONCATNET_n_post_layers: 3\n",
      "    CONCATNET_n_units_l0: 1024\n",
      "    CONCATNET_n_units_l1: 512\n",
      "    CONCATNET_n_units_l2: 32\n",
      "    FFNN_dropout_l0: 0.0\n",
      "    FFNN_dropout_l1: 0.0\n",
      "    FFNN_n_layers: 2\n",
      "    FFNN_n_units_l0: 64\n",
      "    FFNN_n_units_l1: 128\n",
      "    lr: 1.1828413608494186e-05\n",
      "    optimizer: RMSprop\n",
      "    weight_decay: 0.0019421214201297214\n",
      "\n",
      "===============> MODEL TESTING\n",
      "AUPRC test score: 0.22875103701912153\n",
      "\n",
      "\n",
      "\n",
      "3-FOLD CROSS-VALIDATION AUPRC TEST SCORE: 0.21349\n"
     ]
    }
   ],
   "source": [
    "kf_CV = Kfold_CV_Multimodal()\n",
    "\n",
    "kf_CV(build_dataloader_pipeline = pipe_data_load,\n",
    "                num_epochs = 100,\n",
    "                n_folds=3,\n",
    "                cell_line=cell_line,\n",
    "                augmentation=False,\n",
    "                model = model,\n",
    "                device = device,\n",
    "                task=task,\n",
    "                sampler = 'TPE',\n",
    "                study_name = f'{cell_line}_{task}_{model.__name__}',\n",
    "                test_model_path = f'{cell_line}_{task}_{model.__name__}_TEST')"
   ]
  },
  {
   "cell_type": "code",
   "execution_count": 19,
   "metadata": {},
   "outputs": [],
   "source": [
    "results_dict[cell_line][task][model.__name__] = kf_CV.scores_dict"
   ]
  },
  {
   "cell_type": "code",
   "execution_count": 20,
   "metadata": {},
   "outputs": [],
   "source": [
    "with open ('results_dict.pickle', 'wb') as fout:\n",
    "    pickle.dump(OrderedDict(results_dict), fout)"
   ]
  },
  {
   "cell_type": "markdown",
   "metadata": {},
   "source": [
    "---\n",
    "## AUGMENTATION"
   ]
  },
  {
   "cell_type": "markdown",
   "metadata": {},
   "source": [
    "### EMBRACENET"
   ]
  },
  {
   "cell_type": "code",
   "execution_count": 25,
   "metadata": {},
   "outputs": [],
   "source": [
    "model=EmbraceNetMultimodal"
   ]
  },
  {
   "cell_type": "code",
   "execution_count": null,
   "metadata": {},
   "outputs": [
    {
     "name": "stdout",
     "output_type": "stream",
     "text": [
      ">>> ITERATION N. 1\n",
      "\n",
      "===============> HYPERPARAMETERS TUNING\n"
     ]
    },
    {
     "name": "stderr",
     "output_type": "stream",
     "text": [
      "/opt/anaconda3/lib/python3.8/site-packages/imblearn/utils/_validation.py:299: UserWarning: After over-sampling, the number of samples (79478) in class 0 will be larger than the number of samples in the majority class (class #0 -> 39739)\n",
      "  warnings.warn(\n",
      "/Users/Niki/Prediction-of-Active-and-Inactive-Regulatory-Regions-with-Embracenet-Multimodal-Neural-Network-/BIOINF_tesi/models/utils/training_models_multimodal.py:425: ExperimentalWarning: PatientPruner is experimental (supported from v2.8.0). The interface can change in the future.\n",
      "  pruner=optuna.pruners.PatientPruner(optuna.pruners.MedianPruner(), patience=2),\n",
      "\u001b[32m[I 2021-10-29 16:00:35,601]\u001b[0m A new study created in RDB with name: A549_active_P_vs_inactive_P_EmbraceNetMultimodal_1augmentation\u001b[0m\n"
     ]
    },
    {
     "data": {
      "application/vnd.jupyter.widget-view+json": {
       "model_id": "3f4510259b874dd38ac16f8ee122c55b",
       "version_major": 2,
       "version_minor": 0
      },
      "text/plain": [
       "Epochs:   0%|          | 0/100 [00:00<?, ?it/s]"
      ]
     },
     "metadata": {},
     "output_type": "display_data"
    },
    {
     "name": "stdout",
     "output_type": "stream",
     "text": [
      "EarlyStopping counter: 1 out of 4\n",
      "EarlyStopping counter: 2 out of 4\n",
      "EarlyStopping counter: 3 out of 4\n",
      "EarlyStopping counter: 1 out of 4\n",
      "EarlyStopping counter: 2 out of 4\n",
      "EarlyStopping counter: 1 out of 4\n",
      "EarlyStopping counter: 2 out of 4\n",
      "EarlyStopping counter: 3 out of 4\n"
     ]
    },
    {
     "name": "stderr",
     "output_type": "stream",
     "text": [
      "\u001b[32m[I 2021-10-29 18:42:42,693]\u001b[0m Trial 0 finished with value: 0.16901258157583998 and parameters: {'FFNN_n_layers': 2, 'FFNN_n_units_l0': 256, 'FFNN_dropout_l0': 0.0, 'FFNN_n_units_l1': 128, 'FFNN_dropout_l1': 0.3, 'CNN_n_layers': 3, 'CNN_out_channels_l0': 16, 'CNN_kernel_size_l0': 5, 'CNN_dropout_l0': 0, 'CNN_out_channels_l1': 32, 'CNN_kernel_size_l1': 11, 'CNN_dropout_l1': 0, 'CNN_out_channels_l2': 64, 'CNN_kernel_size_l2': 11, 'CNN_dropout_l2': 0, 'EMBRACENET_embracement_size': 512, 'n_post_layers': 2, 'EMBRACENET_n_units_l0': 32, 'EMBRACENET_dropout_l0': 0.5, 'EMBRACENET_n_units_l1': 32, 'EMBRACENET_dropout_l1': 0.3, 'selection_probabilities_FFNN': 0.2174996849758788, 'optimizer': 'RMSprop', 'lr': 0.00016630863475757899, 'weight_decay': 0.039207051528347046}. Best is trial 0 with value: 0.16901258157583998.\u001b[0m\n"
     ]
    },
    {
     "name": "stdout",
     "output_type": "stream",
     "text": [
      "EarlyStopping counter: 4 out of 4\n",
      "Early stopping the training\n"
     ]
    },
    {
     "data": {
      "application/vnd.jupyter.widget-view+json": {
       "model_id": "86f386cab23e4a2a9fcd1e97d70861dd",
       "version_major": 2,
       "version_minor": 0
      },
      "text/plain": [
       "Epochs:   0%|          | 0/100 [00:00<?, ?it/s]"
      ]
     },
     "metadata": {},
     "output_type": "display_data"
    },
    {
     "name": "stdout",
     "output_type": "stream",
     "text": [
      "EarlyStopping counter: 1 out of 4\n",
      "EarlyStopping counter: 1 out of 4\n",
      "EarlyStopping counter: 2 out of 4\n",
      "EarlyStopping counter: 3 out of 4\n"
     ]
    },
    {
     "name": "stderr",
     "output_type": "stream",
     "text": [
      "\u001b[32m[I 2021-10-29 20:22:18,094]\u001b[0m Trial 1 finished with value: 0.14532062230408016 and parameters: {'FFNN_n_layers': 2, 'FFNN_n_units_l0': 64, 'FFNN_dropout_l0': 0.2, 'FFNN_n_units_l1': 32, 'FFNN_dropout_l1': 0.0, 'CNN_n_layers': 3, 'CNN_out_channels_l0': 64, 'CNN_kernel_size_l0': 11, 'CNN_dropout_l0': 0.4, 'CNN_out_channels_l1': 96, 'CNN_kernel_size_l1': 15, 'CNN_dropout_l1': 0.5, 'CNN_out_channels_l2': 128, 'CNN_kernel_size_l2': 15, 'CNN_dropout_l2': 0, 'EMBRACENET_embracement_size': 1024, 'n_post_layers': 0, 'selection_probabilities_FFNN': 0.6441090308405308, 'optimizer': 'Adam', 'lr': 0.0021767157483715206, 'weight_decay': 0.05527467275442742}. Best is trial 0 with value: 0.16901258157583998.\u001b[0m\n"
     ]
    },
    {
     "name": "stdout",
     "output_type": "stream",
     "text": [
      "EarlyStopping counter: 4 out of 4\n",
      "Early stopping the training\n"
     ]
    },
    {
     "data": {
      "application/vnd.jupyter.widget-view+json": {
       "model_id": "65ccc6e21a1c4aec8416529ec3bb8c08",
       "version_major": 2,
       "version_minor": 0
      },
      "text/plain": [
       "Epochs:   0%|          | 0/100 [00:00<?, ?it/s]"
      ]
     },
     "metadata": {},
     "output_type": "display_data"
    },
    {
     "name": "stdout",
     "output_type": "stream",
     "text": [
      "EarlyStopping counter: 1 out of 4\n",
      "EarlyStopping counter: 1 out of 4\n",
      "EarlyStopping counter: 2 out of 4\n",
      "EarlyStopping counter: 3 out of 4\n"
     ]
    },
    {
     "name": "stderr",
     "output_type": "stream",
     "text": [
      "\u001b[32m[I 2021-10-29 20:51:07,429]\u001b[0m Trial 2 finished with value: 0.2340778434274154 and parameters: {'FFNN_n_layers': 2, 'FFNN_n_units_l0': 64, 'FFNN_dropout_l0': 0.3, 'FFNN_n_units_l1': 128, 'FFNN_dropout_l1': 0.2, 'CNN_n_layers': 2, 'CNN_out_channels_l0': 16, 'CNN_kernel_size_l0': 11, 'CNN_dropout_l0': 0, 'CNN_out_channels_l1': 32, 'CNN_kernel_size_l1': 15, 'CNN_dropout_l1': 0.4, 'EMBRACENET_embracement_size': 768, 'n_post_layers': 0, 'selection_probabilities_FFNN': 0.702337582557442, 'optimizer': 'Adam', 'lr': 0.00998024481216553, 'weight_decay': 0.00013366357779531654}. Best is trial 2 with value: 0.2340778434274154.\u001b[0m\n"
     ]
    },
    {
     "name": "stdout",
     "output_type": "stream",
     "text": [
      "EarlyStopping counter: 4 out of 4\n",
      "Early stopping the training\n",
      "Study statistics: \n",
      "  Number of finished trials:  3\n",
      "  Number of pruned trials:  0\n",
      "  Number of complete trials:  3\n",
      "Best trial:\n",
      "  Value:  0.2340778434274154\n",
      "  Params: \n",
      "    CNN_dropout_l0: 0\n",
      "    CNN_dropout_l1: 0.4\n",
      "    CNN_kernel_size_l0: 11\n",
      "    CNN_kernel_size_l1: 15\n",
      "    CNN_n_layers: 2\n",
      "    CNN_out_channels_l0: 16\n",
      "    CNN_out_channels_l1: 32\n",
      "    EMBRACENET_embracement_size: 768\n",
      "    FFNN_dropout_l0: 0.3\n",
      "    FFNN_dropout_l1: 0.2\n",
      "    FFNN_n_layers: 2\n",
      "    FFNN_n_units_l0: 64\n",
      "    FFNN_n_units_l1: 128\n",
      "    lr: 0.00998024481216553\n",
      "    n_post_layers: 0\n",
      "    optimizer: Adam\n",
      "    selection_probabilities_FFNN: 0.702337582557442\n",
      "    weight_decay: 0.00013366357779531654\n",
      "\n",
      "===============> MODEL TESTING\n"
     ]
    },
    {
     "name": "stderr",
     "output_type": "stream",
     "text": [
      "/opt/anaconda3/lib/python3.8/site-packages/imblearn/utils/_validation.py:299: UserWarning: After over-sampling, the number of samples (119530) in class 0 will be larger than the number of samples in the majority class (class #0 -> 59765)\n",
      "  warnings.warn(\n"
     ]
    },
    {
     "data": {
      "application/vnd.jupyter.widget-view+json": {
       "model_id": "d9475d939766439bbd5fe49e6f70232e",
       "version_major": 2,
       "version_minor": 0
      },
      "text/plain": [
       "Epochs:   0%|          | 0/100 [00:00<?, ?it/s]"
      ]
     },
     "metadata": {},
     "output_type": "display_data"
    },
    {
     "name": "stdout",
     "output_type": "stream",
     "text": [
      "EarlyStopping counter: 1 out of 4\n",
      "EarlyStopping counter: 2 out of 4\n",
      "EarlyStopping counter: 3 out of 4\n",
      "EarlyStopping counter: 4 out of 4\n",
      "Early stopping the training\n",
      "AUPRC test score: 0.2487610428434162\n",
      "\n",
      "\n",
      ">>> ITERATION N. 2\n",
      "\n",
      "===============> HYPERPARAMETERS TUNING\n"
     ]
    },
    {
     "name": "stderr",
     "output_type": "stream",
     "text": [
      "/opt/anaconda3/lib/python3.8/site-packages/imblearn/utils/_validation.py:299: UserWarning: After over-sampling, the number of samples (79622) in class 0 will be larger than the number of samples in the majority class (class #0 -> 39811)\n",
      "  warnings.warn(\n",
      "/Users/Niki/Prediction-of-Active-and-Inactive-Regulatory-Regions-with-Embracenet-Multimodal-Neural-Network-/BIOINF_tesi/models/utils/training_models_multimodal.py:425: ExperimentalWarning: PatientPruner is experimental (supported from v2.8.0). The interface can change in the future.\n",
      "  pruner=optuna.pruners.PatientPruner(optuna.pruners.MedianPruner(), patience=2),\n",
      "\u001b[32m[I 2021-10-29 21:19:47,867]\u001b[0m A new study created in RDB with name: A549_active_P_vs_inactive_P_EmbraceNetMultimodal_2augmentation\u001b[0m\n"
     ]
    },
    {
     "data": {
      "application/vnd.jupyter.widget-view+json": {
       "model_id": "1136728f4f61463c943a673a212c7b35",
       "version_major": 2,
       "version_minor": 0
      },
      "text/plain": [
       "Epochs:   0%|          | 0/100 [00:00<?, ?it/s]"
      ]
     },
     "metadata": {},
     "output_type": "display_data"
    },
    {
     "name": "stdout",
     "output_type": "stream",
     "text": [
      "EarlyStopping counter: 1 out of 4\n",
      "EarlyStopping counter: 2 out of 4\n",
      "EarlyStopping counter: 3 out of 4\n"
     ]
    },
    {
     "name": "stderr",
     "output_type": "stream",
     "text": [
      "\u001b[32m[I 2021-10-29 21:52:05,219]\u001b[0m Trial 0 finished with value: 0.10564993564993566 and parameters: {'FFNN_n_layers': 4, 'FFNN_n_units_l0': 256, 'FFNN_dropout_l0': 0.0, 'FFNN_n_units_l1': 16, 'FFNN_dropout_l1': 0.3, 'FFNN_n_units_l2': 64, 'FFNN_dropout_l2': 0.5, 'FFNN_n_units_l3': 4, 'FFNN_dropout_l3': 0.5, 'CNN_n_layers': 2, 'CNN_out_channels_l0': 64, 'CNN_kernel_size_l0': 5, 'CNN_dropout_l0': 0.2, 'CNN_out_channels_l1': 64, 'CNN_kernel_size_l1': 5, 'CNN_dropout_l1': 0.5, 'EMBRACENET_embracement_size': 512, 'n_post_layers': 1, 'EMBRACENET_n_units_l0': 128, 'EMBRACENET_dropout_l0': 0.5, 'selection_probabilities_FFNN': 0.016388618064994698, 'optimizer': 'Nadam', 'lr': 0.02964851087760392, 'weight_decay': 0.0004563563926878795}. Best is trial 0 with value: 0.10564993564993566.\u001b[0m\n"
     ]
    },
    {
     "name": "stdout",
     "output_type": "stream",
     "text": [
      "EarlyStopping counter: 4 out of 4\n",
      "Early stopping the training\n"
     ]
    },
    {
     "data": {
      "application/vnd.jupyter.widget-view+json": {
       "model_id": "04d6aba5f1784aadb24ba6a612568865",
       "version_major": 2,
       "version_minor": 0
      },
      "text/plain": [
       "Epochs:   0%|          | 0/100 [00:00<?, ?it/s]"
      ]
     },
     "metadata": {},
     "output_type": "display_data"
    },
    {
     "name": "stdout",
     "output_type": "stream",
     "text": [
      "EarlyStopping counter: 1 out of 4\n",
      "EarlyStopping counter: 1 out of 4\n",
      "EarlyStopping counter: 1 out of 4\n",
      "EarlyStopping counter: 2 out of 4\n",
      "EarlyStopping counter: 3 out of 4\n"
     ]
    },
    {
     "name": "stderr",
     "output_type": "stream",
     "text": [
      "\u001b[32m[I 2021-10-29 23:10:11,446]\u001b[0m Trial 1 finished with value: 0.16471413118393943 and parameters: {'FFNN_n_layers': 3, 'FFNN_n_units_l0': 64, 'FFNN_dropout_l0': 0.3, 'FFNN_n_units_l1': 16, 'FFNN_dropout_l1': 0.0, 'FFNN_n_units_l2': 16, 'FFNN_dropout_l2': 0.0, 'CNN_n_layers': 1, 'CNN_out_channels_l0': 64, 'CNN_kernel_size_l0': 5, 'CNN_dropout_l0': 0.4, 'EMBRACENET_embracement_size': 768, 'n_post_layers': 2, 'EMBRACENET_n_units_l0': 32, 'EMBRACENET_dropout_l0': 0.0, 'EMBRACENET_n_units_l1': 32, 'EMBRACENET_dropout_l1': 0.0, 'selection_probabilities_FFNN': 0.04813680128792319, 'optimizer': 'Adam', 'lr': 0.005391607770661034, 'weight_decay': 0.00937184842804597}. Best is trial 1 with value: 0.16471413118393943.\u001b[0m\n"
     ]
    },
    {
     "name": "stdout",
     "output_type": "stream",
     "text": [
      "EarlyStopping counter: 4 out of 4\n",
      "Early stopping the training\n"
     ]
    },
    {
     "data": {
      "application/vnd.jupyter.widget-view+json": {
       "model_id": "95e16ab012794c4e812ddbdf38930215",
       "version_major": 2,
       "version_minor": 0
      },
      "text/plain": [
       "Epochs:   0%|          | 0/100 [00:00<?, ?it/s]"
      ]
     },
     "metadata": {},
     "output_type": "display_data"
    },
    {
     "name": "stdout",
     "output_type": "stream",
     "text": [
      "EarlyStopping counter: 1 out of 4\n",
      "EarlyStopping counter: 2 out of 4\n",
      "EarlyStopping counter: 1 out of 4\n",
      "EarlyStopping counter: 2 out of 4\n",
      "EarlyStopping counter: 3 out of 4\n"
     ]
    },
    {
     "name": "stderr",
     "output_type": "stream",
     "text": [
      "\u001b[32m[I 2021-10-30 01:05:47,945]\u001b[0m Trial 2 finished with value: 0.17962073814076385 and parameters: {'FFNN_n_layers': 3, 'FFNN_n_units_l0': 128, 'FFNN_dropout_l0': 0.0, 'FFNN_n_units_l1': 16, 'FFNN_dropout_l1': 0.3, 'FFNN_n_units_l2': 16, 'FFNN_dropout_l2': 0.5, 'CNN_n_layers': 3, 'CNN_out_channels_l0': 64, 'CNN_kernel_size_l0': 11, 'CNN_dropout_l0': 0.3, 'CNN_out_channels_l1': 96, 'CNN_kernel_size_l1': 11, 'CNN_dropout_l1': 0.4, 'CNN_out_channels_l2': 128, 'CNN_kernel_size_l2': 11, 'CNN_dropout_l2': 0, 'EMBRACENET_embracement_size': 1024, 'n_post_layers': 2, 'EMBRACENET_n_units_l0': 64, 'EMBRACENET_dropout_l0': 0.3, 'EMBRACENET_n_units_l1': 32, 'EMBRACENET_dropout_l1': 0.0, 'selection_probabilities_FFNN': 0.40315796918416025, 'optimizer': 'Adam', 'lr': 4.098725911476782e-05, 'weight_decay': 0.025585397190565972}. Best is trial 2 with value: 0.17962073814076385.\u001b[0m\n"
     ]
    },
    {
     "name": "stdout",
     "output_type": "stream",
     "text": [
      "EarlyStopping counter: 4 out of 4\n",
      "Early stopping the training\n",
      "Study statistics: \n",
      "  Number of finished trials:  3\n",
      "  Number of pruned trials:  0\n",
      "  Number of complete trials:  3\n",
      "Best trial:\n",
      "  Value:  0.17962073814076385\n",
      "  Params: \n",
      "    CNN_dropout_l0: 0.3\n",
      "    CNN_dropout_l1: 0.4\n",
      "    CNN_dropout_l2: 0\n",
      "    CNN_kernel_size_l0: 11\n",
      "    CNN_kernel_size_l1: 11\n",
      "    CNN_kernel_size_l2: 11\n",
      "    CNN_n_layers: 3\n",
      "    CNN_out_channels_l0: 64\n",
      "    CNN_out_channels_l1: 96\n",
      "    CNN_out_channels_l2: 128\n",
      "    EMBRACENET_dropout_l0: 0.3\n",
      "    EMBRACENET_dropout_l1: 0.0\n",
      "    EMBRACENET_embracement_size: 1024\n",
      "    EMBRACENET_n_units_l0: 64\n",
      "    EMBRACENET_n_units_l1: 32\n",
      "    FFNN_dropout_l0: 0.0\n",
      "    FFNN_dropout_l1: 0.3\n",
      "    FFNN_dropout_l2: 0.5\n",
      "    FFNN_n_layers: 3\n",
      "    FFNN_n_units_l0: 128\n",
      "    FFNN_n_units_l1: 16\n",
      "    FFNN_n_units_l2: 16\n",
      "    lr: 4.098725911476782e-05\n",
      "    n_post_layers: 2\n",
      "    optimizer: Adam\n",
      "    selection_probabilities_FFNN: 0.40315796918416025\n",
      "    weight_decay: 0.025585397190565972\n",
      "\n",
      "===============> MODEL TESTING\n"
     ]
    },
    {
     "name": "stderr",
     "output_type": "stream",
     "text": [
      "/opt/anaconda3/lib/python3.8/site-packages/imblearn/utils/_validation.py:299: UserWarning: After over-sampling, the number of samples (119324) in class 0 will be larger than the number of samples in the majority class (class #0 -> 59662)\n",
      "  warnings.warn(\n"
     ]
    },
    {
     "data": {
      "application/vnd.jupyter.widget-view+json": {
       "model_id": "fcc59957616644cf8487ce19514aaea8",
       "version_major": 2,
       "version_minor": 0
      },
      "text/plain": [
       "Epochs:   0%|          | 0/100 [00:00<?, ?it/s]"
      ]
     },
     "metadata": {},
     "output_type": "display_data"
    },
    {
     "name": "stdout",
     "output_type": "stream",
     "text": [
      "EarlyStopping counter: 1 out of 4\n",
      "EarlyStopping counter: 1 out of 4\n",
      "EarlyStopping counter: 2 out of 4\n",
      "EarlyStopping counter: 3 out of 4\n",
      "EarlyStopping counter: 4 out of 4\n",
      "Early stopping the training\n",
      "AUPRC test score: 0.1785494712982662\n",
      "\n",
      "\n",
      ">>> ITERATION N. 3\n",
      "\n",
      "===============> HYPERPARAMETERS TUNING\n"
     ]
    },
    {
     "name": "stderr",
     "output_type": "stream",
     "text": [
      "/opt/anaconda3/lib/python3.8/site-packages/imblearn/utils/_validation.py:299: UserWarning: After over-sampling, the number of samples (79602) in class 0 will be larger than the number of samples in the majority class (class #0 -> 39801)\n",
      "  warnings.warn(\n",
      "/Users/Niki/Prediction-of-Active-and-Inactive-Regulatory-Regions-with-Embracenet-Multimodal-Neural-Network-/BIOINF_tesi/models/utils/training_models_multimodal.py:425: ExperimentalWarning: PatientPruner is experimental (supported from v2.8.0). The interface can change in the future.\n",
      "  pruner=optuna.pruners.PatientPruner(optuna.pruners.MedianPruner(), patience=2),\n",
      "\u001b[32m[I 2021-10-30 03:50:10,415]\u001b[0m A new study created in RDB with name: A549_active_P_vs_inactive_P_EmbraceNetMultimodal_3augmentation\u001b[0m\n"
     ]
    },
    {
     "data": {
      "application/vnd.jupyter.widget-view+json": {
       "model_id": "faca6c652cf04264b594f378614205fa",
       "version_major": 2,
       "version_minor": 0
      },
      "text/plain": [
       "Epochs:   0%|          | 0/100 [00:00<?, ?it/s]"
      ]
     },
     "metadata": {},
     "output_type": "display_data"
    },
    {
     "name": "stdout",
     "output_type": "stream",
     "text": [
      "EarlyStopping counter: 1 out of 4\n",
      "EarlyStopping counter: 1 out of 4\n",
      "EarlyStopping counter: 1 out of 4\n",
      "EarlyStopping counter: 1 out of 4\n",
      "EarlyStopping counter: 1 out of 4\n",
      "EarlyStopping counter: 2 out of 4\n",
      "EarlyStopping counter: 3 out of 4\n"
     ]
    },
    {
     "name": "stderr",
     "output_type": "stream",
     "text": [
      "\u001b[32m[I 2021-10-30 05:09:24,993]\u001b[0m Trial 0 finished with value: 0.1720705401062063 and parameters: {'FFNN_n_layers': 4, 'FFNN_n_units_l0': 64, 'FFNN_dropout_l0': 0.3, 'FFNN_n_units_l1': 128, 'FFNN_dropout_l1': 0.0, 'FFNN_n_units_l2': 16, 'FFNN_dropout_l2': 0.0, 'FFNN_n_units_l3': 32, 'FFNN_dropout_l3': 0.4, 'CNN_n_layers': 1, 'CNN_out_channels_l0': 32, 'CNN_kernel_size_l0': 11, 'CNN_dropout_l0': 0.3, 'EMBRACENET_embracement_size': 512, 'n_post_layers': 1, 'EMBRACENET_n_units_l0': 512, 'EMBRACENET_dropout_l0': 0.5, 'selection_probabilities_FFNN': 0.33663072254679516, 'optimizer': 'Nadam', 'lr': 2.5254745224999192e-05, 'weight_decay': 0.015817334497802697}. Best is trial 0 with value: 0.1720705401062063.\u001b[0m\n"
     ]
    },
    {
     "name": "stdout",
     "output_type": "stream",
     "text": [
      "EarlyStopping counter: 4 out of 4\n",
      "Early stopping the training\n"
     ]
    },
    {
     "data": {
      "application/vnd.jupyter.widget-view+json": {
       "model_id": "c099212636344a948e60e166cca24855",
       "version_major": 2,
       "version_minor": 0
      },
      "text/plain": [
       "Epochs:   0%|          | 0/100 [00:00<?, ?it/s]"
      ]
     },
     "metadata": {},
     "output_type": "display_data"
    },
    {
     "name": "stdout",
     "output_type": "stream",
     "text": [
      "EarlyStopping counter: 1 out of 4\n",
      "EarlyStopping counter: 1 out of 4\n",
      "EarlyStopping counter: 2 out of 4\n",
      "EarlyStopping counter: 1 out of 4\n",
      "EarlyStopping counter: 2 out of 4\n",
      "EarlyStopping counter: 3 out of 4\n"
     ]
    },
    {
     "name": "stderr",
     "output_type": "stream",
     "text": [
      "\u001b[32m[I 2021-10-30 06:55:38,836]\u001b[0m Trial 1 finished with value: 0.10208586137157569 and parameters: {'FFNN_n_layers': 2, 'FFNN_n_units_l0': 256, 'FFNN_dropout_l0': 0.3, 'FFNN_n_units_l1': 32, 'FFNN_dropout_l1': 0.3, 'CNN_n_layers': 4, 'CNN_out_channels_l0': 16, 'CNN_kernel_size_l0': 11, 'CNN_dropout_l0': 0, 'CNN_out_channels_l1': 64, 'CNN_kernel_size_l1': 5, 'CNN_dropout_l1': 0.5, 'CNN_out_channels_l2': 64, 'CNN_kernel_size_l2': 11, 'CNN_dropout_l2': 0.5, 'CNN_out_channels_l3': 512, 'CNN_kernel_size_l3': 5, 'CNN_dropout_l3': 0, 'EMBRACENET_embracement_size': 1024, 'n_post_layers': 2, 'EMBRACENET_n_units_l0': 32, 'EMBRACENET_dropout_l0': 0.2, 'EMBRACENET_n_units_l1': 256, 'EMBRACENET_dropout_l1': 0.5, 'selection_probabilities_FFNN': 0.3999014852853068, 'optimizer': 'Nadam', 'lr': 0.00518498393819934, 'weight_decay': 0.02813019734717373}. Best is trial 0 with value: 0.1720705401062063.\u001b[0m\n"
     ]
    },
    {
     "name": "stdout",
     "output_type": "stream",
     "text": [
      "EarlyStopping counter: 4 out of 4\n",
      "Early stopping the training\n"
     ]
    },
    {
     "data": {
      "application/vnd.jupyter.widget-view+json": {
       "model_id": "d05e852c0a364c729509b13c57d1f06e",
       "version_major": 2,
       "version_minor": 0
      },
      "text/plain": [
       "Epochs:   0%|          | 0/100 [00:00<?, ?it/s]"
      ]
     },
     "metadata": {},
     "output_type": "display_data"
    },
    {
     "name": "stdout",
     "output_type": "stream",
     "text": [
      "EarlyStopping counter: 1 out of 4\n",
      "EarlyStopping counter: 2 out of 4\n",
      "EarlyStopping counter: 3 out of 4\n",
      "EarlyStopping counter: 1 out of 4\n",
      "EarlyStopping counter: 2 out of 4\n",
      "EarlyStopping counter: 1 out of 4\n",
      "EarlyStopping counter: 2 out of 4\n",
      "EarlyStopping counter: 3 out of 4\n"
     ]
    },
    {
     "name": "stderr",
     "output_type": "stream",
     "text": [
      "\u001b[32m[I 2021-10-30 11:06:08,499]\u001b[0m Trial 2 finished with value: 0.18080975939629193 and parameters: {'FFNN_n_layers': 4, 'FFNN_n_units_l0': 64, 'FFNN_dropout_l0': 0.3, 'FFNN_n_units_l1': 32, 'FFNN_dropout_l1': 0.2, 'FFNN_n_units_l2': 64, 'FFNN_dropout_l2': 0.4, 'FFNN_n_units_l3': 16, 'FFNN_dropout_l3': 0.5, 'CNN_n_layers': 3, 'CNN_out_channels_l0': 64, 'CNN_kernel_size_l0': 15, 'CNN_dropout_l0': 0.2, 'CNN_out_channels_l1': 64, 'CNN_kernel_size_l1': 15, 'CNN_dropout_l1': 0, 'CNN_out_channels_l2': 256, 'CNN_kernel_size_l2': 15, 'CNN_dropout_l2': 0.5, 'EMBRACENET_embracement_size': 1024, 'n_post_layers': 0, 'selection_probabilities_FFNN': 0.750627739403597, 'optimizer': 'Nadam', 'lr': 0.00013077919362233223, 'weight_decay': 0.031118853431605815}. Best is trial 2 with value: 0.18080975939629193.\u001b[0m\n"
     ]
    },
    {
     "name": "stdout",
     "output_type": "stream",
     "text": [
      "EarlyStopping counter: 4 out of 4\n",
      "Early stopping the training\n",
      "Study statistics: \n",
      "  Number of finished trials:  3\n",
      "  Number of pruned trials:  0\n",
      "  Number of complete trials:  3\n",
      "Best trial:\n",
      "  Value:  0.18080975939629193\n",
      "  Params: \n",
      "    CNN_dropout_l0: 0.2\n",
      "    CNN_dropout_l1: 0\n",
      "    CNN_dropout_l2: 0.5\n",
      "    CNN_kernel_size_l0: 15\n",
      "    CNN_kernel_size_l1: 15\n",
      "    CNN_kernel_size_l2: 15\n",
      "    CNN_n_layers: 3\n",
      "    CNN_out_channels_l0: 64\n",
      "    CNN_out_channels_l1: 64\n",
      "    CNN_out_channels_l2: 256\n",
      "    EMBRACENET_embracement_size: 1024\n",
      "    FFNN_dropout_l0: 0.3\n",
      "    FFNN_dropout_l1: 0.2\n",
      "    FFNN_dropout_l2: 0.4\n",
      "    FFNN_dropout_l3: 0.5\n",
      "    FFNN_n_layers: 4\n",
      "    FFNN_n_units_l0: 64\n",
      "    FFNN_n_units_l1: 32\n",
      "    FFNN_n_units_l2: 64\n",
      "    FFNN_n_units_l3: 16\n",
      "    lr: 0.00013077919362233223\n",
      "    n_post_layers: 0\n",
      "    optimizer: Nadam\n",
      "    selection_probabilities_FFNN: 0.750627739403597\n",
      "    weight_decay: 0.031118853431605815\n",
      "\n",
      "===============> MODEL TESTING\n"
     ]
    },
    {
     "name": "stderr",
     "output_type": "stream",
     "text": [
      "/opt/anaconda3/lib/python3.8/site-packages/imblearn/utils/_validation.py:299: UserWarning: After over-sampling, the number of samples (119462) in class 0 will be larger than the number of samples in the majority class (class #0 -> 59731)\n",
      "  warnings.warn(\n"
     ]
    },
    {
     "data": {
      "application/vnd.jupyter.widget-view+json": {
       "model_id": "e96347e8e72d40e1ba844f75bb476f1c",
       "version_major": 2,
       "version_minor": 0
      },
      "text/plain": [
       "Epochs:   0%|          | 0/100 [00:00<?, ?it/s]"
      ]
     },
     "metadata": {},
     "output_type": "display_data"
    }
   ],
   "source": [
    "kf_CV = Kfold_CV_Multimodal()\n",
    "\n",
    "kf_CV(build_dataloader_pipeline = pipe_data_load,\n",
    "                num_epochs = 100,\n",
    "                n_folds=3,\n",
    "                cell_line=cell_line,\n",
    "                augmentation=True,\n",
    "                model = model,\n",
    "                device = device,\n",
    "                task=task,\n",
    "                sampler = 'TPE',\n",
    "                study_name = f'{cell_line}_{task}_{model.__name__}',\n",
    "                test_model_path = f'{cell_line}_{task}_{model.__name__}_TEST')"
   ]
  },
  {
   "cell_type": "code",
   "execution_count": null,
   "metadata": {},
   "outputs": [],
   "source": [
    "results_dict[cell_line][task][f'{model.__name__}_augm'] = kf_CV.scores_dict"
   ]
  },
  {
   "cell_type": "code",
   "execution_count": null,
   "metadata": {},
   "outputs": [],
   "source": [
    "with open ('results_dict.pickle', 'wb') as fout:\n",
    "    pickle.dump(OrderedDict(results_dict), fout)"
   ]
  },
  {
   "cell_type": "markdown",
   "metadata": {},
   "source": [
    "---\n",
    "---"
   ]
  },
  {
   "cell_type": "markdown",
   "metadata": {},
   "source": [
    "## 3) ACTIVE ENHANCERS vs ACTIVE PROMOTERS"
   ]
  },
  {
   "cell_type": "code",
   "execution_count": null,
   "metadata": {},
   "outputs": [],
   "source": [
    "task = TASKS[2]\n",
    "task"
   ]
  },
  {
   "cell_type": "code",
   "execution_count": null,
   "metadata": {},
   "outputs": [],
   "source": [
    "pipe_data_load = Build_DataLoader_Pipeline(path_name=f'{task}.pickle')"
   ]
  },
  {
   "cell_type": "markdown",
   "metadata": {},
   "source": [
    "---\n",
    "### EMBRACENET"
   ]
  },
  {
   "cell_type": "code",
   "execution_count": 24,
   "metadata": {},
   "outputs": [],
   "source": [
    "model=EmbraceNetMultimodal"
   ]
  },
  {
   "cell_type": "code",
   "execution_count": 25,
   "metadata": {
    "scrolled": true
   },
   "outputs": [
    {
     "name": "stderr",
     "output_type": "stream",
     "text": [
      "/Users/Niki/Prediction-of-Active-and-Inactive-Regulatory-Regions-with-Embracenet-Multimodal-Neural-Network-/BIOINF_tesi/models/utils/training_models_multimodal.py:425: ExperimentalWarning: PatientPruner is experimental (supported from v2.8.0). The interface can change in the future.\n",
      "  pruner=optuna.pruners.PatientPruner(optuna.pruners.MedianPruner(), patience=2),\n",
      "\u001b[32m[I 2021-10-26 09:37:56,373]\u001b[0m Using an existing study with name 'A549_active_E_vs_active_P_EmbraceNetMultimodal_1' instead of creating a new one.\u001b[0m\n"
     ]
    },
    {
     "name": "stdout",
     "output_type": "stream",
     "text": [
      ">>> ITERATION N. 1\n",
      "\n",
      "===============> HYPERPARAMETERS TUNING\n",
      "Study statistics: \n",
      "  Number of finished trials:  3\n",
      "  Number of pruned trials:  0\n",
      "  Number of complete trials:  3\n",
      "Best trial:\n",
      "  Value:  0.6768720385991267\n",
      "  Params: \n",
      "    CNN_dropout_l0: 0.3\n",
      "    CNN_dropout_l1: 0.5\n",
      "    CNN_kernel_size_l0: 5\n",
      "    CNN_kernel_size_l1: 5\n",
      "    CNN_n_layers: 2\n",
      "    CNN_out_channels_l0: 16\n",
      "    CNN_out_channels_l1: 64\n",
      "    EMBRACENET_dropout_l0: 0.5\n",
      "    EMBRACENET_dropout_l1: 0.3\n",
      "    EMBRACENET_embracement_size: 1024\n",
      "    EMBRACENET_n_units_l0: 64\n",
      "    EMBRACENET_n_units_l1: 16\n",
      "    FFNN_dropout_l0: 0.2\n",
      "    FFNN_n_layers: 1\n",
      "    FFNN_n_units_l0: 256\n",
      "    lr: 0.0007885779244108592\n",
      "    n_post_layers: 2\n",
      "    optimizer: Nadam\n",
      "    selection_probabilities_FFNN: 0.935192174728515\n",
      "    weight_decay: 0.002380136234668125\n",
      "\n",
      "===============> MODEL TESTING\n"
     ]
    },
    {
     "name": "stderr",
     "output_type": "stream",
     "text": [
      "/Users/Niki/Prediction-of-Active-and-Inactive-Regulatory-Regions-with-Embracenet-Multimodal-Neural-Network-/BIOINF_tesi/models/utils/training_models_multimodal.py:425: ExperimentalWarning: PatientPruner is experimental (supported from v2.8.0). The interface can change in the future.\n",
      "  pruner=optuna.pruners.PatientPruner(optuna.pruners.MedianPruner(), patience=2),\n",
      "\u001b[32m[I 2021-10-26 09:37:56,609]\u001b[0m Using an existing study with name 'A549_active_E_vs_active_P_EmbraceNetMultimodal_1_2' instead of creating a new one.\u001b[0m\n"
     ]
    },
    {
     "name": "stdout",
     "output_type": "stream",
     "text": [
      "AUPRC test score: 0.7212728136488038\n",
      "\n",
      "\n",
      ">>> ITERATION N. 2\n",
      "\n",
      "===============> HYPERPARAMETERS TUNING\n",
      "Study statistics: \n",
      "  Number of finished trials:  3\n",
      "  Number of pruned trials:  0\n",
      "  Number of complete trials:  3\n",
      "Best trial:\n",
      "  Value:  0.6578780860880442\n",
      "  Params: \n",
      "    CNN_dropout_l0: 0\n",
      "    CNN_dropout_l1: 0.5\n",
      "    CNN_dropout_l2: 0.5\n",
      "    CNN_kernel_size_l0: 15\n",
      "    CNN_kernel_size_l1: 15\n",
      "    CNN_kernel_size_l2: 15\n",
      "    CNN_n_layers: 3\n",
      "    CNN_out_channels_l0: 16\n",
      "    CNN_out_channels_l1: 96\n",
      "    CNN_out_channels_l2: 64\n",
      "    EMBRACENET_embracement_size: 512\n",
      "    FFNN_dropout_l0: 0.0\n",
      "    FFNN_dropout_l1: 0.3\n",
      "    FFNN_n_layers: 2\n",
      "    FFNN_n_units_l0: 128\n",
      "    FFNN_n_units_l1: 32\n",
      "    lr: 2.1084476862965283e-05\n",
      "    n_post_layers: 0\n",
      "    optimizer: Adam\n",
      "    selection_probabilities_FFNN: 0.7735309365062423\n",
      "    weight_decay: 0.0002340208584824061\n",
      "\n",
      "===============> MODEL TESTING\n",
      "AUPRC test score: 0.6723215565112964\n",
      "\n",
      "\n",
      ">>> ITERATION N. 3\n",
      "\n",
      "===============> HYPERPARAMETERS TUNING\n"
     ]
    },
    {
     "name": "stderr",
     "output_type": "stream",
     "text": [
      "/Users/Niki/Prediction-of-Active-and-Inactive-Regulatory-Regions-with-Embracenet-Multimodal-Neural-Network-/BIOINF_tesi/models/utils/training_models_multimodal.py:425: ExperimentalWarning: PatientPruner is experimental (supported from v2.8.0). The interface can change in the future.\n",
      "  pruner=optuna.pruners.PatientPruner(optuna.pruners.MedianPruner(), patience=2),\n",
      "\u001b[32m[I 2021-10-26 09:37:56,768]\u001b[0m Using an existing study with name 'A549_active_E_vs_active_P_EmbraceNetMultimodal_1_2_3' instead of creating a new one.\u001b[0m\n"
     ]
    },
    {
     "name": "stdout",
     "output_type": "stream",
     "text": [
      "Study statistics: \n",
      "  Number of finished trials:  3\n",
      "  Number of pruned trials:  0\n",
      "  Number of complete trials:  3\n",
      "Best trial:\n",
      "  Value:  0.6868036254118559\n",
      "  Params: \n",
      "    CNN_dropout_l0: 0.4\n",
      "    CNN_kernel_size_l0: 15\n",
      "    CNN_n_layers: 1\n",
      "    CNN_out_channels_l0: 16\n",
      "    EMBRACENET_dropout_l0: 0.0\n",
      "    EMBRACENET_embracement_size: 768\n",
      "    EMBRACENET_n_units_l0: 64\n",
      "    FFNN_dropout_l0: 0.3\n",
      "    FFNN_dropout_l1: 0.4\n",
      "    FFNN_n_layers: 2\n",
      "    FFNN_n_units_l0: 64\n",
      "    FFNN_n_units_l1: 32\n",
      "    lr: 0.00037105954310415515\n",
      "    n_post_layers: 1\n",
      "    optimizer: Adam\n",
      "    selection_probabilities_FFNN: 0.07911471687076432\n",
      "    weight_decay: 0.00021222132767789495\n",
      "\n",
      "===============> MODEL TESTING\n",
      "AUPRC test score: 0.6755977372853926\n",
      "\n",
      "\n",
      "\n",
      "3-FOLD CROSS-VALIDATION AUPRC TEST SCORE: 0.68973\n"
     ]
    }
   ],
   "source": [
    "kf_CV = Kfold_CV_Multimodal()\n",
    "\n",
    "kf_CV(build_dataloader_pipeline = pipe_data_load,\n",
    "                num_epochs = 100,\n",
    "                n_folds=3,\n",
    "                cell_line=cell_line,\n",
    "                augmentation=False,\n",
    "                model = model,\n",
    "                device = device,\n",
    "                task=task,\n",
    "                sampler = 'TPE',\n",
    "                study_name = f'{cell_line}_{task}_{model.__name__}',\n",
    "                test_model_path = f'{cell_line}_{task}_{model.__name__}_TEST')"
   ]
  },
  {
   "cell_type": "code",
   "execution_count": 26,
   "metadata": {},
   "outputs": [],
   "source": [
    "results_dict[cell_line][task][model.__name__] = kf_CV.scores_dict"
   ]
  },
  {
   "cell_type": "code",
   "execution_count": 27,
   "metadata": {},
   "outputs": [],
   "source": [
    "with open ('results_dict.pickle', 'wb') as fout:\n",
    "    pickle.dump(OrderedDict(results_dict), fout)"
   ]
  },
  {
   "cell_type": "markdown",
   "metadata": {},
   "source": [
    "### CONCATNET"
   ]
  },
  {
   "cell_type": "code",
   "execution_count": 23,
   "metadata": {},
   "outputs": [],
   "source": [
    "model=ConcatNetMultimodal"
   ]
  },
  {
   "cell_type": "code",
   "execution_count": 24,
   "metadata": {
    "scrolled": true
   },
   "outputs": [
    {
     "name": "stderr",
     "output_type": "stream",
     "text": [
      "/Users/Niki/Prediction-of-Active-and-Inactive-Regulatory-Regions-with-Embracenet-Multimodal-Neural-Network-/BIOINF_tesi/models/utils/training_models_multimodal.py:425: ExperimentalWarning: PatientPruner is experimental (supported from v2.8.0). The interface can change in the future.\n",
      "  pruner=optuna.pruners.PatientPruner(optuna.pruners.MedianPruner(), patience=2),\n",
      "\u001b[32m[I 2021-10-27 13:16:53,114]\u001b[0m Using an existing study with name 'A549_active_E_vs_active_P_ConcatNetMultimodal_1' instead of creating a new one.\u001b[0m\n"
     ]
    },
    {
     "name": "stdout",
     "output_type": "stream",
     "text": [
      ">>> ITERATION N. 1\n",
      "\n",
      "===============> HYPERPARAMETERS TUNING\n",
      "Study statistics: \n",
      "  Number of finished trials:  3\n",
      "  Number of pruned trials:  0\n",
      "  Number of complete trials:  3\n",
      "Best trial:\n",
      "  Value:  0.665382178124729\n",
      "  Params: \n",
      "    CNN_dropout_l0: 0.2\n",
      "    CNN_dropout_l1: 0\n",
      "    CNN_dropout_l2: 0.4\n",
      "    CNN_dropout_l3: 0\n",
      "    CNN_kernel_size_l0: 5\n",
      "    CNN_kernel_size_l1: 11\n",
      "    CNN_kernel_size_l2: 15\n",
      "    CNN_kernel_size_l3: 11\n",
      "    CNN_n_layers: 4\n",
      "    CNN_out_channels_l0: 64\n",
      "    CNN_out_channels_l1: 32\n",
      "    CNN_out_channels_l2: 64\n",
      "    CNN_out_channels_l3: 128\n",
      "    CONCATNET_dropout_l0: 0.0\n",
      "    CONCATNET_dropout_l1: 0.3\n",
      "    CONCATNET_n_post_layers: 2\n",
      "    CONCATNET_n_units_l0: 768\n",
      "    CONCATNET_n_units_l1: 512\n",
      "    FFNN_dropout_l0: 0.3\n",
      "    FFNN_dropout_l1: 0.4\n",
      "    FFNN_n_layers: 2\n",
      "    FFNN_n_units_l0: 32\n",
      "    FFNN_n_units_l1: 16\n",
      "    lr: 0.0005017912601029304\n",
      "    optimizer: Adam\n",
      "    weight_decay: 0.0002493483279015918\n",
      "\n",
      "===============> MODEL TESTING\n",
      "AUPRC test score: 0.7084127373362482\n",
      "\n",
      "\n",
      ">>> ITERATION N. 2\n"
     ]
    },
    {
     "name": "stderr",
     "output_type": "stream",
     "text": [
      "/Users/Niki/Prediction-of-Active-and-Inactive-Regulatory-Regions-with-Embracenet-Multimodal-Neural-Network-/BIOINF_tesi/models/utils/training_models_multimodal.py:425: ExperimentalWarning: PatientPruner is experimental (supported from v2.8.0). The interface can change in the future.\n",
      "  pruner=optuna.pruners.PatientPruner(optuna.pruners.MedianPruner(), patience=2),\n",
      "\u001b[32m[I 2021-10-27 13:16:53,314]\u001b[0m Using an existing study with name 'A549_active_E_vs_active_P_ConcatNetMultimodal_1_2' instead of creating a new one.\u001b[0m\n"
     ]
    },
    {
     "name": "stdout",
     "output_type": "stream",
     "text": [
      "\n",
      "===============> HYPERPARAMETERS TUNING\n",
      "Study statistics: \n",
      "  Number of finished trials:  3\n",
      "  Number of pruned trials:  0\n",
      "  Number of complete trials:  3\n",
      "Best trial:\n",
      "  Value:  0.3221634287081295\n",
      "  Params: \n",
      "    CNN_dropout_l0: 0.3\n",
      "    CNN_dropout_l1: 0.4\n",
      "    CNN_dropout_l2: 0.4\n",
      "    CNN_dropout_l3: 0\n",
      "    CNN_kernel_size_l0: 11\n",
      "    CNN_kernel_size_l1: 15\n",
      "    CNN_kernel_size_l2: 5\n",
      "    CNN_kernel_size_l3: 5\n",
      "    CNN_n_layers: 4\n",
      "    CNN_out_channels_l0: 64\n",
      "    CNN_out_channels_l1: 96\n",
      "    CNN_out_channels_l2: 64\n",
      "    CNN_out_channels_l3: 128\n",
      "    CONCATNET_dropout_l0: 0.2\n",
      "    CONCATNET_n_post_layers: 1\n",
      "    CONCATNET_n_units_l0: 512\n",
      "    FFNN_dropout_l0: 0.3\n",
      "    FFNN_n_layers: 1\n",
      "    FFNN_n_units_l0: 256\n",
      "    lr: 0.01288078302860345\n",
      "    optimizer: Nadam\n",
      "    weight_decay: 0.020859619651065708\n",
      "\n",
      "===============> MODEL TESTING\n",
      "AUPRC test score: 0.6414147940388267\n",
      "\n",
      "\n"
     ]
    },
    {
     "name": "stderr",
     "output_type": "stream",
     "text": [
      "/Users/Niki/Prediction-of-Active-and-Inactive-Regulatory-Regions-with-Embracenet-Multimodal-Neural-Network-/BIOINF_tesi/models/utils/training_models_multimodal.py:425: ExperimentalWarning: PatientPruner is experimental (supported from v2.8.0). The interface can change in the future.\n",
      "  pruner=optuna.pruners.PatientPruner(optuna.pruners.MedianPruner(), patience=2),\n",
      "\u001b[32m[I 2021-10-27 13:16:53,513]\u001b[0m Using an existing study with name 'A549_active_E_vs_active_P_ConcatNetMultimodal_1_2_3' instead of creating a new one.\u001b[0m\n"
     ]
    },
    {
     "name": "stdout",
     "output_type": "stream",
     "text": [
      ">>> ITERATION N. 3\n",
      "\n",
      "===============> HYPERPARAMETERS TUNING\n",
      "Study statistics: \n",
      "  Number of finished trials:  3\n",
      "  Number of pruned trials:  0\n",
      "  Number of complete trials:  3\n",
      "Best trial:\n",
      "  Value:  0.7277453545136864\n",
      "  Params: \n",
      "    CNN_dropout_l0: 0.3\n",
      "    CNN_dropout_l1: 0.5\n",
      "    CNN_kernel_size_l0: 11\n",
      "    CNN_kernel_size_l1: 15\n",
      "    CNN_n_layers: 2\n",
      "    CNN_out_channels_l0: 64\n",
      "    CNN_out_channels_l1: 96\n",
      "    CONCATNET_dropout_l0: 0.2\n",
      "    CONCATNET_n_post_layers: 1\n",
      "    CONCATNET_n_units_l0: 768\n",
      "    FFNN_dropout_l0: 0.4\n",
      "    FFNN_dropout_l1: 0.4\n",
      "    FFNN_n_layers: 2\n",
      "    FFNN_n_units_l0: 128\n",
      "    FFNN_n_units_l1: 64\n",
      "    lr: 2.029598477549592e-05\n",
      "    optimizer: Nadam\n",
      "    weight_decay: 0.0005808738922171065\n",
      "\n",
      "===============> MODEL TESTING\n",
      "AUPRC test score: 0.7314371454085764\n",
      "\n",
      "\n",
      "\n",
      "3-FOLD CROSS-VALIDATION AUPRC TEST SCORE: 0.69375\n"
     ]
    }
   ],
   "source": [
    "kf_CV = Kfold_CV_Multimodal()\n",
    "\n",
    "kf_CV(build_dataloader_pipeline = pipe_data_load,\n",
    "                num_epochs = 100,\n",
    "                n_folds=3,\n",
    "                cell_line=cell_line,\n",
    "                augmentation=False,\n",
    "                model = model,\n",
    "                device = device,\n",
    "                task=task,\n",
    "                sampler = 'TPE',\n",
    "                study_name = f'{cell_line}_{task}_{model.__name__}',\n",
    "                test_model_path = f'{cell_line}_{task}_{model.__name__}_TEST')"
   ]
  },
  {
   "cell_type": "code",
   "execution_count": 25,
   "metadata": {},
   "outputs": [],
   "source": [
    "results_dict[cell_line][task][model.__name__] = kf_CV.scores_dict"
   ]
  },
  {
   "cell_type": "code",
   "execution_count": 26,
   "metadata": {},
   "outputs": [],
   "source": [
    "with open ('results_dict.pickle', 'wb') as fout:\n",
    "    pickle.dump(OrderedDict(results_dict), fout)"
   ]
  },
  {
   "cell_type": "markdown",
   "metadata": {},
   "source": [
    "---\n",
    "## AUGMENTATION"
   ]
  },
  {
   "cell_type": "markdown",
   "metadata": {},
   "source": [
    "### EMBRACENET"
   ]
  },
  {
   "cell_type": "code",
   "execution_count": null,
   "metadata": {},
   "outputs": [],
   "source": [
    "model=EmbraceNetMultimodal"
   ]
  },
  {
   "cell_type": "code",
   "execution_count": null,
   "metadata": {},
   "outputs": [],
   "source": [
    "kf_CV = Kfold_CV_Multimodal()\n",
    "\n",
    "kf_CV(build_dataloader_pipeline = pipe_data_load,\n",
    "                num_epochs = 100,\n",
    "                n_folds=3,\n",
    "                cell_line=cell_line,\n",
    "                augmentation=True,\n",
    "                model = model,\n",
    "                device = device,\n",
    "                task=task,\n",
    "                sampler = 'TPE',\n",
    "                study_name = f'{cell_line}_{task}_{model.__name__}',\n",
    "                test_model_path = f'{cell_line}_{task}_{model.__name__}_TEST')"
   ]
  },
  {
   "cell_type": "code",
   "execution_count": null,
   "metadata": {},
   "outputs": [],
   "source": [
    "results_dict[cell_line][task][f'{model.__name__}_augm'] = kf_CV.scores_dict"
   ]
  },
  {
   "cell_type": "code",
   "execution_count": null,
   "metadata": {},
   "outputs": [],
   "source": [
    "with open ('results_dict.pickle', 'wb') as fout:\n",
    "    pickle.dump(OrderedDict(results_dict), fout)"
   ]
  },
  {
   "cell_type": "markdown",
   "metadata": {},
   "source": [
    "---\n",
    "---"
   ]
  },
  {
   "cell_type": "markdown",
   "metadata": {},
   "source": [
    "## 4) INACTIVE ENHANCERS vs INACTIVE PROMOTERS"
   ]
  },
  {
   "cell_type": "code",
   "execution_count": 10,
   "metadata": {},
   "outputs": [
    {
     "data": {
      "text/plain": [
       "'inactive_E_vs_inactive_P'"
      ]
     },
     "execution_count": 10,
     "metadata": {},
     "output_type": "execute_result"
    }
   ],
   "source": [
    "task = TASKS[3]\n",
    "task"
   ]
  },
  {
   "cell_type": "code",
   "execution_count": 11,
   "metadata": {},
   "outputs": [
    {
     "name": "stdout",
     "output_type": "stream",
     "text": [
      "Data Preprocessing Done!\n"
     ]
    }
   ],
   "source": [
    "pipe_data_load = Build_DataLoader_Pipeline(path_name=f'{task}.pickle')"
   ]
  },
  {
   "cell_type": "markdown",
   "metadata": {},
   "source": [
    "---\n",
    "### EMBRACENET"
   ]
  },
  {
   "cell_type": "code",
   "execution_count": 30,
   "metadata": {},
   "outputs": [],
   "source": [
    "model=EmbraceNetMultimodal"
   ]
  },
  {
   "cell_type": "code",
   "execution_count": 31,
   "metadata": {
    "scrolled": true
   },
   "outputs": [
    {
     "name": "stdout",
     "output_type": "stream",
     "text": [
      ">>> ITERATION N. 1\n",
      "\n",
      "===============> HYPERPARAMETERS TUNING\n"
     ]
    },
    {
     "name": "stderr",
     "output_type": "stream",
     "text": [
      "/Users/Niki/Prediction-of-Active-and-Inactive-Regulatory-Regions-with-Embracenet-Multimodal-Neural-Network-/BIOINF_tesi/models/utils/training_models_multimodal.py:425: ExperimentalWarning: PatientPruner is experimental (supported from v2.8.0). The interface can change in the future.\n",
      "  pruner=optuna.pruners.PatientPruner(optuna.pruners.MedianPruner(), patience=2),\n",
      "\u001b[32m[I 2021-10-26 09:38:00,402]\u001b[0m Using an existing study with name 'A549_inactive_E_vs_inactive_P_EmbraceNetMultimodal_1' instead of creating a new one.\u001b[0m\n"
     ]
    },
    {
     "name": "stdout",
     "output_type": "stream",
     "text": [
      "Study statistics: \n",
      "  Number of finished trials:  3\n",
      "  Number of pruned trials:  0\n",
      "  Number of complete trials:  3\n",
      "Best trial:\n",
      "  Value:  0.5868043033374238\n",
      "  Params: \n",
      "    CNN_dropout_l0: 0.2\n",
      "    CNN_kernel_size_l0: 15\n",
      "    CNN_n_layers: 1\n",
      "    CNN_out_channels_l0: 16\n",
      "    EMBRACENET_dropout_l0: 0.5\n",
      "    EMBRACENET_embracement_size: 768\n",
      "    EMBRACENET_n_units_l0: 128\n",
      "    FFNN_dropout_l0: 0.4\n",
      "    FFNN_n_layers: 1\n",
      "    FFNN_n_units_l0: 32\n",
      "    lr: 0.0003535409468846879\n",
      "    n_post_layers: 1\n",
      "    optimizer: Adam\n",
      "    selection_probabilities_FFNN: 0.4835179423092453\n",
      "    weight_decay: 0.002575593716027382\n",
      "\n",
      "===============> MODEL TESTING\n",
      "AUPRC test score: 0.5946799759950937\n",
      "\n",
      "\n",
      ">>> ITERATION N. 2\n"
     ]
    },
    {
     "name": "stderr",
     "output_type": "stream",
     "text": [
      "/Users/Niki/Prediction-of-Active-and-Inactive-Regulatory-Regions-with-Embracenet-Multimodal-Neural-Network-/BIOINF_tesi/models/utils/training_models_multimodal.py:425: ExperimentalWarning: PatientPruner is experimental (supported from v2.8.0). The interface can change in the future.\n",
      "  pruner=optuna.pruners.PatientPruner(optuna.pruners.MedianPruner(), patience=2),\n",
      "\u001b[32m[I 2021-10-26 09:38:00,833]\u001b[0m Using an existing study with name 'A549_inactive_E_vs_inactive_P_EmbraceNetMultimodal_1_2' instead of creating a new one.\u001b[0m\n"
     ]
    },
    {
     "name": "stdout",
     "output_type": "stream",
     "text": [
      "\n",
      "===============> HYPERPARAMETERS TUNING\n",
      "Study statistics: \n",
      "  Number of finished trials:  3\n",
      "  Number of pruned trials:  0\n",
      "  Number of complete trials:  3\n",
      "Best trial:\n",
      "  Value:  0.5780586228317869\n",
      "  Params: \n",
      "    CNN_dropout_l0: 0.3\n",
      "    CNN_dropout_l1: 0.5\n",
      "    CNN_kernel_size_l0: 15\n",
      "    CNN_kernel_size_l1: 5\n",
      "    CNN_n_layers: 2\n",
      "    CNN_out_channels_l0: 32\n",
      "    CNN_out_channels_l1: 64\n",
      "    EMBRACENET_embracement_size: 512\n",
      "    FFNN_dropout_l0: 0.2\n",
      "    FFNN_n_layers: 1\n",
      "    FFNN_n_units_l0: 128\n",
      "    lr: 4.508052330234131e-05\n",
      "    n_post_layers: 0\n",
      "    optimizer: Nadam\n",
      "    selection_probabilities_FFNN: 0.47919492898221194\n",
      "    weight_decay: 0.010442471881795647\n",
      "\n",
      "===============> MODEL TESTING\n",
      "AUPRC test score: 0.5780331808253064\n",
      "\n",
      "\n",
      ">>> ITERATION N. 3\n"
     ]
    },
    {
     "name": "stderr",
     "output_type": "stream",
     "text": [
      "/Users/Niki/Prediction-of-Active-and-Inactive-Regulatory-Regions-with-Embracenet-Multimodal-Neural-Network-/BIOINF_tesi/models/utils/training_models_multimodal.py:425: ExperimentalWarning: PatientPruner is experimental (supported from v2.8.0). The interface can change in the future.\n",
      "  pruner=optuna.pruners.PatientPruner(optuna.pruners.MedianPruner(), patience=2),\n",
      "\u001b[32m[I 2021-10-26 09:38:01,219]\u001b[0m Using an existing study with name 'A549_inactive_E_vs_inactive_P_EmbraceNetMultimodal_1_2_3' instead of creating a new one.\u001b[0m\n"
     ]
    },
    {
     "name": "stdout",
     "output_type": "stream",
     "text": [
      "\n",
      "===============> HYPERPARAMETERS TUNING\n",
      "Study statistics: \n",
      "  Number of finished trials:  3\n",
      "  Number of pruned trials:  0\n",
      "  Number of complete trials:  3\n",
      "Best trial:\n",
      "  Value:  0.5755169202394119\n",
      "  Params: \n",
      "    CNN_dropout_l0: 0.2\n",
      "    CNN_dropout_l1: 0.5\n",
      "    CNN_kernel_size_l0: 11\n",
      "    CNN_kernel_size_l1: 5\n",
      "    CNN_n_layers: 2\n",
      "    CNN_out_channels_l0: 64\n",
      "    CNN_out_channels_l1: 32\n",
      "    EMBRACENET_embracement_size: 512\n",
      "    FFNN_dropout_l0: 0.2\n",
      "    FFNN_n_layers: 1\n",
      "    FFNN_n_units_l0: 256\n",
      "    lr: 0.010411917421571734\n",
      "    n_post_layers: 0\n",
      "    optimizer: Adam\n",
      "    selection_probabilities_FFNN: 0.9797959194457883\n",
      "    weight_decay: 0.00042456566871203227\n",
      "\n",
      "===============> MODEL TESTING\n",
      "AUPRC test score: 0.562809515801858\n",
      "\n",
      "\n",
      "\n",
      "3-FOLD CROSS-VALIDATION AUPRC TEST SCORE: 0.57851\n"
     ]
    }
   ],
   "source": [
    "kf_CV = Kfold_CV_Multimodal()\n",
    "\n",
    "kf_CV(build_dataloader_pipeline = pipe_data_load,\n",
    "                num_epochs = 100,\n",
    "                n_folds=3,\n",
    "                cell_line=cell_line,\n",
    "                augmentation=False,\n",
    "                model = model,\n",
    "                device = device,\n",
    "                task=task,\n",
    "                sampler = 'TPE',\n",
    "                study_name = f'{cell_line}_{task}_{model.__name__}',\n",
    "                test_model_path = f'{cell_line}_{task}_{model.__name__}_TEST')"
   ]
  },
  {
   "cell_type": "code",
   "execution_count": 32,
   "metadata": {},
   "outputs": [],
   "source": [
    "results_dict[cell_line][task][model.__name__] = kf_CV.scores_dict"
   ]
  },
  {
   "cell_type": "code",
   "execution_count": 33,
   "metadata": {},
   "outputs": [],
   "source": [
    "with open ('results_dict.pickle', 'wb') as fout:\n",
    "    pickle.dump(OrderedDict(results_dict), fout)"
   ]
  },
  {
   "cell_type": "markdown",
   "metadata": {},
   "source": [
    "### CONCATNET"
   ]
  },
  {
   "cell_type": "code",
   "execution_count": 10,
   "metadata": {},
   "outputs": [],
   "source": [
    "model=ConcatNetMultimodal"
   ]
  },
  {
   "cell_type": "code",
   "execution_count": 11,
   "metadata": {
    "scrolled": true
   },
   "outputs": [
    {
     "name": "stdout",
     "output_type": "stream",
     "text": [
      ">>> ITERATION N. 1\n",
      "\n",
      "===============> HYPERPARAMETERS TUNING\n"
     ]
    },
    {
     "name": "stderr",
     "output_type": "stream",
     "text": [
      "/home/jupyter/Prediction-of-Active-and-Inactive-Regulatory-Regions-with-Embracenet-Multimodal-Neural-Network-/BIOINF_tesi/models/utils/training_models_multimodal.py:425: ExperimentalWarning: PatientPruner is experimental (supported from v2.8.0). The interface can change in the future.\n",
      "  pruner=optuna.pruners.PatientPruner(optuna.pruners.MedianPruner(), patience=2),\n",
      "\u001b[32m[I 2021-10-28 07:14:19,286]\u001b[0m Using an existing study with name 'A549_inactive_E_vs_inactive_P_ConcatNetMultimodal_1' instead of creating a new one.\u001b[0m\n",
      "/opt/conda/lib/python3.7/site-packages/optuna/structs.py:18: FutureWarning: `structs` is deprecated. Classes have moved to the following modules. `structs.StudyDirection`->`study.StudyDirection`, `structs.StudySummary`->`study.StudySummary`, `structs.FrozenTrial`->`trial.FrozenTrial`, `structs.TrialState`->`trial.TrialState`, `structs.TrialPruned`->`exceptions.TrialPruned`.\n",
      "  warnings.warn(_message, FutureWarning)\n"
     ]
    },
    {
     "name": "stdout",
     "output_type": "stream",
     "text": [
      "Study statistics: \n",
      "  Number of finished trials:  3\n",
      "  Number of pruned trials:  0\n",
      "  Number of complete trials:  3\n",
      "Best trial:\n",
      "  Value:  0.6152959429382934\n",
      "  Params: \n",
      "    CNN_dropout_l0: 0.4\n",
      "    CNN_dropout_l1: 0\n",
      "    CNN_dropout_l2: 0.4\n",
      "    CNN_kernel_size_l0: 11\n",
      "    CNN_kernel_size_l1: 11\n",
      "    CNN_kernel_size_l2: 15\n",
      "    CNN_n_layers: 3\n",
      "    CNN_out_channels_l0: 64\n",
      "    CNN_out_channels_l1: 32\n",
      "    CNN_out_channels_l2: 64\n",
      "    CONCATNET_dropout_l0: 0.5\n",
      "    CONCATNET_dropout_l1: 0.5\n",
      "    CONCATNET_dropout_l2: 0.2\n",
      "    CONCATNET_n_post_layers: 3\n",
      "    CONCATNET_n_units_l0: 1024\n",
      "    CONCATNET_n_units_l1: 256\n",
      "    CONCATNET_n_units_l2: 32\n",
      "    FFNN_dropout_l0: 0.4\n",
      "    FFNN_dropout_l1: 0.4\n",
      "    FFNN_dropout_l2: 0.0\n",
      "    FFNN_n_layers: 3\n",
      "    FFNN_n_units_l0: 128\n",
      "    FFNN_n_units_l1: 64\n",
      "    FFNN_n_units_l2: 64\n",
      "    lr: 0.00041340279802423453\n",
      "    optimizer: Nadam\n",
      "    weight_decay: 0.0004262599525001143\n",
      "\n",
      "===============> MODEL TESTING\n",
      "AUPRC test score: 0.5934688391489122\n",
      "\n",
      "\n"
     ]
    },
    {
     "name": "stderr",
     "output_type": "stream",
     "text": [
      "/home/jupyter/Prediction-of-Active-and-Inactive-Regulatory-Regions-with-Embracenet-Multimodal-Neural-Network-/BIOINF_tesi/models/utils/training_models_multimodal.py:425: ExperimentalWarning: PatientPruner is experimental (supported from v2.8.0). The interface can change in the future.\n",
      "  pruner=optuna.pruners.PatientPruner(optuna.pruners.MedianPruner(), patience=2),\n",
      "\u001b[32m[I 2021-10-28 07:14:21,609]\u001b[0m Using an existing study with name 'A549_inactive_E_vs_inactive_P_ConcatNetMultimodal_1_2' instead of creating a new one.\u001b[0m\n"
     ]
    },
    {
     "name": "stdout",
     "output_type": "stream",
     "text": [
      ">>> ITERATION N. 2\n",
      "\n",
      "===============> HYPERPARAMETERS TUNING\n",
      "Study statistics: \n",
      "  Number of finished trials:  3\n",
      "  Number of pruned trials:  0\n",
      "  Number of complete trials:  3\n",
      "Best trial:\n",
      "  Value:  0.5920654704071217\n",
      "  Params: \n",
      "    CNN_dropout_l0: 0.2\n",
      "    CNN_dropout_l1: 0.4\n",
      "    CNN_kernel_size_l0: 5\n",
      "    CNN_kernel_size_l1: 15\n",
      "    CNN_n_layers: 2\n",
      "    CNN_out_channels_l0: 16\n",
      "    CNN_out_channels_l1: 96\n",
      "    CONCATNET_dropout_l0: 0.2\n",
      "    CONCATNET_n_post_layers: 1\n",
      "    CONCATNET_n_units_l0: 1024\n",
      "    FFNN_dropout_l0: 0.3\n",
      "    FFNN_n_layers: 1\n",
      "    FFNN_n_units_l0: 32\n",
      "    lr: 0.0003814090114545464\n",
      "    optimizer: Adam\n",
      "    weight_decay: 0.0004431791343581334\n",
      "\n",
      "===============> MODEL TESTING\n",
      "AUPRC test score: 0.6047682987959515\n",
      "\n",
      "\n"
     ]
    },
    {
     "name": "stderr",
     "output_type": "stream",
     "text": [
      "/home/jupyter/Prediction-of-Active-and-Inactive-Regulatory-Regions-with-Embracenet-Multimodal-Neural-Network-/BIOINF_tesi/models/utils/training_models_multimodal.py:425: ExperimentalWarning: PatientPruner is experimental (supported from v2.8.0). The interface can change in the future.\n",
      "  pruner=optuna.pruners.PatientPruner(optuna.pruners.MedianPruner(), patience=2),\n",
      "\u001b[32m[I 2021-10-28 07:14:22,264]\u001b[0m Using an existing study with name 'A549_inactive_E_vs_inactive_P_ConcatNetMultimodal_1_2_3' instead of creating a new one.\u001b[0m\n"
     ]
    },
    {
     "name": "stdout",
     "output_type": "stream",
     "text": [
      ">>> ITERATION N. 3\n",
      "\n",
      "===============> HYPERPARAMETERS TUNING\n",
      "Study statistics: \n",
      "  Number of finished trials:  3\n",
      "  Number of pruned trials:  0\n",
      "  Number of complete trials:  3\n",
      "Best trial:\n",
      "  Value:  0.593315547698589\n",
      "  Params: \n",
      "    CNN_dropout_l0: 0\n",
      "    CNN_dropout_l1: 0\n",
      "    CNN_kernel_size_l0: 11\n",
      "    CNN_kernel_size_l1: 15\n",
      "    CNN_n_layers: 2\n",
      "    CNN_out_channels_l0: 32\n",
      "    CNN_out_channels_l1: 32\n",
      "    CONCATNET_dropout_l0: 0.0\n",
      "    CONCATNET_n_post_layers: 1\n",
      "    CONCATNET_n_units_l0: 512\n",
      "    FFNN_dropout_l0: 0.3\n",
      "    FFNN_dropout_l1: 0.4\n",
      "    FFNN_n_layers: 2\n",
      "    FFNN_n_units_l0: 128\n",
      "    FFNN_n_units_l1: 32\n",
      "    lr: 8.476527980125326e-05\n",
      "    optimizer: Nadam\n",
      "    weight_decay: 0.0014000303577125027\n",
      "\n",
      "===============> MODEL TESTING\n",
      "AUPRC test score: 0.5763146594672894\n",
      "\n",
      "\n",
      "\n",
      "3-FOLD CROSS-VALIDATION AUPRC TEST SCORE: 0.59152\n"
     ]
    }
   ],
   "source": [
    "kf_CV = Kfold_CV_Multimodal()\n",
    "\n",
    "kf_CV(build_dataloader_pipeline = pipe_data_load,\n",
    "                num_epochs = 100,\n",
    "                n_folds=3,\n",
    "                cell_line=cell_line,\n",
    "                augmentation=False,\n",
    "                model = model,\n",
    "                device = device,\n",
    "                task=task,\n",
    "                sampler = 'TPE',\n",
    "                study_name = f'{cell_line}_{task}_{model.__name__}',\n",
    "                test_model_path = f'{cell_line}_{task}_{model.__name__}_TEST')"
   ]
  },
  {
   "cell_type": "code",
   "execution_count": 12,
   "metadata": {},
   "outputs": [],
   "source": [
    "results_dict[cell_line][task][model.__name__] = kf_CV.scores_dict"
   ]
  },
  {
   "cell_type": "code",
   "execution_count": 13,
   "metadata": {},
   "outputs": [],
   "source": [
    "with open ('results_dict.pickle', 'wb') as fout:\n",
    "    pickle.dump(OrderedDict(results_dict), fout)"
   ]
  },
  {
   "cell_type": "markdown",
   "metadata": {},
   "source": [
    "---\n",
    "## AUGMENTATION"
   ]
  },
  {
   "cell_type": "markdown",
   "metadata": {},
   "source": [
    "### EMBRACENET"
   ]
  },
  {
   "cell_type": "code",
   "execution_count": null,
   "metadata": {},
   "outputs": [],
   "source": [
    "model=EmbraceNetMultimodal"
   ]
  },
  {
   "cell_type": "code",
   "execution_count": null,
   "metadata": {},
   "outputs": [],
   "source": [
    "kf_CV = Kfold_CV_Multimodal()\n",
    "\n",
    "kf_CV(build_dataloader_pipeline = pipe_data_load,\n",
    "                num_epochs = 100,\n",
    "                n_folds=3,\n",
    "                cell_line=cell_line,\n",
    "                augmentation=True,\n",
    "                model = model,\n",
    "                device = device,\n",
    "                task=task,\n",
    "                sampler = 'TPE',\n",
    "                study_name = f'{cell_line}_{task}_{model.__name__}',\n",
    "                test_model_path = f'{cell_line}_{task}_{model.__name__}_TEST')"
   ]
  },
  {
   "cell_type": "code",
   "execution_count": null,
   "metadata": {},
   "outputs": [],
   "source": [
    "results_dict[cell_line][task][f'{model.__name__}_augm'] = kf_CV.scores_dict"
   ]
  },
  {
   "cell_type": "code",
   "execution_count": null,
   "metadata": {},
   "outputs": [],
   "source": [
    "with open ('results_dict.pickle', 'wb') as fout:\n",
    "    pickle.dump(OrderedDict(results_dict), fout)"
   ]
  },
  {
   "cell_type": "markdown",
   "metadata": {},
   "source": [
    "---\n",
    "---"
   ]
  },
  {
   "cell_type": "markdown",
   "metadata": {},
   "source": [
    "## 5) ACTIVE ENHANCERS + ACTIVE PROMOTERS vs INACTIVE REST"
   ]
  },
  {
   "cell_type": "code",
   "execution_count": 12,
   "metadata": {},
   "outputs": [
    {
     "data": {
      "text/plain": [
       "'active_EP_vs_inactive_rest'"
      ]
     },
     "execution_count": 12,
     "metadata": {},
     "output_type": "execute_result"
    }
   ],
   "source": [
    "task = TASKS[4]\n",
    "task"
   ]
  },
  {
   "cell_type": "code",
   "execution_count": 13,
   "metadata": {},
   "outputs": [
    {
     "name": "stdout",
     "output_type": "stream",
     "text": [
      "Data Preprocessing Done!\n"
     ]
    }
   ],
   "source": [
    "pipe_data_load = Build_DataLoader_Pipeline(path_name=f'{task}.pickle')"
   ]
  },
  {
   "cell_type": "markdown",
   "metadata": {},
   "source": [
    "---\n",
    "### EMBRACENET"
   ]
  },
  {
   "cell_type": "code",
   "execution_count": 36,
   "metadata": {},
   "outputs": [],
   "source": [
    "model=EmbraceNetMultimodal"
   ]
  },
  {
   "cell_type": "code",
   "execution_count": 37,
   "metadata": {
    "scrolled": true
   },
   "outputs": [
    {
     "name": "stdout",
     "output_type": "stream",
     "text": [
      ">>> ITERATION N. 1\n",
      "\n",
      "===============> HYPERPARAMETERS TUNING\n"
     ]
    },
    {
     "name": "stderr",
     "output_type": "stream",
     "text": [
      "/Users/Niki/Prediction-of-Active-and-Inactive-Regulatory-Regions-with-Embracenet-Multimodal-Neural-Network-/BIOINF_tesi/models/utils/training_models_multimodal.py:425: ExperimentalWarning: PatientPruner is experimental (supported from v2.8.0). The interface can change in the future.\n",
      "  pruner=optuna.pruners.PatientPruner(optuna.pruners.MedianPruner(), patience=2),\n",
      "\u001b[32m[I 2021-10-26 09:38:05,669]\u001b[0m Using an existing study with name 'A549_active_EP_vs_inactive_rest_EmbraceNetMultimodal_1' instead of creating a new one.\u001b[0m\n"
     ]
    },
    {
     "name": "stdout",
     "output_type": "stream",
     "text": [
      "Study statistics: \n",
      "  Number of finished trials:  3\n",
      "  Number of pruned trials:  0\n",
      "  Number of complete trials:  3\n",
      "Best trial:\n",
      "  Value:  0.1504632861722721\n",
      "  Params: \n",
      "    CNN_dropout_l0: 0.4\n",
      "    CNN_dropout_l1: 0.4\n",
      "    CNN_kernel_size_l0: 5\n",
      "    CNN_kernel_size_l1: 5\n",
      "    CNN_n_layers: 2\n",
      "    CNN_out_channels_l0: 32\n",
      "    CNN_out_channels_l1: 64\n",
      "    EMBRACENET_dropout_l0: 0.0\n",
      "    EMBRACENET_dropout_l1: 0.5\n",
      "    EMBRACENET_embracement_size: 1024\n",
      "    EMBRACENET_n_units_l0: 256\n",
      "    EMBRACENET_n_units_l1: 16\n",
      "    FFNN_dropout_l0: 0.4\n",
      "    FFNN_dropout_l1: 0.4\n",
      "    FFNN_dropout_l2: 0.5\n",
      "    FFNN_dropout_l3: 0.5\n",
      "    FFNN_n_layers: 4\n",
      "    FFNN_n_units_l0: 128\n",
      "    FFNN_n_units_l1: 16\n",
      "    FFNN_n_units_l2: 32\n",
      "    FFNN_n_units_l3: 32\n",
      "    lr: 0.0053033183119394894\n",
      "    n_post_layers: 2\n",
      "    optimizer: RMSprop\n",
      "    selection_probabilities_FFNN: 0.5420169718993605\n",
      "    weight_decay: 0.0021288733188140397\n",
      "\n",
      "===============> MODEL TESTING\n",
      "AUPRC test score: 0.1124866688147842\n",
      "\n",
      "\n",
      ">>> ITERATION N. 2\n",
      "\n",
      "===============> HYPERPARAMETERS TUNING\n"
     ]
    },
    {
     "name": "stderr",
     "output_type": "stream",
     "text": [
      "/Users/Niki/Prediction-of-Active-and-Inactive-Regulatory-Regions-with-Embracenet-Multimodal-Neural-Network-/BIOINF_tesi/models/utils/training_models_multimodal.py:425: ExperimentalWarning: PatientPruner is experimental (supported from v2.8.0). The interface can change in the future.\n",
      "  pruner=optuna.pruners.PatientPruner(optuna.pruners.MedianPruner(), patience=2),\n",
      "\u001b[32m[I 2021-10-26 09:38:10,711]\u001b[0m Using an existing study with name 'A549_active_EP_vs_inactive_rest_EmbraceNetMultimodal_1_2' instead of creating a new one.\u001b[0m\n"
     ]
    },
    {
     "name": "stdout",
     "output_type": "stream",
     "text": [
      "Study statistics: \n",
      "  Number of finished trials:  5\n",
      "  Number of pruned trials:  0\n",
      "  Number of complete trials:  3\n",
      "Best trial:\n",
      "  Value:  0.2204258058016335\n",
      "  Params: \n",
      "    CNN_dropout_l0: 0\n",
      "    CNN_dropout_l1: 0\n",
      "    CNN_dropout_l2: 0.5\n",
      "    CNN_dropout_l3: 0.5\n",
      "    CNN_kernel_size_l0: 15\n",
      "    CNN_kernel_size_l1: 5\n",
      "    CNN_kernel_size_l2: 15\n",
      "    CNN_kernel_size_l3: 11\n",
      "    CNN_n_layers: 4\n",
      "    CNN_out_channels_l0: 64\n",
      "    CNN_out_channels_l1: 32\n",
      "    CNN_out_channels_l2: 256\n",
      "    CNN_out_channels_l3: 256\n",
      "    EMBRACENET_dropout_l0: 0.3\n",
      "    EMBRACENET_embracement_size: 1024\n",
      "    EMBRACENET_n_units_l0: 64\n",
      "    FFNN_dropout_l0: 0.3\n",
      "    FFNN_dropout_l1: 0.2\n",
      "    FFNN_n_layers: 2\n",
      "    FFNN_n_units_l0: 256\n",
      "    FFNN_n_units_l1: 128\n",
      "    lr: 0.004184856996903316\n",
      "    n_post_layers: 1\n",
      "    optimizer: RMSprop\n",
      "    selection_probabilities_FFNN: 0.7073861779335173\n",
      "    weight_decay: 0.0008386912085323916\n",
      "\n",
      "===============> MODEL TESTING\n",
      "AUPRC test score: 0.2038105141769414\n",
      "\n",
      "\n",
      ">>> ITERATION N. 3\n",
      "\n",
      "===============> HYPERPARAMETERS TUNING\n"
     ]
    },
    {
     "name": "stderr",
     "output_type": "stream",
     "text": [
      "/Users/Niki/Prediction-of-Active-and-Inactive-Regulatory-Regions-with-Embracenet-Multimodal-Neural-Network-/BIOINF_tesi/models/utils/training_models_multimodal.py:425: ExperimentalWarning: PatientPruner is experimental (supported from v2.8.0). The interface can change in the future.\n",
      "  pruner=optuna.pruners.PatientPruner(optuna.pruners.MedianPruner(), patience=2),\n",
      "\u001b[32m[I 2021-10-26 09:38:15,506]\u001b[0m Using an existing study with name 'A549_active_EP_vs_inactive_rest_EmbraceNetMultimodal_1_2_3' instead of creating a new one.\u001b[0m\n"
     ]
    },
    {
     "name": "stdout",
     "output_type": "stream",
     "text": [
      "Study statistics: \n",
      "  Number of finished trials:  3\n",
      "  Number of pruned trials:  0\n",
      "  Number of complete trials:  3\n",
      "Best trial:\n",
      "  Value:  0.16282240390493427\n",
      "  Params: \n",
      "    CNN_dropout_l0: 0.2\n",
      "    CNN_kernel_size_l0: 15\n",
      "    CNN_n_layers: 1\n",
      "    CNN_out_channels_l0: 64\n",
      "    EMBRACENET_dropout_l0: 0.3\n",
      "    EMBRACENET_dropout_l1: 0.2\n",
      "    EMBRACENET_embracement_size: 1024\n",
      "    EMBRACENET_n_units_l0: 64\n",
      "    EMBRACENET_n_units_l1: 128\n",
      "    FFNN_dropout_l0: 0.3\n",
      "    FFNN_dropout_l1: 0.4\n",
      "    FFNN_n_layers: 2\n",
      "    FFNN_n_units_l0: 32\n",
      "    FFNN_n_units_l1: 16\n",
      "    lr: 0.00010294227545540487\n",
      "    n_post_layers: 2\n",
      "    optimizer: Adam\n",
      "    selection_probabilities_FFNN: 0.00989972707782405\n",
      "    weight_decay: 0.015671673174561588\n",
      "\n",
      "===============> MODEL TESTING\n",
      "AUPRC test score: 0.15454018386445667\n",
      "\n",
      "\n",
      "\n",
      "3-FOLD CROSS-VALIDATION AUPRC TEST SCORE: 0.15695\n"
     ]
    }
   ],
   "source": [
    "# IMBALANCED\n",
    "kf_CV = Kfold_CV_Multimodal()\n",
    "\n",
    "kf_CV(build_dataloader_pipeline = pipe_data_load,\n",
    "                num_epochs = 100,\n",
    "                n_folds=3,\n",
    "                cell_line=cell_line,\n",
    "                augmentation=False,\n",
    "                model = model,\n",
    "                device = device,\n",
    "                task=task,\n",
    "                sampler = 'TPE',\n",
    "                study_name = f'{cell_line}_{task}_{model.__name__}',\n",
    "                test_model_path = f'{cell_line}_{task}_{model.__name__}_TEST')"
   ]
  },
  {
   "cell_type": "code",
   "execution_count": 38,
   "metadata": {},
   "outputs": [],
   "source": [
    "results_dict[cell_line][task][model.__name__] = kf_CV.scores_dict"
   ]
  },
  {
   "cell_type": "code",
   "execution_count": 39,
   "metadata": {},
   "outputs": [],
   "source": [
    "with open ('results_dict.pickle', 'wb') as fout:\n",
    "    pickle.dump(OrderedDict(results_dict), fout)"
   ]
  },
  {
   "cell_type": "markdown",
   "metadata": {},
   "source": [
    "### CONCATNET"
   ]
  },
  {
   "cell_type": "code",
   "execution_count": 16,
   "metadata": {},
   "outputs": [],
   "source": [
    "model=ConcatNetMultimodal"
   ]
  },
  {
   "cell_type": "code",
   "execution_count": 17,
   "metadata": {
    "scrolled": true
   },
   "outputs": [
    {
     "name": "stdout",
     "output_type": "stream",
     "text": [
      ">>> ITERATION N. 1\n",
      "\n",
      "===============> HYPERPARAMETERS TUNING\n"
     ]
    },
    {
     "name": "stderr",
     "output_type": "stream",
     "text": [
      "/home/jupyter/Prediction-of-Active-and-Inactive-Regulatory-Regions-with-Embracenet-Multimodal-Neural-Network-/BIOINF_tesi/models/utils/training_models_multimodal.py:425: ExperimentalWarning: PatientPruner is experimental (supported from v2.8.0). The interface can change in the future.\n",
      "  pruner=optuna.pruners.PatientPruner(optuna.pruners.MedianPruner(), patience=2),\n",
      "\u001b[32m[I 2021-10-28 07:14:30,621]\u001b[0m Using an existing study with name 'A549_active_EP_vs_inactive_rest_ConcatNetMultimodal_1' instead of creating a new one.\u001b[0m\n"
     ]
    },
    {
     "name": "stdout",
     "output_type": "stream",
     "text": [
      "Study statistics: \n",
      "  Number of finished trials:  5\n",
      "  Number of pruned trials:  0\n",
      "  Number of complete trials:  3\n",
      "Best trial:\n",
      "  Value:  0.20621754149886376\n",
      "  Params: \n",
      "    CNN_dropout_l0: 0.3\n",
      "    CNN_dropout_l1: 0\n",
      "    CNN_kernel_size_l0: 15\n",
      "    CNN_kernel_size_l1: 15\n",
      "    CNN_n_layers: 2\n",
      "    CNN_out_channels_l0: 64\n",
      "    CNN_out_channels_l1: 32\n",
      "    CONCATNET_dropout_l0: 0.2\n",
      "    CONCATNET_n_post_layers: 1\n",
      "    CONCATNET_n_units_l0: 1024\n",
      "    FFNN_dropout_l0: 0.0\n",
      "    FFNN_dropout_l1: 0.3\n",
      "    FFNN_n_layers: 2\n",
      "    FFNN_n_units_l0: 128\n",
      "    FFNN_n_units_l1: 128\n",
      "    lr: 0.00042164052080896874\n",
      "    optimizer: RMSprop\n",
      "    weight_decay: 0.00022959049957280427\n",
      "\n",
      "===============> MODEL TESTING\n",
      "AUPRC test score: 0.19168515513268972\n",
      "\n",
      "\n",
      ">>> ITERATION N. 2\n",
      "\n",
      "===============> HYPERPARAMETERS TUNING\n"
     ]
    },
    {
     "name": "stderr",
     "output_type": "stream",
     "text": [
      "/home/jupyter/Prediction-of-Active-and-Inactive-Regulatory-Regions-with-Embracenet-Multimodal-Neural-Network-/BIOINF_tesi/models/utils/training_models_multimodal.py:425: ExperimentalWarning: PatientPruner is experimental (supported from v2.8.0). The interface can change in the future.\n",
      "  pruner=optuna.pruners.PatientPruner(optuna.pruners.MedianPruner(), patience=2),\n",
      "\u001b[32m[I 2021-10-28 07:14:34,736]\u001b[0m Using an existing study with name 'A549_active_EP_vs_inactive_rest_ConcatNetMultimodal_1_2' instead of creating a new one.\u001b[0m\n"
     ]
    },
    {
     "name": "stdout",
     "output_type": "stream",
     "text": [
      "Study statistics: \n",
      "  Number of finished trials:  3\n",
      "  Number of pruned trials:  0\n",
      "  Number of complete trials:  3\n",
      "Best trial:\n",
      "  Value:  0.16237441336252043\n",
      "  Params: \n",
      "    CNN_dropout_l0: 0.2\n",
      "    CNN_dropout_l1: 0.5\n",
      "    CNN_kernel_size_l0: 11\n",
      "    CNN_kernel_size_l1: 5\n",
      "    CNN_n_layers: 2\n",
      "    CNN_out_channels_l0: 16\n",
      "    CNN_out_channels_l1: 96\n",
      "    CONCATNET_dropout_l0: 0.5\n",
      "    CONCATNET_n_post_layers: 1\n",
      "    CONCATNET_n_units_l0: 1024\n",
      "    FFNN_dropout_l0: 0.4\n",
      "    FFNN_dropout_l1: 0.3\n",
      "    FFNN_n_layers: 2\n",
      "    FFNN_n_units_l0: 64\n",
      "    FFNN_n_units_l1: 128\n",
      "    lr: 9.389440041882636e-05\n",
      "    optimizer: RMSprop\n",
      "    weight_decay: 0.00767873081577198\n",
      "\n",
      "===============> MODEL TESTING\n",
      "AUPRC test score: 0.15441563657846633\n",
      "\n",
      "\n",
      ">>> ITERATION N. 3\n",
      "\n",
      "===============> HYPERPARAMETERS TUNING\n"
     ]
    },
    {
     "name": "stderr",
     "output_type": "stream",
     "text": [
      "/home/jupyter/Prediction-of-Active-and-Inactive-Regulatory-Regions-with-Embracenet-Multimodal-Neural-Network-/BIOINF_tesi/models/utils/training_models_multimodal.py:425: ExperimentalWarning: PatientPruner is experimental (supported from v2.8.0). The interface can change in the future.\n",
      "  pruner=optuna.pruners.PatientPruner(optuna.pruners.MedianPruner(), patience=2),\n",
      "\u001b[32m[I 2021-10-28 07:14:38,747]\u001b[0m Using an existing study with name 'A549_active_EP_vs_inactive_rest_ConcatNetMultimodal_1_2_3' instead of creating a new one.\u001b[0m\n"
     ]
    },
    {
     "name": "stdout",
     "output_type": "stream",
     "text": [
      "Study statistics: \n",
      "  Number of finished trials:  3\n",
      "  Number of pruned trials:  0\n",
      "  Number of complete trials:  3\n",
      "Best trial:\n",
      "  Value:  0.18958013388428047\n",
      "  Params: \n",
      "    CNN_dropout_l0: 0.4\n",
      "    CNN_dropout_l1: 0.4\n",
      "    CNN_kernel_size_l0: 15\n",
      "    CNN_kernel_size_l1: 15\n",
      "    CNN_n_layers: 2\n",
      "    CNN_out_channels_l0: 16\n",
      "    CNN_out_channels_l1: 96\n",
      "    CONCATNET_dropout_l0: 0.2\n",
      "    CONCATNET_n_post_layers: 1\n",
      "    CONCATNET_n_units_l0: 768\n",
      "    FFNN_dropout_l0: 0.4\n",
      "    FFNN_n_layers: 1\n",
      "    FFNN_n_units_l0: 128\n",
      "    lr: 3.2096584477059706e-05\n",
      "    optimizer: RMSprop\n",
      "    weight_decay: 0.00012381255079740842\n",
      "\n",
      "===============> MODEL TESTING\n",
      "AUPRC test score: 0.17844736189791197\n",
      "\n",
      "\n",
      "\n",
      "3-FOLD CROSS-VALIDATION AUPRC TEST SCORE: 0.17485\n"
     ]
    }
   ],
   "source": [
    "# IMBALANCED\n",
    "kf_CV = Kfold_CV_Multimodal()\n",
    "\n",
    "kf_CV(build_dataloader_pipeline = pipe_data_load,\n",
    "                num_epochs = 100,\n",
    "                n_folds=3,\n",
    "                cell_line=cell_line,\n",
    "                augmentation=False,\n",
    "                model = model,\n",
    "                device = device,\n",
    "                task=task,\n",
    "                sampler = 'TPE',\n",
    "                study_name = f'{cell_line}_{task}_{model.__name__}',\n",
    "                test_model_path = f'{cell_line}_{task}_{model.__name__}_TEST')"
   ]
  },
  {
   "cell_type": "code",
   "execution_count": 18,
   "metadata": {},
   "outputs": [],
   "source": [
    "results_dict[cell_line][task][model.__name__] = kf_CV.scores_dict"
   ]
  },
  {
   "cell_type": "code",
   "execution_count": 19,
   "metadata": {},
   "outputs": [],
   "source": [
    "with open ('results_dict.pickle', 'wb') as fout:\n",
    "    pickle.dump(OrderedDict(results_dict), fout)"
   ]
  },
  {
   "cell_type": "markdown",
   "metadata": {},
   "source": [
    "---\n",
    "## AUGMENTATION"
   ]
  },
  {
   "cell_type": "markdown",
   "metadata": {},
   "source": [
    "### EMBRACENET"
   ]
  },
  {
   "cell_type": "code",
   "execution_count": null,
   "metadata": {},
   "outputs": [],
   "source": [
    "model=EmbraceNetMultimodal"
   ]
  },
  {
   "cell_type": "code",
   "execution_count": null,
   "metadata": {},
   "outputs": [],
   "source": [
    "kf_CV = Kfold_CV_Multimodal()\n",
    "\n",
    "kf_CV(build_dataloader_pipeline = pipe_data_load,\n",
    "                num_epochs = 100,\n",
    "                n_folds=3,\n",
    "                cell_line=cell_line,\n",
    "                augmentation=True,\n",
    "                model = model,\n",
    "                device = device,\n",
    "                task=task,\n",
    "                sampler = 'TPE',\n",
    "                study_name = f'{cell_line}_{task}_{model.__name__}',\n",
    "                test_model_path = f'{cell_line}_{task}_{model.__name__}_TEST')"
   ]
  },
  {
   "cell_type": "code",
   "execution_count": null,
   "metadata": {},
   "outputs": [],
   "source": [
    "results_dict[cell_line][task][f'{model.__name__}_augm'] = kf_CV.scores_dict"
   ]
  },
  {
   "cell_type": "code",
   "execution_count": null,
   "metadata": {},
   "outputs": [],
   "source": [
    "with open ('results_dict.pickle', 'wb') as fout:\n",
    "    pickle.dump(OrderedDict(results_dict), fout)"
   ]
  },
  {
   "cell_type": "markdown",
   "metadata": {},
   "source": [
    "---\n",
    "---"
   ]
  },
  {
   "cell_type": "code",
   "execution_count": null,
   "metadata": {},
   "outputs": [],
   "source": []
  },
  {
   "cell_type": "code",
   "execution_count": null,
   "metadata": {},
   "outputs": [],
   "source": []
  },
  {
   "cell_type": "code",
   "execution_count": null,
   "metadata": {},
   "outputs": [],
   "source": [
    "from BIOINF_tesi.models.utils import plot_scores\n",
    "plot_scores(cells=cell_line, models=['EmbraceNetMultimodal', 'ConcatNetMultimodal' ])"
   ]
  },
  {
   "cell_type": "markdown",
   "metadata": {},
   "source": [
    "## not freezed layers + NO AUGMENTATION"
   ]
  },
  {
   "cell_type": "code",
   "execution_count": null,
   "metadata": {},
   "outputs": [],
   "source": [
    "from BIOINF_tesi.models.utils import plot_scores\n",
    "plot_scores(cells=cell_line, models=['EmbraceNetMultimodal'])"
   ]
  },
  {
   "cell_type": "markdown",
   "metadata": {},
   "source": [
    "## not freezed layers + AUGMENTATION"
   ]
  },
  {
   "cell_type": "code",
   "execution_count": null,
   "metadata": {},
   "outputs": [],
   "source": [
    "from BIOINF_tesi.models.utils import plot_scores\n",
    "plot_scores(cells=cell_line, models=['EmbraceNetMultimodal'])"
   ]
  },
  {
   "cell_type": "markdown",
   "metadata": {},
   "source": [
    "## unimodal"
   ]
  },
  {
   "cell_type": "code",
   "execution_count": null,
   "metadata": {},
   "outputs": [],
   "source": [
    "plot_scores(cells=cell_line, models=['CNN','FFNN'])"
   ]
  },
  {
   "cell_type": "code",
   "execution_count": null,
   "metadata": {},
   "outputs": [],
   "source": []
  }
 ],
 "metadata": {
  "environment": {
   "name": "pytorch-gpu.1-9.m80",
   "type": "gcloud",
   "uri": "gcr.io/deeplearning-platform-release/pytorch-gpu.1-9:m80"
  },
  "kernelspec": {
   "display_name": "Python 3",
   "language": "python",
   "name": "python3"
  },
  "language_info": {
   "codemirror_mode": {
    "name": "ipython",
    "version": 3
   },
   "file_extension": ".py",
   "mimetype": "text/x-python",
   "name": "python",
   "nbconvert_exporter": "python",
   "pygments_lexer": "ipython3",
   "version": "3.8.8"
  }
 },
 "nbformat": 4,
 "nbformat_minor": 4
}
