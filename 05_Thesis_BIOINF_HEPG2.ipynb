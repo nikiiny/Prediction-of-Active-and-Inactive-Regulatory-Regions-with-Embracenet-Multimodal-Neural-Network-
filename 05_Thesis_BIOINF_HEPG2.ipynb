{
 "cells": [
  {
   "cell_type": "markdown",
   "metadata": {
    "id": "zqpqu8UJFySp"
   },
   "source": [
    "## BIOINFORMATICS THESIS: MULTIMODAL NEURAL NETWORK"
   ]
  },
  {
   "cell_type": "markdown",
   "metadata": {},
   "source": [
    "# CELL LINE: HEPG2"
   ]
  },
  {
   "cell_type": "code",
   "execution_count": 31,
   "metadata": {},
   "outputs": [],
   "source": [
    "import pandas as pd \n",
    "import numpy as np\n",
    "import os\n",
    "\n",
    "import torch\n",
    "import torch.nn.functional as F\n",
    "from torch.utils.data import Dataset, DataLoader\n",
    "import torch.nn as nn\n",
    "import torch.optim as optim\n",
    "from collections import defaultdict, OrderedDict\n",
    "import pickle\n",
    "\n",
    "import sqlite3\n",
    "from sqlalchemy import create_engine\n",
    "\n",
    "device = 'cuda' if torch.cuda.is_available() else 'cpu'"
   ]
  },
  {
   "cell_type": "code",
   "execution_count": 32,
   "metadata": {},
   "outputs": [],
   "source": [
    "# create a database to store optuna studies with sqlite backend\n",
    "#engine = create_engine('sqlite:///BIOINF_optuna_tuning.db')"
   ]
  },
  {
   "cell_type": "code",
   "execution_count": 33,
   "metadata": {},
   "outputs": [],
   "source": [
    "from BIOINF_tesi.data_pipe import CELL_LINES, TASKS"
   ]
  },
  {
   "cell_type": "code",
   "execution_count": 34,
   "metadata": {},
   "outputs": [
    {
     "data": {
      "text/plain": [
       "'HEPG2'"
      ]
     },
     "execution_count": 34,
     "metadata": {},
     "output_type": "execute_result"
    }
   ],
   "source": [
    "cell_line = CELL_LINES[4]\n",
    "cell_line"
   ]
  },
  {
   "cell_type": "markdown",
   "metadata": {},
   "source": [
    "---"
   ]
  },
  {
   "cell_type": "code",
   "execution_count": 35,
   "metadata": {},
   "outputs": [],
   "source": [
    "from BIOINF_tesi.data_pipe import Load_Create_Task\n",
    "from BIOINF_tesi.data_pipe import Build_DataLoader_Pipeline"
   ]
  },
  {
   "cell_type": "code",
   "execution_count": 36,
   "metadata": {},
   "outputs": [],
   "source": [
    "from BIOINF_tesi.models import FFNN, CNN, CNN_LSTM\n",
    "from BIOINF_tesi.models.utils import fit, Param_Search, Kfold_CV"
   ]
  },
  {
   "cell_type": "raw",
   "metadata": {},
   "source": [
    "def dd():\n",
    "    return defaultdict(dict)\n",
    "    \n",
    "results_dict = defaultdict(dd)"
   ]
  },
  {
   "cell_type": "code",
   "execution_count": 37,
   "metadata": {},
   "outputs": [],
   "source": [
    "with open ('results_dict.pickle', 'rb') as fin:\n",
    "    results_dict = pickle.load(fin)\n",
    "    results_dict = defaultdict(lambda: defaultdict(dict), results_dict)"
   ]
  },
  {
   "cell_type": "markdown",
   "metadata": {},
   "source": [
    "## 1) ACTIVE ENHANCERS vs INACTIVE ENHANCERS"
   ]
  },
  {
   "cell_type": "code",
   "execution_count": 38,
   "metadata": {},
   "outputs": [
    {
     "data": {
      "text/plain": [
       "'active_E_vs_inactive_E'"
      ]
     },
     "execution_count": 38,
     "metadata": {},
     "output_type": "execute_result"
    }
   ],
   "source": [
    "task = TASKS[0]\n",
    "task"
   ]
  },
  {
   "cell_type": "code",
   "execution_count": 39,
   "metadata": {},
   "outputs": [
    {
     "name": "stdout",
     "output_type": "stream",
     "text": [
      "Data Preprocessing Done!\n"
     ]
    }
   ],
   "source": [
    "pipe_data_load = Build_DataLoader_Pipeline(path_name=f'{task}.pickle')"
   ]
  },
  {
   "cell_type": "markdown",
   "metadata": {},
   "source": [
    "### 1. FFNN"
   ]
  },
  {
   "cell_type": "code",
   "execution_count": 40,
   "metadata": {},
   "outputs": [],
   "source": [
    "model=FFNN"
   ]
  },
  {
   "cell_type": "code",
   "execution_count": 41,
   "metadata": {
    "scrolled": true
   },
   "outputs": [
    {
     "name": "stdout",
     "output_type": "stream",
     "text": [
      ">>> ITERATION N. 1\n"
     ]
    },
    {
     "name": "stderr",
     "output_type": "stream",
     "text": [
      "/Users/Niki/Prediction-of-Active-and-Inactive-Regulatory-Regions-with-Embracenet-Multimodal-Neural-Network-/BIOINF_tesi/models/utils/training_models.py:362: ExperimentalWarning: PatientPruner is experimental (supported from v2.8.0). The interface can change in the future.\n",
      "  pruner=optuna.pruners.PatientPruner(optuna.pruners.MedianPruner(), patience=2),\n",
      "\u001b[32m[I 2021-10-25 09:27:39,600]\u001b[0m Using an existing study with name 'HEPG2_active_E_vs_inactive_E_FFNN_1' instead of creating a new one.\u001b[0m\n"
     ]
    },
    {
     "name": "stdout",
     "output_type": "stream",
     "text": [
      "\n",
      "===============> HYPERPARAMETERS TUNING\n",
      "Study statistics: \n",
      "  Number of finished trials:  3\n",
      "  Number of pruned trials:  0\n",
      "  Number of complete trials:  3\n",
      "Best trial:\n",
      "  Value:  0.3060556841438944\n",
      "  Params: \n",
      "    dropout_l0: 0.0\n",
      "    lr: 0.017233966908074636\n",
      "    n_layers: 1\n",
      "    n_units_l0: 32\n",
      "    optimizer: Adam\n",
      "    weight_decay: 0.010617106619981203\n",
      "\n",
      "===============> MODEL TESTING\n",
      "AUPRC test score: 0.27348870778956397\n",
      "\n",
      "\n",
      ">>> ITERATION N. 2\n"
     ]
    },
    {
     "name": "stderr",
     "output_type": "stream",
     "text": [
      "/Users/Niki/Prediction-of-Active-and-Inactive-Regulatory-Regions-with-Embracenet-Multimodal-Neural-Network-/BIOINF_tesi/models/utils/training_models.py:362: ExperimentalWarning: PatientPruner is experimental (supported from v2.8.0). The interface can change in the future.\n",
      "  pruner=optuna.pruners.PatientPruner(optuna.pruners.MedianPruner(), patience=2),\n",
      "\u001b[32m[I 2021-10-25 09:27:40,619]\u001b[0m Using an existing study with name 'HEPG2_active_E_vs_inactive_E_FFNN_1_2' instead of creating a new one.\u001b[0m\n"
     ]
    },
    {
     "name": "stdout",
     "output_type": "stream",
     "text": [
      "\n",
      "===============> HYPERPARAMETERS TUNING\n",
      "Study statistics: \n",
      "  Number of finished trials:  3\n",
      "  Number of pruned trials:  0\n",
      "  Number of complete trials:  3\n",
      "Best trial:\n",
      "  Value:  0.31714222928607055\n",
      "  Params: \n",
      "    dropout_l0: 0.3\n",
      "    dropout_l1: 0.4\n",
      "    dropout_l2: 0.4\n",
      "    dropout_l3: 0.4\n",
      "    lr: 0.00011072042544296434\n",
      "    n_layers: 4\n",
      "    n_units_l0: 32\n",
      "    n_units_l1: 128\n",
      "    n_units_l2: 4\n",
      "    n_units_l3: 16\n",
      "    optimizer: Adam\n",
      "    weight_decay: 0.0009182079066464669\n",
      "\n",
      "===============> MODEL TESTING\n",
      "AUPRC test score: 0.2891931619280341\n",
      "\n",
      "\n",
      ">>> ITERATION N. 3\n",
      "\n",
      "===============> HYPERPARAMETERS TUNING\n"
     ]
    },
    {
     "name": "stderr",
     "output_type": "stream",
     "text": [
      "/Users/Niki/Prediction-of-Active-and-Inactive-Regulatory-Regions-with-Embracenet-Multimodal-Neural-Network-/BIOINF_tesi/models/utils/training_models.py:362: ExperimentalWarning: PatientPruner is experimental (supported from v2.8.0). The interface can change in the future.\n",
      "  pruner=optuna.pruners.PatientPruner(optuna.pruners.MedianPruner(), patience=2),\n",
      "\u001b[32m[I 2021-10-25 09:27:41,264]\u001b[0m Using an existing study with name 'HEPG2_active_E_vs_inactive_E_FFNN_1_2_3' instead of creating a new one.\u001b[0m\n"
     ]
    },
    {
     "name": "stdout",
     "output_type": "stream",
     "text": [
      "Study statistics: \n",
      "  Number of finished trials:  3\n",
      "  Number of pruned trials:  0\n",
      "  Number of complete trials:  3\n",
      "Best trial:\n",
      "  Value:  0.3043043971659137\n",
      "  Params: \n",
      "    dropout_l0: 0.3\n",
      "    dropout_l1: 0.4\n",
      "    lr: 1.8651291919817984e-05\n",
      "    n_layers: 2\n",
      "    n_units_l0: 256\n",
      "    n_units_l1: 64\n",
      "    optimizer: Adam\n",
      "    weight_decay: 0.002760419935406744\n",
      "\n",
      "===============> MODEL TESTING\n",
      "AUPRC test score: 0.29490080183268\n",
      "\n",
      "\n",
      "\n",
      "3-FOLD CROSS-VALIDATION AUPRC TEST SCORE: 0.28586\n"
     ]
    }
   ],
   "source": [
    "kf_CV = Kfold_CV()\n",
    "\n",
    "kf_CV(build_dataloader_pipeline = pipe_data_load,\n",
    "                num_epochs = 100,\n",
    "                n_folds=3,\n",
    "                cell_line=cell_line,\n",
    "                sequence=False,\n",
    "                model = model,\n",
    "                device = device,\n",
    "                task=task,\n",
    "                sampler = 'TPE',\n",
    "                study_name = f'{cell_line}_{task}_{model.__name__}',\n",
    "                test_model_path = f'{cell_line}_{task}_{model.__name__}_TEST')"
   ]
  },
  {
   "cell_type": "code",
   "execution_count": 42,
   "metadata": {},
   "outputs": [],
   "source": [
    "results_dict[cell_line][task][model.__name__] = kf_CV.scores_dict"
   ]
  },
  {
   "cell_type": "code",
   "execution_count": 43,
   "metadata": {},
   "outputs": [],
   "source": [
    "with open ('results_dict.pickle', 'wb') as fout:\n",
    "    pickle.dump(OrderedDict(results_dict), fout)"
   ]
  },
  {
   "cell_type": "markdown",
   "metadata": {},
   "source": [
    "---\n",
    "### 2. CNN"
   ]
  },
  {
   "cell_type": "code",
   "execution_count": null,
   "metadata": {},
   "outputs": [],
   "source": [
    "model=CNN"
   ]
  },
  {
   "cell_type": "code",
   "execution_count": null,
   "metadata": {
    "scrolled": true
   },
   "outputs": [],
   "source": [
    "kf_CV = Kfold_CV()\n",
    "\n",
    "kf_CV(build_dataloader_pipeline = pipe_data_load,\n",
    "                num_epochs = 100,\n",
    "                n_folds=3,\n",
    "                cell_line=cell_line,\n",
    "                sequence=True,\n",
    "                model = model,\n",
    "                device = device,\n",
    "                task=task,\n",
    "                sampler = 'TPE',\n",
    "                study_name = f'{cell_line}_{task}_{model.__name__}',\n",
    "                test_model_path = f'{cell_line}_{task}_{model.__name__}_TEST')"
   ]
  },
  {
   "cell_type": "code",
   "execution_count": null,
   "metadata": {},
   "outputs": [],
   "source": [
    "results_dict[cell_line][task][model.__name__] = kf_CV.scores_dict"
   ]
  },
  {
   "cell_type": "code",
   "execution_count": null,
   "metadata": {},
   "outputs": [],
   "source": [
    "with open ('results_dict.pickle', 'wb') as fout:\n",
    "    pickle.dump(OrderedDict(results_dict), fout)"
   ]
  },
  {
   "cell_type": "markdown",
   "metadata": {},
   "source": [
    "---"
   ]
  },
  {
   "cell_type": "markdown",
   "metadata": {},
   "source": [
    "## 2) ACTIVE PROMOTERS vs INACTIVE PROMOTERS"
   ]
  },
  {
   "cell_type": "code",
   "execution_count": 44,
   "metadata": {},
   "outputs": [
    {
     "data": {
      "text/plain": [
       "'active_P_vs_inactive_P'"
      ]
     },
     "execution_count": 44,
     "metadata": {},
     "output_type": "execute_result"
    }
   ],
   "source": [
    "task = TASKS[1]\n",
    "task"
   ]
  },
  {
   "cell_type": "code",
   "execution_count": 45,
   "metadata": {},
   "outputs": [
    {
     "name": "stdout",
     "output_type": "stream",
     "text": [
      "Data Preprocessing Done!\n"
     ]
    }
   ],
   "source": [
    "pipe_data_load = Build_DataLoader_Pipeline(path_name=f'{task}.pickle')"
   ]
  },
  {
   "cell_type": "markdown",
   "metadata": {},
   "source": [
    "---"
   ]
  },
  {
   "cell_type": "markdown",
   "metadata": {},
   "source": [
    "### 1. FFNN"
   ]
  },
  {
   "cell_type": "code",
   "execution_count": 46,
   "metadata": {},
   "outputs": [],
   "source": [
    "model=FFNN"
   ]
  },
  {
   "cell_type": "code",
   "execution_count": 47,
   "metadata": {
    "scrolled": true
   },
   "outputs": [
    {
     "name": "stdout",
     "output_type": "stream",
     "text": [
      ">>> ITERATION N. 1\n",
      "\n",
      "===============> HYPERPARAMETERS TUNING\n"
     ]
    },
    {
     "name": "stderr",
     "output_type": "stream",
     "text": [
      "/Users/Niki/Prediction-of-Active-and-Inactive-Regulatory-Regions-with-Embracenet-Multimodal-Neural-Network-/BIOINF_tesi/models/utils/training_models.py:362: ExperimentalWarning: PatientPruner is experimental (supported from v2.8.0). The interface can change in the future.\n",
      "  pruner=optuna.pruners.PatientPruner(optuna.pruners.MedianPruner(), patience=2),\n",
      "\u001b[32m[I 2021-10-25 09:27:42,583]\u001b[0m Using an existing study with name 'HEPG2_active_P_vs_inactive_P_FFNN_1' instead of creating a new one.\u001b[0m\n"
     ]
    },
    {
     "name": "stdout",
     "output_type": "stream",
     "text": [
      "Study statistics: \n",
      "  Number of finished trials:  3\n",
      "  Number of pruned trials:  0\n",
      "  Number of complete trials:  3\n",
      "Best trial:\n",
      "  Value:  0.3375032814607738\n",
      "  Params: \n",
      "    dropout_l0: 0.4\n",
      "    dropout_l1: 0.4\n",
      "    dropout_l2: 0.0\n",
      "    dropout_l3: 0.5\n",
      "    lr: 1.5649619147305476e-05\n",
      "    n_layers: 4\n",
      "    n_units_l0: 256\n",
      "    n_units_l1: 128\n",
      "    n_units_l2: 32\n",
      "    n_units_l3: 32\n",
      "    optimizer: Adam\n",
      "    weight_decay: 0.00013697692991618008\n",
      "\n",
      "===============> MODEL TESTING\n",
      "AUPRC test score: 0.3581566939599985\n",
      "\n",
      "\n",
      ">>> ITERATION N. 2\n"
     ]
    },
    {
     "name": "stderr",
     "output_type": "stream",
     "text": [
      "/Users/Niki/Prediction-of-Active-and-Inactive-Regulatory-Regions-with-Embracenet-Multimodal-Neural-Network-/BIOINF_tesi/models/utils/training_models.py:362: ExperimentalWarning: PatientPruner is experimental (supported from v2.8.0). The interface can change in the future.\n",
      "  pruner=optuna.pruners.PatientPruner(optuna.pruners.MedianPruner(), patience=2),\n",
      "\u001b[32m[I 2021-10-25 09:27:43,123]\u001b[0m Using an existing study with name 'HEPG2_active_P_vs_inactive_P_FFNN_1_2' instead of creating a new one.\u001b[0m\n"
     ]
    },
    {
     "name": "stdout",
     "output_type": "stream",
     "text": [
      "\n",
      "===============> HYPERPARAMETERS TUNING\n",
      "Study statistics: \n",
      "  Number of finished trials:  3\n",
      "  Number of pruned trials:  0\n",
      "  Number of complete trials:  3\n",
      "Best trial:\n",
      "  Value:  0.36897908979490734\n",
      "  Params: \n",
      "    dropout_l0: 0.4\n",
      "    dropout_l1: 0.2\n",
      "    dropout_l2: 0.5\n",
      "    lr: 9.286096651302298e-05\n",
      "    n_layers: 3\n",
      "    n_units_l0: 256\n",
      "    n_units_l1: 16\n",
      "    n_units_l2: 32\n",
      "    optimizer: Nadam\n",
      "    weight_decay: 0.00618451157727279\n",
      "\n",
      "===============> MODEL TESTING\n",
      "AUPRC test score: 0.3506543969149925\n",
      "\n",
      "\n",
      ">>> ITERATION N. 3\n"
     ]
    },
    {
     "name": "stderr",
     "output_type": "stream",
     "text": [
      "/Users/Niki/Prediction-of-Active-and-Inactive-Regulatory-Regions-with-Embracenet-Multimodal-Neural-Network-/BIOINF_tesi/models/utils/training_models.py:362: ExperimentalWarning: PatientPruner is experimental (supported from v2.8.0). The interface can change in the future.\n",
      "  pruner=optuna.pruners.PatientPruner(optuna.pruners.MedianPruner(), patience=2),\n",
      "\u001b[32m[I 2021-10-25 09:27:43,568]\u001b[0m Using an existing study with name 'HEPG2_active_P_vs_inactive_P_FFNN_1_2_3' instead of creating a new one.\u001b[0m\n"
     ]
    },
    {
     "name": "stdout",
     "output_type": "stream",
     "text": [
      "\n",
      "===============> HYPERPARAMETERS TUNING\n",
      "Study statistics: \n",
      "  Number of finished trials:  3\n",
      "  Number of pruned trials:  0\n",
      "  Number of complete trials:  3\n",
      "Best trial:\n",
      "  Value:  0.34738895000969156\n",
      "  Params: \n",
      "    dropout_l0: 0.4\n",
      "    dropout_l1: 0.4\n",
      "    dropout_l2: 0.4\n",
      "    lr: 0.00022128578585949057\n",
      "    n_layers: 3\n",
      "    n_units_l0: 64\n",
      "    n_units_l1: 32\n",
      "    n_units_l2: 32\n",
      "    optimizer: Adam\n",
      "    weight_decay: 0.00684179698851931\n",
      "\n",
      "===============> MODEL TESTING\n",
      "AUPRC test score: 0.35365375051011183\n",
      "\n",
      "\n",
      "\n",
      "3-FOLD CROSS-VALIDATION AUPRC TEST SCORE: 0.35415\n"
     ]
    }
   ],
   "source": [
    "kf_CV = Kfold_CV()\n",
    "\n",
    "kf_CV(build_dataloader_pipeline = pipe_data_load,\n",
    "                num_epochs = 100,\n",
    "                n_folds=3,\n",
    "                cell_line=cell_line,\n",
    "                sequence=False,\n",
    "                model = model,\n",
    "                device = device,\n",
    "                task=task,\n",
    "                sampler = 'TPE',\n",
    "                study_name = f'{cell_line}_{task}_{model.__name__}',\n",
    "                test_model_path = f'{cell_line}_{task}_{model.__name__}_TEST')"
   ]
  },
  {
   "cell_type": "code",
   "execution_count": 48,
   "metadata": {},
   "outputs": [],
   "source": [
    "results_dict[cell_line][task][model.__name__] = kf_CV.scores_dict"
   ]
  },
  {
   "cell_type": "code",
   "execution_count": 49,
   "metadata": {},
   "outputs": [],
   "source": [
    "with open ('results_dict.pickle', 'wb') as fout:\n",
    "    pickle.dump(OrderedDict(results_dict), fout)"
   ]
  },
  {
   "cell_type": "markdown",
   "metadata": {},
   "source": [
    "---\n",
    "### 2. CNN"
   ]
  },
  {
   "cell_type": "code",
   "execution_count": null,
   "metadata": {},
   "outputs": [],
   "source": [
    "model=CNN"
   ]
  },
  {
   "cell_type": "code",
   "execution_count": null,
   "metadata": {
    "scrolled": true
   },
   "outputs": [],
   "source": [
    "kf_CV = Kfold_CV()\n",
    "\n",
    "kf_CV(build_dataloader_pipeline = pipe_data_load,\n",
    "                num_epochs = 100,\n",
    "                n_folds=3,\n",
    "                cell_line=cell_line,\n",
    "                sequence=True,\n",
    "                model = model,\n",
    "                device = device,\n",
    "                task=task,\n",
    "                sampler = 'TPE',\n",
    "                study_name = f'{cell_line}_{task}_{model.__name__}',\n",
    "                test_model_path = f'{cell_line}_{task}_{model.__name__}_TEST')"
   ]
  },
  {
   "cell_type": "code",
   "execution_count": null,
   "metadata": {},
   "outputs": [],
   "source": [
    "results_dict[cell_line][task][model.__name__] = kf_CV.scores_dict"
   ]
  },
  {
   "cell_type": "code",
   "execution_count": null,
   "metadata": {},
   "outputs": [],
   "source": [
    "with open ('results_dict.pickle', 'wb') as fout:\n",
    "    pickle.dump(OrderedDict(results_dict), fout)"
   ]
  },
  {
   "cell_type": "markdown",
   "metadata": {},
   "source": [
    "---"
   ]
  },
  {
   "cell_type": "markdown",
   "metadata": {},
   "source": [
    "## 3) ACTIVE ENHANCERS vs ACTIVE PROMOTERS"
   ]
  },
  {
   "cell_type": "code",
   "execution_count": 50,
   "metadata": {},
   "outputs": [
    {
     "data": {
      "text/plain": [
       "'active_E_vs_active_P'"
      ]
     },
     "execution_count": 50,
     "metadata": {},
     "output_type": "execute_result"
    }
   ],
   "source": [
    "task = TASKS[2]\n",
    "task"
   ]
  },
  {
   "cell_type": "code",
   "execution_count": 51,
   "metadata": {},
   "outputs": [
    {
     "name": "stdout",
     "output_type": "stream",
     "text": [
      "Data Preprocessing Done!\n"
     ]
    }
   ],
   "source": [
    "pipe_data_load = Build_DataLoader_Pipeline(path_name=f'{task}.pickle')"
   ]
  },
  {
   "cell_type": "markdown",
   "metadata": {},
   "source": [
    "---\n",
    "### 1. FFNN"
   ]
  },
  {
   "cell_type": "code",
   "execution_count": 52,
   "metadata": {},
   "outputs": [],
   "source": [
    "model=FFNN"
   ]
  },
  {
   "cell_type": "code",
   "execution_count": 53,
   "metadata": {
    "scrolled": true
   },
   "outputs": [
    {
     "name": "stdout",
     "output_type": "stream",
     "text": [
      ">>> ITERATION N. 1\n"
     ]
    },
    {
     "name": "stderr",
     "output_type": "stream",
     "text": [
      "/Users/Niki/Prediction-of-Active-and-Inactive-Regulatory-Regions-with-Embracenet-Multimodal-Neural-Network-/BIOINF_tesi/models/utils/training_models.py:362: ExperimentalWarning: PatientPruner is experimental (supported from v2.8.0). The interface can change in the future.\n",
      "  pruner=optuna.pruners.PatientPruner(optuna.pruners.MedianPruner(), patience=2),\n",
      "\u001b[32m[I 2021-10-25 09:27:45,303]\u001b[0m Using an existing study with name 'HEPG2_active_E_vs_active_P_FFNN_1' instead of creating a new one.\u001b[0m\n"
     ]
    },
    {
     "name": "stdout",
     "output_type": "stream",
     "text": [
      "\n",
      "===============> HYPERPARAMETERS TUNING\n"
     ]
    },
    {
     "name": "stderr",
     "output_type": "stream",
     "text": [
      "/Users/Niki/Prediction-of-Active-and-Inactive-Regulatory-Regions-with-Embracenet-Multimodal-Neural-Network-/BIOINF_tesi/models/utils/training_models.py:362: ExperimentalWarning: PatientPruner is experimental (supported from v2.8.0). The interface can change in the future.\n",
      "  pruner=optuna.pruners.PatientPruner(optuna.pruners.MedianPruner(), patience=2),\n",
      "\u001b[32m[I 2021-10-25 09:27:45,748]\u001b[0m Using an existing study with name 'HEPG2_active_E_vs_active_P_FFNN_1_2' instead of creating a new one.\u001b[0m\n"
     ]
    },
    {
     "name": "stdout",
     "output_type": "stream",
     "text": [
      "Study statistics: \n",
      "  Number of finished trials:  3\n",
      "  Number of pruned trials:  0\n",
      "  Number of complete trials:  3\n",
      "Best trial:\n",
      "  Value:  0.7531803829315491\n",
      "  Params: \n",
      "    dropout_l0: 0.4\n",
      "    dropout_l1: 0.2\n",
      "    lr: 0.00021691454022696192\n",
      "    n_layers: 2\n",
      "    n_units_l0: 128\n",
      "    n_units_l1: 16\n",
      "    optimizer: RMSprop\n",
      "    weight_decay: 0.0002883538684259367\n",
      "\n",
      "===============> MODEL TESTING\n",
      "AUPRC test score: 0.7767691533555177\n",
      "\n",
      "\n",
      ">>> ITERATION N. 2\n",
      "\n",
      "===============> HYPERPARAMETERS TUNING\n"
     ]
    },
    {
     "name": "stderr",
     "output_type": "stream",
     "text": [
      "/Users/Niki/Prediction-of-Active-and-Inactive-Regulatory-Regions-with-Embracenet-Multimodal-Neural-Network-/BIOINF_tesi/models/utils/training_models.py:362: ExperimentalWarning: PatientPruner is experimental (supported from v2.8.0). The interface can change in the future.\n",
      "  pruner=optuna.pruners.PatientPruner(optuna.pruners.MedianPruner(), patience=2),\n",
      "\u001b[32m[I 2021-10-25 09:27:46,046]\u001b[0m Using an existing study with name 'HEPG2_active_E_vs_active_P_FFNN_1_2_3' instead of creating a new one.\u001b[0m\n"
     ]
    },
    {
     "name": "stdout",
     "output_type": "stream",
     "text": [
      "Study statistics: \n",
      "  Number of finished trials:  3\n",
      "  Number of pruned trials:  0\n",
      "  Number of complete trials:  3\n",
      "Best trial:\n",
      "  Value:  0.804773747079286\n",
      "  Params: \n",
      "    dropout_l0: 0.0\n",
      "    dropout_l1: 0.4\n",
      "    lr: 0.0015718783404020666\n",
      "    n_layers: 2\n",
      "    n_units_l0: 256\n",
      "    n_units_l1: 32\n",
      "    optimizer: Nadam\n",
      "    weight_decay: 0.00018991579720578042\n",
      "\n",
      "===============> MODEL TESTING\n",
      "AUPRC test score: 0.7623293473510073\n",
      "\n",
      "\n",
      ">>> ITERATION N. 3\n",
      "\n",
      "===============> HYPERPARAMETERS TUNING\n",
      "Study statistics: \n",
      "  Number of finished trials:  3\n",
      "  Number of pruned trials:  0\n",
      "  Number of complete trials:  3\n",
      "Best trial:\n",
      "  Value:  0.7702054356840007\n",
      "  Params: \n",
      "    dropout_l0: 0.0\n",
      "    dropout_l1: 0.2\n",
      "    dropout_l2: 0.4\n",
      "    lr: 0.0011254456833222702\n",
      "    n_layers: 3\n",
      "    n_units_l0: 64\n",
      "    n_units_l1: 16\n",
      "    n_units_l2: 64\n",
      "    optimizer: Nadam\n",
      "    weight_decay: 0.00013141424114819\n",
      "\n",
      "===============> MODEL TESTING\n",
      "AUPRC test score: 0.7821759860669775\n",
      "\n",
      "\n",
      "\n",
      "3-FOLD CROSS-VALIDATION AUPRC TEST SCORE: 0.77376\n"
     ]
    }
   ],
   "source": [
    "kf_CV = Kfold_CV()\n",
    "\n",
    "kf_CV(build_dataloader_pipeline = pipe_data_load,\n",
    "                num_epochs = 100,\n",
    "                n_folds=3,\n",
    "                cell_line=cell_line,\n",
    "                sequence=False,\n",
    "                model = model,\n",
    "                device = device,\n",
    "                task=task,\n",
    "                sampler = 'TPE',\n",
    "                study_name = f'{cell_line}_{task}_{model.__name__}',\n",
    "                test_model_path = f'{cell_line}_{task}_{model.__name__}_TEST')"
   ]
  },
  {
   "cell_type": "code",
   "execution_count": 54,
   "metadata": {},
   "outputs": [],
   "source": [
    "results_dict[cell_line][task][model.__name__] = kf_CV.scores_dict"
   ]
  },
  {
   "cell_type": "code",
   "execution_count": 55,
   "metadata": {},
   "outputs": [],
   "source": [
    "with open ('results_dict.pickle', 'wb') as fout:\n",
    "    pickle.dump(OrderedDict(results_dict), fout)"
   ]
  },
  {
   "cell_type": "markdown",
   "metadata": {},
   "source": [
    "---\n",
    "### 2. CNN"
   ]
  },
  {
   "cell_type": "code",
   "execution_count": null,
   "metadata": {},
   "outputs": [],
   "source": [
    "model=CNN"
   ]
  },
  {
   "cell_type": "code",
   "execution_count": null,
   "metadata": {
    "scrolled": true
   },
   "outputs": [],
   "source": [
    "kf_CV = Kfold_CV()\n",
    "\n",
    "kf_CV(build_dataloader_pipeline = pipe_data_load,\n",
    "                num_epochs = 100,\n",
    "                n_folds=3,\n",
    "                cell_line=cell_line,\n",
    "                sequence=True,\n",
    "                model = model,\n",
    "                device = device,\n",
    "                task=task,\n",
    "                sampler = 'TPE',\n",
    "                study_name = f'{cell_line}_{task}_{model.__name__}',\n",
    "                test_model_path = f'{cell_line}_{task}_{model.__name__}_TEST')"
   ]
  },
  {
   "cell_type": "code",
   "execution_count": null,
   "metadata": {},
   "outputs": [],
   "source": [
    "results_dict[cell_line][task][model.__name__] = kf_CV.scores_dict"
   ]
  },
  {
   "cell_type": "code",
   "execution_count": null,
   "metadata": {},
   "outputs": [],
   "source": [
    "with open ('results_dict.pickle', 'wb') as fout:\n",
    "    pickle.dump(OrderedDict(results_dict), fout)"
   ]
  },
  {
   "cell_type": "code",
   "execution_count": null,
   "metadata": {},
   "outputs": [],
   "source": []
  },
  {
   "cell_type": "markdown",
   "metadata": {},
   "source": [
    "---"
   ]
  },
  {
   "cell_type": "markdown",
   "metadata": {},
   "source": [
    "## 4) INACTIVE ENHANCERS vs INACTIVE PROMOTERS"
   ]
  },
  {
   "cell_type": "code",
   "execution_count": 56,
   "metadata": {},
   "outputs": [
    {
     "data": {
      "text/plain": [
       "'inactive_E_vs_inactive_P'"
      ]
     },
     "execution_count": 56,
     "metadata": {},
     "output_type": "execute_result"
    }
   ],
   "source": [
    "task = TASKS[3]\n",
    "task"
   ]
  },
  {
   "cell_type": "code",
   "execution_count": 57,
   "metadata": {},
   "outputs": [
    {
     "name": "stdout",
     "output_type": "stream",
     "text": [
      "Data Preprocessing Done!\n"
     ]
    }
   ],
   "source": [
    "pipe_data_load = Build_DataLoader_Pipeline(path_name=f'{task}.pickle')"
   ]
  },
  {
   "cell_type": "markdown",
   "metadata": {},
   "source": [
    "---\n",
    "### 1. FFNN"
   ]
  },
  {
   "cell_type": "code",
   "execution_count": 58,
   "metadata": {},
   "outputs": [],
   "source": [
    "model=FFNN"
   ]
  },
  {
   "cell_type": "code",
   "execution_count": 59,
   "metadata": {
    "scrolled": true
   },
   "outputs": [
    {
     "name": "stdout",
     "output_type": "stream",
     "text": [
      ">>> ITERATION N. 1\n",
      "\n",
      "===============> HYPERPARAMETERS TUNING\n"
     ]
    },
    {
     "name": "stderr",
     "output_type": "stream",
     "text": [
      "/Users/Niki/Prediction-of-Active-and-Inactive-Regulatory-Regions-with-Embracenet-Multimodal-Neural-Network-/BIOINF_tesi/models/utils/training_models.py:362: ExperimentalWarning: PatientPruner is experimental (supported from v2.8.0). The interface can change in the future.\n",
      "  pruner=optuna.pruners.PatientPruner(optuna.pruners.MedianPruner(), patience=2),\n",
      "\u001b[32m[I 2021-10-25 09:27:51,630]\u001b[0m Using an existing study with name 'HEPG2_inactive_E_vs_inactive_P_FFNN_1' instead of creating a new one.\u001b[0m\n"
     ]
    },
    {
     "name": "stdout",
     "output_type": "stream",
     "text": [
      "Study statistics: \n",
      "  Number of finished trials:  3\n",
      "  Number of pruned trials:  0\n",
      "  Number of complete trials:  3\n",
      "Best trial:\n",
      "  Value:  0.5950095452976348\n",
      "  Params: \n",
      "    dropout_l0: 0.2\n",
      "    dropout_l1: 0.0\n",
      "    lr: 0.004348873156886279\n",
      "    n_layers: 2\n",
      "    n_units_l0: 64\n",
      "    n_units_l1: 32\n",
      "    optimizer: Nadam\n",
      "    weight_decay: 0.00012296322274825443\n",
      "\n",
      "===============> MODEL TESTING\n",
      "AUPRC test score: 0.5986124075144006\n",
      "\n",
      "\n",
      ">>> ITERATION N. 2\n",
      "\n",
      "===============> HYPERPARAMETERS TUNING\n"
     ]
    },
    {
     "name": "stderr",
     "output_type": "stream",
     "text": [
      "/Users/Niki/Prediction-of-Active-and-Inactive-Regulatory-Regions-with-Embracenet-Multimodal-Neural-Network-/BIOINF_tesi/models/utils/training_models.py:362: ExperimentalWarning: PatientPruner is experimental (supported from v2.8.0). The interface can change in the future.\n",
      "  pruner=optuna.pruners.PatientPruner(optuna.pruners.MedianPruner(), patience=2),\n",
      "\u001b[32m[I 2021-10-25 09:27:52,919]\u001b[0m Using an existing study with name 'HEPG2_inactive_E_vs_inactive_P_FFNN_1_2' instead of creating a new one.\u001b[0m\n"
     ]
    },
    {
     "name": "stdout",
     "output_type": "stream",
     "text": [
      "Study statistics: \n",
      "  Number of finished trials:  3\n",
      "  Number of pruned trials:  0\n",
      "  Number of complete trials:  3\n",
      "Best trial:\n",
      "  Value:  0.5861087869175899\n",
      "  Params: \n",
      "    dropout_l0: 0.2\n",
      "    dropout_l1: 0.0\n",
      "    dropout_l2: 0.4\n",
      "    lr: 0.0010823643006022596\n",
      "    n_layers: 3\n",
      "    n_units_l0: 32\n",
      "    n_units_l1: 128\n",
      "    n_units_l2: 16\n",
      "    optimizer: Adam\n",
      "    weight_decay: 0.00033003388605640926\n",
      "\n",
      "===============> MODEL TESTING\n",
      "AUPRC test score: 0.5995554658754901\n",
      "\n",
      "\n",
      ">>> ITERATION N. 3\n",
      "\n",
      "===============> HYPERPARAMETERS TUNING\n"
     ]
    },
    {
     "name": "stderr",
     "output_type": "stream",
     "text": [
      "/Users/Niki/Prediction-of-Active-and-Inactive-Regulatory-Regions-with-Embracenet-Multimodal-Neural-Network-/BIOINF_tesi/models/utils/training_models.py:362: ExperimentalWarning: PatientPruner is experimental (supported from v2.8.0). The interface can change in the future.\n",
      "  pruner=optuna.pruners.PatientPruner(optuna.pruners.MedianPruner(), patience=2),\n",
      "\u001b[32m[I 2021-10-25 09:27:54,653]\u001b[0m Using an existing study with name 'HEPG2_inactive_E_vs_inactive_P_FFNN_1_2_3' instead of creating a new one.\u001b[0m\n"
     ]
    },
    {
     "name": "stdout",
     "output_type": "stream",
     "text": [
      "Study statistics: \n",
      "  Number of finished trials:  3\n",
      "  Number of pruned trials:  0\n",
      "  Number of complete trials:  3\n",
      "Best trial:\n",
      "  Value:  0.581140915905526\n",
      "  Params: \n",
      "    dropout_l0: 0.2\n",
      "    dropout_l1: 0.4\n",
      "    dropout_l2: 0.0\n",
      "    lr: 4.901464844375115e-05\n",
      "    n_layers: 3\n",
      "    n_units_l0: 256\n",
      "    n_units_l1: 16\n",
      "    n_units_l2: 16\n",
      "    optimizer: RMSprop\n",
      "    weight_decay: 0.005026751918663935\n",
      "\n",
      "===============> MODEL TESTING\n",
      "AUPRC test score: 0.5861436724429382\n",
      "\n",
      "\n",
      "\n",
      "3-FOLD CROSS-VALIDATION AUPRC TEST SCORE: 0.59477\n"
     ]
    }
   ],
   "source": [
    "kf_CV = Kfold_CV()\n",
    "\n",
    "kf_CV(build_dataloader_pipeline = pipe_data_load,\n",
    "                num_epochs = 100,\n",
    "                n_folds=3,\n",
    "                cell_line=cell_line,\n",
    "                sequence=False,\n",
    "                model = model,\n",
    "                device = device,\n",
    "                task=task,\n",
    "                sampler = 'TPE',\n",
    "                study_name = f'{cell_line}_{task}_{model.__name__}',\n",
    "                test_model_path = f'{cell_line}_{task}_{model.__name__}_TEST')"
   ]
  },
  {
   "cell_type": "code",
   "execution_count": 60,
   "metadata": {},
   "outputs": [],
   "source": [
    "results_dict[cell_line][task][model.__name__] = kf_CV.scores_dict"
   ]
  },
  {
   "cell_type": "code",
   "execution_count": 61,
   "metadata": {},
   "outputs": [],
   "source": [
    "with open ('results_dict.pickle', 'wb') as fout:\n",
    "    pickle.dump(OrderedDict(results_dict), fout)"
   ]
  },
  {
   "cell_type": "markdown",
   "metadata": {},
   "source": [
    "---\n",
    "### 2. CNN"
   ]
  },
  {
   "cell_type": "code",
   "execution_count": null,
   "metadata": {},
   "outputs": [],
   "source": [
    "model=CNN"
   ]
  },
  {
   "cell_type": "code",
   "execution_count": null,
   "metadata": {
    "scrolled": true
   },
   "outputs": [],
   "source": [
    "kf_CV = Kfold_CV()\n",
    "\n",
    "kf_CV(build_dataloader_pipeline = pipe_data_load,\n",
    "                num_epochs = 100,\n",
    "                n_folds=3,\n",
    "                cell_line=cell_line,\n",
    "                sequence=True,\n",
    "                model = model,\n",
    "                device = device,\n",
    "                task=task,\n",
    "                sampler = 'TPE',\n",
    "                study_name = f'{cell_line}_{task}_{model.__name__}',\n",
    "                test_model_path = f'{cell_line}_{task}_{model.__name__}_TEST')"
   ]
  },
  {
   "cell_type": "code",
   "execution_count": null,
   "metadata": {},
   "outputs": [],
   "source": [
    "results_dict[cell_line][task][model.__name__] = kf_CV.scores_dict"
   ]
  },
  {
   "cell_type": "code",
   "execution_count": null,
   "metadata": {},
   "outputs": [],
   "source": [
    "with open ('results_dict.pickle', 'wb') as fout:\n",
    "    pickle.dump(OrderedDict(results_dict), fout)"
   ]
  },
  {
   "cell_type": "code",
   "execution_count": null,
   "metadata": {},
   "outputs": [],
   "source": []
  },
  {
   "cell_type": "markdown",
   "metadata": {},
   "source": [
    "---"
   ]
  },
  {
   "cell_type": "markdown",
   "metadata": {},
   "source": [
    "## 5) ACTIVE ENHANCERS + ACTIVE PROMOTERS vs INACTIVE REST"
   ]
  },
  {
   "cell_type": "code",
   "execution_count": 62,
   "metadata": {},
   "outputs": [
    {
     "data": {
      "text/plain": [
       "'active_EP_vs_inactive_rest'"
      ]
     },
     "execution_count": 62,
     "metadata": {},
     "output_type": "execute_result"
    }
   ],
   "source": [
    "task = TASKS[4]\n",
    "task"
   ]
  },
  {
   "cell_type": "code",
   "execution_count": 63,
   "metadata": {},
   "outputs": [
    {
     "name": "stdout",
     "output_type": "stream",
     "text": [
      "Data Preprocessing Done!\n"
     ]
    }
   ],
   "source": [
    "pipe_data_load = Build_DataLoader_Pipeline(path_name=f'{task}.pickle')"
   ]
  },
  {
   "cell_type": "markdown",
   "metadata": {},
   "source": [
    "---\n",
    "### 1. FFNN"
   ]
  },
  {
   "cell_type": "code",
   "execution_count": 64,
   "metadata": {},
   "outputs": [],
   "source": [
    "model = FFNN"
   ]
  },
  {
   "cell_type": "code",
   "execution_count": 65,
   "metadata": {
    "scrolled": true
   },
   "outputs": [
    {
     "name": "stdout",
     "output_type": "stream",
     "text": [
      ">>> ITERATION N. 1\n",
      "\n",
      "===============> HYPERPARAMETERS TUNING\n"
     ]
    },
    {
     "name": "stderr",
     "output_type": "stream",
     "text": [
      "/Users/Niki/Prediction-of-Active-and-Inactive-Regulatory-Regions-with-Embracenet-Multimodal-Neural-Network-/BIOINF_tesi/models/utils/training_models.py:362: ExperimentalWarning: PatientPruner is experimental (supported from v2.8.0). The interface can change in the future.\n",
      "  pruner=optuna.pruners.PatientPruner(optuna.pruners.MedianPruner(), patience=2),\n",
      "\u001b[32m[I 2021-10-25 09:27:57,985]\u001b[0m Using an existing study with name 'HEPG2_active_EP_vs_inactive_rest_FFNN_1' instead of creating a new one.\u001b[0m\n"
     ]
    },
    {
     "name": "stdout",
     "output_type": "stream",
     "text": [
      "Study statistics: \n",
      "  Number of finished trials:  3\n",
      "  Number of pruned trials:  0\n",
      "  Number of complete trials:  3\n",
      "Best trial:\n",
      "  Value:  0.31590978980030643\n",
      "  Params: \n",
      "    dropout_l0: 0.2\n",
      "    lr: 0.0006057288652575507\n",
      "    n_layers: 1\n",
      "    n_units_l0: 128\n",
      "    optimizer: RMSprop\n",
      "    weight_decay: 0.0005628286648309738\n",
      "\n",
      "===============> MODEL TESTING\n",
      "AUPRC test score: 0.3109004995489085\n",
      "\n",
      "\n",
      ">>> ITERATION N. 2\n",
      "\n",
      "===============> HYPERPARAMETERS TUNING\n"
     ]
    },
    {
     "name": "stderr",
     "output_type": "stream",
     "text": [
      "/Users/Niki/Prediction-of-Active-and-Inactive-Regulatory-Regions-with-Embracenet-Multimodal-Neural-Network-/BIOINF_tesi/models/utils/training_models.py:362: ExperimentalWarning: PatientPruner is experimental (supported from v2.8.0). The interface can change in the future.\n",
      "  pruner=optuna.pruners.PatientPruner(optuna.pruners.MedianPruner(), patience=2),\n",
      "\u001b[32m[I 2021-10-25 09:27:59,453]\u001b[0m Using an existing study with name 'HEPG2_active_EP_vs_inactive_rest_FFNN_1_2' instead of creating a new one.\u001b[0m\n"
     ]
    },
    {
     "name": "stdout",
     "output_type": "stream",
     "text": [
      "Study statistics: \n",
      "  Number of finished trials:  3\n",
      "  Number of pruned trials:  0\n",
      "  Number of complete trials:  3\n",
      "Best trial:\n",
      "  Value:  0.31199965532826895\n",
      "  Params: \n",
      "    dropout_l0: 0.0\n",
      "    dropout_l1: 0.3\n",
      "    lr: 0.0015610498544969596\n",
      "    n_layers: 2\n",
      "    n_units_l0: 64\n",
      "    n_units_l1: 32\n",
      "    optimizer: RMSprop\n",
      "    weight_decay: 0.004656839388050249\n",
      "\n",
      "===============> MODEL TESTING\n",
      "AUPRC test score: 0.30997797241062347\n",
      "\n",
      "\n",
      ">>> ITERATION N. 3\n",
      "\n",
      "===============> HYPERPARAMETERS TUNING\n"
     ]
    },
    {
     "name": "stderr",
     "output_type": "stream",
     "text": [
      "/Users/Niki/Prediction-of-Active-and-Inactive-Regulatory-Regions-with-Embracenet-Multimodal-Neural-Network-/BIOINF_tesi/models/utils/training_models.py:362: ExperimentalWarning: PatientPruner is experimental (supported from v2.8.0). The interface can change in the future.\n",
      "  pruner=optuna.pruners.PatientPruner(optuna.pruners.MedianPruner(), patience=2),\n",
      "\u001b[32m[I 2021-10-25 09:28:00,724]\u001b[0m Using an existing study with name 'HEPG2_active_EP_vs_inactive_rest_FFNN_1_2_3' instead of creating a new one.\u001b[0m\n"
     ]
    },
    {
     "name": "stdout",
     "output_type": "stream",
     "text": [
      "Study statistics: \n",
      "  Number of finished trials:  3\n",
      "  Number of pruned trials:  0\n",
      "  Number of complete trials:  3\n",
      "Best trial:\n",
      "  Value:  0.32821073467792555\n",
      "  Params: \n",
      "    dropout_l0: 0.2\n",
      "    dropout_l1: 0.4\n",
      "    dropout_l2: 0.0\n",
      "    dropout_l3: 0.0\n",
      "    lr: 0.00018260238906135016\n",
      "    n_layers: 4\n",
      "    n_units_l0: 64\n",
      "    n_units_l1: 128\n",
      "    n_units_l2: 64\n",
      "    n_units_l3: 4\n",
      "    optimizer: Adam\n",
      "    weight_decay: 0.0004095712875150773\n",
      "\n",
      "===============> MODEL TESTING\n",
      "AUPRC test score: 0.3167418519321511\n",
      "\n",
      "\n",
      "\n",
      "3-FOLD CROSS-VALIDATION AUPRC TEST SCORE: 0.31254\n"
     ]
    }
   ],
   "source": [
    "kf_CV = Kfold_CV()\n",
    "\n",
    "kf_CV(build_dataloader_pipeline = pipe_data_load,\n",
    "                num_epochs = 100,\n",
    "                n_folds=3,\n",
    "                cell_line=cell_line,\n",
    "                sequence=False,\n",
    "                model = model,\n",
    "                device = device,\n",
    "                task=task,\n",
    "                sampler = 'TPE',\n",
    "                study_name = f'{cell_line}_{task}_{model.__name__}',\n",
    "                test_model_path = f'{cell_line}_{task}_{model.__name__}_TEST')"
   ]
  },
  {
   "cell_type": "code",
   "execution_count": 66,
   "metadata": {},
   "outputs": [],
   "source": [
    "results_dict[cell_line][task][model.__name__] = kf_CV.scores_dict"
   ]
  },
  {
   "cell_type": "code",
   "execution_count": 67,
   "metadata": {},
   "outputs": [],
   "source": [
    "with open ('results_dict.pickle', 'wb') as fout:\n",
    "    pickle.dump(OrderedDict(results_dict), fout)"
   ]
  },
  {
   "cell_type": "markdown",
   "metadata": {},
   "source": [
    "---\n",
    "### 2. CNN"
   ]
  },
  {
   "cell_type": "code",
   "execution_count": null,
   "metadata": {},
   "outputs": [],
   "source": [
    "model=CNN"
   ]
  },
  {
   "cell_type": "code",
   "execution_count": null,
   "metadata": {
    "scrolled": true
   },
   "outputs": [],
   "source": [
    "kf_CV = Kfold_CV()\n",
    "\n",
    "kf_CV(build_dataloader_pipeline = pipe_data_load,\n",
    "                num_epochs = 100,\n",
    "                n_folds=3,\n",
    "                cell_line=cell_line,\n",
    "                sequence=True,\n",
    "                model = model,\n",
    "                device = device,\n",
    "                task=task,\n",
    "                sampler = 'TPE',\n",
    "                study_name = f'{cell_line}_{task}_{model.__name__}',\n",
    "                test_model_path = f'{cell_line}_{task}_{model.__name__}_TEST')"
   ]
  },
  {
   "cell_type": "code",
   "execution_count": null,
   "metadata": {},
   "outputs": [],
   "source": [
    "results_dict[cell_line][task][model.__name__] = kf_CV.scores_dict"
   ]
  },
  {
   "cell_type": "code",
   "execution_count": null,
   "metadata": {},
   "outputs": [],
   "source": [
    "with open ('results_dict.pickle', 'wb') as fout:\n",
    "    pickle.dump(OrderedDict(results_dict), fout)"
   ]
  },
  {
   "cell_type": "markdown",
   "metadata": {},
   "source": [
    "---"
   ]
  },
  {
   "cell_type": "code",
   "execution_count": null,
   "metadata": {},
   "outputs": [],
   "source": [
    "plot_scores(cells=cell_line, models=['FFNN','CNN'])"
   ]
  },
  {
   "cell_type": "code",
   "execution_count": null,
   "metadata": {},
   "outputs": [],
   "source": []
  }
 ],
 "metadata": {
  "environment": {
   "name": "pytorch-gpu.1-9.m80",
   "type": "gcloud",
   "uri": "gcr.io/deeplearning-platform-release/pytorch-gpu.1-9:m80"
  },
  "kernelspec": {
   "display_name": "Python 3",
   "language": "python",
   "name": "python3"
  },
  "language_info": {
   "codemirror_mode": {
    "name": "ipython",
    "version": 3
   },
   "file_extension": ".py",
   "mimetype": "text/x-python",
   "name": "python",
   "nbconvert_exporter": "python",
   "pygments_lexer": "ipython3",
   "version": "3.8.8"
  }
 },
 "nbformat": 4,
 "nbformat_minor": 4
}
