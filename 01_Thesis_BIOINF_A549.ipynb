{
 "cells": [
  {
   "cell_type": "markdown",
   "metadata": {
    "id": "zqpqu8UJFySp"
   },
   "source": [
    "## BIOINFORMATICS THESIS: MULTIMODAL NEURAL NETWORK"
   ]
  },
  {
   "cell_type": "markdown",
   "metadata": {},
   "source": [
    "# CELL LINE: A549"
   ]
  },
  {
   "cell_type": "markdown",
   "metadata": {},
   "source": [
    "da fare \n",
    "- sistema selezione augmentation in embracenet\n",
    "- crea grafici AUPRC reti"
   ]
  },
  {
   "cell_type": "code",
   "execution_count": 1,
   "metadata": {},
   "outputs": [],
   "source": [
    "import pandas as pd \n",
    "import numpy as np\n",
    "import os\n",
    "\n",
    "import torch\n",
    "import torch.nn.functional as F\n",
    "from torch.utils.data import Dataset, DataLoader\n",
    "import torch.nn as nn\n",
    "import torch.optim as optim\n",
    "from collections import defaultdict, OrderedDict\n",
    "import pickle\n",
    "\n",
    "import sqlite3\n",
    "from sqlalchemy import create_engine\n",
    "\n",
    "device = 'cuda' if torch.cuda.is_available() else 'cpu'"
   ]
  },
  {
   "cell_type": "code",
   "execution_count": 2,
   "metadata": {},
   "outputs": [],
   "source": [
    "# create a database to store optuna studies with sqlite backend\n",
    "#engine = create_engine('sqlite:///BIOINF_optuna_tuning.db')"
   ]
  },
  {
   "cell_type": "code",
   "execution_count": 5,
   "metadata": {},
   "outputs": [],
   "source": [
    "from BIOINF_tesi.data_pipe import CELL_LINES, TASKS"
   ]
  },
  {
   "cell_type": "code",
   "execution_count": 4,
   "metadata": {},
   "outputs": [
    {
     "data": {
      "text/plain": [
       "'A549'"
      ]
     },
     "execution_count": 4,
     "metadata": {},
     "output_type": "execute_result"
    }
   ],
   "source": [
    "cell_line = CELL_LINES[0]\n",
    "cell_line"
   ]
  },
  {
   "cell_type": "markdown",
   "metadata": {},
   "source": [
    "---"
   ]
  },
  {
   "cell_type": "code",
   "execution_count": 5,
   "metadata": {},
   "outputs": [],
   "source": [
    "from BIOINF_tesi.data_pipe import Load_Create_Task\n",
    "from BIOINF_tesi.data_pipe import Build_DataLoader_Pipeline"
   ]
  },
  {
   "cell_type": "code",
   "execution_count": 6,
   "metadata": {},
   "outputs": [],
   "source": [
    "from BIOINF_tesi.models import FFNN, CNN, CNN_LSTM\n",
    "from BIOINF_tesi.models.utils import fit, Param_Search, Kfold_CV"
   ]
  },
  {
   "cell_type": "raw",
   "metadata": {},
   "source": [
    "def dd():\n",
    "    return defaultdict(dict)\n",
    "    \n",
    "results_dict = defaultdict(dd)"
   ]
  },
  {
   "cell_type": "code",
   "execution_count": 7,
   "metadata": {},
   "outputs": [],
   "source": [
    "with open ('results_dict.pickle', 'rb') as fin:\n",
    "    results_dict = pickle.load(fin)\n",
    "    results_dict = defaultdict(lambda: defaultdict(dict), results_dict)"
   ]
  },
  {
   "cell_type": "code",
   "execution_count": 1,
   "metadata": {},
   "outputs": [],
   "source": [
    "from BIOINF_tesi.models.utils import print_content_results_dict"
   ]
  },
  {
   "cell_type": "code",
   "execution_count": 2,
   "metadata": {},
   "outputs": [
    {
     "name": "stdout",
     "output_type": "stream",
     "text": [
      "A549\n",
      "\n",
      "active_E_vs_inactive_E\n",
      "CNN\n",
      "FFNN_smote\n",
      "FFNN_double\n",
      "EmbraceNetMultimodal\n",
      "FFNN\n",
      "best_augmentation\n",
      "baseline_AUPRC\n",
      "\n",
      "active_P_vs_inactive_P\n",
      "CNN\n",
      "FFNN\n",
      "EmbraceNetMultimodal\n",
      "baseline_AUPRC\n",
      "\n",
      "active_E_vs_active_P\n",
      "CNN\n",
      "FFNN\n",
      "EmbraceNetMultimodal\n",
      "baseline_AUPRC\n",
      "\n",
      "inactive_E_vs_inactive_P\n",
      "CNN\n",
      "FFNN\n",
      "EmbraceNetMultimodal\n",
      "baseline_AUPRC\n",
      "\n",
      "active_EP_vs_inactive_rest\n",
      "CNN\n",
      "FFNN_smote\n",
      "FFNN_double\n",
      "EmbraceNetMultimodal\n",
      "FFNN\n",
      "best_augmentation\n",
      "baseline_AUPRC\n",
      "\n",
      "\n",
      "GM12878\n",
      "\n",
      "active_E_vs_inactive_E\n",
      "CNN\n",
      "FFNN\n",
      "baseline_AUPRC\n",
      "EmbraceNetMultimodal\n",
      "\n",
      "active_P_vs_inactive_P\n",
      "CNN\n",
      "FFNN\n",
      "baseline_AUPRC\n",
      "EmbraceNetMultimodal\n",
      "\n",
      "active_E_vs_active_P\n",
      "CNN\n",
      "FFNN\n",
      "baseline_AUPRC\n",
      "EmbraceNetMultimodal\n",
      "\n",
      "inactive_E_vs_inactive_P\n",
      "CNN\n",
      "FFNN\n",
      "baseline_AUPRC\n",
      "EmbraceNetMultimodal\n",
      "\n",
      "active_EP_vs_inactive_rest\n",
      "CNN\n",
      "FFNN\n",
      "EmbraceNet\n",
      "baseline_AUPRC\n",
      "EmbraceNetMultimodal\n",
      "\n",
      "\n",
      "H1\n",
      "\n",
      "active_E_vs_inactive_E\n",
      "EmbraceNetMultimodal\n",
      "FFNN_smote\n",
      "FFNN_double\n",
      "baseline_AUPRC\n",
      "CNN\n",
      "FFNN\n",
      "best_augmentation\n",
      "\n",
      "active_P_vs_inactive_P\n",
      "EmbraceNetMultimodal\n",
      "FFNN\n",
      "baseline_AUPRC\n",
      "CNN\n",
      "\n",
      "active_E_vs_active_P\n",
      "EmbraceNetMultimodal\n",
      "FFNN\n",
      "baseline_AUPRC\n",
      "CNN\n",
      "\n",
      "inactive_E_vs_inactive_P\n",
      "EmbraceNetMultimodal\n",
      "FFNN\n",
      "baseline_AUPRC\n",
      "CNN\n",
      "\n",
      "active_EP_vs_inactive_rest\n",
      "FFNN\n",
      "baseline_AUPRC\n",
      "CNN\n",
      "EmbraceNetMultimodal\n",
      "\n",
      "\n",
      "HEK293\n",
      "\n",
      "active_E_vs_inactive_E\n",
      "FFNN\n",
      "baseline_AUPRC\n",
      "CNN\n",
      "\n",
      "active_P_vs_inactive_P\n",
      "FFNN\n",
      "baseline_AUPRC\n",
      "CNN\n",
      "\n",
      "active_E_vs_active_P\n",
      "FFNN\n",
      "baseline_AUPRC\n",
      "CNN\n",
      "\n",
      "inactive_E_vs_inactive_P\n",
      "FFNN\n",
      "baseline_AUPRC\n",
      "CNN\n",
      "\n",
      "active_EP_vs_inactive_rest\n",
      "FFNN\n",
      "baseline_AUPRC\n",
      "CNN\n",
      "\n",
      "\n",
      "HEPG2\n",
      "\n",
      "active_E_vs_inactive_E\n",
      "FFNN\n",
      "baseline_AUPRC\n",
      "CNN\n",
      "\n",
      "active_P_vs_inactive_P\n",
      "FFNN\n",
      "baseline_AUPRC\n",
      "CNN\n",
      "\n",
      "active_E_vs_active_P\n",
      "FFNN\n",
      "baseline_AUPRC\n",
      "CNN\n",
      "\n",
      "inactive_E_vs_inactive_P\n",
      "FFNN\n",
      "baseline_AUPRC\n",
      "CNN\n",
      "\n",
      "active_EP_vs_inactive_rest\n",
      "FFNN\n",
      "baseline_AUPRC\n",
      "CNN\n",
      "\n",
      "\n",
      "K562\n",
      "\n",
      "active_E_vs_inactive_E\n",
      "FFNN_smote\n",
      "FFNN_double\n",
      "baseline_AUPRC\n",
      "CNN\n",
      "FFNN\n",
      "best_augmentation\n",
      "\n",
      "active_P_vs_inactive_P\n",
      "FFNN\n",
      "baseline_AUPRC\n",
      "CNN\n",
      "\n",
      "active_E_vs_active_P\n",
      "FFNN\n",
      "baseline_AUPRC\n",
      "CNN\n",
      "\n",
      "inactive_E_vs_inactive_P\n",
      "FFNN\n",
      "baseline_AUPRC\n",
      "CNN\n",
      "\n",
      "active_EP_vs_inactive_rest\n",
      "FFNN\n",
      "baseline_AUPRC\n",
      "CNN\n",
      "\n",
      "\n",
      "MCF7\n",
      "\n",
      "active_E_vs_inactive_E\n",
      "FFNN_smote\n",
      "FFNN_double\n",
      "FFNN\n",
      "best_augmentation\n",
      "\n",
      "active_P_vs_inactive_P\n",
      "FFNN\n",
      "\n",
      "active_E_vs_active_P\n",
      "FFNN\n",
      "\n",
      "inactive_E_vs_inactive_P\n",
      "FFNN\n",
      "\n",
      "active_EP_vs_inactive_rest\n",
      "FFNN\n",
      "\n",
      "\n"
     ]
    }
   ],
   "source": [
    "print_content_results_dict()"
   ]
  },
  {
   "cell_type": "markdown",
   "metadata": {},
   "source": [
    "## 1) ACTIVE ENHANCERS vs INACTIVE ENHANCERS"
   ]
  },
  {
   "cell_type": "code",
   "execution_count": 7,
   "metadata": {},
   "outputs": [
    {
     "data": {
      "text/plain": [
       "'active_E_vs_inactive_E'"
      ]
     },
     "execution_count": 7,
     "metadata": {},
     "output_type": "execute_result"
    }
   ],
   "source": [
    "task = TASKS[0]\n",
    "task"
   ]
  },
  {
   "cell_type": "code",
   "execution_count": 8,
   "metadata": {},
   "outputs": [
    {
     "name": "stdout",
     "output_type": "stream",
     "text": [
      "Data Preprocessing Done!\n"
     ]
    }
   ],
   "source": [
    "pipe_data_load = Build_DataLoader_Pipeline(path_name=f'{task}.pickle')"
   ]
  },
  {
   "cell_type": "markdown",
   "metadata": {},
   "source": [
    "### 1. FFNN"
   ]
  },
  {
   "cell_type": "code",
   "execution_count": 10,
   "metadata": {},
   "outputs": [],
   "source": [
    "model=FFNN"
   ]
  },
  {
   "cell_type": "code",
   "execution_count": 11,
   "metadata": {
    "scrolled": true
   },
   "outputs": [
    {
     "name": "stdout",
     "output_type": "stream",
     "text": [
      ">>> ITERATION N. 1\n",
      "\n",
      "===============> HYPERPARAMETERS TUNING\n"
     ]
    },
    {
     "name": "stderr",
     "output_type": "stream",
     "text": [
      "/Users/Niki/Prediction-of-Active-and-Inactive-Regulatory-Regions-with-Embracenet-Multimodal-Neural-Network-/BIOINF_tesi/models/utils/training_models.py:362: ExperimentalWarning: PatientPruner is experimental (supported from v2.8.0). The interface can change in the future.\n",
      "  pruner=optuna.pruners.PatientPruner(optuna.pruners.MedianPruner(), patience=2),\n",
      "\u001b[32m[I 2021-10-25 08:52:10,342]\u001b[0m Using an existing study with name 'A549_active_E_vs_inactive_E_FFNN_smote_1' instead of creating a new one.\u001b[0m\n",
      "/opt/anaconda3/lib/python3.8/site-packages/optuna/structs.py:18: FutureWarning: `structs` is deprecated. Classes have moved to the following modules. `structs.StudyDirection`->`study.StudyDirection`, `structs.StudySummary`->`study.StudySummary`, `structs.FrozenTrial`->`trial.FrozenTrial`, `structs.TrialState`->`trial.TrialState`, `structs.TrialPruned`->`exceptions.TrialPruned`.\n",
      "  warnings.warn(_message, FutureWarning)\n"
     ]
    },
    {
     "name": "stdout",
     "output_type": "stream",
     "text": [
      "Study statistics: \n",
      "  Number of finished trials:  3\n",
      "  Number of pruned trials:  0\n",
      "  Number of complete trials:  3\n",
      "Best trial:\n",
      "  Value:  0.1104619151157415\n",
      "  Params: \n",
      "    dropout_l0: 0.2\n",
      "    dropout_l1: 0.4\n",
      "    lr: 0.001097056625573127\n",
      "    n_layers: 2\n",
      "    n_units_l0: 256\n",
      "    n_units_l1: 128\n",
      "    optimizer: RMSprop\n",
      "    weight_decay: 0.00011650436869019969\n",
      "\n",
      "===============> MODEL TESTING\n",
      "AUPRC test score: 0.12271190879786972\n",
      "\n",
      "\n",
      ">>> ITERATION N. 2\n",
      "\n",
      "===============> HYPERPARAMETERS TUNING\n"
     ]
    },
    {
     "name": "stderr",
     "output_type": "stream",
     "text": [
      "/Users/Niki/Prediction-of-Active-and-Inactive-Regulatory-Regions-with-Embracenet-Multimodal-Neural-Network-/BIOINF_tesi/models/utils/training_models.py:362: ExperimentalWarning: PatientPruner is experimental (supported from v2.8.0). The interface can change in the future.\n",
      "  pruner=optuna.pruners.PatientPruner(optuna.pruners.MedianPruner(), patience=2),\n",
      "\u001b[32m[I 2021-10-25 08:52:11,181]\u001b[0m Using an existing study with name 'A549_active_E_vs_inactive_E_FFNN_smote_1_2' instead of creating a new one.\u001b[0m\n"
     ]
    },
    {
     "name": "stdout",
     "output_type": "stream",
     "text": [
      "Study statistics: \n",
      "  Number of finished trials:  3\n",
      "  Number of pruned trials:  0\n",
      "  Number of complete trials:  3\n",
      "Best trial:\n",
      "  Value:  0.12463288994383959\n",
      "  Params: \n",
      "    dropout_l0: 0.2\n",
      "    lr: 0.029927035852373256\n",
      "    n_layers: 1\n",
      "    n_units_l0: 128\n",
      "    optimizer: Nadam\n",
      "    weight_decay: 0.0009033349332847114\n",
      "\n",
      "===============> MODEL TESTING\n"
     ]
    },
    {
     "name": "stderr",
     "output_type": "stream",
     "text": [
      "/Users/Niki/Prediction-of-Active-and-Inactive-Regulatory-Regions-with-Embracenet-Multimodal-Neural-Network-/BIOINF_tesi/models/utils/training_models.py:362: ExperimentalWarning: PatientPruner is experimental (supported from v2.8.0). The interface can change in the future.\n",
      "  pruner=optuna.pruners.PatientPruner(optuna.pruners.MedianPruner(), patience=2),\n",
      "\u001b[32m[I 2021-10-25 08:52:11,767]\u001b[0m Using an existing study with name 'A549_active_E_vs_inactive_E_FFNN_smote_1_2_3' instead of creating a new one.\u001b[0m\n"
     ]
    },
    {
     "name": "stdout",
     "output_type": "stream",
     "text": [
      "AUPRC test score: 0.12639365042112455\n",
      "\n",
      "\n",
      ">>> ITERATION N. 3\n",
      "\n",
      "===============> HYPERPARAMETERS TUNING\n",
      "Study statistics: \n",
      "  Number of finished trials:  3\n",
      "  Number of pruned trials:  0\n",
      "  Number of complete trials:  3\n",
      "Best trial:\n",
      "  Value:  0.13300132202619236\n",
      "  Params: \n",
      "    dropout_l0: 0.4\n",
      "    dropout_l1: 0.2\n",
      "    lr: 0.01807055123024261\n",
      "    n_layers: 2\n",
      "    n_units_l0: 32\n",
      "    n_units_l1: 16\n",
      "    optimizer: Adam\n",
      "    weight_decay: 0.009312825613933257\n",
      "\n",
      "===============> MODEL TESTING\n",
      "AUPRC test score: 0.13466746340353447\n",
      "\n",
      "\n",
      "\n",
      "3-FOLD CROSS-VALIDATION AUPRC TEST SCORE: 0.12792\n"
     ]
    }
   ],
   "source": [
    "# IMBALANCED\n",
    "type_augm_genfeatures = 'smote'\n",
    "\n",
    "kf_CV = Kfold_CV()\n",
    "\n",
    "kf_CV(build_dataloader_pipeline = pipe_data_load,\n",
    "                num_epochs = 100,\n",
    "                n_folds=3,\n",
    "                cell_line=cell_line,\n",
    "                sequence=False,\n",
    "                type_augm_genfeatures=type_augm_genfeatures,\n",
    "                model = model,\n",
    "                device = device,\n",
    "                task=task,\n",
    "                sampler = 'TPE',\n",
    "                study_name = f'{cell_line}_{task}_{model.__name__}_{type_augm_genfeatures}',\n",
    "                test_model_path = f'{cell_line}_{task}_{model.__name__}_{type_augm_genfeatures}_TEST')"
   ]
  },
  {
   "cell_type": "code",
   "execution_count": 12,
   "metadata": {},
   "outputs": [],
   "source": [
    "results_dict[cell_line][task][f'{model.__name__}_{type_augm_genfeatures}'] = kf_CV.scores_dict"
   ]
  },
  {
   "cell_type": "code",
   "execution_count": 13,
   "metadata": {},
   "outputs": [],
   "source": [
    "with open ('results_dict.pickle', 'wb') as fout:\n",
    "    pickle.dump(OrderedDict(results_dict), fout)"
   ]
  },
  {
   "cell_type": "code",
   "execution_count": null,
   "metadata": {},
   "outputs": [],
   "source": []
  },
  {
   "cell_type": "code",
   "execution_count": 14,
   "metadata": {
    "scrolled": true
   },
   "outputs": [
    {
     "name": "stderr",
     "output_type": "stream",
     "text": [
      "/Users/Niki/Prediction-of-Active-and-Inactive-Regulatory-Regions-with-Embracenet-Multimodal-Neural-Network-/BIOINF_tesi/models/utils/training_models.py:362: ExperimentalWarning: PatientPruner is experimental (supported from v2.8.0). The interface can change in the future.\n",
      "  pruner=optuna.pruners.PatientPruner(optuna.pruners.MedianPruner(), patience=2),\n",
      "\u001b[32m[I 2021-10-25 08:52:12,384]\u001b[0m Using an existing study with name 'A549_active_E_vs_inactive_E_FFNN_double_1' instead of creating a new one.\u001b[0m\n"
     ]
    },
    {
     "name": "stdout",
     "output_type": "stream",
     "text": [
      ">>> ITERATION N. 1\n",
      "\n",
      "===============> HYPERPARAMETERS TUNING\n",
      "Study statistics: \n",
      "  Number of finished trials:  3\n",
      "  Number of pruned trials:  0\n",
      "  Number of complete trials:  3\n",
      "Best trial:\n"
     ]
    },
    {
     "name": "stderr",
     "output_type": "stream",
     "text": [
      "/Users/Niki/Prediction-of-Active-and-Inactive-Regulatory-Regions-with-Embracenet-Multimodal-Neural-Network-/BIOINF_tesi/models/utils/training_models.py:362: ExperimentalWarning: PatientPruner is experimental (supported from v2.8.0). The interface can change in the future.\n",
      "  pruner=optuna.pruners.PatientPruner(optuna.pruners.MedianPruner(), patience=2),\n",
      "\u001b[32m[I 2021-10-25 08:52:12,632]\u001b[0m Using an existing study with name 'A549_active_E_vs_inactive_E_FFNN_double_1_2' instead of creating a new one.\u001b[0m\n"
     ]
    },
    {
     "name": "stdout",
     "output_type": "stream",
     "text": [
      "  Value:  0.05391725352112676\n",
      "  Params: \n",
      "    dropout_l0: 0.3\n",
      "    dropout_l1: 0.2\n",
      "    dropout_l2: 0.5\n",
      "    lr: 1.0983325391724808e-05\n",
      "    n_layers: 3\n",
      "    n_units_l0: 64\n",
      "    n_units_l1: 64\n",
      "    n_units_l2: 32\n",
      "    optimizer: Adam\n",
      "    weight_decay: 0.012593397824097607\n",
      "\n",
      "===============> MODEL TESTING\n",
      "AUPRC test score: 0.056822244289970215\n",
      "\n",
      "\n",
      ">>> ITERATION N. 2\n",
      "\n",
      "===============> HYPERPARAMETERS TUNING\n",
      "Study statistics: \n",
      "  Number of finished trials:  3\n",
      "  Number of pruned trials:  0\n",
      "  Number of complete trials:  3\n",
      "Best trial:\n",
      "  Value:  0.12934782150126778\n",
      "  Params: \n",
      "    dropout_l0: 0.0\n",
      "    dropout_l1: 0.0\n",
      "    dropout_l2: 0.5\n",
      "    lr: 0.0012356621790988436\n",
      "    n_layers: 3\n",
      "    n_units_l0: 32\n",
      "    n_units_l1: 32\n",
      "    n_units_l2: 64\n",
      "    optimizer: Nadam\n",
      "    weight_decay: 0.00023871320625855856\n",
      "\n",
      "===============> MODEL TESTING\n",
      "AUPRC test score: 0.12324254660081528\n",
      "\n",
      "\n",
      ">>> ITERATION N. 3\n",
      "\n",
      "===============> HYPERPARAMETERS TUNING\n"
     ]
    },
    {
     "name": "stderr",
     "output_type": "stream",
     "text": [
      "/Users/Niki/Prediction-of-Active-and-Inactive-Regulatory-Regions-with-Embracenet-Multimodal-Neural-Network-/BIOINF_tesi/models/utils/training_models.py:362: ExperimentalWarning: PatientPruner is experimental (supported from v2.8.0). The interface can change in the future.\n",
      "  pruner=optuna.pruners.PatientPruner(optuna.pruners.MedianPruner(), patience=2),\n",
      "\u001b[32m[I 2021-10-25 08:52:12,949]\u001b[0m Using an existing study with name 'A549_active_E_vs_inactive_E_FFNN_double_1_2_3' instead of creating a new one.\u001b[0m\n"
     ]
    },
    {
     "name": "stdout",
     "output_type": "stream",
     "text": [
      "Study statistics: \n",
      "  Number of finished trials:  3\n",
      "  Number of pruned trials:  0\n",
      "  Number of complete trials:  3\n",
      "Best trial:\n",
      "  Value:  0.12512212416605387\n",
      "  Params: \n",
      "    dropout_l0: 0.0\n",
      "    dropout_l1: 0.4\n",
      "    lr: 0.00038094724114862063\n",
      "    n_layers: 2\n",
      "    n_units_l0: 32\n",
      "    n_units_l1: 16\n",
      "    optimizer: Adam\n",
      "    weight_decay: 0.00019765704708958178\n",
      "\n",
      "===============> MODEL TESTING\n",
      "AUPRC test score: 0.12444609939833287\n",
      "\n",
      "\n",
      "\n",
      "3-FOLD CROSS-VALIDATION AUPRC TEST SCORE: 0.1015\n"
     ]
    }
   ],
   "source": [
    "# IMBALANCED\n",
    "type_augm_genfeatures = 'double'\n",
    "\n",
    "kf_CV = Kfold_CV()\n",
    "\n",
    "kf_CV(build_dataloader_pipeline = pipe_data_load,\n",
    "                num_epochs = 100,\n",
    "                n_folds=3,\n",
    "                cell_line=cell_line,\n",
    "                sequence=False,\n",
    "                type_augm_genfeatures=type_augm_genfeatures,\n",
    "                model = model,\n",
    "                device = device,\n",
    "                task=task,\n",
    "                sampler = 'TPE',\n",
    "                study_name = f'{cell_line}_{task}_{model.__name__}_{type_augm_genfeatures}',\n",
    "                test_model_path = f'{cell_line}_{task}_{model.__name__}_{type_augm_genfeatures}_TEST.pt')"
   ]
  },
  {
   "cell_type": "code",
   "execution_count": 15,
   "metadata": {},
   "outputs": [],
   "source": [
    "results_dict[cell_line][task][f'{model.__name__}_{type_augm_genfeatures}'] = kf_CV.scores_dict"
   ]
  },
  {
   "cell_type": "code",
   "execution_count": 16,
   "metadata": {},
   "outputs": [],
   "source": [
    "with open ('results_dict.pickle', 'wb') as fout:\n",
    "    pickle.dump(OrderedDict(results_dict), fout)"
   ]
  },
  {
   "cell_type": "markdown",
   "metadata": {},
   "source": [
    "---\n",
    "### 2. CNN"
   ]
  },
  {
   "cell_type": "code",
   "execution_count": 10,
   "metadata": {},
   "outputs": [],
   "source": [
    "model=CNN"
   ]
  },
  {
   "cell_type": "code",
   "execution_count": 11,
   "metadata": {
    "scrolled": true
   },
   "outputs": [
    {
     "name": "stderr",
     "output_type": "stream",
     "text": [
      "/home/jupyter/Prediction-of-Active-and-Inactive-Regulatory-Regions-with-Embracenet-Multimodal-Neural-Network-/BIOINF_tesi/models/utils/training_models.py:362: ExperimentalWarning: PatientPruner is experimental (supported from v2.8.0). The interface can change in the future.\n",
      "  pruner=optuna.pruners.PatientPruner(optuna.pruners.MedianPruner(), patience=2),\n",
      "\u001b[32m[I 2021-10-25 18:37:43,397]\u001b[0m Using an existing study with name 'A549_active_E_vs_inactive_E_CNN_1' instead of creating a new one.\u001b[0m\n"
     ]
    },
    {
     "name": "stdout",
     "output_type": "stream",
     "text": [
      ">>> ITERATION N. 1\n",
      "\n",
      "===============> HYPERPARAMETERS TUNING\n"
     ]
    },
    {
     "name": "stderr",
     "output_type": "stream",
     "text": [
      "/opt/conda/lib/python3.7/site-packages/optuna/structs.py:18: FutureWarning: `structs` is deprecated. Classes have moved to the following modules. `structs.StudyDirection`->`study.StudyDirection`, `structs.StudySummary`->`study.StudySummary`, `structs.FrozenTrial`->`trial.FrozenTrial`, `structs.TrialState`->`trial.TrialState`, `structs.TrialPruned`->`exceptions.TrialPruned`.\n",
      "  warnings.warn(_message, FutureWarning)\n"
     ]
    },
    {
     "name": "stdout",
     "output_type": "stream",
     "text": [
      "Study statistics: \n",
      "  Number of finished trials:  4\n",
      "  Number of pruned trials:  0\n",
      "  Number of complete trials:  3\n",
      "Best trial:\n",
      "  Value:  0.06671030052771904\n",
      "  Params: \n",
      "    dropout_l0: 0.3\n",
      "    dropout_l1: 0\n",
      "    kernel_size_l0: 5\n",
      "    kernel_size_l1: 15\n",
      "    lr: 0.002492549875641731\n",
      "    n_layers: 2\n",
      "    optimizer: Nadam\n",
      "    out_channels_l0: 16\n",
      "    out_channels_l1: 96\n",
      "    weight_decay: 0.05400548483737392\n",
      "\n",
      "===============> MODEL TESTING\n",
      "AUPRC test score: 0.056770109235352535\n",
      "\n",
      "\n"
     ]
    },
    {
     "name": "stderr",
     "output_type": "stream",
     "text": [
      "/home/jupyter/Prediction-of-Active-and-Inactive-Regulatory-Regions-with-Embracenet-Multimodal-Neural-Network-/BIOINF_tesi/models/utils/training_models.py:362: ExperimentalWarning: PatientPruner is experimental (supported from v2.8.0). The interface can change in the future.\n",
      "  pruner=optuna.pruners.PatientPruner(optuna.pruners.MedianPruner(), patience=2),\n",
      "\u001b[32m[I 2021-10-25 18:37:46,521]\u001b[0m Using an existing study with name 'A549_active_E_vs_inactive_E_CNN_1_2' instead of creating a new one.\u001b[0m\n"
     ]
    },
    {
     "name": "stdout",
     "output_type": "stream",
     "text": [
      ">>> ITERATION N. 2\n",
      "\n",
      "===============> HYPERPARAMETERS TUNING\n",
      "Study statistics: \n",
      "  Number of finished trials:  3\n",
      "  Number of pruned trials:  0\n",
      "  Number of complete trials:  3\n",
      "Best trial:\n",
      "  Value:  0.07353027134563184\n",
      "  Params: \n",
      "    dropout_l0: 0\n",
      "    dropout_l1: 0.4\n",
      "    kernel_size_l0: 15\n",
      "    kernel_size_l1: 5\n",
      "    lr: 0.003187423399350215\n",
      "    n_layers: 2\n",
      "    optimizer: Nadam\n",
      "    out_channels_l0: 64\n",
      "    out_channels_l1: 64\n",
      "    weight_decay: 0.010152542998255033\n",
      "\n",
      "===============> MODEL TESTING\n"
     ]
    },
    {
     "name": "stderr",
     "output_type": "stream",
     "text": [
      "/home/jupyter/Prediction-of-Active-and-Inactive-Regulatory-Regions-with-Embracenet-Multimodal-Neural-Network-/BIOINF_tesi/models/utils/training_models.py:362: ExperimentalWarning: PatientPruner is experimental (supported from v2.8.0). The interface can change in the future.\n",
      "  pruner=optuna.pruners.PatientPruner(optuna.pruners.MedianPruner(), patience=2),\n",
      "\u001b[32m[I 2021-10-25 18:37:47,152]\u001b[0m Using an existing study with name 'A549_active_E_vs_inactive_E_CNN_1_2_3' instead of creating a new one.\u001b[0m\n"
     ]
    },
    {
     "name": "stdout",
     "output_type": "stream",
     "text": [
      "AUPRC test score: 0.06519933360703083\n",
      "\n",
      "\n",
      ">>> ITERATION N. 3\n",
      "\n",
      "===============> HYPERPARAMETERS TUNING\n",
      "Study statistics: \n",
      "  Number of finished trials:  3\n",
      "  Number of pruned trials:  0\n",
      "  Number of complete trials:  3\n",
      "Best trial:\n",
      "  Value:  0.07250059734214663\n",
      "  Params: \n",
      "    dropout_l0: 0.2\n",
      "    dropout_l1: 0.4\n",
      "    dropout_l2: 0.4\n",
      "    dropout_l3: 0.5\n",
      "    kernel_size_l0: 5\n",
      "    kernel_size_l1: 11\n",
      "    kernel_size_l2: 15\n",
      "    kernel_size_l3: 5\n",
      "    lr: 0.0010533905245534373\n",
      "    n_layers: 4\n",
      "    optimizer: Nadam\n",
      "    out_channels_l0: 16\n",
      "    out_channels_l1: 64\n",
      "    out_channels_l2: 96\n",
      "    out_channels_l3: 512\n",
      "    weight_decay: 0.07991688720405098\n",
      "\n",
      "===============> MODEL TESTING\n",
      "AUPRC test score: 0.05836395233366432\n",
      "\n",
      "\n",
      "\n",
      "3-FOLD CROSS-VALIDATION AUPRC TEST SCORE: 0.06011\n"
     ]
    }
   ],
   "source": [
    "# IMBALANCED\n",
    "kf_CV = Kfold_CV()\n",
    "\n",
    "kf_CV(build_dataloader_pipeline = pipe_data_load,\n",
    "                num_epochs = 100,\n",
    "                n_folds=3,\n",
    "                cell_line=cell_line,\n",
    "                sequence=True,\n",
    "                model = model,\n",
    "                device = device,\n",
    "                task=task,\n",
    "                sampler = 'TPE',\n",
    "                study_name = f'{cell_line}_{task}_{model.__name__}',\n",
    "                test_model_path = f'{cell_line}_{task}_{model.__name__}_TEST')"
   ]
  },
  {
   "cell_type": "code",
   "execution_count": 12,
   "metadata": {},
   "outputs": [],
   "source": [
    "results_dict[cell_line][task][model.__name__] = kf_CV.scores_dict"
   ]
  },
  {
   "cell_type": "code",
   "execution_count": 13,
   "metadata": {},
   "outputs": [],
   "source": [
    "with open ('results_dict.pickle', 'wb') as fout:\n",
    "    pickle.dump(OrderedDict(results_dict), fout)"
   ]
  },
  {
   "cell_type": "markdown",
   "metadata": {},
   "source": [
    "---"
   ]
  },
  {
   "cell_type": "markdown",
   "metadata": {},
   "source": [
    "## 2) ACTIVE PROMOTERS vs INACTIVE PROMOTERS"
   ]
  },
  {
   "cell_type": "code",
   "execution_count": 9,
   "metadata": {},
   "outputs": [
    {
     "data": {
      "text/plain": [
       "'active_P_vs_inactive_P'"
      ]
     },
     "execution_count": 9,
     "metadata": {},
     "output_type": "execute_result"
    }
   ],
   "source": [
    "task = TASKS[1]\n",
    "task"
   ]
  },
  {
   "cell_type": "code",
   "execution_count": 10,
   "metadata": {},
   "outputs": [
    {
     "name": "stdout",
     "output_type": "stream",
     "text": [
      "Data Preprocessing Done!\n"
     ]
    }
   ],
   "source": [
    "pipe_data_load = Build_DataLoader_Pipeline(path_name=f'{task}.pickle')"
   ]
  },
  {
   "cell_type": "markdown",
   "metadata": {},
   "source": [
    "---"
   ]
  },
  {
   "cell_type": "markdown",
   "metadata": {},
   "source": [
    "### 1. FFNN"
   ]
  },
  {
   "cell_type": "code",
   "execution_count": 19,
   "metadata": {},
   "outputs": [],
   "source": [
    "model=FFNN"
   ]
  },
  {
   "cell_type": "code",
   "execution_count": 20,
   "metadata": {
    "scrolled": true
   },
   "outputs": [
    {
     "name": "stdout",
     "output_type": "stream",
     "text": [
      ">>> ITERATION N. 1\n",
      "\n",
      "===============> HYPERPARAMETERS TUNING\n"
     ]
    },
    {
     "name": "stderr",
     "output_type": "stream",
     "text": [
      "/Users/Niki/Prediction-of-Active-and-Inactive-Regulatory-Regions-with-Embracenet-Multimodal-Neural-Network-/BIOINF_tesi/models/utils/training_models.py:362: ExperimentalWarning: PatientPruner is experimental (supported from v2.8.0). The interface can change in the future.\n",
      "  pruner=optuna.pruners.PatientPruner(optuna.pruners.MedianPruner(), patience=2),\n",
      "\u001b[32m[I 2021-10-25 08:52:16,244]\u001b[0m Using an existing study with name 'A549_active_P_vs_inactive_P_FFNN_1' instead of creating a new one.\u001b[0m\n"
     ]
    },
    {
     "name": "stdout",
     "output_type": "stream",
     "text": [
      "Study statistics: \n",
      "  Number of finished trials:  3\n",
      "  Number of pruned trials:  0\n",
      "  Number of complete trials:  3\n",
      "Best trial:\n",
      "  Value:  0.19903904786634632\n",
      "  Params: \n",
      "    dropout_l0: 0.4\n",
      "    dropout_l1: 0.4\n",
      "    dropout_l2: 0.5\n",
      "    dropout_l3: 0.4\n",
      "    lr: 0.020901849386777135\n",
      "    n_layers: 4\n",
      "    n_units_l0: 32\n",
      "    n_units_l1: 16\n",
      "    n_units_l2: 32\n",
      "    n_units_l3: 4\n",
      "    optimizer: Adam\n",
      "    weight_decay: 0.0010203527584796907\n",
      "\n",
      "===============> MODEL TESTING\n",
      "AUPRC test score: 0.22220328552871912\n",
      "\n",
      "\n",
      ">>> ITERATION N. 2\n",
      "\n",
      "===============> HYPERPARAMETERS TUNING\n"
     ]
    },
    {
     "name": "stderr",
     "output_type": "stream",
     "text": [
      "/Users/Niki/Prediction-of-Active-and-Inactive-Regulatory-Regions-with-Embracenet-Multimodal-Neural-Network-/BIOINF_tesi/models/utils/training_models.py:362: ExperimentalWarning: PatientPruner is experimental (supported from v2.8.0). The interface can change in the future.\n",
      "  pruner=optuna.pruners.PatientPruner(optuna.pruners.MedianPruner(), patience=2),\n",
      "\u001b[32m[I 2021-10-25 08:52:16,550]\u001b[0m Using an existing study with name 'A549_active_P_vs_inactive_P_FFNN_1_2' instead of creating a new one.\u001b[0m\n",
      "/Users/Niki/Prediction-of-Active-and-Inactive-Regulatory-Regions-with-Embracenet-Multimodal-Neural-Network-/BIOINF_tesi/models/utils/training_models.py:362: ExperimentalWarning: PatientPruner is experimental (supported from v2.8.0). The interface can change in the future.\n",
      "  pruner=optuna.pruners.PatientPruner(optuna.pruners.MedianPruner(), patience=2),\n",
      "\u001b[32m[I 2021-10-25 08:52:17,048]\u001b[0m Using an existing study with name 'A549_active_P_vs_inactive_P_FFNN_1_2_3' instead of creating a new one.\u001b[0m\n"
     ]
    },
    {
     "name": "stdout",
     "output_type": "stream",
     "text": [
      "Study statistics: \n",
      "  Number of finished trials:  3\n",
      "  Number of pruned trials:  0\n",
      "  Number of complete trials:  3\n",
      "Best trial:\n",
      "  Value:  0.25376076533032893\n",
      "  Params: \n",
      "    dropout_l0: 0.0\n",
      "    lr: 1.740877142904875e-05\n",
      "    n_layers: 1\n",
      "    n_units_l0: 128\n",
      "    optimizer: Nadam\n",
      "    weight_decay: 0.0001331936589151034\n",
      "\n",
      "===============> MODEL TESTING\n",
      "AUPRC test score: 0.24066715059001012\n",
      "\n",
      "\n",
      ">>> ITERATION N. 3\n",
      "\n",
      "===============> HYPERPARAMETERS TUNING\n",
      "Study statistics: \n",
      "  Number of finished trials:  3\n",
      "  Number of pruned trials:  0\n",
      "  Number of complete trials:  3\n",
      "Best trial:\n",
      "  Value:  0.24954454578797594\n",
      "  Params: \n",
      "    dropout_l0: 0.0\n",
      "    dropout_l1: 0.0\n",
      "    lr: 0.0005265358802000174\n",
      "    n_layers: 2\n",
      "    n_units_l0: 256\n",
      "    n_units_l1: 128\n",
      "    optimizer: RMSprop\n",
      "    weight_decay: 0.0002146978469010751\n",
      "\n",
      "===============> MODEL TESTING\n",
      "AUPRC test score: 0.25847668299164656\n",
      "\n",
      "\n",
      "\n",
      "3-FOLD CROSS-VALIDATION AUPRC TEST SCORE: 0.24045\n"
     ]
    }
   ],
   "source": [
    "kf_CV = Kfold_CV()\n",
    "\n",
    "kf_CV(build_dataloader_pipeline = pipe_data_load,\n",
    "                num_epochs = 100,\n",
    "                n_folds=3,\n",
    "                cell_line=cell_line,\n",
    "                sequence=False,\n",
    "                model = model,\n",
    "                device = device,\n",
    "                task=task,\n",
    "                sampler = 'TPE',\n",
    "                study_name = f'{cell_line}_{task}_{model.__name__}',\n",
    "                test_model_path = f'{cell_line}_{task}_{model.__name__}_TEST')"
   ]
  },
  {
   "cell_type": "code",
   "execution_count": 21,
   "metadata": {},
   "outputs": [],
   "source": [
    "results_dict[cell_line][task][model.__name__] = kf_CV.scores_dict"
   ]
  },
  {
   "cell_type": "code",
   "execution_count": 22,
   "metadata": {},
   "outputs": [],
   "source": [
    "with open ('results_dict.pickle', 'wb') as fout:\n",
    "    pickle.dump(OrderedDict(results_dict), fout)"
   ]
  },
  {
   "cell_type": "markdown",
   "metadata": {},
   "source": [
    "---\n",
    "### 2. CNN"
   ]
  },
  {
   "cell_type": "code",
   "execution_count": 16,
   "metadata": {},
   "outputs": [],
   "source": [
    "model=CNN"
   ]
  },
  {
   "cell_type": "code",
   "execution_count": 17,
   "metadata": {
    "scrolled": true
   },
   "outputs": [
    {
     "name": "stderr",
     "output_type": "stream",
     "text": [
      "/home/jupyter/Prediction-of-Active-and-Inactive-Regulatory-Regions-with-Embracenet-Multimodal-Neural-Network-/BIOINF_tesi/models/utils/training_models.py:362: ExperimentalWarning: PatientPruner is experimental (supported from v2.8.0). The interface can change in the future.\n",
      "  pruner=optuna.pruners.PatientPruner(optuna.pruners.MedianPruner(), patience=2),\n",
      "\u001b[32m[I 2021-10-25 18:37:55,021]\u001b[0m Using an existing study with name 'A549_active_P_vs_inactive_P_CNN_1' instead of creating a new one.\u001b[0m\n"
     ]
    },
    {
     "name": "stdout",
     "output_type": "stream",
     "text": [
      ">>> ITERATION N. 1\n",
      "\n",
      "===============> HYPERPARAMETERS TUNING\n",
      "Study statistics: \n",
      "  Number of finished trials:  3\n",
      "  Number of pruned trials:  0\n",
      "  Number of complete trials:  3\n",
      "Best trial:\n",
      "  Value:  0.18273752343785848\n",
      "  Params: \n",
      "    dropout_l0: 0.4\n",
      "    dropout_l1: 0.4\n",
      "    kernel_size_l0: 5\n",
      "    kernel_size_l1: 11\n",
      "    lr: 6.581272290135745e-05\n",
      "    n_layers: 2\n",
      "    optimizer: Adam\n",
      "    out_channels_l0: 16\n",
      "    out_channels_l1: 64\n",
      "    weight_decay: 0.0006137804736567615\n",
      "\n",
      "===============> MODEL TESTING\n"
     ]
    },
    {
     "name": "stderr",
     "output_type": "stream",
     "text": [
      "/home/jupyter/Prediction-of-Active-and-Inactive-Regulatory-Regions-with-Embracenet-Multimodal-Neural-Network-/BIOINF_tesi/models/utils/training_models.py:362: ExperimentalWarning: PatientPruner is experimental (supported from v2.8.0). The interface can change in the future.\n",
      "  pruner=optuna.pruners.PatientPruner(optuna.pruners.MedianPruner(), patience=2),\n",
      "\u001b[32m[I 2021-10-25 18:37:55,363]\u001b[0m Using an existing study with name 'A549_active_P_vs_inactive_P_CNN_1_2' instead of creating a new one.\u001b[0m\n"
     ]
    },
    {
     "name": "stdout",
     "output_type": "stream",
     "text": [
      "AUPRC test score: 0.19503897469253328\n",
      "\n",
      "\n",
      ">>> ITERATION N. 2\n",
      "\n",
      "===============> HYPERPARAMETERS TUNING\n",
      "Study statistics: \n",
      "  Number of finished trials:  3\n",
      "  Number of pruned trials:  0\n",
      "  Number of complete trials:  3\n",
      "Best trial:\n",
      "  Value:  0.18840931902263708\n",
      "  Params: \n",
      "    dropout_l0: 0.2\n",
      "    dropout_l1: 0.4\n",
      "    kernel_size_l0: 5\n",
      "    kernel_size_l1: 11\n",
      "    lr: 1.7628967520980997e-05\n",
      "    n_layers: 2\n",
      "    optimizer: RMSprop\n",
      "    out_channels_l0: 32\n",
      "    out_channels_l1: 32\n",
      "    weight_decay: 0.0006201936675350008\n",
      "\n",
      "===============> MODEL TESTING\n"
     ]
    },
    {
     "name": "stderr",
     "output_type": "stream",
     "text": [
      "/home/jupyter/Prediction-of-Active-and-Inactive-Regulatory-Regions-with-Embracenet-Multimodal-Neural-Network-/BIOINF_tesi/models/utils/training_models.py:362: ExperimentalWarning: PatientPruner is experimental (supported from v2.8.0). The interface can change in the future.\n",
      "  pruner=optuna.pruners.PatientPruner(optuna.pruners.MedianPruner(), patience=2),\n",
      "\u001b[32m[I 2021-10-25 18:37:55,811]\u001b[0m Using an existing study with name 'A549_active_P_vs_inactive_P_CNN_1_2_3' instead of creating a new one.\u001b[0m\n"
     ]
    },
    {
     "name": "stdout",
     "output_type": "stream",
     "text": [
      "AUPRC test score: 0.1907454524469494\n",
      "\n",
      "\n",
      ">>> ITERATION N. 3\n",
      "\n",
      "===============> HYPERPARAMETERS TUNING\n",
      "Study statistics: \n",
      "  Number of finished trials:  3\n",
      "  Number of pruned trials:  0\n",
      "  Number of complete trials:  3\n",
      "Best trial:\n",
      "  Value:  0.18569023842685717\n",
      "  Params: \n",
      "    dropout_l0: 0.2\n",
      "    dropout_l1: 0\n",
      "    kernel_size_l0: 11\n",
      "    kernel_size_l1: 15\n",
      "    lr: 0.0011673180152785819\n",
      "    n_layers: 2\n",
      "    optimizer: Adam\n",
      "    out_channels_l0: 32\n",
      "    out_channels_l1: 96\n",
      "    weight_decay: 0.012785315175687432\n",
      "\n",
      "===============> MODEL TESTING\n",
      "AUPRC test score: 0.19543550008918104\n",
      "\n",
      "\n",
      "\n",
      "3-FOLD CROSS-VALIDATION AUPRC TEST SCORE: 0.19374\n"
     ]
    }
   ],
   "source": [
    "kf_CV = Kfold_CV()\n",
    "\n",
    "kf_CV(build_dataloader_pipeline = pipe_data_load,\n",
    "                num_epochs = 100,\n",
    "                n_folds=3,\n",
    "                cell_line=cell_line,\n",
    "                sequence=True,\n",
    "                model = model,\n",
    "                device = device,\n",
    "                task=task,\n",
    "                sampler = 'TPE',\n",
    "                study_name = f'{cell_line}_{task}_{model.__name__}',\n",
    "                test_model_path = f'{cell_line}_{task}_{model.__name__}_TEST')"
   ]
  },
  {
   "cell_type": "code",
   "execution_count": 18,
   "metadata": {},
   "outputs": [],
   "source": [
    "results_dict[cell_line][task][model.__name__] = kf_CV.scores_dict"
   ]
  },
  {
   "cell_type": "code",
   "execution_count": 19,
   "metadata": {},
   "outputs": [],
   "source": [
    "with open ('results_dict.pickle', 'wb') as fout:\n",
    "    pickle.dump(OrderedDict(results_dict), fout)"
   ]
  },
  {
   "cell_type": "markdown",
   "metadata": {},
   "source": [
    "---"
   ]
  },
  {
   "cell_type": "markdown",
   "metadata": {},
   "source": [
    "## 3) ACTIVE ENHANCERS vs ACTIVE PROMOTERS"
   ]
  },
  {
   "cell_type": "code",
   "execution_count": 11,
   "metadata": {},
   "outputs": [
    {
     "data": {
      "text/plain": [
       "'active_E_vs_active_P'"
      ]
     },
     "execution_count": 11,
     "metadata": {},
     "output_type": "execute_result"
    }
   ],
   "source": [
    "task = TASKS[2]\n",
    "task"
   ]
  },
  {
   "cell_type": "code",
   "execution_count": 12,
   "metadata": {},
   "outputs": [
    {
     "name": "stdout",
     "output_type": "stream",
     "text": [
      "Data Preprocessing Done!\n"
     ]
    }
   ],
   "source": [
    "pipe_data_load = Build_DataLoader_Pipeline(path_name=f'{task}.pickle')"
   ]
  },
  {
   "cell_type": "markdown",
   "metadata": {},
   "source": [
    "---\n",
    "### 1. FFNN"
   ]
  },
  {
   "cell_type": "code",
   "execution_count": 25,
   "metadata": {},
   "outputs": [],
   "source": [
    "model=FFNN"
   ]
  },
  {
   "cell_type": "code",
   "execution_count": 26,
   "metadata": {
    "scrolled": true
   },
   "outputs": [
    {
     "name": "stdout",
     "output_type": "stream",
     "text": [
      ">>> ITERATION N. 1\n",
      "\n",
      "===============> HYPERPARAMETERS TUNING\n"
     ]
    },
    {
     "name": "stderr",
     "output_type": "stream",
     "text": [
      "/Users/Niki/Prediction-of-Active-and-Inactive-Regulatory-Regions-with-Embracenet-Multimodal-Neural-Network-/BIOINF_tesi/models/utils/training_models.py:362: ExperimentalWarning: PatientPruner is experimental (supported from v2.8.0). The interface can change in the future.\n",
      "  pruner=optuna.pruners.PatientPruner(optuna.pruners.MedianPruner(), patience=2),\n",
      "\u001b[32m[I 2021-10-25 08:52:21,869]\u001b[0m Using an existing study with name 'A549_active_E_vs_active_P_FFNN_1' instead of creating a new one.\u001b[0m\n"
     ]
    },
    {
     "name": "stdout",
     "output_type": "stream",
     "text": [
      "Study statistics: \n",
      "  Number of finished trials:  3\n",
      "  Number of pruned trials:  0\n",
      "  Number of complete trials:  3\n",
      "Best trial:\n",
      "  Value:  0.6303965263864644\n",
      "  Params: \n",
      "    dropout_l0: 0.3\n",
      "    dropout_l1: 0.2\n",
      "    lr: 0.00017917249644157403\n",
      "    n_layers: 2\n",
      "    n_units_l0: 32\n",
      "    n_units_l1: 128\n",
      "    optimizer: RMSprop\n",
      "    weight_decay: 0.00028695750658948944\n",
      "\n",
      "===============> MODEL TESTING\n"
     ]
    },
    {
     "name": "stderr",
     "output_type": "stream",
     "text": [
      "/Users/Niki/Prediction-of-Active-and-Inactive-Regulatory-Regions-with-Embracenet-Multimodal-Neural-Network-/BIOINF_tesi/models/utils/training_models.py:362: ExperimentalWarning: PatientPruner is experimental (supported from v2.8.0). The interface can change in the future.\n",
      "  pruner=optuna.pruners.PatientPruner(optuna.pruners.MedianPruner(), patience=2),\n",
      "\u001b[32m[I 2021-10-25 08:52:22,156]\u001b[0m Using an existing study with name 'A549_active_E_vs_active_P_FFNN_1_2' instead of creating a new one.\u001b[0m\n"
     ]
    },
    {
     "name": "stdout",
     "output_type": "stream",
     "text": [
      "AUPRC test score: 0.6987997965001465\n",
      "\n",
      "\n",
      ">>> ITERATION N. 2\n",
      "\n",
      "===============> HYPERPARAMETERS TUNING\n",
      "Study statistics: \n",
      "  Number of finished trials:  3\n",
      "  Number of pruned trials:  0\n",
      "  Number of complete trials:  3\n",
      "Best trial:\n"
     ]
    },
    {
     "name": "stderr",
     "output_type": "stream",
     "text": [
      "/Users/Niki/Prediction-of-Active-and-Inactive-Regulatory-Regions-with-Embracenet-Multimodal-Neural-Network-/BIOINF_tesi/models/utils/training_models.py:362: ExperimentalWarning: PatientPruner is experimental (supported from v2.8.0). The interface can change in the future.\n",
      "  pruner=optuna.pruners.PatientPruner(optuna.pruners.MedianPruner(), patience=2),\n",
      "\u001b[32m[I 2021-10-25 08:52:22,304]\u001b[0m Using an existing study with name 'A549_active_E_vs_active_P_FFNN_1_2_3' instead of creating a new one.\u001b[0m\n"
     ]
    },
    {
     "name": "stdout",
     "output_type": "stream",
     "text": [
      "  Value:  0.6857677698474068\n",
      "  Params: \n",
      "    dropout_l0: 0.3\n",
      "    dropout_l1: 0.3\n",
      "    lr: 0.014149872504655773\n",
      "    n_layers: 2\n",
      "    n_units_l0: 64\n",
      "    n_units_l1: 64\n",
      "    optimizer: Adam\n",
      "    weight_decay: 0.0019782466208337363\n",
      "\n",
      "===============> MODEL TESTING\n",
      "AUPRC test score: 0.648053113833866\n",
      "\n",
      "\n",
      ">>> ITERATION N. 3\n",
      "\n",
      "===============> HYPERPARAMETERS TUNING\n",
      "Study statistics: \n",
      "  Number of finished trials:  3\n",
      "  Number of pruned trials:  0\n",
      "  Number of complete trials:  3\n",
      "Best trial:\n",
      "  Value:  0.6967717638136919\n",
      "  Params: \n",
      "    dropout_l0: 0.3\n",
      "    dropout_l1: 0.3\n",
      "    lr: 0.08124221456115621\n",
      "    n_layers: 2\n",
      "    n_units_l0: 128\n",
      "    n_units_l1: 128\n",
      "    optimizer: Adam\n",
      "    weight_decay: 0.0013895121952656438\n",
      "\n",
      "===============> MODEL TESTING\n",
      "AUPRC test score: 0.6832361698069489\n",
      "\n",
      "\n",
      "\n",
      "3-FOLD CROSS-VALIDATION AUPRC TEST SCORE: 0.6767\n"
     ]
    }
   ],
   "source": [
    "kf_CV = Kfold_CV()\n",
    "\n",
    "kf_CV(build_dataloader_pipeline = pipe_data_load,\n",
    "                num_epochs = 100,\n",
    "                n_folds=3,\n",
    "                cell_line=cell_line,\n",
    "                sequence=False,\n",
    "                model = model,\n",
    "                device = device,\n",
    "                task=task,\n",
    "                sampler = 'TPE',\n",
    "                study_name = f'{cell_line}_{task}_{model.__name__}',\n",
    "                test_model_path = f'{cell_line}_{task}_{model.__name__}_TEST')"
   ]
  },
  {
   "cell_type": "code",
   "execution_count": 27,
   "metadata": {},
   "outputs": [],
   "source": [
    "results_dict[cell_line][task][model.__name__] = kf_CV.scores_dict"
   ]
  },
  {
   "cell_type": "code",
   "execution_count": 28,
   "metadata": {},
   "outputs": [],
   "source": [
    "with open ('results_dict.pickle', 'wb') as fout:\n",
    "    pickle.dump(OrderedDict(results_dict), fout)"
   ]
  },
  {
   "cell_type": "markdown",
   "metadata": {},
   "source": [
    "---\n",
    "### 2. CNN"
   ]
  },
  {
   "cell_type": "code",
   "execution_count": 22,
   "metadata": {},
   "outputs": [],
   "source": [
    "model=CNN"
   ]
  },
  {
   "cell_type": "code",
   "execution_count": 23,
   "metadata": {
    "scrolled": true
   },
   "outputs": [
    {
     "name": "stderr",
     "output_type": "stream",
     "text": [
      "/home/jupyter/Prediction-of-Active-and-Inactive-Regulatory-Regions-with-Embracenet-Multimodal-Neural-Network-/BIOINF_tesi/models/utils/training_models.py:362: ExperimentalWarning: PatientPruner is experimental (supported from v2.8.0). The interface can change in the future.\n",
      "  pruner=optuna.pruners.PatientPruner(optuna.pruners.MedianPruner(), patience=2),\n",
      "\u001b[32m[I 2021-10-25 18:38:00,600]\u001b[0m Using an existing study with name 'A549_active_E_vs_active_P_CNN_1' instead of creating a new one.\u001b[0m\n"
     ]
    },
    {
     "name": "stdout",
     "output_type": "stream",
     "text": [
      ">>> ITERATION N. 1\n",
      "\n",
      "===============> HYPERPARAMETERS TUNING\n",
      "Study statistics: \n",
      "  Number of finished trials:  3\n",
      "  Number of pruned trials:  0\n",
      "  Number of complete trials:  3\n",
      "Best trial:\n",
      "  Value:  0.5907730514883093\n",
      "  Params: \n",
      "    dropout_l0: 0\n",
      "    dropout_l1: 0\n",
      "    kernel_size_l0: 15\n",
      "    kernel_size_l1: 5\n",
      "    lr: 0.0002075881270271377\n",
      "    n_layers: 2\n",
      "    optimizer: RMSprop\n",
      "    out_channels_l0: 64\n",
      "    out_channels_l1: 96\n",
      "    weight_decay: 0.0022148936628602002\n",
      "\n",
      "===============> MODEL TESTING\n",
      "AUPRC test score: 0.6564181982824108\n",
      "\n",
      "\n"
     ]
    },
    {
     "name": "stderr",
     "output_type": "stream",
     "text": [
      "/home/jupyter/Prediction-of-Active-and-Inactive-Regulatory-Regions-with-Embracenet-Multimodal-Neural-Network-/BIOINF_tesi/models/utils/training_models.py:362: ExperimentalWarning: PatientPruner is experimental (supported from v2.8.0). The interface can change in the future.\n",
      "  pruner=optuna.pruners.PatientPruner(optuna.pruners.MedianPruner(), patience=2),\n",
      "\u001b[32m[I 2021-10-25 18:38:01,476]\u001b[0m Using an existing study with name 'A549_active_E_vs_active_P_CNN_1_2' instead of creating a new one.\u001b[0m\n"
     ]
    },
    {
     "name": "stdout",
     "output_type": "stream",
     "text": [
      ">>> ITERATION N. 2\n",
      "\n",
      "===============> HYPERPARAMETERS TUNING\n",
      "Study statistics: \n",
      "  Number of finished trials:  3\n",
      "  Number of pruned trials:  0\n",
      "  Number of complete trials:  3\n",
      "Best trial:\n",
      "  Value:  0.6022678317974148\n",
      "  Params: \n",
      "    dropout_l0: 0\n",
      "    kernel_size_l0: 11\n",
      "    lr: 0.0005568882336287384\n",
      "    n_layers: 1\n",
      "    optimizer: RMSprop\n",
      "    out_channels_l0: 16\n",
      "    weight_decay: 0.007168711522114368\n",
      "\n",
      "===============> MODEL TESTING\n"
     ]
    },
    {
     "name": "stderr",
     "output_type": "stream",
     "text": [
      "/home/jupyter/Prediction-of-Active-and-Inactive-Regulatory-Regions-with-Embracenet-Multimodal-Neural-Network-/BIOINF_tesi/models/utils/training_models.py:362: ExperimentalWarning: PatientPruner is experimental (supported from v2.8.0). The interface can change in the future.\n",
      "  pruner=optuna.pruners.PatientPruner(optuna.pruners.MedianPruner(), patience=2),\n",
      "\u001b[32m[I 2021-10-25 18:38:01,877]\u001b[0m Using an existing study with name 'A549_active_E_vs_active_P_CNN_1_2_3' instead of creating a new one.\u001b[0m\n"
     ]
    },
    {
     "name": "stdout",
     "output_type": "stream",
     "text": [
      "AUPRC test score: 0.6782589514404268\n",
      "\n",
      "\n",
      ">>> ITERATION N. 3\n",
      "\n",
      "===============> HYPERPARAMETERS TUNING\n",
      "Study statistics: \n",
      "  Number of finished trials:  3\n",
      "  Number of pruned trials:  0\n",
      "  Number of complete trials:  3\n",
      "Best trial:\n",
      "  Value:  0.6304423926366542\n",
      "  Params: \n",
      "    dropout_l0: 0\n",
      "    dropout_l1: 0\n",
      "    kernel_size_l0: 15\n",
      "    kernel_size_l1: 11\n",
      "    lr: 0.0009214251171952463\n",
      "    n_layers: 2\n",
      "    optimizer: RMSprop\n",
      "    out_channels_l0: 64\n",
      "    out_channels_l1: 96\n",
      "    weight_decay: 0.00030578141855603757\n",
      "\n",
      "===============> MODEL TESTING\n",
      "AUPRC test score: 0.6385317881614837\n",
      "\n",
      "\n",
      "\n",
      "3-FOLD CROSS-VALIDATION AUPRC TEST SCORE: 0.65774\n"
     ]
    }
   ],
   "source": [
    "kf_CV = Kfold_CV()\n",
    "\n",
    "kf_CV(build_dataloader_pipeline = pipe_data_load,\n",
    "                num_epochs = 100,\n",
    "                n_folds=3,\n",
    "                cell_line=cell_line,\n",
    "                sequence=True,\n",
    "                model = model,\n",
    "                device = device,\n",
    "                task=task,\n",
    "                sampler = 'TPE',\n",
    "                study_name = f'{cell_line}_{task}_{model.__name__}',\n",
    "                test_model_path = f'{cell_line}_{task}_{model.__name__}_TEST')"
   ]
  },
  {
   "cell_type": "code",
   "execution_count": 24,
   "metadata": {},
   "outputs": [],
   "source": [
    "results_dict[cell_line][task][model.__name__] = kf_CV.scores_dict"
   ]
  },
  {
   "cell_type": "code",
   "execution_count": 25,
   "metadata": {},
   "outputs": [],
   "source": [
    "with open ('results_dict.pickle', 'wb') as fout:\n",
    "    pickle.dump(OrderedDict(results_dict), fout)"
   ]
  },
  {
   "cell_type": "code",
   "execution_count": null,
   "metadata": {},
   "outputs": [],
   "source": []
  },
  {
   "cell_type": "markdown",
   "metadata": {},
   "source": [
    "---"
   ]
  },
  {
   "cell_type": "markdown",
   "metadata": {},
   "source": [
    "## 4) INACTIVE ENHANCERS vs INACTIVE PROMOTERS"
   ]
  },
  {
   "cell_type": "code",
   "execution_count": 13,
   "metadata": {},
   "outputs": [
    {
     "data": {
      "text/plain": [
       "'inactive_E_vs_inactive_P'"
      ]
     },
     "execution_count": 13,
     "metadata": {},
     "output_type": "execute_result"
    }
   ],
   "source": [
    "task = TASKS[3]\n",
    "task"
   ]
  },
  {
   "cell_type": "code",
   "execution_count": 14,
   "metadata": {},
   "outputs": [
    {
     "name": "stdout",
     "output_type": "stream",
     "text": [
      "Data Preprocessing Done!\n"
     ]
    }
   ],
   "source": [
    "pipe_data_load = Build_DataLoader_Pipeline(path_name=f'{task}.pickle')"
   ]
  },
  {
   "cell_type": "markdown",
   "metadata": {},
   "source": [
    "---\n",
    "### 1. FFNN"
   ]
  },
  {
   "cell_type": "code",
   "execution_count": 31,
   "metadata": {},
   "outputs": [],
   "source": [
    "model=FFNN"
   ]
  },
  {
   "cell_type": "code",
   "execution_count": 32,
   "metadata": {
    "scrolled": true
   },
   "outputs": [
    {
     "name": "stdout",
     "output_type": "stream",
     "text": [
      ">>> ITERATION N. 1\n",
      "\n",
      "===============> HYPERPARAMETERS TUNING\n"
     ]
    },
    {
     "name": "stderr",
     "output_type": "stream",
     "text": [
      "/Users/Niki/Prediction-of-Active-and-Inactive-Regulatory-Regions-with-Embracenet-Multimodal-Neural-Network-/BIOINF_tesi/models/utils/training_models.py:362: ExperimentalWarning: PatientPruner is experimental (supported from v2.8.0). The interface can change in the future.\n",
      "  pruner=optuna.pruners.PatientPruner(optuna.pruners.MedianPruner(), patience=2),\n",
      "\u001b[32m[I 2021-10-25 08:52:26,986]\u001b[0m Using an existing study with name 'A549_inactive_E_vs_inactive_P_FFNN_1' instead of creating a new one.\u001b[0m\n"
     ]
    },
    {
     "name": "stdout",
     "output_type": "stream",
     "text": [
      "Study statistics: \n",
      "  Number of finished trials:  3\n",
      "  Number of pruned trials:  0\n",
      "  Number of complete trials:  3\n",
      "Best trial:\n",
      "  Value:  0.5815308452659506\n",
      "  Params: \n",
      "    dropout_l0: 0.0\n",
      "    dropout_l1: 0.4\n",
      "    lr: 0.001242468988598542\n",
      "    n_layers: 2\n",
      "    n_units_l0: 128\n",
      "    n_units_l1: 64\n",
      "    optimizer: Nadam\n",
      "    weight_decay: 0.000436868969513897\n",
      "\n",
      "===============> MODEL TESTING\n",
      "AUPRC test score: 0.5777724412956468\n",
      "\n",
      "\n",
      ">>> ITERATION N. 2\n",
      "\n",
      "===============> HYPERPARAMETERS TUNING\n"
     ]
    },
    {
     "name": "stderr",
     "output_type": "stream",
     "text": [
      "/Users/Niki/Prediction-of-Active-and-Inactive-Regulatory-Regions-with-Embracenet-Multimodal-Neural-Network-/BIOINF_tesi/models/utils/training_models.py:362: ExperimentalWarning: PatientPruner is experimental (supported from v2.8.0). The interface can change in the future.\n",
      "  pruner=optuna.pruners.PatientPruner(optuna.pruners.MedianPruner(), patience=2),\n",
      "\u001b[32m[I 2021-10-25 08:52:27,390]\u001b[0m Using an existing study with name 'A549_inactive_E_vs_inactive_P_FFNN_1_2' instead of creating a new one.\u001b[0m\n"
     ]
    },
    {
     "name": "stdout",
     "output_type": "stream",
     "text": [
      "Study statistics: \n",
      "  Number of finished trials:  3\n",
      "  Number of pruned trials:  0\n",
      "  Number of complete trials:  3\n",
      "Best trial:\n",
      "  Value:  0.5633373261293123\n",
      "  Params: \n",
      "    dropout_l0: 0.3\n",
      "    lr: 7.115839459066734e-05\n",
      "    n_layers: 1\n",
      "    n_units_l0: 128\n",
      "    optimizer: Nadam\n",
      "    weight_decay: 0.001775624783354186\n",
      "\n",
      "===============> MODEL TESTING\n",
      "AUPRC test score: 0.5602804423405524\n",
      "\n",
      "\n",
      ">>> ITERATION N. 3\n"
     ]
    },
    {
     "name": "stderr",
     "output_type": "stream",
     "text": [
      "/Users/Niki/Prediction-of-Active-and-Inactive-Regulatory-Regions-with-Embracenet-Multimodal-Neural-Network-/BIOINF_tesi/models/utils/training_models.py:362: ExperimentalWarning: PatientPruner is experimental (supported from v2.8.0). The interface can change in the future.\n",
      "  pruner=optuna.pruners.PatientPruner(optuna.pruners.MedianPruner(), patience=2),\n",
      "\u001b[32m[I 2021-10-25 08:52:27,863]\u001b[0m Using an existing study with name 'A549_inactive_E_vs_inactive_P_FFNN_1_2_3' instead of creating a new one.\u001b[0m\n"
     ]
    },
    {
     "name": "stdout",
     "output_type": "stream",
     "text": [
      "\n",
      "===============> HYPERPARAMETERS TUNING\n",
      "Study statistics: \n",
      "  Number of finished trials:  3\n",
      "  Number of pruned trials:  0\n",
      "  Number of complete trials:  3\n",
      "Best trial:\n",
      "  Value:  0.5762618365312707\n",
      "  Params: \n",
      "    dropout_l0: 0.4\n",
      "    dropout_l1: 0.0\n",
      "    lr: 0.0008125095919068666\n",
      "    n_layers: 2\n",
      "    n_units_l0: 64\n",
      "    n_units_l1: 128\n",
      "    optimizer: RMSprop\n",
      "    weight_decay: 0.0006579984732720696\n",
      "\n",
      "===============> MODEL TESTING\n",
      "AUPRC test score: 0.576765637262877\n",
      "\n",
      "\n",
      "\n",
      "3-FOLD CROSS-VALIDATION AUPRC TEST SCORE: 0.57161\n"
     ]
    }
   ],
   "source": [
    "kf_CV = Kfold_CV()\n",
    "\n",
    "kf_CV(build_dataloader_pipeline = pipe_data_load,\n",
    "                num_epochs = 100,\n",
    "                n_folds=3,\n",
    "                cell_line=cell_line,\n",
    "                sequence=False,\n",
    "                model = model,\n",
    "                device = device,\n",
    "                task=task,\n",
    "                sampler = 'TPE',\n",
    "                study_name = f'{cell_line}_{task}_{model.__name__}',\n",
    "                test_model_path = f'{cell_line}_{task}_{model.__name__}_TEST')"
   ]
  },
  {
   "cell_type": "code",
   "execution_count": 33,
   "metadata": {},
   "outputs": [],
   "source": [
    "results_dict[cell_line][task][model.__name__] = kf_CV.scores_dict"
   ]
  },
  {
   "cell_type": "code",
   "execution_count": 34,
   "metadata": {},
   "outputs": [],
   "source": [
    "with open ('results_dict.pickle', 'wb') as fout:\n",
    "    pickle.dump(OrderedDict(results_dict), fout)"
   ]
  },
  {
   "cell_type": "markdown",
   "metadata": {},
   "source": [
    "---\n",
    "### 2. CNN"
   ]
  },
  {
   "cell_type": "code",
   "execution_count": 28,
   "metadata": {},
   "outputs": [],
   "source": [
    "model=CNN"
   ]
  },
  {
   "cell_type": "code",
   "execution_count": 29,
   "metadata": {
    "scrolled": true
   },
   "outputs": [
    {
     "name": "stderr",
     "output_type": "stream",
     "text": [
      "/home/jupyter/Prediction-of-Active-and-Inactive-Regulatory-Regions-with-Embracenet-Multimodal-Neural-Network-/BIOINF_tesi/models/utils/training_models.py:362: ExperimentalWarning: PatientPruner is experimental (supported from v2.8.0). The interface can change in the future.\n",
      "  pruner=optuna.pruners.PatientPruner(optuna.pruners.MedianPruner(), patience=2),\n",
      "\u001b[32m[I 2021-10-25 18:38:07,012]\u001b[0m Using an existing study with name 'A549_inactive_E_vs_inactive_P_CNN_1' instead of creating a new one.\u001b[0m\n"
     ]
    },
    {
     "name": "stdout",
     "output_type": "stream",
     "text": [
      ">>> ITERATION N. 1\n",
      "\n",
      "===============> HYPERPARAMETERS TUNING\n",
      "Study statistics: \n",
      "  Number of finished trials:  3\n",
      "  Number of pruned trials:  0\n",
      "  Number of complete trials:  3\n",
      "Best trial:\n",
      "  Value:  0.5760663763670382\n",
      "  Params: \n",
      "    dropout_l0: 0.4\n",
      "    dropout_l1: 0.4\n",
      "    kernel_size_l0: 5\n",
      "    kernel_size_l1: 5\n",
      "    lr: 0.00037378373926965676\n",
      "    n_layers: 2\n",
      "    optimizer: RMSprop\n",
      "    out_channels_l0: 32\n",
      "    out_channels_l1: 32\n",
      "    weight_decay: 0.0019414154771545153\n",
      "\n",
      "===============> MODEL TESTING\n"
     ]
    },
    {
     "name": "stderr",
     "output_type": "stream",
     "text": [
      "/home/jupyter/Prediction-of-Active-and-Inactive-Regulatory-Regions-with-Embracenet-Multimodal-Neural-Network-/BIOINF_tesi/models/utils/training_models.py:362: ExperimentalWarning: PatientPruner is experimental (supported from v2.8.0). The interface can change in the future.\n",
      "  pruner=optuna.pruners.PatientPruner(optuna.pruners.MedianPruner(), patience=2),\n",
      "\u001b[32m[I 2021-10-25 18:38:07,625]\u001b[0m Using an existing study with name 'A549_inactive_E_vs_inactive_P_CNN_1_2' instead of creating a new one.\u001b[0m\n"
     ]
    },
    {
     "name": "stdout",
     "output_type": "stream",
     "text": [
      "AUPRC test score: 0.5864192948037895\n",
      "\n",
      "\n",
      ">>> ITERATION N. 2\n",
      "\n",
      "===============> HYPERPARAMETERS TUNING\n",
      "Study statistics: \n",
      "  Number of finished trials:  3\n",
      "  Number of pruned trials:  0\n",
      "  Number of complete trials:  3\n",
      "Best trial:\n",
      "  Value:  0.5639809297465003\n",
      "  Params: \n",
      "    dropout_l0: 0\n",
      "    dropout_l1: 0.4\n",
      "    dropout_l2: 0\n",
      "    kernel_size_l0: 11\n",
      "    kernel_size_l1: 5\n",
      "    kernel_size_l2: 5\n",
      "    lr: 0.0008113426985655316\n",
      "    n_layers: 3\n",
      "    optimizer: Nadam\n",
      "    out_channels_l0: 64\n",
      "    out_channels_l1: 96\n",
      "    out_channels_l2: 96\n",
      "    weight_decay: 0.05459213463084904\n",
      "\n",
      "===============> MODEL TESTING\n"
     ]
    },
    {
     "name": "stderr",
     "output_type": "stream",
     "text": [
      "/home/jupyter/Prediction-of-Active-and-Inactive-Regulatory-Regions-with-Embracenet-Multimodal-Neural-Network-/BIOINF_tesi/models/utils/training_models.py:362: ExperimentalWarning: PatientPruner is experimental (supported from v2.8.0). The interface can change in the future.\n",
      "  pruner=optuna.pruners.PatientPruner(optuna.pruners.MedianPruner(), patience=2),\n",
      "\u001b[32m[I 2021-10-25 18:38:08,122]\u001b[0m Using an existing study with name 'A549_inactive_E_vs_inactive_P_CNN_1_2_3' instead of creating a new one.\u001b[0m\n"
     ]
    },
    {
     "name": "stdout",
     "output_type": "stream",
     "text": [
      "AUPRC test score: 0.5719893161752271\n",
      "\n",
      "\n",
      ">>> ITERATION N. 3\n",
      "\n",
      "===============> HYPERPARAMETERS TUNING\n",
      "Study statistics: \n",
      "  Number of finished trials:  3\n",
      "  Number of pruned trials:  0\n",
      "  Number of complete trials:  3\n",
      "Best trial:\n",
      "  Value:  0.5888828656642322\n",
      "  Params: \n",
      "    dropout_l0: 0.2\n",
      "    kernel_size_l0: 11\n",
      "    lr: 3.0731683605684234e-05\n",
      "    n_layers: 1\n",
      "    optimizer: Adam\n",
      "    out_channels_l0: 32\n",
      "    weight_decay: 0.014016142066702372\n",
      "\n",
      "===============> MODEL TESTING\n",
      "AUPRC test score: 0.5942429027008511\n",
      "\n",
      "\n",
      "\n",
      "3-FOLD CROSS-VALIDATION AUPRC TEST SCORE: 0.58422\n"
     ]
    }
   ],
   "source": [
    "kf_CV = Kfold_CV()\n",
    "\n",
    "kf_CV(build_dataloader_pipeline = pipe_data_load,\n",
    "                num_epochs = 100,\n",
    "                n_folds=3,\n",
    "                cell_line=cell_line,\n",
    "                sequence=True,\n",
    "                model = model,\n",
    "                device = device,\n",
    "                task=task,\n",
    "                sampler = 'TPE',\n",
    "                study_name = f'{cell_line}_{task}_{model.__name__}',\n",
    "                test_model_path = f'{cell_line}_{task}_{model.__name__}_TEST')"
   ]
  },
  {
   "cell_type": "code",
   "execution_count": 30,
   "metadata": {},
   "outputs": [],
   "source": [
    "results_dict[cell_line][task][model.__name__] = kf_CV.scores_dict"
   ]
  },
  {
   "cell_type": "code",
   "execution_count": 31,
   "metadata": {},
   "outputs": [],
   "source": [
    "with open ('results_dict.pickle', 'wb') as fout:\n",
    "    pickle.dump(OrderedDict(results_dict), fout)"
   ]
  },
  {
   "cell_type": "code",
   "execution_count": null,
   "metadata": {},
   "outputs": [],
   "source": []
  },
  {
   "cell_type": "markdown",
   "metadata": {},
   "source": [
    "---"
   ]
  },
  {
   "cell_type": "markdown",
   "metadata": {},
   "source": [
    "## 5) ACTIVE ENHANCERS + ACTIVE PROMOTERS vs INACTIVE REST"
   ]
  },
  {
   "cell_type": "code",
   "execution_count": 15,
   "metadata": {},
   "outputs": [
    {
     "data": {
      "text/plain": [
       "'active_EP_vs_inactive_rest'"
      ]
     },
     "execution_count": 15,
     "metadata": {},
     "output_type": "execute_result"
    }
   ],
   "source": [
    "task = TASKS[4]\n",
    "task"
   ]
  },
  {
   "cell_type": "code",
   "execution_count": 16,
   "metadata": {},
   "outputs": [
    {
     "name": "stdout",
     "output_type": "stream",
     "text": [
      "Data Preprocessing Done!\n"
     ]
    }
   ],
   "source": [
    "pipe_data_load = Build_DataLoader_Pipeline(path_name=f'{task}.pickle')"
   ]
  },
  {
   "cell_type": "markdown",
   "metadata": {},
   "source": [
    "---\n",
    "### 1. FFNN"
   ]
  },
  {
   "cell_type": "code",
   "execution_count": 37,
   "metadata": {},
   "outputs": [],
   "source": [
    "model=FFNN"
   ]
  },
  {
   "cell_type": "code",
   "execution_count": 38,
   "metadata": {
    "scrolled": true
   },
   "outputs": [
    {
     "name": "stdout",
     "output_type": "stream",
     "text": [
      ">>> ITERATION N. 1\n",
      "\n",
      "===============> HYPERPARAMETERS TUNING\n"
     ]
    },
    {
     "name": "stderr",
     "output_type": "stream",
     "text": [
      "/Users/Niki/Prediction-of-Active-and-Inactive-Regulatory-Regions-with-Embracenet-Multimodal-Neural-Network-/BIOINF_tesi/models/utils/training_models.py:362: ExperimentalWarning: PatientPruner is experimental (supported from v2.8.0). The interface can change in the future.\n",
      "  pruner=optuna.pruners.PatientPruner(optuna.pruners.MedianPruner(), patience=2),\n",
      "\u001b[32m[I 2021-10-25 08:52:33,843]\u001b[0m Using an existing study with name 'A549_active_EP_vs_inactive_rest_FFNN_smote_1' instead of creating a new one.\u001b[0m\n"
     ]
    },
    {
     "name": "stdout",
     "output_type": "stream",
     "text": [
      "Study statistics: \n",
      "  Number of finished trials:  3\n",
      "  Number of pruned trials:  0\n",
      "  Number of complete trials:  3\n",
      "Best trial:\n",
      "  Value:  0.20278462527912003\n",
      "  Params: \n",
      "    dropout_l0: 0.4\n",
      "    lr: 0.02263686396399387\n",
      "    n_layers: 1\n",
      "    n_units_l0: 256\n",
      "    optimizer: Adam\n",
      "    weight_decay: 0.0005247513472911305\n",
      "\n",
      "===============> MODEL TESTING\n",
      "AUPRC test score: 0.18936414406305663\n",
      "\n",
      "\n",
      ">>> ITERATION N. 2\n",
      "\n",
      "===============> HYPERPARAMETERS TUNING\n"
     ]
    },
    {
     "name": "stderr",
     "output_type": "stream",
     "text": [
      "/Users/Niki/Prediction-of-Active-and-Inactive-Regulatory-Regions-with-Embracenet-Multimodal-Neural-Network-/BIOINF_tesi/models/utils/training_models.py:362: ExperimentalWarning: PatientPruner is experimental (supported from v2.8.0). The interface can change in the future.\n",
      "  pruner=optuna.pruners.PatientPruner(optuna.pruners.MedianPruner(), patience=2),\n",
      "\u001b[32m[I 2021-10-25 08:52:39,366]\u001b[0m Using an existing study with name 'A549_active_EP_vs_inactive_rest_FFNN_smote_1_2' instead of creating a new one.\u001b[0m\n"
     ]
    },
    {
     "name": "stdout",
     "output_type": "stream",
     "text": [
      "Study statistics: \n",
      "  Number of finished trials:  3\n",
      "  Number of pruned trials:  0\n",
      "  Number of complete trials:  3\n",
      "Best trial:\n",
      "  Value:  0.2122926600892612\n",
      "  Params: \n",
      "    dropout_l0: 0.2\n",
      "    dropout_l1: 0.2\n",
      "    dropout_l2: 0.0\n",
      "    lr: 0.00011136452148676387\n",
      "    n_layers: 3\n",
      "    n_units_l0: 128\n",
      "    n_units_l1: 16\n",
      "    n_units_l2: 64\n",
      "    optimizer: RMSprop\n",
      "    weight_decay: 0.00014181580247884238\n",
      "\n",
      "===============> MODEL TESTING\n",
      "AUPRC test score: 0.2136426215518898\n",
      "\n",
      "\n",
      ">>> ITERATION N. 3\n",
      "\n",
      "===============> HYPERPARAMETERS TUNING\n"
     ]
    },
    {
     "name": "stderr",
     "output_type": "stream",
     "text": [
      "/Users/Niki/Prediction-of-Active-and-Inactive-Regulatory-Regions-with-Embracenet-Multimodal-Neural-Network-/BIOINF_tesi/models/utils/training_models.py:362: ExperimentalWarning: PatientPruner is experimental (supported from v2.8.0). The interface can change in the future.\n",
      "  pruner=optuna.pruners.PatientPruner(optuna.pruners.MedianPruner(), patience=2),\n",
      "\u001b[32m[I 2021-10-25 08:52:44,259]\u001b[0m Using an existing study with name 'A549_active_EP_vs_inactive_rest_FFNN_smote_1_2_3' instead of creating a new one.\u001b[0m\n"
     ]
    },
    {
     "name": "stdout",
     "output_type": "stream",
     "text": [
      "Study statistics: \n",
      "  Number of finished trials:  3\n",
      "  Number of pruned trials:  0\n",
      "  Number of complete trials:  3\n",
      "Best trial:\n",
      "  Value:  0.21244080537903004\n",
      "  Params: \n",
      "    dropout_l0: 0.2\n",
      "    dropout_l1: 0.2\n",
      "    lr: 0.001519200069741656\n",
      "    n_layers: 2\n",
      "    n_units_l0: 256\n",
      "    n_units_l1: 16\n",
      "    optimizer: Nadam\n",
      "    weight_decay: 0.00019606324784726323\n",
      "\n",
      "===============> MODEL TESTING\n",
      "AUPRC test score: 0.21659924356006963\n",
      "\n",
      "\n",
      "\n",
      "3-FOLD CROSS-VALIDATION AUPRC TEST SCORE: 0.20654\n"
     ]
    }
   ],
   "source": [
    "# IMBALANCED\n",
    "type_augm_genfeatures = 'smote'\n",
    "\n",
    "kf_CV = Kfold_CV()\n",
    "\n",
    "kf_CV(build_dataloader_pipeline = pipe_data_load,\n",
    "                num_epochs = 100,\n",
    "                n_folds=3,\n",
    "                cell_line=cell_line,\n",
    "                sequence=False,\n",
    "                type_augm_genfeatures=type_augm_genfeatures,\n",
    "                model = model,\n",
    "                device = device,\n",
    "                task=task,\n",
    "                sampler = 'TPE',\n",
    "                study_name = f'{cell_line}_{task}_{model.__name__}_{type_augm_genfeatures}',\n",
    "                test_model_path = f'{cell_line}_{task}_{model.__name__}_{type_augm_genfeatures}_TEST')"
   ]
  },
  {
   "cell_type": "code",
   "execution_count": 39,
   "metadata": {},
   "outputs": [],
   "source": [
    "results_dict[cell_line][task][f'{model.__name__}_{type_augm_genfeatures}'] = kf_CV.scores_dict"
   ]
  },
  {
   "cell_type": "code",
   "execution_count": 40,
   "metadata": {},
   "outputs": [],
   "source": [
    "with open ('results_dict.pickle', 'wb') as fout:\n",
    "    pickle.dump(OrderedDict(results_dict), fout)"
   ]
  },
  {
   "cell_type": "code",
   "execution_count": null,
   "metadata": {},
   "outputs": [],
   "source": []
  },
  {
   "cell_type": "code",
   "execution_count": 41,
   "metadata": {
    "scrolled": true
   },
   "outputs": [
    {
     "name": "stdout",
     "output_type": "stream",
     "text": [
      ">>> ITERATION N. 1\n",
      "\n",
      "===============> HYPERPARAMETERS TUNING\n"
     ]
    },
    {
     "name": "stderr",
     "output_type": "stream",
     "text": [
      "/Users/Niki/Prediction-of-Active-and-Inactive-Regulatory-Regions-with-Embracenet-Multimodal-Neural-Network-/BIOINF_tesi/models/utils/training_models.py:362: ExperimentalWarning: PatientPruner is experimental (supported from v2.8.0). The interface can change in the future.\n",
      "  pruner=optuna.pruners.PatientPruner(optuna.pruners.MedianPruner(), patience=2),\n",
      "\u001b[32m[I 2021-10-25 08:52:47,245]\u001b[0m Using an existing study with name 'A549_active_EP_vs_inactive_rest_FFNN_double_1' instead of creating a new one.\u001b[0m\n"
     ]
    },
    {
     "name": "stdout",
     "output_type": "stream",
     "text": [
      "Study statistics: \n",
      "  Number of finished trials:  3\n",
      "  Number of pruned trials:  0\n",
      "  Number of complete trials:  3\n",
      "Best trial:\n",
      "  Value:  0.202956730272889\n",
      "  Params: \n",
      "    dropout_l0: 0.4\n",
      "    lr: 0.0004994345448050721\n",
      "    n_layers: 1\n",
      "    n_units_l0: 64\n",
      "    optimizer: RMSprop\n",
      "    weight_decay: 0.006842066689455926\n",
      "\n",
      "===============> MODEL TESTING\n",
      "AUPRC test score: 0.20036044261656757\n",
      "\n",
      "\n",
      ">>> ITERATION N. 2\n",
      "\n",
      "===============> HYPERPARAMETERS TUNING\n"
     ]
    },
    {
     "name": "stderr",
     "output_type": "stream",
     "text": [
      "/Users/Niki/Prediction-of-Active-and-Inactive-Regulatory-Regions-with-Embracenet-Multimodal-Neural-Network-/BIOINF_tesi/models/utils/training_models.py:362: ExperimentalWarning: PatientPruner is experimental (supported from v2.8.0). The interface can change in the future.\n",
      "  pruner=optuna.pruners.PatientPruner(optuna.pruners.MedianPruner(), patience=2),\n",
      "\u001b[32m[I 2021-10-25 08:52:47,597]\u001b[0m Using an existing study with name 'A549_active_EP_vs_inactive_rest_FFNN_double_1_2' instead of creating a new one.\u001b[0m\n"
     ]
    },
    {
     "name": "stdout",
     "output_type": "stream",
     "text": [
      "Study statistics: \n",
      "  Number of finished trials:  3\n",
      "  Number of pruned trials:  0\n",
      "  Number of complete trials:  3\n",
      "Best trial:\n",
      "  Value:  0.2271325773157029\n",
      "  Params: \n",
      "    dropout_l0: 0.0\n",
      "    dropout_l1: 0.4\n",
      "    lr: 0.04869662228518287\n",
      "    n_layers: 2\n",
      "    n_units_l0: 64\n",
      "    n_units_l1: 16\n",
      "    optimizer: Adam\n",
      "    weight_decay: 0.00011866046687933148\n",
      "\n",
      "===============> MODEL TESTING\n",
      "AUPRC test score: 0.19958353411338703\n",
      "\n",
      "\n",
      ">>> ITERATION N. 3\n",
      "\n",
      "===============> HYPERPARAMETERS TUNING\n"
     ]
    },
    {
     "name": "stderr",
     "output_type": "stream",
     "text": [
      "/Users/Niki/Prediction-of-Active-and-Inactive-Regulatory-Regions-with-Embracenet-Multimodal-Neural-Network-/BIOINF_tesi/models/utils/training_models.py:362: ExperimentalWarning: PatientPruner is experimental (supported from v2.8.0). The interface can change in the future.\n",
      "  pruner=optuna.pruners.PatientPruner(optuna.pruners.MedianPruner(), patience=2),\n",
      "\u001b[32m[I 2021-10-25 08:52:48,261]\u001b[0m Using an existing study with name 'A549_active_EP_vs_inactive_rest_FFNN_double_1_2_3' instead of creating a new one.\u001b[0m\n"
     ]
    },
    {
     "name": "stdout",
     "output_type": "stream",
     "text": [
      "Study statistics: \n",
      "  Number of finished trials:  3\n",
      "  Number of pruned trials:  0\n",
      "  Number of complete trials:  3\n",
      "Best trial:\n",
      "  Value:  0.21977325299399195\n",
      "  Params: \n",
      "    dropout_l0: 0.3\n",
      "    dropout_l1: 0.3\n",
      "    dropout_l2: 0.0\n",
      "    lr: 0.002819828529427939\n",
      "    n_layers: 3\n",
      "    n_units_l0: 64\n",
      "    n_units_l1: 32\n",
      "    n_units_l2: 32\n",
      "    optimizer: Adam\n",
      "    weight_decay: 0.0003684867515181342\n",
      "\n",
      "===============> MODEL TESTING\n",
      "AUPRC test score: 0.21495425638046486\n",
      "\n",
      "\n",
      "\n",
      "3-FOLD CROSS-VALIDATION AUPRC TEST SCORE: 0.20497\n"
     ]
    }
   ],
   "source": [
    "# IMBALANCED\n",
    "type_augm_genfeatures = 'double'\n",
    "\n",
    "kf_CV = Kfold_CV()\n",
    "\n",
    "kf_CV(build_dataloader_pipeline = pipe_data_load,\n",
    "                num_epochs = 100,\n",
    "                n_folds=3,\n",
    "                cell_line=cell_line,\n",
    "                sequence=False,\n",
    "                type_augm_genfeatures=type_augm_genfeatures,\n",
    "                model = model,\n",
    "                device = device,\n",
    "                task=task,\n",
    "                sampler = 'TPE',\n",
    "                study_name = f'{cell_line}_{task}_{model.__name__}_{type_augm_genfeatures}',\n",
    "                test_model_path = f'{cell_line}_{task}_{model.__name__}_{type_augm_genfeatures}_TEST')"
   ]
  },
  {
   "cell_type": "code",
   "execution_count": 42,
   "metadata": {},
   "outputs": [],
   "source": [
    "results_dict[cell_line][task][f'{model.__name__}_{type_augm_genfeatures}'] = kf_CV.scores_dict"
   ]
  },
  {
   "cell_type": "code",
   "execution_count": 43,
   "metadata": {},
   "outputs": [],
   "source": [
    "with open ('results_dict.pickle', 'wb') as fout:\n",
    "    pickle.dump(OrderedDict(results_dict), fout)"
   ]
  },
  {
   "cell_type": "code",
   "execution_count": null,
   "metadata": {},
   "outputs": [],
   "source": []
  },
  {
   "cell_type": "markdown",
   "metadata": {},
   "source": [
    "---\n",
    "### 2. CNN"
   ]
  },
  {
   "cell_type": "code",
   "execution_count": 34,
   "metadata": {},
   "outputs": [],
   "source": [
    "model=CNN"
   ]
  },
  {
   "cell_type": "code",
   "execution_count": 38,
   "metadata": {
    "scrolled": true
   },
   "outputs": [
    {
     "name": "stdout",
     "output_type": "stream",
     "text": [
      ">>> ITERATION N. 1\n",
      "\n",
      "===============> HYPERPARAMETERS TUNING\n"
     ]
    },
    {
     "name": "stderr",
     "output_type": "stream",
     "text": [
      "/home/jupyter/Prediction-of-Active-and-Inactive-Regulatory-Regions-with-Embracenet-Multimodal-Neural-Network-/BIOINF_tesi/models/utils/training_models.py:362: ExperimentalWarning: PatientPruner is experimental (supported from v2.8.0). The interface can change in the future.\n",
      "  pruner=optuna.pruners.PatientPruner(optuna.pruners.MedianPruner(), patience=2),\n",
      "\u001b[32m[I 2021-10-25 18:38:25,279]\u001b[0m Using an existing study with name 'A549_active_EP_vs_inactive_rest_CNN_1' instead of creating a new one.\u001b[0m\n"
     ]
    },
    {
     "name": "stdout",
     "output_type": "stream",
     "text": [
      "Study statistics: \n",
      "  Number of finished trials:  3\n",
      "  Number of pruned trials:  0\n",
      "  Number of complete trials:  3\n",
      "Best trial:\n",
      "  Value:  0.14372508208904314\n",
      "  Params: \n",
      "    dropout_l0: 0.2\n",
      "    dropout_l1: 0.5\n",
      "    dropout_l2: 0.5\n",
      "    kernel_size_l0: 5\n",
      "    kernel_size_l1: 15\n",
      "    kernel_size_l2: 15\n",
      "    lr: 0.00011225256307637438\n",
      "    n_layers: 3\n",
      "    optimizer: RMSprop\n",
      "    out_channels_l0: 32\n",
      "    out_channels_l1: 64\n",
      "    out_channels_l2: 64\n",
      "    weight_decay: 0.022471260724093313\n",
      "\n",
      "===============> MODEL TESTING\n",
      "AUPRC test score: 0.15808317888679663\n",
      "\n",
      "\n",
      ">>> ITERATION N. 2\n",
      "\n",
      "===============> HYPERPARAMETERS TUNING\n"
     ]
    },
    {
     "name": "stderr",
     "output_type": "stream",
     "text": [
      "/home/jupyter/Prediction-of-Active-and-Inactive-Regulatory-Regions-with-Embracenet-Multimodal-Neural-Network-/BIOINF_tesi/models/utils/training_models.py:362: ExperimentalWarning: PatientPruner is experimental (supported from v2.8.0). The interface can change in the future.\n",
      "  pruner=optuna.pruners.PatientPruner(optuna.pruners.MedianPruner(), patience=2),\n",
      "\u001b[32m[I 2021-10-25 18:38:25,991]\u001b[0m Using an existing study with name 'A549_active_EP_vs_inactive_rest_CNN_1_2' instead of creating a new one.\u001b[0m\n"
     ]
    },
    {
     "name": "stdout",
     "output_type": "stream",
     "text": [
      "Study statistics: \n",
      "  Number of finished trials:  3\n",
      "  Number of pruned trials:  0\n",
      "  Number of complete trials:  3\n",
      "Best trial:\n",
      "  Value:  0.15414174923759058\n",
      "  Params: \n",
      "    dropout_l0: 0.4\n",
      "    dropout_l1: 0.5\n",
      "    dropout_l2: 0.5\n",
      "    dropout_l3: 0.4\n",
      "    kernel_size_l0: 11\n",
      "    kernel_size_l1: 15\n",
      "    kernel_size_l2: 15\n",
      "    kernel_size_l3: 15\n",
      "    lr: 0.0011837942258440628\n",
      "    n_layers: 4\n",
      "    optimizer: Adam\n",
      "    out_channels_l0: 32\n",
      "    out_channels_l1: 96\n",
      "    out_channels_l2: 64\n",
      "    out_channels_l3: 128\n",
      "    weight_decay: 0.0007216288878670173\n",
      "\n",
      "===============> MODEL TESTING\n",
      "AUPRC test score: 0.15534093185276715\n",
      "\n",
      "\n",
      ">>> ITERATION N. 3\n",
      "\n",
      "===============> HYPERPARAMETERS TUNING\n"
     ]
    },
    {
     "name": "stderr",
     "output_type": "stream",
     "text": [
      "/home/jupyter/Prediction-of-Active-and-Inactive-Regulatory-Regions-with-Embracenet-Multimodal-Neural-Network-/BIOINF_tesi/models/utils/training_models.py:362: ExperimentalWarning: PatientPruner is experimental (supported from v2.8.0). The interface can change in the future.\n",
      "  pruner=optuna.pruners.PatientPruner(optuna.pruners.MedianPruner(), patience=2),\n",
      "\u001b[32m[I 2021-10-25 18:38:26,540]\u001b[0m Using an existing study with name 'A549_active_EP_vs_inactive_rest_CNN_1_2_3' instead of creating a new one.\u001b[0m\n"
     ]
    },
    {
     "name": "stdout",
     "output_type": "stream",
     "text": [
      "Study statistics: \n",
      "  Number of finished trials:  6\n",
      "  Number of pruned trials:  0\n",
      "  Number of complete trials:  3\n",
      "Best trial:\n",
      "  Value:  0.16006682488349847\n",
      "  Params: \n",
      "    dropout_l0: 0.2\n",
      "    dropout_l1: 0.5\n",
      "    dropout_l2: 0.5\n",
      "    dropout_l3: 0.5\n",
      "    kernel_size_l0: 15\n",
      "    kernel_size_l1: 15\n",
      "    kernel_size_l2: 15\n",
      "    kernel_size_l3: 5\n",
      "    lr: 0.00034665706509859866\n",
      "    n_layers: 4\n",
      "    optimizer: Adam\n",
      "    out_channels_l0: 16\n",
      "    out_channels_l1: 32\n",
      "    out_channels_l2: 256\n",
      "    out_channels_l3: 512\n",
      "    weight_decay: 0.006522553452181734\n",
      "\n",
      "===============> MODEL TESTING\n",
      "AUPRC test score: 0.12690914560097605\n",
      "\n",
      "\n",
      "\n",
      "3-FOLD CROSS-VALIDATION AUPRC TEST SCORE: 0.14678\n"
     ]
    }
   ],
   "source": [
    "# IMBALANCED\n",
    "kf_CV = Kfold_CV()\n",
    "\n",
    "kf_CV(build_dataloader_pipeline = pipe_data_load,\n",
    "                num_epochs = 100,\n",
    "                n_folds=3,\n",
    "                cell_line=cell_line,\n",
    "                sequence=True,\n",
    "                model = model,\n",
    "                device = device,\n",
    "                task=task,\n",
    "                sampler = 'TPE',\n",
    "                study_name = f'{cell_line}_{task}_{model.__name__}',\n",
    "                test_model_path = f'{cell_line}_{task}_{model.__name__}_TEST')"
   ]
  },
  {
   "cell_type": "code",
   "execution_count": 39,
   "metadata": {},
   "outputs": [],
   "source": [
    "results_dict[cell_line][task][model.__name__] = kf_CV.scores_dict"
   ]
  },
  {
   "cell_type": "code",
   "execution_count": 40,
   "metadata": {},
   "outputs": [],
   "source": [
    "with open ('results_dict.pickle', 'wb') as fout:\n",
    "    pickle.dump(OrderedDict(results_dict), fout)"
   ]
  },
  {
   "cell_type": "markdown",
   "metadata": {},
   "source": [
    "---"
   ]
  },
  {
   "cell_type": "code",
   "execution_count": 1,
   "metadata": {},
   "outputs": [
    {
     "data": {
      "image/png": "[encoded data removed]",
      "text/plain": [
       "<Figure size 2160x1440 with 15 Axes>"
      ]
     },
     "metadata": {},
     "output_type": "display_data"
    }
   ],
   "source": [
    "from BIOINF_tesi.models.utils import plot_scores\n",
    "from BIOINF_tesi.data_pipe import CELL_LINES, TASKS\n",
    "plot_scores(cells=CELL_LINES[:3], models=['FFNN','CNN', 'EmbraceNetMultimodal'])"
   ]
  },
  {
   "cell_type": "code",
   "execution_count": null,
   "metadata": {},
   "outputs": [],
   "source": []
  }
 ],
 "metadata": {
  "environment": {
   "name": "pytorch-gpu.1-9.m80",
   "type": "gcloud",
   "uri": "gcr.io/deeplearning-platform-release/pytorch-gpu.1-9:m80"
  },
  "kernelspec": {
   "display_name": "Python 3",
   "language": "python",
   "name": "python3"
  },
  "language_info": {
   "codemirror_mode": {
    "name": "ipython",
    "version": 3
   },
   "file_extension": ".py",
   "mimetype": "text/x-python",
   "name": "python",
   "nbconvert_exporter": "python",
   "pygments_lexer": "ipython3",
   "version": "3.8.8"
  }
 },
 "nbformat": 4,
 "nbformat_minor": 4
}
