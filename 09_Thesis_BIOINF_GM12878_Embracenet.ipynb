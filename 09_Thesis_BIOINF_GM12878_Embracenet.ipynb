{
 "cells": [
  {
   "cell_type": "code",
   "execution_count": null,
   "metadata": {},
   "outputs": [],
   "source": []
  },
  {
   "cell_type": "code",
   "execution_count": null,
   "metadata": {},
   "outputs": [],
   "source": []
  },
  {
   "cell_type": "code",
   "execution_count": null,
   "metadata": {},
   "outputs": [],
   "source": []
  },
  {
   "cell_type": "markdown",
   "metadata": {
    "id": "zqpqu8UJFySp"
   },
   "source": [
    "## BIOINFORMATICS THESIS: MULTIMODAL NEURAL NETWORK"
   ]
  },
  {
   "cell_type": "markdown",
   "metadata": {},
   "source": [
    "# CELL LINE: GM12878\n",
    "# EMBRACENET"
   ]
  },
  {
   "cell_type": "markdown",
   "metadata": {},
   "source": [
    "da fare \n",
    "- sistema selezione augmentation in embracenet\n",
    "- crea grafici AUPRC reti"
   ]
  },
  {
   "cell_type": "code",
   "execution_count": 1,
   "metadata": {},
   "outputs": [],
   "source": [
    "import pandas as pd \n",
    "import numpy as np\n",
    "import os\n",
    "\n",
    "import torch\n",
    "import torch.nn.functional as F\n",
    "from torch.utils.data import Dataset, DataLoader\n",
    "import torch.nn as nn\n",
    "import torch.optim as optim\n",
    "from collections import defaultdict, OrderedDict\n",
    "import pickle\n",
    "\n",
    "import sqlite3\n",
    "from sqlalchemy import create_engine\n",
    "\n",
    "device = 'cuda' if torch.cuda.is_available() else 'cpu'"
   ]
  },
  {
   "cell_type": "code",
   "execution_count": 2,
   "metadata": {},
   "outputs": [],
   "source": [
    "# create a database to store optuna studies with sqlite backend\n",
    "#engine = create_engine('sqlite:///BIOINF_optuna_tuning.db')"
   ]
  },
  {
   "cell_type": "code",
   "execution_count": 3,
   "metadata": {},
   "outputs": [],
   "source": [
    "from BIOINF_tesi.data_pipe import CELL_LINES, TASKS"
   ]
  },
  {
   "cell_type": "code",
   "execution_count": 4,
   "metadata": {},
   "outputs": [
    {
     "data": {
      "text/plain": [
       "'GM12878'"
      ]
     },
     "execution_count": 4,
     "metadata": {},
     "output_type": "execute_result"
    }
   ],
   "source": [
    "cell_line = CELL_LINES[1]\n",
    "cell_line"
   ]
  },
  {
   "cell_type": "markdown",
   "metadata": {},
   "source": [
    "---"
   ]
  },
  {
   "cell_type": "code",
   "execution_count": 5,
   "metadata": {},
   "outputs": [],
   "source": [
    "from BIOINF_tesi.data_pipe import Build_DataLoader_Pipeline\n",
    "from BIOINF_tesi.models import EmbraceNetMultimodal, ConcatNetMultimodal\n",
    "from BIOINF_tesi.models.utils import Kfold_CV_Multimodal"
   ]
  },
  {
   "cell_type": "raw",
   "metadata": {},
   "source": [
    "def dd():\n",
    "    return defaultdict(dict)\n",
    "    \n",
    "results_dict = defaultdict(dd)"
   ]
  },
  {
   "cell_type": "code",
   "execution_count": 6,
   "metadata": {},
   "outputs": [],
   "source": [
    "with open ('results_dict.pickle', 'rb') as fin:\n",
    "    results_dict = pickle.load(fin)\n",
    "    results_dict = defaultdict(lambda: defaultdict(dict), results_dict)"
   ]
  },
  {
   "cell_type": "markdown",
   "metadata": {},
   "source": [
    "## 1) ACTIVE ENHANCERS vs INACTIVE ENHANCERS"
   ]
  },
  {
   "cell_type": "code",
   "execution_count": 7,
   "metadata": {},
   "outputs": [],
   "source": [
    "task = TASKS[0]"
   ]
  },
  {
   "cell_type": "code",
   "execution_count": 8,
   "metadata": {},
   "outputs": [
    {
     "name": "stdout",
     "output_type": "stream",
     "text": [
      "Data Preprocessing Done!\n"
     ]
    }
   ],
   "source": [
    "pipe_data_load = Build_DataLoader_Pipeline(path_name=f'{task}.pickle')"
   ]
  },
  {
   "cell_type": "markdown",
   "metadata": {},
   "source": [
    "---\n",
    "### EMBRACENET"
   ]
  },
  {
   "cell_type": "code",
   "execution_count": 9,
   "metadata": {},
   "outputs": [],
   "source": [
    "model=EmbraceNetMultimodal"
   ]
  },
  {
   "cell_type": "code",
   "execution_count": 10,
   "metadata": {
    "scrolled": true
   },
   "outputs": [
    {
     "name": "stdout",
     "output_type": "stream",
     "text": [
      ">>> ITERATION N. 1\n",
      "\n",
      "===============> HYPERPARAMETERS TUNING\n"
     ]
    },
    {
     "name": "stderr",
     "output_type": "stream",
     "text": [
      "/Users/Niki/Prediction-of-Active-and-Inactive-Regulatory-Regions-with-Embracenet-Multimodal-Neural-Network-/BIOINF_tesi/models/utils/training_models_multimodal.py:425: ExperimentalWarning: PatientPruner is experimental (supported from v2.8.0). The interface can change in the future.\n",
      "  pruner=optuna.pruners.PatientPruner(optuna.pruners.MedianPruner(), patience=2),\n",
      "\u001b[32m[I 2021-10-26 09:38:41,853]\u001b[0m Using an existing study with name 'GM12878_active_E_vs_inactive_E_EmbraceNetMultimodal_1' instead of creating a new one.\u001b[0m\n",
      "/opt/anaconda3/lib/python3.8/site-packages/optuna/structs.py:18: FutureWarning: `structs` is deprecated. Classes have moved to the following modules. `structs.StudyDirection`->`study.StudyDirection`, `structs.StudySummary`->`study.StudySummary`, `structs.FrozenTrial`->`trial.FrozenTrial`, `structs.TrialState`->`trial.TrialState`, `structs.TrialPruned`->`exceptions.TrialPruned`.\n",
      "  warnings.warn(_message, FutureWarning)\n"
     ]
    },
    {
     "name": "stdout",
     "output_type": "stream",
     "text": [
      "Study statistics: \n",
      "  Number of finished trials:  4\n",
      "  Number of pruned trials:  0\n",
      "  Number of complete trials:  3\n",
      "Best trial:\n",
      "  Value:  0.43202161922239113\n",
      "  Params: \n",
      "    CNN_dropout_l0: 0.3\n",
      "    CNN_dropout_l1: 0.5\n",
      "    CNN_dropout_l2: 0.4\n",
      "    CNN_kernel_size_l0: 11\n",
      "    CNN_kernel_size_l1: 11\n",
      "    CNN_kernel_size_l2: 11\n",
      "    CNN_n_layers: 3\n",
      "    CNN_out_channels_l0: 64\n",
      "    CNN_out_channels_l1: 32\n",
      "    CNN_out_channels_l2: 64\n",
      "    EMBRACENET_embracement_size: 1024\n",
      "    FFNN_dropout_l0: 0.0\n",
      "    FFNN_dropout_l1: 0.0\n",
      "    FFNN_n_layers: 2\n",
      "    FFNN_n_units_l0: 32\n",
      "    FFNN_n_units_l1: 128\n",
      "    lr: 7.941950631839377e-05\n",
      "    n_post_layers: 0\n",
      "    optimizer: Nadam\n",
      "    selection_probabilities_FFNN: 0.8581003651107962\n",
      "    weight_decay: 0.00014427681311913025\n",
      "\n",
      "===============> MODEL TESTING\n",
      "AUPRC test score: 0.43653806247169585\n",
      "\n",
      "\n",
      ">>> ITERATION N. 2\n"
     ]
    },
    {
     "name": "stderr",
     "output_type": "stream",
     "text": [
      "/Users/Niki/Prediction-of-Active-and-Inactive-Regulatory-Regions-with-Embracenet-Multimodal-Neural-Network-/BIOINF_tesi/models/utils/training_models_multimodal.py:425: ExperimentalWarning: PatientPruner is experimental (supported from v2.8.0). The interface can change in the future.\n",
      "  pruner=optuna.pruners.PatientPruner(optuna.pruners.MedianPruner(), patience=2),\n",
      "\u001b[32m[I 2021-10-26 09:38:42,260]\u001b[0m Using an existing study with name 'GM12878_active_E_vs_inactive_E_EmbraceNetMultimodal_1_2' instead of creating a new one.\u001b[0m\n"
     ]
    },
    {
     "name": "stdout",
     "output_type": "stream",
     "text": [
      "\n",
      "===============> HYPERPARAMETERS TUNING\n",
      "Study statistics: \n",
      "  Number of finished trials:  3\n",
      "  Number of pruned trials:  0\n",
      "  Number of complete trials:  3\n",
      "Best trial:\n",
      "  Value:  0.4486517927159404\n",
      "  Params: \n",
      "    CNN_dropout_l0: 0.2\n",
      "    CNN_dropout_l1: 0\n",
      "    CNN_kernel_size_l0: 15\n",
      "    CNN_kernel_size_l1: 15\n",
      "    CNN_n_layers: 2\n",
      "    CNN_out_channels_l0: 32\n",
      "    CNN_out_channels_l1: 64\n",
      "    EMBRACENET_dropout_l0: 0.3\n",
      "    EMBRACENET_dropout_l1: 0.3\n",
      "    EMBRACENET_embracement_size: 768\n",
      "    EMBRACENET_n_units_l0: 64\n",
      "    EMBRACENET_n_units_l1: 64\n",
      "    FFNN_dropout_l0: 0.3\n",
      "    FFNN_dropout_l1: 0.4\n",
      "    FFNN_dropout_l2: 0.5\n",
      "    FFNN_dropout_l3: 0.5\n",
      "    FFNN_n_layers: 4\n",
      "    FFNN_n_units_l0: 256\n",
      "    FFNN_n_units_l1: 16\n",
      "    FFNN_n_units_l2: 16\n",
      "    FFNN_n_units_l3: 4\n",
      "    lr: 0.00018994441458177226\n",
      "    n_post_layers: 2\n",
      "    optimizer: Nadam\n",
      "    selection_probabilities_FFNN: 0.8728242374049127\n",
      "    weight_decay: 0.00010692153089801117\n",
      "\n",
      "===============> MODEL TESTING\n"
     ]
    },
    {
     "name": "stderr",
     "output_type": "stream",
     "text": [
      "/Users/Niki/Prediction-of-Active-and-Inactive-Regulatory-Regions-with-Embracenet-Multimodal-Neural-Network-/BIOINF_tesi/models/utils/training_models_multimodal.py:425: ExperimentalWarning: PatientPruner is experimental (supported from v2.8.0). The interface can change in the future.\n",
      "  pruner=optuna.pruners.PatientPruner(optuna.pruners.MedianPruner(), patience=2),\n",
      "\u001b[32m[I 2021-10-26 09:38:42,564]\u001b[0m Using an existing study with name 'GM12878_active_E_vs_inactive_E_EmbraceNetMultimodal_1_2_3' instead of creating a new one.\u001b[0m\n"
     ]
    },
    {
     "name": "stdout",
     "output_type": "stream",
     "text": [
      "AUPRC test score: 0.3748672128183268\n",
      "\n",
      "\n",
      ">>> ITERATION N. 3\n",
      "\n",
      "===============> HYPERPARAMETERS TUNING\n",
      "Study statistics: \n",
      "  Number of finished trials:  3\n",
      "  Number of pruned trials:  0\n",
      "  Number of complete trials:  3\n",
      "Best trial:\n",
      "  Value:  0.3862810869015997\n",
      "  Params: \n",
      "    CNN_dropout_l0: 0.3\n",
      "    CNN_dropout_l1: 0.4\n",
      "    CNN_dropout_l2: 0\n",
      "    CNN_kernel_size_l0: 15\n",
      "    CNN_kernel_size_l1: 5\n",
      "    CNN_kernel_size_l2: 15\n",
      "    CNN_n_layers: 3\n",
      "    CNN_out_channels_l0: 64\n",
      "    CNN_out_channels_l1: 32\n",
      "    CNN_out_channels_l2: 64\n",
      "    EMBRACENET_embracement_size: 768\n",
      "    FFNN_dropout_l0: 0.2\n",
      "    FFNN_n_layers: 1\n",
      "    FFNN_n_units_l0: 32\n",
      "    lr: 0.0065169303683038325\n",
      "    n_post_layers: 0\n",
      "    optimizer: Nadam\n",
      "    selection_probabilities_FFNN: 0.10981347141895725\n",
      "    weight_decay: 0.002503841704175309\n",
      "\n",
      "===============> MODEL TESTING\n",
      "AUPRC test score: 0.35868292457406403\n",
      "\n",
      "\n",
      "\n",
      "3-FOLD CROSS-VALIDATION AUPRC TEST SCORE: 0.39003\n"
     ]
    }
   ],
   "source": [
    "kf_CV = Kfold_CV_Multimodal()\n",
    "\n",
    "kf_CV(build_dataloader_pipeline = pipe_data_load,\n",
    "                num_epochs = 100,\n",
    "                n_folds=3,\n",
    "                cell_line=cell_line,\n",
    "                augmentation=False,\n",
    "                model = model,\n",
    "                device = device,\n",
    "                task=task,\n",
    "                sampler = 'TPE',\n",
    "                study_name = f'{cell_line}_{task}_{model.__name__}',\n",
    "                test_model_path = f'{cell_line}_{task}_{model.__name__}_TEST')"
   ]
  },
  {
   "cell_type": "code",
   "execution_count": 11,
   "metadata": {},
   "outputs": [],
   "source": [
    "results_dict[cell_line][task][model.__name__] = kf_CV.scores_dict"
   ]
  },
  {
   "cell_type": "code",
   "execution_count": 12,
   "metadata": {},
   "outputs": [],
   "source": [
    "with open ('results_dict.pickle', 'wb') as fout:\n",
    "    pickle.dump(OrderedDict(results_dict), fout)"
   ]
  },
  {
   "cell_type": "markdown",
   "metadata": {},
   "source": [
    "### CONCATNET"
   ]
  },
  {
   "cell_type": "code",
   "execution_count": 9,
   "metadata": {},
   "outputs": [],
   "source": [
    "model=ConcatNetMultimodal"
   ]
  },
  {
   "cell_type": "code",
   "execution_count": 10,
   "metadata": {
    "scrolled": true
   },
   "outputs": [
    {
     "name": "stdout",
     "output_type": "stream",
     "text": [
      ">>> ITERATION N. 1\n",
      "\n",
      "===============> HYPERPARAMETERS TUNING\n"
     ]
    },
    {
     "name": "stderr",
     "output_type": "stream",
     "text": [
      "/Users/Niki/Prediction-of-Active-and-Inactive-Regulatory-Regions-with-Embracenet-Multimodal-Neural-Network-/BIOINF_tesi/models/utils/training_models_multimodal.py:425: ExperimentalWarning: PatientPruner is experimental (supported from v2.8.0). The interface can change in the future.\n",
      "  pruner=optuna.pruners.PatientPruner(optuna.pruners.MedianPruner(), patience=2),\n",
      "\u001b[32m[I 2021-10-28 09:20:52,445]\u001b[0m Using an existing study with name 'GM12878_active_E_vs_inactive_E_ConcatNetMultimodal_1' instead of creating a new one.\u001b[0m\n",
      "/opt/anaconda3/lib/python3.8/site-packages/optuna/structs.py:18: FutureWarning: `structs` is deprecated. Classes have moved to the following modules. `structs.StudyDirection`->`study.StudyDirection`, `structs.StudySummary`->`study.StudySummary`, `structs.FrozenTrial`->`trial.FrozenTrial`, `structs.TrialState`->`trial.TrialState`, `structs.TrialPruned`->`exceptions.TrialPruned`.\n",
      "  warnings.warn(_message, FutureWarning)\n"
     ]
    },
    {
     "name": "stdout",
     "output_type": "stream",
     "text": [
      "Study statistics: \n",
      "  Number of finished trials:  4\n",
      "  Number of pruned trials:  0\n",
      "  Number of complete trials:  3\n",
      "Best trial:\n",
      "  Value:  0.4306313393348045\n",
      "  Params: \n",
      "    CNN_dropout_l0: 0.4\n",
      "    CNN_dropout_l1: 0\n",
      "    CNN_kernel_size_l0: 5\n",
      "    CNN_kernel_size_l1: 5\n",
      "    CNN_n_layers: 2\n",
      "    CNN_out_channels_l0: 32\n",
      "    CNN_out_channels_l1: 96\n",
      "    CONCATNET_dropout_l0: 0.2\n",
      "    CONCATNET_dropout_l1: 0.0\n",
      "    CONCATNET_dropout_l2: 0.0\n",
      "    CONCATNET_n_post_layers: 3\n",
      "    CONCATNET_n_units_l0: 1024\n",
      "    CONCATNET_n_units_l1: 128\n",
      "    CONCATNET_n_units_l2: 64\n",
      "    FFNN_dropout_l0: 0.3\n",
      "    FFNN_n_layers: 1\n",
      "    FFNN_n_units_l0: 64\n",
      "    lr: 0.0043786435795655524\n",
      "    optimizer: RMSprop\n",
      "    weight_decay: 0.000622318648334681\n",
      "\n",
      "===============> MODEL TESTING\n",
      "AUPRC test score: 0.4292255720358358\n",
      "\n",
      "\n",
      ">>> ITERATION N. 2\n",
      "\n",
      "===============> HYPERPARAMETERS TUNING\n"
     ]
    },
    {
     "name": "stderr",
     "output_type": "stream",
     "text": [
      "/Users/Niki/Prediction-of-Active-and-Inactive-Regulatory-Regions-with-Embracenet-Multimodal-Neural-Network-/BIOINF_tesi/models/utils/training_models_multimodal.py:425: ExperimentalWarning: PatientPruner is experimental (supported from v2.8.0). The interface can change in the future.\n",
      "  pruner=optuna.pruners.PatientPruner(optuna.pruners.MedianPruner(), patience=2),\n",
      "\u001b[32m[I 2021-10-28 09:20:53,069]\u001b[0m Using an existing study with name 'GM12878_active_E_vs_inactive_E_ConcatNetMultimodal_1_2' instead of creating a new one.\u001b[0m\n"
     ]
    },
    {
     "name": "stdout",
     "output_type": "stream",
     "text": [
      "Study statistics: \n",
      "  Number of finished trials:  3\n",
      "  Number of pruned trials:  0\n",
      "  Number of complete trials:  3\n",
      "Best trial:\n",
      "  Value:  0.35871113109808417\n",
      "  Params: \n",
      "    CNN_dropout_l0: 0\n",
      "    CNN_dropout_l1: 0.5\n",
      "    CNN_kernel_size_l0: 5\n",
      "    CNN_kernel_size_l1: 5\n",
      "    CNN_n_layers: 2\n",
      "    CNN_out_channels_l0: 16\n",
      "    CNN_out_channels_l1: 32\n",
      "    CONCATNET_dropout_l0: 0.5\n",
      "    CONCATNET_dropout_l1: 0.2\n",
      "    CONCATNET_dropout_l2: 0.2\n",
      "    CONCATNET_n_post_layers: 3\n",
      "    CONCATNET_n_units_l0: 1024\n",
      "    CONCATNET_n_units_l1: 32\n",
      "    CONCATNET_n_units_l2: 256\n",
      "    FFNN_dropout_l0: 0.2\n",
      "    FFNN_n_layers: 1\n",
      "    FFNN_n_units_l0: 256\n",
      "    lr: 0.00020916590839697497\n",
      "    optimizer: RMSprop\n",
      "    weight_decay: 0.016118460438335157\n",
      "\n",
      "===============> MODEL TESTING\n"
     ]
    },
    {
     "name": "stderr",
     "output_type": "stream",
     "text": [
      "/Users/Niki/Prediction-of-Active-and-Inactive-Regulatory-Regions-with-Embracenet-Multimodal-Neural-Network-/BIOINF_tesi/models/utils/training_models_multimodal.py:425: ExperimentalWarning: PatientPruner is experimental (supported from v2.8.0). The interface can change in the future.\n",
      "  pruner=optuna.pruners.PatientPruner(optuna.pruners.MedianPruner(), patience=2),\n",
      "\u001b[32m[I 2021-10-28 09:20:53,510]\u001b[0m Using an existing study with name 'GM12878_active_E_vs_inactive_E_ConcatNetMultimodal_1_2_3' instead of creating a new one.\u001b[0m\n"
     ]
    },
    {
     "name": "stdout",
     "output_type": "stream",
     "text": [
      "AUPRC test score: 0.18309334657398224\n",
      "\n",
      "\n",
      ">>> ITERATION N. 3\n",
      "\n",
      "===============> HYPERPARAMETERS TUNING\n",
      "Study statistics: \n",
      "  Number of finished trials:  3\n",
      "  Number of pruned trials:  0\n",
      "  Number of complete trials:  3\n",
      "Best trial:\n",
      "  Value:  0.3476050910200529\n",
      "  Params: \n",
      "    CNN_dropout_l0: 0.3\n",
      "    CNN_dropout_l1: 0\n",
      "    CNN_kernel_size_l0: 11\n",
      "    CNN_kernel_size_l1: 15\n",
      "    CNN_n_layers: 2\n",
      "    CNN_out_channels_l0: 64\n",
      "    CNN_out_channels_l1: 32\n",
      "    CONCATNET_dropout_l0: 0.3\n",
      "    CONCATNET_dropout_l1: 0.2\n",
      "    CONCATNET_dropout_l2: 0.0\n",
      "    CONCATNET_n_post_layers: 3\n",
      "    CONCATNET_n_units_l0: 1024\n",
      "    CONCATNET_n_units_l1: 64\n",
      "    CONCATNET_n_units_l2: 32\n",
      "    FFNN_dropout_l0: 0.3\n",
      "    FFNN_dropout_l1: 0.0\n",
      "    FFNN_dropout_l2: 0.5\n",
      "    FFNN_n_layers: 3\n",
      "    FFNN_n_units_l0: 256\n",
      "    FFNN_n_units_l1: 128\n",
      "    FFNN_n_units_l2: 32\n",
      "    lr: 0.0017723827909862963\n",
      "    optimizer: RMSprop\n",
      "    weight_decay: 0.00013829123871738074\n",
      "\n",
      "===============> MODEL TESTING\n",
      "AUPRC test score: 0.4098042108211864\n",
      "\n",
      "\n",
      "\n",
      "3-FOLD CROSS-VALIDATION AUPRC TEST SCORE: 0.34071\n"
     ]
    }
   ],
   "source": [
    "kf_CV = Kfold_CV_Multimodal()\n",
    "\n",
    "kf_CV(build_dataloader_pipeline = pipe_data_load,\n",
    "                num_epochs = 100,\n",
    "                n_folds=3,\n",
    "                cell_line=cell_line,\n",
    "                augmentation=False,\n",
    "                model = model,\n",
    "                device = device,\n",
    "                task=task,\n",
    "                sampler = 'TPE',\n",
    "                study_name = f'{cell_line}_{task}_{model.__name__}',\n",
    "                test_model_path = f'{cell_line}_{task}_{model.__name__}_TEST')"
   ]
  },
  {
   "cell_type": "code",
   "execution_count": 11,
   "metadata": {},
   "outputs": [],
   "source": [
    "results_dict[cell_line][task][model.__name__] = kf_CV.scores_dict"
   ]
  },
  {
   "cell_type": "code",
   "execution_count": 12,
   "metadata": {},
   "outputs": [],
   "source": [
    "with open ('results_dict.pickle', 'wb') as fout:\n",
    "    pickle.dump(OrderedDict(results_dict), fout)"
   ]
  },
  {
   "cell_type": "markdown",
   "metadata": {},
   "source": [
    "---\n",
    "## AUGMENTATION"
   ]
  },
  {
   "cell_type": "markdown",
   "metadata": {},
   "source": [
    "### EMBRACENET"
   ]
  },
  {
   "cell_type": "code",
   "execution_count": 9,
   "metadata": {},
   "outputs": [],
   "source": [
    "model=EmbraceNetMultimodal"
   ]
  },
  {
   "cell_type": "code",
   "execution_count": 10,
   "metadata": {
    "scrolled": true,
    "tags": []
   },
   "outputs": [
    {
     "name": "stdout",
     "output_type": "stream",
     "text": [
      ">>> ITERATION N. 1\n",
      "\n",
      "===============> HYPERPARAMETERS TUNING\n"
     ]
    },
    {
     "name": "stderr",
     "output_type": "stream",
     "text": [
      "/opt/anaconda3/lib/python3.8/site-packages/imblearn/utils/_validation.py:299: UserWarning: After over-sampling, the number of samples (46002) in class 0 will be larger than the number of samples in the majority class (class #0 -> 23001)\n",
      "  warnings.warn(\n",
      "/Users/Niki/Prediction-of-Active-and-Inactive-Regulatory-Regions-with-Embracenet-Multimodal-Neural-Network-/BIOINF_tesi/models/utils/training_models_multimodal.py:425: ExperimentalWarning: PatientPruner is experimental (supported from v2.8.0). The interface can change in the future.\n",
      "  pruner=optuna.pruners.PatientPruner(optuna.pruners.MedianPruner(), patience=2),\n",
      "\u001b[32m[I 2021-11-01 08:45:32,620]\u001b[0m Using an existing study with name 'GM12878_active_E_vs_inactive_E_EmbraceNetMultimodal_1augmentation' instead of creating a new one.\u001b[0m\n",
      "/opt/anaconda3/lib/python3.8/site-packages/optuna/structs.py:18: FutureWarning: `structs` is deprecated. Classes have moved to the following modules. `structs.StudyDirection`->`study.StudyDirection`, `structs.StudySummary`->`study.StudySummary`, `structs.FrozenTrial`->`trial.FrozenTrial`, `structs.TrialState`->`trial.TrialState`, `structs.TrialPruned`->`exceptions.TrialPruned`.\n",
      "  warnings.warn(_message, FutureWarning)\n"
     ]
    },
    {
     "name": "stdout",
     "output_type": "stream",
     "text": [
      "Study statistics: \n",
      "  Number of finished trials:  3\n",
      "  Number of pruned trials:  0\n",
      "  Number of complete trials:  3\n",
      "Best trial:\n",
      "  Value:  0.19123624809098355\n",
      "  Params: \n",
      "    CNN_dropout_l0: 0\n",
      "    CNN_kernel_size_l0: 5\n",
      "    CNN_n_layers: 1\n",
      "    CNN_out_channels_l0: 64\n",
      "    EMBRACENET_embracement_size: 768\n",
      "    FFNN_dropout_l0: 0.0\n",
      "    FFNN_n_layers: 1\n",
      "    FFNN_n_units_l0: 256\n",
      "    lr: 5.857045627898654e-05\n",
      "    n_post_layers: 0\n",
      "    optimizer: Nadam\n",
      "    selection_probabilities_FFNN: 0.7574436831231909\n",
      "    weight_decay: 0.039205338115705285\n",
      "\n",
      "===============> MODEL TESTING\n"
     ]
    },
    {
     "name": "stderr",
     "output_type": "stream",
     "text": [
      "/opt/anaconda3/lib/python3.8/site-packages/imblearn/utils/_validation.py:299: UserWarning: After over-sampling, the number of samples (68936) in class 0 will be larger than the number of samples in the majority class (class #0 -> 34468)\n",
      "  warnings.warn(\n"
     ]
    },
    {
     "name": "stdout",
     "output_type": "stream",
     "text": [
      "AUPRC test score: 0.1911440028660529\n",
      "\n",
      "\n",
      ">>> ITERATION N. 2\n",
      "\n",
      "===============> HYPERPARAMETERS TUNING\n"
     ]
    },
    {
     "name": "stderr",
     "output_type": "stream",
     "text": [
      "/opt/anaconda3/lib/python3.8/site-packages/imblearn/utils/_validation.py:299: UserWarning: After over-sampling, the number of samples (45894) in class 0 will be larger than the number of samples in the majority class (class #0 -> 22947)\n",
      "  warnings.warn(\n",
      "/Users/Niki/Prediction-of-Active-and-Inactive-Regulatory-Regions-with-Embracenet-Multimodal-Neural-Network-/BIOINF_tesi/models/utils/training_models_multimodal.py:425: ExperimentalWarning: PatientPruner is experimental (supported from v2.8.0). The interface can change in the future.\n",
      "  pruner=optuna.pruners.PatientPruner(optuna.pruners.MedianPruner(), patience=2),\n",
      "\u001b[32m[I 2021-11-01 08:46:26,735]\u001b[0m Using an existing study with name 'GM12878_active_E_vs_inactive_E_EmbraceNetMultimodal_2augmentation' instead of creating a new one.\u001b[0m\n",
      "/opt/anaconda3/lib/python3.8/site-packages/imblearn/utils/_validation.py:299: UserWarning: After over-sampling, the number of samples (68932) in class 0 will be larger than the number of samples in the majority class (class #0 -> 34466)\n",
      "  warnings.warn(\n"
     ]
    },
    {
     "name": "stdout",
     "output_type": "stream",
     "text": [
      "Study statistics: \n",
      "  Number of finished trials:  3\n",
      "  Number of pruned trials:  0\n",
      "  Number of complete trials:  3\n",
      "Best trial:\n",
      "  Value:  0.18132042253521127\n",
      "  Params: \n",
      "    CNN_dropout_l0: 0.3\n",
      "    CNN_dropout_l1: 0\n",
      "    CNN_dropout_l2: 0.4\n",
      "    CNN_dropout_l3: 0.4\n",
      "    CNN_kernel_size_l0: 5\n",
      "    CNN_kernel_size_l1: 11\n",
      "    CNN_kernel_size_l2: 15\n",
      "    CNN_kernel_size_l3: 5\n",
      "    CNN_n_layers: 4\n",
      "    CNN_out_channels_l0: 32\n",
      "    CNN_out_channels_l1: 64\n",
      "    CNN_out_channels_l2: 128\n",
      "    CNN_out_channels_l3: 128\n",
      "    EMBRACENET_dropout_l0: 0.0\n",
      "    EMBRACENET_dropout_l1: 0.5\n",
      "    EMBRACENET_embracement_size: 1024\n",
      "    EMBRACENET_n_units_l0: 512\n",
      "    EMBRACENET_n_units_l1: 16\n",
      "    FFNN_dropout_l0: 0.0\n",
      "    FFNN_n_layers: 1\n",
      "    FFNN_n_units_l0: 256\n",
      "    lr: 0.0021363699135981567\n",
      "    n_post_layers: 2\n",
      "    optimizer: Adam\n",
      "    selection_probabilities_FFNN: 0.34368766398643236\n",
      "    weight_decay: 0.025875739743203625\n",
      "\n",
      "===============> MODEL TESTING\n",
      "AUPRC test score: 0.18309334657398224\n",
      "\n",
      "\n",
      ">>> ITERATION N. 3\n",
      "\n",
      "===============> HYPERPARAMETERS TUNING\n"
     ]
    },
    {
     "name": "stderr",
     "output_type": "stream",
     "text": [
      "/opt/anaconda3/lib/python3.8/site-packages/imblearn/utils/_validation.py:299: UserWarning: After over-sampling, the number of samples (45992) in class 0 will be larger than the number of samples in the majority class (class #0 -> 22996)\n",
      "  warnings.warn(\n",
      "/Users/Niki/Prediction-of-Active-and-Inactive-Regulatory-Regions-with-Embracenet-Multimodal-Neural-Network-/BIOINF_tesi/models/utils/training_models_multimodal.py:425: ExperimentalWarning: PatientPruner is experimental (supported from v2.8.0). The interface can change in the future.\n",
      "  pruner=optuna.pruners.PatientPruner(optuna.pruners.MedianPruner(), patience=2),\n",
      "\u001b[32m[I 2021-11-01 08:47:15,408]\u001b[0m Using an existing study with name 'GM12878_active_E_vs_inactive_E_EmbraceNetMultimodal_3augmentation' instead of creating a new one.\u001b[0m\n"
     ]
    },
    {
     "name": "stdout",
     "output_type": "stream",
     "text": [
      "Study statistics: \n",
      "  Number of finished trials:  3\n",
      "  Number of pruned trials:  0\n",
      "  Number of complete trials:  3\n",
      "Best trial:\n",
      "  Value:  0.43529699516611925\n",
      "  Params: \n",
      "    CNN_dropout_l0: 0\n",
      "    CNN_dropout_l1: 0\n",
      "    CNN_dropout_l2: 0\n",
      "    CNN_kernel_size_l0: 11\n",
      "    CNN_kernel_size_l1: 11\n",
      "    CNN_kernel_size_l2: 11\n",
      "    CNN_n_layers: 3\n",
      "    CNN_out_channels_l0: 64\n",
      "    CNN_out_channels_l1: 32\n",
      "    CNN_out_channels_l2: 256\n",
      "    EMBRACENET_dropout_l0: 0.5\n",
      "    EMBRACENET_dropout_l1: 0.0\n",
      "    EMBRACENET_embracement_size: 1024\n",
      "    EMBRACENET_n_units_l0: 32\n",
      "    EMBRACENET_n_units_l1: 128\n",
      "    FFNN_dropout_l0: 0.3\n",
      "    FFNN_dropout_l1: 0.4\n",
      "    FFNN_n_layers: 2\n",
      "    FFNN_n_units_l0: 64\n",
      "    FFNN_n_units_l1: 32\n",
      "    lr: 0.0005538051383889666\n",
      "    n_post_layers: 2\n",
      "    optimizer: Nadam\n",
      "    selection_probabilities_FFNN: 0.7317029636086937\n",
      "    weight_decay: 0.0011618132961793042\n",
      "\n",
      "===============> MODEL TESTING\n"
     ]
    },
    {
     "name": "stderr",
     "output_type": "stream",
     "text": [
      "/opt/anaconda3/lib/python3.8/site-packages/imblearn/utils/_validation.py:299: UserWarning: After over-sampling, the number of samples (68916) in class 0 will be larger than the number of samples in the majority class (class #0 -> 34458)\n",
      "  warnings.warn(\n"
     ]
    },
    {
     "name": "stdout",
     "output_type": "stream",
     "text": [
      "AUPRC test score: 0.43224564553345624\n",
      "\n",
      "\n",
      "\n",
      "3-FOLD CROSS-VALIDATION AUPRC TEST SCORE: 0.26883\n"
     ]
    }
   ],
   "source": [
    "kf_CV = Kfold_CV_Multimodal()\n",
    "\n",
    "kf_CV(build_dataloader_pipeline = pipe_data_load,\n",
    "                num_epochs = 100,\n",
    "                n_folds=3,\n",
    "                cell_line=cell_line,\n",
    "                augmentation=True,\n",
    "                model = model,\n",
    "                device = device,\n",
    "                task=task,\n",
    "                sampler = 'TPE',\n",
    "                study_name = f'{cell_line}_{task}_{model.__name__}_augmentation',\n",
    "                test_model_path = f'{cell_line}_{task}_{model.__name__}_augmentation_TEST')"
   ]
  },
  {
   "cell_type": "code",
   "execution_count": 11,
   "metadata": {},
   "outputs": [],
   "source": [
    "results_dict[cell_line][task][f'{model.__name__}_augm'] = kf_CV.scores_dict"
   ]
  },
  {
   "cell_type": "code",
   "execution_count": 12,
   "metadata": {},
   "outputs": [],
   "source": [
    "with open ('results_dict.pickle', 'wb') as fout:\n",
    "    pickle.dump(OrderedDict(results_dict), fout)"
   ]
  },
  {
   "cell_type": "markdown",
   "metadata": {},
   "source": [
    "---\n",
    "---"
   ]
  },
  {
   "cell_type": "markdown",
   "metadata": {},
   "source": [
    "## 2) ACTIVE PROMOTERS vs INACTIVE PROMOTERS"
   ]
  },
  {
   "cell_type": "code",
   "execution_count": 13,
   "metadata": {},
   "outputs": [
    {
     "data": {
      "text/plain": [
       "'active_P_vs_inactive_P'"
      ]
     },
     "execution_count": 13,
     "metadata": {},
     "output_type": "execute_result"
    }
   ],
   "source": [
    "task = TASKS[1]\n",
    "task"
   ]
  },
  {
   "cell_type": "code",
   "execution_count": 14,
   "metadata": {},
   "outputs": [
    {
     "name": "stdout",
     "output_type": "stream",
     "text": [
      "Data Preprocessing Done!\n"
     ]
    }
   ],
   "source": [
    "pipe_data_load = Build_DataLoader_Pipeline(path_name=f'{task}.pickle')"
   ]
  },
  {
   "cell_type": "markdown",
   "metadata": {},
   "source": [
    "---\n",
    "### EMBRACENET"
   ]
  },
  {
   "cell_type": "code",
   "execution_count": 15,
   "metadata": {},
   "outputs": [],
   "source": [
    "model=EmbraceNetMultimodal"
   ]
  },
  {
   "cell_type": "code",
   "execution_count": 16,
   "metadata": {
    "scrolled": true
   },
   "outputs": [
    {
     "name": "stdout",
     "output_type": "stream",
     "text": [
      ">>> ITERATION N. 1\n",
      "\n",
      "===============> HYPERPARAMETERS TUNING\n"
     ]
    },
    {
     "name": "stderr",
     "output_type": "stream",
     "text": [
      "/Users/Niki/Prediction-of-Active-and-Inactive-Regulatory-Regions-with-Embracenet-Multimodal-Neural-Network-/BIOINF_tesi/models/utils/training_models_multimodal.py:425: ExperimentalWarning: PatientPruner is experimental (supported from v2.8.0). The interface can change in the future.\n",
      "  pruner=optuna.pruners.PatientPruner(optuna.pruners.MedianPruner(), patience=2),\n",
      "\u001b[32m[I 2021-10-26 09:38:48,795]\u001b[0m Using an existing study with name 'GM12878_active_P_vs_inactive_P_EmbraceNetMultimodal_1' instead of creating a new one.\u001b[0m\n"
     ]
    },
    {
     "name": "stdout",
     "output_type": "stream",
     "text": [
      "Study statistics: \n",
      "  Number of finished trials:  3\n",
      "  Number of pruned trials:  0\n",
      "  Number of complete trials:  3\n",
      "Best trial:\n",
      "  Value:  0.21729418251835664\n",
      "  Params: \n",
      "    CNN_dropout_l0: 0\n",
      "    CNN_dropout_l1: 0.4\n",
      "    CNN_kernel_size_l0: 5\n",
      "    CNN_kernel_size_l1: 15\n",
      "    CNN_n_layers: 2\n",
      "    CNN_out_channels_l0: 16\n",
      "    CNN_out_channels_l1: 96\n",
      "    EMBRACENET_dropout_l0: 0.0\n",
      "    EMBRACENET_embracement_size: 512\n",
      "    EMBRACENET_n_units_l0: 32\n",
      "    FFNN_dropout_l0: 0.2\n",
      "    FFNN_dropout_l1: 0.3\n",
      "    FFNN_n_layers: 2\n",
      "    FFNN_n_units_l0: 256\n",
      "    FFNN_n_units_l1: 16\n",
      "    lr: 0.00437196967857023\n",
      "    n_post_layers: 1\n",
      "    optimizer: Adam\n",
      "    selection_probabilities_FFNN: 0.030424524407078657\n",
      "    weight_decay: 0.0029910033153657616\n",
      "\n",
      "===============> MODEL TESTING\n"
     ]
    },
    {
     "name": "stderr",
     "output_type": "stream",
     "text": [
      "/Users/Niki/Prediction-of-Active-and-Inactive-Regulatory-Regions-with-Embracenet-Multimodal-Neural-Network-/BIOINF_tesi/models/utils/training_models_multimodal.py:425: ExperimentalWarning: PatientPruner is experimental (supported from v2.8.0). The interface can change in the future.\n",
      "  pruner=optuna.pruners.PatientPruner(optuna.pruners.MedianPruner(), patience=2),\n",
      "\u001b[32m[I 2021-10-26 09:38:49,278]\u001b[0m Using an existing study with name 'GM12878_active_P_vs_inactive_P_EmbraceNetMultimodal_1_2' instead of creating a new one.\u001b[0m\n"
     ]
    },
    {
     "name": "stdout",
     "output_type": "stream",
     "text": [
      "AUPRC test score: 0.20963793791103674\n",
      "\n",
      "\n",
      ">>> ITERATION N. 2\n",
      "\n",
      "===============> HYPERPARAMETERS TUNING\n",
      "Study statistics: \n",
      "  Number of finished trials:  3\n",
      "  Number of pruned trials:  0\n",
      "  Number of complete trials:  3\n",
      "Best trial:\n",
      "  Value:  0.3141121511021271\n",
      "  Params: \n",
      "    CNN_dropout_l0: 0.3\n",
      "    CNN_dropout_l1: 0.5\n",
      "    CNN_dropout_l2: 0.5\n",
      "    CNN_kernel_size_l0: 5\n",
      "    CNN_kernel_size_l1: 11\n",
      "    CNN_kernel_size_l2: 11\n",
      "    CNN_n_layers: 3\n",
      "    CNN_out_channels_l0: 64\n",
      "    CNN_out_channels_l1: 96\n",
      "    CNN_out_channels_l2: 64\n",
      "    EMBRACENET_dropout_l0: 0.0\n",
      "    EMBRACENET_dropout_l1: 0.2\n",
      "    EMBRACENET_embracement_size: 1024\n",
      "    EMBRACENET_n_units_l0: 256\n",
      "    EMBRACENET_n_units_l1: 128\n",
      "    FFNN_dropout_l0: 0.3\n",
      "    FFNN_n_layers: 1\n",
      "    FFNN_n_units_l0: 256\n",
      "    lr: 0.00992654268300641\n",
      "    n_post_layers: 2\n",
      "    optimizer: Adam\n",
      "    selection_probabilities_FFNN: 0.46132381191053307\n",
      "    weight_decay: 0.010793840912758184\n",
      "\n",
      "===============> MODEL TESTING\n",
      "AUPRC test score: 0.13951840998853346\n",
      "\n",
      "\n",
      ">>> ITERATION N. 3\n",
      "\n",
      "===============> HYPERPARAMETERS TUNING\n"
     ]
    },
    {
     "name": "stderr",
     "output_type": "stream",
     "text": [
      "/Users/Niki/Prediction-of-Active-and-Inactive-Regulatory-Regions-with-Embracenet-Multimodal-Neural-Network-/BIOINF_tesi/models/utils/training_models_multimodal.py:425: ExperimentalWarning: PatientPruner is experimental (supported from v2.8.0). The interface can change in the future.\n",
      "  pruner=optuna.pruners.PatientPruner(optuna.pruners.MedianPruner(), patience=2),\n",
      "\u001b[32m[I 2021-10-26 09:38:49,645]\u001b[0m Using an existing study with name 'GM12878_active_P_vs_inactive_P_EmbraceNetMultimodal_1_2_3' instead of creating a new one.\u001b[0m\n"
     ]
    },
    {
     "name": "stdout",
     "output_type": "stream",
     "text": [
      "Study statistics: \n",
      "  Number of finished trials:  3\n",
      "  Number of pruned trials:  0\n",
      "  Number of complete trials:  3\n",
      "Best trial:\n",
      "  Value:  0.3370914852024784\n",
      "  Params: \n",
      "    CNN_dropout_l0: 0.2\n",
      "    CNN_dropout_l1: 0\n",
      "    CNN_kernel_size_l0: 15\n",
      "    CNN_kernel_size_l1: 11\n",
      "    CNN_n_layers: 2\n",
      "    CNN_out_channels_l0: 16\n",
      "    CNN_out_channels_l1: 32\n",
      "    EMBRACENET_dropout_l0: 0.0\n",
      "    EMBRACENET_embracement_size: 512\n",
      "    EMBRACENET_n_units_l0: 256\n",
      "    FFNN_dropout_l0: 0.2\n",
      "    FFNN_dropout_l1: 0.2\n",
      "    FFNN_n_layers: 2\n",
      "    FFNN_n_units_l0: 128\n",
      "    FFNN_n_units_l1: 16\n",
      "    lr: 0.0005848570978119763\n",
      "    n_post_layers: 1\n",
      "    optimizer: Nadam\n",
      "    selection_probabilities_FFNN: 0.40907700790618196\n",
      "    weight_decay: 0.0013101801416131244\n",
      "\n",
      "===============> MODEL TESTING\n",
      "AUPRC test score: 0.35296991432231567\n",
      "\n",
      "\n",
      "\n",
      "3-FOLD CROSS-VALIDATION AUPRC TEST SCORE: 0.23404\n"
     ]
    }
   ],
   "source": [
    "kf_CV = Kfold_CV_Multimodal()\n",
    "\n",
    "kf_CV(build_dataloader_pipeline = pipe_data_load,\n",
    "                num_epochs = 100,\n",
    "                n_folds=3,\n",
    "                cell_line=cell_line,\n",
    "                augmentation=False,\n",
    "                model = model,\n",
    "                device = device,\n",
    "                task=task,\n",
    "                sampler = 'TPE',\n",
    "                study_name = f'{cell_line}_{task}_{model.__name__}',\n",
    "                test_model_path = f'{cell_line}_{task}_{model.__name__}_TEST')"
   ]
  },
  {
   "cell_type": "code",
   "execution_count": 17,
   "metadata": {},
   "outputs": [],
   "source": [
    "results_dict[cell_line][task][model.__name__] = kf_CV.scores_dict"
   ]
  },
  {
   "cell_type": "code",
   "execution_count": 18,
   "metadata": {},
   "outputs": [],
   "source": [
    "with open ('results_dict.pickle', 'wb') as fout:\n",
    "    pickle.dump(OrderedDict(results_dict), fout)"
   ]
  },
  {
   "cell_type": "markdown",
   "metadata": {},
   "source": [
    "### CONCATNET"
   ]
  },
  {
   "cell_type": "code",
   "execution_count": 15,
   "metadata": {},
   "outputs": [],
   "source": [
    "model=ConcatNetMultimodal"
   ]
  },
  {
   "cell_type": "code",
   "execution_count": 16,
   "metadata": {
    "scrolled": true
   },
   "outputs": [
    {
     "name": "stdout",
     "output_type": "stream",
     "text": [
      ">>> ITERATION N. 1\n",
      "\n",
      "===============> HYPERPARAMETERS TUNING\n"
     ]
    },
    {
     "name": "stderr",
     "output_type": "stream",
     "text": [
      "/Users/Niki/Prediction-of-Active-and-Inactive-Regulatory-Regions-with-Embracenet-Multimodal-Neural-Network-/BIOINF_tesi/models/utils/training_models_multimodal.py:425: ExperimentalWarning: PatientPruner is experimental (supported from v2.8.0). The interface can change in the future.\n",
      "  pruner=optuna.pruners.PatientPruner(optuna.pruners.MedianPruner(), patience=2),\n",
      "\u001b[32m[I 2021-10-28 09:21:00,239]\u001b[0m Using an existing study with name 'GM12878_active_P_vs_inactive_P_ConcatNetMultimodal_1' instead of creating a new one.\u001b[0m\n"
     ]
    },
    {
     "name": "stdout",
     "output_type": "stream",
     "text": [
      "Study statistics: \n",
      "  Number of finished trials:  3\n",
      "  Number of pruned trials:  0\n",
      "  Number of complete trials:  3\n",
      "Best trial:\n",
      "  Value:  0.20468974167824971\n",
      "  Params: \n",
      "    CNN_dropout_l0: 0.2\n",
      "    CNN_kernel_size_l0: 5\n",
      "    CNN_n_layers: 1\n",
      "    CNN_out_channels_l0: 32\n",
      "    CONCATNET_dropout_l0: 0.2\n",
      "    CONCATNET_dropout_l1: 0.0\n",
      "    CONCATNET_n_post_layers: 2\n",
      "    CONCATNET_n_units_l0: 1024\n",
      "    CONCATNET_n_units_l1: 64\n",
      "    FFNN_dropout_l0: 0.3\n",
      "    FFNN_dropout_l1: 0.0\n",
      "    FFNN_dropout_l2: 0.4\n",
      "    FFNN_dropout_l3: 0.4\n",
      "    FFNN_n_layers: 4\n",
      "    FFNN_n_units_l0: 32\n",
      "    FFNN_n_units_l1: 128\n",
      "    FFNN_n_units_l2: 16\n",
      "    FFNN_n_units_l3: 32\n",
      "    lr: 0.008181966656919247\n",
      "    optimizer: Adam\n",
      "    weight_decay: 0.02013226765271165\n",
      "\n",
      "===============> MODEL TESTING\n",
      "AUPRC test score: 0.21649410017931536\n",
      "\n",
      "\n",
      ">>> ITERATION N. 2\n",
      "\n",
      "===============> HYPERPARAMETERS TUNING\n"
     ]
    },
    {
     "name": "stderr",
     "output_type": "stream",
     "text": [
      "/Users/Niki/Prediction-of-Active-and-Inactive-Regulatory-Regions-with-Embracenet-Multimodal-Neural-Network-/BIOINF_tesi/models/utils/training_models_multimodal.py:425: ExperimentalWarning: PatientPruner is experimental (supported from v2.8.0). The interface can change in the future.\n",
      "  pruner=optuna.pruners.PatientPruner(optuna.pruners.MedianPruner(), patience=2),\n",
      "\u001b[32m[I 2021-10-28 09:21:00,846]\u001b[0m Using an existing study with name 'GM12878_active_P_vs_inactive_P_ConcatNetMultimodal_1_2' instead of creating a new one.\u001b[0m\n"
     ]
    },
    {
     "name": "stdout",
     "output_type": "stream",
     "text": [
      "Study statistics: \n",
      "  Number of finished trials:  3\n",
      "  Number of pruned trials:  0\n",
      "  Number of complete trials:  3\n",
      "Best trial:\n",
      "  Value:  0.33356500571874265\n",
      "  Params: \n",
      "    CNN_dropout_l0: 0.3\n",
      "    CNN_dropout_l1: 0\n",
      "    CNN_kernel_size_l0: 15\n",
      "    CNN_kernel_size_l1: 11\n",
      "    CNN_n_layers: 2\n",
      "    CNN_out_channels_l0: 64\n",
      "    CNN_out_channels_l1: 32\n",
      "    CONCATNET_dropout_l0: 0.5\n",
      "    CONCATNET_dropout_l1: 0.0\n",
      "    CONCATNET_n_post_layers: 2\n",
      "    CONCATNET_n_units_l0: 512\n",
      "    CONCATNET_n_units_l1: 32\n",
      "    FFNN_dropout_l0: 0.3\n",
      "    FFNN_n_layers: 1\n",
      "    FFNN_n_units_l0: 64\n",
      "    lr: 0.00010275401608951472\n",
      "    optimizer: RMSprop\n",
      "    weight_decay: 0.0014610045369150403\n",
      "\n",
      "===============> MODEL TESTING\n",
      "AUPRC test score: 0.3154358438817753\n",
      "\n",
      "\n",
      ">>> ITERATION N. 3\n"
     ]
    },
    {
     "name": "stderr",
     "output_type": "stream",
     "text": [
      "/Users/Niki/Prediction-of-Active-and-Inactive-Regulatory-Regions-with-Embracenet-Multimodal-Neural-Network-/BIOINF_tesi/models/utils/training_models_multimodal.py:425: ExperimentalWarning: PatientPruner is experimental (supported from v2.8.0). The interface can change in the future.\n",
      "  pruner=optuna.pruners.PatientPruner(optuna.pruners.MedianPruner(), patience=2),\n",
      "\u001b[32m[I 2021-10-28 09:21:01,219]\u001b[0m Using an existing study with name 'GM12878_active_P_vs_inactive_P_ConcatNetMultimodal_1_2_3' instead of creating a new one.\u001b[0m\n"
     ]
    },
    {
     "name": "stdout",
     "output_type": "stream",
     "text": [
      "\n",
      "===============> HYPERPARAMETERS TUNING\n",
      "Study statistics: \n",
      "  Number of finished trials:  3\n",
      "  Number of pruned trials:  0\n",
      "  Number of complete trials:  3\n",
      "Best trial:\n",
      "  Value:  0.2947856957969999\n",
      "  Params: \n",
      "    CNN_dropout_l0: 0\n",
      "    CNN_dropout_l1: 0.4\n",
      "    CNN_dropout_l2: 0\n",
      "    CNN_kernel_size_l0: 15\n",
      "    CNN_kernel_size_l1: 5\n",
      "    CNN_kernel_size_l2: 15\n",
      "    CNN_n_layers: 3\n",
      "    CNN_out_channels_l0: 64\n",
      "    CNN_out_channels_l1: 64\n",
      "    CNN_out_channels_l2: 96\n",
      "    CONCATNET_dropout_l0: 0.5\n",
      "    CONCATNET_n_post_layers: 1\n",
      "    CONCATNET_n_units_l0: 512\n",
      "    FFNN_dropout_l0: 0.2\n",
      "    FFNN_dropout_l1: 0.2\n",
      "    FFNN_n_layers: 2\n",
      "    FFNN_n_units_l0: 32\n",
      "    FFNN_n_units_l1: 16\n",
      "    lr: 0.03181017468043109\n",
      "    optimizer: RMSprop\n",
      "    weight_decay: 0.0001780464173316517\n",
      "\n",
      "===============> MODEL TESTING\n",
      "AUPRC test score: 0.19402544532616225\n",
      "\n",
      "\n",
      "\n",
      "3-FOLD CROSS-VALIDATION AUPRC TEST SCORE: 0.24199\n"
     ]
    }
   ],
   "source": [
    "kf_CV = Kfold_CV_Multimodal()\n",
    "\n",
    "kf_CV(build_dataloader_pipeline = pipe_data_load,\n",
    "                num_epochs = 100,\n",
    "                n_folds=3,\n",
    "                cell_line=cell_line,\n",
    "                augmentation=False,\n",
    "                model = model,\n",
    "                device = device,\n",
    "                task=task,\n",
    "                sampler = 'TPE',\n",
    "                study_name = f'{cell_line}_{task}_{model.__name__}',\n",
    "                test_model_path = f'{cell_line}_{task}_{model.__name__}_TEST')"
   ]
  },
  {
   "cell_type": "code",
   "execution_count": 17,
   "metadata": {},
   "outputs": [],
   "source": [
    "results_dict[cell_line][task][model.__name__] = kf_CV.scores_dict"
   ]
  },
  {
   "cell_type": "code",
   "execution_count": 18,
   "metadata": {},
   "outputs": [],
   "source": [
    "with open ('results_dict.pickle', 'wb') as fout:\n",
    "    pickle.dump(OrderedDict(results_dict), fout)"
   ]
  },
  {
   "cell_type": "markdown",
   "metadata": {},
   "source": [
    "---\n",
    "## AUGMENTATION"
   ]
  },
  {
   "cell_type": "markdown",
   "metadata": {},
   "source": [
    "### EMBRACENET"
   ]
  },
  {
   "cell_type": "code",
   "execution_count": 15,
   "metadata": {},
   "outputs": [],
   "source": [
    "model=EmbraceNetMultimodal"
   ]
  },
  {
   "cell_type": "code",
   "execution_count": 16,
   "metadata": {
    "scrolled": true,
    "tags": []
   },
   "outputs": [
    {
     "name": "stdout",
     "output_type": "stream",
     "text": [
      ">>> ITERATION N. 1\n",
      "\n",
      "===============> HYPERPARAMETERS TUNING\n"
     ]
    },
    {
     "name": "stderr",
     "output_type": "stream",
     "text": [
      "/opt/anaconda3/lib/python3.8/site-packages/imblearn/utils/_validation.py:299: UserWarning: After over-sampling, the number of samples (76218) in class 0 will be larger than the number of samples in the majority class (class #0 -> 38109)\n",
      "  warnings.warn(\n",
      "/Users/Niki/Prediction-of-Active-and-Inactive-Regulatory-Regions-with-Embracenet-Multimodal-Neural-Network-/BIOINF_tesi/models/utils/training_models_multimodal.py:425: ExperimentalWarning: PatientPruner is experimental (supported from v2.8.0). The interface can change in the future.\n",
      "  pruner=optuna.pruners.PatientPruner(optuna.pruners.MedianPruner(), patience=2),\n",
      "\u001b[32m[I 2021-11-01 08:48:29,886]\u001b[0m Using an existing study with name 'GM12878_active_P_vs_inactive_P_EmbraceNetMultimodal_1augmentation' instead of creating a new one.\u001b[0m\n",
      "/opt/anaconda3/lib/python3.8/site-packages/imblearn/utils/_validation.py:299: UserWarning: After over-sampling, the number of samples (114610) in class 0 will be larger than the number of samples in the majority class (class #0 -> 57305)\n",
      "  warnings.warn(\n"
     ]
    },
    {
     "name": "stdout",
     "output_type": "stream",
     "text": [
      "Study statistics: \n",
      "  Number of finished trials:  3\n",
      "  Number of pruned trials:  0\n",
      "  Number of complete trials:  3\n",
      "Best trial:\n",
      "  Value:  0.21253562446608262\n",
      "  Params: \n",
      "    CNN_dropout_l0: 0\n",
      "    CNN_dropout_l1: 0.4\n",
      "    CNN_kernel_size_l0: 15\n",
      "    CNN_kernel_size_l1: 5\n",
      "    CNN_n_layers: 2\n",
      "    CNN_out_channels_l0: 16\n",
      "    CNN_out_channels_l1: 96\n",
      "    EMBRACENET_dropout_l0: 0.0\n",
      "    EMBRACENET_embracement_size: 768\n",
      "    EMBRACENET_n_units_l0: 32\n",
      "    FFNN_dropout_l0: 0.4\n",
      "    FFNN_dropout_l1: 0.3\n",
      "    FFNN_dropout_l2: 0.4\n",
      "    FFNN_n_layers: 3\n",
      "    FFNN_n_units_l0: 256\n",
      "    FFNN_n_units_l1: 16\n",
      "    FFNN_n_units_l2: 64\n",
      "    lr: 0.0006529636473777145\n",
      "    n_post_layers: 1\n",
      "    optimizer: RMSprop\n",
      "    selection_probabilities_FFNN: 0.5473965392569035\n",
      "    weight_decay: 0.001396625595818958\n",
      "\n",
      "===============> MODEL TESTING\n",
      "AUPRC test score: 0.23659161867678605\n",
      "\n",
      "\n",
      ">>> ITERATION N. 2\n",
      "\n",
      "===============> HYPERPARAMETERS TUNING\n"
     ]
    },
    {
     "name": "stderr",
     "output_type": "stream",
     "text": [
      "/opt/anaconda3/lib/python3.8/site-packages/imblearn/utils/_validation.py:299: UserWarning: After over-sampling, the number of samples (76406) in class 0 will be larger than the number of samples in the majority class (class #0 -> 38203)\n",
      "  warnings.warn(\n",
      "/Users/Niki/Prediction-of-Active-and-Inactive-Regulatory-Regions-with-Embracenet-Multimodal-Neural-Network-/BIOINF_tesi/models/utils/training_models_multimodal.py:425: ExperimentalWarning: PatientPruner is experimental (supported from v2.8.0). The interface can change in the future.\n",
      "  pruner=optuna.pruners.PatientPruner(optuna.pruners.MedianPruner(), patience=2),\n",
      "\u001b[32m[I 2021-11-01 08:50:23,677]\u001b[0m Using an existing study with name 'GM12878_active_P_vs_inactive_P_EmbraceNetMultimodal_2augmentation' instead of creating a new one.\u001b[0m\n"
     ]
    },
    {
     "name": "stdout",
     "output_type": "stream",
     "text": [
      "Study statistics: \n",
      "  Number of finished trials:  3\n",
      "  Number of pruned trials:  0\n",
      "  Number of complete trials:  3\n",
      "Best trial:\n",
      "  Value:  0.3501731145924581\n",
      "  Params: \n",
      "    CNN_dropout_l0: 0.2\n",
      "    CNN_kernel_size_l0: 5\n",
      "    CNN_n_layers: 1\n",
      "    CNN_out_channels_l0: 64\n",
      "    EMBRACENET_embracement_size: 512\n",
      "    FFNN_dropout_l0: 0.4\n",
      "    FFNN_dropout_l1: 0.3\n",
      "    FFNN_n_layers: 2\n",
      "    FFNN_n_units_l0: 128\n",
      "    FFNN_n_units_l1: 16\n",
      "    lr: 0.0007122641707093011\n",
      "    n_post_layers: 0\n",
      "    optimizer: Nadam\n",
      "    selection_probabilities_FFNN: 0.9812496642567293\n",
      "    weight_decay: 0.0002782035416725741\n",
      "\n",
      "===============> MODEL TESTING\n"
     ]
    },
    {
     "name": "stderr",
     "output_type": "stream",
     "text": [
      "/opt/anaconda3/lib/python3.8/site-packages/imblearn/utils/_validation.py:299: UserWarning: After over-sampling, the number of samples (114388) in class 0 will be larger than the number of samples in the majority class (class #0 -> 57194)\n",
      "  warnings.warn(\n"
     ]
    },
    {
     "name": "stdout",
     "output_type": "stream",
     "text": [
      "AUPRC test score: 0.3386974148486699\n",
      "\n",
      "\n",
      ">>> ITERATION N. 3\n",
      "\n",
      "===============> HYPERPARAMETERS TUNING\n"
     ]
    },
    {
     "name": "stderr",
     "output_type": "stream",
     "text": [
      "/opt/anaconda3/lib/python3.8/site-packages/imblearn/utils/_validation.py:299: UserWarning: After over-sampling, the number of samples (76238) in class 0 will be larger than the number of samples in the majority class (class #0 -> 38119)\n",
      "  warnings.warn(\n",
      "/Users/Niki/Prediction-of-Active-and-Inactive-Regulatory-Regions-with-Embracenet-Multimodal-Neural-Network-/BIOINF_tesi/models/utils/training_models_multimodal.py:425: ExperimentalWarning: PatientPruner is experimental (supported from v2.8.0). The interface can change in the future.\n",
      "  pruner=optuna.pruners.PatientPruner(optuna.pruners.MedianPruner(), patience=2),\n",
      "\u001b[32m[I 2021-11-01 08:52:17,837]\u001b[0m Using an existing study with name 'GM12878_active_P_vs_inactive_P_EmbraceNetMultimodal_3augmentation' instead of creating a new one.\u001b[0m\n",
      "/opt/anaconda3/lib/python3.8/site-packages/imblearn/utils/_validation.py:299: UserWarning: After over-sampling, the number of samples (114382) in class 0 will be larger than the number of samples in the majority class (class #0 -> 57191)\n",
      "  warnings.warn(\n"
     ]
    },
    {
     "name": "stdout",
     "output_type": "stream",
     "text": [
      "Study statistics: \n",
      "  Number of finished trials:  3\n",
      "  Number of pruned trials:  0\n",
      "  Number of complete trials:  3\n",
      "Best trial:\n",
      "  Value:  0.22047835820430478\n",
      "  Params: \n",
      "    CNN_dropout_l0: 0\n",
      "    CNN_dropout_l1: 0.4\n",
      "    CNN_dropout_l2: 0\n",
      "    CNN_dropout_l3: 0.4\n",
      "    CNN_kernel_size_l0: 5\n",
      "    CNN_kernel_size_l1: 5\n",
      "    CNN_kernel_size_l2: 11\n",
      "    CNN_kernel_size_l3: 15\n",
      "    CNN_n_layers: 4\n",
      "    CNN_out_channels_l0: 16\n",
      "    CNN_out_channels_l1: 32\n",
      "    CNN_out_channels_l2: 256\n",
      "    CNN_out_channels_l3: 512\n",
      "    EMBRACENET_dropout_l0: 0.3\n",
      "    EMBRACENET_dropout_l1: 0.3\n",
      "    EMBRACENET_embracement_size: 512\n",
      "    EMBRACENET_n_units_l0: 256\n",
      "    EMBRACENET_n_units_l1: 256\n",
      "    FFNN_dropout_l0: 0.0\n",
      "    FFNN_dropout_l1: 0.2\n",
      "    FFNN_n_layers: 2\n",
      "    FFNN_n_units_l0: 256\n",
      "    FFNN_n_units_l1: 32\n",
      "    lr: 3.3221917099914835e-05\n",
      "    n_post_layers: 2\n",
      "    optimizer: Nadam\n",
      "    selection_probabilities_FFNN: 0.3903745850920022\n",
      "    weight_decay: 0.011166954802817972\n",
      "\n",
      "===============> MODEL TESTING\n",
      "AUPRC test score: 0.23555847789458845\n",
      "\n",
      "\n",
      "\n",
      "3-FOLD CROSS-VALIDATION AUPRC TEST SCORE: 0.27028\n"
     ]
    }
   ],
   "source": [
    "kf_CV = Kfold_CV_Multimodal()\n",
    "\n",
    "kf_CV(build_dataloader_pipeline = pipe_data_load,\n",
    "                num_epochs = 100,\n",
    "                n_folds=3,\n",
    "                cell_line=cell_line,\n",
    "                augmentation=True,\n",
    "                model = model,\n",
    "                device = device,\n",
    "                task=task,\n",
    "                sampler = 'TPE',\n",
    "                study_name = f'{cell_line}_{task}_{model.__name__}_augmentation',\n",
    "                test_model_path = f'{cell_line}_{task}_{model.__name__}_augmentation_TEST')"
   ]
  },
  {
   "cell_type": "code",
   "execution_count": 17,
   "metadata": {},
   "outputs": [],
   "source": [
    "results_dict[cell_line][task][f'{model.__name__}_augm'] = kf_CV.scores_dict"
   ]
  },
  {
   "cell_type": "code",
   "execution_count": 18,
   "metadata": {},
   "outputs": [],
   "source": [
    "with open ('results_dict.pickle', 'wb') as fout:\n",
    "    pickle.dump(OrderedDict(results_dict), fout)"
   ]
  },
  {
   "cell_type": "markdown",
   "metadata": {},
   "source": [
    "---\n",
    "---"
   ]
  },
  {
   "cell_type": "markdown",
   "metadata": {},
   "source": [
    "## 3) ACTIVE ENHANCERS vs ACTIVE PROMOTERS"
   ]
  },
  {
   "cell_type": "code",
   "execution_count": 19,
   "metadata": {},
   "outputs": [
    {
     "data": {
      "text/plain": [
       "'active_E_vs_active_P'"
      ]
     },
     "execution_count": 19,
     "metadata": {},
     "output_type": "execute_result"
    }
   ],
   "source": [
    "task = TASKS[2]\n",
    "task"
   ]
  },
  {
   "cell_type": "code",
   "execution_count": 20,
   "metadata": {},
   "outputs": [
    {
     "name": "stdout",
     "output_type": "stream",
     "text": [
      "Data Preprocessing Done!\n"
     ]
    }
   ],
   "source": [
    "pipe_data_load = Build_DataLoader_Pipeline(path_name=f'{task}.pickle')"
   ]
  },
  {
   "cell_type": "markdown",
   "metadata": {},
   "source": [
    "---\n",
    "### EMBRACENET"
   ]
  },
  {
   "cell_type": "code",
   "execution_count": 21,
   "metadata": {},
   "outputs": [],
   "source": [
    "model=EmbraceNetMultimodal"
   ]
  },
  {
   "cell_type": "code",
   "execution_count": 22,
   "metadata": {
    "scrolled": true
   },
   "outputs": [
    {
     "name": "stderr",
     "output_type": "stream",
     "text": [
      "/Users/Niki/Prediction-of-Active-and-Inactive-Regulatory-Regions-with-Embracenet-Multimodal-Neural-Network-/BIOINF_tesi/models/utils/training_models_multimodal.py:425: ExperimentalWarning: PatientPruner is experimental (supported from v2.8.0). The interface can change in the future.\n",
      "  pruner=optuna.pruners.PatientPruner(optuna.pruners.MedianPruner(), patience=2),\n",
      "\u001b[32m[I 2021-10-26 09:38:54,788]\u001b[0m Using an existing study with name 'GM12878_active_E_vs_active_P_EmbraceNetMultimodal_1' instead of creating a new one.\u001b[0m\n"
     ]
    },
    {
     "name": "stdout",
     "output_type": "stream",
     "text": [
      ">>> ITERATION N. 1\n",
      "\n",
      "===============> HYPERPARAMETERS TUNING\n"
     ]
    },
    {
     "name": "stderr",
     "output_type": "stream",
     "text": [
      "/Users/Niki/Prediction-of-Active-and-Inactive-Regulatory-Regions-with-Embracenet-Multimodal-Neural-Network-/BIOINF_tesi/models/utils/training_models_multimodal.py:425: ExperimentalWarning: PatientPruner is experimental (supported from v2.8.0). The interface can change in the future.\n",
      "  pruner=optuna.pruners.PatientPruner(optuna.pruners.MedianPruner(), patience=2),\n",
      "\u001b[32m[I 2021-10-26 09:38:55,207]\u001b[0m Using an existing study with name 'GM12878_active_E_vs_active_P_EmbraceNetMultimodal_1_2' instead of creating a new one.\u001b[0m\n"
     ]
    },
    {
     "name": "stdout",
     "output_type": "stream",
     "text": [
      "Study statistics: \n",
      "  Number of finished trials:  3\n",
      "  Number of pruned trials:  0\n",
      "  Number of complete trials:  3\n",
      "Best trial:\n",
      "  Value:  0.7759048336611933\n",
      "  Params: \n",
      "    CNN_dropout_l0: 0.3\n",
      "    CNN_dropout_l1: 0.4\n",
      "    CNN_dropout_l2: 0.5\n",
      "    CNN_kernel_size_l0: 5\n",
      "    CNN_kernel_size_l1: 11\n",
      "    CNN_kernel_size_l2: 15\n",
      "    CNN_n_layers: 3\n",
      "    CNN_out_channels_l0: 32\n",
      "    CNN_out_channels_l1: 96\n",
      "    CNN_out_channels_l2: 64\n",
      "    EMBRACENET_embracement_size: 512\n",
      "    FFNN_dropout_l0: 0.4\n",
      "    FFNN_dropout_l1: 0.4\n",
      "    FFNN_n_layers: 2\n",
      "    FFNN_n_units_l0: 32\n",
      "    FFNN_n_units_l1: 128\n",
      "    lr: 0.00663535768061068\n",
      "    n_post_layers: 0\n",
      "    optimizer: Nadam\n",
      "    selection_probabilities_FFNN: 0.007283701190204717\n",
      "    weight_decay: 0.0006764757165046543\n",
      "\n",
      "===============> MODEL TESTING\n",
      "AUPRC test score: 0.7656655110728201\n",
      "\n",
      "\n",
      ">>> ITERATION N. 2\n",
      "\n",
      "===============> HYPERPARAMETERS TUNING\n",
      "Study statistics: \n",
      "  Number of finished trials:  3\n",
      "  Number of pruned trials:  0\n",
      "  Number of complete trials:  3\n",
      "Best trial:\n"
     ]
    },
    {
     "name": "stderr",
     "output_type": "stream",
     "text": [
      "/Users/Niki/Prediction-of-Active-and-Inactive-Regulatory-Regions-with-Embracenet-Multimodal-Neural-Network-/BIOINF_tesi/models/utils/training_models_multimodal.py:425: ExperimentalWarning: PatientPruner is experimental (supported from v2.8.0). The interface can change in the future.\n",
      "  pruner=optuna.pruners.PatientPruner(optuna.pruners.MedianPruner(), patience=2),\n",
      "\u001b[32m[I 2021-10-26 09:38:55,425]\u001b[0m Using an existing study with name 'GM12878_active_E_vs_active_P_EmbraceNetMultimodal_1_2_3' instead of creating a new one.\u001b[0m\n"
     ]
    },
    {
     "name": "stdout",
     "output_type": "stream",
     "text": [
      "  Value:  0.8247594877279852\n",
      "  Params: \n",
      "    CNN_dropout_l0: 0\n",
      "    CNN_dropout_l1: 0\n",
      "    CNN_kernel_size_l0: 11\n",
      "    CNN_kernel_size_l1: 15\n",
      "    CNN_n_layers: 2\n",
      "    CNN_out_channels_l0: 16\n",
      "    CNN_out_channels_l1: 64\n",
      "    EMBRACENET_embracement_size: 1024\n",
      "    FFNN_dropout_l0: 0.4\n",
      "    FFNN_n_layers: 1\n",
      "    FFNN_n_units_l0: 64\n",
      "    lr: 0.0023934027706348513\n",
      "    n_post_layers: 0\n",
      "    optimizer: Nadam\n",
      "    selection_probabilities_FFNN: 0.414316578594055\n",
      "    weight_decay: 0.0073467421032437545\n",
      "\n",
      "===============> MODEL TESTING\n",
      "AUPRC test score: 0.7015546767916032\n",
      "\n",
      "\n",
      ">>> ITERATION N. 3\n",
      "\n",
      "===============> HYPERPARAMETERS TUNING\n",
      "Study statistics: \n",
      "  Number of finished trials:  3\n",
      "  Number of pruned trials:  0\n",
      "  Number of complete trials:  3\n",
      "Best trial:\n",
      "  Value:  0.7699332338966253\n",
      "  Params: \n",
      "    CNN_dropout_l0: 0.2\n",
      "    CNN_kernel_size_l0: 11\n",
      "    CNN_n_layers: 1\n",
      "    CNN_out_channels_l0: 32\n",
      "    EMBRACENET_embracement_size: 1024\n",
      "    FFNN_dropout_l0: 0.2\n",
      "    FFNN_dropout_l1: 0.0\n",
      "    FFNN_n_layers: 2\n",
      "    FFNN_n_units_l0: 128\n",
      "    FFNN_n_units_l1: 64\n",
      "    lr: 1.0162448802719742e-05\n",
      "    n_post_layers: 0\n",
      "    optimizer: Nadam\n",
      "    selection_probabilities_FFNN: 0.0587536773247469\n",
      "    weight_decay: 0.04891076316121798\n",
      "\n",
      "===============> MODEL TESTING\n",
      "AUPRC test score: 0.7766009859373774\n",
      "\n",
      "\n",
      "\n",
      "3-FOLD CROSS-VALIDATION AUPRC TEST SCORE: 0.74794\n"
     ]
    }
   ],
   "source": [
    "kf_CV = Kfold_CV_Multimodal()\n",
    "\n",
    "kf_CV(build_dataloader_pipeline = pipe_data_load,\n",
    "                num_epochs = 100,\n",
    "                n_folds=3,\n",
    "                cell_line=cell_line,\n",
    "                augmentation=False,\n",
    "                model = model,\n",
    "                device = device,\n",
    "                task=task,\n",
    "                sampler = 'TPE',\n",
    "                study_name = f'{cell_line}_{task}_{model.__name__}',\n",
    "                test_model_path = f'{cell_line}_{task}_{model.__name__}_TEST')"
   ]
  },
  {
   "cell_type": "code",
   "execution_count": 23,
   "metadata": {},
   "outputs": [],
   "source": [
    "results_dict[cell_line][task][model.__name__] = kf_CV.scores_dict"
   ]
  },
  {
   "cell_type": "code",
   "execution_count": 24,
   "metadata": {},
   "outputs": [],
   "source": [
    "with open ('results_dict.pickle', 'wb') as fout:\n",
    "    pickle.dump(OrderedDict(results_dict), fout)"
   ]
  },
  {
   "cell_type": "markdown",
   "metadata": {},
   "source": [
    "### CONCATNET"
   ]
  },
  {
   "cell_type": "code",
   "execution_count": 21,
   "metadata": {},
   "outputs": [],
   "source": [
    "model=ConcatNetMultimodal"
   ]
  },
  {
   "cell_type": "code",
   "execution_count": 22,
   "metadata": {
    "scrolled": true
   },
   "outputs": [
    {
     "name": "stderr",
     "output_type": "stream",
     "text": [
      "/Users/Niki/Prediction-of-Active-and-Inactive-Regulatory-Regions-with-Embracenet-Multimodal-Neural-Network-/BIOINF_tesi/models/utils/training_models_multimodal.py:425: ExperimentalWarning: PatientPruner is experimental (supported from v2.8.0). The interface can change in the future.\n",
      "  pruner=optuna.pruners.PatientPruner(optuna.pruners.MedianPruner(), patience=2),\n",
      "\u001b[32m[I 2021-10-28 09:21:06,237]\u001b[0m Using an existing study with name 'GM12878_active_E_vs_active_P_ConcatNetMultimodal_1' instead of creating a new one.\u001b[0m\n"
     ]
    },
    {
     "name": "stdout",
     "output_type": "stream",
     "text": [
      ">>> ITERATION N. 1\n",
      "\n",
      "===============> HYPERPARAMETERS TUNING\n",
      "Study statistics: \n",
      "  Number of finished trials:  3\n",
      "  Number of pruned trials:  0\n",
      "  Number of complete trials:  3\n",
      "Best trial:\n",
      "  Value:  0.8263218400771184\n",
      "  Params: \n",
      "    CNN_dropout_l0: 0.3\n",
      "    CNN_dropout_l1: 0.5\n",
      "    CNN_kernel_size_l0: 11\n",
      "    CNN_kernel_size_l1: 11\n",
      "    CNN_n_layers: 2\n",
      "    CNN_out_channels_l0: 16\n",
      "    CNN_out_channels_l1: 96\n",
      "    CONCATNET_dropout_l0: 0.3\n",
      "    CONCATNET_n_post_layers: 1\n",
      "    CONCATNET_n_units_l0: 512\n",
      "    FFNN_dropout_l0: 0.4\n",
      "    FFNN_n_layers: 1\n",
      "    FFNN_n_units_l0: 128\n",
      "    lr: 0.0026228519175299832\n",
      "    optimizer: Nadam\n",
      "    weight_decay: 0.000366762230416734\n",
      "\n",
      "===============> MODEL TESTING\n"
     ]
    },
    {
     "name": "stderr",
     "output_type": "stream",
     "text": [
      "/Users/Niki/Prediction-of-Active-and-Inactive-Regulatory-Regions-with-Embracenet-Multimodal-Neural-Network-/BIOINF_tesi/models/utils/training_models_multimodal.py:425: ExperimentalWarning: PatientPruner is experimental (supported from v2.8.0). The interface can change in the future.\n",
      "  pruner=optuna.pruners.PatientPruner(optuna.pruners.MedianPruner(), patience=2),\n",
      "\u001b[32m[I 2021-10-28 09:21:06,480]\u001b[0m Using an existing study with name 'GM12878_active_E_vs_active_P_ConcatNetMultimodal_1_2' instead of creating a new one.\u001b[0m\n"
     ]
    },
    {
     "name": "stdout",
     "output_type": "stream",
     "text": [
      "AUPRC test score: 0.8472447574525652\n",
      "\n",
      "\n",
      ">>> ITERATION N. 2\n",
      "\n",
      "===============> HYPERPARAMETERS TUNING\n",
      "Study statistics: \n",
      "  Number of finished trials:  3\n",
      "  Number of pruned trials:  0\n",
      "  Number of complete trials:  3\n",
      "Best trial:\n",
      "  Value:  0.7568448778828911\n",
      "  Params: \n",
      "    CNN_dropout_l0: 0.2\n",
      "    CNN_dropout_l1: 0.4\n",
      "    CNN_dropout_l2: 0.5\n",
      "    CNN_dropout_l3: 0.4\n",
      "    CNN_kernel_size_l0: 11\n",
      "    CNN_kernel_size_l1: 11\n",
      "    CNN_kernel_size_l2: 11\n",
      "    CNN_kernel_size_l3: 11\n",
      "    CNN_n_layers: 4\n",
      "    CNN_out_channels_l0: 64\n",
      "    CNN_out_channels_l1: 64\n",
      "    CNN_out_channels_l2: 256\n",
      "    CNN_out_channels_l3: 128\n",
      "    CONCATNET_dropout_l0: 0.0\n",
      "    CONCATNET_n_post_layers: 1\n",
      "    CONCATNET_n_units_l0: 512\n",
      "    FFNN_dropout_l0: 0.4\n",
      "    FFNN_dropout_l1: 0.3\n",
      "    FFNN_dropout_l2: 0.5\n",
      "    FFNN_n_layers: 3\n",
      "    FFNN_n_units_l0: 32\n",
      "    FFNN_n_units_l1: 16\n",
      "    FFNN_n_units_l2: 64\n",
      "    lr: 0.0024087252387324913\n",
      "    optimizer: RMSprop\n",
      "    weight_decay: 0.025611621335024943\n",
      "\n",
      "===============> MODEL TESTING\n"
     ]
    },
    {
     "name": "stderr",
     "output_type": "stream",
     "text": [
      "/Users/Niki/Prediction-of-Active-and-Inactive-Regulatory-Regions-with-Embracenet-Multimodal-Neural-Network-/BIOINF_tesi/models/utils/training_models_multimodal.py:425: ExperimentalWarning: PatientPruner is experimental (supported from v2.8.0). The interface can change in the future.\n",
      "  pruner=optuna.pruners.PatientPruner(optuna.pruners.MedianPruner(), patience=2),\n",
      "\u001b[32m[I 2021-10-28 09:21:06,706]\u001b[0m Using an existing study with name 'GM12878_active_E_vs_active_P_ConcatNetMultimodal_1_2_3' instead of creating a new one.\u001b[0m\n"
     ]
    },
    {
     "name": "stdout",
     "output_type": "stream",
     "text": [
      "AUPRC test score: 0.7825946225824127\n",
      "\n",
      "\n",
      ">>> ITERATION N. 3\n",
      "\n",
      "===============> HYPERPARAMETERS TUNING\n",
      "Study statistics: \n",
      "  Number of finished trials:  3\n",
      "  Number of pruned trials:  0\n",
      "  Number of complete trials:  3\n",
      "Best trial:\n",
      "  Value:  0.8102461058393605\n",
      "  Params: \n",
      "    CNN_dropout_l0: 0.3\n",
      "    CNN_dropout_l1: 0.5\n",
      "    CNN_dropout_l2: 0.4\n",
      "    CNN_kernel_size_l0: 15\n",
      "    CNN_kernel_size_l1: 11\n",
      "    CNN_kernel_size_l2: 15\n",
      "    CNN_n_layers: 3\n",
      "    CNN_out_channels_l0: 32\n",
      "    CNN_out_channels_l1: 64\n",
      "    CNN_out_channels_l2: 96\n",
      "    CONCATNET_dropout_l0: 0.3\n",
      "    CONCATNET_dropout_l1: 0.0\n",
      "    CONCATNET_n_post_layers: 2\n",
      "    CONCATNET_n_units_l0: 768\n",
      "    CONCATNET_n_units_l1: 512\n",
      "    FFNN_dropout_l0: 0.2\n",
      "    FFNN_dropout_l1: 0.4\n",
      "    FFNN_dropout_l2: 0.0\n",
      "    FFNN_n_layers: 3\n",
      "    FFNN_n_units_l0: 128\n",
      "    FFNN_n_units_l1: 128\n",
      "    FFNN_n_units_l2: 64\n",
      "    lr: 0.014646452695482386\n",
      "    optimizer: RMSprop\n",
      "    weight_decay: 0.0002213019090405151\n",
      "\n",
      "===============> MODEL TESTING\n",
      "AUPRC test score: 0.5682767430929101\n",
      "\n",
      "\n",
      "\n",
      "3-FOLD CROSS-VALIDATION AUPRC TEST SCORE: 0.73271\n"
     ]
    }
   ],
   "source": [
    "kf_CV = Kfold_CV_Multimodal()\n",
    "\n",
    "kf_CV(build_dataloader_pipeline = pipe_data_load,\n",
    "                num_epochs = 100,\n",
    "                n_folds=3,\n",
    "                cell_line=cell_line,\n",
    "                augmentation=False,\n",
    "                model = model,\n",
    "                device = device,\n",
    "                task=task,\n",
    "                sampler = 'TPE',\n",
    "                study_name = f'{cell_line}_{task}_{model.__name__}',\n",
    "                test_model_path = f'{cell_line}_{task}_{model.__name__}_TEST')"
   ]
  },
  {
   "cell_type": "code",
   "execution_count": 23,
   "metadata": {},
   "outputs": [],
   "source": [
    "results_dict[cell_line][task][model.__name__] = kf_CV.scores_dict"
   ]
  },
  {
   "cell_type": "code",
   "execution_count": 24,
   "metadata": {},
   "outputs": [],
   "source": [
    "with open ('results_dict.pickle', 'wb') as fout:\n",
    "    pickle.dump(OrderedDict(results_dict), fout)"
   ]
  },
  {
   "cell_type": "markdown",
   "metadata": {},
   "source": [
    "---\n",
    "## AUGMENTATION"
   ]
  },
  {
   "cell_type": "markdown",
   "metadata": {},
   "source": [
    "### EMBRACENET"
   ]
  },
  {
   "cell_type": "code",
   "execution_count": 21,
   "metadata": {},
   "outputs": [],
   "source": [
    "model=EmbraceNetMultimodal"
   ]
  },
  {
   "cell_type": "code",
   "execution_count": 22,
   "metadata": {},
   "outputs": [
    {
     "name": "stdout",
     "output_type": "stream",
     "text": [
      ">>> ITERATION N. 1\n",
      "\n",
      "===============> HYPERPARAMETERS TUNING\n"
     ]
    },
    {
     "name": "stderr",
     "output_type": "stream",
     "text": [
      "/opt/anaconda3/lib/python3.8/site-packages/imblearn/utils/_validation.py:299: UserWarning: After over-sampling, the number of samples (12566) in class 0 will be larger than the number of samples in the majority class (class #0 -> 6283)\n",
      "  warnings.warn(\n",
      "/opt/anaconda3/lib/python3.8/site-packages/imblearn/utils/_validation.py:299: UserWarning: After over-sampling, the number of samples (10210) in class 1 will be larger than the number of samples in the majority class (class #0 -> 6283)\n",
      "  warnings.warn(\n",
      "/Users/Niki/Prediction-of-Active-and-Inactive-Regulatory-Regions-with-Embracenet-Multimodal-Neural-Network-/BIOINF_tesi/models/utils/training_models_multimodal.py:425: ExperimentalWarning: PatientPruner is experimental (supported from v2.8.0). The interface can change in the future.\n",
      "  pruner=optuna.pruners.PatientPruner(optuna.pruners.MedianPruner(), patience=2),\n",
      "\u001b[32m[I 2021-11-01 08:53:31,416]\u001b[0m Using an existing study with name 'GM12878_active_E_vs_active_P_EmbraceNetMultimodal_1augmentation' instead of creating a new one.\u001b[0m\n",
      "/opt/anaconda3/lib/python3.8/site-packages/imblearn/utils/_validation.py:299: UserWarning: After over-sampling, the number of samples (18750) in class 0 will be larger than the number of samples in the majority class (class #0 -> 9375)\n",
      "  warnings.warn(\n",
      "/opt/anaconda3/lib/python3.8/site-packages/imblearn/utils/_validation.py:299: UserWarning: After over-sampling, the number of samples (15416) in class 1 will be larger than the number of samples in the majority class (class #0 -> 9375)\n",
      "  warnings.warn(\n"
     ]
    },
    {
     "name": "stdout",
     "output_type": "stream",
     "text": [
      "Study statistics: \n",
      "  Number of finished trials:  3\n",
      "  Number of pruned trials:  0\n",
      "  Number of complete trials:  3\n",
      "Best trial:\n",
      "  Value:  0.7896004583138194\n",
      "  Params: \n",
      "    CNN_dropout_l0: 0.2\n",
      "    CNN_dropout_l1: 0\n",
      "    CNN_dropout_l2: 0.4\n",
      "    CNN_dropout_l3: 0.4\n",
      "    CNN_kernel_size_l0: 15\n",
      "    CNN_kernel_size_l1: 5\n",
      "    CNN_kernel_size_l2: 11\n",
      "    CNN_kernel_size_l3: 15\n",
      "    CNN_n_layers: 4\n",
      "    CNN_out_channels_l0: 16\n",
      "    CNN_out_channels_l1: 64\n",
      "    CNN_out_channels_l2: 96\n",
      "    CNN_out_channels_l3: 128\n",
      "    EMBRACENET_embracement_size: 1024\n",
      "    FFNN_dropout_l0: 0.3\n",
      "    FFNN_n_layers: 1\n",
      "    FFNN_n_units_l0: 128\n",
      "    lr: 3.4124962310534034e-05\n",
      "    n_post_layers: 0\n",
      "    optimizer: Nadam\n",
      "    selection_probabilities_FFNN: 0.07165273287630936\n",
      "    weight_decay: 0.000753062533980122\n",
      "\n",
      "===============> MODEL TESTING\n",
      "AUPRC test score: 0.4658144571571193\n",
      "\n",
      "\n",
      ">>> ITERATION N. 2\n",
      "\n",
      "===============> HYPERPARAMETERS TUNING\n"
     ]
    },
    {
     "name": "stderr",
     "output_type": "stream",
     "text": [
      "/opt/anaconda3/lib/python3.8/site-packages/imblearn/utils/_validation.py:299: UserWarning: After over-sampling, the number of samples (12516) in class 0 will be larger than the number of samples in the majority class (class #0 -> 6258)\n",
      "  warnings.warn(\n",
      "/opt/anaconda3/lib/python3.8/site-packages/imblearn/utils/_validation.py:299: UserWarning: After over-sampling, the number of samples (10260) in class 1 will be larger than the number of samples in the majority class (class #0 -> 6258)\n",
      "  warnings.warn(\n",
      "/Users/Niki/Prediction-of-Active-and-Inactive-Regulatory-Regions-with-Embracenet-Multimodal-Neural-Network-/BIOINF_tesi/models/utils/training_models_multimodal.py:425: ExperimentalWarning: PatientPruner is experimental (supported from v2.8.0). The interface can change in the future.\n",
      "  pruner=optuna.pruners.PatientPruner(optuna.pruners.MedianPruner(), patience=2),\n",
      "\u001b[32m[I 2021-11-01 08:53:36,836]\u001b[0m Using an existing study with name 'GM12878_active_E_vs_active_P_EmbraceNetMultimodal_2augmentation' instead of creating a new one.\u001b[0m\n"
     ]
    },
    {
     "name": "stdout",
     "output_type": "stream",
     "text": [
      "Study statistics: \n",
      "  Number of finished trials:  3\n",
      "  Number of pruned trials:  0\n",
      "  Number of complete trials:  3\n",
      "Best trial:\n",
      "  Value:  0.7882274997877516\n",
      "  Params: \n",
      "    CNN_dropout_l0: 0.4\n",
      "    CNN_kernel_size_l0: 5\n",
      "    CNN_n_layers: 1\n",
      "    CNN_out_channels_l0: 64\n",
      "    EMBRACENET_dropout_l0: 0.2\n",
      "    EMBRACENET_embracement_size: 768\n",
      "    EMBRACENET_n_units_l0: 512\n",
      "    FFNN_dropout_l0: 0.0\n",
      "    FFNN_dropout_l1: 0.0\n",
      "    FFNN_dropout_l2: 0.0\n",
      "    FFNN_n_layers: 3\n",
      "    FFNN_n_units_l0: 32\n",
      "    FFNN_n_units_l1: 16\n",
      "    FFNN_n_units_l2: 16\n",
      "    lr: 4.713150907170349e-05\n",
      "    n_post_layers: 1\n",
      "    optimizer: RMSprop\n",
      "    selection_probabilities_FFNN: 0.09611793384065914\n",
      "    weight_decay: 0.04338349413384123\n",
      "\n",
      "===============> MODEL TESTING\n"
     ]
    },
    {
     "name": "stderr",
     "output_type": "stream",
     "text": [
      "/opt/anaconda3/lib/python3.8/site-packages/imblearn/utils/_validation.py:299: UserWarning: After over-sampling, the number of samples (18682) in class 0 will be larger than the number of samples in the majority class (class #0 -> 9341)\n",
      "  warnings.warn(\n",
      "/opt/anaconda3/lib/python3.8/site-packages/imblearn/utils/_validation.py:299: UserWarning: After over-sampling, the number of samples (15484) in class 1 will be larger than the number of samples in the majority class (class #0 -> 9341)\n",
      "  warnings.warn(\n"
     ]
    },
    {
     "name": "stdout",
     "output_type": "stream",
     "text": [
      "AUPRC test score: 0.7640889477500337\n",
      "\n",
      "\n",
      ">>> ITERATION N. 3\n",
      "\n",
      "===============> HYPERPARAMETERS TUNING\n"
     ]
    },
    {
     "name": "stderr",
     "output_type": "stream",
     "text": [
      "/opt/anaconda3/lib/python3.8/site-packages/imblearn/utils/_validation.py:299: UserWarning: After over-sampling, the number of samples (12532) in class 0 will be larger than the number of samples in the majority class (class #0 -> 6266)\n",
      "  warnings.warn(\n",
      "/opt/anaconda3/lib/python3.8/site-packages/imblearn/utils/_validation.py:299: UserWarning: After over-sampling, the number of samples (10246) in class 1 will be larger than the number of samples in the majority class (class #0 -> 6266)\n",
      "  warnings.warn(\n",
      "/Users/Niki/Prediction-of-Active-and-Inactive-Regulatory-Regions-with-Embracenet-Multimodal-Neural-Network-/BIOINF_tesi/models/utils/training_models_multimodal.py:425: ExperimentalWarning: PatientPruner is experimental (supported from v2.8.0). The interface can change in the future.\n",
      "  pruner=optuna.pruners.PatientPruner(optuna.pruners.MedianPruner(), patience=2),\n",
      "\u001b[32m[I 2021-11-01 08:53:42,972]\u001b[0m Using an existing study with name 'GM12878_active_E_vs_active_P_EmbraceNetMultimodal_3augmentation' instead of creating a new one.\u001b[0m\n",
      "/opt/anaconda3/lib/python3.8/site-packages/imblearn/utils/_validation.py:299: UserWarning: After over-sampling, the number of samples (18712) in class 0 will be larger than the number of samples in the majority class (class #0 -> 9356)\n",
      "  warnings.warn(\n",
      "/opt/anaconda3/lib/python3.8/site-packages/imblearn/utils/_validation.py:299: UserWarning: After over-sampling, the number of samples (15456) in class 1 will be larger than the number of samples in the majority class (class #0 -> 9356)\n",
      "  warnings.warn(\n"
     ]
    },
    {
     "name": "stdout",
     "output_type": "stream",
     "text": [
      "Study statistics: \n",
      "  Number of finished trials:  3\n",
      "  Number of pruned trials:  0\n",
      "  Number of complete trials:  3\n",
      "Best trial:\n",
      "  Value:  0.8433926658786626\n",
      "  Params: \n",
      "    CNN_dropout_l0: 0.2\n",
      "    CNN_dropout_l1: 0.4\n",
      "    CNN_dropout_l2: 0\n",
      "    CNN_kernel_size_l0: 5\n",
      "    CNN_kernel_size_l1: 5\n",
      "    CNN_kernel_size_l2: 11\n",
      "    CNN_n_layers: 3\n",
      "    CNN_out_channels_l0: 64\n",
      "    CNN_out_channels_l1: 64\n",
      "    CNN_out_channels_l2: 128\n",
      "    EMBRACENET_embracement_size: 1024\n",
      "    FFNN_dropout_l0: 0.0\n",
      "    FFNN_dropout_l1: 0.0\n",
      "    FFNN_dropout_l2: 0.0\n",
      "    FFNN_n_layers: 3\n",
      "    FFNN_n_units_l0: 32\n",
      "    FFNN_n_units_l1: 128\n",
      "    FFNN_n_units_l2: 64\n",
      "    lr: 0.019418658001107626\n",
      "    n_post_layers: 0\n",
      "    optimizer: Nadam\n",
      "    selection_probabilities_FFNN: 0.3909945705111536\n",
      "    weight_decay: 0.00010931307392824462\n",
      "\n",
      "===============> MODEL TESTING\n",
      "AUPRC test score: 0.7951692521224517\n",
      "\n",
      "\n",
      "\n",
      "3-FOLD CROSS-VALIDATION AUPRC TEST SCORE: 0.67502\n"
     ]
    }
   ],
   "source": [
    "kf_CV = Kfold_CV_Multimodal()\n",
    "\n",
    "kf_CV(build_dataloader_pipeline = pipe_data_load,\n",
    "                num_epochs = 100,\n",
    "                n_folds=3,\n",
    "                cell_line=cell_line,\n",
    "                augmentation=True,\n",
    "                model = model,\n",
    "                device = device,\n",
    "                task=task,\n",
    "                sampler = 'TPE',\n",
    "                study_name = f'{cell_line}_{task}_{model.__name__}_augmentation',\n",
    "                test_model_path = f'{cell_line}_{task}_{model.__name__}_augmentation_TEST')"
   ]
  },
  {
   "cell_type": "code",
   "execution_count": 23,
   "metadata": {},
   "outputs": [],
   "source": [
    "results_dict[cell_line][task][f'{model.__name__}_augm'] = kf_CV.scores_dict"
   ]
  },
  {
   "cell_type": "code",
   "execution_count": 24,
   "metadata": {},
   "outputs": [],
   "source": [
    "with open ('results_dict.pickle', 'wb') as fout:\n",
    "    pickle.dump(OrderedDict(results_dict), fout)"
   ]
  },
  {
   "cell_type": "markdown",
   "metadata": {},
   "source": [
    "---\n",
    "---"
   ]
  },
  {
   "cell_type": "markdown",
   "metadata": {},
   "source": [
    "## 4) INACTIVE ENHANCERS vs INACTIVE PROMOTERS"
   ]
  },
  {
   "cell_type": "code",
   "execution_count": 25,
   "metadata": {},
   "outputs": [
    {
     "data": {
      "text/plain": [
       "'inactive_E_vs_inactive_P'"
      ]
     },
     "execution_count": 25,
     "metadata": {},
     "output_type": "execute_result"
    }
   ],
   "source": [
    "task = TASKS[3]\n",
    "task"
   ]
  },
  {
   "cell_type": "code",
   "execution_count": 26,
   "metadata": {},
   "outputs": [
    {
     "name": "stdout",
     "output_type": "stream",
     "text": [
      "Data Preprocessing Done!\n"
     ]
    }
   ],
   "source": [
    "pipe_data_load = Build_DataLoader_Pipeline(path_name=f'{task}.pickle')"
   ]
  },
  {
   "cell_type": "markdown",
   "metadata": {},
   "source": [
    "---\n",
    "### EMBRACENET"
   ]
  },
  {
   "cell_type": "code",
   "execution_count": 27,
   "metadata": {},
   "outputs": [],
   "source": [
    "model=EmbraceNetMultimodal"
   ]
  },
  {
   "cell_type": "code",
   "execution_count": 28,
   "metadata": {
    "scrolled": true
   },
   "outputs": [
    {
     "name": "stdout",
     "output_type": "stream",
     "text": [
      ">>> ITERATION N. 1\n",
      "\n",
      "===============> HYPERPARAMETERS TUNING\n"
     ]
    },
    {
     "name": "stderr",
     "output_type": "stream",
     "text": [
      "/Users/Niki/Prediction-of-Active-and-Inactive-Regulatory-Regions-with-Embracenet-Multimodal-Neural-Network-/BIOINF_tesi/models/utils/training_models_multimodal.py:425: ExperimentalWarning: PatientPruner is experimental (supported from v2.8.0). The interface can change in the future.\n",
      "  pruner=optuna.pruners.PatientPruner(optuna.pruners.MedianPruner(), patience=2),\n",
      "\u001b[32m[I 2021-10-26 09:39:01,160]\u001b[0m Using an existing study with name 'GM12878_inactive_E_vs_inactive_P_EmbraceNetMultimodal_1' instead of creating a new one.\u001b[0m\n"
     ]
    },
    {
     "name": "stdout",
     "output_type": "stream",
     "text": [
      "Study statistics: \n",
      "  Number of finished trials:  3\n",
      "  Number of pruned trials:  0\n",
      "  Number of complete trials:  3\n",
      "Best trial:\n",
      "  Value:  0.5697440974813386\n",
      "  Params: \n",
      "    CNN_dropout_l0: 0.4\n",
      "    CNN_dropout_l1: 0.5\n",
      "    CNN_kernel_size_l0: 11\n",
      "    CNN_kernel_size_l1: 11\n",
      "    CNN_n_layers: 2\n",
      "    CNN_out_channels_l0: 64\n",
      "    CNN_out_channels_l1: 96\n",
      "    EMBRACENET_embracement_size: 768\n",
      "    FFNN_dropout_l0: 0.4\n",
      "    FFNN_n_layers: 1\n",
      "    FFNN_n_units_l0: 64\n",
      "    lr: 2.3369496029227678e-05\n",
      "    n_post_layers: 0\n",
      "    optimizer: Adam\n",
      "    selection_probabilities_FFNN: 0.614427519073352\n",
      "    weight_decay: 0.0035608847101091775\n",
      "\n",
      "===============> MODEL TESTING\n",
      "AUPRC test score: 0.5762357518981759\n",
      "\n",
      "\n",
      ">>> ITERATION N. 2\n"
     ]
    },
    {
     "name": "stderr",
     "output_type": "stream",
     "text": [
      "/Users/Niki/Prediction-of-Active-and-Inactive-Regulatory-Regions-with-Embracenet-Multimodal-Neural-Network-/BIOINF_tesi/models/utils/training_models_multimodal.py:425: ExperimentalWarning: PatientPruner is experimental (supported from v2.8.0). The interface can change in the future.\n",
      "  pruner=optuna.pruners.PatientPruner(optuna.pruners.MedianPruner(), patience=2),\n",
      "\u001b[32m[I 2021-10-26 09:39:01,935]\u001b[0m Using an existing study with name 'GM12878_inactive_E_vs_inactive_P_EmbraceNetMultimodal_1_2' instead of creating a new one.\u001b[0m\n"
     ]
    },
    {
     "name": "stdout",
     "output_type": "stream",
     "text": [
      "\n",
      "===============> HYPERPARAMETERS TUNING\n",
      "Study statistics: \n",
      "  Number of finished trials:  3\n",
      "  Number of pruned trials:  0\n",
      "  Number of complete trials:  3\n",
      "Best trial:\n",
      "  Value:  0.580073972218564\n",
      "  Params: \n",
      "    CNN_dropout_l0: 0.2\n",
      "    CNN_kernel_size_l0: 11\n",
      "    CNN_n_layers: 1\n",
      "    CNN_out_channels_l0: 64\n",
      "    EMBRACENET_embracement_size: 512\n",
      "    FFNN_dropout_l0: 0.2\n",
      "    FFNN_dropout_l1: 0.2\n",
      "    FFNN_n_layers: 2\n",
      "    FFNN_n_units_l0: 128\n",
      "    FFNN_n_units_l1: 64\n",
      "    lr: 0.0004975144854592086\n",
      "    n_post_layers: 0\n",
      "    optimizer: Nadam\n",
      "    selection_probabilities_FFNN: 0.5611832861819466\n",
      "    weight_decay: 0.0005623708010892006\n",
      "\n",
      "===============> MODEL TESTING\n",
      "AUPRC test score: 0.5806677114306839\n",
      "\n",
      "\n",
      ">>> ITERATION N. 3\n",
      "\n",
      "===============> HYPERPARAMETERS TUNING\n"
     ]
    },
    {
     "name": "stderr",
     "output_type": "stream",
     "text": [
      "/Users/Niki/Prediction-of-Active-and-Inactive-Regulatory-Regions-with-Embracenet-Multimodal-Neural-Network-/BIOINF_tesi/models/utils/training_models_multimodal.py:425: ExperimentalWarning: PatientPruner is experimental (supported from v2.8.0). The interface can change in the future.\n",
      "  pruner=optuna.pruners.PatientPruner(optuna.pruners.MedianPruner(), patience=2),\n",
      "\u001b[32m[I 2021-10-26 09:39:02,477]\u001b[0m Using an existing study with name 'GM12878_inactive_E_vs_inactive_P_EmbraceNetMultimodal_1_2_3' instead of creating a new one.\u001b[0m\n"
     ]
    },
    {
     "name": "stdout",
     "output_type": "stream",
     "text": [
      "Study statistics: \n",
      "  Number of finished trials:  3\n",
      "  Number of pruned trials:  0\n",
      "  Number of complete trials:  3\n",
      "Best trial:\n",
      "  Value:  0.5492493027689673\n",
      "  Params: \n",
      "    CNN_dropout_l0: 0.3\n",
      "    CNN_dropout_l1: 0\n",
      "    CNN_dropout_l2: 0\n",
      "    CNN_dropout_l3: 0.5\n",
      "    CNN_kernel_size_l0: 15\n",
      "    CNN_kernel_size_l1: 11\n",
      "    CNN_kernel_size_l2: 15\n",
      "    CNN_kernel_size_l3: 15\n",
      "    CNN_n_layers: 4\n",
      "    CNN_out_channels_l0: 64\n",
      "    CNN_out_channels_l1: 32\n",
      "    CNN_out_channels_l2: 256\n",
      "    CNN_out_channels_l3: 128\n",
      "    EMBRACENET_embracement_size: 768\n",
      "    FFNN_dropout_l0: 0.2\n",
      "    FFNN_dropout_l1: 0.3\n",
      "    FFNN_dropout_l2: 0.4\n",
      "    FFNN_n_layers: 3\n",
      "    FFNN_n_units_l0: 256\n",
      "    FFNN_n_units_l1: 32\n",
      "    FFNN_n_units_l2: 16\n",
      "    lr: 0.0004061118066150433\n",
      "    n_post_layers: 0\n",
      "    optimizer: Adam\n",
      "    selection_probabilities_FFNN: 0.23630098920971054\n",
      "    weight_decay: 0.07214613756883567\n",
      "\n",
      "===============> MODEL TESTING\n",
      "AUPRC test score: 0.5290321358741854\n",
      "\n",
      "\n",
      "\n",
      "3-FOLD CROSS-VALIDATION AUPRC TEST SCORE: 0.56198\n"
     ]
    }
   ],
   "source": [
    "kf_CV = Kfold_CV_Multimodal()\n",
    "\n",
    "kf_CV(build_dataloader_pipeline = pipe_data_load,\n",
    "                num_epochs = 100,\n",
    "                n_folds=3,\n",
    "                cell_line=cell_line,\n",
    "                augmentation=False,\n",
    "                model = model,\n",
    "                device = device,\n",
    "                task=task,\n",
    "                sampler = 'TPE',\n",
    "                study_name = f'{cell_line}_{task}_{model.__name__}',\n",
    "                test_model_path = f'{cell_line}_{task}_{model.__name__}_TEST')"
   ]
  },
  {
   "cell_type": "code",
   "execution_count": 29,
   "metadata": {},
   "outputs": [],
   "source": [
    "results_dict[cell_line][task][model.__name__] = kf_CV.scores_dict"
   ]
  },
  {
   "cell_type": "code",
   "execution_count": 30,
   "metadata": {},
   "outputs": [],
   "source": [
    "with open ('results_dict.pickle', 'wb') as fout:\n",
    "    pickle.dump(OrderedDict(results_dict), fout)"
   ]
  },
  {
   "cell_type": "markdown",
   "metadata": {},
   "source": [
    "### CONCATNET"
   ]
  },
  {
   "cell_type": "code",
   "execution_count": 9,
   "metadata": {},
   "outputs": [],
   "source": [
    "model=ConcatNetMultimodal"
   ]
  },
  {
   "cell_type": "code",
   "execution_count": 10,
   "metadata": {
    "scrolled": true
   },
   "outputs": [
    {
     "name": "stdout",
     "output_type": "stream",
     "text": [
      ">>> ITERATION N. 1\n",
      "\n",
      "===============> HYPERPARAMETERS TUNING\n"
     ]
    },
    {
     "name": "stderr",
     "output_type": "stream",
     "text": [
      "/home/jupyter/Prediction-of-Active-and-Inactive-Regulatory-Regions-with-Embracenet-Multimodal-Neural-Network-/BIOINF_tesi/models/utils/training_models_multimodal.py:425: ExperimentalWarning: PatientPruner is experimental (supported from v2.8.0). The interface can change in the future.\n",
      "  pruner=optuna.pruners.PatientPruner(optuna.pruners.MedianPruner(), patience=2),\n",
      "\u001b[32m[I 2021-10-28 08:09:31,315]\u001b[0m Using an existing study with name 'GM12878_inactive_E_vs_inactive_P_ConcatNetMultimodal_1' instead of creating a new one.\u001b[0m\n",
      "/opt/conda/lib/python3.7/site-packages/optuna/structs.py:18: FutureWarning: `structs` is deprecated. Classes have moved to the following modules. `structs.StudyDirection`->`study.StudyDirection`, `structs.StudySummary`->`study.StudySummary`, `structs.FrozenTrial`->`trial.FrozenTrial`, `structs.TrialState`->`trial.TrialState`, `structs.TrialPruned`->`exceptions.TrialPruned`.\n",
      "  warnings.warn(_message, FutureWarning)\n"
     ]
    },
    {
     "name": "stdout",
     "output_type": "stream",
     "text": [
      "Study statistics: \n",
      "  Number of finished trials:  3\n",
      "  Number of pruned trials:  0\n",
      "  Number of complete trials:  3\n",
      "Best trial:\n",
      "  Value:  0.5424169979295155\n",
      "  Params: \n",
      "    CNN_dropout_l0: 0.4\n",
      "    CNN_dropout_l1: 0.5\n",
      "    CNN_kernel_size_l0: 15\n",
      "    CNN_kernel_size_l1: 5\n",
      "    CNN_n_layers: 2\n",
      "    CNN_out_channels_l0: 16\n",
      "    CNN_out_channels_l1: 96\n",
      "    CONCATNET_dropout_l0: 0.2\n",
      "    CONCATNET_dropout_l1: 0.3\n",
      "    CONCATNET_dropout_l2: 0.5\n",
      "    CONCATNET_n_post_layers: 3\n",
      "    CONCATNET_n_units_l0: 512\n",
      "    CONCATNET_n_units_l1: 512\n",
      "    CONCATNET_n_units_l2: 16\n",
      "    FFNN_dropout_l0: 0.0\n",
      "    FFNN_dropout_l1: 0.4\n",
      "    FFNN_dropout_l2: 0.4\n",
      "    FFNN_dropout_l3: 0.5\n",
      "    FFNN_n_layers: 4\n",
      "    FFNN_n_units_l0: 256\n",
      "    FFNN_n_units_l1: 16\n",
      "    FFNN_n_units_l2: 32\n",
      "    FFNN_n_units_l3: 16\n",
      "    lr: 0.0002601352269233871\n",
      "    optimizer: Adam\n",
      "    weight_decay: 0.024930374625176378\n",
      "\n",
      "===============> MODEL TESTING\n",
      "AUPRC test score: 0.5433751994298683\n",
      "\n",
      "\n",
      ">>> ITERATION N. 2\n"
     ]
    },
    {
     "name": "stderr",
     "output_type": "stream",
     "text": [
      "/home/jupyter/Prediction-of-Active-and-Inactive-Regulatory-Regions-with-Embracenet-Multimodal-Neural-Network-/BIOINF_tesi/models/utils/training_models_multimodal.py:425: ExperimentalWarning: PatientPruner is experimental (supported from v2.8.0). The interface can change in the future.\n",
      "  pruner=optuna.pruners.PatientPruner(optuna.pruners.MedianPruner(), patience=2),\n",
      "\u001b[32m[I 2021-10-28 08:09:33,991]\u001b[0m Using an existing study with name 'GM12878_inactive_E_vs_inactive_P_ConcatNetMultimodal_1_2' instead of creating a new one.\u001b[0m\n"
     ]
    },
    {
     "name": "stdout",
     "output_type": "stream",
     "text": [
      "\n",
      "===============> HYPERPARAMETERS TUNING\n",
      "Study statistics: \n",
      "  Number of finished trials:  3\n",
      "  Number of pruned trials:  0\n",
      "  Number of complete trials:  3\n",
      "Best trial:\n",
      "  Value:  0.4233390496136193\n",
      "  Params: \n",
      "    CNN_dropout_l0: 0\n",
      "    CNN_dropout_l1: 0.5\n",
      "    CNN_dropout_l2: 0.5\n",
      "    CNN_dropout_l3: 0\n",
      "    CNN_kernel_size_l0: 5\n",
      "    CNN_kernel_size_l1: 5\n",
      "    CNN_kernel_size_l2: 5\n",
      "    CNN_kernel_size_l3: 11\n",
      "    CNN_n_layers: 4\n",
      "    CNN_out_channels_l0: 16\n",
      "    CNN_out_channels_l1: 96\n",
      "    CNN_out_channels_l2: 64\n",
      "    CNN_out_channels_l3: 512\n",
      "    CONCATNET_dropout_l0: 0.5\n",
      "    CONCATNET_n_post_layers: 1\n",
      "    CONCATNET_n_units_l0: 1024\n",
      "    FFNN_dropout_l0: 0.3\n",
      "    FFNN_n_layers: 1\n",
      "    FFNN_n_units_l0: 256\n",
      "    lr: 0.01410960588607877\n",
      "    optimizer: Nadam\n",
      "    weight_decay: 0.018712221008761333\n",
      "\n",
      "===============> MODEL TESTING\n",
      "AUPRC test score: 0.4951939320700933\n",
      "\n",
      "\n",
      ">>> ITERATION N. 3\n"
     ]
    },
    {
     "name": "stderr",
     "output_type": "stream",
     "text": [
      "/home/jupyter/Prediction-of-Active-and-Inactive-Regulatory-Regions-with-Embracenet-Multimodal-Neural-Network-/BIOINF_tesi/models/utils/training_models_multimodal.py:425: ExperimentalWarning: PatientPruner is experimental (supported from v2.8.0). The interface can change in the future.\n",
      "  pruner=optuna.pruners.PatientPruner(optuna.pruners.MedianPruner(), patience=2),\n",
      "\u001b[32m[I 2021-10-28 08:09:34,663]\u001b[0m Using an existing study with name 'GM12878_inactive_E_vs_inactive_P_ConcatNetMultimodal_1_2_3' instead of creating a new one.\u001b[0m\n"
     ]
    },
    {
     "name": "stdout",
     "output_type": "stream",
     "text": [
      "\n",
      "===============> HYPERPARAMETERS TUNING\n",
      "Study statistics: \n",
      "  Number of finished trials:  3\n",
      "  Number of pruned trials:  0\n",
      "  Number of complete trials:  3\n",
      "Best trial:\n",
      "  Value:  0.5700257059475923\n",
      "  Params: \n",
      "    CNN_dropout_l0: 0.3\n",
      "    CNN_kernel_size_l0: 11\n",
      "    CNN_n_layers: 1\n",
      "    CNN_out_channels_l0: 32\n",
      "    CONCATNET_dropout_l0: 0.2\n",
      "    CONCATNET_dropout_l1: 0.2\n",
      "    CONCATNET_dropout_l2: 0.5\n",
      "    CONCATNET_n_post_layers: 3\n",
      "    CONCATNET_n_units_l0: 768\n",
      "    CONCATNET_n_units_l1: 64\n",
      "    CONCATNET_n_units_l2: 256\n",
      "    FFNN_dropout_l0: 0.0\n",
      "    FFNN_n_layers: 1\n",
      "    FFNN_n_units_l0: 128\n",
      "    lr: 0.0015129050874388707\n",
      "    optimizer: Adam\n",
      "    weight_decay: 0.0003263355135051064\n",
      "\n",
      "===============> MODEL TESTING\n",
      "AUPRC test score: 0.6041115455661381\n",
      "\n",
      "\n",
      "\n",
      "3-FOLD CROSS-VALIDATION AUPRC TEST SCORE: 0.54756\n"
     ]
    }
   ],
   "source": [
    "kf_CV = Kfold_CV_Multimodal()\n",
    "\n",
    "kf_CV(build_dataloader_pipeline = pipe_data_load,\n",
    "                num_epochs = 100,\n",
    "                n_folds=3,\n",
    "                cell_line=cell_line,\n",
    "                augmentation=True,\n",
    "                model = model,\n",
    "                device = device,\n",
    "                task=task,\n",
    "                sampler = 'TPE',\n",
    "                study_name = f'{cell_line}_{task}_{model.__name__}_augmentation',\n",
    "                test_model_path = f'{cell_line}_{task}_{model.__name__}_augmentation_TEST')"
   ]
  },
  {
   "cell_type": "code",
   "execution_count": 11,
   "metadata": {},
   "outputs": [],
   "source": [
    "results_dict[cell_line][task][model.__name__] = kf_CV.scores_dict"
   ]
  },
  {
   "cell_type": "code",
   "execution_count": 12,
   "metadata": {},
   "outputs": [],
   "source": [
    "with open ('results_dict.pickle', 'wb') as fout:\n",
    "    pickle.dump(OrderedDict(results_dict), fout)"
   ]
  },
  {
   "cell_type": "markdown",
   "metadata": {},
   "source": [
    "---\n",
    "## AUGMENTATION"
   ]
  },
  {
   "cell_type": "markdown",
   "metadata": {},
   "source": [
    "### EMBRACENET"
   ]
  },
  {
   "cell_type": "code",
   "execution_count": 15,
   "metadata": {},
   "outputs": [],
   "source": [
    "model=EmbraceNetMultimodal"
   ]
  },
  {
   "cell_type": "code",
   "execution_count": 16,
   "metadata": {
    "scrolled": true,
    "tags": []
   },
   "outputs": [
    {
     "name": "stdout",
     "output_type": "stream",
     "text": [
      ">>> ITERATION N. 1\n",
      "\n",
      "===============> HYPERPARAMETERS TUNING\n"
     ]
    },
    {
     "name": "stderr",
     "output_type": "stream",
     "text": [
      "/opt/conda/lib/python3.7/site-packages/imblearn/utils/_validation.py:300: UserWarning: After over-sampling, the number of samples (76346) in class 0 will be larger than the number of samples in the majority class (class #0 -> 38173)\n",
      "  f\"After over-sampling, the number of samples ({n_samples})\"\n",
      "/opt/conda/lib/python3.7/site-packages/imblearn/utils/_validation.py:300: UserWarning: After over-sampling, the number of samples (45912) in class 1 will be larger than the number of samples in the majority class (class #0 -> 38173)\n",
      "  f\"After over-sampling, the number of samples ({n_samples})\"\n",
      "/home/jupyter/Prediction-of-Active-and-Inactive-Regulatory-Regions-with-Embracenet-Multimodal-Neural-Network-/BIOINF_tesi/models/utils/training_models_multimodal.py:425: ExperimentalWarning: PatientPruner is experimental (supported from v2.8.0). The interface can change in the future.\n",
      "  pruner=optuna.pruners.PatientPruner(optuna.pruners.MedianPruner(), patience=2),\n",
      "\u001b[32m[I 2021-10-31 09:03:23,436]\u001b[0m Using an existing study with name 'GM12878_inactive_E_vs_inactive_P_EmbraceNetMultimodal_1_augmentation' instead of creating a new one.\u001b[0m\n"
     ]
    },
    {
     "name": "stdout",
     "output_type": "stream",
     "text": [
      "Study statistics: \n",
      "  Number of finished trials:  4\n",
      "  Number of pruned trials:  0\n",
      "  Number of complete trials:  3\n",
      "Best trial:\n",
      "  Value:  0.5707890223123847\n",
      "  Params: \n",
      "    CNN_dropout_l0: 0.3\n",
      "    CNN_kernel_size_l0: 5\n",
      "    CNN_n_layers: 1\n",
      "    CNN_out_channels_l0: 16\n",
      "    EMBRACENET_dropout_l0: 0.0\n",
      "    EMBRACENET_dropout_l1: 0.2\n",
      "    EMBRACENET_embracement_size: 768\n",
      "    EMBRACENET_n_units_l0: 128\n",
      "    EMBRACENET_n_units_l1: 256\n",
      "    FFNN_dropout_l0: 0.2\n",
      "    FFNN_dropout_l1: 0.2\n",
      "    FFNN_dropout_l2: 0.0\n",
      "    FFNN_n_layers: 3\n",
      "    FFNN_n_units_l0: 64\n",
      "    FFNN_n_units_l1: 16\n",
      "    FFNN_n_units_l2: 4\n",
      "    lr: 6.307192144237503e-05\n",
      "    n_post_layers: 2\n",
      "    optimizer: Adam\n",
      "    selection_probabilities_FFNN: 0.3759214436161208\n",
      "    weight_decay: 0.000307910250244498\n",
      "\n",
      "===============> MODEL TESTING\n"
     ]
    },
    {
     "name": "stderr",
     "output_type": "stream",
     "text": [
      "/opt/conda/lib/python3.7/site-packages/imblearn/utils/_validation.py:300: UserWarning: After over-sampling, the number of samples (114520) in class 0 will be larger than the number of samples in the majority class (class #0 -> 57260)\n",
      "  f\"After over-sampling, the number of samples ({n_samples})\"\n",
      "/opt/conda/lib/python3.7/site-packages/imblearn/utils/_validation.py:300: UserWarning: After over-sampling, the number of samples (68868) in class 1 will be larger than the number of samples in the majority class (class #0 -> 57260)\n",
      "  f\"After over-sampling, the number of samples ({n_samples})\"\n"
     ]
    },
    {
     "name": "stdout",
     "output_type": "stream",
     "text": [
      "AUPRC test score: 0.5747756137519461\n",
      "\n",
      "\n",
      ">>> ITERATION N. 2\n",
      "\n",
      "===============> HYPERPARAMETERS TUNING\n"
     ]
    },
    {
     "name": "stderr",
     "output_type": "stream",
     "text": [
      "/opt/conda/lib/python3.7/site-packages/imblearn/utils/_validation.py:300: UserWarning: After over-sampling, the number of samples (76174) in class 0 will be larger than the number of samples in the majority class (class #0 -> 38087)\n",
      "  f\"After over-sampling, the number of samples ({n_samples})\"\n",
      "/opt/conda/lib/python3.7/site-packages/imblearn/utils/_validation.py:300: UserWarning: After over-sampling, the number of samples (46084) in class 1 will be larger than the number of samples in the majority class (class #0 -> 38087)\n",
      "  f\"After over-sampling, the number of samples ({n_samples})\"\n",
      "/home/jupyter/Prediction-of-Active-and-Inactive-Regulatory-Regions-with-Embracenet-Multimodal-Neural-Network-/BIOINF_tesi/models/utils/training_models_multimodal.py:425: ExperimentalWarning: PatientPruner is experimental (supported from v2.8.0). The interface can change in the future.\n",
      "  pruner=optuna.pruners.PatientPruner(optuna.pruners.MedianPruner(), patience=2),\n",
      "\u001b[32m[I 2021-10-31 09:05:44,812]\u001b[0m Using an existing study with name 'GM12878_inactive_E_vs_inactive_P_EmbraceNetMultimodal_1_augmentation_2_augmentation' instead of creating a new one.\u001b[0m\n"
     ]
    },
    {
     "name": "stdout",
     "output_type": "stream",
     "text": [
      "Study statistics: \n",
      "  Number of finished trials:  4\n",
      "  Number of pruned trials:  0\n",
      "  Number of complete trials:  3\n",
      "Best trial:\n",
      "  Value:  0.5652153373026882\n",
      "  Params: \n",
      "    CNN_dropout_l0: 0\n",
      "    CNN_dropout_l1: 0.4\n",
      "    CNN_kernel_size_l0: 15\n",
      "    CNN_kernel_size_l1: 15\n",
      "    CNN_n_layers: 2\n",
      "    CNN_out_channels_l0: 64\n",
      "    CNN_out_channels_l1: 64\n",
      "    EMBRACENET_dropout_l0: 0.2\n",
      "    EMBRACENET_dropout_l1: 0.3\n",
      "    EMBRACENET_embracement_size: 768\n",
      "    EMBRACENET_n_units_l0: 256\n",
      "    EMBRACENET_n_units_l1: 64\n",
      "    FFNN_dropout_l0: 0.3\n",
      "    FFNN_n_layers: 1\n",
      "    FFNN_n_units_l0: 256\n",
      "    lr: 1.3976590339008066e-05\n",
      "    n_post_layers: 2\n",
      "    optimizer: RMSprop\n",
      "    selection_probabilities_FFNN: 0.6137273859849924\n",
      "    weight_decay: 0.00033667999239879107\n",
      "\n",
      "===============> MODEL TESTING\n"
     ]
    },
    {
     "name": "stderr",
     "output_type": "stream",
     "text": [
      "/opt/conda/lib/python3.7/site-packages/imblearn/utils/_validation.py:300: UserWarning: After over-sampling, the number of samples (114284) in class 0 will be larger than the number of samples in the majority class (class #0 -> 57142)\n",
      "  f\"After over-sampling, the number of samples ({n_samples})\"\n",
      "/opt/conda/lib/python3.7/site-packages/imblearn/utils/_validation.py:300: UserWarning: After over-sampling, the number of samples (69104) in class 1 will be larger than the number of samples in the majority class (class #0 -> 57142)\n",
      "  f\"After over-sampling, the number of samples ({n_samples})\"\n"
     ]
    },
    {
     "name": "stdout",
     "output_type": "stream",
     "text": [
      "AUPRC test score: 0.5822503358664414\n",
      "\n",
      "\n",
      ">>> ITERATION N. 3\n",
      "\n",
      "===============> HYPERPARAMETERS TUNING\n"
     ]
    },
    {
     "name": "stderr",
     "output_type": "stream",
     "text": [
      "/opt/conda/lib/python3.7/site-packages/imblearn/utils/_validation.py:300: UserWarning: After over-sampling, the number of samples (76386) in class 0 will be larger than the number of samples in the majority class (class #0 -> 38193)\n",
      "  f\"After over-sampling, the number of samples ({n_samples})\"\n",
      "/opt/conda/lib/python3.7/site-packages/imblearn/utils/_validation.py:300: UserWarning: After over-sampling, the number of samples (45872) in class 1 will be larger than the number of samples in the majority class (class #0 -> 38193)\n",
      "  f\"After over-sampling, the number of samples ({n_samples})\"\n",
      "/home/jupyter/Prediction-of-Active-and-Inactive-Regulatory-Regions-with-Embracenet-Multimodal-Neural-Network-/BIOINF_tesi/models/utils/training_models_multimodal.py:425: ExperimentalWarning: PatientPruner is experimental (supported from v2.8.0). The interface can change in the future.\n",
      "  pruner=optuna.pruners.PatientPruner(optuna.pruners.MedianPruner(), patience=2),\n",
      "\u001b[32m[I 2021-10-31 09:08:13,049]\u001b[0m Using an existing study with name 'GM12878_inactive_E_vs_inactive_P_EmbraceNetMultimodal_1_augmentation_2_augmentation_3_augmentation' instead of creating a new one.\u001b[0m\n"
     ]
    },
    {
     "name": "stdout",
     "output_type": "stream",
     "text": [
      "Study statistics: \n",
      "  Number of finished trials:  3\n",
      "  Number of pruned trials:  0\n",
      "  Number of complete trials:  3\n",
      "Best trial:\n",
      "  Value:  0.5293026402310934\n",
      "  Params: \n",
      "    CNN_dropout_l0: 0\n",
      "    CNN_dropout_l1: 0.4\n",
      "    CNN_dropout_l2: 0.4\n",
      "    CNN_kernel_size_l0: 5\n",
      "    CNN_kernel_size_l1: 15\n",
      "    CNN_kernel_size_l2: 5\n",
      "    CNN_n_layers: 3\n",
      "    CNN_out_channels_l0: 16\n",
      "    CNN_out_channels_l1: 64\n",
      "    CNN_out_channels_l2: 256\n",
      "    EMBRACENET_dropout_l0: 0.0\n",
      "    EMBRACENET_dropout_l1: 0.5\n",
      "    EMBRACENET_embracement_size: 512\n",
      "    EMBRACENET_n_units_l0: 128\n",
      "    EMBRACENET_n_units_l1: 64\n",
      "    FFNN_dropout_l0: 0.0\n",
      "    FFNN_dropout_l1: 0.0\n",
      "    FFNN_dropout_l2: 0.5\n",
      "    FFNN_n_layers: 3\n",
      "    FFNN_n_units_l0: 64\n",
      "    FFNN_n_units_l1: 16\n",
      "    FFNN_n_units_l2: 16\n",
      "    lr: 0.0006045531832461281\n",
      "    n_post_layers: 2\n",
      "    optimizer: Nadam\n",
      "    selection_probabilities_FFNN: 0.3088811573737791\n",
      "    weight_decay: 0.020936922676757334\n",
      "\n",
      "===============> MODEL TESTING\n"
     ]
    },
    {
     "name": "stderr",
     "output_type": "stream",
     "text": [
      "/opt/conda/lib/python3.7/site-packages/imblearn/utils/_validation.py:300: UserWarning: After over-sampling, the number of samples (114576) in class 0 will be larger than the number of samples in the majority class (class #0 -> 57288)\n",
      "  f\"After over-sampling, the number of samples ({n_samples})\"\n",
      "/opt/conda/lib/python3.7/site-packages/imblearn/utils/_validation.py:300: UserWarning: After over-sampling, the number of samples (68812) in class 1 will be larger than the number of samples in the majority class (class #0 -> 57288)\n",
      "  f\"After over-sampling, the number of samples ({n_samples})\"\n"
     ]
    },
    {
     "name": "stdout",
     "output_type": "stream",
     "text": [
      "AUPRC test score: 0.5338093661098643\n",
      "\n",
      "\n",
      "\n",
      "3-FOLD CROSS-VALIDATION AUPRC TEST SCORE: 0.56361\n"
     ]
    }
   ],
   "source": [
    "kf_CV = Kfold_CV_Multimodal()\n",
    "\n",
    "kf_CV(build_dataloader_pipeline = pipe_data_load,\n",
    "                num_epochs = 100,\n",
    "                n_folds=3,\n",
    "                cell_line=cell_line,\n",
    "                augmentation=True,\n",
    "                model = model,\n",
    "                device = device,\n",
    "                task=task,\n",
    "                sampler = 'TPE',\n",
    "                study_name = f'{cell_line}_{task}_{model.__name__}',\n",
    "                test_model_path = f'{cell_line}_{task}_{model.__name__}_TEST')"
   ]
  },
  {
   "cell_type": "code",
   "execution_count": 17,
   "metadata": {},
   "outputs": [],
   "source": [
    "results_dict[cell_line][task][f'{model.__name__}_augm'] = kf_CV.scores_dict"
   ]
  },
  {
   "cell_type": "code",
   "execution_count": 18,
   "metadata": {},
   "outputs": [],
   "source": [
    "with open ('results_dict.pickle', 'wb') as fout:\n",
    "    pickle.dump(OrderedDict(results_dict), fout)"
   ]
  },
  {
   "cell_type": "markdown",
   "metadata": {},
   "source": [
    "---\n",
    "---"
   ]
  },
  {
   "cell_type": "markdown",
   "metadata": {},
   "source": [
    "## 5) ACTIVE ENHANCERS + ACTIVE PROMOTERS vs INACTIVE REST"
   ]
  },
  {
   "cell_type": "code",
   "execution_count": 27,
   "metadata": {},
   "outputs": [
    {
     "data": {
      "text/plain": [
       "'active_EP_vs_inactive_rest'"
      ]
     },
     "execution_count": 27,
     "metadata": {},
     "output_type": "execute_result"
    }
   ],
   "source": [
    "task = TASKS[4]\n",
    "task"
   ]
  },
  {
   "cell_type": "code",
   "execution_count": 28,
   "metadata": {},
   "outputs": [
    {
     "name": "stdout",
     "output_type": "stream",
     "text": [
      "Data Preprocessing Done!\n"
     ]
    }
   ],
   "source": [
    "pipe_data_load = Build_DataLoader_Pipeline(path_name=f'{task}.pickle')"
   ]
  },
  {
   "cell_type": "markdown",
   "metadata": {},
   "source": [
    "---\n",
    "### EMBRACENET"
   ]
  },
  {
   "cell_type": "code",
   "execution_count": 33,
   "metadata": {},
   "outputs": [],
   "source": [
    "model=EmbraceNetMultimodal"
   ]
  },
  {
   "cell_type": "code",
   "execution_count": 34,
   "metadata": {
    "scrolled": true
   },
   "outputs": [
    {
     "name": "stdout",
     "output_type": "stream",
     "text": [
      ">>> ITERATION N. 1\n",
      "\n",
      "===============> HYPERPARAMETERS TUNING\n"
     ]
    },
    {
     "name": "stderr",
     "output_type": "stream",
     "text": [
      "/Users/Niki/Prediction-of-Active-and-Inactive-Regulatory-Regions-with-Embracenet-Multimodal-Neural-Network-/BIOINF_tesi/models/utils/training_models_multimodal.py:425: ExperimentalWarning: PatientPruner is experimental (supported from v2.8.0). The interface can change in the future.\n",
      "  pruner=optuna.pruners.PatientPruner(optuna.pruners.MedianPruner(), patience=2),\n",
      "\u001b[32m[I 2021-10-26 09:39:05,878]\u001b[0m Using an existing study with name 'GM12878_active_EP_vs_inactive_rest_EmbraceNetMultimodal_1' instead of creating a new one.\u001b[0m\n"
     ]
    },
    {
     "name": "stdout",
     "output_type": "stream",
     "text": [
      "Study statistics: \n",
      "  Number of finished trials:  3\n",
      "  Number of pruned trials:  0\n",
      "  Number of complete trials:  3\n",
      "Best trial:\n",
      "  Value:  0.32920968060964045\n",
      "  Params: \n",
      "    CNN_dropout_l0: 0.4\n",
      "    CNN_kernel_size_l0: 5\n",
      "    CNN_n_layers: 1\n",
      "    CNN_out_channels_l0: 32\n",
      "    EMBRACENET_embracement_size: 512\n",
      "    FFNN_dropout_l0: 0.4\n",
      "    FFNN_n_layers: 1\n",
      "    FFNN_n_units_l0: 32\n",
      "    lr: 0.0002611315377064244\n",
      "    n_post_layers: 0\n",
      "    optimizer: Nadam\n",
      "    selection_probabilities_FFNN: 0.5831335834652084\n",
      "    weight_decay: 0.002746074140090206\n",
      "\n",
      "===============> MODEL TESTING\n",
      "AUPRC test score: 0.3348131340411579\n",
      "\n",
      "\n",
      ">>> ITERATION N. 2\n"
     ]
    },
    {
     "name": "stderr",
     "output_type": "stream",
     "text": [
      "/Users/Niki/Prediction-of-Active-and-Inactive-Regulatory-Regions-with-Embracenet-Multimodal-Neural-Network-/BIOINF_tesi/models/utils/training_models_multimodal.py:425: ExperimentalWarning: PatientPruner is experimental (supported from v2.8.0). The interface can change in the future.\n",
      "  pruner=optuna.pruners.PatientPruner(optuna.pruners.MedianPruner(), patience=2),\n",
      "\u001b[32m[I 2021-10-26 09:39:06,800]\u001b[0m Using an existing study with name 'GM12878_active_EP_vs_inactive_rest_EmbraceNetMultimodal_1_2' instead of creating a new one.\u001b[0m\n"
     ]
    },
    {
     "name": "stdout",
     "output_type": "stream",
     "text": [
      "\n",
      "===============> HYPERPARAMETERS TUNING\n",
      "Study statistics: \n",
      "  Number of finished trials:  3\n",
      "  Number of pruned trials:  0\n",
      "  Number of complete trials:  3\n",
      "Best trial:\n",
      "  Value:  0.3246477522910316\n",
      "  Params: \n",
      "    CNN_dropout_l0: 0.4\n",
      "    CNN_dropout_l1: 0\n",
      "    CNN_kernel_size_l0: 11\n",
      "    CNN_kernel_size_l1: 5\n",
      "    CNN_n_layers: 2\n",
      "    CNN_out_channels_l0: 32\n",
      "    CNN_out_channels_l1: 64\n",
      "    EMBRACENET_embracement_size: 1024\n",
      "    FFNN_dropout_l0: 0.0\n",
      "    FFNN_dropout_l1: 0.3\n",
      "    FFNN_dropout_l2: 0.5\n",
      "    FFNN_n_layers: 3\n",
      "    FFNN_n_units_l0: 32\n",
      "    FFNN_n_units_l1: 64\n",
      "    FFNN_n_units_l2: 64\n",
      "    lr: 0.016943564218063267\n",
      "    n_post_layers: 0\n",
      "    optimizer: RMSprop\n",
      "    selection_probabilities_FFNN: 0.666601818322622\n",
      "    weight_decay: 0.0007688497723597969\n",
      "\n",
      "===============> MODEL TESTING\n",
      "AUPRC test score: 0.32828344462203274\n",
      "\n",
      "\n",
      ">>> ITERATION N. 3\n",
      "\n",
      "===============> HYPERPARAMETERS TUNING\n"
     ]
    },
    {
     "name": "stderr",
     "output_type": "stream",
     "text": [
      "/Users/Niki/Prediction-of-Active-and-Inactive-Regulatory-Regions-with-Embracenet-Multimodal-Neural-Network-/BIOINF_tesi/models/utils/training_models_multimodal.py:425: ExperimentalWarning: PatientPruner is experimental (supported from v2.8.0). The interface can change in the future.\n",
      "  pruner=optuna.pruners.PatientPruner(optuna.pruners.MedianPruner(), patience=2),\n",
      "\u001b[32m[I 2021-10-26 09:39:07,387]\u001b[0m Using an existing study with name 'GM12878_active_EP_vs_inactive_rest_EmbraceNetMultimodal_1_2_3' instead of creating a new one.\u001b[0m\n"
     ]
    },
    {
     "name": "stdout",
     "output_type": "stream",
     "text": [
      "Study statistics: \n",
      "  Number of finished trials:  3\n",
      "  Number of pruned trials:  0\n",
      "  Number of complete trials:  3\n",
      "Best trial:\n",
      "  Value:  0.2014166149921121\n",
      "  Params: \n",
      "    CNN_dropout_l0: 0.3\n",
      "    CNN_dropout_l1: 0.5\n",
      "    CNN_dropout_l2: 0.4\n",
      "    CNN_dropout_l3: 0.4\n",
      "    CNN_kernel_size_l0: 11\n",
      "    CNN_kernel_size_l1: 11\n",
      "    CNN_kernel_size_l2: 11\n",
      "    CNN_kernel_size_l3: 15\n",
      "    CNN_n_layers: 4\n",
      "    CNN_out_channels_l0: 16\n",
      "    CNN_out_channels_l1: 64\n",
      "    CNN_out_channels_l2: 256\n",
      "    CNN_out_channels_l3: 128\n",
      "    EMBRACENET_dropout_l0: 0.0\n",
      "    EMBRACENET_dropout_l1: 0.5\n",
      "    EMBRACENET_embracement_size: 512\n",
      "    EMBRACENET_n_units_l0: 256\n",
      "    EMBRACENET_n_units_l1: 64\n",
      "    FFNN_dropout_l0: 0.3\n",
      "    FFNN_dropout_l1: 0.4\n",
      "    FFNN_dropout_l2: 0.5\n",
      "    FFNN_dropout_l3: 0.4\n",
      "    FFNN_n_layers: 4\n",
      "    FFNN_n_units_l0: 64\n",
      "    FFNN_n_units_l1: 32\n",
      "    FFNN_n_units_l2: 32\n",
      "    FFNN_n_units_l3: 16\n",
      "    lr: 3.0744976693111935e-05\n",
      "    n_post_layers: 2\n",
      "    optimizer: Adam\n",
      "    selection_probabilities_FFNN: 0.779615656992273\n",
      "    weight_decay: 0.0014222850586913273\n",
      "\n",
      "===============> MODEL TESTING\n",
      "AUPRC test score: 0.15455256570713397\n",
      "\n",
      "\n",
      "\n",
      "3-FOLD CROSS-VALIDATION AUPRC TEST SCORE: 0.27255\n"
     ]
    }
   ],
   "source": [
    "kf_CV = Kfold_CV_Multimodal()\n",
    "\n",
    "kf_CV(build_dataloader_pipeline = pipe_data_load,\n",
    "                num_epochs = 100,\n",
    "                n_folds=3,\n",
    "                cell_line=cell_line,\n",
    "                augmentation=False,\n",
    "                model = model,\n",
    "                device = device,\n",
    "                task=task,\n",
    "                sampler = 'TPE',\n",
    "                study_name = f'{cell_line}_{task}_{model.__name__}',\n",
    "                test_model_path = f'{cell_line}_{task}_{model.__name__}_TEST')"
   ]
  },
  {
   "cell_type": "code",
   "execution_count": 35,
   "metadata": {},
   "outputs": [],
   "source": [
    "results_dict[cell_line][task][model.__name__] = kf_CV.scores_dict"
   ]
  },
  {
   "cell_type": "code",
   "execution_count": 36,
   "metadata": {},
   "outputs": [],
   "source": [
    "with open ('results_dict.pickle', 'wb') as fout:\n",
    "    pickle.dump(OrderedDict(results_dict), fout)"
   ]
  },
  {
   "cell_type": "markdown",
   "metadata": {},
   "source": [
    "### CONCATNET"
   ]
  },
  {
   "cell_type": "code",
   "execution_count": 15,
   "metadata": {},
   "outputs": [],
   "source": [
    "model=ConcatNetMultimodal"
   ]
  },
  {
   "cell_type": "code",
   "execution_count": null,
   "metadata": {
    "scrolled": true
   },
   "outputs": [
    {
     "name": "stdout",
     "output_type": "stream",
     "text": [
      ">>> ITERATION N. 1\n"
     ]
    },
    {
     "name": "stderr",
     "output_type": "stream",
     "text": [
      "/home/jupyter/Prediction-of-Active-and-Inactive-Regulatory-Regions-with-Embracenet-Multimodal-Neural-Network-/BIOINF_tesi/models/utils/training_models_multimodal.py:425: ExperimentalWarning: PatientPruner is experimental (supported from v2.8.0). The interface can change in the future.\n",
      "  pruner=optuna.pruners.PatientPruner(optuna.pruners.MedianPruner(), patience=2),\n",
      "\u001b[32m[I 2021-10-28 08:09:40,439]\u001b[0m Using an existing study with name 'GM12878_active_EP_vs_inactive_rest_ConcatNetMultimodal_1' instead of creating a new one.\u001b[0m\n"
     ]
    },
    {
     "name": "stdout",
     "output_type": "stream",
     "text": [
      "\n",
      "===============> HYPERPARAMETERS TUNING\n",
      "Study statistics: \n",
      "  Number of finished trials:  3\n",
      "  Number of pruned trials:  0\n",
      "  Number of complete trials:  3\n",
      "Best trial:\n",
      "  Value:  0.32449101101104005\n",
      "  Params: \n",
      "    CNN_dropout_l0: 0.4\n",
      "    CNN_kernel_size_l0: 11\n",
      "    CNN_n_layers: 1\n",
      "    CNN_out_channels_l0: 64\n",
      "    CONCATNET_dropout_l0: 0.3\n",
      "    CONCATNET_dropout_l1: 0.2\n",
      "    CONCATNET_n_post_layers: 2\n",
      "    CONCATNET_n_units_l0: 1024\n",
      "    CONCATNET_n_units_l1: 512\n",
      "    FFNN_dropout_l0: 0.2\n",
      "    FFNN_n_layers: 1\n",
      "    FFNN_n_units_l0: 32\n",
      "    lr: 5.4190802766059764e-05\n",
      "    optimizer: Adam\n",
      "    weight_decay: 0.0014500591114407339\n",
      "\n",
      "===============> MODEL TESTING\n",
      "AUPRC test score: 0.3244852950508097\n",
      "\n",
      "\n"
     ]
    }
   ],
   "source": [
    "kf_CV = Kfold_CV_Multimodal()\n",
    "\n",
    "kf_CV(build_dataloader_pipeline = pipe_data_load,\n",
    "                num_epochs = 100,\n",
    "                n_folds=3,\n",
    "                cell_line=cell_line,\n",
    "                augmentation=False,\n",
    "                model = model,\n",
    "                device = device,\n",
    "                task=task,\n",
    "                sampler = 'TPE',\n",
    "                study_name = f'{cell_line}_{task}_{model.__name__}',\n",
    "                test_model_path = f'{cell_line}_{task}_{model.__name__}_TEST')"
   ]
  },
  {
   "cell_type": "code",
   "execution_count": null,
   "metadata": {},
   "outputs": [],
   "source": [
    "results_dict[cell_line][task][model.__name__] = kf_CV.scores_dict"
   ]
  },
  {
   "cell_type": "code",
   "execution_count": null,
   "metadata": {},
   "outputs": [],
   "source": [
    "with open ('results_dict.pickle', 'wb') as fout:\n",
    "    pickle.dump(OrderedDict(results_dict), fout)"
   ]
  },
  {
   "cell_type": "markdown",
   "metadata": {},
   "source": [
    "---\n",
    "## AUGMENTATION"
   ]
  },
  {
   "cell_type": "markdown",
   "metadata": {},
   "source": [
    "### EMBRACENET"
   ]
  },
  {
   "cell_type": "code",
   "execution_count": 21,
   "metadata": {},
   "outputs": [],
   "source": [
    "model=EmbraceNetMultimodal"
   ]
  },
  {
   "cell_type": "code",
   "execution_count": 22,
   "metadata": {
    "scrolled": true,
    "tags": []
   },
   "outputs": [
    {
     "name": "stdout",
     "output_type": "stream",
     "text": [
      ">>> ITERATION N. 1\n",
      "\n",
      "===============> HYPERPARAMETERS TUNING\n"
     ]
    },
    {
     "name": "stderr",
     "output_type": "stream",
     "text": [
      "/opt/conda/lib/python3.7/site-packages/imblearn/utils/_validation.py:300: UserWarning: After over-sampling, the number of samples (122456) in class 0 will be larger than the number of samples in the majority class (class #0 -> 61228)\n",
      "  f\"After over-sampling, the number of samples ({n_samples})\"\n",
      "/home/jupyter/Prediction-of-Active-and-Inactive-Regulatory-Regions-with-Embracenet-Multimodal-Neural-Network-/BIOINF_tesi/models/utils/training_models_multimodal.py:425: ExperimentalWarning: PatientPruner is experimental (supported from v2.8.0). The interface can change in the future.\n",
      "  pruner=optuna.pruners.PatientPruner(optuna.pruners.MedianPruner(), patience=2),\n",
      "\u001b[32m[I 2021-10-31 09:11:08,211]\u001b[0m Using an existing study with name 'GM12878_active_EP_vs_inactive_rest_EmbraceNetMultimodal_1_augmentation' instead of creating a new one.\u001b[0m\n"
     ]
    },
    {
     "name": "stdout",
     "output_type": "stream",
     "text": [
      "Study statistics: \n",
      "  Number of finished trials:  3\n",
      "  Number of pruned trials:  0\n",
      "  Number of complete trials:  3\n",
      "Best trial:\n",
      "  Value:  0.3227338675636787\n",
      "  Params: \n",
      "    CNN_dropout_l0: 0.2\n",
      "    CNN_dropout_l1: 0.4\n",
      "    CNN_dropout_l2: 0\n",
      "    CNN_kernel_size_l0: 5\n",
      "    CNN_kernel_size_l1: 15\n",
      "    CNN_kernel_size_l2: 11\n",
      "    CNN_n_layers: 3\n",
      "    CNN_out_channels_l0: 32\n",
      "    CNN_out_channels_l1: 64\n",
      "    CNN_out_channels_l2: 64\n",
      "    EMBRACENET_embracement_size: 768\n",
      "    FFNN_dropout_l0: 0.0\n",
      "    FFNN_dropout_l1: 0.3\n",
      "    FFNN_dropout_l2: 0.4\n",
      "    FFNN_n_layers: 3\n",
      "    FFNN_n_units_l0: 128\n",
      "    FFNN_n_units_l1: 128\n",
      "    FFNN_n_units_l2: 4\n",
      "    lr: 0.0009241627898406429\n",
      "    n_post_layers: 0\n",
      "    optimizer: RMSprop\n",
      "    selection_probabilities_FFNN: 0.8674282225472876\n",
      "    weight_decay: 0.0009144381423170731\n",
      "\n",
      "===============> MODEL TESTING\n"
     ]
    },
    {
     "name": "stderr",
     "output_type": "stream",
     "text": [
      "/opt/conda/lib/python3.7/site-packages/imblearn/utils/_validation.py:300: UserWarning: After over-sampling, the number of samples (183720) in class 0 will be larger than the number of samples in the majority class (class #0 -> 91860)\n",
      "  f\"After over-sampling, the number of samples ({n_samples})\"\n"
     ]
    },
    {
     "name": "stdout",
     "output_type": "stream",
     "text": [
      "AUPRC test score: 0.3378884985894605\n",
      "\n",
      "\n",
      ">>> ITERATION N. 2\n",
      "\n",
      "===============> HYPERPARAMETERS TUNING\n"
     ]
    },
    {
     "name": "stderr",
     "output_type": "stream",
     "text": [
      "/opt/conda/lib/python3.7/site-packages/imblearn/utils/_validation.py:300: UserWarning: After over-sampling, the number of samples (122198) in class 0 will be larger than the number of samples in the majority class (class #0 -> 61099)\n",
      "  f\"After over-sampling, the number of samples ({n_samples})\"\n",
      "/home/jupyter/Prediction-of-Active-and-Inactive-Regulatory-Regions-with-Embracenet-Multimodal-Neural-Network-/BIOINF_tesi/models/utils/training_models_multimodal.py:425: ExperimentalWarning: PatientPruner is experimental (supported from v2.8.0). The interface can change in the future.\n",
      "  pruner=optuna.pruners.PatientPruner(optuna.pruners.MedianPruner(), patience=2),\n",
      "\u001b[32m[I 2021-10-31 09:15:22,555]\u001b[0m Using an existing study with name 'GM12878_active_EP_vs_inactive_rest_EmbraceNetMultimodal_1_augmentation_2_augmentation' instead of creating a new one.\u001b[0m\n"
     ]
    },
    {
     "name": "stdout",
     "output_type": "stream",
     "text": [
      "Study statistics: \n",
      "  Number of finished trials:  3\n",
      "  Number of pruned trials:  0\n",
      "  Number of complete trials:  3\n",
      "Best trial:\n",
      "  Value:  0.32939658468716365\n",
      "  Params: \n",
      "    CNN_dropout_l0: 0.3\n",
      "    CNN_kernel_size_l0: 5\n",
      "    CNN_n_layers: 1\n",
      "    CNN_out_channels_l0: 32\n",
      "    EMBRACENET_dropout_l0: 0.0\n",
      "    EMBRACENET_embracement_size: 768\n",
      "    EMBRACENET_n_units_l0: 32\n",
      "    FFNN_dropout_l0: 0.4\n",
      "    FFNN_dropout_l1: 0.3\n",
      "    FFNN_n_layers: 2\n",
      "    FFNN_n_units_l0: 128\n",
      "    FFNN_n_units_l1: 32\n",
      "    lr: 0.003165412708909244\n",
      "    n_post_layers: 1\n",
      "    optimizer: Adam\n",
      "    selection_probabilities_FFNN: 0.886657406241704\n",
      "    weight_decay: 0.00034676141267598443\n",
      "\n",
      "===============> MODEL TESTING\n"
     ]
    },
    {
     "name": "stderr",
     "output_type": "stream",
     "text": [
      "/opt/conda/lib/python3.7/site-packages/imblearn/utils/_validation.py:300: UserWarning: After over-sampling, the number of samples (183326) in class 0 will be larger than the number of samples in the majority class (class #0 -> 91663)\n",
      "  f\"After over-sampling, the number of samples ({n_samples})\"\n"
     ]
    },
    {
     "name": "stdout",
     "output_type": "stream",
     "text": [
      "AUPRC test score: 0.33539746115477914\n",
      "\n",
      "\n",
      ">>> ITERATION N. 3\n",
      "\n",
      "===============> HYPERPARAMETERS TUNING\n"
     ]
    },
    {
     "name": "stderr",
     "output_type": "stream",
     "text": [
      "/opt/conda/lib/python3.7/site-packages/imblearn/utils/_validation.py:300: UserWarning: After over-sampling, the number of samples (122220) in class 0 will be larger than the number of samples in the majority class (class #0 -> 61110)\n",
      "  f\"After over-sampling, the number of samples ({n_samples})\"\n",
      "/home/jupyter/Prediction-of-Active-and-Inactive-Regulatory-Regions-with-Embracenet-Multimodal-Neural-Network-/BIOINF_tesi/models/utils/training_models_multimodal.py:425: ExperimentalWarning: PatientPruner is experimental (supported from v2.8.0). The interface can change in the future.\n",
      "  pruner=optuna.pruners.PatientPruner(optuna.pruners.MedianPruner(), patience=2),\n",
      "\u001b[32m[I 2021-10-31 09:19:49,707]\u001b[0m Using an existing study with name 'GM12878_active_EP_vs_inactive_rest_EmbraceNetMultimodal_1_augmentation_2_augmentation_3_augmentation' instead of creating a new one.\u001b[0m\n"
     ]
    },
    {
     "name": "stdout",
     "output_type": "stream",
     "text": [
      "Study statistics: \n",
      "  Number of finished trials:  3\n",
      "  Number of pruned trials:  0\n",
      "  Number of complete trials:  3\n",
      "Best trial:\n",
      "  Value:  0.28257859765236387\n",
      "  Params: \n",
      "    CNN_dropout_l0: 0\n",
      "    CNN_dropout_l1: 0.4\n",
      "    CNN_kernel_size_l0: 5\n",
      "    CNN_kernel_size_l1: 5\n",
      "    CNN_n_layers: 2\n",
      "    CNN_out_channels_l0: 32\n",
      "    CNN_out_channels_l1: 32\n",
      "    EMBRACENET_embracement_size: 512\n",
      "    FFNN_dropout_l0: 0.4\n",
      "    FFNN_dropout_l1: 0.4\n",
      "    FFNN_n_layers: 2\n",
      "    FFNN_n_units_l0: 32\n",
      "    FFNN_n_units_l1: 16\n",
      "    lr: 0.00035684890050965886\n",
      "    n_post_layers: 0\n",
      "    optimizer: Adam\n",
      "    selection_probabilities_FFNN: 0.165237756745383\n",
      "    weight_decay: 0.0005989069955678149\n",
      "\n",
      "===============> MODEL TESTING\n"
     ]
    },
    {
     "name": "stderr",
     "output_type": "stream",
     "text": [
      "/opt/conda/lib/python3.7/site-packages/imblearn/utils/_validation.py:300: UserWarning: After over-sampling, the number of samples (183118) in class 0 will be larger than the number of samples in the majority class (class #0 -> 91559)\n",
      "  f\"After over-sampling, the number of samples ({n_samples})\"\n"
     ]
    },
    {
     "name": "stdout",
     "output_type": "stream",
     "text": [
      "AUPRC test score: 0.2821148193083256\n",
      "\n",
      "\n",
      "\n",
      "3-FOLD CROSS-VALIDATION AUPRC TEST SCORE: 0.31847\n"
     ]
    }
   ],
   "source": [
    "kf_CV = Kfold_CV_Multimodal()\n",
    "\n",
    "kf_CV(build_dataloader_pipeline = pipe_data_load,\n",
    "                num_epochs = 100,\n",
    "                n_folds=3,\n",
    "                cell_line=cell_line,\n",
    "                augmentation=True,\n",
    "                model = model,\n",
    "                device = device,\n",
    "                task=task,\n",
    "                sampler = 'TPE',\n",
    "                study_name = f'{cell_line}_{task}_{model.__name__}_augmentation',\n",
    "                test_model_path = f'{cell_line}_{task}_{model.__name__}_augmentation_TEST')"
   ]
  },
  {
   "cell_type": "code",
   "execution_count": 23,
   "metadata": {},
   "outputs": [],
   "source": [
    "results_dict[cell_line][task][f'{model.__name__}_augm'] = kf_CV.scores_dict"
   ]
  },
  {
   "cell_type": "code",
   "execution_count": 24,
   "metadata": {},
   "outputs": [],
   "source": [
    "with open ('results_dict.pickle', 'wb') as fout:\n",
    "    pickle.dump(OrderedDict(results_dict), fout)"
   ]
  },
  {
   "cell_type": "markdown",
   "metadata": {},
   "source": [
    "---\n",
    "---"
   ]
  },
  {
   "cell_type": "markdown",
   "metadata": {},
   "source": [
    "## FREEZED LAYERS"
   ]
  },
  {
   "cell_type": "code",
   "execution_count": null,
   "metadata": {},
   "outputs": [],
   "source": [
    "from BIOINF_tesi.models.utils import plot_scores\n",
    "plot_scores(cells=cell_line, models=['EmbraceNetMultimodal'])"
   ]
  },
  {
   "cell_type": "markdown",
   "metadata": {},
   "source": [
    "## NOT FREEZED LAYERS + AUGMENTATION"
   ]
  },
  {
   "cell_type": "code",
   "execution_count": null,
   "metadata": {},
   "outputs": [],
   "source": [
    "from BIOINF_tesi.models.utils import plot_scores\n",
    "plot_scores(cells=cell_line, models=['EmbraceNetMultimodal'])"
   ]
  },
  {
   "cell_type": "code",
   "execution_count": null,
   "metadata": {},
   "outputs": [],
   "source": [
    "plot_scores(cells=cell_line)"
   ]
  },
  {
   "cell_type": "code",
   "execution_count": null,
   "metadata": {},
   "outputs": [],
   "source": []
  }
 ],
 "metadata": {
  "environment": {
   "name": "pytorch-gpu.1-9.m80",
   "type": "gcloud",
   "uri": "gcr.io/deeplearning-platform-release/pytorch-gpu.1-9:m80"
  },
  "kernelspec": {
   "display_name": "Python 3",
   "language": "python",
   "name": "python3"
  },
  "language_info": {
   "codemirror_mode": {
    "name": "ipython",
    "version": 3
   },
   "file_extension": ".py",
   "mimetype": "text/x-python",
   "name": "python",
   "nbconvert_exporter": "python",
   "pygments_lexer": "ipython3",
   "version": "3.8.8"
  }
 },
 "nbformat": 4,
 "nbformat_minor": 4
}
